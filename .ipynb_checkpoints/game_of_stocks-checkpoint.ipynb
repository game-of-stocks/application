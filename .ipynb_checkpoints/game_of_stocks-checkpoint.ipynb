{
 "cells": [
  {
   "cell_type": "markdown",
   "id": "0d0175f9",
   "metadata": {},
   "source": [
    "Placeholder file to for final game application "
   ]
  },
  {
   "cell_type": "markdown",
   "id": "442f3c9b",
   "metadata": {},
   "source": [
    "# Game of Stocks"
   ]
  },
  {
   "cell_type": "code",
   "execution_count": null,
   "id": "1f23427a",
   "metadata": {},
   "outputs": [],
   "source": []
  }
 ],
 "metadata": {
  "kernelspec": {
   "display_name": "python3_data",
   "language": "python",
   "name": "python3_data"
  },
  "language_info": {
   "codemirror_mode": {
    "name": "ipython",
    "version": 3
   },
   "file_extension": ".py",
   "mimetype": "text/x-python",
   "name": "python",
   "nbconvert_exporter": "python",
   "pygments_lexer": "ipython3",
   "version": "3.9.7"
  }
 },
 "nbformat": 4,
 "nbformat_minor": 5
}
