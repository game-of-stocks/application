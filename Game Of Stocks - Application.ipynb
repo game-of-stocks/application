{
 "cells": [
  {
   "cell_type": "code",
   "execution_count": 83,
   "id": "76319276",
   "metadata": {},
   "outputs": [],
   "source": [
    "#packages related to dataframes\n",
    "import pandas as pd\n",
    "import numpy as np\n",
    "from pathlib import Path\n",
    "import csv\n",
    "\n",
    "#package to help convert a stringify array back to array\n",
    "import ast\n",
    "\n",
    "#package needed to assign user a unique id \n",
    "import uuid\n",
    "\n",
    "# Importing helper function from utils folder \n",
    "import sys\n",
    "sys.path.append('Resources/utils')\n",
    "from user_form_intake import inital_user_intake, get_user_inital_input, portfolio_user_intake, get_user_portfolio_input"
   ]
  },
  {
   "cell_type": "markdown",
   "id": "665e32d0",
   "metadata": {},
   "source": [
    "# Grabbing the Data Files "
   ]
  },
  {
   "cell_type": "code",
   "execution_count": 84,
   "id": "b8486b97",
   "metadata": {},
   "outputs": [
    {
     "data": {
      "text/html": [
       "<div>\n",
       "<style scoped>\n",
       "    .dataframe tbody tr th:only-of-type {\n",
       "        vertical-align: middle;\n",
       "    }\n",
       "\n",
       "    .dataframe tbody tr th {\n",
       "        vertical-align: top;\n",
       "    }\n",
       "\n",
       "    .dataframe thead th {\n",
       "        text-align: right;\n",
       "    }\n",
       "</style>\n",
       "<table border=\"1\" class=\"dataframe\">\n",
       "  <thead>\n",
       "    <tr style=\"text-align: right;\">\n",
       "      <th></th>\n",
       "      <th>Company</th>\n",
       "      <th>Ticker</th>\n",
       "      <th>Close_Price</th>\n",
       "      <th>Industry</th>\n",
       "      <th>Sector</th>\n",
       "    </tr>\n",
       "    <tr>\n",
       "      <th>Date</th>\n",
       "      <th></th>\n",
       "      <th></th>\n",
       "      <th></th>\n",
       "      <th></th>\n",
       "      <th></th>\n",
       "    </tr>\n",
       "  </thead>\n",
       "  <tbody>\n",
       "    <tr>\n",
       "      <th>2023-02-01</th>\n",
       "      <td>Apple</td>\n",
       "      <td>AAPL</td>\n",
       "      <td>145.43</td>\n",
       "      <td>Computer Manufacturing</td>\n",
       "      <td>Technology</td>\n",
       "    </tr>\n",
       "    <tr>\n",
       "      <th>2023-02-01</th>\n",
       "      <td>Amazon</td>\n",
       "      <td>AMZN</td>\n",
       "      <td>105.15</td>\n",
       "      <td>Catalog/Specialty Distribution</td>\n",
       "      <td>Consumer Discretionary</td>\n",
       "    </tr>\n",
       "    <tr>\n",
       "      <th>2023-02-01</th>\n",
       "      <td>Nvidia</td>\n",
       "      <td>NVDA</td>\n",
       "      <td>209.43</td>\n",
       "      <td>Semiconductors</td>\n",
       "      <td>Technology</td>\n",
       "    </tr>\n",
       "    <tr>\n",
       "      <th>2023-02-01</th>\n",
       "      <td>Alphabet</td>\n",
       "      <td>GOOGL</td>\n",
       "      <td>100.43</td>\n",
       "      <td>Computer Software: Programming, Data Processing</td>\n",
       "      <td>Technology</td>\n",
       "    </tr>\n",
       "    <tr>\n",
       "      <th>2023-02-01</th>\n",
       "      <td>Meta</td>\n",
       "      <td>META</td>\n",
       "      <td>153.12</td>\n",
       "      <td>Computer Software: Programming, Data Processing</td>\n",
       "      <td>Technology</td>\n",
       "    </tr>\n",
       "  </tbody>\n",
       "</table>\n",
       "</div>"
      ],
      "text/plain": [
       "             Company Ticker  Close_Price  \\\n",
       "Date                                       \n",
       "2023-02-01     Apple   AAPL       145.43   \n",
       "2023-02-01    Amazon   AMZN       105.15   \n",
       "2023-02-01    Nvidia   NVDA       209.43   \n",
       "2023-02-01  Alphabet  GOOGL       100.43   \n",
       "2023-02-01      Meta   META       153.12   \n",
       "\n",
       "                                                   Industry  \\\n",
       "Date                                                          \n",
       "2023-02-01                           Computer Manufacturing   \n",
       "2023-02-01                   Catalog/Specialty Distribution   \n",
       "2023-02-01                                   Semiconductors   \n",
       "2023-02-01  Computer Software: Programming, Data Processing   \n",
       "2023-02-01  Computer Software: Programming, Data Processing   \n",
       "\n",
       "                            Sector  \n",
       "Date                                \n",
       "2023-02-01              Technology  \n",
       "2023-02-01  Consumer Discretionary  \n",
       "2023-02-01              Technology  \n",
       "2023-02-01              Technology  \n",
       "2023-02-01              Technology  "
      ]
     },
     "execution_count": 84,
     "metadata": {},
     "output_type": "execute_result"
    }
   ],
   "source": [
    "#Grabing the raw stock data and putting in dataframe\n",
    "raw_stocks_data_to_load =  Path(\"Resources/Data/Stock_Index_Raw_Data.csv\")\n",
    "raw_stocks_data_df = pd.read_csv(raw_stocks_data_to_load, header=0, parse_dates=True, index_col=\"Date\", infer_datetime_format=True)\n",
    "raw_stocks_data_df.sort_index(ascending = True, inplace = True)\n",
    "raw_stocks_data_df.head()"
   ]
  },
  {
   "cell_type": "code",
   "execution_count": 85,
   "id": "43c31df6",
   "metadata": {},
   "outputs": [
    {
     "data": {
      "text/html": [
       "<div>\n",
       "<style scoped>\n",
       "    .dataframe tbody tr th:only-of-type {\n",
       "        vertical-align: middle;\n",
       "    }\n",
       "\n",
       "    .dataframe tbody tr th {\n",
       "        vertical-align: top;\n",
       "    }\n",
       "\n",
       "    .dataframe thead th {\n",
       "        text-align: right;\n",
       "    }\n",
       "</style>\n",
       "<table border=\"1\" class=\"dataframe\">\n",
       "  <thead>\n",
       "    <tr style=\"text-align: right;\">\n",
       "      <th></th>\n",
       "      <th>UUID</th>\n",
       "      <th>User_Name</th>\n",
       "      <th>Sharpe_Ratio</th>\n",
       "      <th>Stocks</th>\n",
       "    </tr>\n",
       "  </thead>\n",
       "  <tbody>\n",
       "    <tr>\n",
       "      <th>0</th>\n",
       "      <td>85c7d8c0-c991-4824-8f4d-37535e5851bc</td>\n",
       "      <td>John</td>\n",
       "      <td>3.540897</td>\n",
       "      <td>['AAPL', 'AVGO', 'UNH', 'NVDA', 'V']</td>\n",
       "    </tr>\n",
       "    <tr>\n",
       "      <th>1</th>\n",
       "      <td>9911f3d6-2a1e-4956-b676-d14ddd12fe0e</td>\n",
       "      <td>alex_1</td>\n",
       "      <td>3.412431</td>\n",
       "      <td>['NVDA', 'AMZN', 'AAPL', 'MSFT']</td>\n",
       "    </tr>\n",
       "    <tr>\n",
       "      <th>2</th>\n",
       "      <td>bc01be19-a9c1-420f-837d-00e2cc6ede4a</td>\n",
       "      <td>Gaby</td>\n",
       "      <td>3.396183</td>\n",
       "      <td>['AVGO', 'TSLA', 'NVDA']</td>\n",
       "    </tr>\n",
       "    <tr>\n",
       "      <th>3</th>\n",
       "      <td>e4711fdc-8d44-4216-8e96-9df557127e8f</td>\n",
       "      <td>Gaby</td>\n",
       "      <td>3.396183</td>\n",
       "      <td>['AVGO', 'TSLA', 'NVDA']</td>\n",
       "    </tr>\n",
       "    <tr>\n",
       "      <th>4</th>\n",
       "      <td>866a252f-1fe7-4a3c-859f-ea1eb81f9348</td>\n",
       "      <td>Amy</td>\n",
       "      <td>3.296707</td>\n",
       "      <td>['BRK.B', 'AAPL', 'XOM', 'MSFT', 'META']</td>\n",
       "    </tr>\n",
       "  </tbody>\n",
       "</table>\n",
       "</div>"
      ],
      "text/plain": [
       "                                   UUID User_Name  Sharpe_Ratio  \\\n",
       "0  85c7d8c0-c991-4824-8f4d-37535e5851bc     John       3.540897   \n",
       "1  9911f3d6-2a1e-4956-b676-d14ddd12fe0e    alex_1      3.412431   \n",
       "2  bc01be19-a9c1-420f-837d-00e2cc6ede4a      Gaby      3.396183   \n",
       "3  e4711fdc-8d44-4216-8e96-9df557127e8f      Gaby      3.396183   \n",
       "4  866a252f-1fe7-4a3c-859f-ea1eb81f9348      Amy       3.296707   \n",
       "\n",
       "                                     Stocks  \n",
       "0      ['AAPL', 'AVGO', 'UNH', 'NVDA', 'V']  \n",
       "1          ['NVDA', 'AMZN', 'AAPL', 'MSFT']  \n",
       "2                  ['AVGO', 'TSLA', 'NVDA']  \n",
       "3                  ['AVGO', 'TSLA', 'NVDA']  \n",
       "4  ['BRK.B', 'AAPL', 'XOM', 'MSFT', 'META']  "
      ]
     },
     "execution_count": 85,
     "metadata": {},
     "output_type": "execute_result"
    }
   ],
   "source": [
    "#Grabing the raw stock data and putting in dataframe\n",
    "user_data_to_load =  Path(\"Resources/Data/User_Portfolio_Data.csv\")\n",
    "user_data_df = pd.read_csv(user_data_to_load, header=0, parse_dates=True)\n",
    "user_data_df.sort_index(ascending = True, inplace = True)\n",
    "user_data_df.head()"
   ]
  },
  {
   "cell_type": "markdown",
   "id": "ebc9d162",
   "metadata": {},
   "source": [
    "# User Input for Game of Stocks"
   ]
  },
  {
   "cell_type": "code",
   "execution_count": 86,
   "id": "a9e4c9d4",
   "metadata": {},
   "outputs": [
    {
     "name": "stdout",
     "output_type": "stream",
     "text": [
      "Welcome to the Game of Stocks! You will be asked a series of questions to get started. \n",
      "    You can choose up to 10 stickes to create portfolio. Remember to diversify your portfolio.   \n"
     ]
    },
    {
     "data": {
      "application/vnd.jupyter.widget-view+json": {
       "model_id": "28090b4a2b7b4fd6ace0ddad0727ff55",
       "version_major": 2,
       "version_minor": 0
      },
      "text/plain": [
       "Textarea(value='Input your name', description='First Name:', placeholder='Type something')"
      ]
     },
     "metadata": {},
     "output_type": "display_data"
    },
    {
     "data": {
      "application/vnd.jupyter.widget-view+json": {
       "model_id": "5c47095cfb754b0787090cf4e776820d",
       "version_major": 2,
       "version_minor": 0
      },
      "text/plain": [
       "Dropdown(description='Amount', index=10, options=(1, 2, 3, 4, 5, 6, 7, 8, 9, 10, 'Choose Stock Amount:'), valu…"
      ]
     },
     "metadata": {},
     "output_type": "display_data"
    },
    {
     "data": {
      "application/vnd.jupyter.widget-view+json": {
       "model_id": "c8040a772bb94dcf8399335d949b19d8",
       "version_major": 2,
       "version_minor": 0
      },
      "text/plain": [
       "Button(description='Submit', style=ButtonStyle())"
      ]
     },
     "metadata": {},
     "output_type": "display_data"
    }
   ],
   "source": [
    "# Invoking the user intake form 1. It will store the information in the following variables so it can be used in notebook later.\n",
    "\n",
    "inital_user_intake()"
   ]
  },
  {
   "cell_type": "code",
   "execution_count": 87,
   "id": "c9bdeb87",
   "metadata": {},
   "outputs": [],
   "source": [
    "# Getting the form values that was store in name, num_of_stocks_choosen \n",
    "name, num_of_stocks_choosen = get_user_inital_input()"
   ]
  },
  {
   "cell_type": "code",
   "execution_count": 88,
   "id": "ce4591c9",
   "metadata": {},
   "outputs": [
    {
     "data": {
      "application/vnd.jupyter.widget-view+json": {
       "model_id": "4f467201b9a544f682b89de39adbde10",
       "version_major": 2,
       "version_minor": 0
      },
      "text/plain": [
       "Dropdown(description='Stock 1:', options=('', 'Apple (AAPL) - Computer Manufacturing', 'Microsoft (MSFT) - Com…"
      ]
     },
     "metadata": {},
     "output_type": "display_data"
    },
    {
     "data": {
      "application/vnd.jupyter.widget-view+json": {
       "model_id": "7e5b3b46b98041a6a2e158bf61173443",
       "version_major": 2,
       "version_minor": 0
      },
      "text/plain": [
       "Dropdown(description='Stock 2:', options=('', 'Apple (AAPL) - Computer Manufacturing', 'Microsoft (MSFT) - Com…"
      ]
     },
     "metadata": {},
     "output_type": "display_data"
    },
    {
     "data": {
      "application/vnd.jupyter.widget-view+json": {
       "model_id": "14d5ba0f32bf48449fd27a3daa55d187",
       "version_major": 2,
       "version_minor": 0
      },
      "text/plain": [
       "Dropdown(description='Stock 3:', options=('', 'Apple (AAPL) - Computer Manufacturing', 'Microsoft (MSFT) - Com…"
      ]
     },
     "metadata": {},
     "output_type": "display_data"
    },
    {
     "data": {
      "application/vnd.jupyter.widget-view+json": {
       "model_id": "95dcd170fc5a4ef7a2e6ac5f19e7b09c",
       "version_major": 2,
       "version_minor": 0
      },
      "text/plain": [
       "Button(description='Submit', style=ButtonStyle())"
      ]
     },
     "metadata": {},
     "output_type": "display_data"
    }
   ],
   "source": [
    "# Invoking function to output dropdown for the stock selection for the number of stocks user selected in their intake form\n",
    "\n",
    "portfolio_user_intake(num_of_stocks_choosen)"
   ]
  },
  {
   "cell_type": "code",
   "execution_count": 89,
   "id": "27a42309",
   "metadata": {},
   "outputs": [
    {
     "data": {
      "text/plain": [
       "['TSLA', 'JNJ', 'AMZN']"
      ]
     },
     "execution_count": 89,
     "metadata": {},
     "output_type": "execute_result"
    }
   ],
   "source": [
    "# getting the user chosen portfolio\n",
    "unique_user_portfolio_array = get_user_portfolio_input()\n",
    "\n",
    "unique_user_portfolio_array"
   ]
  },
  {
   "cell_type": "code",
   "execution_count": 90,
   "id": "7cde4d83",
   "metadata": {},
   "outputs": [
    {
     "data": {
      "text/plain": [
       "0.33333"
      ]
     },
     "execution_count": 90,
     "metadata": {},
     "output_type": "execute_result"
    }
   ],
   "source": [
    "#calculating individual weights since we will assume it will be evenly split\n",
    "weight = round((1/len(unique_user_portfolio_array)),5)\n",
    "\n",
    "weight"
   ]
  },
  {
   "cell_type": "code",
   "execution_count": 91,
   "id": "cc8eb57c",
   "metadata": {},
   "outputs": [
    {
     "data": {
      "text/plain": [
       "[0.33333, 0.33333, 0.33333]"
      ]
     },
     "execution_count": 91,
     "metadata": {},
     "output_type": "execute_result"
    }
   ],
   "source": [
    "#creating the weight array to apply to stocks\n",
    "weight_array = [weight] * len(unique_user_portfolio_array)\n",
    "weight_array"
   ]
  },
  {
   "cell_type": "markdown",
   "id": "5f190bb3",
   "metadata": {},
   "source": [
    "# User Portfolio Calculations "
   ]
  },
  {
   "cell_type": "code",
   "execution_count": 92,
   "id": "448f099f",
   "metadata": {},
   "outputs": [
    {
     "data": {
      "text/html": [
       "<div>\n",
       "<style scoped>\n",
       "    .dataframe tbody tr th:only-of-type {\n",
       "        vertical-align: middle;\n",
       "    }\n",
       "\n",
       "    .dataframe tbody tr th {\n",
       "        vertical-align: top;\n",
       "    }\n",
       "\n",
       "    .dataframe thead th {\n",
       "        text-align: right;\n",
       "    }\n",
       "</style>\n",
       "<table border=\"1\" class=\"dataframe\">\n",
       "  <thead>\n",
       "    <tr style=\"text-align: right;\">\n",
       "      <th>Ticker</th>\n",
       "      <th>AMZN</th>\n",
       "      <th>JNJ</th>\n",
       "      <th>TSLA</th>\n",
       "    </tr>\n",
       "    <tr>\n",
       "      <th>Date</th>\n",
       "      <th></th>\n",
       "      <th></th>\n",
       "      <th></th>\n",
       "    </tr>\n",
       "  </thead>\n",
       "  <tbody>\n",
       "    <tr>\n",
       "      <th>2023-02-02</th>\n",
       "      <td>0.073799</td>\n",
       "      <td>0.003759</td>\n",
       "      <td>0.037815</td>\n",
       "    </tr>\n",
       "    <tr>\n",
       "      <th>2023-02-03</th>\n",
       "      <td>-0.084315</td>\n",
       "      <td>-0.005618</td>\n",
       "      <td>0.009083</td>\n",
       "    </tr>\n",
       "    <tr>\n",
       "      <th>2023-02-06</th>\n",
       "      <td>-0.011703</td>\n",
       "      <td>-0.007594</td>\n",
       "      <td>0.025161</td>\n",
       "    </tr>\n",
       "    <tr>\n",
       "      <th>2023-02-07</th>\n",
       "      <td>-0.000685</td>\n",
       "      <td>0.000245</td>\n",
       "      <td>0.010526</td>\n",
       "    </tr>\n",
       "    <tr>\n",
       "      <th>2023-02-08</th>\n",
       "      <td>-0.020174</td>\n",
       "      <td>0.001285</td>\n",
       "      <td>0.022763</td>\n",
       "    </tr>\n",
       "  </tbody>\n",
       "</table>\n",
       "</div>"
      ],
      "text/plain": [
       "Ticker          AMZN       JNJ      TSLA\n",
       "Date                                    \n",
       "2023-02-02  0.073799  0.003759  0.037815\n",
       "2023-02-03 -0.084315 -0.005618  0.009083\n",
       "2023-02-06 -0.011703 -0.007594  0.025161\n",
       "2023-02-07 -0.000685  0.000245  0.010526\n",
       "2023-02-08 -0.020174  0.001285  0.022763"
      ]
     },
     "execution_count": 92,
     "metadata": {},
     "output_type": "execute_result"
    }
   ],
   "source": [
    "# Get data from file for tickers in unique_user_portfolio_array using \".loc\" and \".isin\"\n",
    "portfolio_returns = raw_stocks_data_df.loc[raw_stocks_data_df[\"Ticker\"].isin(unique_user_portfolio_array)]\n",
    "\n",
    "# Filter columns to get only the Ticker and Close Price and drop null values\n",
    "portfolio_returns= portfolio_returns[[\"Ticker\",\"Close_Price\"]].dropna()\n",
    "\n",
    "# Set tickers as columns\n",
    "portfolio_returns= portfolio_returns.pivot_table(\"Close_Price\",\"Date\",\"Ticker\")\n",
    "\n",
    "# Calculate daily returns using \"pct_change\" and drop null values \n",
    "portfolio_returns = portfolio_returns.pct_change().dropna()\n",
    "\n",
    "# Display data\n",
    "portfolio_returns.head()"
   ]
  },
  {
   "cell_type": "code",
   "execution_count": 93,
   "id": "4a6dc3b0",
   "metadata": {},
   "outputs": [
    {
     "data": {
      "text/html": [
       "<div>\n",
       "<style scoped>\n",
       "    .dataframe tbody tr th:only-of-type {\n",
       "        vertical-align: middle;\n",
       "    }\n",
       "\n",
       "    .dataframe tbody tr th {\n",
       "        vertical-align: top;\n",
       "    }\n",
       "\n",
       "    .dataframe thead th {\n",
       "        text-align: right;\n",
       "    }\n",
       "</style>\n",
       "<table border=\"1\" class=\"dataframe\">\n",
       "  <thead>\n",
       "    <tr style=\"text-align: right;\">\n",
       "      <th>Ticker</th>\n",
       "      <th>AMZN</th>\n",
       "      <th>JNJ</th>\n",
       "      <th>TSLA</th>\n",
       "      <th>Elisa's Portfolio</th>\n",
       "    </tr>\n",
       "    <tr>\n",
       "      <th>Date</th>\n",
       "      <th></th>\n",
       "      <th></th>\n",
       "      <th></th>\n",
       "      <th></th>\n",
       "    </tr>\n",
       "  </thead>\n",
       "  <tbody>\n",
       "    <tr>\n",
       "      <th>2023-02-02</th>\n",
       "      <td>0.073799</td>\n",
       "      <td>0.003759</td>\n",
       "      <td>0.037815</td>\n",
       "      <td>0.038457</td>\n",
       "    </tr>\n",
       "    <tr>\n",
       "      <th>2023-02-03</th>\n",
       "      <td>-0.084315</td>\n",
       "      <td>-0.005618</td>\n",
       "      <td>0.009083</td>\n",
       "      <td>-0.026950</td>\n",
       "    </tr>\n",
       "    <tr>\n",
       "      <th>2023-02-06</th>\n",
       "      <td>-0.011703</td>\n",
       "      <td>-0.007594</td>\n",
       "      <td>0.025161</td>\n",
       "      <td>0.001955</td>\n",
       "    </tr>\n",
       "    <tr>\n",
       "      <th>2023-02-07</th>\n",
       "      <td>-0.000685</td>\n",
       "      <td>0.000245</td>\n",
       "      <td>0.010526</td>\n",
       "      <td>0.003362</td>\n",
       "    </tr>\n",
       "    <tr>\n",
       "      <th>2023-02-08</th>\n",
       "      <td>-0.020174</td>\n",
       "      <td>0.001285</td>\n",
       "      <td>0.022763</td>\n",
       "      <td>0.001291</td>\n",
       "    </tr>\n",
       "  </tbody>\n",
       "</table>\n",
       "</div>"
      ],
      "text/plain": [
       "Ticker          AMZN       JNJ      TSLA  Elisa's Portfolio\n",
       "Date                                                       \n",
       "2023-02-02  0.073799  0.003759  0.037815           0.038457\n",
       "2023-02-03 -0.084315 -0.005618  0.009083          -0.026950\n",
       "2023-02-06 -0.011703 -0.007594  0.025161           0.001955\n",
       "2023-02-07 -0.000685  0.000245  0.010526           0.003362\n",
       "2023-02-08 -0.020174  0.001285  0.022763           0.001291"
      ]
     },
     "execution_count": 93,
     "metadata": {},
     "output_type": "execute_result"
    }
   ],
   "source": [
    "# Create portfolio variable in dataframe with weights using \".dot\" and name column with the users name\n",
    "user_name = name\n",
    "portfolio_returns[f\"{user_name}'s Portfolio\"] = portfolio_returns.dot(weight_array)\n",
    "portfolio_returns.head()"
   ]
  },
  {
   "cell_type": "code",
   "execution_count": 94,
   "id": "fadd056c-4286-4596-871e-d0a4848384f7",
   "metadata": {},
   "outputs": [
    {
     "data": {
      "text/plain": [
       "2.0949753284821355"
      ]
     },
     "execution_count": 94,
     "metadata": {},
     "output_type": "execute_result"
    }
   ],
   "source": [
    "# use to store in user portfolio table \n",
    "user_sharpe_ratio= (portfolio_returns[f\"{user_name}'s Portfolio\"].mean() * (252)) / (portfolio_returns[f\"{user_name}'s Portfolio\"].std() * np.sqrt(252))\n",
    "user_sharpe_ratio"
   ]
  },
  {
   "cell_type": "markdown",
   "id": "34d5bb8e",
   "metadata": {},
   "source": [
    "# Storing User Info In User Portfolio CSV and Updating The Rank "
   ]
  },
  {
   "cell_type": "code",
   "execution_count": 95,
   "id": "d5e2ed73",
   "metadata": {},
   "outputs": [
    {
     "name": "stdout",
     "output_type": "stream",
     "text": [
      "UUID as string: 6ff241a6-4dd7-4ed4-a2e7-d6248135f167\n"
     ]
    }
   ],
   "source": [
    "#getting a uuid \n",
    "unique_id = uuid.uuid4()\n",
    "\n",
    "#converting uuid to string so it can store as a string in csv and easier to use loc\n",
    "user_uuid_str = str(unique_id)\n",
    "print(\"UUID as string:\", user_uuid_str)"
   ]
  },
  {
   "cell_type": "code",
   "execution_count": 96,
   "id": "605bf17b",
   "metadata": {},
   "outputs": [],
   "source": [
    "# Create a list of dictionaries (each dictionary represents a row of data)\n",
    "user_data = [{'UUID': user_uuid_str,\n",
    "              'User_Name': name,\n",
    "              'Sharpe_Ratio': user_sharpe_ratio,\n",
    "              'Stocks': f'{unique_user_portfolio_array}'}]\n",
    "\n",
    "# Create the DataFrame from the list of dictionaries\n",
    "user_portfolio_df = pd.DataFrame(user_data)"
   ]
  },
  {
   "cell_type": "code",
   "execution_count": 97,
   "id": "59f91a42",
   "metadata": {},
   "outputs": [
    {
     "name": "stdout",
     "output_type": "stream",
     "text": [
      "New User row added to the User User_Portfolio_Data.csv file. The following was added:\n"
     ]
    },
    {
     "data": {
      "text/html": [
       "<div>\n",
       "<style scoped>\n",
       "    .dataframe tbody tr th:only-of-type {\n",
       "        vertical-align: middle;\n",
       "    }\n",
       "\n",
       "    .dataframe tbody tr th {\n",
       "        vertical-align: top;\n",
       "    }\n",
       "\n",
       "    .dataframe thead th {\n",
       "        text-align: right;\n",
       "    }\n",
       "</style>\n",
       "<table border=\"1\" class=\"dataframe\">\n",
       "  <thead>\n",
       "    <tr style=\"text-align: right;\">\n",
       "      <th></th>\n",
       "      <th>UUID</th>\n",
       "      <th>User_Name</th>\n",
       "      <th>Sharpe_Ratio</th>\n",
       "      <th>Stocks</th>\n",
       "    </tr>\n",
       "  </thead>\n",
       "  <tbody>\n",
       "    <tr>\n",
       "      <th>0</th>\n",
       "      <td>6ff241a6-4dd7-4ed4-a2e7-d6248135f167</td>\n",
       "      <td>Elisa</td>\n",
       "      <td>2.094975</td>\n",
       "      <td>['TSLA', 'JNJ', 'AMZN']</td>\n",
       "    </tr>\n",
       "  </tbody>\n",
       "</table>\n",
       "</div>"
      ],
      "text/plain": [
       "                                   UUID User_Name  Sharpe_Ratio  \\\n",
       "0  6ff241a6-4dd7-4ed4-a2e7-d6248135f167     Elisa      2.094975   \n",
       "\n",
       "                    Stocks  \n",
       "0  ['TSLA', 'JNJ', 'AMZN']  "
      ]
     },
     "metadata": {},
     "output_type": "display_data"
    }
   ],
   "source": [
    "# Append the new row to the DataFrame\n",
    "# user_data_df = user_data_df.append(user_data, ignore_index=True)\n",
    "\n",
    "# Concatenate the original DataFrame and the new row DataFrame\n",
    "user_data_df = pd.concat([user_data_df, user_portfolio_df], ignore_index=True)\n",
    "\n",
    "# Write the updated DataFrame back to the CSV file\n",
    "user_data_df.to_csv(user_data_to_load, index=False)\n",
    "\n",
    "#Print so user can see what was added \n",
    "print(\"New User row added to the User User_Portfolio_Data.csv file. The following was added:\")\n",
    "display(user_portfolio_df)"
   ]
  },
  {
   "cell_type": "markdown",
   "id": "2018ae55",
   "metadata": {},
   "source": [
    "# TOP 5 users BEFORE the rank is updated "
   ]
  },
  {
   "cell_type": "code",
   "execution_count": 98,
   "id": "7c2fe3ce",
   "metadata": {},
   "outputs": [
    {
     "data": {
      "text/html": [
       "<div>\n",
       "<style scoped>\n",
       "    .dataframe tbody tr th:only-of-type {\n",
       "        vertical-align: middle;\n",
       "    }\n",
       "\n",
       "    .dataframe tbody tr th {\n",
       "        vertical-align: top;\n",
       "    }\n",
       "\n",
       "    .dataframe thead th {\n",
       "        text-align: right;\n",
       "    }\n",
       "</style>\n",
       "<table border=\"1\" class=\"dataframe\">\n",
       "  <thead>\n",
       "    <tr style=\"text-align: right;\">\n",
       "      <th></th>\n",
       "      <th>UUID</th>\n",
       "      <th>User_Name</th>\n",
       "      <th>Sharpe_Ratio</th>\n",
       "      <th>Stocks</th>\n",
       "    </tr>\n",
       "  </thead>\n",
       "  <tbody>\n",
       "    <tr>\n",
       "      <th>0</th>\n",
       "      <td>85c7d8c0-c991-4824-8f4d-37535e5851bc</td>\n",
       "      <td>John</td>\n",
       "      <td>3.540897</td>\n",
       "      <td>['AAPL', 'AVGO', 'UNH', 'NVDA', 'V']</td>\n",
       "    </tr>\n",
       "    <tr>\n",
       "      <th>1</th>\n",
       "      <td>9911f3d6-2a1e-4956-b676-d14ddd12fe0e</td>\n",
       "      <td>alex_1</td>\n",
       "      <td>3.412431</td>\n",
       "      <td>['NVDA', 'AMZN', 'AAPL', 'MSFT']</td>\n",
       "    </tr>\n",
       "    <tr>\n",
       "      <th>2</th>\n",
       "      <td>bc01be19-a9c1-420f-837d-00e2cc6ede4a</td>\n",
       "      <td>Gaby</td>\n",
       "      <td>3.396183</td>\n",
       "      <td>['AVGO', 'TSLA', 'NVDA']</td>\n",
       "    </tr>\n",
       "    <tr>\n",
       "      <th>3</th>\n",
       "      <td>e4711fdc-8d44-4216-8e96-9df557127e8f</td>\n",
       "      <td>Gaby</td>\n",
       "      <td>3.396183</td>\n",
       "      <td>['AVGO', 'TSLA', 'NVDA']</td>\n",
       "    </tr>\n",
       "    <tr>\n",
       "      <th>4</th>\n",
       "      <td>866a252f-1fe7-4a3c-859f-ea1eb81f9348</td>\n",
       "      <td>Amy</td>\n",
       "      <td>3.296707</td>\n",
       "      <td>['BRK.B', 'AAPL', 'XOM', 'MSFT', 'META']</td>\n",
       "    </tr>\n",
       "  </tbody>\n",
       "</table>\n",
       "</div>"
      ],
      "text/plain": [
       "                                   UUID User_Name  Sharpe_Ratio  \\\n",
       "0  85c7d8c0-c991-4824-8f4d-37535e5851bc     John       3.540897   \n",
       "1  9911f3d6-2a1e-4956-b676-d14ddd12fe0e    alex_1      3.412431   \n",
       "2  bc01be19-a9c1-420f-837d-00e2cc6ede4a      Gaby      3.396183   \n",
       "3  e4711fdc-8d44-4216-8e96-9df557127e8f      Gaby      3.396183   \n",
       "4  866a252f-1fe7-4a3c-859f-ea1eb81f9348      Amy       3.296707   \n",
       "\n",
       "                                     Stocks  \n",
       "0      ['AAPL', 'AVGO', 'UNH', 'NVDA', 'V']  \n",
       "1          ['NVDA', 'AMZN', 'AAPL', 'MSFT']  \n",
       "2                  ['AVGO', 'TSLA', 'NVDA']  \n",
       "3                  ['AVGO', 'TSLA', 'NVDA']  \n",
       "4  ['BRK.B', 'AAPL', 'XOM', 'MSFT', 'META']  "
      ]
     },
     "execution_count": 98,
     "metadata": {},
     "output_type": "execute_result"
    }
   ],
   "source": [
    "user_data_df.head()"
   ]
  },
  {
   "cell_type": "code",
   "execution_count": 99,
   "id": "f82a7886",
   "metadata": {},
   "outputs": [],
   "source": [
    "#Sort user portfolio table to get new ranking. Sort by descending since higher sharpe ratio the better \n",
    "sorted_user_data_df = user_data_df.sort_values(by='Sharpe_Ratio', ascending=False)"
   ]
  },
  {
   "cell_type": "markdown",
   "id": "5c2da0e2",
   "metadata": {},
   "source": [
    "# TOP 5 Players AFTER Rank is Updated"
   ]
  },
  {
   "cell_type": "code",
   "execution_count": 100,
   "id": "98ae0859",
   "metadata": {},
   "outputs": [
    {
     "data": {
      "text/html": [
       "<div>\n",
       "<style scoped>\n",
       "    .dataframe tbody tr th:only-of-type {\n",
       "        vertical-align: middle;\n",
       "    }\n",
       "\n",
       "    .dataframe tbody tr th {\n",
       "        vertical-align: top;\n",
       "    }\n",
       "\n",
       "    .dataframe thead th {\n",
       "        text-align: right;\n",
       "    }\n",
       "</style>\n",
       "<table border=\"1\" class=\"dataframe\">\n",
       "  <thead>\n",
       "    <tr style=\"text-align: right;\">\n",
       "      <th></th>\n",
       "      <th>UUID</th>\n",
       "      <th>User_Name</th>\n",
       "      <th>Sharpe_Ratio</th>\n",
       "      <th>Stocks</th>\n",
       "    </tr>\n",
       "  </thead>\n",
       "  <tbody>\n",
       "    <tr>\n",
       "      <th>0</th>\n",
       "      <td>85c7d8c0-c991-4824-8f4d-37535e5851bc</td>\n",
       "      <td>John</td>\n",
       "      <td>3.540897</td>\n",
       "      <td>['AAPL', 'AVGO', 'UNH', 'NVDA', 'V']</td>\n",
       "    </tr>\n",
       "    <tr>\n",
       "      <th>1</th>\n",
       "      <td>9911f3d6-2a1e-4956-b676-d14ddd12fe0e</td>\n",
       "      <td>alex_1</td>\n",
       "      <td>3.412431</td>\n",
       "      <td>['NVDA', 'AMZN', 'AAPL', 'MSFT']</td>\n",
       "    </tr>\n",
       "    <tr>\n",
       "      <th>2</th>\n",
       "      <td>bc01be19-a9c1-420f-837d-00e2cc6ede4a</td>\n",
       "      <td>Gaby</td>\n",
       "      <td>3.396183</td>\n",
       "      <td>['AVGO', 'TSLA', 'NVDA']</td>\n",
       "    </tr>\n",
       "    <tr>\n",
       "      <th>3</th>\n",
       "      <td>e4711fdc-8d44-4216-8e96-9df557127e8f</td>\n",
       "      <td>Gaby</td>\n",
       "      <td>3.396183</td>\n",
       "      <td>['AVGO', 'TSLA', 'NVDA']</td>\n",
       "    </tr>\n",
       "    <tr>\n",
       "      <th>4</th>\n",
       "      <td>866a252f-1fe7-4a3c-859f-ea1eb81f9348</td>\n",
       "      <td>Amy</td>\n",
       "      <td>3.296707</td>\n",
       "      <td>['BRK.B', 'AAPL', 'XOM', 'MSFT', 'META']</td>\n",
       "    </tr>\n",
       "  </tbody>\n",
       "</table>\n",
       "</div>"
      ],
      "text/plain": [
       "                                   UUID User_Name  Sharpe_Ratio  \\\n",
       "0  85c7d8c0-c991-4824-8f4d-37535e5851bc     John       3.540897   \n",
       "1  9911f3d6-2a1e-4956-b676-d14ddd12fe0e    alex_1      3.412431   \n",
       "2  bc01be19-a9c1-420f-837d-00e2cc6ede4a      Gaby      3.396183   \n",
       "3  e4711fdc-8d44-4216-8e96-9df557127e8f      Gaby      3.396183   \n",
       "4  866a252f-1fe7-4a3c-859f-ea1eb81f9348      Amy       3.296707   \n",
       "\n",
       "                                     Stocks  \n",
       "0      ['AAPL', 'AVGO', 'UNH', 'NVDA', 'V']  \n",
       "1          ['NVDA', 'AMZN', 'AAPL', 'MSFT']  \n",
       "2                  ['AVGO', 'TSLA', 'NVDA']  \n",
       "3                  ['AVGO', 'TSLA', 'NVDA']  \n",
       "4  ['BRK.B', 'AAPL', 'XOM', 'MSFT', 'META']  "
      ]
     },
     "execution_count": 100,
     "metadata": {},
     "output_type": "execute_result"
    }
   ],
   "source": [
    "sorted_user_data_df.head()"
   ]
  },
  {
   "cell_type": "code",
   "execution_count": 101,
   "id": "3a87a2e1",
   "metadata": {},
   "outputs": [],
   "source": [
    "#Save new rank to user User_Portfolio_Data.csv Write the updated DataFrame back to the CSV file\n",
    "\n",
    "sorted_user_data_df.to_csv(user_data_to_load, index=False)\n",
    "\n",
    "#have to re-import the user portfolio data to get updated sorted list \n",
    "user_data_df = pd.read_csv(user_data_to_load, header=0, parse_dates=True)\n",
    "user_data_df.sort_index(ascending = True, inplace = True)"
   ]
  },
  {
   "cell_type": "code",
   "execution_count": 78,
   "id": "d734c7aa",
   "metadata": {},
   "outputs": [
    {
     "data": {
      "text/html": [
       "<div>\n",
       "<style scoped>\n",
       "    .dataframe tbody tr th:only-of-type {\n",
       "        vertical-align: middle;\n",
       "    }\n",
       "\n",
       "    .dataframe tbody tr th {\n",
       "        vertical-align: top;\n",
       "    }\n",
       "\n",
       "    .dataframe thead th {\n",
       "        text-align: right;\n",
       "    }\n",
       "</style>\n",
       "<table border=\"1\" class=\"dataframe\">\n",
       "  <thead>\n",
       "    <tr style=\"text-align: right;\">\n",
       "      <th></th>\n",
       "      <th>UUID</th>\n",
       "      <th>User_Name</th>\n",
       "      <th>Sharpe_Ratio</th>\n",
       "      <th>Stocks</th>\n",
       "    </tr>\n",
       "  </thead>\n",
       "  <tbody>\n",
       "    <tr>\n",
       "      <th>0</th>\n",
       "      <td>85c7d8c0-c991-4824-8f4d-37535e5851bc</td>\n",
       "      <td>John</td>\n",
       "      <td>3.540897</td>\n",
       "      <td>['AAPL', 'AVGO', 'UNH', 'NVDA', 'V']</td>\n",
       "    </tr>\n",
       "    <tr>\n",
       "      <th>1</th>\n",
       "      <td>9911f3d6-2a1e-4956-b676-d14ddd12fe0e</td>\n",
       "      <td>alex_1</td>\n",
       "      <td>3.412431</td>\n",
       "      <td>['NVDA', 'AMZN', 'AAPL', 'MSFT']</td>\n",
       "    </tr>\n",
       "    <tr>\n",
       "      <th>2</th>\n",
       "      <td>bc01be19-a9c1-420f-837d-00e2cc6ede4a</td>\n",
       "      <td>Gaby</td>\n",
       "      <td>3.396183</td>\n",
       "      <td>['AVGO', 'TSLA', 'NVDA']</td>\n",
       "    </tr>\n",
       "    <tr>\n",
       "      <th>3</th>\n",
       "      <td>e4711fdc-8d44-4216-8e96-9df557127e8f</td>\n",
       "      <td>Gaby</td>\n",
       "      <td>3.396183</td>\n",
       "      <td>['AVGO', 'TSLA', 'NVDA']</td>\n",
       "    </tr>\n",
       "    <tr>\n",
       "      <th>4</th>\n",
       "      <td>866a252f-1fe7-4a3c-859f-ea1eb81f9348</td>\n",
       "      <td>Amy</td>\n",
       "      <td>3.296707</td>\n",
       "      <td>['BRK.B', 'AAPL', 'XOM', 'MSFT', 'META']</td>\n",
       "    </tr>\n",
       "  </tbody>\n",
       "</table>\n",
       "</div>"
      ],
      "text/plain": [
       "                                   UUID User_Name  Sharpe_Ratio  \\\n",
       "0  85c7d8c0-c991-4824-8f4d-37535e5851bc     John       3.540897   \n",
       "1  9911f3d6-2a1e-4956-b676-d14ddd12fe0e    alex_1      3.412431   \n",
       "2  bc01be19-a9c1-420f-837d-00e2cc6ede4a      Gaby      3.396183   \n",
       "3  e4711fdc-8d44-4216-8e96-9df557127e8f      Gaby      3.396183   \n",
       "4  866a252f-1fe7-4a3c-859f-ea1eb81f9348      Amy       3.296707   \n",
       "\n",
       "                                     Stocks  \n",
       "0      ['AAPL', 'AVGO', 'UNH', 'NVDA', 'V']  \n",
       "1          ['NVDA', 'AMZN', 'AAPL', 'MSFT']  \n",
       "2                  ['AVGO', 'TSLA', 'NVDA']  \n",
       "3                  ['AVGO', 'TSLA', 'NVDA']  \n",
       "4  ['BRK.B', 'AAPL', 'XOM', 'MSFT', 'META']  "
      ]
     },
     "execution_count": 78,
     "metadata": {},
     "output_type": "execute_result"
    }
   ],
   "source": [
    "#User Ranking of top 5 AFTER rank is updated  \n",
    "user_data_df.head()"
   ]
  },
  {
   "cell_type": "code",
   "execution_count": 102,
   "id": "46570cdb",
   "metadata": {},
   "outputs": [
    {
     "name": "stdout",
     "output_type": "stream",
     "text": [
      "Elisa, your rank is 9\n"
     ]
    }
   ],
   "source": [
    "# Grab Postition of User Ranking \n",
    "\n",
    "condition = user_data_df['UUID'] == user_uuid_str\n",
    "matching_rows = user_data_df[condition]\n",
    "\n",
    "# Get the index of the first matching row (if any)\n",
    "if not matching_rows.empty:\n",
    "    row_index = matching_rows.index[0]\n",
    "#     print(f\"Index of the row: {row_index}\")\n",
    "    print(f\"{name}, your rank is {row_index + 1}\" )\n",
    "else:\n",
    "    print(\"Error, user info not found\")\n",
    "    \n"
   ]
  },
  {
   "cell_type": "markdown",
   "id": "a5945fc4-5277-416c-bb93-b40bf8290327",
   "metadata": {},
   "source": [
    "# User Performance Compared to Other Players Calulation and Market"
   ]
  },
  {
   "cell_type": "code",
   "execution_count": 103,
   "id": "9625e2a4-1407-48d3-94de-767f5d3b6521",
   "metadata": {},
   "outputs": [
    {
     "data": {
      "text/html": [
       "<div>\n",
       "<style scoped>\n",
       "    .dataframe tbody tr th:only-of-type {\n",
       "        vertical-align: middle;\n",
       "    }\n",
       "\n",
       "    .dataframe tbody tr th {\n",
       "        vertical-align: top;\n",
       "    }\n",
       "\n",
       "    .dataframe thead th {\n",
       "        text-align: right;\n",
       "    }\n",
       "</style>\n",
       "<table border=\"1\" class=\"dataframe\">\n",
       "  <thead>\n",
       "    <tr style=\"text-align: right;\">\n",
       "      <th></th>\n",
       "      <th>SP500</th>\n",
       "      <th>NDAQ</th>\n",
       "    </tr>\n",
       "    <tr>\n",
       "      <th>Date</th>\n",
       "      <th></th>\n",
       "      <th></th>\n",
       "    </tr>\n",
       "  </thead>\n",
       "  <tbody>\n",
       "    <tr>\n",
       "      <th>2023-02-02</th>\n",
       "      <td>0.014699</td>\n",
       "      <td>0.032540</td>\n",
       "    </tr>\n",
       "    <tr>\n",
       "      <th>2023-02-03</th>\n",
       "      <td>-0.010355</td>\n",
       "      <td>-0.015889</td>\n",
       "    </tr>\n",
       "    <tr>\n",
       "      <th>2023-02-06</th>\n",
       "      <td>-0.006140</td>\n",
       "      <td>-0.009953</td>\n",
       "    </tr>\n",
       "    <tr>\n",
       "      <th>2023-02-07</th>\n",
       "      <td>0.012873</td>\n",
       "      <td>0.019040</td>\n",
       "    </tr>\n",
       "    <tr>\n",
       "      <th>2023-02-08</th>\n",
       "      <td>-0.011081</td>\n",
       "      <td>-0.016780</td>\n",
       "    </tr>\n",
       "  </tbody>\n",
       "</table>\n",
       "</div>"
      ],
      "text/plain": [
       "               SP500      NDAQ\n",
       "Date                          \n",
       "2023-02-02  0.014699  0.032540\n",
       "2023-02-03 -0.010355 -0.015889\n",
       "2023-02-06 -0.006140 -0.009953\n",
       "2023-02-07  0.012873  0.019040\n",
       "2023-02-08 -0.011081 -0.016780"
      ]
     },
     "execution_count": 103,
     "metadata": {},
     "output_type": "execute_result"
    }
   ],
   "source": [
    "# Create a dataframe for market indicators and calculate daily returns and drop nulls \n",
    "sp_returns = raw_stocks_data_df.loc[raw_stocks_data_df[\"Ticker\"]==\"SPX\"]\n",
    "sp_returns = sp_returns[[\"Close_Price\"]].pct_change().dropna()\n",
    "\n",
    "ndaq_returns = raw_stocks_data_df.loc[raw_stocks_data_df[\"Ticker\"]==\"NDAQ\"]\n",
    "ndaq_returns = ndaq_returns[[\"Close_Price\"]].pct_change().dropna()\n",
    "\n",
    "# Rename columns to SP500 and NDAQ\n",
    "sp_returns.columns=[\"SP500\"]\n",
    "ndaq_returns.columns=[\"NDAQ\"]\n",
    "\n",
    "# Combine dataframes\n",
    "market_returns = pd.concat([sp_returns, ndaq_returns], axis=\"columns\", join=\"inner\")\n",
    "market_returns.head()"
   ]
  },
  {
   "cell_type": "code",
   "execution_count": 109,
   "id": "f096f0f0-9cc5-40db-b6cd-35ad2b744fa0",
   "metadata": {},
   "outputs": [
    {
     "data": {
      "text/html": [
       "<div>\n",
       "<style scoped>\n",
       "    .dataframe tbody tr th:only-of-type {\n",
       "        vertical-align: middle;\n",
       "    }\n",
       "\n",
       "    .dataframe tbody tr th {\n",
       "        vertical-align: top;\n",
       "    }\n",
       "\n",
       "    .dataframe thead th {\n",
       "        text-align: right;\n",
       "    }\n",
       "</style>\n",
       "<table border=\"1\" class=\"dataframe\">\n",
       "  <thead>\n",
       "    <tr style=\"text-align: right;\">\n",
       "      <th>Ticker</th>\n",
       "      <th>John</th>\n",
       "      <th>alex_1</th>\n",
       "      <th>Gaby</th>\n",
       "    </tr>\n",
       "    <tr>\n",
       "      <th>Date</th>\n",
       "      <th></th>\n",
       "      <th></th>\n",
       "      <th></th>\n",
       "    </tr>\n",
       "  </thead>\n",
       "  <tbody>\n",
       "    <tr>\n",
       "      <th>2023-02-02</th>\n",
       "      <td>0.004038</td>\n",
       "      <td>0.048580</td>\n",
       "      <td>0.026467</td>\n",
       "    </tr>\n",
       "    <tr>\n",
       "      <th>2023-02-03</th>\n",
       "      <td>-0.002419</td>\n",
       "      <td>-0.027897</td>\n",
       "      <td>-0.010808</td>\n",
       "    </tr>\n",
       "    <tr>\n",
       "      <th>2023-02-06</th>\n",
       "      <td>-0.001694</td>\n",
       "      <td>-0.009067</td>\n",
       "      <td>0.010266</td>\n",
       "    </tr>\n",
       "    <tr>\n",
       "      <th>2023-02-07</th>\n",
       "      <td>0.020832</td>\n",
       "      <td>0.027996</td>\n",
       "      <td>0.027932</td>\n",
       "    </tr>\n",
       "    <tr>\n",
       "      <th>2023-02-08</th>\n",
       "      <td>-0.005698</td>\n",
       "      <td>-0.009871</td>\n",
       "      <td>0.001157</td>\n",
       "    </tr>\n",
       "  </tbody>\n",
       "</table>\n",
       "</div>"
      ],
      "text/plain": [
       "Ticker         John     alex_1      Gaby\n",
       "Date                                    \n",
       "2023-02-02  0.004038  0.048580  0.026467\n",
       "2023-02-03 -0.002419 -0.027897 -0.010808\n",
       "2023-02-06 -0.001694 -0.009067  0.010266\n",
       "2023-02-07  0.020832  0.027996  0.027932\n",
       "2023-02-08 -0.005698 -0.009871  0.001157"
      ]
     },
     "execution_count": 109,
     "metadata": {},
     "output_type": "execute_result"
    }
   ],
   "source": [
    "# Create a dataframe for top players and calculate daily returns and drop nulls \n",
    "\n",
    "# Convert top stored user data from csv from stingify array back to a list so it can be used in calculations\n",
    "top_1_str_to_list = ast.literal_eval(user_data_df.loc[0, 'Stocks'])\n",
    "top_2_str_to_list = ast.literal_eval(user_data_df.loc[1, 'Stocks'])\n",
    "top_3_str_to_list = ast.literal_eval(user_data_df.loc[2, 'Stocks'])\n",
    "\n",
    "# Get data from file for tickers in user_data using \".loc\" and \".isin\"\n",
    "top_1_portfolio_returns = raw_stocks_data_df.loc[raw_stocks_data_df[\"Ticker\"].isin(top_1_str_to_list)]\n",
    "top_2_portfolio_returns = raw_stocks_data_df.loc[raw_stocks_data_df[\"Ticker\"].isin(top_2_str_to_list)]\n",
    "top_3_portfolio_returns = raw_stocks_data_df.loc[raw_stocks_data_df[\"Ticker\"].isin(top_3_str_to_list)]\n",
    "\n",
    "# Filter columns to get only the Ticker and Close Price and drop null values\n",
    "top_1_portfolio_returns = top_1_portfolio_returns[[\"Ticker\",\"Close_Price\"]].dropna()\n",
    "top_2_portfolio_returns = top_2_portfolio_returns[[\"Ticker\",\"Close_Price\"]].dropna()\n",
    "top_3_portfolio_returns = top_3_portfolio_returns[[\"Ticker\",\"Close_Price\"]].dropna()\n",
    "\n",
    "# Set tickers as columns\n",
    "top_1_portfolio_returns = top_1_portfolio_returns.pivot_table(\"Close_Price\",\"Date\",\"Ticker\")\n",
    "top_2_portfolio_returns = top_2_portfolio_returns.pivot_table(\"Close_Price\",\"Date\",\"Ticker\")\n",
    "top_3_portfolio_returns = top_3_portfolio_returns.pivot_table(\"Close_Price\",\"Date\",\"Ticker\")\n",
    "\n",
    "# Calculate daily returns using \"pct_change\" and drop null values \n",
    "top_1_portfolio_returns  = top_1_portfolio_returns .pct_change().dropna() \n",
    "top_2_portfolio_returns  = top_2_portfolio_returns .pct_change().dropna() \n",
    "top_3_portfolio_returns  = top_3_portfolio_returns .pct_change().dropna() \n",
    "\n",
    "# Get User name to locate portfolios\n",
    "top_1_user_name = user_data_df.loc[0, 'User_Name']\n",
    "top_2_user_name = user_data_df.loc[1, 'User_Name']\n",
    "top_3_user_name = user_data_df.loc[2, 'User_Name']\n",
    "\n",
    "# Get the porfolio using weights and keep only the porfolio column. Using numpy dot method to multiple the portfolio returns list with the weight list\n",
    "top_1_portfolio_returns[f\"{top_1_user_name}\"] = top_1_portfolio_returns.dot([1/len(top_1_str_to_list)] * len(top_1_str_to_list))\n",
    "top_1_portfolio_returns = top_1_portfolio_returns[[f\"{top_1_user_name}\"]]\n",
    "\n",
    "top_2_portfolio_returns[f\"{top_2_user_name}\"] = top_2_portfolio_returns.dot([1/len(top_2_str_to_list)] * len(top_2_str_to_list))\n",
    "top_2_portfolio_returns = top_2_portfolio_returns[[f\"{top_2_user_name}\"]]\n",
    "\n",
    "top_3_portfolio_returns[f\"{top_3_user_name}\"] = top_3_portfolio_returns.dot([1/len(top_3_str_to_list)] * len(top_3_str_to_list))\n",
    "top_3_portfolio_returns = top_3_portfolio_returns[[f\"{top_3_user_name}\"]]\n",
    "\n",
    "top_returns = pd.concat([top_1_portfolio_returns, top_2_portfolio_returns, top_3_portfolio_returns], axis=\"columns\", join=\"inner\")\n",
    "top_returns.head()\n"
   ]
  },
  {
   "cell_type": "code",
   "execution_count": 108,
   "id": "79c0e589-b6d7-4d37-a8c3-acd66935e39e",
   "metadata": {},
   "outputs": [
    {
     "data": {
      "text/html": [
       "<div>\n",
       "<style scoped>\n",
       "    .dataframe tbody tr th:only-of-type {\n",
       "        vertical-align: middle;\n",
       "    }\n",
       "\n",
       "    .dataframe tbody tr th {\n",
       "        vertical-align: top;\n",
       "    }\n",
       "\n",
       "    .dataframe thead th {\n",
       "        text-align: right;\n",
       "    }\n",
       "</style>\n",
       "<table border=\"1\" class=\"dataframe\">\n",
       "  <thead>\n",
       "    <tr style=\"text-align: right;\">\n",
       "      <th></th>\n",
       "      <th>Elisa's Portfolio</th>\n",
       "      <th>SP500</th>\n",
       "      <th>NDAQ</th>\n",
       "      <th>John</th>\n",
       "      <th>alex_1</th>\n",
       "      <th>Gaby</th>\n",
       "    </tr>\n",
       "    <tr>\n",
       "      <th>Date</th>\n",
       "      <th></th>\n",
       "      <th></th>\n",
       "      <th></th>\n",
       "      <th></th>\n",
       "      <th></th>\n",
       "      <th></th>\n",
       "    </tr>\n",
       "  </thead>\n",
       "  <tbody>\n",
       "    <tr>\n",
       "      <th>2023-02-02</th>\n",
       "      <td>0.038457</td>\n",
       "      <td>0.014699</td>\n",
       "      <td>0.032540</td>\n",
       "      <td>0.004038</td>\n",
       "      <td>0.048580</td>\n",
       "      <td>0.026467</td>\n",
       "    </tr>\n",
       "    <tr>\n",
       "      <th>2023-02-03</th>\n",
       "      <td>-0.026950</td>\n",
       "      <td>-0.010355</td>\n",
       "      <td>-0.015889</td>\n",
       "      <td>-0.002419</td>\n",
       "      <td>-0.027897</td>\n",
       "      <td>-0.010808</td>\n",
       "    </tr>\n",
       "    <tr>\n",
       "      <th>2023-02-06</th>\n",
       "      <td>0.001955</td>\n",
       "      <td>-0.006140</td>\n",
       "      <td>-0.009953</td>\n",
       "      <td>-0.001694</td>\n",
       "      <td>-0.009067</td>\n",
       "      <td>0.010266</td>\n",
       "    </tr>\n",
       "    <tr>\n",
       "      <th>2023-02-07</th>\n",
       "      <td>0.003362</td>\n",
       "      <td>0.012873</td>\n",
       "      <td>0.019040</td>\n",
       "      <td>0.020832</td>\n",
       "      <td>0.027996</td>\n",
       "      <td>0.027932</td>\n",
       "    </tr>\n",
       "    <tr>\n",
       "      <th>2023-02-08</th>\n",
       "      <td>0.001291</td>\n",
       "      <td>-0.011081</td>\n",
       "      <td>-0.016780</td>\n",
       "      <td>-0.005698</td>\n",
       "      <td>-0.009871</td>\n",
       "      <td>0.001157</td>\n",
       "    </tr>\n",
       "  </tbody>\n",
       "</table>\n",
       "</div>"
      ],
      "text/plain": [
       "            Elisa's Portfolio     SP500      NDAQ     John     alex_1  \\\n",
       "Date                                                                    \n",
       "2023-02-02           0.038457  0.014699  0.032540  0.004038  0.048580   \n",
       "2023-02-03          -0.026950 -0.010355 -0.015889 -0.002419 -0.027897   \n",
       "2023-02-06           0.001955 -0.006140 -0.009953 -0.001694 -0.009067   \n",
       "2023-02-07           0.003362  0.012873  0.019040  0.020832  0.027996   \n",
       "2023-02-08           0.001291 -0.011081 -0.016780 -0.005698 -0.009871   \n",
       "\n",
       "                Gaby  \n",
       "Date                  \n",
       "2023-02-02  0.026467  \n",
       "2023-02-03 -0.010808  \n",
       "2023-02-06  0.010266  \n",
       "2023-02-07  0.027932  \n",
       "2023-02-08  0.001157  "
      ]
     },
     "execution_count": 108,
     "metadata": {},
     "output_type": "execute_result"
    }
   ],
   "source": [
    "# Get UUID of top 3 players\n",
    "top_1_uuid = user_data_df.loc[0, 'UUID']\n",
    "top_2_uuid = user_data_df.loc[1, 'UUID']\n",
    "top_3_uuid = user_data_df.loc[2, 'UUID']\n",
    "\n",
    "# Create a list with UUID of top 3 players\n",
    "uuids = [top_1_uuid, top_2_uuid, top_3_uuid]\n",
    "\n",
    "# Loop through UUIDs to check of user is in top 3, add the market and top players porfolio and if user's portfolio is not on top 3 add it too\n",
    "for each_element in uuids:\n",
    "    if each_element != user_uuid_str:\n",
    "        top_portfolio_market_returns = pd.concat([portfolio_returns[f\"{user_name}'s Portfolio\"], market_returns, top_returns], axis=\"columns\", join=\"inner\")\n",
    "    else:\n",
    "         top_portfolio_market_returns = pd.concat([market_returns, top_returns], axis=\"columns\", join=\"inner\")\n",
    "\n",
    "top_portfolio_market_returns.head()"
   ]
  },
  {
   "cell_type": "code",
   "execution_count": 106,
   "id": "6d11053c-339a-45ab-8280-c0e90d5ac93e",
   "metadata": {},
   "outputs": [
    {
     "data": {
      "text/plain": [
       "Elisa's Portfolio    2.094975\n",
       "SP500                1.739253\n",
       "NDAQ                 2.337676\n",
       "John                 3.540897\n",
       "alex_1               3.412431\n",
       "Gaby                 3.396183\n",
       "dtype: float64"
      ]
     },
     "execution_count": 106,
     "metadata": {},
     "output_type": "execute_result"
    }
   ],
   "source": [
    "# Calculate sharp ratio - visulaize purposes - Portfolio and the Index\n",
    "top_portfolio_market_sharp_ratio = (top_portfolio_market_returns.mean() * (252)) / (top_portfolio_market_returns.std() * np.sqrt(252))\n",
    "top_portfolio_market_sharp_ratio"
   ]
  },
  {
   "cell_type": "code",
   "execution_count": 107,
   "id": "a5c8c85c-7162-4a00-abf0-7f13a5ff22f0",
   "metadata": {},
   "outputs": [
    {
     "data": {
      "text/html": [
       "<div>\n",
       "<style scoped>\n",
       "    .dataframe tbody tr th:only-of-type {\n",
       "        vertical-align: middle;\n",
       "    }\n",
       "\n",
       "    .dataframe tbody tr th {\n",
       "        vertical-align: top;\n",
       "    }\n",
       "\n",
       "    .dataframe thead th {\n",
       "        text-align: right;\n",
       "    }\n",
       "</style>\n",
       "<table border=\"1\" class=\"dataframe\">\n",
       "  <thead>\n",
       "    <tr style=\"text-align: right;\">\n",
       "      <th></th>\n",
       "      <th>Elisa's Portfolio</th>\n",
       "      <th>SP500</th>\n",
       "      <th>NDAQ</th>\n",
       "      <th>John</th>\n",
       "      <th>alex_1</th>\n",
       "      <th>Gaby</th>\n",
       "    </tr>\n",
       "    <tr>\n",
       "      <th>Date</th>\n",
       "      <th></th>\n",
       "      <th></th>\n",
       "      <th></th>\n",
       "      <th></th>\n",
       "      <th></th>\n",
       "      <th></th>\n",
       "    </tr>\n",
       "  </thead>\n",
       "  <tbody>\n",
       "    <tr>\n",
       "      <th>2023-02-02</th>\n",
       "      <td>1.038457</td>\n",
       "      <td>1.014699</td>\n",
       "      <td>1.032540</td>\n",
       "      <td>1.004038</td>\n",
       "      <td>1.048580</td>\n",
       "      <td>1.026467</td>\n",
       "    </tr>\n",
       "    <tr>\n",
       "      <th>2023-02-03</th>\n",
       "      <td>1.010471</td>\n",
       "      <td>1.004193</td>\n",
       "      <td>1.016134</td>\n",
       "      <td>1.001609</td>\n",
       "      <td>1.019328</td>\n",
       "      <td>1.015373</td>\n",
       "    </tr>\n",
       "    <tr>\n",
       "      <th>2023-02-06</th>\n",
       "      <td>1.012446</td>\n",
       "      <td>0.998026</td>\n",
       "      <td>1.006020</td>\n",
       "      <td>0.999912</td>\n",
       "      <td>1.010085</td>\n",
       "      <td>1.025796</td>\n",
       "    </tr>\n",
       "    <tr>\n",
       "      <th>2023-02-07</th>\n",
       "      <td>1.015850</td>\n",
       "      <td>1.010873</td>\n",
       "      <td>1.025175</td>\n",
       "      <td>1.020742</td>\n",
       "      <td>1.038364</td>\n",
       "      <td>1.054449</td>\n",
       "    </tr>\n",
       "    <tr>\n",
       "      <th>2023-02-08</th>\n",
       "      <td>1.017162</td>\n",
       "      <td>0.999672</td>\n",
       "      <td>1.007972</td>\n",
       "      <td>1.014926</td>\n",
       "      <td>1.028113</td>\n",
       "      <td>1.055669</td>\n",
       "    </tr>\n",
       "  </tbody>\n",
       "</table>\n",
       "</div>"
      ],
      "text/plain": [
       "            Elisa's Portfolio     SP500      NDAQ     John     alex_1  \\\n",
       "Date                                                                    \n",
       "2023-02-02           1.038457  1.014699  1.032540  1.004038  1.048580   \n",
       "2023-02-03           1.010471  1.004193  1.016134  1.001609  1.019328   \n",
       "2023-02-06           1.012446  0.998026  1.006020  0.999912  1.010085   \n",
       "2023-02-07           1.015850  1.010873  1.025175  1.020742  1.038364   \n",
       "2023-02-08           1.017162  0.999672  1.007972  1.014926  1.028113   \n",
       "\n",
       "                Gaby  \n",
       "Date                  \n",
       "2023-02-02  1.026467  \n",
       "2023-02-03  1.015373  \n",
       "2023-02-06  1.025796  \n",
       "2023-02-07  1.054449  \n",
       "2023-02-08  1.055669  "
      ]
     },
     "execution_count": 107,
     "metadata": {},
     "output_type": "execute_result"
    }
   ],
   "source": [
    "# Calculate cumulative returns to create plot\n",
    "top_portfolio_market_stocks_cum_return = (1 + top_portfolio_market_returns).cumprod()\n",
    "top_portfolio_market_stocks_cum_return.head()"
   ]
  },
  {
   "cell_type": "code",
   "execution_count": null,
   "id": "b1b94afa-4263-4a44-b7ad-807c84488f29",
   "metadata": {},
   "outputs": [],
   "source": []
  },
  {
   "cell_type": "code",
   "execution_count": null,
   "id": "514cc7b6-824e-4f74-83e7-94661022b39f",
   "metadata": {},
   "outputs": [],
   "source": []
  },
  {
   "cell_type": "code",
   "execution_count": null,
   "id": "c2a5f02a-d040-4df1-8973-e11f2d7642e4",
   "metadata": {},
   "outputs": [],
   "source": []
  },
  {
   "cell_type": "markdown",
   "id": "41136f8a",
   "metadata": {},
   "source": [
    "# Visulization "
   ]
  },
  {
   "cell_type": "code",
   "execution_count": null,
   "id": "a93f45a6",
   "metadata": {},
   "outputs": [],
   "source": []
  },
  {
   "cell_type": "code",
   "execution_count": null,
   "id": "c7762283",
   "metadata": {},
   "outputs": [],
   "source": []
  }
 ],
 "metadata": {
  "kernelspec": {
   "display_name": "Python 3 (ipykernel)",
   "language": "python",
   "name": "python3"
  },
  "language_info": {
   "codemirror_mode": {
    "name": "ipython",
    "version": 3
   },
   "file_extension": ".py",
   "mimetype": "text/x-python",
   "name": "python",
   "nbconvert_exporter": "python",
   "pygments_lexer": "ipython3",
   "version": "3.10.11"
  }
 },
 "nbformat": 4,
 "nbformat_minor": 5
}
