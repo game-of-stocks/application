{
 "cells": [
  {
   "cell_type": "code",
   "execution_count": 1,
   "id": "76319276",
   "metadata": {},
   "outputs": [],
   "source": [
    "#packages related to dataframes\n",
    "import pandas as pd\n",
    "import numpy as np\n",
    "from pathlib import Path\n",
    "\n",
    "#package needed to assign user a unique id \n",
    "import uuid\n",
    "\n",
    "#package nee\n",
    "import csv\n",
    "\n",
    "# Importing helper function from utils folder \n",
    "import sys\n",
    "sys.path.append('Resources/utils')\n",
    "from user_form_intake import inital_user_intake, get_user_inital_input, portfolio_user_intake, get_user_portfolio_input"
   ]
  },
  {
   "cell_type": "markdown",
   "id": "665e32d0",
   "metadata": {},
   "source": [
    "# Grabbing the Data Files "
   ]
  },
  {
   "cell_type": "code",
   "execution_count": 2,
   "id": "b8486b97",
   "metadata": {},
   "outputs": [
    {
     "data": {
      "text/html": [
       "<div>\n",
       "<style scoped>\n",
       "    .dataframe tbody tr th:only-of-type {\n",
       "        vertical-align: middle;\n",
       "    }\n",
       "\n",
       "    .dataframe tbody tr th {\n",
       "        vertical-align: top;\n",
       "    }\n",
       "\n",
       "    .dataframe thead th {\n",
       "        text-align: right;\n",
       "    }\n",
       "</style>\n",
       "<table border=\"1\" class=\"dataframe\">\n",
       "  <thead>\n",
       "    <tr style=\"text-align: right;\">\n",
       "      <th></th>\n",
       "      <th>Company</th>\n",
       "      <th>Ticker</th>\n",
       "      <th>Close_Price</th>\n",
       "      <th>Industry</th>\n",
       "      <th>Sector</th>\n",
       "    </tr>\n",
       "    <tr>\n",
       "      <th>Date</th>\n",
       "      <th></th>\n",
       "      <th></th>\n",
       "      <th></th>\n",
       "      <th></th>\n",
       "      <th></th>\n",
       "    </tr>\n",
       "  </thead>\n",
       "  <tbody>\n",
       "    <tr>\n",
       "      <th>2023-02-01</th>\n",
       "      <td>Apple</td>\n",
       "      <td>AAPL</td>\n",
       "      <td>145.43</td>\n",
       "      <td>Computer Manufacturing</td>\n",
       "      <td>Technology</td>\n",
       "    </tr>\n",
       "    <tr>\n",
       "      <th>2023-02-01</th>\n",
       "      <td>Amazon</td>\n",
       "      <td>AMZN</td>\n",
       "      <td>105.15</td>\n",
       "      <td>Catalog/Specialty Distribution</td>\n",
       "      <td>Consumer Discretionary</td>\n",
       "    </tr>\n",
       "    <tr>\n",
       "      <th>2023-02-01</th>\n",
       "      <td>Nvidia</td>\n",
       "      <td>NVDA</td>\n",
       "      <td>209.43</td>\n",
       "      <td>Semiconductors</td>\n",
       "      <td>Technology</td>\n",
       "    </tr>\n",
       "    <tr>\n",
       "      <th>2023-02-01</th>\n",
       "      <td>Alphabet</td>\n",
       "      <td>GOOGL</td>\n",
       "      <td>100.43</td>\n",
       "      <td>Computer Software: Programming, Data Processing</td>\n",
       "      <td>Technology</td>\n",
       "    </tr>\n",
       "    <tr>\n",
       "      <th>2023-02-01</th>\n",
       "      <td>Meta</td>\n",
       "      <td>META</td>\n",
       "      <td>153.12</td>\n",
       "      <td>Computer Software: Programming, Data Processing</td>\n",
       "      <td>Technology</td>\n",
       "    </tr>\n",
       "  </tbody>\n",
       "</table>\n",
       "</div>"
      ],
      "text/plain": [
       "             Company Ticker  Close_Price  \\\n",
       "Date                                       \n",
       "2023-02-01     Apple   AAPL       145.43   \n",
       "2023-02-01    Amazon   AMZN       105.15   \n",
       "2023-02-01    Nvidia   NVDA       209.43   \n",
       "2023-02-01  Alphabet  GOOGL       100.43   \n",
       "2023-02-01      Meta   META       153.12   \n",
       "\n",
       "                                                   Industry  \\\n",
       "Date                                                          \n",
       "2023-02-01                           Computer Manufacturing   \n",
       "2023-02-01                   Catalog/Specialty Distribution   \n",
       "2023-02-01                                   Semiconductors   \n",
       "2023-02-01  Computer Software: Programming, Data Processing   \n",
       "2023-02-01  Computer Software: Programming, Data Processing   \n",
       "\n",
       "                            Sector  \n",
       "Date                                \n",
       "2023-02-01              Technology  \n",
       "2023-02-01  Consumer Discretionary  \n",
       "2023-02-01              Technology  \n",
       "2023-02-01              Technology  \n",
       "2023-02-01              Technology  "
      ]
     },
     "execution_count": 2,
     "metadata": {},
     "output_type": "execute_result"
    }
   ],
   "source": [
    "#Grabing the raw stock data and putting in dataframe\n",
    "raw_stocks_data_to_load =  Path(\"Resources/Data/Stock_Index_Raw_Data.csv\")\n",
    "raw_stocks_data_df = pd.read_csv(raw_stocks_data_to_load, header=0, parse_dates=True, index_col=\"Date\", infer_datetime_format=True)\n",
    "raw_stocks_data_df.sort_index(ascending = True, inplace = True)\n",
    "raw_stocks_data_df.head()"
   ]
  },
  {
   "cell_type": "code",
   "execution_count": 3,
   "id": "43c31df6",
   "metadata": {},
   "outputs": [
    {
     "data": {
      "text/html": [
       "<div>\n",
       "<style scoped>\n",
       "    .dataframe tbody tr th:only-of-type {\n",
       "        vertical-align: middle;\n",
       "    }\n",
       "\n",
       "    .dataframe tbody tr th {\n",
       "        vertical-align: top;\n",
       "    }\n",
       "\n",
       "    .dataframe thead th {\n",
       "        text-align: right;\n",
       "    }\n",
       "</style>\n",
       "<table border=\"1\" class=\"dataframe\">\n",
       "  <thead>\n",
       "    <tr style=\"text-align: right;\">\n",
       "      <th></th>\n",
       "      <th>UUID</th>\n",
       "      <th>User_Name</th>\n",
       "      <th>Sharpe_Ratio</th>\n",
       "      <th>Cumulative_Returns</th>\n",
       "      <th>Daily_Returns</th>\n",
       "      <th>Stocks</th>\n",
       "    </tr>\n",
       "  </thead>\n",
       "  <tbody>\n",
       "    <tr>\n",
       "      <th>0</th>\n",
       "      <td>c8b71fc0-a969-4bbb-80f0-8caeedd3cc6a</td>\n",
       "      <td>Test1</td>\n",
       "      <td>4.54450</td>\n",
       "      <td>6565.22</td>\n",
       "      <td>45764</td>\n",
       "      <td>['AVGO', 'AAPL', 'MSFT', 'V', 'NVDA']</td>\n",
       "    </tr>\n",
       "    <tr>\n",
       "      <th>1</th>\n",
       "      <td>951bb78a-dacb-4047-a255-2eb50314a9fd</td>\n",
       "      <td>Amy</td>\n",
       "      <td>4.43430</td>\n",
       "      <td>23432.22</td>\n",
       "      <td>45454</td>\n",
       "      <td>['V', 'GOOGL', 'JNJ', 'MSFT', 'XOM']</td>\n",
       "    </tr>\n",
       "    <tr>\n",
       "      <th>2</th>\n",
       "      <td>56a3ba9e-7b6d-4376-a6d8-ffd2f42cee9d</td>\n",
       "      <td>Chris</td>\n",
       "      <td>3.11234</td>\n",
       "      <td>23432.22</td>\n",
       "      <td>45454</td>\n",
       "      <td>['AVGO', 'AAPL', 'MSFT', 'XOM']</td>\n",
       "    </tr>\n",
       "    <tr>\n",
       "      <th>3</th>\n",
       "      <td>951bb78a-dacb-4047-a255-2eb50314a9fd</td>\n",
       "      <td>Amy</td>\n",
       "      <td>3.11234</td>\n",
       "      <td>23432.22</td>\n",
       "      <td>45454</td>\n",
       "      <td>['V', 'GOOGL', 'JNJ', 'MSFT', 'XOM']</td>\n",
       "    </tr>\n",
       "    <tr>\n",
       "      <th>4</th>\n",
       "      <td>2526a1f9-0f46-4b73-a0aa-ac9f5920e3d9</td>\n",
       "      <td>JJ</td>\n",
       "      <td>2.11000</td>\n",
       "      <td>100.22</td>\n",
       "      <td>134</td>\n",
       "      <td>['AMZN', 'AAPL', 'MSFT', 'JPM']</td>\n",
       "    </tr>\n",
       "  </tbody>\n",
       "</table>\n",
       "</div>"
      ],
      "text/plain": [
       "                                   UUID User_Name  Sharpe_Ratio  \\\n",
       "0  c8b71fc0-a969-4bbb-80f0-8caeedd3cc6a     Test1       4.54450   \n",
       "1  951bb78a-dacb-4047-a255-2eb50314a9fd       Amy       4.43430   \n",
       "2  56a3ba9e-7b6d-4376-a6d8-ffd2f42cee9d    Chris        3.11234   \n",
       "3  951bb78a-dacb-4047-a255-2eb50314a9fd       Amy       3.11234   \n",
       "4  2526a1f9-0f46-4b73-a0aa-ac9f5920e3d9        JJ       2.11000   \n",
       "\n",
       "   Cumulative_Returns  Daily_Returns                                 Stocks  \n",
       "0             6565.22          45764  ['AVGO', 'AAPL', 'MSFT', 'V', 'NVDA']  \n",
       "1            23432.22          45454   ['V', 'GOOGL', 'JNJ', 'MSFT', 'XOM']  \n",
       "2            23432.22          45454        ['AVGO', 'AAPL', 'MSFT', 'XOM']  \n",
       "3            23432.22          45454   ['V', 'GOOGL', 'JNJ', 'MSFT', 'XOM']  \n",
       "4              100.22            134        ['AMZN', 'AAPL', 'MSFT', 'JPM']  "
      ]
     },
     "execution_count": 3,
     "metadata": {},
     "output_type": "execute_result"
    }
   ],
   "source": [
    "#Grabing the raw stock data and putting in dataframe\n",
    "user_data_to_load =  Path(\"Resources/Data/User_Portfolio_Data.csv\")\n",
    "user_data_df = pd.read_csv(user_data_to_load, header=0, parse_dates=True)\n",
    "user_data_df.sort_index(ascending = True, inplace = True)\n",
    "user_data_df.head()"
   ]
  },
  {
   "cell_type": "markdown",
   "id": "ebc9d162",
   "metadata": {},
   "source": [
    "# User Input for Game of Stocks"
   ]
  },
  {
   "cell_type": "code",
   "execution_count": 4,
   "id": "a9e4c9d4",
   "metadata": {},
   "outputs": [
    {
     "name": "stdout",
     "output_type": "stream",
     "text": [
      "Welcome to the Game of Stocks! You will be asked a series of questions to get started. \n",
      "    You can choose up to 10 stickes to create portfolio. Remember to diversify your portfolio.   \n"
     ]
    },
    {
     "data": {
      "application/vnd.jupyter.widget-view+json": {
       "model_id": "84af1e16ef2c4d83a229c2f3412f5a2f",
       "version_major": 2,
       "version_minor": 0
      },
      "text/plain": [
       "Textarea(value='Input your name', description='First Name:', placeholder='Type something')"
      ]
     },
     "metadata": {},
     "output_type": "display_data"
    },
    {
     "data": {
      "application/vnd.jupyter.widget-view+json": {
       "model_id": "c1066bf6877e45698f9f6a9b041f33f8",
       "version_major": 2,
       "version_minor": 0
      },
      "text/plain": [
       "Dropdown(description='Amount', index=10, options=(1, 2, 3, 4, 5, 6, 7, 8, 9, 10, 'Choose Stock Amount:'), valu…"
      ]
     },
     "metadata": {},
     "output_type": "display_data"
    },
    {
     "data": {
      "application/vnd.jupyter.widget-view+json": {
       "model_id": "9ac1aa41f82a4a56beffe572f4e3c4ee",
       "version_major": 2,
       "version_minor": 0
      },
      "text/plain": [
       "Button(description='Submit', style=ButtonStyle())"
      ]
     },
     "metadata": {},
     "output_type": "display_data"
    }
   ],
   "source": [
    "# Envoking the user intake form 1. It will store the information in the following variables so it can be used in notebook later.\n",
    "\n",
    "inital_user_intake()"
   ]
  },
  {
   "cell_type": "code",
   "execution_count": 5,
   "id": "c9bdeb87",
   "metadata": {},
   "outputs": [],
   "source": [
    "# Getting the form values that was store in name, num_of_stocks_choosen \n",
    "name, num_of_stocks_choosen = get_user_inital_input()"
   ]
  },
  {
   "cell_type": "code",
   "execution_count": 6,
   "id": "ce4591c9",
   "metadata": {},
   "outputs": [
    {
     "data": {
      "application/vnd.jupyter.widget-view+json": {
       "model_id": "66f9db8bd6534a2d92c5205e5a5d713e",
       "version_major": 2,
       "version_minor": 0
      },
      "text/plain": [
       "Dropdown(description='Stock 1:', options=('', 'Apple (AAPL) - Computer Manufacturing', 'Microsoft (MSFT) - Com…"
      ]
     },
     "metadata": {},
     "output_type": "display_data"
    },
    {
     "data": {
      "application/vnd.jupyter.widget-view+json": {
       "model_id": "77e50a32a9894ad5bd63af95e212e577",
       "version_major": 2,
       "version_minor": 0
      },
      "text/plain": [
       "Dropdown(description='Stock 2:', options=('', 'Apple (AAPL) - Computer Manufacturing', 'Microsoft (MSFT) - Com…"
      ]
     },
     "metadata": {},
     "output_type": "display_data"
    },
    {
     "data": {
      "application/vnd.jupyter.widget-view+json": {
       "model_id": "d7d33af05deb4149ba12807c9f748963",
       "version_major": 2,
       "version_minor": 0
      },
      "text/plain": [
       "Dropdown(description='Stock 3:', options=('', 'Apple (AAPL) - Computer Manufacturing', 'Microsoft (MSFT) - Com…"
      ]
     },
     "metadata": {},
     "output_type": "display_data"
    },
    {
     "data": {
      "application/vnd.jupyter.widget-view+json": {
       "model_id": "e15365f68b9a4309baaaf5904cb2e2a5",
       "version_major": 2,
       "version_minor": 0
      },
      "text/plain": [
       "Dropdown(description='Stock 4:', options=('', 'Apple (AAPL) - Computer Manufacturing', 'Microsoft (MSFT) - Com…"
      ]
     },
     "metadata": {},
     "output_type": "display_data"
    },
    {
     "data": {
      "application/vnd.jupyter.widget-view+json": {
       "model_id": "e248d83725db4c13a87807f298bcf641",
       "version_major": 2,
       "version_minor": 0
      },
      "text/plain": [
       "Dropdown(description='Stock 5:', options=('', 'Apple (AAPL) - Computer Manufacturing', 'Microsoft (MSFT) - Com…"
      ]
     },
     "metadata": {},
     "output_type": "display_data"
    },
    {
     "data": {
      "application/vnd.jupyter.widget-view+json": {
       "model_id": "8a1b9e723b0745ea9fbb21751dc2d7de",
       "version_major": 2,
       "version_minor": 0
      },
      "text/plain": [
       "Dropdown(description='Stock 6:', options=('', 'Apple (AAPL) - Computer Manufacturing', 'Microsoft (MSFT) - Com…"
      ]
     },
     "metadata": {},
     "output_type": "display_data"
    },
    {
     "data": {
      "application/vnd.jupyter.widget-view+json": {
       "model_id": "d7cb4c1784344579baf8cf38846e3fdf",
       "version_major": 2,
       "version_minor": 0
      },
      "text/plain": [
       "Button(description='Submit', style=ButtonStyle())"
      ]
     },
     "metadata": {},
     "output_type": "display_data"
    }
   ],
   "source": [
    "portfolio_user_intake(num_of_stocks_choosen)"
   ]
  },
  {
   "cell_type": "code",
   "execution_count": 7,
   "id": "27a42309",
   "metadata": {},
   "outputs": [],
   "source": [
    "# getting the user chosen portfolio\n",
    "unique_user_portfolio_array = get_user_portfolio_input()"
   ]
  },
  {
   "cell_type": "code",
   "execution_count": 8,
   "id": "c188efe9",
   "metadata": {},
   "outputs": [
    {
     "data": {
      "text/plain": [
       "['BRK.B', 'GOOGL', 'NVDA', 'UNH', 'AAPL']"
      ]
     },
     "execution_count": 8,
     "metadata": {},
     "output_type": "execute_result"
    }
   ],
   "source": [
    "unique_user_portfolio_array"
   ]
  },
  {
   "cell_type": "code",
   "execution_count": 9,
   "id": "7cde4d83",
   "metadata": {},
   "outputs": [
    {
     "data": {
      "text/plain": [
       "0.2"
      ]
     },
     "execution_count": 9,
     "metadata": {},
     "output_type": "execute_result"
    }
   ],
   "source": [
    "#calculating individual weights since we will assume it will be evenly split\n",
    "weight = round((1/len(unique_user_portfolio_array)),5)\n",
    "\n",
    "weight"
   ]
  },
  {
   "cell_type": "code",
   "execution_count": 10,
   "id": "cc8eb57c",
   "metadata": {},
   "outputs": [
    {
     "data": {
      "text/plain": [
       "[0.2, 0.2, 0.2, 0.2, 0.2]"
      ]
     },
     "execution_count": 10,
     "metadata": {},
     "output_type": "execute_result"
    }
   ],
   "source": [
    "#creating the weight array to apply to stocks\n",
    "weight_array = [weight] * len(unique_user_portfolio_array)\n",
    "weight_array"
   ]
  },
  {
   "cell_type": "markdown",
   "id": "5f190bb3",
   "metadata": {},
   "source": [
    "# User Portfolio Calculations "
   ]
  },
  {
   "cell_type": "code",
   "execution_count": 15,
   "id": "448f099f",
   "metadata": {},
   "outputs": [
    {
     "data": {
      "text/html": [
       "<div>\n",
       "<style scoped>\n",
       "    .dataframe tbody tr th:only-of-type {\n",
       "        vertical-align: middle;\n",
       "    }\n",
       "\n",
       "    .dataframe tbody tr th {\n",
       "        vertical-align: top;\n",
       "    }\n",
       "\n",
       "    .dataframe thead th {\n",
       "        text-align: right;\n",
       "    }\n",
       "</style>\n",
       "<table border=\"1\" class=\"dataframe\">\n",
       "  <thead>\n",
       "    <tr style=\"text-align: right;\">\n",
       "      <th>Ticker</th>\n",
       "      <th>AAPL</th>\n",
       "      <th>BRK.B</th>\n",
       "      <th>GOOGL</th>\n",
       "      <th>NVDA</th>\n",
       "      <th>UNH</th>\n",
       "    </tr>\n",
       "    <tr>\n",
       "      <th>Date</th>\n",
       "      <th></th>\n",
       "      <th></th>\n",
       "      <th></th>\n",
       "      <th></th>\n",
       "      <th></th>\n",
       "    </tr>\n",
       "  </thead>\n",
       "  <tbody>\n",
       "    <tr>\n",
       "      <th>2023-02-02</th>\n",
       "      <td>0.037063</td>\n",
       "      <td>0.004154</td>\n",
       "      <td>0.072787</td>\n",
       "      <td>0.036575</td>\n",
       "      <td>-0.052656</td>\n",
       "    </tr>\n",
       "    <tr>\n",
       "      <th>2023-02-03</th>\n",
       "      <td>0.024400</td>\n",
       "      <td>-0.010742</td>\n",
       "      <td>-0.027474</td>\n",
       "      <td>-0.028053</td>\n",
       "      <td>0.002527</td>\n",
       "    </tr>\n",
       "    <tr>\n",
       "      <th>2023-02-06</th>\n",
       "      <td>-0.017929</td>\n",
       "      <td>-0.000259</td>\n",
       "      <td>-0.017942</td>\n",
       "      <td>-0.000521</td>\n",
       "      <td>0.006822</td>\n",
       "    </tr>\n",
       "    <tr>\n",
       "      <th>2023-02-07</th>\n",
       "      <td>0.019245</td>\n",
       "      <td>0.014720</td>\n",
       "      <td>0.046064</td>\n",
       "      <td>0.051401</td>\n",
       "      <td>0.003451</td>\n",
       "    </tr>\n",
       "    <tr>\n",
       "      <th>2023-02-08</th>\n",
       "      <td>-0.017653</td>\n",
       "      <td>-0.014346</td>\n",
       "      <td>-0.076830</td>\n",
       "      <td>0.001443</td>\n",
       "      <td>0.013295</td>\n",
       "    </tr>\n",
       "  </tbody>\n",
       "</table>\n",
       "</div>"
      ],
      "text/plain": [
       "Ticker          AAPL     BRK.B     GOOGL      NVDA       UNH\n",
       "Date                                                        \n",
       "2023-02-02  0.037063  0.004154  0.072787  0.036575 -0.052656\n",
       "2023-02-03  0.024400 -0.010742 -0.027474 -0.028053  0.002527\n",
       "2023-02-06 -0.017929 -0.000259 -0.017942 -0.000521  0.006822\n",
       "2023-02-07  0.019245  0.014720  0.046064  0.051401  0.003451\n",
       "2023-02-08 -0.017653 -0.014346 -0.076830  0.001443  0.013295"
      ]
     },
     "execution_count": 15,
     "metadata": {},
     "output_type": "execute_result"
    }
   ],
   "source": [
    "# Get data from file for tickers in unique_user_portfolio_array using \".loc\" and \".isin\"\n",
    "portfolio_returns = raw_stocks_data_df.loc[raw_stocks_data_df[\"Ticker\"].isin(unique_user_portfolio_array)]\n",
    "\n",
    "# Filter columns to get only the Ticker and Close Price and drop null values\n",
    "portfolio_returns= portfolio_returns[[\"Ticker\",\"Close_Price\"]].dropna()\n",
    "\n",
    "# Set tickers as columns\n",
    "portfolio_returns= portfolio_returns.pivot_table(\"Close_Price\",\"Date\",\"Ticker\")\n",
    "\n",
    "# Calculate daily returns using \"pct_change\" and drop null values \n",
    "portfolio_returns = portfolio_returns.pct_change().dropna()\n",
    "\n",
    "# Display data\n",
    "portfolio_returns.head()"
   ]
  },
  {
   "cell_type": "code",
   "execution_count": 16,
   "id": "4a6dc3b0",
   "metadata": {},
   "outputs": [
    {
     "data": {
      "text/html": [
       "<div>\n",
       "<style scoped>\n",
       "    .dataframe tbody tr th:only-of-type {\n",
       "        vertical-align: middle;\n",
       "    }\n",
       "\n",
       "    .dataframe tbody tr th {\n",
       "        vertical-align: top;\n",
       "    }\n",
       "\n",
       "    .dataframe thead th {\n",
       "        text-align: right;\n",
       "    }\n",
       "</style>\n",
       "<table border=\"1\" class=\"dataframe\">\n",
       "  <thead>\n",
       "    <tr style=\"text-align: right;\">\n",
       "      <th>Ticker</th>\n",
       "      <th>AAPL</th>\n",
       "      <th>BRK.B</th>\n",
       "      <th>GOOGL</th>\n",
       "      <th>NVDA</th>\n",
       "      <th>UNH</th>\n",
       "      <th>Portfolio</th>\n",
       "    </tr>\n",
       "    <tr>\n",
       "      <th>Date</th>\n",
       "      <th></th>\n",
       "      <th></th>\n",
       "      <th></th>\n",
       "      <th></th>\n",
       "      <th></th>\n",
       "      <th></th>\n",
       "    </tr>\n",
       "  </thead>\n",
       "  <tbody>\n",
       "    <tr>\n",
       "      <th>2023-02-02</th>\n",
       "      <td>0.037063</td>\n",
       "      <td>0.004154</td>\n",
       "      <td>0.072787</td>\n",
       "      <td>0.036575</td>\n",
       "      <td>-0.052656</td>\n",
       "      <td>0.019585</td>\n",
       "    </tr>\n",
       "    <tr>\n",
       "      <th>2023-02-03</th>\n",
       "      <td>0.024400</td>\n",
       "      <td>-0.010742</td>\n",
       "      <td>-0.027474</td>\n",
       "      <td>-0.028053</td>\n",
       "      <td>0.002527</td>\n",
       "      <td>-0.007868</td>\n",
       "    </tr>\n",
       "    <tr>\n",
       "      <th>2023-02-06</th>\n",
       "      <td>-0.017929</td>\n",
       "      <td>-0.000259</td>\n",
       "      <td>-0.017942</td>\n",
       "      <td>-0.000521</td>\n",
       "      <td>0.006822</td>\n",
       "      <td>-0.005966</td>\n",
       "    </tr>\n",
       "    <tr>\n",
       "      <th>2023-02-07</th>\n",
       "      <td>0.019245</td>\n",
       "      <td>0.014720</td>\n",
       "      <td>0.046064</td>\n",
       "      <td>0.051401</td>\n",
       "      <td>0.003451</td>\n",
       "      <td>0.026976</td>\n",
       "    </tr>\n",
       "    <tr>\n",
       "      <th>2023-02-08</th>\n",
       "      <td>-0.017653</td>\n",
       "      <td>-0.014346</td>\n",
       "      <td>-0.076830</td>\n",
       "      <td>0.001443</td>\n",
       "      <td>0.013295</td>\n",
       "      <td>-0.018818</td>\n",
       "    </tr>\n",
       "  </tbody>\n",
       "</table>\n",
       "</div>"
      ],
      "text/plain": [
       "Ticker          AAPL     BRK.B     GOOGL      NVDA       UNH  Portfolio\n",
       "Date                                                                   \n",
       "2023-02-02  0.037063  0.004154  0.072787  0.036575 -0.052656   0.019585\n",
       "2023-02-03  0.024400 -0.010742 -0.027474 -0.028053  0.002527  -0.007868\n",
       "2023-02-06 -0.017929 -0.000259 -0.017942 -0.000521  0.006822  -0.005966\n",
       "2023-02-07  0.019245  0.014720  0.046064  0.051401  0.003451   0.026976\n",
       "2023-02-08 -0.017653 -0.014346 -0.076830  0.001443  0.013295  -0.018818"
      ]
     },
     "execution_count": 16,
     "metadata": {},
     "output_type": "execute_result"
    }
   ],
   "source": [
    "# Create portfolio variable in dataframe with weights using \".dot\"\n",
    "portfolio_returns[\"Portfolio\"] = portfolio_returns.dot(weight_array)\n",
    "portfolio_returns.head()"
   ]
  },
  {
   "cell_type": "code",
   "execution_count": 17,
   "id": "fadd056c-4286-4596-871e-d0a4848384f7",
   "metadata": {},
   "outputs": [
    {
     "data": {
      "text/plain": [
       "3.685375003568005"
      ]
     },
     "execution_count": 17,
     "metadata": {},
     "output_type": "execute_result"
    }
   ],
   "source": [
    "# use to store in user portfolio table \n",
    "user_sharpe_ratio= (portfolio_returns[\"Portfolio\"].mean() * (252)) / (portfolio_returns[\"Portfolio\"].std() * np.sqrt(252))\n",
    "user_sharpe_ratio"
   ]
  },
  {
   "cell_type": "markdown",
   "id": "34d5bb8e",
   "metadata": {},
   "source": [
    "# Storing User Info In User Portfolio CSV and Updating The Rank "
   ]
  },
  {
   "cell_type": "code",
   "execution_count": 18,
   "id": "d5e2ed73",
   "metadata": {},
   "outputs": [
    {
     "name": "stdout",
     "output_type": "stream",
     "text": [
      "UUID as string: 1ef50c81-e061-40d3-b398-10ec9e0ff0d6\n"
     ]
    }
   ],
   "source": [
    "#getting a uuid \n",
    "unique_id = uuid.uuid4()\n",
    "\n",
    "#converting uuid to string so it can store as a string in csv and easier to use loc\n",
    "user_uuid_str = str(unique_id)\n",
    "print(\"UUID as string:\", user_uuid_str)"
   ]
  },
  {
   "cell_type": "code",
   "execution_count": 19,
   "id": "e1f3cdf7",
   "metadata": {},
   "outputs": [],
   "source": [
    "# test static values - NEED TO BE REPLACE \n",
    "user_sharpe_ratio = 4.5445\n",
    "user_cumulative_returns = 6565.22\n",
    "user_daily_returns = 45764"
   ]
  },
  {
   "cell_type": "code",
   "execution_count": 20,
   "id": "605bf17b",
   "metadata": {},
   "outputs": [],
   "source": [
    "# Create a list of dictionaries (each dictionary represents a row of data)\n",
    "user_data = [{'UUID': user_uuid_str,\n",
    "              'User_Name': name,\n",
    "              'Sharpe_Ratio': user_sharpe_ratio,\n",
    "              'Stocks': f'{unique_user_portfolio_array}'}]\n",
    "\n",
    "# Create the DataFrame from the list of dictionaries\n",
    "user_portfolio_df = pd.DataFrame(user_data)"
   ]
  },
  {
   "cell_type": "code",
   "execution_count": 21,
   "id": "59f91a42",
   "metadata": {},
   "outputs": [
    {
     "name": "stdout",
     "output_type": "stream",
     "text": [
      "New User row added to the User User_Portfolio_Data.csv file. The following was added:\n"
     ]
    },
    {
     "data": {
      "text/html": [
       "<div>\n",
       "<style scoped>\n",
       "    .dataframe tbody tr th:only-of-type {\n",
       "        vertical-align: middle;\n",
       "    }\n",
       "\n",
       "    .dataframe tbody tr th {\n",
       "        vertical-align: top;\n",
       "    }\n",
       "\n",
       "    .dataframe thead th {\n",
       "        text-align: right;\n",
       "    }\n",
       "</style>\n",
       "<table border=\"1\" class=\"dataframe\">\n",
       "  <thead>\n",
       "    <tr style=\"text-align: right;\">\n",
       "      <th></th>\n",
       "      <th>UUID</th>\n",
       "      <th>User_Name</th>\n",
       "      <th>Sharpe_Ratio</th>\n",
       "      <th>Stocks</th>\n",
       "    </tr>\n",
       "  </thead>\n",
       "  <tbody>\n",
       "    <tr>\n",
       "      <th>0</th>\n",
       "      <td>1ef50c81-e061-40d3-b398-10ec9e0ff0d6</td>\n",
       "      <td>Ed</td>\n",
       "      <td>4.5445</td>\n",
       "      <td>['BRK.B', 'GOOGL', 'NVDA', 'UNH', 'AAPL']</td>\n",
       "    </tr>\n",
       "  </tbody>\n",
       "</table>\n",
       "</div>"
      ],
      "text/plain": [
       "                                   UUID User_Name  Sharpe_Ratio  \\\n",
       "0  1ef50c81-e061-40d3-b398-10ec9e0ff0d6        Ed        4.5445   \n",
       "\n",
       "                                      Stocks  \n",
       "0  ['BRK.B', 'GOOGL', 'NVDA', 'UNH', 'AAPL']  "
      ]
     },
     "metadata": {},
     "output_type": "display_data"
    }
   ],
   "source": [
    "# Append the new row to the DataFrame\n",
    "# user_data_df = user_data_df.append(user_data, ignore_index=True)\n",
    "\n",
    "# Concatenate the original DataFrame and the new row DataFrame\n",
    "user_data_df = pd.concat([user_data_df, user_portfolio_df], ignore_index=True)\n",
    "\n",
    "# Write the updated DataFrame back to the CSV file\n",
    "user_data_df.to_csv(user_data_to_load, index=False)\n",
    "\n",
    "#Print so user can see what was added \n",
    "print(\"New User row added to the User User_Portfolio_Data.csv file. The following was added:\")\n",
    "display(user_portfolio_df)"
   ]
  },
  {
   "cell_type": "code",
   "execution_count": 22,
   "id": "7c2fe3ce",
   "metadata": {},
   "outputs": [
    {
     "data": {
      "text/html": [
       "<div>\n",
       "<style scoped>\n",
       "    .dataframe tbody tr th:only-of-type {\n",
       "        vertical-align: middle;\n",
       "    }\n",
       "\n",
       "    .dataframe tbody tr th {\n",
       "        vertical-align: top;\n",
       "    }\n",
       "\n",
       "    .dataframe thead th {\n",
       "        text-align: right;\n",
       "    }\n",
       "</style>\n",
       "<table border=\"1\" class=\"dataframe\">\n",
       "  <thead>\n",
       "    <tr style=\"text-align: right;\">\n",
       "      <th></th>\n",
       "      <th>UUID</th>\n",
       "      <th>User_Name</th>\n",
       "      <th>Sharpe_Ratio</th>\n",
       "      <th>Cumulative_Returns</th>\n",
       "      <th>Daily_Returns</th>\n",
       "      <th>Stocks</th>\n",
       "    </tr>\n",
       "  </thead>\n",
       "  <tbody>\n",
       "    <tr>\n",
       "      <th>0</th>\n",
       "      <td>c8b71fc0-a969-4bbb-80f0-8caeedd3cc6a</td>\n",
       "      <td>Test1</td>\n",
       "      <td>4.54450</td>\n",
       "      <td>6565.22</td>\n",
       "      <td>45764.0</td>\n",
       "      <td>['AVGO', 'AAPL', 'MSFT', 'V', 'NVDA']</td>\n",
       "    </tr>\n",
       "    <tr>\n",
       "      <th>1</th>\n",
       "      <td>951bb78a-dacb-4047-a255-2eb50314a9fd</td>\n",
       "      <td>Amy</td>\n",
       "      <td>4.43430</td>\n",
       "      <td>23432.22</td>\n",
       "      <td>45454.0</td>\n",
       "      <td>['V', 'GOOGL', 'JNJ', 'MSFT', 'XOM']</td>\n",
       "    </tr>\n",
       "    <tr>\n",
       "      <th>2</th>\n",
       "      <td>56a3ba9e-7b6d-4376-a6d8-ffd2f42cee9d</td>\n",
       "      <td>Chris</td>\n",
       "      <td>3.11234</td>\n",
       "      <td>23432.22</td>\n",
       "      <td>45454.0</td>\n",
       "      <td>['AVGO', 'AAPL', 'MSFT', 'XOM']</td>\n",
       "    </tr>\n",
       "    <tr>\n",
       "      <th>3</th>\n",
       "      <td>951bb78a-dacb-4047-a255-2eb50314a9fd</td>\n",
       "      <td>Amy</td>\n",
       "      <td>3.11234</td>\n",
       "      <td>23432.22</td>\n",
       "      <td>45454.0</td>\n",
       "      <td>['V', 'GOOGL', 'JNJ', 'MSFT', 'XOM']</td>\n",
       "    </tr>\n",
       "    <tr>\n",
       "      <th>4</th>\n",
       "      <td>2526a1f9-0f46-4b73-a0aa-ac9f5920e3d9</td>\n",
       "      <td>JJ</td>\n",
       "      <td>2.11000</td>\n",
       "      <td>100.22</td>\n",
       "      <td>134.0</td>\n",
       "      <td>['AMZN', 'AAPL', 'MSFT', 'JPM']</td>\n",
       "    </tr>\n",
       "  </tbody>\n",
       "</table>\n",
       "</div>"
      ],
      "text/plain": [
       "                                   UUID User_Name  Sharpe_Ratio  \\\n",
       "0  c8b71fc0-a969-4bbb-80f0-8caeedd3cc6a     Test1       4.54450   \n",
       "1  951bb78a-dacb-4047-a255-2eb50314a9fd       Amy       4.43430   \n",
       "2  56a3ba9e-7b6d-4376-a6d8-ffd2f42cee9d    Chris        3.11234   \n",
       "3  951bb78a-dacb-4047-a255-2eb50314a9fd       Amy       3.11234   \n",
       "4  2526a1f9-0f46-4b73-a0aa-ac9f5920e3d9        JJ       2.11000   \n",
       "\n",
       "   Cumulative_Returns  Daily_Returns                                 Stocks  \n",
       "0             6565.22        45764.0  ['AVGO', 'AAPL', 'MSFT', 'V', 'NVDA']  \n",
       "1            23432.22        45454.0   ['V', 'GOOGL', 'JNJ', 'MSFT', 'XOM']  \n",
       "2            23432.22        45454.0        ['AVGO', 'AAPL', 'MSFT', 'XOM']  \n",
       "3            23432.22        45454.0   ['V', 'GOOGL', 'JNJ', 'MSFT', 'XOM']  \n",
       "4              100.22          134.0        ['AMZN', 'AAPL', 'MSFT', 'JPM']  "
      ]
     },
     "execution_count": 22,
     "metadata": {},
     "output_type": "execute_result"
    }
   ],
   "source": [
    "#preview top 5 users BEFORE the rank is updated \n",
    "user_data_df.head()"
   ]
  },
  {
   "cell_type": "code",
   "execution_count": 23,
   "id": "f82a7886",
   "metadata": {},
   "outputs": [
    {
     "data": {
      "text/html": [
       "<div>\n",
       "<style scoped>\n",
       "    .dataframe tbody tr th:only-of-type {\n",
       "        vertical-align: middle;\n",
       "    }\n",
       "\n",
       "    .dataframe tbody tr th {\n",
       "        vertical-align: top;\n",
       "    }\n",
       "\n",
       "    .dataframe thead th {\n",
       "        text-align: right;\n",
       "    }\n",
       "</style>\n",
       "<table border=\"1\" class=\"dataframe\">\n",
       "  <thead>\n",
       "    <tr style=\"text-align: right;\">\n",
       "      <th></th>\n",
       "      <th>UUID</th>\n",
       "      <th>User_Name</th>\n",
       "      <th>Sharpe_Ratio</th>\n",
       "      <th>Cumulative_Returns</th>\n",
       "      <th>Daily_Returns</th>\n",
       "      <th>Stocks</th>\n",
       "    </tr>\n",
       "  </thead>\n",
       "  <tbody>\n",
       "    <tr>\n",
       "      <th>0</th>\n",
       "      <td>c8b71fc0-a969-4bbb-80f0-8caeedd3cc6a</td>\n",
       "      <td>Test1</td>\n",
       "      <td>4.54450</td>\n",
       "      <td>6565.22</td>\n",
       "      <td>45764.0</td>\n",
       "      <td>['AVGO', 'AAPL', 'MSFT', 'V', 'NVDA']</td>\n",
       "    </tr>\n",
       "    <tr>\n",
       "      <th>6</th>\n",
       "      <td>1ef50c81-e061-40d3-b398-10ec9e0ff0d6</td>\n",
       "      <td>Ed</td>\n",
       "      <td>4.54450</td>\n",
       "      <td>NaN</td>\n",
       "      <td>NaN</td>\n",
       "      <td>['BRK.B', 'GOOGL', 'NVDA', 'UNH', 'AAPL']</td>\n",
       "    </tr>\n",
       "    <tr>\n",
       "      <th>1</th>\n",
       "      <td>951bb78a-dacb-4047-a255-2eb50314a9fd</td>\n",
       "      <td>Amy</td>\n",
       "      <td>4.43430</td>\n",
       "      <td>23432.22</td>\n",
       "      <td>45454.0</td>\n",
       "      <td>['V', 'GOOGL', 'JNJ', 'MSFT', 'XOM']</td>\n",
       "    </tr>\n",
       "    <tr>\n",
       "      <th>2</th>\n",
       "      <td>56a3ba9e-7b6d-4376-a6d8-ffd2f42cee9d</td>\n",
       "      <td>Chris</td>\n",
       "      <td>3.11234</td>\n",
       "      <td>23432.22</td>\n",
       "      <td>45454.0</td>\n",
       "      <td>['AVGO', 'AAPL', 'MSFT', 'XOM']</td>\n",
       "    </tr>\n",
       "    <tr>\n",
       "      <th>3</th>\n",
       "      <td>951bb78a-dacb-4047-a255-2eb50314a9fd</td>\n",
       "      <td>Amy</td>\n",
       "      <td>3.11234</td>\n",
       "      <td>23432.22</td>\n",
       "      <td>45454.0</td>\n",
       "      <td>['V', 'GOOGL', 'JNJ', 'MSFT', 'XOM']</td>\n",
       "    </tr>\n",
       "  </tbody>\n",
       "</table>\n",
       "</div>"
      ],
      "text/plain": [
       "                                   UUID User_Name  Sharpe_Ratio  \\\n",
       "0  c8b71fc0-a969-4bbb-80f0-8caeedd3cc6a     Test1       4.54450   \n",
       "6  1ef50c81-e061-40d3-b398-10ec9e0ff0d6        Ed       4.54450   \n",
       "1  951bb78a-dacb-4047-a255-2eb50314a9fd       Amy       4.43430   \n",
       "2  56a3ba9e-7b6d-4376-a6d8-ffd2f42cee9d    Chris        3.11234   \n",
       "3  951bb78a-dacb-4047-a255-2eb50314a9fd       Amy       3.11234   \n",
       "\n",
       "   Cumulative_Returns  Daily_Returns  \\\n",
       "0             6565.22        45764.0   \n",
       "6                 NaN            NaN   \n",
       "1            23432.22        45454.0   \n",
       "2            23432.22        45454.0   \n",
       "3            23432.22        45454.0   \n",
       "\n",
       "                                      Stocks  \n",
       "0      ['AVGO', 'AAPL', 'MSFT', 'V', 'NVDA']  \n",
       "6  ['BRK.B', 'GOOGL', 'NVDA', 'UNH', 'AAPL']  \n",
       "1       ['V', 'GOOGL', 'JNJ', 'MSFT', 'XOM']  \n",
       "2            ['AVGO', 'AAPL', 'MSFT', 'XOM']  \n",
       "3       ['V', 'GOOGL', 'JNJ', 'MSFT', 'XOM']  "
      ]
     },
     "execution_count": 23,
     "metadata": {},
     "output_type": "execute_result"
    }
   ],
   "source": [
    "#Sort user portfolio table to get new ranking. Sort by descending since higher sharpe ratio the better \n",
    "sorted_user_data_df = user_data_df.sort_values(by='Sharpe_Ratio', ascending=False)\n",
    "\n",
    "#Rank AFTER rank is updated  \n",
    "sorted_user_data_df.head()\n"
   ]
  },
  {
   "cell_type": "code",
   "execution_count": null,
   "id": "3a87a2e1",
   "metadata": {},
   "outputs": [],
   "source": [
    "#Save new rank to user User_Portfolio_Data.csv Write the updated DataFrame back to the CSV file\n",
    "\n",
    "sorted_user_data_df.to_csv(user_data_to_load, index=False)\n",
    "\n",
    "#have to re-import the user portfolio data to get updated sorted list \n",
    "user_data_df = pd.read_csv(user_data_to_load, header=0, parse_dates=True)\n",
    "user_data_df.sort_index(ascending = True, inplace = True)"
   ]
  },
  {
   "cell_type": "code",
   "execution_count": null,
   "id": "d734c7aa",
   "metadata": {},
   "outputs": [],
   "source": [
    "#User Ranking of top 5 AFTER rank is updated  \n",
    "\n",
    "user_data_df.head()"
   ]
  },
  {
   "cell_type": "code",
   "execution_count": null,
   "id": "46570cdb",
   "metadata": {},
   "outputs": [],
   "source": [
    "# Grab Postition of User Ranking \n",
    "\n",
    "condition = user_data_df['UUID'] == user_uuid_str\n",
    "matching_rows = user_data_df[condition]\n",
    "\n",
    "# Get the index of the first matching row (if any)\n",
    "if not matching_rows.empty:\n",
    "    row_index = matching_rows.index[0]\n",
    "#     print(f\"Index of the row: {row_index}\")\n",
    "    print(f\"{name}, your rank is {row_index + 1}\" )\n",
    "else:\n",
    "    print(\"Error, user info not found\")\n",
    "    \n"
   ]
  },
  {
   "cell_type": "markdown",
   "id": "a5945fc4-5277-416c-bb93-b40bf8290327",
   "metadata": {},
   "source": [
    "# User Performance Compared to Other Players Calulation and Market"
   ]
  },
  {
   "cell_type": "code",
   "execution_count": null,
   "id": "9625e2a4-1407-48d3-94de-767f5d3b6521",
   "metadata": {},
   "outputs": [],
   "source": [
    "# Create a dataframe for market indicators and calculate daily returns and drop nulls \n",
    "sp_returns = raw_stocks_data_df.loc[raw_stocks_data_df[\"Ticker\"]==\"SPX\"]\n",
    "sp_returns = sp_returns[[\"Close_Price\"]].pct_change().dropna()\n",
    "\n",
    "ndaq_returns = raw_stocks_data_df.loc[raw_stocks_data_df[\"Ticker\"]==\"NDAQ\"]\n",
    "ndaq_returns = ndaq_returns[[\"Close_Price\"]].pct_change().dropna()\n",
    "\n",
    "# Rename columns to SP500 and NDAQ\n",
    "sp_returns.columns=[\"SP500\"]\n",
    "ndaq_returns.columns=[\"NDAQ\"]\n",
    "\n",
    "# Combine dataframes\n",
    "market_returns = pd.concat([sp_returns, ndaq_returns], axis=\"columns\", join=\"inner\")\n",
    "market_returns.head("
   ]
  },
  {
   "cell_type": "code",
   "execution_count": null,
   "id": "0ac386b6-3b79-44d2-96ee-521306e69d9c",
   "metadata": {},
   "outputs": [],
   "source": [
    "# Join market_return with portfolio to calculate sharp ratio\n",
    "portfolio_market_returns = pd.concat([portfolio_returns[\"Portfolio\"], market_returns], axis=\"columns\", join=\"inner\")\n",
    "portfolio_market_returns.head()"
   ]
  },
  {
   "cell_type": "code",
   "execution_count": null,
   "id": "6d11053c-339a-45ab-8280-c0e90d5ac93e",
   "metadata": {},
   "outputs": [],
   "source": [
    "# Calculate sharp ratio - visulaize purposes - Portfolio and the Index\n",
    "portfolio_market_sharp_ratio = (portfolio_market_returns.mean() * (252)) / (portfolio_market_returns.std() * np.sqrt(252))\n",
    "portfolio_market_sharp_ratio"
   ]
  },
  {
   "cell_type": "code",
   "execution_count": null,
   "id": "a5c8c85c-7162-4a00-abf0-7f13a5ff22f0",
   "metadata": {},
   "outputs": [],
   "source": [
    "# Calculate cumulative returns to create plot\n",
    "portfolio_market_stocks_return = pd.concat([portfolio_returns, market_returns], axis=\"columns\", join=\"inner\")\n",
    "portfolio_market_stocks_cum_return = (1 + portfolio_market_stocks_return).cumprod()\n",
    "portfolio_market_stocks_cum_return"
   ]
  },
  {
   "cell_type": "code",
   "execution_count": null,
   "id": "b1b94afa-4263-4a44-b7ad-807c84488f29",
   "metadata": {},
   "outputs": [],
   "source": []
  },
  {
   "cell_type": "code",
   "execution_count": null,
   "id": "514cc7b6-824e-4f74-83e7-94661022b39f",
   "metadata": {},
   "outputs": [],
   "source": []
  },
  {
   "cell_type": "code",
   "execution_count": null,
   "id": "c2a5f02a-d040-4df1-8973-e11f2d7642e4",
   "metadata": {},
   "outputs": [],
   "source": []
  },
  {
   "cell_type": "markdown",
   "id": "41136f8a",
   "metadata": {},
   "source": [
    "# Visulization "
   ]
  },
  {
   "cell_type": "code",
   "execution_count": null,
   "id": "a93f45a6",
   "metadata": {},
   "outputs": [],
   "source": []
  },
  {
   "cell_type": "code",
   "execution_count": null,
   "id": "c7762283",
   "metadata": {},
   "outputs": [],
   "source": []
  }
 ],
 "metadata": {
  "kernelspec": {
   "display_name": "Python 3 (ipykernel)",
   "language": "python",
   "name": "python3"
  },
  "language_info": {
   "codemirror_mode": {
    "name": "ipython",
    "version": 3
   },
   "file_extension": ".py",
   "mimetype": "text/x-python",
   "name": "python",
   "nbconvert_exporter": "python",
   "pygments_lexer": "ipython3",
   "version": "3.10.11"
  }
 },
 "nbformat": 4,
 "nbformat_minor": 5
}
