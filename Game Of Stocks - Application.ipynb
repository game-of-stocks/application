{
 "cells": [
  {
   "cell_type": "code",
   "execution_count": 1,
   "id": "76319276",
   "metadata": {},
   "outputs": [
    {
     "data": {
      "application/javascript": [
       "(function(root) {\n",
       "  function now() {\n",
       "    return new Date();\n",
       "  }\n",
       "\n",
       "  var force = true;\n",
       "  var py_version = '3.2.1'.replace('rc', '-rc.').replace('.dev', '-dev.');\n",
       "  var is_dev = py_version.indexOf(\"+\") !== -1 || py_version.indexOf(\"-\") !== -1;\n",
       "  var reloading = false;\n",
       "  var Bokeh = root.Bokeh;\n",
       "  var bokeh_loaded = Bokeh != null && (Bokeh.version === py_version || (Bokeh.versions !== undefined && Bokeh.versions.has(py_version)));\n",
       "\n",
       "  if (typeof (root._bokeh_timeout) === \"undefined\" || force) {\n",
       "    root._bokeh_timeout = Date.now() + 5000;\n",
       "    root._bokeh_failed_load = false;\n",
       "  }\n",
       "\n",
       "  function run_callbacks() {\n",
       "    try {\n",
       "      root._bokeh_onload_callbacks.forEach(function(callback) {\n",
       "        if (callback != null)\n",
       "          callback();\n",
       "      });\n",
       "    } finally {\n",
       "      delete root._bokeh_onload_callbacks;\n",
       "    }\n",
       "    console.debug(\"Bokeh: all callbacks have finished\");\n",
       "  }\n",
       "\n",
       "  function load_libs(css_urls, js_urls, js_modules, js_exports, callback) {\n",
       "    if (css_urls == null) css_urls = [];\n",
       "    if (js_urls == null) js_urls = [];\n",
       "    if (js_modules == null) js_modules = [];\n",
       "    if (js_exports == null) js_exports = {};\n",
       "\n",
       "    root._bokeh_onload_callbacks.push(callback);\n",
       "\n",
       "    if (root._bokeh_is_loading > 0) {\n",
       "      console.debug(\"Bokeh: BokehJS is being loaded, scheduling callback at\", now());\n",
       "      return null;\n",
       "    }\n",
       "    if (js_urls.length === 0 && js_modules.length === 0 && Object.keys(js_exports).length === 0) {\n",
       "      run_callbacks();\n",
       "      return null;\n",
       "    }\n",
       "    if (!reloading) {\n",
       "      console.debug(\"Bokeh: BokehJS not loaded, scheduling load and callback at\", now());\n",
       "    }\n",
       "\n",
       "    function on_load() {\n",
       "      root._bokeh_is_loading--;\n",
       "      if (root._bokeh_is_loading === 0) {\n",
       "        console.debug(\"Bokeh: all BokehJS libraries/stylesheets loaded\");\n",
       "        run_callbacks()\n",
       "      }\n",
       "    }\n",
       "    window._bokeh_on_load = on_load\n",
       "\n",
       "    function on_error() {\n",
       "      console.error(\"failed to load \" + url);\n",
       "    }\n",
       "\n",
       "    var skip = [];\n",
       "    if (window.requirejs) {\n",
       "      window.requirejs.config({'packages': {}, 'paths': {'jspanel': 'https://cdn.jsdelivr.net/npm/jspanel4@4.12.0/dist/jspanel', 'jspanel-modal': 'https://cdn.jsdelivr.net/npm/jspanel4@4.12.0/dist/extensions/modal/jspanel.modal', 'jspanel-tooltip': 'https://cdn.jsdelivr.net/npm/jspanel4@4.12.0/dist/extensions/tooltip/jspanel.tooltip', 'jspanel-hint': 'https://cdn.jsdelivr.net/npm/jspanel4@4.12.0/dist/extensions/hint/jspanel.hint', 'jspanel-layout': 'https://cdn.jsdelivr.net/npm/jspanel4@4.12.0/dist/extensions/layout/jspanel.layout', 'jspanel-contextmenu': 'https://cdn.jsdelivr.net/npm/jspanel4@4.12.0/dist/extensions/contextmenu/jspanel.contextmenu', 'jspanel-dock': 'https://cdn.jsdelivr.net/npm/jspanel4@4.12.0/dist/extensions/dock/jspanel.dock', 'gridstack': 'https://cdn.jsdelivr.net/npm/gridstack@7.2.3/dist/gridstack-all', 'notyf': 'https://cdn.jsdelivr.net/npm/notyf@3/notyf.min'}, 'shim': {'jspanel': {'exports': 'jsPanel'}, 'gridstack': {'exports': 'GridStack'}}});\n",
       "      require([\"jspanel\"], function(jsPanel) {\n",
       "\twindow.jsPanel = jsPanel\n",
       "\ton_load()\n",
       "      })\n",
       "      require([\"jspanel-modal\"], function() {\n",
       "\ton_load()\n",
       "      })\n",
       "      require([\"jspanel-tooltip\"], function() {\n",
       "\ton_load()\n",
       "      })\n",
       "      require([\"jspanel-hint\"], function() {\n",
       "\ton_load()\n",
       "      })\n",
       "      require([\"jspanel-layout\"], function() {\n",
       "\ton_load()\n",
       "      })\n",
       "      require([\"jspanel-contextmenu\"], function() {\n",
       "\ton_load()\n",
       "      })\n",
       "      require([\"jspanel-dock\"], function() {\n",
       "\ton_load()\n",
       "      })\n",
       "      require([\"gridstack\"], function(GridStack) {\n",
       "\twindow.GridStack = GridStack\n",
       "\ton_load()\n",
       "      })\n",
       "      require([\"notyf\"], function() {\n",
       "\ton_load()\n",
       "      })\n",
       "      root._bokeh_is_loading = css_urls.length + 9;\n",
       "    } else {\n",
       "      root._bokeh_is_loading = css_urls.length + js_urls.length + js_modules.length + Object.keys(js_exports).length;\n",
       "    }\n",
       "\n",
       "    var existing_stylesheets = []\n",
       "    var links = document.getElementsByTagName('link')\n",
       "    for (var i = 0; i < links.length; i++) {\n",
       "      var link = links[i]\n",
       "      if (link.href != null) {\n",
       "\texisting_stylesheets.push(link.href)\n",
       "      }\n",
       "    }\n",
       "    for (var i = 0; i < css_urls.length; i++) {\n",
       "      var url = css_urls[i];\n",
       "      if (existing_stylesheets.indexOf(url) !== -1) {\n",
       "\ton_load()\n",
       "\tcontinue;\n",
       "      }\n",
       "      const element = document.createElement(\"link\");\n",
       "      element.onload = on_load;\n",
       "      element.onerror = on_error;\n",
       "      element.rel = \"stylesheet\";\n",
       "      element.type = \"text/css\";\n",
       "      element.href = url;\n",
       "      console.debug(\"Bokeh: injecting link tag for BokehJS stylesheet: \", url);\n",
       "      document.body.appendChild(element);\n",
       "    }    if (((window['jsPanel'] !== undefined) && (!(window['jsPanel'] instanceof HTMLElement))) || window.requirejs) {\n",
       "      var urls = ['https://cdn.holoviz.org/panel/1.2.1/dist/bundled/floatpanel/jspanel4@4.12.0/dist/jspanel.js', 'https://cdn.holoviz.org/panel/1.2.1/dist/bundled/floatpanel/jspanel4@4.12.0/dist/extensions/modal/jspanel.modal.js', 'https://cdn.holoviz.org/panel/1.2.1/dist/bundled/floatpanel/jspanel4@4.12.0/dist/extensions/tooltip/jspanel.tooltip.js', 'https://cdn.holoviz.org/panel/1.2.1/dist/bundled/floatpanel/jspanel4@4.12.0/dist/extensions/hint/jspanel.hint.js', 'https://cdn.holoviz.org/panel/1.2.1/dist/bundled/floatpanel/jspanel4@4.12.0/dist/extensions/layout/jspanel.layout.js', 'https://cdn.holoviz.org/panel/1.2.1/dist/bundled/floatpanel/jspanel4@4.12.0/dist/extensions/contextmenu/jspanel.contextmenu.js', 'https://cdn.holoviz.org/panel/1.2.1/dist/bundled/floatpanel/jspanel4@4.12.0/dist/extensions/dock/jspanel.dock.js'];\n",
       "      for (var i = 0; i < urls.length; i++) {\n",
       "        skip.push(urls[i])\n",
       "      }\n",
       "    }    if (((window['GridStack'] !== undefined) && (!(window['GridStack'] instanceof HTMLElement))) || window.requirejs) {\n",
       "      var urls = ['https://cdn.holoviz.org/panel/1.2.1/dist/bundled/gridstack/gridstack@7.2.3/dist/gridstack-all.js'];\n",
       "      for (var i = 0; i < urls.length; i++) {\n",
       "        skip.push(urls[i])\n",
       "      }\n",
       "    }    if (((window['Notyf'] !== undefined) && (!(window['Notyf'] instanceof HTMLElement))) || window.requirejs) {\n",
       "      var urls = ['https://cdn.holoviz.org/panel/1.2.1/dist/bundled/notificationarea/notyf@3/notyf.min.js'];\n",
       "      for (var i = 0; i < urls.length; i++) {\n",
       "        skip.push(urls[i])\n",
       "      }\n",
       "    }    var existing_scripts = []\n",
       "    var scripts = document.getElementsByTagName('script')\n",
       "    for (var i = 0; i < scripts.length; i++) {\n",
       "      var script = scripts[i]\n",
       "      if (script.src != null) {\n",
       "\texisting_scripts.push(script.src)\n",
       "      }\n",
       "    }\n",
       "    for (var i = 0; i < js_urls.length; i++) {\n",
       "      var url = js_urls[i];\n",
       "      if (skip.indexOf(url) !== -1 || existing_scripts.indexOf(url) !== -1) {\n",
       "\tif (!window.requirejs) {\n",
       "\t  on_load();\n",
       "\t}\n",
       "\tcontinue;\n",
       "      }\n",
       "      var element = document.createElement('script');\n",
       "      element.onload = on_load;\n",
       "      element.onerror = on_error;\n",
       "      element.async = false;\n",
       "      element.src = url;\n",
       "      console.debug(\"Bokeh: injecting script tag for BokehJS library: \", url);\n",
       "      document.head.appendChild(element);\n",
       "    }\n",
       "    for (var i = 0; i < js_modules.length; i++) {\n",
       "      var url = js_modules[i];\n",
       "      if (skip.indexOf(url) !== -1 || existing_scripts.indexOf(url) !== -1) {\n",
       "\tif (!window.requirejs) {\n",
       "\t  on_load();\n",
       "\t}\n",
       "\tcontinue;\n",
       "      }\n",
       "      var element = document.createElement('script');\n",
       "      element.onload = on_load;\n",
       "      element.onerror = on_error;\n",
       "      element.async = false;\n",
       "      element.src = url;\n",
       "      element.type = \"module\";\n",
       "      console.debug(\"Bokeh: injecting script tag for BokehJS library: \", url);\n",
       "      document.head.appendChild(element);\n",
       "    }\n",
       "    for (const name in js_exports) {\n",
       "      var url = js_exports[name];\n",
       "      if (skip.indexOf(url) >= 0 || root[name] != null) {\n",
       "\tif (!window.requirejs) {\n",
       "\t  on_load();\n",
       "\t}\n",
       "\tcontinue;\n",
       "      }\n",
       "      var element = document.createElement('script');\n",
       "      element.onerror = on_error;\n",
       "      element.async = false;\n",
       "      element.type = \"module\";\n",
       "      console.debug(\"Bokeh: injecting script tag for BokehJS library: \", url);\n",
       "      element.textContent = `\n",
       "      import ${name} from \"${url}\"\n",
       "      window.${name} = ${name}\n",
       "      window._bokeh_on_load()\n",
       "      `\n",
       "      document.head.appendChild(element);\n",
       "    }\n",
       "    if (!js_urls.length && !js_modules.length) {\n",
       "      on_load()\n",
       "    }\n",
       "  };\n",
       "\n",
       "  function inject_raw_css(css) {\n",
       "    const element = document.createElement(\"style\");\n",
       "    element.appendChild(document.createTextNode(css));\n",
       "    document.body.appendChild(element);\n",
       "  }\n",
       "\n",
       "  var js_urls = [\"https://cdn.bokeh.org/bokeh/release/bokeh-3.2.1.min.js\", \"https://cdn.bokeh.org/bokeh/release/bokeh-gl-3.2.1.min.js\", \"https://cdn.bokeh.org/bokeh/release/bokeh-widgets-3.2.1.min.js\", \"https://cdn.bokeh.org/bokeh/release/bokeh-tables-3.2.1.min.js\", \"https://cdn.holoviz.org/panel/1.2.1/dist/panel.min.js\"];\n",
       "  var js_modules = [];\n",
       "  var js_exports = {};\n",
       "  var css_urls = [];\n",
       "  var inline_js = [    function(Bokeh) {\n",
       "      Bokeh.set_log_level(\"info\");\n",
       "    },\n",
       "function(Bokeh) {} // ensure no trailing comma for IE\n",
       "  ];\n",
       "\n",
       "  function run_inline_js() {\n",
       "    if ((root.Bokeh !== undefined) || (force === true)) {\n",
       "      for (var i = 0; i < inline_js.length; i++) {\n",
       "        inline_js[i].call(root, root.Bokeh);\n",
       "      }\n",
       "      // Cache old bokeh versions\n",
       "      if (Bokeh != undefined && !reloading) {\n",
       "\tvar NewBokeh = root.Bokeh;\n",
       "\tif (Bokeh.versions === undefined) {\n",
       "\t  Bokeh.versions = new Map();\n",
       "\t}\n",
       "\tif (NewBokeh.version !== Bokeh.version) {\n",
       "\t  Bokeh.versions.set(NewBokeh.version, NewBokeh)\n",
       "\t}\n",
       "\troot.Bokeh = Bokeh;\n",
       "      }} else if (Date.now() < root._bokeh_timeout) {\n",
       "      setTimeout(run_inline_js, 100);\n",
       "    } else if (!root._bokeh_failed_load) {\n",
       "      console.log(\"Bokeh: BokehJS failed to load within specified timeout.\");\n",
       "      root._bokeh_failed_load = true;\n",
       "    }\n",
       "    root._bokeh_is_initializing = false\n",
       "  }\n",
       "\n",
       "  function load_or_wait() {\n",
       "    // Implement a backoff loop that tries to ensure we do not load multiple\n",
       "    // versions of Bokeh and its dependencies at the same time.\n",
       "    // In recent versions we use the root._bokeh_is_initializing flag\n",
       "    // to determine whether there is an ongoing attempt to initialize\n",
       "    // bokeh, however for backward compatibility we also try to ensure\n",
       "    // that we do not start loading a newer (Panel>=1.0 and Bokeh>3) version\n",
       "    // before older versions are fully initialized.\n",
       "    if (root._bokeh_is_initializing && Date.now() > root._bokeh_timeout) {\n",
       "      root._bokeh_is_initializing = false;\n",
       "      root._bokeh_onload_callbacks = undefined;\n",
       "      console.log(\"Bokeh: BokehJS was loaded multiple times but one version failed to initialize.\");\n",
       "      load_or_wait();\n",
       "    } else if (root._bokeh_is_initializing || (typeof root._bokeh_is_initializing === \"undefined\" && root._bokeh_onload_callbacks !== undefined)) {\n",
       "      setTimeout(load_or_wait, 100);\n",
       "    } else {\n",
       "      Bokeh = root.Bokeh;\n",
       "      bokeh_loaded = Bokeh != null && (Bokeh.version === py_version || (Bokeh.versions !== undefined && Bokeh.versions.has(py_version)));\n",
       "      root._bokeh_is_initializing = true\n",
       "      root._bokeh_onload_callbacks = []\n",
       "      if (!reloading && (!bokeh_loaded || is_dev)) {\n",
       "\troot.Bokeh = undefined;\n",
       "      }\n",
       "      load_libs(css_urls, js_urls, js_modules, js_exports, function() {\n",
       "\tconsole.debug(\"Bokeh: BokehJS plotting callback run at\", now());\n",
       "\trun_inline_js();\n",
       "      });\n",
       "    }\n",
       "  }\n",
       "  // Give older versions of the autoload script a head-start to ensure\n",
       "  // they initialize before we start loading newer version.\n",
       "  setTimeout(load_or_wait, 100)\n",
       "}(window));"
      ],
      "application/vnd.holoviews_load.v0+json": "(function(root) {\n  function now() {\n    return new Date();\n  }\n\n  var force = true;\n  var py_version = '3.2.1'.replace('rc', '-rc.').replace('.dev', '-dev.');\n  var is_dev = py_version.indexOf(\"+\") !== -1 || py_version.indexOf(\"-\") !== -1;\n  var reloading = false;\n  var Bokeh = root.Bokeh;\n  var bokeh_loaded = Bokeh != null && (Bokeh.version === py_version || (Bokeh.versions !== undefined && Bokeh.versions.has(py_version)));\n\n  if (typeof (root._bokeh_timeout) === \"undefined\" || force) {\n    root._bokeh_timeout = Date.now() + 5000;\n    root._bokeh_failed_load = false;\n  }\n\n  function run_callbacks() {\n    try {\n      root._bokeh_onload_callbacks.forEach(function(callback) {\n        if (callback != null)\n          callback();\n      });\n    } finally {\n      delete root._bokeh_onload_callbacks;\n    }\n    console.debug(\"Bokeh: all callbacks have finished\");\n  }\n\n  function load_libs(css_urls, js_urls, js_modules, js_exports, callback) {\n    if (css_urls == null) css_urls = [];\n    if (js_urls == null) js_urls = [];\n    if (js_modules == null) js_modules = [];\n    if (js_exports == null) js_exports = {};\n\n    root._bokeh_onload_callbacks.push(callback);\n\n    if (root._bokeh_is_loading > 0) {\n      console.debug(\"Bokeh: BokehJS is being loaded, scheduling callback at\", now());\n      return null;\n    }\n    if (js_urls.length === 0 && js_modules.length === 0 && Object.keys(js_exports).length === 0) {\n      run_callbacks();\n      return null;\n    }\n    if (!reloading) {\n      console.debug(\"Bokeh: BokehJS not loaded, scheduling load and callback at\", now());\n    }\n\n    function on_load() {\n      root._bokeh_is_loading--;\n      if (root._bokeh_is_loading === 0) {\n        console.debug(\"Bokeh: all BokehJS libraries/stylesheets loaded\");\n        run_callbacks()\n      }\n    }\n    window._bokeh_on_load = on_load\n\n    function on_error() {\n      console.error(\"failed to load \" + url);\n    }\n\n    var skip = [];\n    if (window.requirejs) {\n      window.requirejs.config({'packages': {}, 'paths': {'jspanel': 'https://cdn.jsdelivr.net/npm/jspanel4@4.12.0/dist/jspanel', 'jspanel-modal': 'https://cdn.jsdelivr.net/npm/jspanel4@4.12.0/dist/extensions/modal/jspanel.modal', 'jspanel-tooltip': 'https://cdn.jsdelivr.net/npm/jspanel4@4.12.0/dist/extensions/tooltip/jspanel.tooltip', 'jspanel-hint': 'https://cdn.jsdelivr.net/npm/jspanel4@4.12.0/dist/extensions/hint/jspanel.hint', 'jspanel-layout': 'https://cdn.jsdelivr.net/npm/jspanel4@4.12.0/dist/extensions/layout/jspanel.layout', 'jspanel-contextmenu': 'https://cdn.jsdelivr.net/npm/jspanel4@4.12.0/dist/extensions/contextmenu/jspanel.contextmenu', 'jspanel-dock': 'https://cdn.jsdelivr.net/npm/jspanel4@4.12.0/dist/extensions/dock/jspanel.dock', 'gridstack': 'https://cdn.jsdelivr.net/npm/gridstack@7.2.3/dist/gridstack-all', 'notyf': 'https://cdn.jsdelivr.net/npm/notyf@3/notyf.min'}, 'shim': {'jspanel': {'exports': 'jsPanel'}, 'gridstack': {'exports': 'GridStack'}}});\n      require([\"jspanel\"], function(jsPanel) {\n\twindow.jsPanel = jsPanel\n\ton_load()\n      })\n      require([\"jspanel-modal\"], function() {\n\ton_load()\n      })\n      require([\"jspanel-tooltip\"], function() {\n\ton_load()\n      })\n      require([\"jspanel-hint\"], function() {\n\ton_load()\n      })\n      require([\"jspanel-layout\"], function() {\n\ton_load()\n      })\n      require([\"jspanel-contextmenu\"], function() {\n\ton_load()\n      })\n      require([\"jspanel-dock\"], function() {\n\ton_load()\n      })\n      require([\"gridstack\"], function(GridStack) {\n\twindow.GridStack = GridStack\n\ton_load()\n      })\n      require([\"notyf\"], function() {\n\ton_load()\n      })\n      root._bokeh_is_loading = css_urls.length + 9;\n    } else {\n      root._bokeh_is_loading = css_urls.length + js_urls.length + js_modules.length + Object.keys(js_exports).length;\n    }\n\n    var existing_stylesheets = []\n    var links = document.getElementsByTagName('link')\n    for (var i = 0; i < links.length; i++) {\n      var link = links[i]\n      if (link.href != null) {\n\texisting_stylesheets.push(link.href)\n      }\n    }\n    for (var i = 0; i < css_urls.length; i++) {\n      var url = css_urls[i];\n      if (existing_stylesheets.indexOf(url) !== -1) {\n\ton_load()\n\tcontinue;\n      }\n      const element = document.createElement(\"link\");\n      element.onload = on_load;\n      element.onerror = on_error;\n      element.rel = \"stylesheet\";\n      element.type = \"text/css\";\n      element.href = url;\n      console.debug(\"Bokeh: injecting link tag for BokehJS stylesheet: \", url);\n      document.body.appendChild(element);\n    }    if (((window['jsPanel'] !== undefined) && (!(window['jsPanel'] instanceof HTMLElement))) || window.requirejs) {\n      var urls = ['https://cdn.holoviz.org/panel/1.2.1/dist/bundled/floatpanel/jspanel4@4.12.0/dist/jspanel.js', 'https://cdn.holoviz.org/panel/1.2.1/dist/bundled/floatpanel/jspanel4@4.12.0/dist/extensions/modal/jspanel.modal.js', 'https://cdn.holoviz.org/panel/1.2.1/dist/bundled/floatpanel/jspanel4@4.12.0/dist/extensions/tooltip/jspanel.tooltip.js', 'https://cdn.holoviz.org/panel/1.2.1/dist/bundled/floatpanel/jspanel4@4.12.0/dist/extensions/hint/jspanel.hint.js', 'https://cdn.holoviz.org/panel/1.2.1/dist/bundled/floatpanel/jspanel4@4.12.0/dist/extensions/layout/jspanel.layout.js', 'https://cdn.holoviz.org/panel/1.2.1/dist/bundled/floatpanel/jspanel4@4.12.0/dist/extensions/contextmenu/jspanel.contextmenu.js', 'https://cdn.holoviz.org/panel/1.2.1/dist/bundled/floatpanel/jspanel4@4.12.0/dist/extensions/dock/jspanel.dock.js'];\n      for (var i = 0; i < urls.length; i++) {\n        skip.push(urls[i])\n      }\n    }    if (((window['GridStack'] !== undefined) && (!(window['GridStack'] instanceof HTMLElement))) || window.requirejs) {\n      var urls = ['https://cdn.holoviz.org/panel/1.2.1/dist/bundled/gridstack/gridstack@7.2.3/dist/gridstack-all.js'];\n      for (var i = 0; i < urls.length; i++) {\n        skip.push(urls[i])\n      }\n    }    if (((window['Notyf'] !== undefined) && (!(window['Notyf'] instanceof HTMLElement))) || window.requirejs) {\n      var urls = ['https://cdn.holoviz.org/panel/1.2.1/dist/bundled/notificationarea/notyf@3/notyf.min.js'];\n      for (var i = 0; i < urls.length; i++) {\n        skip.push(urls[i])\n      }\n    }    var existing_scripts = []\n    var scripts = document.getElementsByTagName('script')\n    for (var i = 0; i < scripts.length; i++) {\n      var script = scripts[i]\n      if (script.src != null) {\n\texisting_scripts.push(script.src)\n      }\n    }\n    for (var i = 0; i < js_urls.length; i++) {\n      var url = js_urls[i];\n      if (skip.indexOf(url) !== -1 || existing_scripts.indexOf(url) !== -1) {\n\tif (!window.requirejs) {\n\t  on_load();\n\t}\n\tcontinue;\n      }\n      var element = document.createElement('script');\n      element.onload = on_load;\n      element.onerror = on_error;\n      element.async = false;\n      element.src = url;\n      console.debug(\"Bokeh: injecting script tag for BokehJS library: \", url);\n      document.head.appendChild(element);\n    }\n    for (var i = 0; i < js_modules.length; i++) {\n      var url = js_modules[i];\n      if (skip.indexOf(url) !== -1 || existing_scripts.indexOf(url) !== -1) {\n\tif (!window.requirejs) {\n\t  on_load();\n\t}\n\tcontinue;\n      }\n      var element = document.createElement('script');\n      element.onload = on_load;\n      element.onerror = on_error;\n      element.async = false;\n      element.src = url;\n      element.type = \"module\";\n      console.debug(\"Bokeh: injecting script tag for BokehJS library: \", url);\n      document.head.appendChild(element);\n    }\n    for (const name in js_exports) {\n      var url = js_exports[name];\n      if (skip.indexOf(url) >= 0 || root[name] != null) {\n\tif (!window.requirejs) {\n\t  on_load();\n\t}\n\tcontinue;\n      }\n      var element = document.createElement('script');\n      element.onerror = on_error;\n      element.async = false;\n      element.type = \"module\";\n      console.debug(\"Bokeh: injecting script tag for BokehJS library: \", url);\n      element.textContent = `\n      import ${name} from \"${url}\"\n      window.${name} = ${name}\n      window._bokeh_on_load()\n      `\n      document.head.appendChild(element);\n    }\n    if (!js_urls.length && !js_modules.length) {\n      on_load()\n    }\n  };\n\n  function inject_raw_css(css) {\n    const element = document.createElement(\"style\");\n    element.appendChild(document.createTextNode(css));\n    document.body.appendChild(element);\n  }\n\n  var js_urls = [\"https://cdn.bokeh.org/bokeh/release/bokeh-3.2.1.min.js\", \"https://cdn.bokeh.org/bokeh/release/bokeh-gl-3.2.1.min.js\", \"https://cdn.bokeh.org/bokeh/release/bokeh-widgets-3.2.1.min.js\", \"https://cdn.bokeh.org/bokeh/release/bokeh-tables-3.2.1.min.js\", \"https://cdn.holoviz.org/panel/1.2.1/dist/panel.min.js\"];\n  var js_modules = [];\n  var js_exports = {};\n  var css_urls = [];\n  var inline_js = [    function(Bokeh) {\n      Bokeh.set_log_level(\"info\");\n    },\nfunction(Bokeh) {} // ensure no trailing comma for IE\n  ];\n\n  function run_inline_js() {\n    if ((root.Bokeh !== undefined) || (force === true)) {\n      for (var i = 0; i < inline_js.length; i++) {\n        inline_js[i].call(root, root.Bokeh);\n      }\n      // Cache old bokeh versions\n      if (Bokeh != undefined && !reloading) {\n\tvar NewBokeh = root.Bokeh;\n\tif (Bokeh.versions === undefined) {\n\t  Bokeh.versions = new Map();\n\t}\n\tif (NewBokeh.version !== Bokeh.version) {\n\t  Bokeh.versions.set(NewBokeh.version, NewBokeh)\n\t}\n\troot.Bokeh = Bokeh;\n      }} else if (Date.now() < root._bokeh_timeout) {\n      setTimeout(run_inline_js, 100);\n    } else if (!root._bokeh_failed_load) {\n      console.log(\"Bokeh: BokehJS failed to load within specified timeout.\");\n      root._bokeh_failed_load = true;\n    }\n    root._bokeh_is_initializing = false\n  }\n\n  function load_or_wait() {\n    // Implement a backoff loop that tries to ensure we do not load multiple\n    // versions of Bokeh and its dependencies at the same time.\n    // In recent versions we use the root._bokeh_is_initializing flag\n    // to determine whether there is an ongoing attempt to initialize\n    // bokeh, however for backward compatibility we also try to ensure\n    // that we do not start loading a newer (Panel>=1.0 and Bokeh>3) version\n    // before older versions are fully initialized.\n    if (root._bokeh_is_initializing && Date.now() > root._bokeh_timeout) {\n      root._bokeh_is_initializing = false;\n      root._bokeh_onload_callbacks = undefined;\n      console.log(\"Bokeh: BokehJS was loaded multiple times but one version failed to initialize.\");\n      load_or_wait();\n    } else if (root._bokeh_is_initializing || (typeof root._bokeh_is_initializing === \"undefined\" && root._bokeh_onload_callbacks !== undefined)) {\n      setTimeout(load_or_wait, 100);\n    } else {\n      Bokeh = root.Bokeh;\n      bokeh_loaded = Bokeh != null && (Bokeh.version === py_version || (Bokeh.versions !== undefined && Bokeh.versions.has(py_version)));\n      root._bokeh_is_initializing = true\n      root._bokeh_onload_callbacks = []\n      if (!reloading && (!bokeh_loaded || is_dev)) {\n\troot.Bokeh = undefined;\n      }\n      load_libs(css_urls, js_urls, js_modules, js_exports, function() {\n\tconsole.debug(\"Bokeh: BokehJS plotting callback run at\", now());\n\trun_inline_js();\n      });\n    }\n  }\n  // Give older versions of the autoload script a head-start to ensure\n  // they initialize before we start loading newer version.\n  setTimeout(load_or_wait, 100)\n}(window));"
     },
     "metadata": {},
     "output_type": "display_data"
    },
    {
     "data": {
      "application/javascript": [
       "\n",
       "if ((window.PyViz === undefined) || (window.PyViz instanceof HTMLElement)) {\n",
       "  window.PyViz = {comms: {}, comm_status:{}, kernels:{}, receivers: {}, plot_index: []}\n",
       "}\n",
       "\n",
       "\n",
       "    function JupyterCommManager() {\n",
       "    }\n",
       "\n",
       "    JupyterCommManager.prototype.register_target = function(plot_id, comm_id, msg_handler) {\n",
       "      if (window.comm_manager || ((window.Jupyter !== undefined) && (Jupyter.notebook.kernel != null))) {\n",
       "        var comm_manager = window.comm_manager || Jupyter.notebook.kernel.comm_manager;\n",
       "        comm_manager.register_target(comm_id, function(comm) {\n",
       "          comm.on_msg(msg_handler);\n",
       "        });\n",
       "      } else if ((plot_id in window.PyViz.kernels) && (window.PyViz.kernels[plot_id])) {\n",
       "        window.PyViz.kernels[plot_id].registerCommTarget(comm_id, function(comm) {\n",
       "          comm.onMsg = msg_handler;\n",
       "        });\n",
       "      } else if (typeof google != 'undefined' && google.colab.kernel != null) {\n",
       "        google.colab.kernel.comms.registerTarget(comm_id, (comm) => {\n",
       "          var messages = comm.messages[Symbol.asyncIterator]();\n",
       "          function processIteratorResult(result) {\n",
       "            var message = result.value;\n",
       "            console.log(message)\n",
       "            var content = {data: message.data, comm_id};\n",
       "            var buffers = []\n",
       "            for (var buffer of message.buffers || []) {\n",
       "              buffers.push(new DataView(buffer))\n",
       "            }\n",
       "            var metadata = message.metadata || {};\n",
       "            var msg = {content, buffers, metadata}\n",
       "            msg_handler(msg);\n",
       "            return messages.next().then(processIteratorResult);\n",
       "          }\n",
       "          return messages.next().then(processIteratorResult);\n",
       "        })\n",
       "      }\n",
       "    }\n",
       "\n",
       "    JupyterCommManager.prototype.get_client_comm = function(plot_id, comm_id, msg_handler) {\n",
       "      if (comm_id in window.PyViz.comms) {\n",
       "        return window.PyViz.comms[comm_id];\n",
       "      } else if (window.comm_manager || ((window.Jupyter !== undefined) && (Jupyter.notebook.kernel != null))) {\n",
       "        var comm_manager = window.comm_manager || Jupyter.notebook.kernel.comm_manager;\n",
       "        var comm = comm_manager.new_comm(comm_id, {}, {}, {}, comm_id);\n",
       "        if (msg_handler) {\n",
       "          comm.on_msg(msg_handler);\n",
       "        }\n",
       "      } else if ((plot_id in window.PyViz.kernels) && (window.PyViz.kernels[plot_id])) {\n",
       "        var comm = window.PyViz.kernels[plot_id].connectToComm(comm_id);\n",
       "        comm.open();\n",
       "        if (msg_handler) {\n",
       "          comm.onMsg = msg_handler;\n",
       "        }\n",
       "      } else if (typeof google != 'undefined' && google.colab.kernel != null) {\n",
       "        var comm_promise = google.colab.kernel.comms.open(comm_id)\n",
       "        comm_promise.then((comm) => {\n",
       "          window.PyViz.comms[comm_id] = comm;\n",
       "          if (msg_handler) {\n",
       "            var messages = comm.messages[Symbol.asyncIterator]();\n",
       "            function processIteratorResult(result) {\n",
       "              var message = result.value;\n",
       "              var content = {data: message.data};\n",
       "              var metadata = message.metadata || {comm_id};\n",
       "              var msg = {content, metadata}\n",
       "              msg_handler(msg);\n",
       "              return messages.next().then(processIteratorResult);\n",
       "            }\n",
       "            return messages.next().then(processIteratorResult);\n",
       "          }\n",
       "        }) \n",
       "        var sendClosure = (data, metadata, buffers, disposeOnDone) => {\n",
       "          return comm_promise.then((comm) => {\n",
       "            comm.send(data, metadata, buffers, disposeOnDone);\n",
       "          });\n",
       "        };\n",
       "        var comm = {\n",
       "          send: sendClosure\n",
       "        };\n",
       "      }\n",
       "      window.PyViz.comms[comm_id] = comm;\n",
       "      return comm;\n",
       "    }\n",
       "    window.PyViz.comm_manager = new JupyterCommManager();\n",
       "    \n",
       "\n",
       "\n",
       "var JS_MIME_TYPE = 'application/javascript';\n",
       "var HTML_MIME_TYPE = 'text/html';\n",
       "var EXEC_MIME_TYPE = 'application/vnd.holoviews_exec.v0+json';\n",
       "var CLASS_NAME = 'output';\n",
       "\n",
       "/**\n",
       " * Render data to the DOM node\n",
       " */\n",
       "function render(props, node) {\n",
       "  var div = document.createElement(\"div\");\n",
       "  var script = document.createElement(\"script\");\n",
       "  node.appendChild(div);\n",
       "  node.appendChild(script);\n",
       "}\n",
       "\n",
       "/**\n",
       " * Handle when a new output is added\n",
       " */\n",
       "function handle_add_output(event, handle) {\n",
       "  var output_area = handle.output_area;\n",
       "  var output = handle.output;\n",
       "  if ((output.data == undefined) || (!output.data.hasOwnProperty(EXEC_MIME_TYPE))) {\n",
       "    return\n",
       "  }\n",
       "  var id = output.metadata[EXEC_MIME_TYPE][\"id\"];\n",
       "  var toinsert = output_area.element.find(\".\" + CLASS_NAME.split(' ')[0]);\n",
       "  if (id !== undefined) {\n",
       "    var nchildren = toinsert.length;\n",
       "    var html_node = toinsert[nchildren-1].children[0];\n",
       "    html_node.innerHTML = output.data[HTML_MIME_TYPE];\n",
       "    var scripts = [];\n",
       "    var nodelist = html_node.querySelectorAll(\"script\");\n",
       "    for (var i in nodelist) {\n",
       "      if (nodelist.hasOwnProperty(i)) {\n",
       "        scripts.push(nodelist[i])\n",
       "      }\n",
       "    }\n",
       "\n",
       "    scripts.forEach( function (oldScript) {\n",
       "      var newScript = document.createElement(\"script\");\n",
       "      var attrs = [];\n",
       "      var nodemap = oldScript.attributes;\n",
       "      for (var j in nodemap) {\n",
       "        if (nodemap.hasOwnProperty(j)) {\n",
       "          attrs.push(nodemap[j])\n",
       "        }\n",
       "      }\n",
       "      attrs.forEach(function(attr) { newScript.setAttribute(attr.name, attr.value) });\n",
       "      newScript.appendChild(document.createTextNode(oldScript.innerHTML));\n",
       "      oldScript.parentNode.replaceChild(newScript, oldScript);\n",
       "    });\n",
       "    if (JS_MIME_TYPE in output.data) {\n",
       "      toinsert[nchildren-1].children[1].textContent = output.data[JS_MIME_TYPE];\n",
       "    }\n",
       "    output_area._hv_plot_id = id;\n",
       "    if ((window.Bokeh !== undefined) && (id in Bokeh.index)) {\n",
       "      window.PyViz.plot_index[id] = Bokeh.index[id];\n",
       "    } else {\n",
       "      window.PyViz.plot_index[id] = null;\n",
       "    }\n",
       "  } else if (output.metadata[EXEC_MIME_TYPE][\"server_id\"] !== undefined) {\n",
       "    var bk_div = document.createElement(\"div\");\n",
       "    bk_div.innerHTML = output.data[HTML_MIME_TYPE];\n",
       "    var script_attrs = bk_div.children[0].attributes;\n",
       "    for (var i = 0; i < script_attrs.length; i++) {\n",
       "      toinsert[toinsert.length - 1].childNodes[1].setAttribute(script_attrs[i].name, script_attrs[i].value);\n",
       "    }\n",
       "    // store reference to server id on output_area\n",
       "    output_area._bokeh_server_id = output.metadata[EXEC_MIME_TYPE][\"server_id\"];\n",
       "  }\n",
       "}\n",
       "\n",
       "/**\n",
       " * Handle when an output is cleared or removed\n",
       " */\n",
       "function handle_clear_output(event, handle) {\n",
       "  var id = handle.cell.output_area._hv_plot_id;\n",
       "  var server_id = handle.cell.output_area._bokeh_server_id;\n",
       "  if (((id === undefined) || !(id in PyViz.plot_index)) && (server_id !== undefined)) { return; }\n",
       "  var comm = window.PyViz.comm_manager.get_client_comm(\"hv-extension-comm\", \"hv-extension-comm\", function () {});\n",
       "  if (server_id !== null) {\n",
       "    comm.send({event_type: 'server_delete', 'id': server_id});\n",
       "    return;\n",
       "  } else if (comm !== null) {\n",
       "    comm.send({event_type: 'delete', 'id': id});\n",
       "  }\n",
       "  delete PyViz.plot_index[id];\n",
       "  if ((window.Bokeh !== undefined) & (id in window.Bokeh.index)) {\n",
       "    var doc = window.Bokeh.index[id].model.document\n",
       "    doc.clear();\n",
       "    const i = window.Bokeh.documents.indexOf(doc);\n",
       "    if (i > -1) {\n",
       "      window.Bokeh.documents.splice(i, 1);\n",
       "    }\n",
       "  }\n",
       "}\n",
       "\n",
       "/**\n",
       " * Handle kernel restart event\n",
       " */\n",
       "function handle_kernel_cleanup(event, handle) {\n",
       "  delete PyViz.comms[\"hv-extension-comm\"];\n",
       "  window.PyViz.plot_index = {}\n",
       "}\n",
       "\n",
       "/**\n",
       " * Handle update_display_data messages\n",
       " */\n",
       "function handle_update_output(event, handle) {\n",
       "  handle_clear_output(event, {cell: {output_area: handle.output_area}})\n",
       "  handle_add_output(event, handle)\n",
       "}\n",
       "\n",
       "function register_renderer(events, OutputArea) {\n",
       "  function append_mime(data, metadata, element) {\n",
       "    // create a DOM node to render to\n",
       "    var toinsert = this.create_output_subarea(\n",
       "    metadata,\n",
       "    CLASS_NAME,\n",
       "    EXEC_MIME_TYPE\n",
       "    );\n",
       "    this.keyboard_manager.register_events(toinsert);\n",
       "    // Render to node\n",
       "    var props = {data: data, metadata: metadata[EXEC_MIME_TYPE]};\n",
       "    render(props, toinsert[0]);\n",
       "    element.append(toinsert);\n",
       "    return toinsert\n",
       "  }\n",
       "\n",
       "  events.on('output_added.OutputArea', handle_add_output);\n",
       "  events.on('output_updated.OutputArea', handle_update_output);\n",
       "  events.on('clear_output.CodeCell', handle_clear_output);\n",
       "  events.on('delete.Cell', handle_clear_output);\n",
       "  events.on('kernel_ready.Kernel', handle_kernel_cleanup);\n",
       "\n",
       "  OutputArea.prototype.register_mime_type(EXEC_MIME_TYPE, append_mime, {\n",
       "    safe: true,\n",
       "    index: 0\n",
       "  });\n",
       "}\n",
       "\n",
       "if (window.Jupyter !== undefined) {\n",
       "  try {\n",
       "    var events = require('base/js/events');\n",
       "    var OutputArea = require('notebook/js/outputarea').OutputArea;\n",
       "    if (OutputArea.prototype.mime_types().indexOf(EXEC_MIME_TYPE) == -1) {\n",
       "      register_renderer(events, OutputArea);\n",
       "    }\n",
       "  } catch(err) {\n",
       "  }\n",
       "}\n"
      ],
      "application/vnd.holoviews_load.v0+json": "\nif ((window.PyViz === undefined) || (window.PyViz instanceof HTMLElement)) {\n  window.PyViz = {comms: {}, comm_status:{}, kernels:{}, receivers: {}, plot_index: []}\n}\n\n\n    function JupyterCommManager() {\n    }\n\n    JupyterCommManager.prototype.register_target = function(plot_id, comm_id, msg_handler) {\n      if (window.comm_manager || ((window.Jupyter !== undefined) && (Jupyter.notebook.kernel != null))) {\n        var comm_manager = window.comm_manager || Jupyter.notebook.kernel.comm_manager;\n        comm_manager.register_target(comm_id, function(comm) {\n          comm.on_msg(msg_handler);\n        });\n      } else if ((plot_id in window.PyViz.kernels) && (window.PyViz.kernels[plot_id])) {\n        window.PyViz.kernels[plot_id].registerCommTarget(comm_id, function(comm) {\n          comm.onMsg = msg_handler;\n        });\n      } else if (typeof google != 'undefined' && google.colab.kernel != null) {\n        google.colab.kernel.comms.registerTarget(comm_id, (comm) => {\n          var messages = comm.messages[Symbol.asyncIterator]();\n          function processIteratorResult(result) {\n            var message = result.value;\n            console.log(message)\n            var content = {data: message.data, comm_id};\n            var buffers = []\n            for (var buffer of message.buffers || []) {\n              buffers.push(new DataView(buffer))\n            }\n            var metadata = message.metadata || {};\n            var msg = {content, buffers, metadata}\n            msg_handler(msg);\n            return messages.next().then(processIteratorResult);\n          }\n          return messages.next().then(processIteratorResult);\n        })\n      }\n    }\n\n    JupyterCommManager.prototype.get_client_comm = function(plot_id, comm_id, msg_handler) {\n      if (comm_id in window.PyViz.comms) {\n        return window.PyViz.comms[comm_id];\n      } else if (window.comm_manager || ((window.Jupyter !== undefined) && (Jupyter.notebook.kernel != null))) {\n        var comm_manager = window.comm_manager || Jupyter.notebook.kernel.comm_manager;\n        var comm = comm_manager.new_comm(comm_id, {}, {}, {}, comm_id);\n        if (msg_handler) {\n          comm.on_msg(msg_handler);\n        }\n      } else if ((plot_id in window.PyViz.kernels) && (window.PyViz.kernels[plot_id])) {\n        var comm = window.PyViz.kernels[plot_id].connectToComm(comm_id);\n        comm.open();\n        if (msg_handler) {\n          comm.onMsg = msg_handler;\n        }\n      } else if (typeof google != 'undefined' && google.colab.kernel != null) {\n        var comm_promise = google.colab.kernel.comms.open(comm_id)\n        comm_promise.then((comm) => {\n          window.PyViz.comms[comm_id] = comm;\n          if (msg_handler) {\n            var messages = comm.messages[Symbol.asyncIterator]();\n            function processIteratorResult(result) {\n              var message = result.value;\n              var content = {data: message.data};\n              var metadata = message.metadata || {comm_id};\n              var msg = {content, metadata}\n              msg_handler(msg);\n              return messages.next().then(processIteratorResult);\n            }\n            return messages.next().then(processIteratorResult);\n          }\n        }) \n        var sendClosure = (data, metadata, buffers, disposeOnDone) => {\n          return comm_promise.then((comm) => {\n            comm.send(data, metadata, buffers, disposeOnDone);\n          });\n        };\n        var comm = {\n          send: sendClosure\n        };\n      }\n      window.PyViz.comms[comm_id] = comm;\n      return comm;\n    }\n    window.PyViz.comm_manager = new JupyterCommManager();\n    \n\n\nvar JS_MIME_TYPE = 'application/javascript';\nvar HTML_MIME_TYPE = 'text/html';\nvar EXEC_MIME_TYPE = 'application/vnd.holoviews_exec.v0+json';\nvar CLASS_NAME = 'output';\n\n/**\n * Render data to the DOM node\n */\nfunction render(props, node) {\n  var div = document.createElement(\"div\");\n  var script = document.createElement(\"script\");\n  node.appendChild(div);\n  node.appendChild(script);\n}\n\n/**\n * Handle when a new output is added\n */\nfunction handle_add_output(event, handle) {\n  var output_area = handle.output_area;\n  var output = handle.output;\n  if ((output.data == undefined) || (!output.data.hasOwnProperty(EXEC_MIME_TYPE))) {\n    return\n  }\n  var id = output.metadata[EXEC_MIME_TYPE][\"id\"];\n  var toinsert = output_area.element.find(\".\" + CLASS_NAME.split(' ')[0]);\n  if (id !== undefined) {\n    var nchildren = toinsert.length;\n    var html_node = toinsert[nchildren-1].children[0];\n    html_node.innerHTML = output.data[HTML_MIME_TYPE];\n    var scripts = [];\n    var nodelist = html_node.querySelectorAll(\"script\");\n    for (var i in nodelist) {\n      if (nodelist.hasOwnProperty(i)) {\n        scripts.push(nodelist[i])\n      }\n    }\n\n    scripts.forEach( function (oldScript) {\n      var newScript = document.createElement(\"script\");\n      var attrs = [];\n      var nodemap = oldScript.attributes;\n      for (var j in nodemap) {\n        if (nodemap.hasOwnProperty(j)) {\n          attrs.push(nodemap[j])\n        }\n      }\n      attrs.forEach(function(attr) { newScript.setAttribute(attr.name, attr.value) });\n      newScript.appendChild(document.createTextNode(oldScript.innerHTML));\n      oldScript.parentNode.replaceChild(newScript, oldScript);\n    });\n    if (JS_MIME_TYPE in output.data) {\n      toinsert[nchildren-1].children[1].textContent = output.data[JS_MIME_TYPE];\n    }\n    output_area._hv_plot_id = id;\n    if ((window.Bokeh !== undefined) && (id in Bokeh.index)) {\n      window.PyViz.plot_index[id] = Bokeh.index[id];\n    } else {\n      window.PyViz.plot_index[id] = null;\n    }\n  } else if (output.metadata[EXEC_MIME_TYPE][\"server_id\"] !== undefined) {\n    var bk_div = document.createElement(\"div\");\n    bk_div.innerHTML = output.data[HTML_MIME_TYPE];\n    var script_attrs = bk_div.children[0].attributes;\n    for (var i = 0; i < script_attrs.length; i++) {\n      toinsert[toinsert.length - 1].childNodes[1].setAttribute(script_attrs[i].name, script_attrs[i].value);\n    }\n    // store reference to server id on output_area\n    output_area._bokeh_server_id = output.metadata[EXEC_MIME_TYPE][\"server_id\"];\n  }\n}\n\n/**\n * Handle when an output is cleared or removed\n */\nfunction handle_clear_output(event, handle) {\n  var id = handle.cell.output_area._hv_plot_id;\n  var server_id = handle.cell.output_area._bokeh_server_id;\n  if (((id === undefined) || !(id in PyViz.plot_index)) && (server_id !== undefined)) { return; }\n  var comm = window.PyViz.comm_manager.get_client_comm(\"hv-extension-comm\", \"hv-extension-comm\", function () {});\n  if (server_id !== null) {\n    comm.send({event_type: 'server_delete', 'id': server_id});\n    return;\n  } else if (comm !== null) {\n    comm.send({event_type: 'delete', 'id': id});\n  }\n  delete PyViz.plot_index[id];\n  if ((window.Bokeh !== undefined) & (id in window.Bokeh.index)) {\n    var doc = window.Bokeh.index[id].model.document\n    doc.clear();\n    const i = window.Bokeh.documents.indexOf(doc);\n    if (i > -1) {\n      window.Bokeh.documents.splice(i, 1);\n    }\n  }\n}\n\n/**\n * Handle kernel restart event\n */\nfunction handle_kernel_cleanup(event, handle) {\n  delete PyViz.comms[\"hv-extension-comm\"];\n  window.PyViz.plot_index = {}\n}\n\n/**\n * Handle update_display_data messages\n */\nfunction handle_update_output(event, handle) {\n  handle_clear_output(event, {cell: {output_area: handle.output_area}})\n  handle_add_output(event, handle)\n}\n\nfunction register_renderer(events, OutputArea) {\n  function append_mime(data, metadata, element) {\n    // create a DOM node to render to\n    var toinsert = this.create_output_subarea(\n    metadata,\n    CLASS_NAME,\n    EXEC_MIME_TYPE\n    );\n    this.keyboard_manager.register_events(toinsert);\n    // Render to node\n    var props = {data: data, metadata: metadata[EXEC_MIME_TYPE]};\n    render(props, toinsert[0]);\n    element.append(toinsert);\n    return toinsert\n  }\n\n  events.on('output_added.OutputArea', handle_add_output);\n  events.on('output_updated.OutputArea', handle_update_output);\n  events.on('clear_output.CodeCell', handle_clear_output);\n  events.on('delete.Cell', handle_clear_output);\n  events.on('kernel_ready.Kernel', handle_kernel_cleanup);\n\n  OutputArea.prototype.register_mime_type(EXEC_MIME_TYPE, append_mime, {\n    safe: true,\n    index: 0\n  });\n}\n\nif (window.Jupyter !== undefined) {\n  try {\n    var events = require('base/js/events');\n    var OutputArea = require('notebook/js/outputarea').OutputArea;\n    if (OutputArea.prototype.mime_types().indexOf(EXEC_MIME_TYPE) == -1) {\n      register_renderer(events, OutputArea);\n    }\n  } catch(err) {\n  }\n}\n"
     },
     "metadata": {},
     "output_type": "display_data"
    },
    {
     "data": {
      "text/html": [
       "<style>*[data-root-id],\n",
       "*[data-root-id] > * {\n",
       "  box-sizing: border-box;\n",
       "  font-family: var(--jp-ui-font-family);\n",
       "  font-size: var(--jp-ui-font-size1);\n",
       "  color: var(--vscode-editor-foreground, var(--jp-ui-font-color1));\n",
       "}\n",
       "\n",
       "/* Override VSCode background color */\n",
       ".cell-output-ipywidget-background:has(\n",
       "    > .cell-output-ipywidget-background > .lm-Widget > *[data-root-id]\n",
       "  ),\n",
       ".cell-output-ipywidget-background:has(> .lm-Widget > *[data-root-id]) {\n",
       "  background-color: transparent !important;\n",
       "}\n",
       "</style>"
      ]
     },
     "metadata": {},
     "output_type": "display_data"
    }
   ],
   "source": [
    "#packages related to dataframes\n",
    "import pandas as pd\n",
    "import numpy as np\n",
    "from pathlib import Path\n",
    "import csv\n",
    "import panel as pn\n",
    "import hvplot.pandas\n",
    "import seaborn as sns\n",
    "import matplotlib.pyplot as plt\n",
    "\n",
    "#package to help convert a stringify array back to array\n",
    "import ast\n",
    "\n",
    "#package needed to assign user a unique id \n",
    "import uuid\n",
    "\n",
    "# Importing helper function from utils folder \n",
    "import sys\n",
    "sys.path.append('Resources/utils')\n",
    "from user_form_intake import inital_user_intake, get_user_inital_input, portfolio_user_intake, get_user_portfolio_input\n",
    "%matplotlib inline"
   ]
  },
  {
   "cell_type": "markdown",
   "id": "665e32d0",
   "metadata": {},
   "source": [
    "# Grabbing the Data Files "
   ]
  },
  {
   "cell_type": "code",
   "execution_count": 2,
   "id": "b8486b97",
   "metadata": {},
   "outputs": [
    {
     "data": {
      "text/html": [
       "<div>\n",
       "<style scoped>\n",
       "    .dataframe tbody tr th:only-of-type {\n",
       "        vertical-align: middle;\n",
       "    }\n",
       "\n",
       "    .dataframe tbody tr th {\n",
       "        vertical-align: top;\n",
       "    }\n",
       "\n",
       "    .dataframe thead th {\n",
       "        text-align: right;\n",
       "    }\n",
       "</style>\n",
       "<table border=\"1\" class=\"dataframe\">\n",
       "  <thead>\n",
       "    <tr style=\"text-align: right;\">\n",
       "      <th></th>\n",
       "      <th>Company</th>\n",
       "      <th>Ticker</th>\n",
       "      <th>Close_Price</th>\n",
       "      <th>Industry</th>\n",
       "      <th>Sector</th>\n",
       "    </tr>\n",
       "    <tr>\n",
       "      <th>Date</th>\n",
       "      <th></th>\n",
       "      <th></th>\n",
       "      <th></th>\n",
       "      <th></th>\n",
       "      <th></th>\n",
       "    </tr>\n",
       "  </thead>\n",
       "  <tbody>\n",
       "    <tr>\n",
       "      <th>2023-02-01</th>\n",
       "      <td>Apple</td>\n",
       "      <td>AAPL</td>\n",
       "      <td>145.43</td>\n",
       "      <td>Computer Manufacturing</td>\n",
       "      <td>Technology</td>\n",
       "    </tr>\n",
       "    <tr>\n",
       "      <th>2023-02-01</th>\n",
       "      <td>Amazon</td>\n",
       "      <td>AMZN</td>\n",
       "      <td>105.15</td>\n",
       "      <td>Catalog/Specialty Distribution</td>\n",
       "      <td>Consumer Discretionary</td>\n",
       "    </tr>\n",
       "    <tr>\n",
       "      <th>2023-02-01</th>\n",
       "      <td>Nvidia</td>\n",
       "      <td>NVDA</td>\n",
       "      <td>209.43</td>\n",
       "      <td>Semiconductors</td>\n",
       "      <td>Technology</td>\n",
       "    </tr>\n",
       "    <tr>\n",
       "      <th>2023-02-01</th>\n",
       "      <td>Alphabet</td>\n",
       "      <td>GOOGL</td>\n",
       "      <td>100.43</td>\n",
       "      <td>Computer Software: Programming, Data Processing</td>\n",
       "      <td>Technology</td>\n",
       "    </tr>\n",
       "    <tr>\n",
       "      <th>2023-02-01</th>\n",
       "      <td>Meta</td>\n",
       "      <td>META</td>\n",
       "      <td>153.12</td>\n",
       "      <td>Computer Software: Programming, Data Processing</td>\n",
       "      <td>Technology</td>\n",
       "    </tr>\n",
       "  </tbody>\n",
       "</table>\n",
       "</div>"
      ],
      "text/plain": [
       "             Company Ticker  Close_Price  \\\n",
       "Date                                       \n",
       "2023-02-01     Apple   AAPL       145.43   \n",
       "2023-02-01    Amazon   AMZN       105.15   \n",
       "2023-02-01    Nvidia   NVDA       209.43   \n",
       "2023-02-01  Alphabet  GOOGL       100.43   \n",
       "2023-02-01      Meta   META       153.12   \n",
       "\n",
       "                                                   Industry  \\\n",
       "Date                                                          \n",
       "2023-02-01                           Computer Manufacturing   \n",
       "2023-02-01                   Catalog/Specialty Distribution   \n",
       "2023-02-01                                   Semiconductors   \n",
       "2023-02-01  Computer Software: Programming, Data Processing   \n",
       "2023-02-01  Computer Software: Programming, Data Processing   \n",
       "\n",
       "                            Sector  \n",
       "Date                                \n",
       "2023-02-01              Technology  \n",
       "2023-02-01  Consumer Discretionary  \n",
       "2023-02-01              Technology  \n",
       "2023-02-01              Technology  \n",
       "2023-02-01              Technology  "
      ]
     },
     "execution_count": 2,
     "metadata": {},
     "output_type": "execute_result"
    }
   ],
   "source": [
    "#Grabing the raw stock data and putting in dataframe\n",
    "raw_stocks_data_to_load =  Path(\"Resources/Data/Stock_Index_Raw_Data.csv\")\n",
    "raw_stocks_data_df = pd.read_csv(raw_stocks_data_to_load, header=0, parse_dates=True, index_col=\"Date\", infer_datetime_format=True)\n",
    "raw_stocks_data_df.sort_index(ascending = True, inplace = True)\n",
    "raw_stocks_data_df.head()"
   ]
  },
  {
   "cell_type": "code",
   "execution_count": 3,
   "id": "43c31df6",
   "metadata": {},
   "outputs": [
    {
     "data": {
      "text/html": [
       "<div>\n",
       "<style scoped>\n",
       "    .dataframe tbody tr th:only-of-type {\n",
       "        vertical-align: middle;\n",
       "    }\n",
       "\n",
       "    .dataframe tbody tr th {\n",
       "        vertical-align: top;\n",
       "    }\n",
       "\n",
       "    .dataframe thead th {\n",
       "        text-align: right;\n",
       "    }\n",
       "</style>\n",
       "<table border=\"1\" class=\"dataframe\">\n",
       "  <thead>\n",
       "    <tr style=\"text-align: right;\">\n",
       "      <th></th>\n",
       "      <th>UUID</th>\n",
       "      <th>User_Name</th>\n",
       "      <th>Sharpe_Ratio</th>\n",
       "      <th>Stocks</th>\n",
       "    </tr>\n",
       "  </thead>\n",
       "  <tbody>\n",
       "    <tr>\n",
       "      <th>0</th>\n",
       "      <td>85c7d8c0-c991-4824-8f4d-37535e5851bc</td>\n",
       "      <td>John</td>\n",
       "      <td>3.540897</td>\n",
       "      <td>['AAPL', 'AVGO', 'UNH', 'NVDA', 'V']</td>\n",
       "    </tr>\n",
       "    <tr>\n",
       "      <th>1</th>\n",
       "      <td>9911f3d6-2a1e-4956-b676-d14ddd12fe0e</td>\n",
       "      <td>alex_1</td>\n",
       "      <td>3.412431</td>\n",
       "      <td>['NVDA', 'AMZN', 'AAPL', 'MSFT']</td>\n",
       "    </tr>\n",
       "    <tr>\n",
       "      <th>2</th>\n",
       "      <td>bc01be19-a9c1-420f-837d-00e2cc6ede4a</td>\n",
       "      <td>Gaby</td>\n",
       "      <td>3.396183</td>\n",
       "      <td>['AVGO', 'TSLA', 'NVDA']</td>\n",
       "    </tr>\n",
       "    <tr>\n",
       "      <th>3</th>\n",
       "      <td>866a252f-1fe7-4a3c-859f-ea1eb81f9348</td>\n",
       "      <td>Amy</td>\n",
       "      <td>3.296707</td>\n",
       "      <td>['BRK.B', 'AAPL', 'XOM', 'MSFT', 'META']</td>\n",
       "    </tr>\n",
       "    <tr>\n",
       "      <th>4</th>\n",
       "      <td>0331b7dd-f698-405a-912d-a6dd5c153436</td>\n",
       "      <td>Alissa</td>\n",
       "      <td>3.261231</td>\n",
       "      <td>['NVDA', 'AAPL', 'XOM', 'MSFT', 'UNH', 'AMZN']</td>\n",
       "    </tr>\n",
       "  </tbody>\n",
       "</table>\n",
       "</div>"
      ],
      "text/plain": [
       "                                   UUID User_Name  Sharpe_Ratio  \\\n",
       "0  85c7d8c0-c991-4824-8f4d-37535e5851bc     John       3.540897   \n",
       "1  9911f3d6-2a1e-4956-b676-d14ddd12fe0e    alex_1      3.412431   \n",
       "2  bc01be19-a9c1-420f-837d-00e2cc6ede4a      Gaby      3.396183   \n",
       "3  866a252f-1fe7-4a3c-859f-ea1eb81f9348      Amy       3.296707   \n",
       "4  0331b7dd-f698-405a-912d-a6dd5c153436    Alissa      3.261231   \n",
       "\n",
       "                                           Stocks  \n",
       "0            ['AAPL', 'AVGO', 'UNH', 'NVDA', 'V']  \n",
       "1                ['NVDA', 'AMZN', 'AAPL', 'MSFT']  \n",
       "2                        ['AVGO', 'TSLA', 'NVDA']  \n",
       "3        ['BRK.B', 'AAPL', 'XOM', 'MSFT', 'META']  \n",
       "4  ['NVDA', 'AAPL', 'XOM', 'MSFT', 'UNH', 'AMZN']  "
      ]
     },
     "execution_count": 3,
     "metadata": {},
     "output_type": "execute_result"
    }
   ],
   "source": [
    "#Grabing the raw stock data and putting in dataframe\n",
    "user_data_to_load =  Path(\"Resources/Data/User_Portfolio_Data.csv\")\n",
    "user_data_df = pd.read_csv(user_data_to_load, header=0, parse_dates=True)\n",
    "user_data_df.sort_index(ascending = True, inplace = True)\n",
    "user_data_df.head()"
   ]
  },
  {
   "cell_type": "markdown",
   "id": "ebc9d162",
   "metadata": {},
   "source": [
    "# User Input for Game of Stocks"
   ]
  },
  {
   "cell_type": "code",
   "execution_count": 4,
   "id": "a9e4c9d4",
   "metadata": {},
   "outputs": [
    {
     "name": "stdout",
     "output_type": "stream",
     "text": [
      "Welcome to the Game of Stocks! You will be asked a series of questions to get started. \n",
      "    You can choose up to 10 stickes to create portfolio. Remember to diversify your portfolio.   \n"
     ]
    },
    {
     "data": {
      "application/vnd.jupyter.widget-view+json": {
       "model_id": "db7ba45221074b19b1709dca47f310d2",
       "version_major": 2,
       "version_minor": 0
      },
      "text/plain": [
       "Textarea(value='Input your name', description='First Name:', placeholder='Type something')"
      ]
     },
     "metadata": {},
     "output_type": "display_data"
    },
    {
     "data": {
      "application/vnd.jupyter.widget-view+json": {
       "model_id": "2c2332c457a14628808d1e311084433a",
       "version_major": 2,
       "version_minor": 0
      },
      "text/plain": [
       "Dropdown(description='Amount', index=10, options=(1, 2, 3, 4, 5, 6, 7, 8, 9, 10, 'Choose Stock Amount:'), valu…"
      ]
     },
     "metadata": {},
     "output_type": "display_data"
    },
    {
     "data": {
      "application/vnd.jupyter.widget-view+json": {
       "model_id": "c89680ba9359433ab865f32119e7593b",
       "version_major": 2,
       "version_minor": 0
      },
      "text/plain": [
       "Button(description='Submit', style=ButtonStyle())"
      ]
     },
     "metadata": {},
     "output_type": "display_data"
    }
   ],
   "source": [
    "# Invoking the user intake form 1. It will store the information in the following variables so it can be used in notebook later.\n",
    "\n",
    "inital_user_intake()"
   ]
  },
  {
   "cell_type": "code",
   "execution_count": 7,
   "id": "c9bdeb87",
   "metadata": {},
   "outputs": [],
   "source": [
    "# Getting the form values that was store in name, num_of_stocks_choosen \n",
    "name, num_of_stocks_choosen = get_user_inital_input()"
   ]
  },
  {
   "cell_type": "code",
   "execution_count": 8,
   "id": "ce4591c9",
   "metadata": {},
   "outputs": [
    {
     "data": {
      "application/vnd.jupyter.widget-view+json": {
       "model_id": "7c9c3be3c58f4655ac600bae71f0e304",
       "version_major": 2,
       "version_minor": 0
      },
      "text/plain": [
       "Dropdown(description='Stock 1:', options=('', 'Apple (AAPL) - Computer Manufacturing', 'Microsoft (MSFT) - Com…"
      ]
     },
     "metadata": {},
     "output_type": "display_data"
    },
    {
     "data": {
      "application/vnd.jupyter.widget-view+json": {
       "model_id": "bc0e2cf173c6435b9f22fc3adf7ea6cc",
       "version_major": 2,
       "version_minor": 0
      },
      "text/plain": [
       "Dropdown(description='Stock 2:', options=('', 'Apple (AAPL) - Computer Manufacturing', 'Microsoft (MSFT) - Com…"
      ]
     },
     "metadata": {},
     "output_type": "display_data"
    },
    {
     "data": {
      "application/vnd.jupyter.widget-view+json": {
       "model_id": "1895256ef6534f95abcb57618ed26bbf",
       "version_major": 2,
       "version_minor": 0
      },
      "text/plain": [
       "Dropdown(description='Stock 3:', options=('', 'Apple (AAPL) - Computer Manufacturing', 'Microsoft (MSFT) - Com…"
      ]
     },
     "metadata": {},
     "output_type": "display_data"
    },
    {
     "data": {
      "application/vnd.jupyter.widget-view+json": {
       "model_id": "801fa813b53f4d97860e4e670d5d0de0",
       "version_major": 2,
       "version_minor": 0
      },
      "text/plain": [
       "Dropdown(description='Stock 4:', options=('', 'Apple (AAPL) - Computer Manufacturing', 'Microsoft (MSFT) - Com…"
      ]
     },
     "metadata": {},
     "output_type": "display_data"
    },
    {
     "data": {
      "application/vnd.jupyter.widget-view+json": {
       "model_id": "6bba1f96d64840d397a0dd2f70ef4a85",
       "version_major": 2,
       "version_minor": 0
      },
      "text/plain": [
       "Button(description='Submit', style=ButtonStyle())"
      ]
     },
     "metadata": {},
     "output_type": "display_data"
    },
    {
     "name": "stdout",
     "output_type": "stream",
     "text": [
      "You have selected the following stocks\n",
      "Selected stocks: ['UNH', 'AMZN', 'MSFT', 'TSLA']\n"
     ]
    }
   ],
   "source": [
    "# Invoking function to output dropdown for the stock selection for the number of stocks user selected in their intake form\n",
    "\n",
    "portfolio_user_intake(num_of_stocks_choosen)"
   ]
  },
  {
   "cell_type": "code",
   "execution_count": 9,
   "id": "27a42309",
   "metadata": {},
   "outputs": [
    {
     "data": {
      "text/plain": [
       "['UNH', 'AMZN', 'MSFT', 'TSLA']"
      ]
     },
     "execution_count": 9,
     "metadata": {},
     "output_type": "execute_result"
    }
   ],
   "source": [
    "# getting the user chosen portfolio\n",
    "unique_user_portfolio_array = get_user_portfolio_input()\n",
    "\n",
    "unique_user_portfolio_array"
   ]
  },
  {
   "cell_type": "code",
   "execution_count": 10,
   "id": "7cde4d83",
   "metadata": {},
   "outputs": [
    {
     "data": {
      "text/plain": [
       "0.25"
      ]
     },
     "execution_count": 10,
     "metadata": {},
     "output_type": "execute_result"
    }
   ],
   "source": [
    "#calculating individual weights since we will assume it will be evenly split\n",
    "weight = round((1/len(unique_user_portfolio_array)),5)\n",
    "\n",
    "weight"
   ]
  },
  {
   "cell_type": "code",
   "execution_count": 11,
   "id": "cc8eb57c",
   "metadata": {},
   "outputs": [
    {
     "data": {
      "text/plain": [
       "[0.25, 0.25, 0.25, 0.25]"
      ]
     },
     "execution_count": 11,
     "metadata": {},
     "output_type": "execute_result"
    }
   ],
   "source": [
    "#creating the weight array to apply to stocks\n",
    "weight_array = [weight] * len(unique_user_portfolio_array)\n",
    "weight_array"
   ]
  },
  {
   "cell_type": "markdown",
   "id": "5f190bb3",
   "metadata": {},
   "source": [
    "# User Portfolio Calculations "
   ]
  },
  {
   "cell_type": "code",
   "execution_count": 12,
   "id": "448f099f",
   "metadata": {},
   "outputs": [
    {
     "data": {
      "text/html": [
       "<div>\n",
       "<style scoped>\n",
       "    .dataframe tbody tr th:only-of-type {\n",
       "        vertical-align: middle;\n",
       "    }\n",
       "\n",
       "    .dataframe tbody tr th {\n",
       "        vertical-align: top;\n",
       "    }\n",
       "\n",
       "    .dataframe thead th {\n",
       "        text-align: right;\n",
       "    }\n",
       "</style>\n",
       "<table border=\"1\" class=\"dataframe\">\n",
       "  <thead>\n",
       "    <tr style=\"text-align: right;\">\n",
       "      <th>Ticker</th>\n",
       "      <th>AMZN</th>\n",
       "      <th>MSFT</th>\n",
       "      <th>TSLA</th>\n",
       "      <th>UNH</th>\n",
       "    </tr>\n",
       "    <tr>\n",
       "      <th>Date</th>\n",
       "      <th></th>\n",
       "      <th></th>\n",
       "      <th></th>\n",
       "      <th></th>\n",
       "    </tr>\n",
       "  </thead>\n",
       "  <tbody>\n",
       "    <tr>\n",
       "      <th>2023-02-02</th>\n",
       "      <td>0.073799</td>\n",
       "      <td>0.046884</td>\n",
       "      <td>0.037815</td>\n",
       "      <td>-0.052656</td>\n",
       "    </tr>\n",
       "    <tr>\n",
       "      <th>2023-02-03</th>\n",
       "      <td>-0.084315</td>\n",
       "      <td>-0.023621</td>\n",
       "      <td>0.009083</td>\n",
       "      <td>0.002527</td>\n",
       "    </tr>\n",
       "    <tr>\n",
       "      <th>2023-02-06</th>\n",
       "      <td>-0.011703</td>\n",
       "      <td>-0.006116</td>\n",
       "      <td>0.025161</td>\n",
       "      <td>0.006822</td>\n",
       "    </tr>\n",
       "    <tr>\n",
       "      <th>2023-02-07</th>\n",
       "      <td>-0.000685</td>\n",
       "      <td>0.042022</td>\n",
       "      <td>0.010526</td>\n",
       "      <td>0.003451</td>\n",
       "    </tr>\n",
       "    <tr>\n",
       "      <th>2023-02-08</th>\n",
       "      <td>-0.020174</td>\n",
       "      <td>-0.003102</td>\n",
       "      <td>0.022763</td>\n",
       "      <td>0.013295</td>\n",
       "    </tr>\n",
       "  </tbody>\n",
       "</table>\n",
       "</div>"
      ],
      "text/plain": [
       "Ticker          AMZN      MSFT      TSLA       UNH\n",
       "Date                                              \n",
       "2023-02-02  0.073799  0.046884  0.037815 -0.052656\n",
       "2023-02-03 -0.084315 -0.023621  0.009083  0.002527\n",
       "2023-02-06 -0.011703 -0.006116  0.025161  0.006822\n",
       "2023-02-07 -0.000685  0.042022  0.010526  0.003451\n",
       "2023-02-08 -0.020174 -0.003102  0.022763  0.013295"
      ]
     },
     "execution_count": 12,
     "metadata": {},
     "output_type": "execute_result"
    }
   ],
   "source": [
    "# Get data from file for tickers in unique_user_portfolio_array using \".loc\" and \".isin\"\n",
    "portfolio_returns = raw_stocks_data_df.loc[raw_stocks_data_df[\"Ticker\"].isin(unique_user_portfolio_array)]\n",
    "\n",
    "# Filter columns to get only the Ticker and Close Price and drop null values\n",
    "portfolio_returns= portfolio_returns[[\"Ticker\",\"Close_Price\"]].dropna()\n",
    "\n",
    "# Set tickers as columns\n",
    "portfolio_returns= portfolio_returns.pivot_table(\"Close_Price\",\"Date\",\"Ticker\")\n",
    "\n",
    "# Calculate daily returns using \"pct_change\" and drop null values \n",
    "portfolio_returns = portfolio_returns.pct_change().dropna()\n",
    "\n",
    "# Display data\n",
    "portfolio_returns.head()"
   ]
  },
  {
   "cell_type": "code",
   "execution_count": 16,
   "id": "82ed855c",
   "metadata": {},
   "outputs": [
    {
     "data": {
      "text/html": [
       "<div>\n",
       "<style scoped>\n",
       "    .dataframe tbody tr th:only-of-type {\n",
       "        vertical-align: middle;\n",
       "    }\n",
       "\n",
       "    .dataframe tbody tr th {\n",
       "        vertical-align: top;\n",
       "    }\n",
       "\n",
       "    .dataframe thead th {\n",
       "        text-align: right;\n",
       "    }\n",
       "</style>\n",
       "<table border=\"1\" class=\"dataframe\">\n",
       "  <thead>\n",
       "    <tr style=\"text-align: right;\">\n",
       "      <th>Ticker</th>\n",
       "      <th>AMZN</th>\n",
       "      <th>MSFT</th>\n",
       "      <th>TSLA</th>\n",
       "      <th>UNH</th>\n",
       "      <th>James's Portfolio</th>\n",
       "    </tr>\n",
       "    <tr>\n",
       "      <th>Date</th>\n",
       "      <th></th>\n",
       "      <th></th>\n",
       "      <th></th>\n",
       "      <th></th>\n",
       "      <th></th>\n",
       "    </tr>\n",
       "  </thead>\n",
       "  <tbody>\n",
       "    <tr>\n",
       "      <th>2023-02-02</th>\n",
       "      <td>0.073799</td>\n",
       "      <td>0.046884</td>\n",
       "      <td>0.037815</td>\n",
       "      <td>-0.052656</td>\n",
       "      <td>0.026461</td>\n",
       "    </tr>\n",
       "    <tr>\n",
       "      <th>2023-02-03</th>\n",
       "      <td>-0.084315</td>\n",
       "      <td>-0.023621</td>\n",
       "      <td>0.009083</td>\n",
       "      <td>0.002527</td>\n",
       "      <td>-0.024081</td>\n",
       "    </tr>\n",
       "    <tr>\n",
       "      <th>2023-02-06</th>\n",
       "      <td>-0.011703</td>\n",
       "      <td>-0.006116</td>\n",
       "      <td>0.025161</td>\n",
       "      <td>0.006822</td>\n",
       "      <td>0.003541</td>\n",
       "    </tr>\n",
       "    <tr>\n",
       "      <th>2023-02-07</th>\n",
       "      <td>-0.000685</td>\n",
       "      <td>0.042022</td>\n",
       "      <td>0.010526</td>\n",
       "      <td>0.003451</td>\n",
       "      <td>0.013828</td>\n",
       "    </tr>\n",
       "    <tr>\n",
       "      <th>2023-02-08</th>\n",
       "      <td>-0.020174</td>\n",
       "      <td>-0.003102</td>\n",
       "      <td>0.022763</td>\n",
       "      <td>0.013295</td>\n",
       "      <td>0.003195</td>\n",
       "    </tr>\n",
       "  </tbody>\n",
       "</table>\n",
       "</div>"
      ],
      "text/plain": [
       "Ticker          AMZN      MSFT      TSLA       UNH  James's Portfolio\n",
       "Date                                                                 \n",
       "2023-02-02  0.073799  0.046884  0.037815 -0.052656           0.026461\n",
       "2023-02-03 -0.084315 -0.023621  0.009083  0.002527          -0.024081\n",
       "2023-02-06 -0.011703 -0.006116  0.025161  0.006822           0.003541\n",
       "2023-02-07 -0.000685  0.042022  0.010526  0.003451           0.013828\n",
       "2023-02-08 -0.020174 -0.003102  0.022763  0.013295           0.003195"
      ]
     },
     "execution_count": 16,
     "metadata": {},
     "output_type": "execute_result"
    }
   ],
   "source": [
    "# Create portfolio variable in dataframe with weights using \".dot\" and name column with the users name\n",
    "portfolio_returns[f\"{name}'s Portfolio\"] = portfolio_returns.dot(weight_array)\n",
    "portfolio_returns.head()"
   ]
  },
  {
   "cell_type": "code",
   "execution_count": 17,
   "id": "3972e9c3-5df4-4330-9fd7-38d0f32d0b3b",
   "metadata": {},
   "outputs": [
    {
     "data": {
      "text/html": [
       "<div>\n",
       "<style scoped>\n",
       "    .dataframe tbody tr th:only-of-type {\n",
       "        vertical-align: middle;\n",
       "    }\n",
       "\n",
       "    .dataframe tbody tr th {\n",
       "        vertical-align: top;\n",
       "    }\n",
       "\n",
       "    .dataframe thead th {\n",
       "        text-align: right;\n",
       "    }\n",
       "</style>\n",
       "<table border=\"1\" class=\"dataframe\">\n",
       "  <thead>\n",
       "    <tr style=\"text-align: right;\">\n",
       "      <th></th>\n",
       "      <th>Ticker</th>\n",
       "      <th>Sector</th>\n",
       "    </tr>\n",
       "    <tr>\n",
       "      <th>Date</th>\n",
       "      <th></th>\n",
       "      <th></th>\n",
       "    </tr>\n",
       "  </thead>\n",
       "  <tbody>\n",
       "    <tr>\n",
       "      <th>2023-02-01</th>\n",
       "      <td>AMZN</td>\n",
       "      <td>Consumer Discretionary</td>\n",
       "    </tr>\n",
       "    <tr>\n",
       "      <th>2023-02-01</th>\n",
       "      <td>TSLA</td>\n",
       "      <td>Consumer Discretionary</td>\n",
       "    </tr>\n",
       "    <tr>\n",
       "      <th>2023-02-01</th>\n",
       "      <td>UNH</td>\n",
       "      <td>Health Care</td>\n",
       "    </tr>\n",
       "    <tr>\n",
       "      <th>2023-02-01</th>\n",
       "      <td>MSFT</td>\n",
       "      <td>Technology</td>\n",
       "    </tr>\n",
       "  </tbody>\n",
       "</table>\n",
       "</div>"
      ],
      "text/plain": [
       "           Ticker                  Sector\n",
       "Date                                     \n",
       "2023-02-01   AMZN  Consumer Discretionary\n",
       "2023-02-01   TSLA  Consumer Discretionary\n",
       "2023-02-01    UNH             Health Care\n",
       "2023-02-01   MSFT              Technology"
      ]
     },
     "execution_count": 17,
     "metadata": {},
     "output_type": "execute_result"
    }
   ],
   "source": [
    "# Portfolio Sectors for Pie Chart\n",
    "portfolio_sectors = raw_stocks_data_df.loc[raw_stocks_data_df[\"Ticker\"].isin(unique_user_portfolio_array)]\n",
    "portfolio_sectors = portfolio_sectors[[\"Ticker\", \"Sector\"]]\n",
    "portfolio_sectors = portfolio_sectors.drop_duplicates()\n",
    "# portfolio_sectors = portfolio_sectors.set_index(\"Ticker\")\n",
    "# portfolio_sectors[\"Sector\"] +  portfolio_sectors[\"Ticker\"]\n",
    "\n",
    "portfolio_sectors"
   ]
  },
  {
   "cell_type": "code",
   "execution_count": 18,
   "id": "8ef168ce-9875-4b1f-a2a8-bcf61c78372d",
   "metadata": {},
   "outputs": [
    {
     "data": {
      "text/plain": [
       "[['AMZN', 'Consumer Discretionary'],\n",
       " ['TSLA', 'Consumer Discretionary'],\n",
       " ['UNH', 'Health Care'],\n",
       " ['MSFT', 'Technology']]"
      ]
     },
     "execution_count": 18,
     "metadata": {},
     "output_type": "execute_result"
    }
   ],
   "source": [
    "#Converted portfolio_sectors to a list to meet the params of the pie chart labels\n",
    "sector_list = portfolio_sectors.values.tolist()\n",
    "sector_list"
   ]
  },
  {
   "cell_type": "code",
   "execution_count": 19,
   "id": "fadd056c-4286-4596-871e-d0a4848384f7",
   "metadata": {},
   "outputs": [
    {
     "data": {
      "text/plain": [
       "2.3700315939920595"
      ]
     },
     "execution_count": 19,
     "metadata": {},
     "output_type": "execute_result"
    }
   ],
   "source": [
    "# use to store in user portfolio table \n",
    "user_sharpe_ratio= (portfolio_returns[f\"{name}'s Portfolio\"].mean() * (252)) / (portfolio_returns[f\"{name}'s Portfolio\"].std() * np.sqrt(252))\n",
    "user_sharpe_ratio"
   ]
  },
  {
   "cell_type": "markdown",
   "id": "34d5bb8e",
   "metadata": {},
   "source": [
    "# Storing User Info In User Portfolio CSV and Updating The Rank "
   ]
  },
  {
   "cell_type": "code",
   "execution_count": 20,
   "id": "d5e2ed73",
   "metadata": {},
   "outputs": [
    {
     "name": "stdout",
     "output_type": "stream",
     "text": [
      "UUID as string: a6cadf00-af4c-4567-8dc3-1c82c1c69ff7\n"
     ]
    }
   ],
   "source": [
    "#getting a uuid \n",
    "unique_id = uuid.uuid4()\n",
    "\n",
    "#converting uuid to string so it can store as a string in csv and easier to use loc\n",
    "user_uuid_str = str(unique_id)\n",
    "print(\"UUID as string:\", user_uuid_str)"
   ]
  },
  {
   "cell_type": "code",
   "execution_count": 21,
   "id": "605bf17b",
   "metadata": {},
   "outputs": [],
   "source": [
    "# Create a list of dictionaries (each dictionary represents a row of data)\n",
    "user_data = [{'UUID': user_uuid_str,\n",
    "              'User_Name': name,\n",
    "              'Sharpe_Ratio': user_sharpe_ratio,\n",
    "              'Stocks': f'{unique_user_portfolio_array}'}]\n",
    "\n",
    "# Create the DataFrame from the list of dictionaries\n",
    "user_portfolio_df = pd.DataFrame(user_data)"
   ]
  },
  {
   "cell_type": "code",
   "execution_count": 22,
   "id": "59f91a42",
   "metadata": {},
   "outputs": [
    {
     "name": "stdout",
     "output_type": "stream",
     "text": [
      "New User row added to the User User_Portfolio_Data.csv file. The following was added:\n"
     ]
    },
    {
     "data": {
      "text/html": [
       "<div>\n",
       "<style scoped>\n",
       "    .dataframe tbody tr th:only-of-type {\n",
       "        vertical-align: middle;\n",
       "    }\n",
       "\n",
       "    .dataframe tbody tr th {\n",
       "        vertical-align: top;\n",
       "    }\n",
       "\n",
       "    .dataframe thead th {\n",
       "        text-align: right;\n",
       "    }\n",
       "</style>\n",
       "<table border=\"1\" class=\"dataframe\">\n",
       "  <thead>\n",
       "    <tr style=\"text-align: right;\">\n",
       "      <th></th>\n",
       "      <th>UUID</th>\n",
       "      <th>User_Name</th>\n",
       "      <th>Sharpe_Ratio</th>\n",
       "      <th>Stocks</th>\n",
       "    </tr>\n",
       "  </thead>\n",
       "  <tbody>\n",
       "    <tr>\n",
       "      <th>0</th>\n",
       "      <td>a6cadf00-af4c-4567-8dc3-1c82c1c69ff7</td>\n",
       "      <td>James</td>\n",
       "      <td>2.370032</td>\n",
       "      <td>['UNH', 'AMZN', 'MSFT', 'TSLA']</td>\n",
       "    </tr>\n",
       "  </tbody>\n",
       "</table>\n",
       "</div>"
      ],
      "text/plain": [
       "                                   UUID User_Name  Sharpe_Ratio  \\\n",
       "0  a6cadf00-af4c-4567-8dc3-1c82c1c69ff7     James      2.370032   \n",
       "\n",
       "                            Stocks  \n",
       "0  ['UNH', 'AMZN', 'MSFT', 'TSLA']  "
      ]
     },
     "metadata": {},
     "output_type": "display_data"
    }
   ],
   "source": [
    "# Append the new row to the DataFrame\n",
    "# user_data_df = user_data_df.append(user_data, ignore_index=True)\n",
    "\n",
    "# Concatenate the original DataFrame and the new row DataFrame\n",
    "user_data_df = pd.concat([user_data_df, user_portfolio_df], ignore_index=True)\n",
    "\n",
    "# Write the updated DataFrame back to the CSV file\n",
    "user_data_df.to_csv(user_data_to_load, index=False)\n",
    "\n",
    "#Print so user can see what was added \n",
    "print(\"New User row added to the User User_Portfolio_Data.csv file. The following was added:\")\n",
    "display(user_portfolio_df)"
   ]
  },
  {
   "cell_type": "markdown",
   "id": "2018ae55",
   "metadata": {},
   "source": [
    "# TOP 5 users BEFORE the rank is updated "
   ]
  },
  {
   "cell_type": "code",
   "execution_count": 23,
   "id": "7c2fe3ce",
   "metadata": {},
   "outputs": [
    {
     "data": {
      "text/html": [
       "<div>\n",
       "<style scoped>\n",
       "    .dataframe tbody tr th:only-of-type {\n",
       "        vertical-align: middle;\n",
       "    }\n",
       "\n",
       "    .dataframe tbody tr th {\n",
       "        vertical-align: top;\n",
       "    }\n",
       "\n",
       "    .dataframe thead th {\n",
       "        text-align: right;\n",
       "    }\n",
       "</style>\n",
       "<table border=\"1\" class=\"dataframe\">\n",
       "  <thead>\n",
       "    <tr style=\"text-align: right;\">\n",
       "      <th></th>\n",
       "      <th>UUID</th>\n",
       "      <th>User_Name</th>\n",
       "      <th>Sharpe_Ratio</th>\n",
       "      <th>Stocks</th>\n",
       "    </tr>\n",
       "  </thead>\n",
       "  <tbody>\n",
       "    <tr>\n",
       "      <th>0</th>\n",
       "      <td>85c7d8c0-c991-4824-8f4d-37535e5851bc</td>\n",
       "      <td>John</td>\n",
       "      <td>3.540897</td>\n",
       "      <td>['AAPL', 'AVGO', 'UNH', 'NVDA', 'V']</td>\n",
       "    </tr>\n",
       "    <tr>\n",
       "      <th>1</th>\n",
       "      <td>9911f3d6-2a1e-4956-b676-d14ddd12fe0e</td>\n",
       "      <td>alex_1</td>\n",
       "      <td>3.412431</td>\n",
       "      <td>['NVDA', 'AMZN', 'AAPL', 'MSFT']</td>\n",
       "    </tr>\n",
       "    <tr>\n",
       "      <th>2</th>\n",
       "      <td>bc01be19-a9c1-420f-837d-00e2cc6ede4a</td>\n",
       "      <td>Gaby</td>\n",
       "      <td>3.396183</td>\n",
       "      <td>['AVGO', 'TSLA', 'NVDA']</td>\n",
       "    </tr>\n",
       "    <tr>\n",
       "      <th>3</th>\n",
       "      <td>e4711fdc-8d44-4216-8e96-9df557127e8f</td>\n",
       "      <td>Gaby</td>\n",
       "      <td>3.396183</td>\n",
       "      <td>['AVGO', 'TSLA', 'NVDA']</td>\n",
       "    </tr>\n",
       "    <tr>\n",
       "      <th>4</th>\n",
       "      <td>866a252f-1fe7-4a3c-859f-ea1eb81f9348</td>\n",
       "      <td>Amy</td>\n",
       "      <td>3.296707</td>\n",
       "      <td>['BRK.B', 'AAPL', 'XOM', 'MSFT', 'META']</td>\n",
       "    </tr>\n",
       "  </tbody>\n",
       "</table>\n",
       "</div>"
      ],
      "text/plain": [
       "                                   UUID User_Name  Sharpe_Ratio  \\\n",
       "0  85c7d8c0-c991-4824-8f4d-37535e5851bc     John       3.540897   \n",
       "1  9911f3d6-2a1e-4956-b676-d14ddd12fe0e    alex_1      3.412431   \n",
       "2  bc01be19-a9c1-420f-837d-00e2cc6ede4a      Gaby      3.396183   \n",
       "3  e4711fdc-8d44-4216-8e96-9df557127e8f      Gaby      3.396183   \n",
       "4  866a252f-1fe7-4a3c-859f-ea1eb81f9348      Amy       3.296707   \n",
       "\n",
       "                                     Stocks  \n",
       "0      ['AAPL', 'AVGO', 'UNH', 'NVDA', 'V']  \n",
       "1          ['NVDA', 'AMZN', 'AAPL', 'MSFT']  \n",
       "2                  ['AVGO', 'TSLA', 'NVDA']  \n",
       "3                  ['AVGO', 'TSLA', 'NVDA']  \n",
       "4  ['BRK.B', 'AAPL', 'XOM', 'MSFT', 'META']  "
      ]
     },
     "execution_count": 23,
     "metadata": {},
     "output_type": "execute_result"
    }
   ],
   "source": [
    "user_data_df.head()"
   ]
  },
  {
   "cell_type": "code",
   "execution_count": 24,
   "id": "f82a7886",
   "metadata": {},
   "outputs": [],
   "source": [
    "#Sort user portfolio table to get new ranking. Sort by descending since higher sharpe ratio the better \n",
    "sorted_user_data_df = user_data_df.sort_values(by='Sharpe_Ratio', ascending=False)"
   ]
  },
  {
   "cell_type": "markdown",
   "id": "5c2da0e2",
   "metadata": {},
   "source": [
    "# TOP 5 Players AFTER Rank is Updated"
   ]
  },
  {
   "cell_type": "code",
   "execution_count": 25,
   "id": "98ae0859",
   "metadata": {},
   "outputs": [
    {
     "data": {
      "text/html": [
       "<div>\n",
       "<style scoped>\n",
       "    .dataframe tbody tr th:only-of-type {\n",
       "        vertical-align: middle;\n",
       "    }\n",
       "\n",
       "    .dataframe tbody tr th {\n",
       "        vertical-align: top;\n",
       "    }\n",
       "\n",
       "    .dataframe thead th {\n",
       "        text-align: right;\n",
       "    }\n",
       "</style>\n",
       "<table border=\"1\" class=\"dataframe\">\n",
       "  <thead>\n",
       "    <tr style=\"text-align: right;\">\n",
       "      <th></th>\n",
       "      <th>UUID</th>\n",
       "      <th>User_Name</th>\n",
       "      <th>Sharpe_Ratio</th>\n",
       "      <th>Stocks</th>\n",
       "    </tr>\n",
       "  </thead>\n",
       "  <tbody>\n",
       "    <tr>\n",
       "      <th>0</th>\n",
       "      <td>85c7d8c0-c991-4824-8f4d-37535e5851bc</td>\n",
       "      <td>John</td>\n",
       "      <td>3.540897</td>\n",
       "      <td>['AAPL', 'AVGO', 'UNH', 'NVDA', 'V']</td>\n",
       "    </tr>\n",
       "    <tr>\n",
       "      <th>1</th>\n",
       "      <td>9911f3d6-2a1e-4956-b676-d14ddd12fe0e</td>\n",
       "      <td>alex_1</td>\n",
       "      <td>3.412431</td>\n",
       "      <td>['NVDA', 'AMZN', 'AAPL', 'MSFT']</td>\n",
       "    </tr>\n",
       "    <tr>\n",
       "      <th>2</th>\n",
       "      <td>bc01be19-a9c1-420f-837d-00e2cc6ede4a</td>\n",
       "      <td>Gaby</td>\n",
       "      <td>3.396183</td>\n",
       "      <td>['AVGO', 'TSLA', 'NVDA']</td>\n",
       "    </tr>\n",
       "    <tr>\n",
       "      <th>3</th>\n",
       "      <td>e4711fdc-8d44-4216-8e96-9df557127e8f</td>\n",
       "      <td>Gaby</td>\n",
       "      <td>3.396183</td>\n",
       "      <td>['AVGO', 'TSLA', 'NVDA']</td>\n",
       "    </tr>\n",
       "    <tr>\n",
       "      <th>4</th>\n",
       "      <td>866a252f-1fe7-4a3c-859f-ea1eb81f9348</td>\n",
       "      <td>Amy</td>\n",
       "      <td>3.296707</td>\n",
       "      <td>['BRK.B', 'AAPL', 'XOM', 'MSFT', 'META']</td>\n",
       "    </tr>\n",
       "  </tbody>\n",
       "</table>\n",
       "</div>"
      ],
      "text/plain": [
       "                                   UUID User_Name  Sharpe_Ratio  \\\n",
       "0  85c7d8c0-c991-4824-8f4d-37535e5851bc     John       3.540897   \n",
       "1  9911f3d6-2a1e-4956-b676-d14ddd12fe0e    alex_1      3.412431   \n",
       "2  bc01be19-a9c1-420f-837d-00e2cc6ede4a      Gaby      3.396183   \n",
       "3  e4711fdc-8d44-4216-8e96-9df557127e8f      Gaby      3.396183   \n",
       "4  866a252f-1fe7-4a3c-859f-ea1eb81f9348      Amy       3.296707   \n",
       "\n",
       "                                     Stocks  \n",
       "0      ['AAPL', 'AVGO', 'UNH', 'NVDA', 'V']  \n",
       "1          ['NVDA', 'AMZN', 'AAPL', 'MSFT']  \n",
       "2                  ['AVGO', 'TSLA', 'NVDA']  \n",
       "3                  ['AVGO', 'TSLA', 'NVDA']  \n",
       "4  ['BRK.B', 'AAPL', 'XOM', 'MSFT', 'META']  "
      ]
     },
     "execution_count": 25,
     "metadata": {},
     "output_type": "execute_result"
    }
   ],
   "source": [
    "sorted_user_data_df.head()"
   ]
  },
  {
   "cell_type": "code",
   "execution_count": 26,
   "id": "3a87a2e1",
   "metadata": {},
   "outputs": [],
   "source": [
    "#Save new rank to user User_Portfolio_Data.csv Write the updated DataFrame back to the CSV file\n",
    "\n",
    "sorted_user_data_df.to_csv(user_data_to_load, index=False)\n",
    "\n",
    "#have to re-import the user portfolio data to get updated sorted list \n",
    "user_data_df = pd.read_csv(user_data_to_load, header=0, parse_dates=True)\n",
    "user_data_df.sort_index(ascending = True, inplace = True)"
   ]
  },
  {
   "cell_type": "code",
   "execution_count": 27,
   "id": "d734c7aa",
   "metadata": {},
   "outputs": [
    {
     "data": {
      "text/html": [
       "<div>\n",
       "<style scoped>\n",
       "    .dataframe tbody tr th:only-of-type {\n",
       "        vertical-align: middle;\n",
       "    }\n",
       "\n",
       "    .dataframe tbody tr th {\n",
       "        vertical-align: top;\n",
       "    }\n",
       "\n",
       "    .dataframe thead th {\n",
       "        text-align: right;\n",
       "    }\n",
       "</style>\n",
       "<table border=\"1\" class=\"dataframe\">\n",
       "  <thead>\n",
       "    <tr style=\"text-align: right;\">\n",
       "      <th></th>\n",
       "      <th>UUID</th>\n",
       "      <th>User_Name</th>\n",
       "      <th>Sharpe_Ratio</th>\n",
       "      <th>Stocks</th>\n",
       "    </tr>\n",
       "  </thead>\n",
       "  <tbody>\n",
       "    <tr>\n",
       "      <th>0</th>\n",
       "      <td>85c7d8c0-c991-4824-8f4d-37535e5851bc</td>\n",
       "      <td>John</td>\n",
       "      <td>3.540897</td>\n",
       "      <td>['AAPL', 'AVGO', 'UNH', 'NVDA', 'V']</td>\n",
       "    </tr>\n",
       "    <tr>\n",
       "      <th>1</th>\n",
       "      <td>9911f3d6-2a1e-4956-b676-d14ddd12fe0e</td>\n",
       "      <td>alex_1</td>\n",
       "      <td>3.412431</td>\n",
       "      <td>['NVDA', 'AMZN', 'AAPL', 'MSFT']</td>\n",
       "    </tr>\n",
       "    <tr>\n",
       "      <th>2</th>\n",
       "      <td>bc01be19-a9c1-420f-837d-00e2cc6ede4a</td>\n",
       "      <td>Gaby</td>\n",
       "      <td>3.396183</td>\n",
       "      <td>['AVGO', 'TSLA', 'NVDA']</td>\n",
       "    </tr>\n",
       "    <tr>\n",
       "      <th>3</th>\n",
       "      <td>e4711fdc-8d44-4216-8e96-9df557127e8f</td>\n",
       "      <td>Gaby</td>\n",
       "      <td>3.396183</td>\n",
       "      <td>['AVGO', 'TSLA', 'NVDA']</td>\n",
       "    </tr>\n",
       "    <tr>\n",
       "      <th>4</th>\n",
       "      <td>866a252f-1fe7-4a3c-859f-ea1eb81f9348</td>\n",
       "      <td>Amy</td>\n",
       "      <td>3.296707</td>\n",
       "      <td>['BRK.B', 'AAPL', 'XOM', 'MSFT', 'META']</td>\n",
       "    </tr>\n",
       "  </tbody>\n",
       "</table>\n",
       "</div>"
      ],
      "text/plain": [
       "                                   UUID User_Name  Sharpe_Ratio  \\\n",
       "0  85c7d8c0-c991-4824-8f4d-37535e5851bc     John       3.540897   \n",
       "1  9911f3d6-2a1e-4956-b676-d14ddd12fe0e    alex_1      3.412431   \n",
       "2  bc01be19-a9c1-420f-837d-00e2cc6ede4a      Gaby      3.396183   \n",
       "3  e4711fdc-8d44-4216-8e96-9df557127e8f      Gaby      3.396183   \n",
       "4  866a252f-1fe7-4a3c-859f-ea1eb81f9348      Amy       3.296707   \n",
       "\n",
       "                                     Stocks  \n",
       "0      ['AAPL', 'AVGO', 'UNH', 'NVDA', 'V']  \n",
       "1          ['NVDA', 'AMZN', 'AAPL', 'MSFT']  \n",
       "2                  ['AVGO', 'TSLA', 'NVDA']  \n",
       "3                  ['AVGO', 'TSLA', 'NVDA']  \n",
       "4  ['BRK.B', 'AAPL', 'XOM', 'MSFT', 'META']  "
      ]
     },
     "execution_count": 27,
     "metadata": {},
     "output_type": "execute_result"
    }
   ],
   "source": [
    "#User Ranking of top 5 AFTER rank is updated  \n",
    "user_data_df.head()"
   ]
  },
  {
   "cell_type": "code",
   "execution_count": 28,
   "id": "46570cdb",
   "metadata": {},
   "outputs": [
    {
     "name": "stdout",
     "output_type": "stream",
     "text": [
      "James, your rank is 12\n"
     ]
    }
   ],
   "source": [
    "# Grab Postition of User Ranking \n",
    "\n",
    "condition = user_data_df['UUID'] == user_uuid_str\n",
    "matching_rows = user_data_df[condition]\n",
    "\n",
    "# Get the index of the first matching row (if any)\n",
    "if not matching_rows.empty:\n",
    "    row_index = matching_rows.index[0]\n",
    "#     print(f\"Index of the row: {row_index}\")\n",
    "    print(f\"{name}, your rank is {row_index + 1}\" )\n",
    "else:\n",
    "    print(\"Error, user info not found\")\n",
    "    \n"
   ]
  },
  {
   "cell_type": "markdown",
   "id": "a5945fc4-5277-416c-bb93-b40bf8290327",
   "metadata": {},
   "source": [
    "# User Performance Compared to Other Players Calulation and Market"
   ]
  },
  {
   "cell_type": "code",
   "execution_count": 29,
   "id": "9625e2a4-1407-48d3-94de-767f5d3b6521",
   "metadata": {},
   "outputs": [
    {
     "data": {
      "text/html": [
       "<div>\n",
       "<style scoped>\n",
       "    .dataframe tbody tr th:only-of-type {\n",
       "        vertical-align: middle;\n",
       "    }\n",
       "\n",
       "    .dataframe tbody tr th {\n",
       "        vertical-align: top;\n",
       "    }\n",
       "\n",
       "    .dataframe thead th {\n",
       "        text-align: right;\n",
       "    }\n",
       "</style>\n",
       "<table border=\"1\" class=\"dataframe\">\n",
       "  <thead>\n",
       "    <tr style=\"text-align: right;\">\n",
       "      <th></th>\n",
       "      <th>SP500</th>\n",
       "      <th>NDAQ</th>\n",
       "    </tr>\n",
       "    <tr>\n",
       "      <th>Date</th>\n",
       "      <th></th>\n",
       "      <th></th>\n",
       "    </tr>\n",
       "  </thead>\n",
       "  <tbody>\n",
       "    <tr>\n",
       "      <th>2023-02-02</th>\n",
       "      <td>0.014699</td>\n",
       "      <td>0.032540</td>\n",
       "    </tr>\n",
       "    <tr>\n",
       "      <th>2023-02-03</th>\n",
       "      <td>-0.010355</td>\n",
       "      <td>-0.015889</td>\n",
       "    </tr>\n",
       "    <tr>\n",
       "      <th>2023-02-06</th>\n",
       "      <td>-0.006140</td>\n",
       "      <td>-0.009953</td>\n",
       "    </tr>\n",
       "    <tr>\n",
       "      <th>2023-02-07</th>\n",
       "      <td>0.012873</td>\n",
       "      <td>0.019040</td>\n",
       "    </tr>\n",
       "    <tr>\n",
       "      <th>2023-02-08</th>\n",
       "      <td>-0.011081</td>\n",
       "      <td>-0.016780</td>\n",
       "    </tr>\n",
       "  </tbody>\n",
       "</table>\n",
       "</div>"
      ],
      "text/plain": [
       "               SP500      NDAQ\n",
       "Date                          \n",
       "2023-02-02  0.014699  0.032540\n",
       "2023-02-03 -0.010355 -0.015889\n",
       "2023-02-06 -0.006140 -0.009953\n",
       "2023-02-07  0.012873  0.019040\n",
       "2023-02-08 -0.011081 -0.016780"
      ]
     },
     "execution_count": 29,
     "metadata": {},
     "output_type": "execute_result"
    }
   ],
   "source": [
    "# Create a dataframe for market indicators and calculate daily returns and drop nulls \n",
    "sp_returns = raw_stocks_data_df.loc[raw_stocks_data_df[\"Ticker\"]==\"SPX\"]\n",
    "sp_returns = sp_returns[[\"Close_Price\"]].pct_change().dropna()\n",
    "\n",
    "ndaq_returns = raw_stocks_data_df.loc[raw_stocks_data_df[\"Ticker\"]==\"NDAQ\"]\n",
    "ndaq_returns = ndaq_returns[[\"Close_Price\"]].pct_change().dropna()\n",
    "\n",
    "# Rename columns to SP500 and NDAQ\n",
    "sp_returns.columns=[\"SP500\"]\n",
    "ndaq_returns.columns=[\"NDAQ\"]\n",
    "\n",
    "# Combine dataframes\n",
    "market_returns = pd.concat([sp_returns, ndaq_returns], axis=\"columns\", join=\"inner\")\n",
    "market_returns.head()"
   ]
  },
  {
   "cell_type": "code",
   "execution_count": 30,
   "id": "f096f0f0-9cc5-40db-b6cd-35ad2b744fa0",
   "metadata": {},
   "outputs": [
    {
     "data": {
      "text/html": [
       "<div>\n",
       "<style scoped>\n",
       "    .dataframe tbody tr th:only-of-type {\n",
       "        vertical-align: middle;\n",
       "    }\n",
       "\n",
       "    .dataframe tbody tr th {\n",
       "        vertical-align: top;\n",
       "    }\n",
       "\n",
       "    .dataframe thead th {\n",
       "        text-align: right;\n",
       "    }\n",
       "</style>\n",
       "<table border=\"1\" class=\"dataframe\">\n",
       "  <thead>\n",
       "    <tr style=\"text-align: right;\">\n",
       "      <th>Ticker</th>\n",
       "      <th>John</th>\n",
       "      <th>alex_1</th>\n",
       "      <th>Gaby</th>\n",
       "    </tr>\n",
       "    <tr>\n",
       "      <th>Date</th>\n",
       "      <th></th>\n",
       "      <th></th>\n",
       "      <th></th>\n",
       "    </tr>\n",
       "  </thead>\n",
       "  <tbody>\n",
       "    <tr>\n",
       "      <th>2023-02-02</th>\n",
       "      <td>0.004038</td>\n",
       "      <td>0.048580</td>\n",
       "      <td>0.026467</td>\n",
       "    </tr>\n",
       "    <tr>\n",
       "      <th>2023-02-03</th>\n",
       "      <td>-0.002419</td>\n",
       "      <td>-0.027897</td>\n",
       "      <td>-0.010808</td>\n",
       "    </tr>\n",
       "    <tr>\n",
       "      <th>2023-02-06</th>\n",
       "      <td>-0.001694</td>\n",
       "      <td>-0.009067</td>\n",
       "      <td>0.010266</td>\n",
       "    </tr>\n",
       "    <tr>\n",
       "      <th>2023-02-07</th>\n",
       "      <td>0.020832</td>\n",
       "      <td>0.027996</td>\n",
       "      <td>0.027932</td>\n",
       "    </tr>\n",
       "    <tr>\n",
       "      <th>2023-02-08</th>\n",
       "      <td>-0.005698</td>\n",
       "      <td>-0.009871</td>\n",
       "      <td>0.001157</td>\n",
       "    </tr>\n",
       "  </tbody>\n",
       "</table>\n",
       "</div>"
      ],
      "text/plain": [
       "Ticker         John     alex_1      Gaby\n",
       "Date                                    \n",
       "2023-02-02  0.004038  0.048580  0.026467\n",
       "2023-02-03 -0.002419 -0.027897 -0.010808\n",
       "2023-02-06 -0.001694 -0.009067  0.010266\n",
       "2023-02-07  0.020832  0.027996  0.027932\n",
       "2023-02-08 -0.005698 -0.009871  0.001157"
      ]
     },
     "execution_count": 30,
     "metadata": {},
     "output_type": "execute_result"
    }
   ],
   "source": [
    "# Create a dataframe for top players and calculate daily returns and drop nulls \n",
    "\n",
    "# Convert top stored user data from csv from stingify array back to a list so it can be used in calculations\n",
    "top_1_str_to_list = ast.literal_eval(user_data_df.loc[0, 'Stocks'])\n",
    "top_2_str_to_list = ast.literal_eval(user_data_df.loc[1, 'Stocks'])\n",
    "top_3_str_to_list = ast.literal_eval(user_data_df.loc[2, 'Stocks'])\n",
    "\n",
    "# Get data from file for tickers in user_data using \".loc\" and \".isin\"\n",
    "top_1_portfolio_returns = raw_stocks_data_df.loc[raw_stocks_data_df[\"Ticker\"].isin(top_1_str_to_list)]\n",
    "top_2_portfolio_returns = raw_stocks_data_df.loc[raw_stocks_data_df[\"Ticker\"].isin(top_2_str_to_list)]\n",
    "top_3_portfolio_returns = raw_stocks_data_df.loc[raw_stocks_data_df[\"Ticker\"].isin(top_3_str_to_list)]\n",
    "\n",
    "# Filter columns to get only the Ticker and Close Price and drop null values\n",
    "top_1_portfolio_returns = top_1_portfolio_returns[[\"Ticker\",\"Close_Price\"]].dropna()\n",
    "top_2_portfolio_returns = top_2_portfolio_returns[[\"Ticker\",\"Close_Price\"]].dropna()\n",
    "top_3_portfolio_returns = top_3_portfolio_returns[[\"Ticker\",\"Close_Price\"]].dropna()\n",
    "\n",
    "# Set tickers as columns\n",
    "top_1_portfolio_returns = top_1_portfolio_returns.pivot_table(\"Close_Price\",\"Date\",\"Ticker\")\n",
    "top_2_portfolio_returns = top_2_portfolio_returns.pivot_table(\"Close_Price\",\"Date\",\"Ticker\")\n",
    "top_3_portfolio_returns = top_3_portfolio_returns.pivot_table(\"Close_Price\",\"Date\",\"Ticker\")\n",
    "\n",
    "# Calculate daily returns using \"pct_change\" and drop null values \n",
    "top_1_portfolio_returns  = top_1_portfolio_returns .pct_change().dropna() \n",
    "top_2_portfolio_returns  = top_2_portfolio_returns .pct_change().dropna() \n",
    "top_3_portfolio_returns  = top_3_portfolio_returns .pct_change().dropna() \n",
    "\n",
    "# Get User name to locate portfolios\n",
    "top_1_user_name = user_data_df.loc[0, 'User_Name']\n",
    "top_2_user_name = user_data_df.loc[1, 'User_Name']\n",
    "top_3_user_name = user_data_df.loc[2, 'User_Name']\n",
    "\n",
    "# Get the porfolio using weights and keep only the porfolio column. Using numpy dot method to multiple the portfolio returns list with the weight list\n",
    "top_1_portfolio_returns[f\"{top_1_user_name}\"] = top_1_portfolio_returns.dot([1/len(top_1_str_to_list)] * len(top_1_str_to_list))\n",
    "top_1_portfolio_returns = top_1_portfolio_returns[[f\"{top_1_user_name}\"]]\n",
    "\n",
    "top_2_portfolio_returns[f\"{top_2_user_name}\"] = top_2_portfolio_returns.dot([1/len(top_2_str_to_list)] * len(top_2_str_to_list))\n",
    "top_2_portfolio_returns = top_2_portfolio_returns[[f\"{top_2_user_name}\"]]\n",
    "\n",
    "top_3_portfolio_returns[f\"{top_3_user_name}\"] = top_3_portfolio_returns.dot([1/len(top_3_str_to_list)] * len(top_3_str_to_list))\n",
    "top_3_portfolio_returns = top_3_portfolio_returns[[f\"{top_3_user_name}\"]]\n",
    "\n",
    "top_returns = pd.concat([top_1_portfolio_returns, top_2_portfolio_returns, top_3_portfolio_returns], axis=\"columns\", join=\"inner\")\n",
    "top_returns.head()\n"
   ]
  },
  {
   "cell_type": "code",
   "execution_count": 31,
   "id": "79c0e589-b6d7-4d37-a8c3-acd66935e39e",
   "metadata": {},
   "outputs": [
    {
     "data": {
      "text/html": [
       "<div>\n",
       "<style scoped>\n",
       "    .dataframe tbody tr th:only-of-type {\n",
       "        vertical-align: middle;\n",
       "    }\n",
       "\n",
       "    .dataframe tbody tr th {\n",
       "        vertical-align: top;\n",
       "    }\n",
       "\n",
       "    .dataframe thead th {\n",
       "        text-align: right;\n",
       "    }\n",
       "</style>\n",
       "<table border=\"1\" class=\"dataframe\">\n",
       "  <thead>\n",
       "    <tr style=\"text-align: right;\">\n",
       "      <th></th>\n",
       "      <th>James's Portfolio</th>\n",
       "      <th>SP500</th>\n",
       "      <th>NDAQ</th>\n",
       "      <th>John</th>\n",
       "      <th>alex_1</th>\n",
       "      <th>Gaby</th>\n",
       "    </tr>\n",
       "    <tr>\n",
       "      <th>Date</th>\n",
       "      <th></th>\n",
       "      <th></th>\n",
       "      <th></th>\n",
       "      <th></th>\n",
       "      <th></th>\n",
       "      <th></th>\n",
       "    </tr>\n",
       "  </thead>\n",
       "  <tbody>\n",
       "    <tr>\n",
       "      <th>2023-02-02</th>\n",
       "      <td>0.026461</td>\n",
       "      <td>0.014699</td>\n",
       "      <td>0.032540</td>\n",
       "      <td>0.004038</td>\n",
       "      <td>0.048580</td>\n",
       "      <td>0.026467</td>\n",
       "    </tr>\n",
       "    <tr>\n",
       "      <th>2023-02-03</th>\n",
       "      <td>-0.024081</td>\n",
       "      <td>-0.010355</td>\n",
       "      <td>-0.015889</td>\n",
       "      <td>-0.002419</td>\n",
       "      <td>-0.027897</td>\n",
       "      <td>-0.010808</td>\n",
       "    </tr>\n",
       "    <tr>\n",
       "      <th>2023-02-06</th>\n",
       "      <td>0.003541</td>\n",
       "      <td>-0.006140</td>\n",
       "      <td>-0.009953</td>\n",
       "      <td>-0.001694</td>\n",
       "      <td>-0.009067</td>\n",
       "      <td>0.010266</td>\n",
       "    </tr>\n",
       "    <tr>\n",
       "      <th>2023-02-07</th>\n",
       "      <td>0.013828</td>\n",
       "      <td>0.012873</td>\n",
       "      <td>0.019040</td>\n",
       "      <td>0.020832</td>\n",
       "      <td>0.027996</td>\n",
       "      <td>0.027932</td>\n",
       "    </tr>\n",
       "    <tr>\n",
       "      <th>2023-02-08</th>\n",
       "      <td>0.003195</td>\n",
       "      <td>-0.011081</td>\n",
       "      <td>-0.016780</td>\n",
       "      <td>-0.005698</td>\n",
       "      <td>-0.009871</td>\n",
       "      <td>0.001157</td>\n",
       "    </tr>\n",
       "  </tbody>\n",
       "</table>\n",
       "</div>"
      ],
      "text/plain": [
       "            James's Portfolio     SP500      NDAQ     John     alex_1  \\\n",
       "Date                                                                    \n",
       "2023-02-02           0.026461  0.014699  0.032540  0.004038  0.048580   \n",
       "2023-02-03          -0.024081 -0.010355 -0.015889 -0.002419 -0.027897   \n",
       "2023-02-06           0.003541 -0.006140 -0.009953 -0.001694 -0.009067   \n",
       "2023-02-07           0.013828  0.012873  0.019040  0.020832  0.027996   \n",
       "2023-02-08           0.003195 -0.011081 -0.016780 -0.005698 -0.009871   \n",
       "\n",
       "                Gaby  \n",
       "Date                  \n",
       "2023-02-02  0.026467  \n",
       "2023-02-03 -0.010808  \n",
       "2023-02-06  0.010266  \n",
       "2023-02-07  0.027932  \n",
       "2023-02-08  0.001157  "
      ]
     },
     "execution_count": 31,
     "metadata": {},
     "output_type": "execute_result"
    }
   ],
   "source": [
    "# Get UUID of top 3 players\n",
    "top_1_uuid = user_data_df.loc[0, 'UUID']\n",
    "top_2_uuid = user_data_df.loc[1, 'UUID']\n",
    "top_3_uuid = user_data_df.loc[2, 'UUID']\n",
    "\n",
    "# Create a list with UUID of top 3 players\n",
    "uuids = [top_1_uuid, top_2_uuid, top_3_uuid]\n",
    "\n",
    "# Loop through UUIDs to check of user is in top 3, add the market and top players porfolio and if user's portfolio is not on top 3 add it too\n",
    "for each_element in uuids:\n",
    "    if each_element == user_uuid_str:\n",
    "        top_portfolio_market_returns = pd.concat([market_returns, top_returns], axis=\"columns\", join=\"inner\")\n",
    "        break\n",
    "    else:\n",
    "        top_portfolio_market_returns = pd.concat([portfolio_returns[f\"{name}'s Portfolio\"], market_returns, top_returns], axis=\"columns\", join=\"inner\")\n",
    "\n",
    "top_portfolio_market_returns.head()\n"
   ]
  },
  {
   "cell_type": "code",
   "execution_count": 32,
   "id": "6d11053c-339a-45ab-8280-c0e90d5ac93e",
   "metadata": {},
   "outputs": [
    {
     "data": {
      "text/plain": [
       "James's Portfolio    2.370032\n",
       "SP500                1.739253\n",
       "NDAQ                 2.337676\n",
       "John                 3.540897\n",
       "alex_1               3.412431\n",
       "Gaby                 3.396183\n",
       "dtype: float64"
      ]
     },
     "execution_count": 32,
     "metadata": {},
     "output_type": "execute_result"
    }
   ],
   "source": [
    "# Calculate sharp ratio - visulaize purposes - Portfolio and the Index\n",
    "top_portfolio_market_sharp_ratio = (top_portfolio_market_returns.mean() * (252)) / (top_portfolio_market_returns.std() * np.sqrt(252))\n",
    "top_portfolio_market_sharp_ratio"
   ]
  },
  {
   "cell_type": "code",
   "execution_count": 33,
   "id": "a5c8c85c-7162-4a00-abf0-7f13a5ff22f0",
   "metadata": {},
   "outputs": [
    {
     "data": {
      "text/html": [
       "<div>\n",
       "<style scoped>\n",
       "    .dataframe tbody tr th:only-of-type {\n",
       "        vertical-align: middle;\n",
       "    }\n",
       "\n",
       "    .dataframe tbody tr th {\n",
       "        vertical-align: top;\n",
       "    }\n",
       "\n",
       "    .dataframe thead th {\n",
       "        text-align: right;\n",
       "    }\n",
       "</style>\n",
       "<table border=\"1\" class=\"dataframe\">\n",
       "  <thead>\n",
       "    <tr style=\"text-align: right;\">\n",
       "      <th></th>\n",
       "      <th>James's Portfolio</th>\n",
       "      <th>SP500</th>\n",
       "      <th>NDAQ</th>\n",
       "      <th>John</th>\n",
       "      <th>alex_1</th>\n",
       "      <th>Gaby</th>\n",
       "    </tr>\n",
       "    <tr>\n",
       "      <th>Date</th>\n",
       "      <th></th>\n",
       "      <th></th>\n",
       "      <th></th>\n",
       "      <th></th>\n",
       "      <th></th>\n",
       "      <th></th>\n",
       "    </tr>\n",
       "  </thead>\n",
       "  <tbody>\n",
       "    <tr>\n",
       "      <th>2023-02-02</th>\n",
       "      <td>1.026461</td>\n",
       "      <td>1.014699</td>\n",
       "      <td>1.032540</td>\n",
       "      <td>1.004038</td>\n",
       "      <td>1.048580</td>\n",
       "      <td>1.026467</td>\n",
       "    </tr>\n",
       "    <tr>\n",
       "      <th>2023-02-03</th>\n",
       "      <td>1.001742</td>\n",
       "      <td>1.004193</td>\n",
       "      <td>1.016134</td>\n",
       "      <td>1.001609</td>\n",
       "      <td>1.019328</td>\n",
       "      <td>1.015373</td>\n",
       "    </tr>\n",
       "    <tr>\n",
       "      <th>2023-02-06</th>\n",
       "      <td>1.005289</td>\n",
       "      <td>0.998026</td>\n",
       "      <td>1.006020</td>\n",
       "      <td>0.999912</td>\n",
       "      <td>1.010085</td>\n",
       "      <td>1.025796</td>\n",
       "    </tr>\n",
       "    <tr>\n",
       "      <th>2023-02-07</th>\n",
       "      <td>1.019191</td>\n",
       "      <td>1.010873</td>\n",
       "      <td>1.025175</td>\n",
       "      <td>1.020742</td>\n",
       "      <td>1.038364</td>\n",
       "      <td>1.054449</td>\n",
       "    </tr>\n",
       "    <tr>\n",
       "      <th>2023-02-08</th>\n",
       "      <td>1.022447</td>\n",
       "      <td>0.999672</td>\n",
       "      <td>1.007972</td>\n",
       "      <td>1.014926</td>\n",
       "      <td>1.028113</td>\n",
       "      <td>1.055669</td>\n",
       "    </tr>\n",
       "  </tbody>\n",
       "</table>\n",
       "</div>"
      ],
      "text/plain": [
       "            James's Portfolio     SP500      NDAQ     John     alex_1  \\\n",
       "Date                                                                    \n",
       "2023-02-02           1.026461  1.014699  1.032540  1.004038  1.048580   \n",
       "2023-02-03           1.001742  1.004193  1.016134  1.001609  1.019328   \n",
       "2023-02-06           1.005289  0.998026  1.006020  0.999912  1.010085   \n",
       "2023-02-07           1.019191  1.010873  1.025175  1.020742  1.038364   \n",
       "2023-02-08           1.022447  0.999672  1.007972  1.014926  1.028113   \n",
       "\n",
       "                Gaby  \n",
       "Date                  \n",
       "2023-02-02  1.026467  \n",
       "2023-02-03  1.015373  \n",
       "2023-02-06  1.025796  \n",
       "2023-02-07  1.054449  \n",
       "2023-02-08  1.055669  "
      ]
     },
     "execution_count": 33,
     "metadata": {},
     "output_type": "execute_result"
    }
   ],
   "source": [
    "# Calculate cumulative returns to create plot\n",
    "top_portfolio_market_stocks_cum_return = (1 + top_portfolio_market_returns).cumprod()\n",
    "top_portfolio_market_stocks_cum_return.head()"
   ]
  },
  {
   "cell_type": "markdown",
   "id": "41136f8a",
   "metadata": {},
   "source": [
    "# Visulization "
   ]
  },
  {
   "cell_type": "code",
   "execution_count": 34,
   "id": "a93f45a6",
   "metadata": {},
   "outputs": [],
   "source": [
    "#Setting pie chart variables, converting arrays to list\n",
    "unique_user_portfolio_list = list(unique_user_portfolio_array)\n",
    "weight_list = list(weight_array)\n",
    "rank = row_index + 1"
   ]
  },
  {
   "cell_type": "code",
   "execution_count": 35,
   "id": "c7762283",
   "metadata": {},
   "outputs": [],
   "source": [
    "#Visualization Functions\n",
    "\n",
    "#User Portfolio Selections\n",
    "def user_portfolio():\n",
    "    stock_selection = (f'{name} your portfolio stock selections were {unique_user_portfolio_array}. Each of stock you selected was given an equal weight of {weight}. Your Sharpe Ratio is {round(user_sharpe_ratio,2)}. Your player rank is {rank}.')\n",
    "    return stock_selection\n",
    "  \n",
    "    \n",
    "#Line Plot of User Portfolio returns of individual stock and total user portfolio\n",
    "def user_portfolio_daily_returns():\n",
    "    user_daily_returns = portfolio_returns.hvplot(kind='line',\n",
    "                                                  color=['Blue','Orange','Red','Green','Purple','Black','Yellow','Brown','Teal','Navy','Gray','Maroon'],\n",
    "                                                  width=750,\n",
    "                                                  height=500,\n",
    "                                                  legend='top_left'\n",
    "                                                 )\n",
    "    return user_daily_returns\n",
    "\n",
    "# Pie chart of User Portfolio selection and weights\n",
    "def user_portfolio_pie():\n",
    "    labels = sector_list\n",
    "    sizes = weight_list\n",
    "\n",
    "    user_port_pie, ax = plt.subplots()\n",
    "    ax.pie(sizes,\n",
    "           labels=labels,\n",
    "           autopct='%1.1f%%',\n",
    "          shadow=True,\n",
    "          startangle=90)\n",
    "    ax.axis('equal')  # Equal aspect ratio ensures the pie chart is circular.\n",
    "    ax.set_title(f\"{name}'s Portfolio\")\n",
    "    \n",
    "    plt.show()\n",
    "    \n",
    "    return user_port_pie\n",
    "\n",
    "# User Portfolio cumulative returns compared to indices & top players\n",
    "def all_players_and_market_returns():\n",
    "    all_returns = top_portfolio_market_stocks_cum_return.hvplot(kind='line',\n",
    "                                                                color=['Blue','Orange','Red','Green','Purple','Black','Yellow','Brown','Teal','Navy','Gray','Maroon'],\n",
    "                                                                width=750,\n",
    "                                                                height=300,\n",
    "                                                                legend='top_left'\n",
    "                                                               )\n",
    "    return all_returns\n",
    "\n",
    "# User Portfolio Sharpe Ration compared to indices & top players\n",
    "def get_all_sharpe_ratios():\n",
    "    all_sharpe_ratios = top_portfolio_market_sharp_ratio.hvplot(kind='bar'\n",
    "                                                               ).opts(color='Green',\n",
    "                                                                      hover_color='Blue'\n",
    "                                                                     )\n",
    "    return all_sharpe_ratios\n",
    "\n",
    "# Heatmap of User Portfolio Correlation    \n",
    "def get_portfolio_corr():\n",
    "    correlation = portfolio_returns.corr()\n",
    "    portfolio_corr = sns.heatmap(correlation, vmin=-1, vmax=1)\n",
    "    return portfolio_corr.figure"
   ]
  },
  {
   "cell_type": "code",
   "execution_count": 36,
   "id": "d1dbae8a-7987-4546-9dac-54d7569bdaef",
   "metadata": {},
   "outputs": [
    {
     "data": {
      "image/png": "[encoded data removed]",
      "text/plain": [
       "<Figure size 640x480 with 2 Axes>"
      ]
     },
     "metadata": {},
     "output_type": "display_data"
    },
    {
     "data": {
      "image/png": "[encoded data removed]",
      "text/plain": [
       "<Figure size 640x480 with 1 Axes>"
      ]
     },
     "metadata": {},
     "output_type": "display_data"
    }
   ],
   "source": [
    "# Dashboard Panels, Content and Tabs\n",
    "# Structuring panel layout on dashboard\n",
    "intro_column = pn.Column(\n",
    "    \"# GAME OF STOCKS\",\n",
    "    (f\"# Nice looking stock portfolio {name}!\"),\n",
    "    \"Now that you have created your very own stock portfolio, let's see how you match up to the competition. Navigate through the various tabs to see how your results compare to the S&P 500 and NASDAQ Indices as well as the other players.\",\n",
    "    \"## Your Portfolio Information\", user_portfolio(),\n",
    "    \"## Let's take a look at how your portfolio's overall performance compares to the Top 3 Players, S&P 500 and NASDAQ?\",all_players_and_market_returns(),\n",
    ")\n",
    "\n",
    "sharpe_ratio_column = pn.Column(\n",
    "    \"## How does your Sharpe Ratio compare to the other portfolios?\", get_all_sharpe_ratios(),\n",
    "    \"A Sharpe ratio less than 1 is considered bad. From 1 to 1.99 is considered adequate/good, from 2 to 2.99 is considered very good, and greater than 3 is considered excellent. The higher a fund's Sharpe ratio, the better its returns have been relative to the amount of investment risk taken.\"\n",
    ")\n",
    "\n",
    "correlation_column = pn.Column(\n",
    "    \"## Are your Portfolio stocks more or less correlated / aligned with each other?\", get_portfolio_corr(),\n",
    "    \"In investing, correlation describes how investments move relative to each other. Positively correlated assets move in the same direction, while negatively correlated assets move in opposite directions. The more correlated two assets are, the more risk they can potentially bring to your portfolio.\"\n",
    ")\n",
    "    \n",
    "concentration_column = pn.Column(\n",
    "    \"What does the industry make up of your portfolio look like?\", user_portfolio_pie(), \n",
    "    \"## How balanced is your portfolio with the current selection of stocks?\",user_portfolio_daily_returns()\n",
    ")\n",
    "\n",
    "game_of_stock_dashboard = pn.Tabs(\n",
    "    (\"Game of Stock Results\",intro_column),\n",
    "    (\"Sharpe Ratio\", sharpe_ratio_column),\n",
    "    (\"Correlation\", correlation_column),\n",
    "    (\"Portfolio Concentration\",concentration_column)\n",
    ")"
   ]
  },
  {
   "cell_type": "code",
   "execution_count": 37,
   "id": "c4388316-3969-4faa-9687-b236e166269d",
   "metadata": {},
   "outputs": [
    {
     "data": {},
     "metadata": {},
     "output_type": "display_data"
    },
    {
     "data": {},
     "metadata": {},
     "output_type": "display_data"
    },
    {
     "data": {
      "application/vnd.holoviews_exec.v0+json": "",
      "text/html": [
       "<div id='p1002'>\n",
       "  <div id=\"c86fde0d-f2a2-41cc-b2a6-0e2f99cf3382\" data-root-id=\"p1002\" style=\"display: contents;\"></div>\n",
       "</div>\n",
       "<script type=\"application/javascript\">(function(root) {\n",
       "  var docs_json = {\"1f3eb67a-89ec-4e5e-870d-c7b6d1cb1b0b\":{\"version\":\"3.2.1\",\"title\":\"Bokeh Application\",\"roots\":[{\"type\":\"object\",\"name\":\"panel.models.tabs.Tabs\",\"id\":\"p1002\",\"attributes\":{\"stylesheets\":[\"\\n:host(.pn-loading.pn-arc):before, .pn-loading.pn-arc:before {\\n  background-image: url(\\\"data:image/svg+xml;base64,PHN2ZyB4bWxucz0iaHR0cDovL3d3dy53My5vcmcvMjAwMC9zdmciIHN0eWxlPSJtYXJnaW46IGF1dG87IGJhY2tncm91bmQ6IG5vbmU7IGRpc3BsYXk6IGJsb2NrOyBzaGFwZS1yZW5kZXJpbmc6IGF1dG87IiB2aWV3Qm94PSIwIDAgMTAwIDEwMCIgcHJlc2VydmVBc3BlY3RSYXRpbz0ieE1pZFlNaWQiPiAgPGNpcmNsZSBjeD0iNTAiIGN5PSI1MCIgZmlsbD0ibm9uZSIgc3Ryb2tlPSIjYzNjM2MzIiBzdHJva2Utd2lkdGg9IjEwIiByPSIzNSIgc3Ryb2tlLWRhc2hhcnJheT0iMTY0LjkzMzYxNDMxMzQ2NDE1IDU2Ljk3Nzg3MTQzNzgyMTM4Ij4gICAgPGFuaW1hdGVUcmFuc2Zvcm0gYXR0cmlidXRlTmFtZT0idHJhbnNmb3JtIiB0eXBlPSJyb3RhdGUiIHJlcGVhdENvdW50PSJpbmRlZmluaXRlIiBkdXI9IjFzIiB2YWx1ZXM9IjAgNTAgNTA7MzYwIDUwIDUwIiBrZXlUaW1lcz0iMDsxIj48L2FuaW1hdGVUcmFuc2Zvcm0+ICA8L2NpcmNsZT48L3N2Zz4=\\\");\\n  background-size: auto calc(min(50%, 400px));\\n}\",{\"type\":\"object\",\"name\":\"ImportedStyleSheet\",\"id\":\"p1006\",\"attributes\":{\"url\":\"https://cdn.holoviz.org/panel/1.2.1/dist/css/loading.css\"}},{\"type\":\"object\",\"name\":\"ImportedStyleSheet\",\"id\":\"p1004\",\"attributes\":{\"url\":\"https://cdn.holoviz.org/panel/1.2.1/dist/bundled/theme/default.css\"}},{\"type\":\"object\",\"name\":\"ImportedStyleSheet\",\"id\":\"p1005\",\"attributes\":{\"url\":\"https://cdn.holoviz.org/panel/1.2.1/dist/bundled/theme/native.css\"}}],\"margin\":0,\"align\":\"start\",\"tabs\":[{\"type\":\"object\",\"name\":\"TabPanel\",\"id\":\"p1172\",\"attributes\":{\"name\":\"Column01075\",\"title\":\"Game of Stock Results\",\"child\":{\"type\":\"object\",\"name\":\"Column\",\"id\":\"p1003\",\"attributes\":{\"name\":\"Column01075\",\"stylesheets\":[\"\\n:host(.pn-loading.pn-arc):before, .pn-loading.pn-arc:before {\\n  background-image: url(\\\"data:image/svg+xml;base64,PHN2ZyB4bWxucz0iaHR0cDovL3d3dy53My5vcmcvMjAwMC9zdmciIHN0eWxlPSJtYXJnaW46IGF1dG87IGJhY2tncm91bmQ6IG5vbmU7IGRpc3BsYXk6IGJsb2NrOyBzaGFwZS1yZW5kZXJpbmc6IGF1dG87IiB2aWV3Qm94PSIwIDAgMTAwIDEwMCIgcHJlc2VydmVBc3BlY3RSYXRpbz0ieE1pZFlNaWQiPiAgPGNpcmNsZSBjeD0iNTAiIGN5PSI1MCIgZmlsbD0ibm9uZSIgc3Ryb2tlPSIjYzNjM2MzIiBzdHJva2Utd2lkdGg9IjEwIiByPSIzNSIgc3Ryb2tlLWRhc2hhcnJheT0iMTY0LjkzMzYxNDMxMzQ2NDE1IDU2Ljk3Nzg3MTQzNzgyMTM4Ij4gICAgPGFuaW1hdGVUcmFuc2Zvcm0gYXR0cmlidXRlTmFtZT0idHJhbnNmb3JtIiB0eXBlPSJyb3RhdGUiIHJlcGVhdENvdW50PSJpbmRlZmluaXRlIiBkdXI9IjFzIiB2YWx1ZXM9IjAgNTAgNTA7MzYwIDUwIDUwIiBrZXlUaW1lcz0iMDsxIj48L2FuaW1hdGVUcmFuc2Zvcm0+ICA8L2NpcmNsZT48L3N2Zz4=\\\");\\n  background-size: auto calc(min(50%, 400px));\\n}\",{\"id\":\"p1006\"},{\"type\":\"object\",\"name\":\"ImportedStyleSheet\",\"id\":\"p1171\",\"attributes\":{\"url\":\"https://cdn.holoviz.org/panel/1.2.1/dist/css/listpanel.css\"}},{\"id\":\"p1004\"},{\"id\":\"p1005\"}],\"margin\":0,\"align\":\"start\",\"children\":[{\"type\":\"object\",\"name\":\"panel.models.markup.HTML\",\"id\":\"p1008\",\"attributes\":{\"css_classes\":[\"markdown\"],\"stylesheets\":[\"\\n:host(.pn-loading.pn-arc):before, .pn-loading.pn-arc:before {\\n  background-image: url(\\\"data:image/svg+xml;base64,PHN2ZyB4bWxucz0iaHR0cDovL3d3dy53My5vcmcvMjAwMC9zdmciIHN0eWxlPSJtYXJnaW46IGF1dG87IGJhY2tncm91bmQ6IG5vbmU7IGRpc3BsYXk6IGJsb2NrOyBzaGFwZS1yZW5kZXJpbmc6IGF1dG87IiB2aWV3Qm94PSIwIDAgMTAwIDEwMCIgcHJlc2VydmVBc3BlY3RSYXRpbz0ieE1pZFlNaWQiPiAgPGNpcmNsZSBjeD0iNTAiIGN5PSI1MCIgZmlsbD0ibm9uZSIgc3Ryb2tlPSIjYzNjM2MzIiBzdHJva2Utd2lkdGg9IjEwIiByPSIzNSIgc3Ryb2tlLWRhc2hhcnJheT0iMTY0LjkzMzYxNDMxMzQ2NDE1IDU2Ljk3Nzg3MTQzNzgyMTM4Ij4gICAgPGFuaW1hdGVUcmFuc2Zvcm0gYXR0cmlidXRlTmFtZT0idHJhbnNmb3JtIiB0eXBlPSJyb3RhdGUiIHJlcGVhdENvdW50PSJpbmRlZmluaXRlIiBkdXI9IjFzIiB2YWx1ZXM9IjAgNTAgNTA7MzYwIDUwIDUwIiBrZXlUaW1lcz0iMDsxIj48L2FuaW1hdGVUcmFuc2Zvcm0+ICA8L2NpcmNsZT48L3N2Zz4=\\\");\\n  background-size: auto calc(min(50%, 400px));\\n}\",{\"id\":\"p1006\"},{\"type\":\"object\",\"name\":\"ImportedStyleSheet\",\"id\":\"p1007\",\"attributes\":{\"url\":\"https://cdn.holoviz.org/panel/1.2.1/dist/css/markdown.css\"}},{\"id\":\"p1004\"},{\"id\":\"p1005\"}],\"margin\":[5,10],\"align\":\"start\",\"text\":\"&lt;h1 id=&quot;game-of-stocks&quot;&gt;GAME OF STOCKS &lt;a class=&quot;header-anchor&quot; href=&quot;#game-of-stocks&quot;&gt;\\u00b6&lt;/a&gt;&lt;/h1&gt;\\n\"}},{\"type\":\"object\",\"name\":\"panel.models.markup.HTML\",\"id\":\"p1011\",\"attributes\":{\"css_classes\":[\"markdown\"],\"stylesheets\":[\"\\n:host(.pn-loading.pn-arc):before, .pn-loading.pn-arc:before {\\n  background-image: url(\\\"data:image/svg+xml;base64,PHN2ZyB4bWxucz0iaHR0cDovL3d3dy53My5vcmcvMjAwMC9zdmciIHN0eWxlPSJtYXJnaW46IGF1dG87IGJhY2tncm91bmQ6IG5vbmU7IGRpc3BsYXk6IGJsb2NrOyBzaGFwZS1yZW5kZXJpbmc6IGF1dG87IiB2aWV3Qm94PSIwIDAgMTAwIDEwMCIgcHJlc2VydmVBc3BlY3RSYXRpbz0ieE1pZFlNaWQiPiAgPGNpcmNsZSBjeD0iNTAiIGN5PSI1MCIgZmlsbD0ibm9uZSIgc3Ryb2tlPSIjYzNjM2MzIiBzdHJva2Utd2lkdGg9IjEwIiByPSIzNSIgc3Ryb2tlLWRhc2hhcnJheT0iMTY0LjkzMzYxNDMxMzQ2NDE1IDU2Ljk3Nzg3MTQzNzgyMTM4Ij4gICAgPGFuaW1hdGVUcmFuc2Zvcm0gYXR0cmlidXRlTmFtZT0idHJhbnNmb3JtIiB0eXBlPSJyb3RhdGUiIHJlcGVhdENvdW50PSJpbmRlZmluaXRlIiBkdXI9IjFzIiB2YWx1ZXM9IjAgNTAgNTA7MzYwIDUwIDUwIiBrZXlUaW1lcz0iMDsxIj48L2FuaW1hdGVUcmFuc2Zvcm0+ICA8L2NpcmNsZT48L3N2Zz4=\\\");\\n  background-size: auto calc(min(50%, 400px));\\n}\",{\"id\":\"p1006\"},{\"id\":\"p1007\"},{\"id\":\"p1004\"},{\"id\":\"p1005\"}],\"margin\":[5,10],\"align\":\"start\",\"text\":\"&lt;h1 id=&quot;nice-looking-stock-portfolio-james&quot;&gt;Nice looking stock portfolio James! &lt;a class=&quot;header-anchor&quot; href=&quot;#nice-looking-stock-portfolio-james&quot;&gt;\\u00b6&lt;/a&gt;&lt;/h1&gt;\\n\"}},{\"type\":\"object\",\"name\":\"panel.models.markup.HTML\",\"id\":\"p1014\",\"attributes\":{\"css_classes\":[\"markdown\"],\"stylesheets\":[\"\\n:host(.pn-loading.pn-arc):before, .pn-loading.pn-arc:before {\\n  background-image: url(\\\"data:image/svg+xml;base64,PHN2ZyB4bWxucz0iaHR0cDovL3d3dy53My5vcmcvMjAwMC9zdmciIHN0eWxlPSJtYXJnaW46IGF1dG87IGJhY2tncm91bmQ6IG5vbmU7IGRpc3BsYXk6IGJsb2NrOyBzaGFwZS1yZW5kZXJpbmc6IGF1dG87IiB2aWV3Qm94PSIwIDAgMTAwIDEwMCIgcHJlc2VydmVBc3BlY3RSYXRpbz0ieE1pZFlNaWQiPiAgPGNpcmNsZSBjeD0iNTAiIGN5PSI1MCIgZmlsbD0ibm9uZSIgc3Ryb2tlPSIjYzNjM2MzIiBzdHJva2Utd2lkdGg9IjEwIiByPSIzNSIgc3Ryb2tlLWRhc2hhcnJheT0iMTY0LjkzMzYxNDMxMzQ2NDE1IDU2Ljk3Nzg3MTQzNzgyMTM4Ij4gICAgPGFuaW1hdGVUcmFuc2Zvcm0gYXR0cmlidXRlTmFtZT0idHJhbnNmb3JtIiB0eXBlPSJyb3RhdGUiIHJlcGVhdENvdW50PSJpbmRlZmluaXRlIiBkdXI9IjFzIiB2YWx1ZXM9IjAgNTAgNTA7MzYwIDUwIDUwIiBrZXlUaW1lcz0iMDsxIj48L2FuaW1hdGVUcmFuc2Zvcm0+ICA8L2NpcmNsZT48L3N2Zz4=\\\");\\n  background-size: auto calc(min(50%, 400px));\\n}\",{\"id\":\"p1006\"},{\"id\":\"p1007\"},{\"id\":\"p1004\"},{\"id\":\"p1005\"}],\"margin\":[5,10],\"align\":\"start\",\"text\":\"&lt;p&gt;Now that you have created your very own stock portfolio, let&#x27;s see how you match up to the competition. Navigate through the various tabs to see how your results compare to the S&amp;amp;P 500 and NASDAQ Indices as well as the other players.&lt;/p&gt;\\n\"}},{\"type\":\"object\",\"name\":\"panel.models.markup.HTML\",\"id\":\"p1017\",\"attributes\":{\"css_classes\":[\"markdown\"],\"stylesheets\":[\"\\n:host(.pn-loading.pn-arc):before, .pn-loading.pn-arc:before {\\n  background-image: url(\\\"data:image/svg+xml;base64,PHN2ZyB4bWxucz0iaHR0cDovL3d3dy53My5vcmcvMjAwMC9zdmciIHN0eWxlPSJtYXJnaW46IGF1dG87IGJhY2tncm91bmQ6IG5vbmU7IGRpc3BsYXk6IGJsb2NrOyBzaGFwZS1yZW5kZXJpbmc6IGF1dG87IiB2aWV3Qm94PSIwIDAgMTAwIDEwMCIgcHJlc2VydmVBc3BlY3RSYXRpbz0ieE1pZFlNaWQiPiAgPGNpcmNsZSBjeD0iNTAiIGN5PSI1MCIgZmlsbD0ibm9uZSIgc3Ryb2tlPSIjYzNjM2MzIiBzdHJva2Utd2lkdGg9IjEwIiByPSIzNSIgc3Ryb2tlLWRhc2hhcnJheT0iMTY0LjkzMzYxNDMxMzQ2NDE1IDU2Ljk3Nzg3MTQzNzgyMTM4Ij4gICAgPGFuaW1hdGVUcmFuc2Zvcm0gYXR0cmlidXRlTmFtZT0idHJhbnNmb3JtIiB0eXBlPSJyb3RhdGUiIHJlcGVhdENvdW50PSJpbmRlZmluaXRlIiBkdXI9IjFzIiB2YWx1ZXM9IjAgNTAgNTA7MzYwIDUwIDUwIiBrZXlUaW1lcz0iMDsxIj48L2FuaW1hdGVUcmFuc2Zvcm0+ICA8L2NpcmNsZT48L3N2Zz4=\\\");\\n  background-size: auto calc(min(50%, 400px));\\n}\",{\"id\":\"p1006\"},{\"id\":\"p1007\"},{\"id\":\"p1004\"},{\"id\":\"p1005\"}],\"margin\":[5,10],\"align\":\"start\",\"text\":\"&lt;h2 id=&quot;your-portfolio-information&quot;&gt;Your Portfolio Information &lt;a class=&quot;header-anchor&quot; href=&quot;#your-portfolio-information&quot;&gt;\\u00b6&lt;/a&gt;&lt;/h2&gt;\\n\"}},{\"type\":\"object\",\"name\":\"panel.models.markup.HTML\",\"id\":\"p1020\",\"attributes\":{\"css_classes\":[\"markdown\"],\"stylesheets\":[\"\\n:host(.pn-loading.pn-arc):before, .pn-loading.pn-arc:before {\\n  background-image: url(\\\"data:image/svg+xml;base64,PHN2ZyB4bWxucz0iaHR0cDovL3d3dy53My5vcmcvMjAwMC9zdmciIHN0eWxlPSJtYXJnaW46IGF1dG87IGJhY2tncm91bmQ6IG5vbmU7IGRpc3BsYXk6IGJsb2NrOyBzaGFwZS1yZW5kZXJpbmc6IGF1dG87IiB2aWV3Qm94PSIwIDAgMTAwIDEwMCIgcHJlc2VydmVBc3BlY3RSYXRpbz0ieE1pZFlNaWQiPiAgPGNpcmNsZSBjeD0iNTAiIGN5PSI1MCIgZmlsbD0ibm9uZSIgc3Ryb2tlPSIjYzNjM2MzIiBzdHJva2Utd2lkdGg9IjEwIiByPSIzNSIgc3Ryb2tlLWRhc2hhcnJheT0iMTY0LjkzMzYxNDMxMzQ2NDE1IDU2Ljk3Nzg3MTQzNzgyMTM4Ij4gICAgPGFuaW1hdGVUcmFuc2Zvcm0gYXR0cmlidXRlTmFtZT0idHJhbnNmb3JtIiB0eXBlPSJyb3RhdGUiIHJlcGVhdENvdW50PSJpbmRlZmluaXRlIiBkdXI9IjFzIiB2YWx1ZXM9IjAgNTAgNTA7MzYwIDUwIDUwIiBrZXlUaW1lcz0iMDsxIj48L2FuaW1hdGVUcmFuc2Zvcm0+ICA8L2NpcmNsZT48L3N2Zz4=\\\");\\n  background-size: auto calc(min(50%, 400px));\\n}\",{\"id\":\"p1006\"},{\"id\":\"p1007\"},{\"id\":\"p1004\"},{\"id\":\"p1005\"}],\"margin\":[5,10],\"align\":\"start\",\"text\":\"&lt;p&gt;James your portfolio stock selections were [&#x27;UNH&#x27;, &#x27;AMZN&#x27;, &#x27;MSFT&#x27;, &#x27;TSLA&#x27;]. Each of stock you selected was given an equal weight of 0.25. Your Sharpe Ratio is 2.37. Your player rank is 12.&lt;/p&gt;\\n\"}},{\"type\":\"object\",\"name\":\"panel.models.markup.HTML\",\"id\":\"p1023\",\"attributes\":{\"css_classes\":[\"markdown\"],\"stylesheets\":[\"\\n:host(.pn-loading.pn-arc):before, .pn-loading.pn-arc:before {\\n  background-image: url(\\\"data:image/svg+xml;base64,PHN2ZyB4bWxucz0iaHR0cDovL3d3dy53My5vcmcvMjAwMC9zdmciIHN0eWxlPSJtYXJnaW46IGF1dG87IGJhY2tncm91bmQ6IG5vbmU7IGRpc3BsYXk6IGJsb2NrOyBzaGFwZS1yZW5kZXJpbmc6IGF1dG87IiB2aWV3Qm94PSIwIDAgMTAwIDEwMCIgcHJlc2VydmVBc3BlY3RSYXRpbz0ieE1pZFlNaWQiPiAgPGNpcmNsZSBjeD0iNTAiIGN5PSI1MCIgZmlsbD0ibm9uZSIgc3Ryb2tlPSIjYzNjM2MzIiBzdHJva2Utd2lkdGg9IjEwIiByPSIzNSIgc3Ryb2tlLWRhc2hhcnJheT0iMTY0LjkzMzYxNDMxMzQ2NDE1IDU2Ljk3Nzg3MTQzNzgyMTM4Ij4gICAgPGFuaW1hdGVUcmFuc2Zvcm0gYXR0cmlidXRlTmFtZT0idHJhbnNmb3JtIiB0eXBlPSJyb3RhdGUiIHJlcGVhdENvdW50PSJpbmRlZmluaXRlIiBkdXI9IjFzIiB2YWx1ZXM9IjAgNTAgNTA7MzYwIDUwIDUwIiBrZXlUaW1lcz0iMDsxIj48L2FuaW1hdGVUcmFuc2Zvcm0+ICA8L2NpcmNsZT48L3N2Zz4=\\\");\\n  background-size: auto calc(min(50%, 400px));\\n}\",{\"id\":\"p1006\"},{\"id\":\"p1007\"},{\"id\":\"p1004\"},{\"id\":\"p1005\"}],\"margin\":[5,10],\"align\":\"start\",\"text\":\"&lt;h2 id=&quot;lets-take-a-look-at-how-your-portfolios-overall-performance-compares-to-the-top-3-players-sp-500-and-nasdaq&quot;&gt;Let&#x27;s take a look at how your portfolio&#x27;s overall performance compares to the Top 3 Players, S&amp;amp;P 500 and NASDAQ? &lt;a class=&quot;header-anchor&quot; href=&quot;#lets-take-a-look-at-how-your-portfolios-overall-performance-compares-to-the-top-3-players-sp-500-and-nasdaq&quot;&gt;\\u00b6&lt;/a&gt;&lt;/h2&gt;\\n\"}},{\"type\":\"object\",\"name\":\"Figure\",\"id\":\"p1046\",\"attributes\":{\"width\":750,\"height\":300,\"margin\":[5,10],\"sizing_mode\":\"fixed\",\"align\":\"start\",\"x_range\":{\"type\":\"object\",\"name\":\"Range1d\",\"id\":\"p1024\",\"attributes\":{\"tags\":[[[\"Date\",\"Date\",null]],[]],\"start\":1675296000000.0,\"end\":1690761600000.0,\"reset_start\":1675296000000.0,\"reset_end\":1690761600000.0}},\"y_range\":{\"type\":\"object\",\"name\":\"Range1d\",\"id\":\"p1025\",\"attributes\":{\"tags\":[[[\"value\",\"value\",null]],{\"type\":\"map\",\"entries\":[[\"invert_yaxis\",false],[\"autorange\",false]]}],\"start\":-0.11502408227330047,\"end\":1.8880164345378994,\"reset_start\":0.8493837895034134,\"reset_end\":1.8880164345378994}},\"x_scale\":{\"type\":\"object\",\"name\":\"LinearScale\",\"id\":\"p1056\"},\"y_scale\":{\"type\":\"object\",\"name\":\"LinearScale\",\"id\":\"p1057\"},\"title\":{\"type\":\"object\",\"name\":\"Title\",\"id\":\"p1049\",\"attributes\":{\"text_color\":\"black\",\"text_font_size\":\"12pt\"}},\"renderers\":[{\"type\":\"object\",\"name\":\"GlyphRenderer\",\"id\":\"p1094\",\"attributes\":{\"name\":\"James's Portfolio\",\"data_source\":{\"type\":\"object\",\"name\":\"ColumnDataSource\",\"id\":\"p1085\",\"attributes\":{\"selected\":{\"type\":\"object\",\"name\":\"Selection\",\"id\":\"p1086\",\"attributes\":{\"indices\":[],\"line_indices\":[]}},\"selection_policy\":{\"type\":\"object\",\"name\":\"UnionRenderers\",\"id\":\"p1087\"},\"data\":{\"type\":\"map\",\"entries\":[[\"Date\",{\"type\":\"ndarray\",\"array\":{\"type\":\"bytes\",\"data\":\"AACAxPZgeEIAAEAqSWF4QgAAgFtAYnhCAABAwZJieEIAAAAn5WJ4QgAAwIw3Y3hCAACA8oljeEIAAMAjgWR4QgAAgInTZHhCAABA7yVleEIAAABVeGV4QgAAwLrKZXhCAADAURRneEIAAIC3Zmd4QgAAQB25Z3hCAAAAgwtoeEIAAEC0Aml4QgAAABpVaXhCAADAf6dpeEIAAIDl+Wl4QgAAQEtManhCAACAfENreEIAAEDilWt4QgAAAEjoa3hCAADArTpseEIAAIATjWx4QgAAwESEbXhCAACAqtZteEIAAEAQKW54QgAAAHZ7bnhCAADA281ueEIAAAANxW94QgAAwHIXcHhCAACA2GlweEIAAEA+vHB4QgAAAKQOcXhCAABA1QVyeEIAAAA7WHJ4QgAAwKCqcnhCAACABv1yeEIAAEBsT3N4QgAAgJ1GdHhCAABAA5l0eEIAAABp63R4QgAAwM49dXhCAADAZYd2eEIAAIDL2XZ4QgAAQDEsd3hCAAAAl353eEIAAMD80Hd4QgAAAC7IeHhCAADAkxp5eEIAAID5bHl4QgAAQF+/eXhCAAAAxRF6eEIAAED2CHt4QgAAAFxbe3hCAADAwa17eEIAAIAnAHx4QgAAQI1SfHhCAACAvkl9eEIAAEAknH14QgAAAIrufXhCAADA70B+eEIAAIBVk354QgAAwIaKf3hCAACA7Nx/eEIAAEBSL4B4QgAAALiBgHhCAADAHdSAeEIAAABPy4F4QgAAwLQdgnhCAACAGnCCeEIAAECAwoJ4QgAAAOYUg3hCAABAFwyEeEIAAAB9XoR4QgAAwOKwhHhCAACASAOFeEIAAECuVYV4QgAAQEWfhnhCAAAAq/GGeEIAAMAQRId4QgAAgHaWh3hCAADAp42IeEIAAIAN4Ih4QgAAQHMyiXhCAAAA2YSJeEIAAMA+14l4QgAAAHDOinhCAADA1SCLeEIAAIA7c4t4QgAAQKHFi3hCAAAABxiMeEIAAACeYY14QgAAwAO0jXhCAACAaQaOeEIAAEDPWI54QgAAgABQj3hCAABAZqKPeEIAAADM9I94QgAAwDFHkHhCAACAl5mQeEIAAMDIkJF4QgAAQJQ1knhCAAAA+oeSeEIAAMBf2pJ4QgAAAJHRk3hCAADA9iOUeEIAAIBcdpR4QgAAQMLIlHhCAAAAKBuVeEIAAEBZEpZ4QgAAAL9klnhCAADAJLeWeEIAAICKCZd4QgAAQPBbl3hCAACAIVOYeEIAAECHpZh4QgAAAO33mHhCAADAUkqZeEIAAIC4nJl4QgAAwOmTmnhC\"},\"shape\":[123],\"dtype\":\"float64\",\"order\":\"little\"}],[\"value\",{\"type\":\"ndarray\",\"array\":{\"type\":\"bytes\",\"data\":\"jstf/mFs8D8964m4IgfwPyap8gKqFfA/T6LU15pO8D+k9Ra18VvwPwSeDSyZYfA/NH0z+XM28D9hzHnO1mHwP6mWRZ8ssPA/25MnJa3K8D8huD0nXEjwPxzY1M5vZ/A/qvnBJXXb7z/deeVuGAPwPyFBft+9HPA/J+KGvseG7z8GFfuf9v3vP3tcfQr5z+8/H8gRVJJp7z+boxq1AyXvPy6/xT2nze8/Swnc9hGi7z8J36jViSvvP7PkVNJn5e4/LPBHle487j8EDKgfMfPtP4sJwM6lWe4/QNZytTMn7z8oZw0bkUvvP+QlsJX0GPA/94rGgMv77z+AFIkpYfHvP/TRBIWCc/A/C8m0pHst8D+RkTF+ljvwPwbeNu4HRPA/886OABxI8D9ikRhl4hjwP8ww5s8EWfA/+3RjdNKH8D9FjqxgtuzwP9M9sQW3zvA/IfTR8Y/Q8D9hhDsD1KPwPxEQB2r6zfA/PYFYq8LI8D+W8sbLGbLwP3lnUkjxevA/rBsHDFrt8D/yhKrAtr3wP2allRppyPA/A9u2S6+w8D8c97ZumYnwPysfg0eiF/A/HLbqJiQ78D+zgWrwbCDwP7Yk+mtLwO8/rDHgSlQD8D8/uM/4SI7wP/j/Ye1Ri/A/H2dpwRtb8D+YZhtmF1zwP8FlgXNoUvA/zHLA76BY8D8lMKvqzcPwP744fDnvxfA/1fhTvNSy8D9PZ6L0keTwP7Z8dDFMBPE/MbYBojXZ8D94Kyx2DtDwP9LOjXmX3vA/g15XDnU18T+JfupFGWXxPyW6nYgRZvE/eOGXSUae8T9Jp2n9BHTxP3W0kw8acvE/Ht+JAZ+O8T+ylJ1djxbyP/kbu2CGS/I/2jhAL1FZ8j8RBjL5s6HyP2wAz6yf7fI/NTURhgwL8z8ouit0VQrzP+gqFbtKtfI/VFSnuw4l8z8F3T5W+lzzP+jn06yjqPM/mog1XTzc8z+JgE2hoIrzP+2u6fxoxfM/HFKLhyej8z/+dO2yUvfzP1DTB17xqvM/GYnAQtoW9D/BCuJzlNDzP8Cd1FZLXfM/3VpeR/e98z9OjTtVpcrzP472Osr6x/M/5KYALDoV9D9116jid1v0P+YsA+LpV/Q/gGNBzzwv9D+5OZS87Q70Pw2biQy9zfM/OYSKgQrh8z837q1et/LzPxAIl3UgOvQ/IWFm13q19D/k84kZhuH0P8VuEMD6SPU/IEsj2qJS9T9wOShfOnn0P+lFI4eEZfQ/l75eDHuR9D8NZZeVkp70P/4ALQqyVvQ/AvsuoOYK9D9SEfcsHYD0P4CwQJcak/Q/\"},\"shape\":[123],\"dtype\":\"float64\",\"order\":\"little\"}],[\"Variable\",[\"James's Portfolio\",\"James's Portfolio\",\"James's Portfolio\",\"James's Portfolio\",\"James's Portfolio\",\"James's Portfolio\",\"James's Portfolio\",\"James's Portfolio\",\"James's Portfolio\",\"James's Portfolio\",\"James's Portfolio\",\"James's Portfolio\",\"James's Portfolio\",\"James's Portfolio\",\"James's Portfolio\",\"James's Portfolio\",\"James's Portfolio\",\"James's Portfolio\",\"James's Portfolio\",\"James's Portfolio\",\"James's Portfolio\",\"James's Portfolio\",\"James's Portfolio\",\"James's Portfolio\",\"James's Portfolio\",\"James's Portfolio\",\"James's Portfolio\",\"James's Portfolio\",\"James's Portfolio\",\"James's Portfolio\",\"James's Portfolio\",\"James's Portfolio\",\"James's Portfolio\",\"James's Portfolio\",\"James's Portfolio\",\"James's Portfolio\",\"James's Portfolio\",\"James's Portfolio\",\"James's Portfolio\",\"James's Portfolio\",\"James's Portfolio\",\"James's Portfolio\",\"James's Portfolio\",\"James's Portfolio\",\"James's Portfolio\",\"James's Portfolio\",\"James's Portfolio\",\"James's Portfolio\",\"James's Portfolio\",\"James's Portfolio\",\"James's Portfolio\",\"James's Portfolio\",\"James's Portfolio\",\"James's Portfolio\",\"James's Portfolio\",\"James's Portfolio\",\"James's Portfolio\",\"James's Portfolio\",\"James's Portfolio\",\"James's Portfolio\",\"James's Portfolio\",\"James's Portfolio\",\"James's Portfolio\",\"James's Portfolio\",\"James's Portfolio\",\"James's Portfolio\",\"James's Portfolio\",\"James's Portfolio\",\"James's Portfolio\",\"James's Portfolio\",\"James's Portfolio\",\"James's Portfolio\",\"James's Portfolio\",\"James's Portfolio\",\"James's Portfolio\",\"James's Portfolio\",\"James's Portfolio\",\"James's Portfolio\",\"James's Portfolio\",\"James's Portfolio\",\"James's Portfolio\",\"James's Portfolio\",\"James's Portfolio\",\"James's Portfolio\",\"James's Portfolio\",\"James's Portfolio\",\"James's Portfolio\",\"James's Portfolio\",\"James's Portfolio\",\"James's Portfolio\",\"James's Portfolio\",\"James's Portfolio\",\"James's Portfolio\",\"James's Portfolio\",\"James's Portfolio\",\"James's Portfolio\",\"James's Portfolio\",\"James's Portfolio\",\"James's Portfolio\",\"James's Portfolio\",\"James's Portfolio\",\"James's Portfolio\",\"James's Portfolio\",\"James's Portfolio\",\"James's Portfolio\",\"James's Portfolio\",\"James's Portfolio\",\"James's Portfolio\",\"James's Portfolio\",\"James's Portfolio\",\"James's Portfolio\",\"James's Portfolio\",\"James's Portfolio\",\"James's Portfolio\",\"James's Portfolio\",\"James's Portfolio\",\"James's Portfolio\",\"James's Portfolio\",\"James's Portfolio\",\"James's Portfolio\",\"James's Portfolio\",\"James's Portfolio\",\"James's Portfolio\"]]]}}},\"view\":{\"type\":\"object\",\"name\":\"CDSView\",\"id\":\"p1095\",\"attributes\":{\"filter\":{\"type\":\"object\",\"name\":\"AllIndices\",\"id\":\"p1096\"}}},\"glyph\":{\"type\":\"object\",\"name\":\"Line\",\"id\":\"p1091\",\"attributes\":{\"tags\":[\"apply_ranges\"],\"x\":{\"type\":\"field\",\"field\":\"Date\"},\"y\":{\"type\":\"field\",\"field\":\"value\"},\"line_color\":\"Blue\",\"line_width\":2}},\"selection_glyph\":{\"type\":\"object\",\"name\":\"Line\",\"id\":\"p1099\",\"attributes\":{\"tags\":[\"apply_ranges\"],\"x\":{\"type\":\"field\",\"field\":\"Date\"},\"y\":{\"type\":\"field\",\"field\":\"value\"},\"line_color\":\"Blue\",\"line_width\":2}},\"nonselection_glyph\":{\"type\":\"object\",\"name\":\"Line\",\"id\":\"p1092\",\"attributes\":{\"tags\":[\"apply_ranges\"],\"x\":{\"type\":\"field\",\"field\":\"Date\"},\"y\":{\"type\":\"field\",\"field\":\"value\"},\"line_color\":\"Blue\",\"line_alpha\":0.1,\"line_width\":2}},\"muted_glyph\":{\"type\":\"object\",\"name\":\"Line\",\"id\":\"p1093\",\"attributes\":{\"tags\":[\"apply_ranges\"],\"x\":{\"type\":\"field\",\"field\":\"Date\"},\"y\":{\"type\":\"field\",\"field\":\"value\"},\"line_color\":\"Blue\",\"line_alpha\":0.2,\"line_width\":2}}}},{\"type\":\"object\",\"name\":\"GlyphRenderer\",\"id\":\"p1109\",\"attributes\":{\"name\":\"SP500\",\"data_source\":{\"type\":\"object\",\"name\":\"ColumnDataSource\",\"id\":\"p1100\",\"attributes\":{\"selected\":{\"type\":\"object\",\"name\":\"Selection\",\"id\":\"p1101\",\"attributes\":{\"indices\":[],\"line_indices\":[]}},\"selection_policy\":{\"type\":\"object\",\"name\":\"UnionRenderers\",\"id\":\"p1102\"},\"data\":{\"type\":\"map\",\"entries\":[[\"Date\",{\"type\":\"ndarray\",\"array\":{\"type\":\"bytes\",\"data\":\"AACAxPZgeEIAAEAqSWF4QgAAgFtAYnhCAABAwZJieEIAAAAn5WJ4QgAAwIw3Y3hCAACA8oljeEIAAMAjgWR4QgAAgInTZHhCAABA7yVleEIAAABVeGV4QgAAwLrKZXhCAADAURRneEIAAIC3Zmd4QgAAQB25Z3hCAAAAgwtoeEIAAEC0Aml4QgAAABpVaXhCAADAf6dpeEIAAIDl+Wl4QgAAQEtManhCAACAfENreEIAAEDilWt4QgAAAEjoa3hCAADArTpseEIAAIATjWx4QgAAwESEbXhCAACAqtZteEIAAEAQKW54QgAAAHZ7bnhCAADA281ueEIAAAANxW94QgAAwHIXcHhCAACA2GlweEIAAEA+vHB4QgAAAKQOcXhCAABA1QVyeEIAAAA7WHJ4QgAAwKCqcnhCAACABv1yeEIAAEBsT3N4QgAAgJ1GdHhCAABAA5l0eEIAAABp63R4QgAAwM49dXhCAADAZYd2eEIAAIDL2XZ4QgAAQDEsd3hCAAAAl353eEIAAMD80Hd4QgAAAC7IeHhCAADAkxp5eEIAAID5bHl4QgAAQF+/eXhCAAAAxRF6eEIAAED2CHt4QgAAAFxbe3hCAADAwa17eEIAAIAnAHx4QgAAQI1SfHhCAACAvkl9eEIAAEAknH14QgAAAIrufXhCAADA70B+eEIAAIBVk354QgAAwIaKf3hCAACA7Nx/eEIAAEBSL4B4QgAAALiBgHhCAADAHdSAeEIAAABPy4F4QgAAwLQdgnhCAACAGnCCeEIAAECAwoJ4QgAAAOYUg3hCAABAFwyEeEIAAAB9XoR4QgAAwOKwhHhCAACASAOFeEIAAECuVYV4QgAAQEWfhnhCAAAAq/GGeEIAAMAQRId4QgAAgHaWh3hCAADAp42IeEIAAIAN4Ih4QgAAQHMyiXhCAAAA2YSJeEIAAMA+14l4QgAAAHDOinhCAADA1SCLeEIAAIA7c4t4QgAAQKHFi3hCAAAABxiMeEIAAACeYY14QgAAwAO0jXhCAACAaQaOeEIAAEDPWI54QgAAgABQj3hCAABAZqKPeEIAAADM9I94QgAAwDFHkHhCAACAl5mQeEIAAMDIkJF4QgAAQJQ1knhCAAAA+oeSeEIAAMBf2pJ4QgAAAJHRk3hCAADA9iOUeEIAAIBcdpR4QgAAQMLIlHhCAAAAKBuVeEIAAEBZEpZ4QgAAAL9klnhCAADAJLeWeEIAAICKCZd4QgAAQPBbl3hCAACAIVOYeEIAAECHpZh4QgAAAO33mHhCAADAUkqZeEIAAIC4nJl4QgAAwOmTmnhC\"},\"shape\":[123],\"dtype\":\"float64\",\"order\":\"little\"}],[\"value\",{\"type\":\"ndarray\",\"array\":{\"type\":\"bytes\",\"data\":\"JHSmdTU88D8fMng1LBHwP+Yl7uTU7+8/J1vyoYks8D/DhtKxUP3vP4HFCUUBte8/ej/i8NLG7z9+1oVm+hHwP733HB3TEPA/GdCI4zoc8D+o5TV8ucbvP2pCY002sO8/+JShJKIN7z/FCiPPHwHvP+WA769sK+8/VQEKTVfX7j9Fnk+Bmu/uP4xguE2P1+4/KSHrTUCy7j8C+YZk1e3uP3yG/Gawbe8/etUEvjdz7z9+ZoUm0ffuP/1gQ48IA+8/sdw73ntw7j8i9sTEqf/tP+k/q6AR9O0/dt6xtWly7j9vRRhSADzuPy/qa1buw+4/0UUDjiRt7j9UMfHxm7LuP0EwsYyhGO8/3Lxa3ZKV7j9jMZH38KzuP/qr1PU62e4/S/ewkjzm7j/JbzODydnuP56aTuE6Su8/kFirtQJ47z/zhrLCT+zvP6aYridFBfA/GM43Xv3a7z/34jQ2qsbvP7EFIqjH4+8/ph8B8Onr7z8Nu1Bjk+vvP58av4XJye8/I5Jxmdsa8D/hEOF+UxLwPyJ3x9ftH/A/3uuthXUj8D99sVJtHCPwP7uFBziFCvA/jQLxtzoO8D/w9dbCuhHwPydPvU1goe8/9CdZvkWC7z+51A+PDBDwP+L7o5v8MfA/7YgzxWIw8D/05bAvXgDwP9+ulpVmx+8/TaheaqyM7z8i/R6p8RDwP28m6a7NEvA/wVGpouv/7z/hEOF+UxLwP6vVaoBYC/A/A7D8sdcE8D97fh9M+RDwP0YRcSN87e8//prvS1Yn8D8R1C9RZU7wPy3uHidcSPA/BzZ/nQFJ8D8QILyuOBrwP9DwJNAa+O8/ASAcqeMf8D8BywELwVXwP3yjrdzSVfA/n0xSR0c88D8hBgiBPGXwP9tIEZw9ovA/mceAgbWZ8D+l4NRatqPwPxEuF255k/A/QaV+S7yt8D/0V3xDo7LwP9aJdGJ72vA/JnvEeWT48D86cavK8/vwPz9ILPvmMPE/7UPFa74g8T9gmmVC+wvxP2Y7N1gX9fA/zxJILTMF8T88hb051OPwP91Dys5t0PA/i3YNUb0B8T9HBp7AMgDxPx8gPf2qE/E/IZbJ0k1J8T+8qnYRfE7xP5xLOJnDRfE/Y0g8ibsi8T9+u7ztKRbxPzhBxCWvIPE/J/i4JD8+8T8WaDgW9l7xP6K3C7qghPE/MOi9qwiA8T8hdOJVTpHxP4WZAItQsfE/xHu1ff678T82PQNkUZ3xPzf/G5fHnvE/6zRQ/vmw8T/kydJrub3xP1h/ca8EvfE/7FmD99ef8T9rNnY8aczxP/I5kmga0/E/\"},\"shape\":[123],\"dtype\":\"float64\",\"order\":\"little\"}],[\"Variable\",[\"SP500\",\"SP500\",\"SP500\",\"SP500\",\"SP500\",\"SP500\",\"SP500\",\"SP500\",\"SP500\",\"SP500\",\"SP500\",\"SP500\",\"SP500\",\"SP500\",\"SP500\",\"SP500\",\"SP500\",\"SP500\",\"SP500\",\"SP500\",\"SP500\",\"SP500\",\"SP500\",\"SP500\",\"SP500\",\"SP500\",\"SP500\",\"SP500\",\"SP500\",\"SP500\",\"SP500\",\"SP500\",\"SP500\",\"SP500\",\"SP500\",\"SP500\",\"SP500\",\"SP500\",\"SP500\",\"SP500\",\"SP500\",\"SP500\",\"SP500\",\"SP500\",\"SP500\",\"SP500\",\"SP500\",\"SP500\",\"SP500\",\"SP500\",\"SP500\",\"SP500\",\"SP500\",\"SP500\",\"SP500\",\"SP500\",\"SP500\",\"SP500\",\"SP500\",\"SP500\",\"SP500\",\"SP500\",\"SP500\",\"SP500\",\"SP500\",\"SP500\",\"SP500\",\"SP500\",\"SP500\",\"SP500\",\"SP500\",\"SP500\",\"SP500\",\"SP500\",\"SP500\",\"SP500\",\"SP500\",\"SP500\",\"SP500\",\"SP500\",\"SP500\",\"SP500\",\"SP500\",\"SP500\",\"SP500\",\"SP500\",\"SP500\",\"SP500\",\"SP500\",\"SP500\",\"SP500\",\"SP500\",\"SP500\",\"SP500\",\"SP500\",\"SP500\",\"SP500\",\"SP500\",\"SP500\",\"SP500\",\"SP500\",\"SP500\",\"SP500\",\"SP500\",\"SP500\",\"SP500\",\"SP500\",\"SP500\",\"SP500\",\"SP500\",\"SP500\",\"SP500\",\"SP500\",\"SP500\",\"SP500\",\"SP500\",\"SP500\",\"SP500\",\"SP500\",\"SP500\",\"SP500\",\"SP500\",\"SP500\"]]]}}},\"view\":{\"type\":\"object\",\"name\":\"CDSView\",\"id\":\"p1110\",\"attributes\":{\"filter\":{\"type\":\"object\",\"name\":\"AllIndices\",\"id\":\"p1111\"}}},\"glyph\":{\"type\":\"object\",\"name\":\"Line\",\"id\":\"p1106\",\"attributes\":{\"tags\":[\"apply_ranges\"],\"x\":{\"type\":\"field\",\"field\":\"Date\"},\"y\":{\"type\":\"field\",\"field\":\"value\"},\"line_color\":\"Orange\",\"line_width\":2}},\"selection_glyph\":{\"type\":\"object\",\"name\":\"Line\",\"id\":\"p1113\",\"attributes\":{\"tags\":[\"apply_ranges\"],\"x\":{\"type\":\"field\",\"field\":\"Date\"},\"y\":{\"type\":\"field\",\"field\":\"value\"},\"line_color\":\"Orange\",\"line_width\":2}},\"nonselection_glyph\":{\"type\":\"object\",\"name\":\"Line\",\"id\":\"p1107\",\"attributes\":{\"tags\":[\"apply_ranges\"],\"x\":{\"type\":\"field\",\"field\":\"Date\"},\"y\":{\"type\":\"field\",\"field\":\"value\"},\"line_color\":\"Orange\",\"line_alpha\":0.1,\"line_width\":2}},\"muted_glyph\":{\"type\":\"object\",\"name\":\"Line\",\"id\":\"p1108\",\"attributes\":{\"tags\":[\"apply_ranges\"],\"x\":{\"type\":\"field\",\"field\":\"Date\"},\"y\":{\"type\":\"field\",\"field\":\"value\"},\"line_color\":\"Orange\",\"line_alpha\":0.2,\"line_width\":2}}}},{\"type\":\"object\",\"name\":\"GlyphRenderer\",\"id\":\"p1123\",\"attributes\":{\"name\":\"NDAQ\",\"data_source\":{\"type\":\"object\",\"name\":\"ColumnDataSource\",\"id\":\"p1114\",\"attributes\":{\"selected\":{\"type\":\"object\",\"name\":\"Selection\",\"id\":\"p1115\",\"attributes\":{\"indices\":[],\"line_indices\":[]}},\"selection_policy\":{\"type\":\"object\",\"name\":\"UnionRenderers\",\"id\":\"p1116\"},\"data\":{\"type\":\"map\",\"entries\":[[\"Date\",{\"type\":\"ndarray\",\"array\":{\"type\":\"bytes\",\"data\":\"AACAxPZgeEIAAEAqSWF4QgAAgFtAYnhCAABAwZJieEIAAAAn5WJ4QgAAwIw3Y3hCAACA8oljeEIAAMAjgWR4QgAAgInTZHhCAABA7yVleEIAAABVeGV4QgAAwLrKZXhCAADAURRneEIAAIC3Zmd4QgAAQB25Z3hCAAAAgwtoeEIAAEC0Aml4QgAAABpVaXhCAADAf6dpeEIAAIDl+Wl4QgAAQEtManhCAACAfENreEIAAEDilWt4QgAAAEjoa3hCAADArTpseEIAAIATjWx4QgAAwESEbXhCAACAqtZteEIAAEAQKW54QgAAAHZ7bnhCAADA281ueEIAAAANxW94QgAAwHIXcHhCAACA2GlweEIAAEA+vHB4QgAAAKQOcXhCAABA1QVyeEIAAAA7WHJ4QgAAwKCqcnhCAACABv1yeEIAAEBsT3N4QgAAgJ1GdHhCAABAA5l0eEIAAABp63R4QgAAwM49dXhCAADAZYd2eEIAAIDL2XZ4QgAAQDEsd3hCAAAAl353eEIAAMD80Hd4QgAAAC7IeHhCAADAkxp5eEIAAID5bHl4QgAAQF+/eXhCAAAAxRF6eEIAAED2CHt4QgAAAFxbe3hCAADAwa17eEIAAIAnAHx4QgAAQI1SfHhCAACAvkl9eEIAAEAknH14QgAAAIrufXhCAADA70B+eEIAAIBVk354QgAAwIaKf3hCAACA7Nx/eEIAAEBSL4B4QgAAALiBgHhCAADAHdSAeEIAAABPy4F4QgAAwLQdgnhCAACAGnCCeEIAAECAwoJ4QgAAAOYUg3hCAABAFwyEeEIAAAB9XoR4QgAAwOKwhHhCAACASAOFeEIAAECuVYV4QgAAQEWfhnhCAAAAq/GGeEIAAMAQRId4QgAAgHaWh3hCAADAp42IeEIAAIAN4Ih4QgAAQHMyiXhCAAAA2YSJeEIAAMA+14l4QgAAAHDOinhCAADA1SCLeEIAAIA7c4t4QgAAQKHFi3hCAAAABxiMeEIAAACeYY14QgAAwAO0jXhCAACAaQaOeEIAAEDPWI54QgAAgABQj3hCAABAZqKPeEIAAADM9I94QgAAwDFHkHhCAACAl5mQeEIAAMDIkJF4QgAAQJQ1knhCAAAA+oeSeEIAAMBf2pJ4QgAAAJHRk3hCAADA9iOUeEIAAIBcdpR4QgAAQMLIlHhCAAAAKBuVeEIAAEBZEpZ4QgAAAL9klnhCAADAJLeWeEIAAICKCZd4QgAAQPBbl3hCAACAIVOYeEIAAECHpZh4QgAAAO33mHhCAADAUkqZeEIAAIC4nJl4QgAAwOmTmnhC\"},\"shape\":[123],\"dtype\":\"float64\",\"order\":\"little\"}],[\"value\",{\"type\":\"ndarray\",\"array\":{\"type\":\"bytes\",\"data\":\"CwBjZEiF8D8KQ0NTFULwP4Vp+gyoGPA/Lm+SYR1n8D9djTNGpyDwP1e9NzR27e8/AMPPiOu77z+l90QuKRrwP7tqMWzbMfA/bBwh1CNY8D+kgm0asg3wPzOqETrc6+8/R4GqKV0f7z8E1SGIminvP9SDYuFfY+8/g2Kfx93b7j9NFidjzw3vP5jDOQbhBe8/Nkg38yXR7j8A9F14CQvvP0x9zBy9p+8/bJZg9ome7z/0viuzujnvP/qhwS1kWe8//8h/AKS07j+9spo1WiruPyHCsEz7TO4/8wTk3ePy7j/tfZn++vbuP8WkqnNWu+8/0+cOky5/7z+FIXB3Zp7vP9KYregtD/A/Mv3UIYia7z+UXJRM8+vvP6xSivilAvA/Hi6dSBXf7z9H5wd6gbrvP+hM6kIaJvA/OxgzBVdE8D/4rULpl4zwP/Y3I2xXgfA/DloeLXZr8D/2ugsOlT7wPzu+dzwpXvA/AaIDxulc8D+fg5S3uErwP//WsVotJ/A/kI0BcE558D+2r4BheGrwP4PKrbZXdvA/XHjoPtl08D+xoS07LHbwP0xRxwdRVPA/yguSxclY8D9hY9/PkEzwP/EDnHQa9O8/2Z7AxC4N8D+46iAG+nDwP73PRlM2jvA/Yaa/vl2J8D+yPDkglFvwPyQJ83hzSPA/hI2eCwY08D/TF3blRZHwP00Nn6+6mPA/Uepj5uh98D8dZLQS5anwP6tjlI6LsfA/gJ0/bF+i8D+RSkJNRL7wPxuX0tSVtvA/1DyDGTDt8D9a/qgccy7xP2oR6IG5I/E/kg/DdIU58T+rk9oU4AHxPwMa1OF/5/A//40h9Kcx8T+lgP4T4pHxP0XCGxJaoPE/SGAg/+CD8T/IJo1EUL3xPxFbqC7F7fE/8c7t39bp8T8SDx/AIPrxP1dtjiCsvvE/bMmfhP3s8T8qIVhUI/TxPynaNvRtOvI/2ArOjAth8j8uIwnzeHPyP848QYGqqfI/HsWIiFeJ8j/IIQRqnoHyP6cKAGNkSPI/hg2vced08j8fyhFjCUXyP5Y76VW0DvI//+ObS+1a8j/hSIgFb2fyP1IBP8BJZ/I/dg+7E2+r8j/r/zk3b7XyP+OEcBO6rPI/JIzbGrGF8j+o1AllV3/yPxCAlJbsh/I/oS6Dlf+h8j89RgqF29jyP5xp4aH7JPM/pzdurVwc8z83EmLB20nzP2bE9d2Ib/M/0Pfxiw1x8z+/FUEW5QrzPwVDIodSAPM/Z2o6FVsJ8z8B2ssuDyfzPxrsBMMRIfM/kwNCuVEG8z91WGxGt2LzP2FExKvkbPM/\"},\"shape\":[123],\"dtype\":\"float64\",\"order\":\"little\"}],[\"Variable\",[\"NDAQ\",\"NDAQ\",\"NDAQ\",\"NDAQ\",\"NDAQ\",\"NDAQ\",\"NDAQ\",\"NDAQ\",\"NDAQ\",\"NDAQ\",\"NDAQ\",\"NDAQ\",\"NDAQ\",\"NDAQ\",\"NDAQ\",\"NDAQ\",\"NDAQ\",\"NDAQ\",\"NDAQ\",\"NDAQ\",\"NDAQ\",\"NDAQ\",\"NDAQ\",\"NDAQ\",\"NDAQ\",\"NDAQ\",\"NDAQ\",\"NDAQ\",\"NDAQ\",\"NDAQ\",\"NDAQ\",\"NDAQ\",\"NDAQ\",\"NDAQ\",\"NDAQ\",\"NDAQ\",\"NDAQ\",\"NDAQ\",\"NDAQ\",\"NDAQ\",\"NDAQ\",\"NDAQ\",\"NDAQ\",\"NDAQ\",\"NDAQ\",\"NDAQ\",\"NDAQ\",\"NDAQ\",\"NDAQ\",\"NDAQ\",\"NDAQ\",\"NDAQ\",\"NDAQ\",\"NDAQ\",\"NDAQ\",\"NDAQ\",\"NDAQ\",\"NDAQ\",\"NDAQ\",\"NDAQ\",\"NDAQ\",\"NDAQ\",\"NDAQ\",\"NDAQ\",\"NDAQ\",\"NDAQ\",\"NDAQ\",\"NDAQ\",\"NDAQ\",\"NDAQ\",\"NDAQ\",\"NDAQ\",\"NDAQ\",\"NDAQ\",\"NDAQ\",\"NDAQ\",\"NDAQ\",\"NDAQ\",\"NDAQ\",\"NDAQ\",\"NDAQ\",\"NDAQ\",\"NDAQ\",\"NDAQ\",\"NDAQ\",\"NDAQ\",\"NDAQ\",\"NDAQ\",\"NDAQ\",\"NDAQ\",\"NDAQ\",\"NDAQ\",\"NDAQ\",\"NDAQ\",\"NDAQ\",\"NDAQ\",\"NDAQ\",\"NDAQ\",\"NDAQ\",\"NDAQ\",\"NDAQ\",\"NDAQ\",\"NDAQ\",\"NDAQ\",\"NDAQ\",\"NDAQ\",\"NDAQ\",\"NDAQ\",\"NDAQ\",\"NDAQ\",\"NDAQ\",\"NDAQ\",\"NDAQ\",\"NDAQ\",\"NDAQ\",\"NDAQ\",\"NDAQ\",\"NDAQ\",\"NDAQ\",\"NDAQ\",\"NDAQ\",\"NDAQ\",\"NDAQ\"]]]}}},\"view\":{\"type\":\"object\",\"name\":\"CDSView\",\"id\":\"p1124\",\"attributes\":{\"filter\":{\"type\":\"object\",\"name\":\"AllIndices\",\"id\":\"p1125\"}}},\"glyph\":{\"type\":\"object\",\"name\":\"Line\",\"id\":\"p1120\",\"attributes\":{\"tags\":[\"apply_ranges\"],\"x\":{\"type\":\"field\",\"field\":\"Date\"},\"y\":{\"type\":\"field\",\"field\":\"value\"},\"line_color\":\"Red\",\"line_width\":2}},\"selection_glyph\":{\"type\":\"object\",\"name\":\"Line\",\"id\":\"p1127\",\"attributes\":{\"tags\":[\"apply_ranges\"],\"x\":{\"type\":\"field\",\"field\":\"Date\"},\"y\":{\"type\":\"field\",\"field\":\"value\"},\"line_color\":\"Red\",\"line_width\":2}},\"nonselection_glyph\":{\"type\":\"object\",\"name\":\"Line\",\"id\":\"p1121\",\"attributes\":{\"tags\":[\"apply_ranges\"],\"x\":{\"type\":\"field\",\"field\":\"Date\"},\"y\":{\"type\":\"field\",\"field\":\"value\"},\"line_color\":\"Red\",\"line_alpha\":0.1,\"line_width\":2}},\"muted_glyph\":{\"type\":\"object\",\"name\":\"Line\",\"id\":\"p1122\",\"attributes\":{\"tags\":[\"apply_ranges\"],\"x\":{\"type\":\"field\",\"field\":\"Date\"},\"y\":{\"type\":\"field\",\"field\":\"value\"},\"line_color\":\"Red\",\"line_alpha\":0.2,\"line_width\":2}}}},{\"type\":\"object\",\"name\":\"GlyphRenderer\",\"id\":\"p1137\",\"attributes\":{\"name\":\"John \",\"data_source\":{\"type\":\"object\",\"name\":\"ColumnDataSource\",\"id\":\"p1128\",\"attributes\":{\"selected\":{\"type\":\"object\",\"name\":\"Selection\",\"id\":\"p1129\",\"attributes\":{\"indices\":[],\"line_indices\":[]}},\"selection_policy\":{\"type\":\"object\",\"name\":\"UnionRenderers\",\"id\":\"p1130\"},\"data\":{\"type\":\"map\",\"entries\":[[\"Date\",{\"type\":\"ndarray\",\"array\":{\"type\":\"bytes\",\"data\":\"AACAxPZgeEIAAEAqSWF4QgAAgFtAYnhCAABAwZJieEIAAAAn5WJ4QgAAwIw3Y3hCAACA8oljeEIAAMAjgWR4QgAAgInTZHhCAABA7yVleEIAAABVeGV4QgAAwLrKZXhCAADAURRneEIAAIC3Zmd4QgAAQB25Z3hCAAAAgwtoeEIAAEC0Aml4QgAAABpVaXhCAADAf6dpeEIAAIDl+Wl4QgAAQEtManhCAACAfENreEIAAEDilWt4QgAAAEjoa3hCAADArTpseEIAAIATjWx4QgAAwESEbXhCAACAqtZteEIAAEAQKW54QgAAAHZ7bnhCAADA281ueEIAAAANxW94QgAAwHIXcHhCAACA2GlweEIAAEA+vHB4QgAAAKQOcXhCAABA1QVyeEIAAAA7WHJ4QgAAwKCqcnhCAACABv1yeEIAAEBsT3N4QgAAgJ1GdHhCAABAA5l0eEIAAABp63R4QgAAwM49dXhCAADAZYd2eEIAAIDL2XZ4QgAAQDEsd3hCAAAAl353eEIAAMD80Hd4QgAAAC7IeHhCAADAkxp5eEIAAID5bHl4QgAAQF+/eXhCAAAAxRF6eEIAAED2CHt4QgAAAFxbe3hCAADAwa17eEIAAIAnAHx4QgAAQI1SfHhCAACAvkl9eEIAAEAknH14QgAAAIrufXhCAADA70B+eEIAAIBVk354QgAAwIaKf3hCAACA7Nx/eEIAAEBSL4B4QgAAALiBgHhCAADAHdSAeEIAAABPy4F4QgAAwLQdgnhCAACAGnCCeEIAAECAwoJ4QgAAAOYUg3hCAABAFwyEeEIAAAB9XoR4QgAAwOKwhHhCAACASAOFeEIAAECuVYV4QgAAQEWfhnhCAAAAq/GGeEIAAMAQRId4QgAAgHaWh3hCAADAp42IeEIAAIAN4Ih4QgAAQHMyiXhCAAAA2YSJeEIAAMA+14l4QgAAAHDOinhCAADA1SCLeEIAAIA7c4t4QgAAQKHFi3hCAAAABxiMeEIAAACeYY14QgAAwAO0jXhCAACAaQaOeEIAAEDPWI54QgAAgABQj3hCAABAZqKPeEIAAADM9I94QgAAwDFHkHhCAACAl5mQeEIAAMDIkJF4QgAAQJQ1knhCAAAA+oeSeEIAAMBf2pJ4QgAAAJHRk3hCAADA9iOUeEIAAIBcdpR4QgAAQMLIlHhCAAAAKBuVeEIAAEBZEpZ4QgAAAL9klnhCAADAJLeWeEIAAICKCZd4QgAAQPBbl3hCAACAIVOYeEIAAECHpZh4QgAAAO33mHhCAADAUkqZeEIAAIC4nJl4QgAAwOmTmnhC\"},\"shape\":[123],\"dtype\":\"float64\",\"order\":\"little\"}],[\"value\",{\"type\":\"ndarray\",\"array\":{\"type\":\"bytes\",\"data\":\"viMb8okQ8D9kKRrmlgbwP2DYwfRH/+8/xJdb/PVU8D8FmJUkIz3wP6+etWpnOvA/tEPnsosR8D/YcxOiFEjwP+rT3GcWcfA/An9nKU148D/7H0jfRzfwPzc24cyjHvA/7IJ5MVOC7z9956+lf3PvP7gWWaWgQPA/+urR6FMJ8D/vftYi5yPwPxxexKBaFfA/j0V7Ry7e7z9Ce0hKdBbwP2SDhljVifA/RtVklwqd8D+cgS1QBmPwP2c4pcBGivA/xC5s+PVD8D8yuHx6hgbwP4jX/RdEE/A/EBJoqjNt8D+ym2PvXWXwP1B3lgqowPA/vp3iu+O18D/M9TZ10erwPxhZLIaWCvE/0FbUcsjz8D8BZHLMyhzxP9ZnhqXVF/E/uk2TAQ0G8T/c4QRA9eTwPzOMpjCuCvE/uM82KIku8T8FoPapxGTxP+ODd6ShqfE/fzfdX8eD8T8zt0vtZX7xP3gc+PIvffE/a0xxZ4yN8T+r/3WGJYPxPwawlnnXX/E/z0W8m6Oj8T8ZiQ+rYJHxPy2kOeyll/E/hPoX2J+68T/H+j+52KfxPz5vScDrj/E/DGGVcqF+8T+yVdkWooTxP5ogVxooSfE/YKjSrDtD8T+BqNEWdnnxP83zkmyWrvE/9yETEVHq8T9T0k+pg4/xPyz+3aLMcvE/NFA0g1tY8T+mr/3pMOjxP2LmRGkJ9PE/YYaTOBDJ8T820j4bpN/xP5iyKbx81fE/jNX4NNLS8T88qdLP8e3xPyqhvw3a4fE/K4B2iaYs8j/qh3G6n33yP0iHLZTvdfI/LKiMiwxk8j9TSEkzvDTyP8B7e4tEIfI/lZ77QqxL8z+Mg9zenfPzP5YHcQVr/vM/5hatRdrW8z+gjTxQ7Cr0P3fjmpgPWPQ/M1RuZIEz9D8Mi1tzbgT0P3ObSWrzx/M/+qEeS2cJ9D89BOtdhRz0P+z8WGhXivQ/80fxBsqb9D8BYdBQYrr0P/QpSiJe1fQ/jblTG5O59D9tdM3HpeP0P9VhiA5OxvQ/p28p60rb9D+YARAcXKz0P68goQq8cfQ/vTT/lRvQ9D+krAut9LP0P/4L7iCQ4vQ/B/ueD+g/9T+1JUADl0H1Pyw8r6s7HvU/4ET/dj8D9T+KAFGbxOj0P3iGjplUB/U/VyJXrMcZ9T/4sL44pED1P1xIEflpdPU/cVVXOc619T8LPT8PXwn2P1q3CniVLvY/zDtUPIY19j+MBc/dvOz1P9EyCPby1fU/e1sg6Q309T/H93ty2yP2P5dkPqaT9vU/fg7kERHo9T9IwNV69hT2PyugrT/gJ/Y/\"},\"shape\":[123],\"dtype\":\"float64\",\"order\":\"little\"}],[\"Variable\",[\"John \",\"John \",\"John \",\"John \",\"John \",\"John \",\"John \",\"John \",\"John \",\"John \",\"John \",\"John \",\"John \",\"John \",\"John \",\"John \",\"John \",\"John \",\"John \",\"John \",\"John \",\"John \",\"John \",\"John \",\"John \",\"John \",\"John \",\"John \",\"John \",\"John \",\"John \",\"John \",\"John \",\"John \",\"John \",\"John \",\"John \",\"John \",\"John \",\"John \",\"John \",\"John \",\"John \",\"John \",\"John \",\"John \",\"John \",\"John \",\"John \",\"John \",\"John \",\"John \",\"John \",\"John \",\"John \",\"John \",\"John \",\"John \",\"John \",\"John \",\"John \",\"John \",\"John \",\"John \",\"John \",\"John \",\"John \",\"John \",\"John \",\"John \",\"John \",\"John \",\"John \",\"John \",\"John \",\"John \",\"John \",\"John \",\"John \",\"John \",\"John \",\"John \",\"John \",\"John \",\"John \",\"John \",\"John \",\"John \",\"John \",\"John \",\"John \",\"John \",\"John \",\"John \",\"John \",\"John \",\"John \",\"John \",\"John \",\"John \",\"John \",\"John \",\"John \",\"John \",\"John \",\"John \",\"John \",\"John \",\"John \",\"John \",\"John \",\"John \",\"John \",\"John \",\"John \",\"John \",\"John \",\"John \",\"John \",\"John \",\"John \",\"John \",\"John \"]]]}}},\"view\":{\"type\":\"object\",\"name\":\"CDSView\",\"id\":\"p1138\",\"attributes\":{\"filter\":{\"type\":\"object\",\"name\":\"AllIndices\",\"id\":\"p1139\"}}},\"glyph\":{\"type\":\"object\",\"name\":\"Line\",\"id\":\"p1134\",\"attributes\":{\"tags\":[\"apply_ranges\"],\"x\":{\"type\":\"field\",\"field\":\"Date\"},\"y\":{\"type\":\"field\",\"field\":\"value\"},\"line_color\":\"Green\",\"line_width\":2}},\"selection_glyph\":{\"type\":\"object\",\"name\":\"Line\",\"id\":\"p1141\",\"attributes\":{\"tags\":[\"apply_ranges\"],\"x\":{\"type\":\"field\",\"field\":\"Date\"},\"y\":{\"type\":\"field\",\"field\":\"value\"},\"line_color\":\"Green\",\"line_width\":2}},\"nonselection_glyph\":{\"type\":\"object\",\"name\":\"Line\",\"id\":\"p1135\",\"attributes\":{\"tags\":[\"apply_ranges\"],\"x\":{\"type\":\"field\",\"field\":\"Date\"},\"y\":{\"type\":\"field\",\"field\":\"value\"},\"line_color\":\"Green\",\"line_alpha\":0.1,\"line_width\":2}},\"muted_glyph\":{\"type\":\"object\",\"name\":\"Line\",\"id\":\"p1136\",\"attributes\":{\"tags\":[\"apply_ranges\"],\"x\":{\"type\":\"field\",\"field\":\"Date\"},\"y\":{\"type\":\"field\",\"field\":\"value\"},\"line_color\":\"Green\",\"line_alpha\":0.2,\"line_width\":2}}}},{\"type\":\"object\",\"name\":\"GlyphRenderer\",\"id\":\"p1151\",\"attributes\":{\"name\":\"alex_1\",\"data_source\":{\"type\":\"object\",\"name\":\"ColumnDataSource\",\"id\":\"p1142\",\"attributes\":{\"selected\":{\"type\":\"object\",\"name\":\"Selection\",\"id\":\"p1143\",\"attributes\":{\"indices\":[],\"line_indices\":[]}},\"selection_policy\":{\"type\":\"object\",\"name\":\"UnionRenderers\",\"id\":\"p1144\"},\"data\":{\"type\":\"map\",\"entries\":[[\"Date\",{\"type\":\"ndarray\",\"array\":{\"type\":\"bytes\",\"data\":\"AACAxPZgeEIAAEAqSWF4QgAAgFtAYnhCAABAwZJieEIAAAAn5WJ4QgAAwIw3Y3hCAACA8oljeEIAAMAjgWR4QgAAgInTZHhCAABA7yVleEIAAABVeGV4QgAAwLrKZXhCAADAURRneEIAAIC3Zmd4QgAAQB25Z3hCAAAAgwtoeEIAAEC0Aml4QgAAABpVaXhCAADAf6dpeEIAAIDl+Wl4QgAAQEtManhCAACAfENreEIAAEDilWt4QgAAAEjoa3hCAADArTpseEIAAIATjWx4QgAAwESEbXhCAACAqtZteEIAAEAQKW54QgAAAHZ7bnhCAADA281ueEIAAAANxW94QgAAwHIXcHhCAACA2GlweEIAAEA+vHB4QgAAAKQOcXhCAABA1QVyeEIAAAA7WHJ4QgAAwKCqcnhCAACABv1yeEIAAEBsT3N4QgAAgJ1GdHhCAABAA5l0eEIAAABp63R4QgAAwM49dXhCAADAZYd2eEIAAIDL2XZ4QgAAQDEsd3hCAAAAl353eEIAAMD80Hd4QgAAAC7IeHhCAADAkxp5eEIAAID5bHl4QgAAQF+/eXhCAAAAxRF6eEIAAED2CHt4QgAAAFxbe3hCAADAwa17eEIAAIAnAHx4QgAAQI1SfHhCAACAvkl9eEIAAEAknH14QgAAAIrufXhCAADA70B+eEIAAIBVk354QgAAwIaKf3hCAACA7Nx/eEIAAEBSL4B4QgAAALiBgHhCAADAHdSAeEIAAABPy4F4QgAAwLQdgnhCAACAGnCCeEIAAECAwoJ4QgAAAOYUg3hCAABAFwyEeEIAAAB9XoR4QgAAwOKwhHhCAACASAOFeEIAAECuVYV4QgAAQEWfhnhCAAAAq/GGeEIAAMAQRId4QgAAgHaWh3hCAADAp42IeEIAAIAN4Ih4QgAAQHMyiXhCAAAA2YSJeEIAAMA+14l4QgAAAHDOinhCAADA1SCLeEIAAIA7c4t4QgAAQKHFi3hCAAAABxiMeEIAAACeYY14QgAAwAO0jXhCAACAaQaOeEIAAEDPWI54QgAAgABQj3hCAABAZqKPeEIAAADM9I94QgAAwDFHkHhCAACAl5mQeEIAAMDIkJF4QgAAQJQ1knhCAAAA+oeSeEIAAMBf2pJ4QgAAAJHRk3hCAADA9iOUeEIAAIBcdpR4QgAAQMLIlHhCAAAAKBuVeEIAAEBZEpZ4QgAAAL9klnhCAADAJLeWeEIAAICKCZd4QgAAQPBbl3hCAACAIVOYeEIAAECHpZh4QgAAAO33mHhCAADAUkqZeEIAAIC4nJl4QgAAwOmTmnhC\"},\"shape\":[123],\"dtype\":\"float64\",\"order\":\"little\"}],[\"value\",{\"type\":\"ndarray\",\"array\":{\"type\":\"bytes\",\"data\":\"hzNfPPzG8D8/X3HpKk/wP8mWuGlPKfA/AyVvHyOd8D+I7OMAJ3PwPzwJXS/QUvA/vz/uhuIY8D8IRs+gJ3rwP/8Xl5X0s/A/DRtINKW98D9oEeMQNFLwP0vY7XnDEvA/W1v99rJF7z9NTkYygWXvP3EBI0lEUPA/nzpyv4j57z/Vo3aIWxXwP6LSC8xwB/A/bsfb2Rt97z+LM/LN2uLvP5IME6kaXvA/4lqkuZRc8D9IMZ7TQDTwP1S310D5ZvA/fdLkfZke8D9+zHoembbvPxkP6FGUEfA/U3BxP0aI8D8D2HWj47PwP6Wr5WrOV/E/YV8osKJa8T+WpC8Y2kjxPytECTj3ifE/M8yvlNpv8T+665qlPKzxP4uRzIGzqfE/VXws02p/8T/MyegWDmjxP6W4k0crzvE/ypFl4o8M8j9KapGHJU/yP5IZyhfFUfI/C+e7sOtJ8j/X7ATYpvjxP2MhfpzvLfI/d9svyhwr8j9Mtem+CN3xPxjaEkhzpvE/iNEsUq4Z8j8aeYEfmhbyP81DJlqoLvI/4pNWOFVN8j+1nZKX5XfyP51sbj/ZPvI/d36S9RNW8j/AD0sSVjzyPwFrrmp0zPE/4crCDLNY8j+t2d2eiuHyPxw0Gjlq2/I/HON+4a3f8j9gd/XTD83yP+VRtVEhsPI/kPJ+sPSh8j+rqTLIxzHzPzduXd+GP/M/vk1aA1gd8z/sYepSqHXzP5optMKAd/M/VEesLsNK8z9IZGE7YG7zP7Aw5TBPm/M/JPAWxp3p8z+57yEY9mn0P52wQZ71Q/Q/FMR1xO829D995OUNAvfzP0dsaqSwAPQ/JNH3REZf9T/Fl9gvY+/1P9Wke4BgM/Y//2Ibp5vJ9T/htJlta1L2P119jO2pZvY/g8Rux4tk9j8vqSscBVT2P1GyaVeEtPU/+o5n3wsb9j+allPL+CT2P+bWtl8pj/Y/l4exOVnP9j97zTs9SCX3P0VWyZFaYfc/BFLugBQu9z+eTbKDdkb3PwgrzD0HBfc/SyKw4aN29z81NdrGZTn3P0SKwZQrw/Y/DZSyvlc19z9/l/2R5Cf3P0F9btZMD/c/UwSRJnib9z9TcG9tvIb3PwZIF+YMffc/fIXapcxv9z+Q9KyGAXT3PzsDmu6pIfc/JkI2WHg79z+iILbgy6n3P8epJjmROPg/0edgvLc4+D8jESp3rGr4P9ajEN/5wPg/R0rOkALJ+D/QUKF5kiD4Py24xCen4Pc/MGldEGfp9z+9gwvZ3DL4PzogKnYp7Pc/oCKuYWrS9z8O85q2lVX4P+oa2A3bX/g/\"},\"shape\":[123],\"dtype\":\"float64\",\"order\":\"little\"}],[\"Variable\",[\"alex_1\",\"alex_1\",\"alex_1\",\"alex_1\",\"alex_1\",\"alex_1\",\"alex_1\",\"alex_1\",\"alex_1\",\"alex_1\",\"alex_1\",\"alex_1\",\"alex_1\",\"alex_1\",\"alex_1\",\"alex_1\",\"alex_1\",\"alex_1\",\"alex_1\",\"alex_1\",\"alex_1\",\"alex_1\",\"alex_1\",\"alex_1\",\"alex_1\",\"alex_1\",\"alex_1\",\"alex_1\",\"alex_1\",\"alex_1\",\"alex_1\",\"alex_1\",\"alex_1\",\"alex_1\",\"alex_1\",\"alex_1\",\"alex_1\",\"alex_1\",\"alex_1\",\"alex_1\",\"alex_1\",\"alex_1\",\"alex_1\",\"alex_1\",\"alex_1\",\"alex_1\",\"alex_1\",\"alex_1\",\"alex_1\",\"alex_1\",\"alex_1\",\"alex_1\",\"alex_1\",\"alex_1\",\"alex_1\",\"alex_1\",\"alex_1\",\"alex_1\",\"alex_1\",\"alex_1\",\"alex_1\",\"alex_1\",\"alex_1\",\"alex_1\",\"alex_1\",\"alex_1\",\"alex_1\",\"alex_1\",\"alex_1\",\"alex_1\",\"alex_1\",\"alex_1\",\"alex_1\",\"alex_1\",\"alex_1\",\"alex_1\",\"alex_1\",\"alex_1\",\"alex_1\",\"alex_1\",\"alex_1\",\"alex_1\",\"alex_1\",\"alex_1\",\"alex_1\",\"alex_1\",\"alex_1\",\"alex_1\",\"alex_1\",\"alex_1\",\"alex_1\",\"alex_1\",\"alex_1\",\"alex_1\",\"alex_1\",\"alex_1\",\"alex_1\",\"alex_1\",\"alex_1\",\"alex_1\",\"alex_1\",\"alex_1\",\"alex_1\",\"alex_1\",\"alex_1\",\"alex_1\",\"alex_1\",\"alex_1\",\"alex_1\",\"alex_1\",\"alex_1\",\"alex_1\",\"alex_1\",\"alex_1\",\"alex_1\",\"alex_1\",\"alex_1\",\"alex_1\",\"alex_1\",\"alex_1\",\"alex_1\",\"alex_1\",\"alex_1\"]]]}}},\"view\":{\"type\":\"object\",\"name\":\"CDSView\",\"id\":\"p1152\",\"attributes\":{\"filter\":{\"type\":\"object\",\"name\":\"AllIndices\",\"id\":\"p1153\"}}},\"glyph\":{\"type\":\"object\",\"name\":\"Line\",\"id\":\"p1148\",\"attributes\":{\"tags\":[\"apply_ranges\"],\"x\":{\"type\":\"field\",\"field\":\"Date\"},\"y\":{\"type\":\"field\",\"field\":\"value\"},\"line_color\":\"Purple\",\"line_width\":2}},\"selection_glyph\":{\"type\":\"object\",\"name\":\"Line\",\"id\":\"p1155\",\"attributes\":{\"tags\":[\"apply_ranges\"],\"x\":{\"type\":\"field\",\"field\":\"Date\"},\"y\":{\"type\":\"field\",\"field\":\"value\"},\"line_color\":\"Purple\",\"line_width\":2}},\"nonselection_glyph\":{\"type\":\"object\",\"name\":\"Line\",\"id\":\"p1149\",\"attributes\":{\"tags\":[\"apply_ranges\"],\"x\":{\"type\":\"field\",\"field\":\"Date\"},\"y\":{\"type\":\"field\",\"field\":\"value\"},\"line_color\":\"Purple\",\"line_alpha\":0.1,\"line_width\":2}},\"muted_glyph\":{\"type\":\"object\",\"name\":\"Line\",\"id\":\"p1150\",\"attributes\":{\"tags\":[\"apply_ranges\"],\"x\":{\"type\":\"field\",\"field\":\"Date\"},\"y\":{\"type\":\"field\",\"field\":\"value\"},\"line_color\":\"Purple\",\"line_alpha\":0.2,\"line_width\":2}}}},{\"type\":\"object\",\"name\":\"GlyphRenderer\",\"id\":\"p1165\",\"attributes\":{\"name\":\"Gaby\",\"data_source\":{\"type\":\"object\",\"name\":\"ColumnDataSource\",\"id\":\"p1156\",\"attributes\":{\"selected\":{\"type\":\"object\",\"name\":\"Selection\",\"id\":\"p1157\",\"attributes\":{\"indices\":[],\"line_indices\":[]}},\"selection_policy\":{\"type\":\"object\",\"name\":\"UnionRenderers\",\"id\":\"p1158\"},\"data\":{\"type\":\"map\",\"entries\":[[\"Date\",{\"type\":\"ndarray\",\"array\":{\"type\":\"bytes\",\"data\":\"AACAxPZgeEIAAEAqSWF4QgAAgFtAYnhCAABAwZJieEIAAAAn5WJ4QgAAwIw3Y3hCAACA8oljeEIAAMAjgWR4QgAAgInTZHhCAABA7yVleEIAAABVeGV4QgAAwLrKZXhCAADAURRneEIAAIC3Zmd4QgAAQB25Z3hCAAAAgwtoeEIAAEC0Aml4QgAAABpVaXhCAADAf6dpeEIAAIDl+Wl4QgAAQEtManhCAACAfENreEIAAEDilWt4QgAAAEjoa3hCAADArTpseEIAAIATjWx4QgAAwESEbXhCAACAqtZteEIAAEAQKW54QgAAAHZ7bnhCAADA281ueEIAAAANxW94QgAAwHIXcHhCAACA2GlweEIAAEA+vHB4QgAAAKQOcXhCAABA1QVyeEIAAAA7WHJ4QgAAwKCqcnhCAACABv1yeEIAAEBsT3N4QgAAgJ1GdHhCAABAA5l0eEIAAABp63R4QgAAwM49dXhCAADAZYd2eEIAAIDL2XZ4QgAAQDEsd3hCAAAAl353eEIAAMD80Hd4QgAAAC7IeHhCAADAkxp5eEIAAID5bHl4QgAAQF+/eXhCAAAAxRF6eEIAAED2CHt4QgAAAFxbe3hCAADAwa17eEIAAIAnAHx4QgAAQI1SfHhCAACAvkl9eEIAAEAknH14QgAAAIrufXhCAADA70B+eEIAAIBVk354QgAAwIaKf3hCAACA7Nx/eEIAAEBSL4B4QgAAALiBgHhCAADAHdSAeEIAAABPy4F4QgAAwLQdgnhCAACAGnCCeEIAAECAwoJ4QgAAAOYUg3hCAABAFwyEeEIAAAB9XoR4QgAAwOKwhHhCAACASAOFeEIAAECuVYV4QgAAQEWfhnhCAAAAq/GGeEIAAMAQRId4QgAAgHaWh3hCAADAp42IeEIAAIAN4Ih4QgAAQHMyiXhCAAAA2YSJeEIAAMA+14l4QgAAAHDOinhCAADA1SCLeEIAAIA7c4t4QgAAQKHFi3hCAAAABxiMeEIAAACeYY14QgAAwAO0jXhCAACAaQaOeEIAAEDPWI54QgAAgABQj3hCAABAZqKPeEIAAADM9I94QgAAwDFHkHhCAACAl5mQeEIAAMDIkJF4QgAAQJQ1knhCAAAA+oeSeEIAAMBf2pJ4QgAAAJHRk3hCAADA9iOUeEIAAIBcdpR4QgAAQMLIlHhCAAAAKBuVeEIAAEBZEpZ4QgAAAL9klnhCAADAJLeWeEIAAICKCZd4QgAAQPBbl3hCAACAIVOYeEIAAECHpZh4QgAAAO33mHhCAADAUkqZeEIAAIC4nJl4QgAAwOmTmnhC\"},\"shape\":[123],\"dtype\":\"float64\",\"order\":\"little\"}],[\"value\",{\"type\":\"ndarray\",\"array\":{\"type\":\"bytes\",\"data\":\"DWgVkWhs8D+Q5WiP9z7wPzuodFypafA/SJWx0gXf8D/SZ9KNBeTwP3ZuVCVCEvE/3hBrcRZ08D/CoNonM5nwP2ylBNM5U/E/jqBTW1128T8Z6Q+iGN7wPxRO+Z671vA/s/H8nCA48D8bPZhBdErwP6jM9AcoKPE/0pzHuP7b8D/f3mN8AUvxP6KjwAW/QfE/fyx9OQ8K8T+I2NjO2OjwP2pubeHKkvE/gLIqvedf8T//ihyhSw7xP/AcWppiKvE/hqoqn5yd8D/thy2B3XPwP2w1jQAXgPA/9fZamLgu8T/N7eO3aBPxP5z5V0RwmPE/EW/SrJd18T8YOHmGnbfxP9wj6wPzLvI/rVR/fS3+8T/URU6p70TyP52EMfkrF/I/PRg+6ZX98T9s0FGIX9zxP9HAjcU7JfI/uQX5mrtb8j/+00uEPefyP4e8KabTkfI/2ZKcMR5P8j83betT/efxP95cHyWY3fE/9zuiY0ED8j9HTU26I/HxP+CLvOfui/E/fPjsfOLI8T/t31ZnB8fxP31mCQe9+PE/4wkaej8U8j/OcnFdJgnyPxmtIVv/QfE/BEH+yGpV8T+xQwGLYT7xPzI4GnO+5PA/AUM7Z2zA8D/hsbJPxA/xP/f4ae85ZPE/UbS13Qqn8T9iu20U8zfxPwXLWBiDJ/E/c5f77v4Y8T+W4gWFGNTxP+peB3n/+fE/J+NkGy2q8T8KuMsCOMjxP1OEVdZa2/E/w6JInM6y8T/kzrKbhNnxP8XqjDqo7PE/veikGtSI8j+qO2woJyTzP3UkZzJMN/M/SpTO0dJ48z8MecWQdFfzP6lLhMYhJfM/pZQtIL039T+qWQ7CsIv2P6o8K/CW/vY/LsVLRIG19j9ui1J0lQ/3PwBZwbbBbfc/eANFSPRv9z/cPXG55lj3P0IvcQ0dQPc/hEBw48fu9z/Iy7yal1D4P4+GAEajJ/k/lnwLWAW9+T9Ui0bT73D6P4yVZiwQUPo/BV3rMORT+j9vWfLGWwb7P+/vv3weKvo/S+LkdJ9H+j8MPOXwOKP5P0AcwweGy/g/mtLnmqSh+T/k0W55hq35P1bk/nNizvk/Hc0QoiVP+j/hQndjKQf7P5ZVw4h/8fo/BL7j1oyQ+j9N0VLocpH6P62P7yxZq/o/64DBUzXE+j/D51aM7Dv7P/ODbDhV3fs/5qzzNxXc+z/iY6IvPJb8P88akZ3L0vw/u2SgtCam/D+vym7V6UP7PxcihhiOAvs/FOImWeNu+z9PQmpukrD7P0CDsX50XPs/pol4u04o+z+b60u9s8T7P3hzTKdwyfs/\"},\"shape\":[123],\"dtype\":\"float64\",\"order\":\"little\"}],[\"Variable\",[\"Gaby\",\"Gaby\",\"Gaby\",\"Gaby\",\"Gaby\",\"Gaby\",\"Gaby\",\"Gaby\",\"Gaby\",\"Gaby\",\"Gaby\",\"Gaby\",\"Gaby\",\"Gaby\",\"Gaby\",\"Gaby\",\"Gaby\",\"Gaby\",\"Gaby\",\"Gaby\",\"Gaby\",\"Gaby\",\"Gaby\",\"Gaby\",\"Gaby\",\"Gaby\",\"Gaby\",\"Gaby\",\"Gaby\",\"Gaby\",\"Gaby\",\"Gaby\",\"Gaby\",\"Gaby\",\"Gaby\",\"Gaby\",\"Gaby\",\"Gaby\",\"Gaby\",\"Gaby\",\"Gaby\",\"Gaby\",\"Gaby\",\"Gaby\",\"Gaby\",\"Gaby\",\"Gaby\",\"Gaby\",\"Gaby\",\"Gaby\",\"Gaby\",\"Gaby\",\"Gaby\",\"Gaby\",\"Gaby\",\"Gaby\",\"Gaby\",\"Gaby\",\"Gaby\",\"Gaby\",\"Gaby\",\"Gaby\",\"Gaby\",\"Gaby\",\"Gaby\",\"Gaby\",\"Gaby\",\"Gaby\",\"Gaby\",\"Gaby\",\"Gaby\",\"Gaby\",\"Gaby\",\"Gaby\",\"Gaby\",\"Gaby\",\"Gaby\",\"Gaby\",\"Gaby\",\"Gaby\",\"Gaby\",\"Gaby\",\"Gaby\",\"Gaby\",\"Gaby\",\"Gaby\",\"Gaby\",\"Gaby\",\"Gaby\",\"Gaby\",\"Gaby\",\"Gaby\",\"Gaby\",\"Gaby\",\"Gaby\",\"Gaby\",\"Gaby\",\"Gaby\",\"Gaby\",\"Gaby\",\"Gaby\",\"Gaby\",\"Gaby\",\"Gaby\",\"Gaby\",\"Gaby\",\"Gaby\",\"Gaby\",\"Gaby\",\"Gaby\",\"Gaby\",\"Gaby\",\"Gaby\",\"Gaby\",\"Gaby\",\"Gaby\",\"Gaby\",\"Gaby\",\"Gaby\",\"Gaby\",\"Gaby\",\"Gaby\",\"Gaby\"]]]}}},\"view\":{\"type\":\"object\",\"name\":\"CDSView\",\"id\":\"p1166\",\"attributes\":{\"filter\":{\"type\":\"object\",\"name\":\"AllIndices\",\"id\":\"p1167\"}}},\"glyph\":{\"type\":\"object\",\"name\":\"Line\",\"id\":\"p1162\",\"attributes\":{\"tags\":[\"apply_ranges\"],\"x\":{\"type\":\"field\",\"field\":\"Date\"},\"y\":{\"type\":\"field\",\"field\":\"value\"},\"line_color\":\"Black\",\"line_width\":2}},\"selection_glyph\":{\"type\":\"object\",\"name\":\"Line\",\"id\":\"p1169\",\"attributes\":{\"tags\":[\"apply_ranges\"],\"x\":{\"type\":\"field\",\"field\":\"Date\"},\"y\":{\"type\":\"field\",\"field\":\"value\"},\"line_color\":\"Black\",\"line_width\":2}},\"nonselection_glyph\":{\"type\":\"object\",\"name\":\"Line\",\"id\":\"p1163\",\"attributes\":{\"tags\":[\"apply_ranges\"],\"x\":{\"type\":\"field\",\"field\":\"Date\"},\"y\":{\"type\":\"field\",\"field\":\"value\"},\"line_color\":\"Black\",\"line_alpha\":0.1,\"line_width\":2}},\"muted_glyph\":{\"type\":\"object\",\"name\":\"Line\",\"id\":\"p1164\",\"attributes\":{\"tags\":[\"apply_ranges\"],\"x\":{\"type\":\"field\",\"field\":\"Date\"},\"y\":{\"type\":\"field\",\"field\":\"value\"},\"line_color\":\"Black\",\"line_alpha\":0.2,\"line_width\":2}}}}],\"toolbar\":{\"type\":\"object\",\"name\":\"Toolbar\",\"id\":\"p1055\",\"attributes\":{\"tools\":[{\"type\":\"object\",\"name\":\"WheelZoomTool\",\"id\":\"p1029\",\"attributes\":{\"tags\":[\"hv_created\"],\"zoom_together\":\"none\"}},{\"type\":\"object\",\"name\":\"HoverTool\",\"id\":\"p1030\",\"attributes\":{\"tags\":[\"hv_created\"],\"renderers\":[{\"id\":\"p1094\"},{\"id\":\"p1109\"},{\"id\":\"p1123\"},{\"id\":\"p1137\"},{\"id\":\"p1151\"},{\"id\":\"p1165\"}],\"tooltips\":[[\"Variable\",\"@{Variable}\"],[\"Date\",\"@{Date}{%F %T}\"],[\"value\",\"@{value}\"]],\"formatters\":{\"type\":\"map\",\"entries\":[[\"@{Date}\",\"datetime\"]]}}},{\"type\":\"object\",\"name\":\"SaveTool\",\"id\":\"p1080\"},{\"type\":\"object\",\"name\":\"PanTool\",\"id\":\"p1081\"},{\"type\":\"object\",\"name\":\"BoxZoomTool\",\"id\":\"p1082\",\"attributes\":{\"overlay\":{\"type\":\"object\",\"name\":\"BoxAnnotation\",\"id\":\"p1083\",\"attributes\":{\"syncable\":false,\"level\":\"overlay\",\"visible\":false,\"left_units\":\"canvas\",\"right_units\":\"canvas\",\"bottom_units\":\"canvas\",\"top_units\":\"canvas\",\"line_color\":\"black\",\"line_alpha\":1.0,\"line_width\":2,\"line_dash\":[4,4],\"fill_color\":\"lightgrey\",\"fill_alpha\":0.5}}}},{\"type\":\"object\",\"name\":\"ResetTool\",\"id\":\"p1084\"}],\"active_drag\":{\"id\":\"p1081\"},\"active_scroll\":{\"id\":\"p1029\"}}},\"left\":[{\"type\":\"object\",\"name\":\"LinearAxis\",\"id\":\"p1075\",\"attributes\":{\"ticker\":{\"type\":\"object\",\"name\":\"BasicTicker\",\"id\":\"p1076\",\"attributes\":{\"mantissas\":[1,2,5]}},\"formatter\":{\"type\":\"object\",\"name\":\"BasicTickFormatter\",\"id\":\"p1077\"},\"axis_label\":\"\",\"major_label_policy\":{\"type\":\"object\",\"name\":\"AllLabels\",\"id\":\"p1078\"}}}],\"below\":[{\"type\":\"object\",\"name\":\"DatetimeAxis\",\"id\":\"p1058\",\"attributes\":{\"ticker\":{\"type\":\"object\",\"name\":\"DatetimeTicker\",\"id\":\"p1059\",\"attributes\":{\"num_minor_ticks\":5,\"tickers\":[{\"type\":\"object\",\"name\":\"AdaptiveTicker\",\"id\":\"p1060\",\"attributes\":{\"num_minor_ticks\":0,\"mantissas\":[1,2,5],\"max_interval\":500.0}},{\"type\":\"object\",\"name\":\"AdaptiveTicker\",\"id\":\"p1061\",\"attributes\":{\"num_minor_ticks\":0,\"base\":60,\"mantissas\":[1,2,5,10,15,20,30],\"min_interval\":1000.0,\"max_interval\":1800000.0}},{\"type\":\"object\",\"name\":\"AdaptiveTicker\",\"id\":\"p1062\",\"attributes\":{\"num_minor_ticks\":0,\"base\":24,\"mantissas\":[1,2,4,6,8,12],\"min_interval\":3600000.0,\"max_interval\":43200000.0}},{\"type\":\"object\",\"name\":\"DaysTicker\",\"id\":\"p1063\",\"attributes\":{\"days\":[1,2,3,4,5,6,7,8,9,10,11,12,13,14,15,16,17,18,19,20,21,22,23,24,25,26,27,28,29,30,31]}},{\"type\":\"object\",\"name\":\"DaysTicker\",\"id\":\"p1064\",\"attributes\":{\"days\":[1,4,7,10,13,16,19,22,25,28]}},{\"type\":\"object\",\"name\":\"DaysTicker\",\"id\":\"p1065\",\"attributes\":{\"days\":[1,8,15,22]}},{\"type\":\"object\",\"name\":\"DaysTicker\",\"id\":\"p1066\",\"attributes\":{\"days\":[1,15]}},{\"type\":\"object\",\"name\":\"MonthsTicker\",\"id\":\"p1067\",\"attributes\":{\"months\":[0,1,2,3,4,5,6,7,8,9,10,11]}},{\"type\":\"object\",\"name\":\"MonthsTicker\",\"id\":\"p1068\",\"attributes\":{\"months\":[0,2,4,6,8,10]}},{\"type\":\"object\",\"name\":\"MonthsTicker\",\"id\":\"p1069\",\"attributes\":{\"months\":[0,4,8]}},{\"type\":\"object\",\"name\":\"MonthsTicker\",\"id\":\"p1070\",\"attributes\":{\"months\":[0,6]}},{\"type\":\"object\",\"name\":\"YearsTicker\",\"id\":\"p1071\"}]}},\"formatter\":{\"type\":\"object\",\"name\":\"DatetimeTickFormatter\",\"id\":\"p1072\"},\"axis_label\":\"Date\",\"major_label_policy\":{\"type\":\"object\",\"name\":\"AllLabels\",\"id\":\"p1073\"}}}],\"center\":[{\"type\":\"object\",\"name\":\"Grid\",\"id\":\"p1074\",\"attributes\":{\"axis\":{\"id\":\"p1058\"},\"grid_line_color\":null}},{\"type\":\"object\",\"name\":\"Grid\",\"id\":\"p1079\",\"attributes\":{\"dimension\":1,\"axis\":{\"id\":\"p1075\"},\"grid_line_color\":null}},{\"type\":\"object\",\"name\":\"Legend\",\"id\":\"p1097\",\"attributes\":{\"location\":\"top_left\",\"title\":\"Variable\",\"click_policy\":\"mute\",\"items\":[{\"type\":\"object\",\"name\":\"LegendItem\",\"id\":\"p1098\",\"attributes\":{\"label\":{\"type\":\"value\",\"value\":\"James's Portfolio\"},\"renderers\":[{\"id\":\"p1094\"}]}},{\"type\":\"object\",\"name\":\"LegendItem\",\"id\":\"p1112\",\"attributes\":{\"label\":{\"type\":\"value\",\"value\":\"SP500\"},\"renderers\":[{\"id\":\"p1109\"}]}},{\"type\":\"object\",\"name\":\"LegendItem\",\"id\":\"p1126\",\"attributes\":{\"label\":{\"type\":\"value\",\"value\":\"NDAQ\"},\"renderers\":[{\"id\":\"p1123\"}]}},{\"type\":\"object\",\"name\":\"LegendItem\",\"id\":\"p1140\",\"attributes\":{\"label\":{\"type\":\"value\",\"value\":\"John \"},\"renderers\":[{\"id\":\"p1137\"}]}},{\"type\":\"object\",\"name\":\"LegendItem\",\"id\":\"p1154\",\"attributes\":{\"label\":{\"type\":\"value\",\"value\":\"alex_1\"},\"renderers\":[{\"id\":\"p1151\"}]}},{\"type\":\"object\",\"name\":\"LegendItem\",\"id\":\"p1168\",\"attributes\":{\"label\":{\"type\":\"value\",\"value\":\"Gaby\"},\"renderers\":[{\"id\":\"p1165\"}]}}]}}],\"min_border_top\":10,\"min_border_bottom\":10,\"min_border_left\":10,\"min_border_right\":10,\"output_backend\":\"webgl\"}}]}}}},{\"type\":\"object\",\"name\":\"TabPanel\",\"id\":\"p1230\",\"attributes\":{\"name\":\"Column01203\",\"title\":\"Sharpe Ratio\",\"child\":{\"type\":\"object\",\"name\":\"Column\",\"id\":\"p1173\",\"attributes\":{\"name\":\"Column01203\",\"stylesheets\":[\"\\n:host(.pn-loading.pn-arc):before, .pn-loading.pn-arc:before {\\n  background-image: url(\\\"data:image/svg+xml;base64,PHN2ZyB4bWxucz0iaHR0cDovL3d3dy53My5vcmcvMjAwMC9zdmciIHN0eWxlPSJtYXJnaW46IGF1dG87IGJhY2tncm91bmQ6IG5vbmU7IGRpc3BsYXk6IGJsb2NrOyBzaGFwZS1yZW5kZXJpbmc6IGF1dG87IiB2aWV3Qm94PSIwIDAgMTAwIDEwMCIgcHJlc2VydmVBc3BlY3RSYXRpbz0ieE1pZFlNaWQiPiAgPGNpcmNsZSBjeD0iNTAiIGN5PSI1MCIgZmlsbD0ibm9uZSIgc3Ryb2tlPSIjYzNjM2MzIiBzdHJva2Utd2lkdGg9IjEwIiByPSIzNSIgc3Ryb2tlLWRhc2hhcnJheT0iMTY0LjkzMzYxNDMxMzQ2NDE1IDU2Ljk3Nzg3MTQzNzgyMTM4Ij4gICAgPGFuaW1hdGVUcmFuc2Zvcm0gYXR0cmlidXRlTmFtZT0idHJhbnNmb3JtIiB0eXBlPSJyb3RhdGUiIHJlcGVhdENvdW50PSJpbmRlZmluaXRlIiBkdXI9IjFzIiB2YWx1ZXM9IjAgNTAgNTA7MzYwIDUwIDUwIiBrZXlUaW1lcz0iMDsxIj48L2FuaW1hdGVUcmFuc2Zvcm0+ICA8L2NpcmNsZT48L3N2Zz4=\\\");\\n  background-size: auto calc(min(50%, 400px));\\n}\",{\"id\":\"p1006\"},{\"id\":\"p1171\"},{\"id\":\"p1004\"},{\"id\":\"p1005\"}],\"margin\":0,\"align\":\"start\",\"children\":[{\"type\":\"object\",\"name\":\"panel.models.markup.HTML\",\"id\":\"p1176\",\"attributes\":{\"css_classes\":[\"markdown\"],\"stylesheets\":[\"\\n:host(.pn-loading.pn-arc):before, .pn-loading.pn-arc:before {\\n  background-image: url(\\\"data:image/svg+xml;base64,PHN2ZyB4bWxucz0iaHR0cDovL3d3dy53My5vcmcvMjAwMC9zdmciIHN0eWxlPSJtYXJnaW46IGF1dG87IGJhY2tncm91bmQ6IG5vbmU7IGRpc3BsYXk6IGJsb2NrOyBzaGFwZS1yZW5kZXJpbmc6IGF1dG87IiB2aWV3Qm94PSIwIDAgMTAwIDEwMCIgcHJlc2VydmVBc3BlY3RSYXRpbz0ieE1pZFlNaWQiPiAgPGNpcmNsZSBjeD0iNTAiIGN5PSI1MCIgZmlsbD0ibm9uZSIgc3Ryb2tlPSIjYzNjM2MzIiBzdHJva2Utd2lkdGg9IjEwIiByPSIzNSIgc3Ryb2tlLWRhc2hhcnJheT0iMTY0LjkzMzYxNDMxMzQ2NDE1IDU2Ljk3Nzg3MTQzNzgyMTM4Ij4gICAgPGFuaW1hdGVUcmFuc2Zvcm0gYXR0cmlidXRlTmFtZT0idHJhbnNmb3JtIiB0eXBlPSJyb3RhdGUiIHJlcGVhdENvdW50PSJpbmRlZmluaXRlIiBkdXI9IjFzIiB2YWx1ZXM9IjAgNTAgNTA7MzYwIDUwIDUwIiBrZXlUaW1lcz0iMDsxIj48L2FuaW1hdGVUcmFuc2Zvcm0+ICA8L2NpcmNsZT48L3N2Zz4=\\\");\\n  background-size: auto calc(min(50%, 400px));\\n}\",{\"id\":\"p1006\"},{\"id\":\"p1007\"},{\"id\":\"p1004\"},{\"id\":\"p1005\"}],\"margin\":[5,10],\"align\":\"start\",\"text\":\"&lt;h2 id=&quot;how-does-your-sharpe-ratio-compare-to-the-other-portfolios&quot;&gt;How does your Sharpe Ratio compare to the other portfolios? &lt;a class=&quot;header-anchor&quot; href=&quot;#how-does-your-sharpe-ratio-compare-to-the-other-portfolios&quot;&gt;\\u00b6&lt;/a&gt;&lt;/h2&gt;\\n\"}},{\"type\":\"object\",\"name\":\"Figure\",\"id\":\"p1184\",\"attributes\":{\"width\":700,\"height\":300,\"margin\":[5,10],\"sizing_mode\":\"fixed\",\"align\":\"start\",\"x_range\":{\"type\":\"object\",\"name\":\"FactorRange\",\"id\":\"p1177\",\"attributes\":{\"tags\":[[[\"index\",\"index\",null]],[]],\"factors\":[\"James's Portfolio\",\"SP500\",\"NDAQ\",\"John \",\"alex_1\",\"Gaby\"]}},\"y_range\":{\"type\":\"object\",\"name\":\"Range1d\",\"id\":\"p1178\",\"attributes\":{\"tags\":[[[\"0\",\"0\",null]],{\"type\":\"map\",\"entries\":[[\"invert_yaxis\",false],[\"autorange\",false]]}],\"end\":3.721061195314824,\"reset_start\":0.0,\"reset_end\":3.721061195314824}},\"x_scale\":{\"type\":\"object\",\"name\":\"CategoricalScale\",\"id\":\"p1194\"},\"y_scale\":{\"type\":\"object\",\"name\":\"LinearScale\",\"id\":\"p1195\"},\"title\":{\"type\":\"object\",\"name\":\"Title\",\"id\":\"p1187\",\"attributes\":{\"text\":\"0\",\"text_color\":\"black\",\"text_font_size\":\"12pt\"}},\"renderers\":[{\"type\":\"object\",\"name\":\"GlyphRenderer\",\"id\":\"p1221\",\"attributes\":{\"data_source\":{\"type\":\"object\",\"name\":\"ColumnDataSource\",\"id\":\"p1211\",\"attributes\":{\"selected\":{\"type\":\"object\",\"name\":\"Selection\",\"id\":\"p1212\",\"attributes\":{\"indices\":[],\"line_indices\":[]}},\"selection_policy\":{\"type\":\"object\",\"name\":\"UnionRenderers\",\"id\":\"p1213\"},\"data\":{\"type\":\"map\",\"entries\":[[\"index\",[\"James's Portfolio\",\"SP500\",\"NDAQ\",\"John \",\"alex_1\",\"Gaby\"]],[\"A_0\",{\"type\":\"ndarray\",\"array\":{\"type\":\"bytes\",\"data\":\"D3bVH9P1AkDs0wp4+tP7Px4HraaPswJAQUDOr8FTDECiBsOJqEwLQCIcyM1hKwtA\"},\"shape\":[6],\"dtype\":\"float64\",\"order\":\"little\"}]]}}},\"view\":{\"type\":\"object\",\"name\":\"CDSView\",\"id\":\"p1222\",\"attributes\":{\"filter\":{\"type\":\"object\",\"name\":\"AllIndices\",\"id\":\"p1223\"}}},\"glyph\":{\"type\":\"object\",\"name\":\"VBar\",\"id\":\"p1217\",\"attributes\":{\"tags\":[\"apply_ranges\"],\"x\":{\"type\":\"field\",\"field\":\"index\"},\"width\":{\"type\":\"value\",\"value\":0.8},\"top\":{\"type\":\"field\",\"field\":\"A_0\"},\"fill_color\":{\"type\":\"value\",\"value\":\"Green\"},\"hatch_color\":{\"type\":\"value\",\"value\":\"Green\"}}},\"selection_glyph\":{\"type\":\"object\",\"name\":\"VBar\",\"id\":\"p1224\",\"attributes\":{\"tags\":[\"apply_ranges\"],\"x\":{\"type\":\"field\",\"field\":\"index\"},\"width\":{\"type\":\"value\",\"value\":0.8},\"bottom\":{\"type\":\"value\",\"value\":0},\"top\":{\"type\":\"field\",\"field\":\"A_0\"},\"line_color\":{\"type\":\"value\",\"value\":\"black\"},\"line_alpha\":{\"type\":\"value\",\"value\":1.0},\"line_width\":{\"type\":\"value\",\"value\":1},\"line_join\":{\"type\":\"value\",\"value\":\"bevel\"},\"line_cap\":{\"type\":\"value\",\"value\":\"butt\"},\"line_dash\":{\"type\":\"value\",\"value\":[]},\"line_dash_offset\":{\"type\":\"value\",\"value\":0},\"fill_color\":{\"type\":\"value\",\"value\":\"Green\"},\"fill_alpha\":{\"type\":\"value\",\"value\":1.0},\"hatch_color\":{\"type\":\"value\",\"value\":\"Green\"},\"hatch_alpha\":{\"type\":\"value\",\"value\":1.0},\"hatch_scale\":{\"type\":\"value\",\"value\":12.0},\"hatch_pattern\":{\"type\":\"value\",\"value\":null},\"hatch_weight\":{\"type\":\"value\",\"value\":1.0}}},\"nonselection_glyph\":{\"type\":\"object\",\"name\":\"VBar\",\"id\":\"p1218\",\"attributes\":{\"tags\":[\"apply_ranges\"],\"x\":{\"type\":\"field\",\"field\":\"index\"},\"width\":{\"type\":\"value\",\"value\":0.8},\"top\":{\"type\":\"field\",\"field\":\"A_0\"},\"line_alpha\":{\"type\":\"value\",\"value\":0.1},\"fill_color\":{\"type\":\"value\",\"value\":\"Green\"},\"fill_alpha\":{\"type\":\"value\",\"value\":0.1},\"hatch_color\":{\"type\":\"value\",\"value\":\"Green\"},\"hatch_alpha\":{\"type\":\"value\",\"value\":0.1}}},\"hover_glyph\":{\"type\":\"object\",\"name\":\"VBar\",\"id\":\"p1219\",\"attributes\":{\"tags\":[\"apply_ranges\"],\"x\":{\"type\":\"field\",\"field\":\"index\"},\"width\":{\"type\":\"value\",\"value\":0.8},\"top\":{\"type\":\"field\",\"field\":\"A_0\"},\"line_color\":{\"type\":\"value\",\"value\":\"Blue\"},\"fill_color\":{\"type\":\"value\",\"value\":\"Blue\"},\"hatch_color\":{\"type\":\"value\",\"value\":\"Blue\"}}},\"muted_glyph\":{\"type\":\"object\",\"name\":\"VBar\",\"id\":\"p1220\",\"attributes\":{\"tags\":[\"apply_ranges\"],\"x\":{\"type\":\"field\",\"field\":\"index\"},\"width\":{\"type\":\"value\",\"value\":0.8},\"top\":{\"type\":\"field\",\"field\":\"A_0\"},\"line_alpha\":{\"type\":\"value\",\"value\":0.2},\"fill_color\":{\"type\":\"value\",\"value\":\"Green\"},\"fill_alpha\":{\"type\":\"value\",\"value\":0.2},\"hatch_color\":{\"type\":\"value\",\"value\":\"Green\"},\"hatch_alpha\":{\"type\":\"value\",\"value\":0.2}}}}}],\"toolbar\":{\"type\":\"object\",\"name\":\"Toolbar\",\"id\":\"p1193\",\"attributes\":{\"tools\":[{\"type\":\"object\",\"name\":\"WheelZoomTool\",\"id\":\"p1182\",\"attributes\":{\"tags\":[\"hv_created\"],\"zoom_together\":\"none\"}},{\"type\":\"object\",\"name\":\"HoverTool\",\"id\":\"p1183\",\"attributes\":{\"tags\":[\"hv_created\"],\"renderers\":[{\"id\":\"p1221\"}],\"tooltips\":[[\"index\",\"@{index}\"],[\"0\",\"@{A_0}\"]]}},{\"type\":\"object\",\"name\":\"SaveTool\",\"id\":\"p1206\"},{\"type\":\"object\",\"name\":\"PanTool\",\"id\":\"p1207\"},{\"type\":\"object\",\"name\":\"BoxZoomTool\",\"id\":\"p1208\",\"attributes\":{\"overlay\":{\"type\":\"object\",\"name\":\"BoxAnnotation\",\"id\":\"p1209\",\"attributes\":{\"syncable\":false,\"level\":\"overlay\",\"visible\":false,\"left_units\":\"canvas\",\"right_units\":\"canvas\",\"bottom_units\":\"canvas\",\"top_units\":\"canvas\",\"line_color\":\"black\",\"line_alpha\":1.0,\"line_width\":2,\"line_dash\":[4,4],\"fill_color\":\"lightgrey\",\"fill_alpha\":0.5}}}},{\"type\":\"object\",\"name\":\"ResetTool\",\"id\":\"p1210\"}],\"active_drag\":{\"id\":\"p1207\"},\"active_scroll\":{\"id\":\"p1182\"}}},\"left\":[{\"type\":\"object\",\"name\":\"LinearAxis\",\"id\":\"p1201\",\"attributes\":{\"ticker\":{\"type\":\"object\",\"name\":\"BasicTicker\",\"id\":\"p1202\",\"attributes\":{\"mantissas\":[1,2,5]}},\"formatter\":{\"type\":\"object\",\"name\":\"BasicTickFormatter\",\"id\":\"p1203\"},\"axis_label\":\"\",\"major_label_policy\":{\"type\":\"object\",\"name\":\"AllLabels\",\"id\":\"p1204\"}}}],\"below\":[{\"type\":\"object\",\"name\":\"CategoricalAxis\",\"id\":\"p1196\",\"attributes\":{\"ticker\":{\"type\":\"object\",\"name\":\"CategoricalTicker\",\"id\":\"p1197\"},\"formatter\":{\"type\":\"object\",\"name\":\"CategoricalTickFormatter\",\"id\":\"p1198\"},\"axis_label\":\"\",\"major_label_policy\":{\"type\":\"object\",\"name\":\"AllLabels\",\"id\":\"p1199\"}}}],\"center\":[{\"type\":\"object\",\"name\":\"Grid\",\"id\":\"p1200\",\"attributes\":{\"axis\":{\"id\":\"p1196\"},\"grid_line_color\":null}},{\"type\":\"object\",\"name\":\"Grid\",\"id\":\"p1205\",\"attributes\":{\"dimension\":1,\"axis\":{\"id\":\"p1201\"},\"grid_line_color\":null}}],\"min_border_top\":10,\"min_border_bottom\":10,\"min_border_left\":10,\"min_border_right\":10,\"output_backend\":\"webgl\"}},{\"type\":\"object\",\"name\":\"panel.models.markup.HTML\",\"id\":\"p1227\",\"attributes\":{\"css_classes\":[\"markdown\"],\"stylesheets\":[\"\\n:host(.pn-loading.pn-arc):before, .pn-loading.pn-arc:before {\\n  background-image: url(\\\"data:image/svg+xml;base64,PHN2ZyB4bWxucz0iaHR0cDovL3d3dy53My5vcmcvMjAwMC9zdmciIHN0eWxlPSJtYXJnaW46IGF1dG87IGJhY2tncm91bmQ6IG5vbmU7IGRpc3BsYXk6IGJsb2NrOyBzaGFwZS1yZW5kZXJpbmc6IGF1dG87IiB2aWV3Qm94PSIwIDAgMTAwIDEwMCIgcHJlc2VydmVBc3BlY3RSYXRpbz0ieE1pZFlNaWQiPiAgPGNpcmNsZSBjeD0iNTAiIGN5PSI1MCIgZmlsbD0ibm9uZSIgc3Ryb2tlPSIjYzNjM2MzIiBzdHJva2Utd2lkdGg9IjEwIiByPSIzNSIgc3Ryb2tlLWRhc2hhcnJheT0iMTY0LjkzMzYxNDMxMzQ2NDE1IDU2Ljk3Nzg3MTQzNzgyMTM4Ij4gICAgPGFuaW1hdGVUcmFuc2Zvcm0gYXR0cmlidXRlTmFtZT0idHJhbnNmb3JtIiB0eXBlPSJyb3RhdGUiIHJlcGVhdENvdW50PSJpbmRlZmluaXRlIiBkdXI9IjFzIiB2YWx1ZXM9IjAgNTAgNTA7MzYwIDUwIDUwIiBrZXlUaW1lcz0iMDsxIj48L2FuaW1hdGVUcmFuc2Zvcm0+ICA8L2NpcmNsZT48L3N2Zz4=\\\");\\n  background-size: auto calc(min(50%, 400px));\\n}\",{\"id\":\"p1006\"},{\"id\":\"p1007\"},{\"id\":\"p1004\"},{\"id\":\"p1005\"}],\"margin\":[5,10],\"align\":\"start\",\"text\":\"&lt;p&gt;A Sharpe ratio less than 1 is considered bad. From 1 to 1.99 is considered adequate/good, from 2 to 2.99 is considered very good, and greater than 3 is considered excellent. The higher a fund&#x27;s Sharpe ratio, the better its returns have been relative to the amount of investment risk taken.&lt;/p&gt;\\n\"}}]}}}},{\"type\":\"object\",\"name\":\"TabPanel\",\"id\":\"p1242\",\"attributes\":{\"name\":\"Column01224\",\"title\":\"Correlation\",\"child\":{\"type\":\"object\",\"name\":\"Column\",\"id\":\"p1231\",\"attributes\":{\"name\":\"Column01224\",\"stylesheets\":[\"\\n:host(.pn-loading.pn-arc):before, .pn-loading.pn-arc:before {\\n  background-image: url(\\\"data:image/svg+xml;base64,PHN2ZyB4bWxucz0iaHR0cDovL3d3dy53My5vcmcvMjAwMC9zdmciIHN0eWxlPSJtYXJnaW46IGF1dG87IGJhY2tncm91bmQ6IG5vbmU7IGRpc3BsYXk6IGJsb2NrOyBzaGFwZS1yZW5kZXJpbmc6IGF1dG87IiB2aWV3Qm94PSIwIDAgMTAwIDEwMCIgcHJlc2VydmVBc3BlY3RSYXRpbz0ieE1pZFlNaWQiPiAgPGNpcmNsZSBjeD0iNTAiIGN5PSI1MCIgZmlsbD0ibm9uZSIgc3Ryb2tlPSIjYzNjM2MzIiBzdHJva2Utd2lkdGg9IjEwIiByPSIzNSIgc3Ryb2tlLWRhc2hhcnJheT0iMTY0LjkzMzYxNDMxMzQ2NDE1IDU2Ljk3Nzg3MTQzNzgyMTM4Ij4gICAgPGFuaW1hdGVUcmFuc2Zvcm0gYXR0cmlidXRlTmFtZT0idHJhbnNmb3JtIiB0eXBlPSJyb3RhdGUiIHJlcGVhdENvdW50PSJpbmRlZmluaXRlIiBkdXI9IjFzIiB2YWx1ZXM9IjAgNTAgNTA7MzYwIDUwIDUwIiBrZXlUaW1lcz0iMDsxIj48L2FuaW1hdGVUcmFuc2Zvcm0+ICA8L2NpcmNsZT48L3N2Zz4=\\\");\\n  background-size: auto calc(min(50%, 400px));\\n}\",{\"id\":\"p1006\"},{\"id\":\"p1171\"},{\"id\":\"p1004\"},{\"id\":\"p1005\"}],\"margin\":0,\"align\":\"start\",\"children\":[{\"type\":\"object\",\"name\":\"panel.models.markup.HTML\",\"id\":\"p1234\",\"attributes\":{\"css_classes\":[\"markdown\"],\"stylesheets\":[\"\\n:host(.pn-loading.pn-arc):before, .pn-loading.pn-arc:before {\\n  background-image: url(\\\"data:image/svg+xml;base64,PHN2ZyB4bWxucz0iaHR0cDovL3d3dy53My5vcmcvMjAwMC9zdmciIHN0eWxlPSJtYXJnaW46IGF1dG87IGJhY2tncm91bmQ6IG5vbmU7IGRpc3BsYXk6IGJsb2NrOyBzaGFwZS1yZW5kZXJpbmc6IGF1dG87IiB2aWV3Qm94PSIwIDAgMTAwIDEwMCIgcHJlc2VydmVBc3BlY3RSYXRpbz0ieE1pZFlNaWQiPiAgPGNpcmNsZSBjeD0iNTAiIGN5PSI1MCIgZmlsbD0ibm9uZSIgc3Ryb2tlPSIjYzNjM2MzIiBzdHJva2Utd2lkdGg9IjEwIiByPSIzNSIgc3Ryb2tlLWRhc2hhcnJheT0iMTY0LjkzMzYxNDMxMzQ2NDE1IDU2Ljk3Nzg3MTQzNzgyMTM4Ij4gICAgPGFuaW1hdGVUcmFuc2Zvcm0gYXR0cmlidXRlTmFtZT0idHJhbnNmb3JtIiB0eXBlPSJyb3RhdGUiIHJlcGVhdENvdW50PSJpbmRlZmluaXRlIiBkdXI9IjFzIiB2YWx1ZXM9IjAgNTAgNTA7MzYwIDUwIDUwIiBrZXlUaW1lcz0iMDsxIj48L2FuaW1hdGVUcmFuc2Zvcm0+ICA8L2NpcmNsZT48L3N2Zz4=\\\");\\n  background-size: auto calc(min(50%, 400px));\\n}\",{\"id\":\"p1006\"},{\"id\":\"p1007\"},{\"id\":\"p1004\"},{\"id\":\"p1005\"}],\"margin\":[5,10],\"align\":\"start\",\"text\":\"&lt;h2 id=&quot;are-your-portfolio-stocks-more-or-less-correlated--aligned-with-each-other&quot;&gt;Are your Portfolio stocks more or less correlated / aligned with each other? &lt;a class=&quot;header-anchor&quot; href=&quot;#are-your-portfolio-stocks-more-or-less-correlated--aligned-with-each-other&quot;&gt;\\u00b6&lt;/a&gt;&lt;/h2&gt;\\n\"}},{\"type\":\"object\",\"name\":\"panel.models.markup.HTML\",\"id\":\"p1236\",\"attributes\":{\"stylesheets\":[\"\\n:host(.pn-loading.pn-arc):before, .pn-loading.pn-arc:before {\\n  background-image: url(\\\"data:image/svg+xml;base64,PHN2ZyB4bWxucz0iaHR0cDovL3d3dy53My5vcmcvMjAwMC9zdmciIHN0eWxlPSJtYXJnaW46IGF1dG87IGJhY2tncm91bmQ6IG5vbmU7IGRpc3BsYXk6IGJsb2NrOyBzaGFwZS1yZW5kZXJpbmc6IGF1dG87IiB2aWV3Qm94PSIwIDAgMTAwIDEwMCIgcHJlc2VydmVBc3BlY3RSYXRpbz0ieE1pZFlNaWQiPiAgPGNpcmNsZSBjeD0iNTAiIGN5PSI1MCIgZmlsbD0ibm9uZSIgc3Ryb2tlPSIjYzNjM2MzIiBzdHJva2Utd2lkdGg9IjEwIiByPSIzNSIgc3Ryb2tlLWRhc2hhcnJheT0iMTY0LjkzMzYxNDMxMzQ2NDE1IDU2Ljk3Nzg3MTQzNzgyMTM4Ij4gICAgPGFuaW1hdGVUcmFuc2Zvcm0gYXR0cmlidXRlTmFtZT0idHJhbnNmb3JtIiB0eXBlPSJyb3RhdGUiIHJlcGVhdENvdW50PSJpbmRlZmluaXRlIiBkdXI9IjFzIiB2YWx1ZXM9IjAgNTAgNTA7MzYwIDUwIDUwIiBrZXlUaW1lcz0iMDsxIj48L2FuaW1hdGVUcmFuc2Zvcm0+ICA8L2NpcmNsZT48L3N2Zz4=\\\");\\n  background-size: auto calc(min(50%, 400px));\\n}\",{\"id\":\"p1006\"},{\"id\":\"p1004\"},{\"id\":\"p1005\"}],\"width\":921,\"height\":691,\"min_width\":921,\"min_height\":691,\"margin\":[5,10],\"align\":\"start\",\"text\":\"&lt;img src=&quot;data:image/png;base64,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&quot;  style=&quot;max-width: 100%; max-height: 100%; object-fit: contain; width: 921px; height: 691px;&quot;&gt;&lt;/img&gt;\"}},{\"type\":\"object\",\"name\":\"panel.models.markup.HTML\",\"id\":\"p1239\",\"attributes\":{\"css_classes\":[\"markdown\"],\"stylesheets\":[\"\\n:host(.pn-loading.pn-arc):before, .pn-loading.pn-arc:before {\\n  background-image: url(\\\"data:image/svg+xml;base64,PHN2ZyB4bWxucz0iaHR0cDovL3d3dy53My5vcmcvMjAwMC9zdmciIHN0eWxlPSJtYXJnaW46IGF1dG87IGJhY2tncm91bmQ6IG5vbmU7IGRpc3BsYXk6IGJsb2NrOyBzaGFwZS1yZW5kZXJpbmc6IGF1dG87IiB2aWV3Qm94PSIwIDAgMTAwIDEwMCIgcHJlc2VydmVBc3BlY3RSYXRpbz0ieE1pZFlNaWQiPiAgPGNpcmNsZSBjeD0iNTAiIGN5PSI1MCIgZmlsbD0ibm9uZSIgc3Ryb2tlPSIjYzNjM2MzIiBzdHJva2Utd2lkdGg9IjEwIiByPSIzNSIgc3Ryb2tlLWRhc2hhcnJheT0iMTY0LjkzMzYxNDMxMzQ2NDE1IDU2Ljk3Nzg3MTQzNzgyMTM4Ij4gICAgPGFuaW1hdGVUcmFuc2Zvcm0gYXR0cmlidXRlTmFtZT0idHJhbnNmb3JtIiB0eXBlPSJyb3RhdGUiIHJlcGVhdENvdW50PSJpbmRlZmluaXRlIiBkdXI9IjFzIiB2YWx1ZXM9IjAgNTAgNTA7MzYwIDUwIDUwIiBrZXlUaW1lcz0iMDsxIj48L2FuaW1hdGVUcmFuc2Zvcm0+ICA8L2NpcmNsZT48L3N2Zz4=\\\");\\n  background-size: auto calc(min(50%, 400px));\\n}\",{\"id\":\"p1006\"},{\"id\":\"p1007\"},{\"id\":\"p1004\"},{\"id\":\"p1005\"}],\"margin\":[5,10],\"align\":\"start\",\"text\":\"&lt;p&gt;In investing, correlation describes how investments move relative to each other. Positively correlated assets move in the same direction, while negatively correlated assets move in opposite directions. The more correlated two assets are, the more risk they can potentially bring to your portfolio.&lt;/p&gt;\\n\"}}]}}}},{\"type\":\"object\",\"name\":\"TabPanel\",\"id\":\"p1383\",\"attributes\":{\"name\":\"Column01465\",\"title\":\"Portfolio Concentration\",\"child\":{\"type\":\"object\",\"name\":\"Column\",\"id\":\"p1243\",\"attributes\":{\"name\":\"Column01465\",\"stylesheets\":[\"\\n:host(.pn-loading.pn-arc):before, .pn-loading.pn-arc:before {\\n  background-image: url(\\\"data:image/svg+xml;base64,PHN2ZyB4bWxucz0iaHR0cDovL3d3dy53My5vcmcvMjAwMC9zdmciIHN0eWxlPSJtYXJnaW46IGF1dG87IGJhY2tncm91bmQ6IG5vbmU7IGRpc3BsYXk6IGJsb2NrOyBzaGFwZS1yZW5kZXJpbmc6IGF1dG87IiB2aWV3Qm94PSIwIDAgMTAwIDEwMCIgcHJlc2VydmVBc3BlY3RSYXRpbz0ieE1pZFlNaWQiPiAgPGNpcmNsZSBjeD0iNTAiIGN5PSI1MCIgZmlsbD0ibm9uZSIgc3Ryb2tlPSIjYzNjM2MzIiBzdHJva2Utd2lkdGg9IjEwIiByPSIzNSIgc3Ryb2tlLWRhc2hhcnJheT0iMTY0LjkzMzYxNDMxMzQ2NDE1IDU2Ljk3Nzg3MTQzNzgyMTM4Ij4gICAgPGFuaW1hdGVUcmFuc2Zvcm0gYXR0cmlidXRlTmFtZT0idHJhbnNmb3JtIiB0eXBlPSJyb3RhdGUiIHJlcGVhdENvdW50PSJpbmRlZmluaXRlIiBkdXI9IjFzIiB2YWx1ZXM9IjAgNTAgNTA7MzYwIDUwIDUwIiBrZXlUaW1lcz0iMDsxIj48L2FuaW1hdGVUcmFuc2Zvcm0+ICA8L2NpcmNsZT48L3N2Zz4=\\\");\\n  background-size: auto calc(min(50%, 400px));\\n}\",{\"id\":\"p1006\"},{\"id\":\"p1171\"},{\"id\":\"p1004\"},{\"id\":\"p1005\"}],\"margin\":0,\"align\":\"start\",\"children\":[{\"type\":\"object\",\"name\":\"panel.models.markup.HTML\",\"id\":\"p1246\",\"attributes\":{\"css_classes\":[\"markdown\"],\"stylesheets\":[\"\\n:host(.pn-loading.pn-arc):before, .pn-loading.pn-arc:before {\\n  background-image: url(\\\"data:image/svg+xml;base64,PHN2ZyB4bWxucz0iaHR0cDovL3d3dy53My5vcmcvMjAwMC9zdmciIHN0eWxlPSJtYXJnaW46IGF1dG87IGJhY2tncm91bmQ6IG5vbmU7IGRpc3BsYXk6IGJsb2NrOyBzaGFwZS1yZW5kZXJpbmc6IGF1dG87IiB2aWV3Qm94PSIwIDAgMTAwIDEwMCIgcHJlc2VydmVBc3BlY3RSYXRpbz0ieE1pZFlNaWQiPiAgPGNpcmNsZSBjeD0iNTAiIGN5PSI1MCIgZmlsbD0ibm9uZSIgc3Ryb2tlPSIjYzNjM2MzIiBzdHJva2Utd2lkdGg9IjEwIiByPSIzNSIgc3Ryb2tlLWRhc2hhcnJheT0iMTY0LjkzMzYxNDMxMzQ2NDE1IDU2Ljk3Nzg3MTQzNzgyMTM4Ij4gICAgPGFuaW1hdGVUcmFuc2Zvcm0gYXR0cmlidXRlTmFtZT0idHJhbnNmb3JtIiB0eXBlPSJyb3RhdGUiIHJlcGVhdENvdW50PSJpbmRlZmluaXRlIiBkdXI9IjFzIiB2YWx1ZXM9IjAgNTAgNTA7MzYwIDUwIDUwIiBrZXlUaW1lcz0iMDsxIj48L2FuaW1hdGVUcmFuc2Zvcm0+ICA8L2NpcmNsZT48L3N2Zz4=\\\");\\n  background-size: auto calc(min(50%, 400px));\\n}\",{\"id\":\"p1006\"},{\"id\":\"p1007\"},{\"id\":\"p1004\"},{\"id\":\"p1005\"}],\"margin\":[5,10],\"align\":\"start\",\"text\":\"&lt;p&gt;What does the industry make up of your portfolio look like?&lt;/p&gt;\\n\"}},{\"type\":\"object\",\"name\":\"panel.models.markup.HTML\",\"id\":\"p1248\",\"attributes\":{\"stylesheets\":[\"\\n:host(.pn-loading.pn-arc):before, .pn-loading.pn-arc:before {\\n  background-image: url(\\\"data:image/svg+xml;base64,PHN2ZyB4bWxucz0iaHR0cDovL3d3dy53My5vcmcvMjAwMC9zdmciIHN0eWxlPSJtYXJnaW46IGF1dG87IGJhY2tncm91bmQ6IG5vbmU7IGRpc3BsYXk6IGJsb2NrOyBzaGFwZS1yZW5kZXJpbmc6IGF1dG87IiB2aWV3Qm94PSIwIDAgMTAwIDEwMCIgcHJlc2VydmVBc3BlY3RSYXRpbz0ieE1pZFlNaWQiPiAgPGNpcmNsZSBjeD0iNTAiIGN5PSI1MCIgZmlsbD0ibm9uZSIgc3Ryb2tlPSIjYzNjM2MzIiBzdHJva2Utd2lkdGg9IjEwIiByPSIzNSIgc3Ryb2tlLWRhc2hhcnJheT0iMTY0LjkzMzYxNDMxMzQ2NDE1IDU2Ljk3Nzg3MTQzNzgyMTM4Ij4gICAgPGFuaW1hdGVUcmFuc2Zvcm0gYXR0cmlidXRlTmFtZT0idHJhbnNmb3JtIiB0eXBlPSJyb3RhdGUiIHJlcGVhdENvdW50PSJpbmRlZmluaXRlIiBkdXI9IjFzIiB2YWx1ZXM9IjAgNTAgNTA7MzYwIDUwIDUwIiBrZXlUaW1lcz0iMDsxIj48L2FuaW1hdGVUcmFuc2Zvcm0+ICA8L2NpcmNsZT48L3N2Zz4=\\\");\\n  background-size: auto calc(min(50%, 400px));\\n}\",{\"id\":\"p1006\"},{\"id\":\"p1004\"},{\"id\":\"p1005\"}],\"width\":921,\"height\":691,\"min_width\":921,\"min_height\":691,\"margin\":[5,10],\"align\":\"start\",\"text\":\"&lt;img src=&quot;data:image/png;base64,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&quot;  style=&quot;max-width: 100%; max-height: 100%; object-fit: contain; width: 921px; height: 691px;&quot;&gt;&lt;/img&gt;\"}},{\"type\":\"object\",\"name\":\"panel.models.markup.HTML\",\"id\":\"p1251\",\"attributes\":{\"css_classes\":[\"markdown\"],\"stylesheets\":[\"\\n:host(.pn-loading.pn-arc):before, .pn-loading.pn-arc:before {\\n  background-image: url(\\\"data:image/svg+xml;base64,PHN2ZyB4bWxucz0iaHR0cDovL3d3dy53My5vcmcvMjAwMC9zdmciIHN0eWxlPSJtYXJnaW46IGF1dG87IGJhY2tncm91bmQ6IG5vbmU7IGRpc3BsYXk6IGJsb2NrOyBzaGFwZS1yZW5kZXJpbmc6IGF1dG87IiB2aWV3Qm94PSIwIDAgMTAwIDEwMCIgcHJlc2VydmVBc3BlY3RSYXRpbz0ieE1pZFlNaWQiPiAgPGNpcmNsZSBjeD0iNTAiIGN5PSI1MCIgZmlsbD0ibm9uZSIgc3Ryb2tlPSIjYzNjM2MzIiBzdHJva2Utd2lkdGg9IjEwIiByPSIzNSIgc3Ryb2tlLWRhc2hhcnJheT0iMTY0LjkzMzYxNDMxMzQ2NDE1IDU2Ljk3Nzg3MTQzNzgyMTM4Ij4gICAgPGFuaW1hdGVUcmFuc2Zvcm0gYXR0cmlidXRlTmFtZT0idHJhbnNmb3JtIiB0eXBlPSJyb3RhdGUiIHJlcGVhdENvdW50PSJpbmRlZmluaXRlIiBkdXI9IjFzIiB2YWx1ZXM9IjAgNTAgNTA7MzYwIDUwIDUwIiBrZXlUaW1lcz0iMDsxIj48L2FuaW1hdGVUcmFuc2Zvcm0+ICA8L2NpcmNsZT48L3N2Zz4=\\\");\\n  background-size: auto calc(min(50%, 400px));\\n}\",{\"id\":\"p1006\"},{\"id\":\"p1007\"},{\"id\":\"p1004\"},{\"id\":\"p1005\"}],\"margin\":[5,10],\"align\":\"start\",\"text\":\"&lt;h2 id=&quot;how-balanced-is-your-portfolio-with-the-current-selection-of-stocks&quot;&gt;How balanced is your portfolio with the current selection of stocks? &lt;a class=&quot;header-anchor&quot; href=&quot;#how-balanced-is-your-portfolio-with-the-current-selection-of-stocks&quot;&gt;\\u00b6&lt;/a&gt;&lt;/h2&gt;\\n\"}},{\"type\":\"object\",\"name\":\"Figure\",\"id\":\"p1271\",\"attributes\":{\"width\":750,\"height\":500,\"margin\":[5,10],\"sizing_mode\":\"fixed\",\"align\":\"start\",\"x_range\":{\"id\":\"p1024\"},\"y_range\":{\"id\":\"p1025\"},\"x_scale\":{\"type\":\"object\",\"name\":\"LinearScale\",\"id\":\"p1281\"},\"y_scale\":{\"type\":\"object\",\"name\":\"LinearScale\",\"id\":\"p1282\"},\"title\":{\"type\":\"object\",\"name\":\"Title\",\"id\":\"p1274\",\"attributes\":{\"text_color\":\"black\",\"text_font_size\":\"12pt\"}},\"renderers\":[{\"type\":\"object\",\"name\":\"GlyphRenderer\",\"id\":\"p1319\",\"attributes\":{\"name\":\"AMZN\",\"data_source\":{\"type\":\"object\",\"name\":\"ColumnDataSource\",\"id\":\"p1310\",\"attributes\":{\"selected\":{\"type\":\"object\",\"name\":\"Selection\",\"id\":\"p1311\",\"attributes\":{\"indices\":[],\"line_indices\":[]}},\"selection_policy\":{\"type\":\"object\",\"name\":\"UnionRenderers\",\"id\":\"p1312\"},\"data\":{\"type\":\"map\",\"entries\":[[\"Date\",{\"type\":\"ndarray\",\"array\":{\"type\":\"bytes\",\"data\":\"AACAxPZgeEIAAEAqSWF4QgAAgFtAYnhCAABAwZJieEIAAAAn5WJ4QgAAwIw3Y3hCAACA8oljeEIAAMAjgWR4QgAAgInTZHhCAABA7yVleEIAAABVeGV4QgAAwLrKZXhCAADAURRneEIAAIC3Zmd4QgAAQB25Z3hCAAAAgwtoeEIAAEC0Aml4QgAAABpVaXhCAADAf6dpeEIAAIDl+Wl4QgAAQEtManhCAACAfENreEIAAEDilWt4QgAAAEjoa3hCAADArTpseEIAAIATjWx4QgAAwESEbXhCAACAqtZteEIAAEAQKW54QgAAAHZ7bnhCAADA281ueEIAAAANxW94QgAAwHIXcHhCAACA2GlweEIAAEA+vHB4QgAAAKQOcXhCAABA1QVyeEIAAAA7WHJ4QgAAwKCqcnhCAACABv1yeEIAAEBsT3N4QgAAgJ1GdHhCAABAA5l0eEIAAABp63R4QgAAwM49dXhCAADAZYd2eEIAAIDL2XZ4QgAAQDEsd3hCAAAAl353eEIAAMD80Hd4QgAAAC7IeHhCAADAkxp5eEIAAID5bHl4QgAAQF+/eXhCAAAAxRF6eEIAAED2CHt4QgAAAFxbe3hCAADAwa17eEIAAIAnAHx4QgAAQI1SfHhCAACAvkl9eEIAAEAknH14QgAAAIrufXhCAADA70B+eEIAAIBVk354QgAAwIaKf3hCAACA7Nx/eEIAAEBSL4B4QgAAALiBgHhCAADAHdSAeEIAAABPy4F4QgAAwLQdgnhCAACAGnCCeEIAAECAwoJ4QgAAAOYUg3hCAABAFwyEeEIAAAB9XoR4QgAAwOKwhHhCAACASAOFeEIAAECuVYV4QgAAQEWfhnhCAAAAq/GGeEIAAMAQRId4QgAAgHaWh3hCAADAp42IeEIAAIAN4Ih4QgAAQHMyiXhCAAAA2YSJeEIAAMA+14l4QgAAAHDOinhCAADA1SCLeEIAAIA7c4t4QgAAQKHFi3hCAAAABxiMeEIAAACeYY14QgAAwAO0jXhCAACAaQaOeEIAAEDPWI54QgAAgABQj3hCAABAZqKPeEIAAADM9I94QgAAwDFHkHhCAACAl5mQeEIAAMDIkJF4QgAAQJQ1knhCAAAA+oeSeEIAAMBf2pJ4QgAAAJHRk3hCAADA9iOUeEIAAIBcdpR4QgAAQMLIlHhCAAAAKBuVeEIAAEBZEpZ4QgAAAL9klnhCAADAJLeWeEIAAICKCZd4QgAAQPBbl3hCAACAIVOYeEIAAECHpZh4QgAAAO33mHhCAADAUkqZeEIAAIC4nJl4QgAAwOmTmnhC\"},\"shape\":[123],\"dtype\":\"float64\",\"order\":\"little\"}],[\"value\",{\"type\":\"ndarray\",\"array\":{\"type\":\"bytes\",\"data\":\"8MY3X4Pksj+AlZr6qZW1vwAjkubg94e/AJRPHL9yRr+AiZHRk6iUv6BFHWhvhpK/AMzJumBEer+Ald9TQj+UPwBQxy3mVVo/ABYrQaP9jT+A20bEDXiev4APnsyd0oO/QJ1qegWam7+Ar6pnbTOKPwBwurpfhjQ/4PcgIQzLmL8AGCASp8dmPwDQKuNMiHQ/ABfd6tVilr8AIIjc/HA8v0AhN0CtyZ4/QI1B+VTRiL8Agr2c7HlhvwB7mDQ6M3A/INYfxTQ1kr+Au0pjVt+Qv8DFMdzEL5M/QM8aKIgkmz8AcYutDn6MPwBHAeT6b6Q/QL6mR3RQhr+AcFlpKKqJv4B7UY5YZJ4/YLO/2pdwk78AwInpRo8aPwCfo3U4EXi/AMSrK54NTr8A3BjmJ7aAvwCWD5R+sp8/QDTObRTgkT8AGk2As+aJP0ATLgXHcoG/AO0BswfMjj/gTHCQNROcv4Ce+QFncoM/APRMHpyoUT8g5a9094yWvyAcVzcya5W/wFXzO9vqpz8AmJmZmZlRPwDsFG5YYWI/ACyQg7CKcb8AFFBAAQWUP4DwSysyPnO/AGqrfXgSnz8Aa1mVlLh8v5CzM0sQjKG/QDKo3V8PmD8g358y8pqnP9CMQfaqX6S/MAiBzR+CoL8AltdGWLWPPwBgjXjQSyk/ABbQI46paz8An762OFiQPwB0oxFcXFo/ACwyimmTfj/gdjdvvCShP0Ds2PU+fpI/IGu0t6+Gkb8AqwPptnWBP4CePlpNQpQ/QC+hvYT2kj/AYMQuj36XP+BFwZiad5C/gOLsw2fYhb8A4GTGC8smvwAmjm2VWI8/wEw85rSyjr9g6zfkJ8CmPwDZ/e7ZbYo/AA2DcjUugr9AIjiuHZmSP4CyCRNTsIg/AF01UppOgT+AJxwHYmmFP5Dw9DaawaW/gMunwlqCmT+An778LQh7vwB7KVDRDJo/AJhc/uBMRz8AJHVGhQtfvwAGVvQfW3Y/wDypC/sZir8AXs8PZe5iPwC/eyDC736/IF2BdAXSpT8Awo3PeM55v0Du6V7Bq4+/gCBwA3nBjT8ADuV3ncFRv0AMenvOF4K/QLtB4gSykz8AnukGeJhRvwAgk75/IVQ/ABE/luK6j7+ANyTqAaiGP6Cl/FzD6JS/AP3afaaUij9AF/Ew5w+QP4C2sXuOZps/AAqc2dwtZz+AEAG++weBvwDtFeY1Y3a/QHir9QeBkz9Q39mo72ykvwBQ5iXPKzQ/gGG035Tngr8AGKRMI/1kP4BtUBfoFX+/AOhA0u2RST9ALTVYRZ6fPwClWEZjxYY/\"},\"shape\":[123],\"dtype\":\"float64\",\"order\":\"little\"}],[\"Ticker\",[\"AMZN\",\"AMZN\",\"AMZN\",\"AMZN\",\"AMZN\",\"AMZN\",\"AMZN\",\"AMZN\",\"AMZN\",\"AMZN\",\"AMZN\",\"AMZN\",\"AMZN\",\"AMZN\",\"AMZN\",\"AMZN\",\"AMZN\",\"AMZN\",\"AMZN\",\"AMZN\",\"AMZN\",\"AMZN\",\"AMZN\",\"AMZN\",\"AMZN\",\"AMZN\",\"AMZN\",\"AMZN\",\"AMZN\",\"AMZN\",\"AMZN\",\"AMZN\",\"AMZN\",\"AMZN\",\"AMZN\",\"AMZN\",\"AMZN\",\"AMZN\",\"AMZN\",\"AMZN\",\"AMZN\",\"AMZN\",\"AMZN\",\"AMZN\",\"AMZN\",\"AMZN\",\"AMZN\",\"AMZN\",\"AMZN\",\"AMZN\",\"AMZN\",\"AMZN\",\"AMZN\",\"AMZN\",\"AMZN\",\"AMZN\",\"AMZN\",\"AMZN\",\"AMZN\",\"AMZN\",\"AMZN\",\"AMZN\",\"AMZN\",\"AMZN\",\"AMZN\",\"AMZN\",\"AMZN\",\"AMZN\",\"AMZN\",\"AMZN\",\"AMZN\",\"AMZN\",\"AMZN\",\"AMZN\",\"AMZN\",\"AMZN\",\"AMZN\",\"AMZN\",\"AMZN\",\"AMZN\",\"AMZN\",\"AMZN\",\"AMZN\",\"AMZN\",\"AMZN\",\"AMZN\",\"AMZN\",\"AMZN\",\"AMZN\",\"AMZN\",\"AMZN\",\"AMZN\",\"AMZN\",\"AMZN\",\"AMZN\",\"AMZN\",\"AMZN\",\"AMZN\",\"AMZN\",\"AMZN\",\"AMZN\",\"AMZN\",\"AMZN\",\"AMZN\",\"AMZN\",\"AMZN\",\"AMZN\",\"AMZN\",\"AMZN\",\"AMZN\",\"AMZN\",\"AMZN\",\"AMZN\",\"AMZN\",\"AMZN\",\"AMZN\",\"AMZN\",\"AMZN\",\"AMZN\",\"AMZN\",\"AMZN\",\"AMZN\",\"AMZN\"]]]}}},\"view\":{\"type\":\"object\",\"name\":\"CDSView\",\"id\":\"p1320\",\"attributes\":{\"filter\":{\"type\":\"object\",\"name\":\"AllIndices\",\"id\":\"p1321\"}}},\"glyph\":{\"type\":\"object\",\"name\":\"Line\",\"id\":\"p1316\",\"attributes\":{\"tags\":[\"apply_ranges\"],\"x\":{\"type\":\"field\",\"field\":\"Date\"},\"y\":{\"type\":\"field\",\"field\":\"value\"},\"line_color\":\"Blue\",\"line_width\":2}},\"selection_glyph\":{\"type\":\"object\",\"name\":\"Line\",\"id\":\"p1324\",\"attributes\":{\"tags\":[\"apply_ranges\"],\"x\":{\"type\":\"field\",\"field\":\"Date\"},\"y\":{\"type\":\"field\",\"field\":\"value\"},\"line_color\":\"Blue\",\"line_width\":2}},\"nonselection_glyph\":{\"type\":\"object\",\"name\":\"Line\",\"id\":\"p1317\",\"attributes\":{\"tags\":[\"apply_ranges\"],\"x\":{\"type\":\"field\",\"field\":\"Date\"},\"y\":{\"type\":\"field\",\"field\":\"value\"},\"line_color\":\"Blue\",\"line_alpha\":0.1,\"line_width\":2}},\"muted_glyph\":{\"type\":\"object\",\"name\":\"Line\",\"id\":\"p1318\",\"attributes\":{\"tags\":[\"apply_ranges\"],\"x\":{\"type\":\"field\",\"field\":\"Date\"},\"y\":{\"type\":\"field\",\"field\":\"value\"},\"line_color\":\"Blue\",\"line_alpha\":0.2,\"line_width\":2}}}},{\"type\":\"object\",\"name\":\"GlyphRenderer\",\"id\":\"p1334\",\"attributes\":{\"name\":\"MSFT\",\"data_source\":{\"type\":\"object\",\"name\":\"ColumnDataSource\",\"id\":\"p1325\",\"attributes\":{\"selected\":{\"type\":\"object\",\"name\":\"Selection\",\"id\":\"p1326\",\"attributes\":{\"indices\":[],\"line_indices\":[]}},\"selection_policy\":{\"type\":\"object\",\"name\":\"UnionRenderers\",\"id\":\"p1327\"},\"data\":{\"type\":\"map\",\"entries\":[[\"Date\",{\"type\":\"ndarray\",\"array\":{\"type\":\"bytes\",\"data\":\"AACAxPZgeEIAAEAqSWF4QgAAgFtAYnhCAABAwZJieEIAAAAn5WJ4QgAAwIw3Y3hCAACA8oljeEIAAMAjgWR4QgAAgInTZHhCAABA7yVleEIAAABVeGV4QgAAwLrKZXhCAADAURRneEIAAIC3Zmd4QgAAQB25Z3hCAAAAgwtoeEIAAEC0Aml4QgAAABpVaXhCAADAf6dpeEIAAIDl+Wl4QgAAQEtManhCAACAfENreEIAAEDilWt4QgAAAEjoa3hCAADArTpseEIAAIATjWx4QgAAwESEbXhCAACAqtZteEIAAEAQKW54QgAAAHZ7bnhCAADA281ueEIAAAANxW94QgAAwHIXcHhCAACA2GlweEIAAEA+vHB4QgAAAKQOcXhCAABA1QVyeEIAAAA7WHJ4QgAAwKCqcnhCAACABv1yeEIAAEBsT3N4QgAAgJ1GdHhCAABAA5l0eEIAAABp63R4QgAAwM49dXhCAADAZYd2eEIAAIDL2XZ4QgAAQDEsd3hCAAAAl353eEIAAMD80Hd4QgAAAC7IeHhCAADAkxp5eEIAAID5bHl4QgAAQF+/eXhCAAAAxRF6eEIAAED2CHt4QgAAAFxbe3hCAADAwa17eEIAAIAnAHx4QgAAQI1SfHhCAACAvkl9eEIAAEAknH14QgAAAIrufXhCAADA70B+eEIAAIBVk354QgAAwIaKf3hCAACA7Nx/eEIAAEBSL4B4QgAAALiBgHhCAADAHdSAeEIAAABPy4F4QgAAwLQdgnhCAACAGnCCeEIAAECAwoJ4QgAAAOYUg3hCAABAFwyEeEIAAAB9XoR4QgAAwOKwhHhCAACASAOFeEIAAECuVYV4QgAAQEWfhnhCAAAAq/GGeEIAAMAQRId4QgAAgHaWh3hCAADAp42IeEIAAIAN4Ih4QgAAQHMyiXhCAAAA2YSJeEIAAMA+14l4QgAAAHDOinhCAADA1SCLeEIAAIA7c4t4QgAAQKHFi3hCAAAABxiMeEIAAACeYY14QgAAwAO0jXhCAACAaQaOeEIAAEDPWI54QgAAgABQj3hCAABAZqKPeEIAAADM9I94QgAAwDFHkHhCAACAl5mQeEIAAMDIkJF4QgAAQJQ1knhCAAAA+oeSeEIAAMBf2pJ4QgAAAJHRk3hCAADA9iOUeEIAAIBcdpR4QgAAQMLIlHhCAAAAKBuVeEIAAEBZEpZ4QgAAAL9klnhCAADAJLeWeEIAAICKCZd4QgAAQPBbl3hCAACAIVOYeEIAAECHpZh4QgAAAO33mHhCAADAUkqZeEIAAIC4nJl4QgAAwOmTmnhC\"},\"shape\":[123],\"dtype\":\"float64\",\"order\":\"little\"}],[\"value\",{\"type\":\"ndarray\",\"array\":{\"type\":\"bytes\",\"data\":\"oB9wJjcBqD/A8Gzn/C+YvwBljPjPDHm/YJVsyemDpT8Am5yEl2lpv8A/NZQO4Ye/AOGjUrUoYL9AJ3++If6fPwCcgWoGqmk/QBzuDQdyhb9gN5rI9EKbv0DkRxLQ84+/4OhBCk1jlb+AfBG2+s1yvwDY1G+ri4o/gAjXSKNOlr8AqBl7+OVuPwBFc4CZO2i/AMbx8mPdib+ANwau+R+UP4Ct5EesC5E/AN17wK1ZeT/A+Bxjsa+FvwBY98N3Al2/AME0crlHdr+Agfnnc0aOv0CrEz6c9JU/AGCasYG0mz+A+jR1JEKSPyDUkyYywaQ/gJJZED/zhz8Aj8WcmGKavwCiyfJKUnc/gEndP7FKdr9APGOJ5zGUP4C+ylfFdoU/wNtmD6iVjr+Akwo/Dwtxv0AwaXH1pJM/AK0OaHLYiT+AssRjeqSOPwCBPP9kZ26/ABCc9AnRJr8AQwQX00CEv8BhUBBGJZo/gN4H0AYLf79gmUynYDaXvwCewQPTHWM/AIDj49zvlj/AvMJk4iSKvwASe/bbCYM/ALzVUftkWL8AEFS0Wy4yP8CVIsMxnYC/AKJMhOoKVL+ABTG5gpiMvyCAHM+0E5e/sH49vBaLsj8gAqHP7GWgPwB69plxU4A/gIMJl4ipdr8AgFjp+xVAvwDbwydYF2u/AIjTGFsuaz+Aoix/rJGRPwCmAfjZXnq/gIclo4rldb8AQlnkJraRPwDThEx32ny/AIVnLF8dbr8AFKC3zvtZPwCFGJaQLX4/AJXqB8qxfT+AoQdfE3uNPwCQ8VKEhEK/ABQB0VFFgj9AGIm42N+Sv4DlaEfBUXK/APxvt7+woz/Asg1nHOaVPwARnXjcq3S/wKBpXulvgb+AFTdqgSGKP4C9GvuFXYE/AKx+i+dgWj+Angd8Lo57v0DFFofVm5+/ALW+u/7Pdz8AMcdebURzPwBtv5QMto8/ANqmo+Idfj8A7Vusga+CP4DuDGTAVKA/wNHjKzj5kL9AgYup8JqJvwDaqMOfM4u/QM9FKkXhkj+AWGqgQ0aMv8CjM4N5n5O/wJlh3KCakj8AsmQYTFdvPwAPE/xyg2O/wJqF8mPHkD8AkU1z2at+vwDgSsQcBj8/AE6jS2/lgj8AK8RX9E2Iv6C8VE8DXpC/ANiKK4yZXz+Aphsn9yKNP0CHdzCulJA/APAX9hLXfj8A+Gt4/EBXP8DIFielYKQ/wLiRtaMfib/A2pb1LK2Xv4A1RqmYTYK/ADC9q5rubz+AWTBW02qRP+BglQA4RaO/QLFMCYVflb8AJE+bvq+XP4CkOVFQqH2/\"},\"shape\":[123],\"dtype\":\"float64\",\"order\":\"little\"}],[\"Ticker\",[\"MSFT\",\"MSFT\",\"MSFT\",\"MSFT\",\"MSFT\",\"MSFT\",\"MSFT\",\"MSFT\",\"MSFT\",\"MSFT\",\"MSFT\",\"MSFT\",\"MSFT\",\"MSFT\",\"MSFT\",\"MSFT\",\"MSFT\",\"MSFT\",\"MSFT\",\"MSFT\",\"MSFT\",\"MSFT\",\"MSFT\",\"MSFT\",\"MSFT\",\"MSFT\",\"MSFT\",\"MSFT\",\"MSFT\",\"MSFT\",\"MSFT\",\"MSFT\",\"MSFT\",\"MSFT\",\"MSFT\",\"MSFT\",\"MSFT\",\"MSFT\",\"MSFT\",\"MSFT\",\"MSFT\",\"MSFT\",\"MSFT\",\"MSFT\",\"MSFT\",\"MSFT\",\"MSFT\",\"MSFT\",\"MSFT\",\"MSFT\",\"MSFT\",\"MSFT\",\"MSFT\",\"MSFT\",\"MSFT\",\"MSFT\",\"MSFT\",\"MSFT\",\"MSFT\",\"MSFT\",\"MSFT\",\"MSFT\",\"MSFT\",\"MSFT\",\"MSFT\",\"MSFT\",\"MSFT\",\"MSFT\",\"MSFT\",\"MSFT\",\"MSFT\",\"MSFT\",\"MSFT\",\"MSFT\",\"MSFT\",\"MSFT\",\"MSFT\",\"MSFT\",\"MSFT\",\"MSFT\",\"MSFT\",\"MSFT\",\"MSFT\",\"MSFT\",\"MSFT\",\"MSFT\",\"MSFT\",\"MSFT\",\"MSFT\",\"MSFT\",\"MSFT\",\"MSFT\",\"MSFT\",\"MSFT\",\"MSFT\",\"MSFT\",\"MSFT\",\"MSFT\",\"MSFT\",\"MSFT\",\"MSFT\",\"MSFT\",\"MSFT\",\"MSFT\",\"MSFT\",\"MSFT\",\"MSFT\",\"MSFT\",\"MSFT\",\"MSFT\",\"MSFT\",\"MSFT\",\"MSFT\",\"MSFT\",\"MSFT\",\"MSFT\",\"MSFT\",\"MSFT\",\"MSFT\",\"MSFT\",\"MSFT\",\"MSFT\",\"MSFT\"]]]}}},\"view\":{\"type\":\"object\",\"name\":\"CDSView\",\"id\":\"p1335\",\"attributes\":{\"filter\":{\"type\":\"object\",\"name\":\"AllIndices\",\"id\":\"p1336\"}}},\"glyph\":{\"type\":\"object\",\"name\":\"Line\",\"id\":\"p1331\",\"attributes\":{\"tags\":[\"apply_ranges\"],\"x\":{\"type\":\"field\",\"field\":\"Date\"},\"y\":{\"type\":\"field\",\"field\":\"value\"},\"line_color\":\"Orange\",\"line_width\":2}},\"selection_glyph\":{\"type\":\"object\",\"name\":\"Line\",\"id\":\"p1338\",\"attributes\":{\"tags\":[\"apply_ranges\"],\"x\":{\"type\":\"field\",\"field\":\"Date\"},\"y\":{\"type\":\"field\",\"field\":\"value\"},\"line_color\":\"Orange\",\"line_width\":2}},\"nonselection_glyph\":{\"type\":\"object\",\"name\":\"Line\",\"id\":\"p1332\",\"attributes\":{\"tags\":[\"apply_ranges\"],\"x\":{\"type\":\"field\",\"field\":\"Date\"},\"y\":{\"type\":\"field\",\"field\":\"value\"},\"line_color\":\"Orange\",\"line_alpha\":0.1,\"line_width\":2}},\"muted_glyph\":{\"type\":\"object\",\"name\":\"Line\",\"id\":\"p1333\",\"attributes\":{\"tags\":[\"apply_ranges\"],\"x\":{\"type\":\"field\",\"field\":\"Date\"},\"y\":{\"type\":\"field\",\"field\":\"value\"},\"line_color\":\"Orange\",\"line_alpha\":0.2,\"line_width\":2}}}},{\"type\":\"object\",\"name\":\"GlyphRenderer\",\"id\":\"p1348\",\"attributes\":{\"name\":\"TSLA\",\"data_source\":{\"type\":\"object\",\"name\":\"ColumnDataSource\",\"id\":\"p1339\",\"attributes\":{\"selected\":{\"type\":\"object\",\"name\":\"Selection\",\"id\":\"p1340\",\"attributes\":{\"indices\":[],\"line_indices\":[]}},\"selection_policy\":{\"type\":\"object\",\"name\":\"UnionRenderers\",\"id\":\"p1341\"},\"data\":{\"type\":\"map\",\"entries\":[[\"Date\",{\"type\":\"ndarray\",\"array\":{\"type\":\"bytes\",\"data\":\"AACAxPZgeEIAAEAqSWF4QgAAgFtAYnhCAABAwZJieEIAAAAn5WJ4QgAAwIw3Y3hCAACA8oljeEIAAMAjgWR4QgAAgInTZHhCAABA7yVleEIAAABVeGV4QgAAwLrKZXhCAADAURRneEIAAIC3Zmd4QgAAQB25Z3hCAAAAgwtoeEIAAEC0Aml4QgAAABpVaXhCAADAf6dpeEIAAIDl+Wl4QgAAQEtManhCAACAfENreEIAAEDilWt4QgAAAEjoa3hCAADArTpseEIAAIATjWx4QgAAwESEbXhCAACAqtZteEIAAEAQKW54QgAAAHZ7bnhCAADA281ueEIAAAANxW94QgAAwHIXcHhCAACA2GlweEIAAEA+vHB4QgAAAKQOcXhCAABA1QVyeEIAAAA7WHJ4QgAAwKCqcnhCAACABv1yeEIAAEBsT3N4QgAAgJ1GdHhCAABAA5l0eEIAAABp63R4QgAAwM49dXhCAADAZYd2eEIAAIDL2XZ4QgAAQDEsd3hCAAAAl353eEIAAMD80Hd4QgAAAC7IeHhCAADAkxp5eEIAAID5bHl4QgAAQF+/eXhCAAAAxRF6eEIAAED2CHt4QgAAAFxbe3hCAADAwa17eEIAAIAnAHx4QgAAQI1SfHhCAACAvkl9eEIAAEAknH14QgAAAIrufXhCAADA70B+eEIAAIBVk354QgAAwIaKf3hCAACA7Nx/eEIAAEBSL4B4QgAAALiBgHhCAADAHdSAeEIAAABPy4F4QgAAwLQdgnhCAACAGnCCeEIAAECAwoJ4QgAAAOYUg3hCAABAFwyEeEIAAAB9XoR4QgAAwOKwhHhCAACASAOFeEIAAECuVYV4QgAAQEWfhnhCAAAAq/GGeEIAAMAQRId4QgAAgHaWh3hCAADAp42IeEIAAIAN4Ih4QgAAQHMyiXhCAAAA2YSJeEIAAMA+14l4QgAAAHDOinhCAADA1SCLeEIAAIA7c4t4QgAAQKHFi3hCAAAABxiMeEIAAACeYY14QgAAwAO0jXhCAACAaQaOeEIAAEDPWI54QgAAgABQj3hCAABAZqKPeEIAAADM9I94QgAAwDFHkHhCAACAl5mQeEIAAMDIkJF4QgAAQJQ1knhCAAAA+oeSeEIAAMBf2pJ4QgAAAJHRk3hCAADA9iOUeEIAAIBcdpR4QgAAQMLIlHhCAAAAKBuVeEIAAEBZEpZ4QgAAAL9klnhCAADAJLeWeEIAAICKCZd4QgAAQPBbl3hCAACAIVOYeEIAAECHpZh4QgAAAO33mHhCAADAUkqZeEIAAIC4nJl4QgAAwOmTmnhC\"},\"shape\":[123],\"dtype\":\"float64\",\"order\":\"little\"}],[\"value\",{\"type\":\"ndarray\",\"array\":{\"type\":\"bytes\",\"data\":\"gG/TTXlcoz8A+aFo85mCPwCLCHmvw5k/ANLhpYmOhT9AILPVM0+XP4Ccj2T9rJ4/4F6A5w/Cqb/AIs0HaGeHv7Avu409N7M/APx8+F1rmD/Q/CJL9Setv4CVJyk8x58/YHVQs5/jqr9AzeMtXhuSPwDzaw+5rHg/gM77ZPNMmr/AP5f6w/SrP4B+Eqw08IK/wJAY/hpFjb8gYd6q2vitv0AtLxmteqI/QI7aLvSalL+w1LhbYB2gv2DkCDw6Jp+/kGW+TDKLqb8AZL6bfqJoPwDVAjOWj3g/IP7PBKvDqT9AXojtHmePv0Chn/wF4pQ/gOrWVsI+lr9AfOTPjLyRP8CQ4o7cBLQ/EF5MC5SpoL8A90ynnO12PwABZZDZSIO/ACkodbYdfj/AD/v5bvmLv0A+15uFYpk/AD9GErqTfT/gDmJROO+vP6COyYV3Ua+/ALPZWRwHh78AEld5HMWivwDZKJLsT2S/AI5oOcFYaL8AgTGwp06JP6Cc9nqsIaG/gAFEtrdmnj+AnAbwe9Rzv4AhoINWlYY/wD5RPWjkjb+gUfIm9KqUv5jRengH87i/gLGX0uBCij9AiFbTL2OPv8DNbzu+r4e/cBDSgDkNpr+gSLvwGnKlP4BOY54zVpo/QOmxq0zpjr/AqhK8aTyDvwCEocIcqV4/AEQLgeAXbj+AiPLVFCSsPwCjvtyE1YQ/wEWLWgx5j78A2DCn44ptv4Bu9vAMgpU/YDiYV+BlmL+ADdqSct+DvwB8jIhVvlA/AGVHvX6Rpj+AWSzmmNiRP8Bobitf0JI/AHgeMA3QqD/gFb4Irc6Qv0D4XQ3Wo4+/gII+/3KUgT8ASmnToiWoPwAK0DZ4LaU/AF77/oMzjD9AT5vMzQaSP8AhBYbJ058/gHuV6oVrkT9Ablr5NGmRP4AqOQYCK44/oBmTWNZ1pz/ASVckI8ykP8CBPf46wJY/wKG7b9gyoj+AiTrc8GV+vwA1WTRzZGy/AOROezeRkj9gzwtt0VWrP0ATTfXu9qu/QFcvRUZTlD9gZZ0PWv+ev2BpUM/7Bq+/wH0LVsp0oz/A7PZCm62YPwCjK0ogJHQ/QBW7XQL7kD/gZY958qaxPwCBT6Hwd4M/4HJws1+Ilb+A08tVokB/v4Bn0XA2/JG/ACgztH7gRT+Asx8xTbOAP8BXMw8PQJY/AJSzK2SliT/gpfe+XWCgP4A/Q7ZZ4IQ/AGLvJzALfb/IyhtRPu24vwBNg7pvb4a/gEOgDezMoT9A/R/rrMWMvwDYK1oMuGy/gPHJGfO7oL8gz6aO/XulPwCiht1McG4/\"},\"shape\":[123],\"dtype\":\"float64\",\"order\":\"little\"}],[\"Ticker\",[\"TSLA\",\"TSLA\",\"TSLA\",\"TSLA\",\"TSLA\",\"TSLA\",\"TSLA\",\"TSLA\",\"TSLA\",\"TSLA\",\"TSLA\",\"TSLA\",\"TSLA\",\"TSLA\",\"TSLA\",\"TSLA\",\"TSLA\",\"TSLA\",\"TSLA\",\"TSLA\",\"TSLA\",\"TSLA\",\"TSLA\",\"TSLA\",\"TSLA\",\"TSLA\",\"TSLA\",\"TSLA\",\"TSLA\",\"TSLA\",\"TSLA\",\"TSLA\",\"TSLA\",\"TSLA\",\"TSLA\",\"TSLA\",\"TSLA\",\"TSLA\",\"TSLA\",\"TSLA\",\"TSLA\",\"TSLA\",\"TSLA\",\"TSLA\",\"TSLA\",\"TSLA\",\"TSLA\",\"TSLA\",\"TSLA\",\"TSLA\",\"TSLA\",\"TSLA\",\"TSLA\",\"TSLA\",\"TSLA\",\"TSLA\",\"TSLA\",\"TSLA\",\"TSLA\",\"TSLA\",\"TSLA\",\"TSLA\",\"TSLA\",\"TSLA\",\"TSLA\",\"TSLA\",\"TSLA\",\"TSLA\",\"TSLA\",\"TSLA\",\"TSLA\",\"TSLA\",\"TSLA\",\"TSLA\",\"TSLA\",\"TSLA\",\"TSLA\",\"TSLA\",\"TSLA\",\"TSLA\",\"TSLA\",\"TSLA\",\"TSLA\",\"TSLA\",\"TSLA\",\"TSLA\",\"TSLA\",\"TSLA\",\"TSLA\",\"TSLA\",\"TSLA\",\"TSLA\",\"TSLA\",\"TSLA\",\"TSLA\",\"TSLA\",\"TSLA\",\"TSLA\",\"TSLA\",\"TSLA\",\"TSLA\",\"TSLA\",\"TSLA\",\"TSLA\",\"TSLA\",\"TSLA\",\"TSLA\",\"TSLA\",\"TSLA\",\"TSLA\",\"TSLA\",\"TSLA\",\"TSLA\",\"TSLA\",\"TSLA\",\"TSLA\",\"TSLA\",\"TSLA\",\"TSLA\",\"TSLA\",\"TSLA\",\"TSLA\",\"TSLA\"]]]}}},\"view\":{\"type\":\"object\",\"name\":\"CDSView\",\"id\":\"p1349\",\"attributes\":{\"filter\":{\"type\":\"object\",\"name\":\"AllIndices\",\"id\":\"p1350\"}}},\"glyph\":{\"type\":\"object\",\"name\":\"Line\",\"id\":\"p1345\",\"attributes\":{\"tags\":[\"apply_ranges\"],\"x\":{\"type\":\"field\",\"field\":\"Date\"},\"y\":{\"type\":\"field\",\"field\":\"value\"},\"line_color\":\"Red\",\"line_width\":2}},\"selection_glyph\":{\"type\":\"object\",\"name\":\"Line\",\"id\":\"p1352\",\"attributes\":{\"tags\":[\"apply_ranges\"],\"x\":{\"type\":\"field\",\"field\":\"Date\"},\"y\":{\"type\":\"field\",\"field\":\"value\"},\"line_color\":\"Red\",\"line_width\":2}},\"nonselection_glyph\":{\"type\":\"object\",\"name\":\"Line\",\"id\":\"p1346\",\"attributes\":{\"tags\":[\"apply_ranges\"],\"x\":{\"type\":\"field\",\"field\":\"Date\"},\"y\":{\"type\":\"field\",\"field\":\"value\"},\"line_color\":\"Red\",\"line_alpha\":0.1,\"line_width\":2}},\"muted_glyph\":{\"type\":\"object\",\"name\":\"Line\",\"id\":\"p1347\",\"attributes\":{\"tags\":[\"apply_ranges\"],\"x\":{\"type\":\"field\",\"field\":\"Date\"},\"y\":{\"type\":\"field\",\"field\":\"value\"},\"line_color\":\"Red\",\"line_alpha\":0.2,\"line_width\":2}}}},{\"type\":\"object\",\"name\":\"GlyphRenderer\",\"id\":\"p1362\",\"attributes\":{\"name\":\"UNH\",\"data_source\":{\"type\":\"object\",\"name\":\"ColumnDataSource\",\"id\":\"p1353\",\"attributes\":{\"selected\":{\"type\":\"object\",\"name\":\"Selection\",\"id\":\"p1354\",\"attributes\":{\"indices\":[],\"line_indices\":[]}},\"selection_policy\":{\"type\":\"object\",\"name\":\"UnionRenderers\",\"id\":\"p1355\"},\"data\":{\"type\":\"map\",\"entries\":[[\"Date\",{\"type\":\"ndarray\",\"array\":{\"type\":\"bytes\",\"data\":\"AACAxPZgeEIAAEAqSWF4QgAAgFtAYnhCAABAwZJieEIAAAAn5WJ4QgAAwIw3Y3hCAACA8oljeEIAAMAjgWR4QgAAgInTZHhCAABA7yVleEIAAABVeGV4QgAAwLrKZXhCAADAURRneEIAAIC3Zmd4QgAAQB25Z3hCAAAAgwtoeEIAAEC0Aml4QgAAABpVaXhCAADAf6dpeEIAAIDl+Wl4QgAAQEtManhCAACAfENreEIAAEDilWt4QgAAAEjoa3hCAADArTpseEIAAIATjWx4QgAAwESEbXhCAACAqtZteEIAAEAQKW54QgAAAHZ7bnhCAADA281ueEIAAAANxW94QgAAwHIXcHhCAACA2GlweEIAAEA+vHB4QgAAAKQOcXhCAABA1QVyeEIAAAA7WHJ4QgAAwKCqcnhCAACABv1yeEIAAEBsT3N4QgAAgJ1GdHhCAABAA5l0eEIAAABp63R4QgAAwM49dXhCAADAZYd2eEIAAIDL2XZ4QgAAQDEsd3hCAAAAl353eEIAAMD80Hd4QgAAAC7IeHhCAADAkxp5eEIAAID5bHl4QgAAQF+/eXhCAAAAxRF6eEIAAED2CHt4QgAAAFxbe3hCAADAwa17eEIAAIAnAHx4QgAAQI1SfHhCAACAvkl9eEIAAEAknH14QgAAAIrufXhCAADA70B+eEIAAIBVk354QgAAwIaKf3hCAACA7Nx/eEIAAEBSL4B4QgAAALiBgHhCAADAHdSAeEIAAABPy4F4QgAAwLQdgnhCAACAGnCCeEIAAECAwoJ4QgAAAOYUg3hCAABAFwyEeEIAAAB9XoR4QgAAwOKwhHhCAACASAOFeEIAAECuVYV4QgAAQEWfhnhCAAAAq/GGeEIAAMAQRId4QgAAgHaWh3hCAADAp42IeEIAAIAN4Ih4QgAAQHMyiXhCAAAA2YSJeEIAAMA+14l4QgAAAHDOinhCAADA1SCLeEIAAIA7c4t4QgAAQKHFi3hCAAAABxiMeEIAAACeYY14QgAAwAO0jXhCAACAaQaOeEIAAEDPWI54QgAAgABQj3hCAABAZqKPeEIAAADM9I94QgAAwDFHkHhCAACAl5mQeEIAAMDIkJF4QgAAQJQ1knhCAAAA+oeSeEIAAMBf2pJ4QgAAAJHRk3hCAADA9iOUeEIAAIBcdpR4QgAAQMLIlHhCAAAAKBuVeEIAAEBZEpZ4QgAAAL9klnhCAADAJLeWeEIAAICKCZd4QgAAQPBbl3hCAACAIVOYeEIAAECHpZh4QgAAAO33mHhCAADAUkqZeEIAAIC4nJl4QgAAwOmTmnhC\"},\"shape\":[123],\"dtype\":\"float64\",\"order\":\"little\"}],[\"value\",{\"type\":\"ndarray\",\"array\":{\"type\":\"bytes\",\"data\":\"8FXNArj1qr8A0Bo0c7RkPwAL7C8e8Xs/AIx5XwlFbD8A3kkIRzqLPwDsdwqkRnU/AHCwVyr2kT8AMDzcaDtiPwBnvupu1nS/APoBAWpDar8Ak09SSUKAv4ADT4KHpZg/QKjtVXTij78Awh6T3yx0vwCddJJ3dXc/QEu/y/Onjr8AzXZ0ThVhv0AXfGWORY+/AG4MDCDJWL8APUnSImB1PwCQO/f5fl0/APiyu0EAcz9A3SuvaWSNvwAQ523OWXy/wD9/iCPDiL/ABztg9CyEvwD6q/Tkzn0/AOQPNh7NXz8AKNNI8PldPwBBSxJe/4w/AGHwnxfedb/A9jobRUWQPwDk4pYn93o/wNSTEoqJg79Ad5OMWCmIvwCqJOqTf4o/gJcyz61tiT9gMyLz5M2Tv4AIF3pn9Ym/AOMdUzF2fj8Ane3nvQt2P2CZvcW4Zqc/ADrR7v4pX78AcFEpY5agPwBaDeC4y3w/AFZn5Bfucj8ADSrnXASHPwDgIkTWrDs/ADVRTfXNgz8gLgD1Whmcv4DrqhJExYm/AECifNM0XL9gDOj2b42ivwAC9f3SOmU/gE+1igKWfr8Awi8hQKyFPwDqxxPh9ng/gKrNJByskr+AOBM6rOOPPwDonBfMDms/ABD4pWkMfj8AHZPNcRZzv4CufEZdZYC/AJH7NpUTcr+ADwcIo2uNPwC0Ri8eg2u/AFeSAP+fcr8AsIBN97ZEvwAvB+/e5WW/ABASxhazdD+AxvXNFTiCvwCy6JflCI6/gJeP4eG6hT8AA0zlYJKHvwAw6jbICEy/AFpLZbPLbj8AZjIb2RxkvwD6zZoYwGc/ACw7Usmper8AAApHjGCAPwCw6iZPaWy/gON3uF+Kjz8AVnp339uKPwCI8cGJr4g/ADfr4/vKZr8AACvwKtSVv8AbPCit2Ya/gO0T+yI0kT8ANDvJB1N8PwD47HL4F2G/ACyTY3hJZb8wPdosIGOwv4BdZ/zS2oo/IAKF2shDkL+AO+R0IViYP4BxePRlDpA/ABEjmq3Ccz+AKk2YLIdxvwA/RAFxsHE/ANkIhN7sfT/AgQkCpTWRvwCU5/USLnE/gIzbX8wNgj+A1HCbSIV3vwCymH7Eioy/gCk9q/AqcL/A24KbPPmQvwBMevnTFmo/AGCjsR2lNr9gj/HCH8GYvwDhJmrD6IG/UFP/GTuJsj8AGfgpQK2AP4DeEtaU1qA/AK7YX3ZPfj8AJFrckpBRPwAmWXMYmnI/AM5SAMBicT8ACVw0Ex5yPwAR0+c0fXe/AI2YBKFVdr8ASCYHB89yvwBHwdUoLnw/\"},\"shape\":[123],\"dtype\":\"float64\",\"order\":\"little\"}],[\"Ticker\",[\"UNH\",\"UNH\",\"UNH\",\"UNH\",\"UNH\",\"UNH\",\"UNH\",\"UNH\",\"UNH\",\"UNH\",\"UNH\",\"UNH\",\"UNH\",\"UNH\",\"UNH\",\"UNH\",\"UNH\",\"UNH\",\"UNH\",\"UNH\",\"UNH\",\"UNH\",\"UNH\",\"UNH\",\"UNH\",\"UNH\",\"UNH\",\"UNH\",\"UNH\",\"UNH\",\"UNH\",\"UNH\",\"UNH\",\"UNH\",\"UNH\",\"UNH\",\"UNH\",\"UNH\",\"UNH\",\"UNH\",\"UNH\",\"UNH\",\"UNH\",\"UNH\",\"UNH\",\"UNH\",\"UNH\",\"UNH\",\"UNH\",\"UNH\",\"UNH\",\"UNH\",\"UNH\",\"UNH\",\"UNH\",\"UNH\",\"UNH\",\"UNH\",\"UNH\",\"UNH\",\"UNH\",\"UNH\",\"UNH\",\"UNH\",\"UNH\",\"UNH\",\"UNH\",\"UNH\",\"UNH\",\"UNH\",\"UNH\",\"UNH\",\"UNH\",\"UNH\",\"UNH\",\"UNH\",\"UNH\",\"UNH\",\"UNH\",\"UNH\",\"UNH\",\"UNH\",\"UNH\",\"UNH\",\"UNH\",\"UNH\",\"UNH\",\"UNH\",\"UNH\",\"UNH\",\"UNH\",\"UNH\",\"UNH\",\"UNH\",\"UNH\",\"UNH\",\"UNH\",\"UNH\",\"UNH\",\"UNH\",\"UNH\",\"UNH\",\"UNH\",\"UNH\",\"UNH\",\"UNH\",\"UNH\",\"UNH\",\"UNH\",\"UNH\",\"UNH\",\"UNH\",\"UNH\",\"UNH\",\"UNH\",\"UNH\",\"UNH\",\"UNH\",\"UNH\",\"UNH\",\"UNH\",\"UNH\",\"UNH\"]]]}}},\"view\":{\"type\":\"object\",\"name\":\"CDSView\",\"id\":\"p1363\",\"attributes\":{\"filter\":{\"type\":\"object\",\"name\":\"AllIndices\",\"id\":\"p1364\"}}},\"glyph\":{\"type\":\"object\",\"name\":\"Line\",\"id\":\"p1359\",\"attributes\":{\"tags\":[\"apply_ranges\"],\"x\":{\"type\":\"field\",\"field\":\"Date\"},\"y\":{\"type\":\"field\",\"field\":\"value\"},\"line_color\":\"Green\",\"line_width\":2}},\"selection_glyph\":{\"type\":\"object\",\"name\":\"Line\",\"id\":\"p1366\",\"attributes\":{\"tags\":[\"apply_ranges\"],\"x\":{\"type\":\"field\",\"field\":\"Date\"},\"y\":{\"type\":\"field\",\"field\":\"value\"},\"line_color\":\"Green\",\"line_width\":2}},\"nonselection_glyph\":{\"type\":\"object\",\"name\":\"Line\",\"id\":\"p1360\",\"attributes\":{\"tags\":[\"apply_ranges\"],\"x\":{\"type\":\"field\",\"field\":\"Date\"},\"y\":{\"type\":\"field\",\"field\":\"value\"},\"line_color\":\"Green\",\"line_alpha\":0.1,\"line_width\":2}},\"muted_glyph\":{\"type\":\"object\",\"name\":\"Line\",\"id\":\"p1361\",\"attributes\":{\"tags\":[\"apply_ranges\"],\"x\":{\"type\":\"field\",\"field\":\"Date\"},\"y\":{\"type\":\"field\",\"field\":\"value\"},\"line_color\":\"Green\",\"line_alpha\":0.2,\"line_width\":2}}}},{\"type\":\"object\",\"name\":\"GlyphRenderer\",\"id\":\"p1376\",\"attributes\":{\"name\":\"James's Portfolio\",\"data_source\":{\"type\":\"object\",\"name\":\"ColumnDataSource\",\"id\":\"p1367\",\"attributes\":{\"selected\":{\"type\":\"object\",\"name\":\"Selection\",\"id\":\"p1368\",\"attributes\":{\"indices\":[],\"line_indices\":[]}},\"selection_policy\":{\"type\":\"object\",\"name\":\"UnionRenderers\",\"id\":\"p1369\"},\"data\":{\"type\":\"map\",\"entries\":[[\"Date\",{\"type\":\"ndarray\",\"array\":{\"type\":\"bytes\",\"data\":\"AACAxPZgeEIAAEAqSWF4QgAAgFtAYnhCAABAwZJieEIAAAAn5WJ4QgAAwIw3Y3hCAACA8oljeEIAAMAjgWR4QgAAgInTZHhCAABA7yVleEIAAABVeGV4QgAAwLrKZXhCAADAURRneEIAAIC3Zmd4QgAAQB25Z3hCAAAAgwtoeEIAAEC0Aml4QgAAABpVaXhCAADAf6dpeEIAAIDl+Wl4QgAAQEtManhCAACAfENreEIAAEDilWt4QgAAAEjoa3hCAADArTpseEIAAIATjWx4QgAAwESEbXhCAACAqtZteEIAAEAQKW54QgAAAHZ7bnhCAADA281ueEIAAAANxW94QgAAwHIXcHhCAACA2GlweEIAAEA+vHB4QgAAAKQOcXhCAABA1QVyeEIAAAA7WHJ4QgAAwKCqcnhCAACABv1yeEIAAEBsT3N4QgAAgJ1GdHhCAABAA5l0eEIAAABp63R4QgAAwM49dXhCAADAZYd2eEIAAIDL2XZ4QgAAQDEsd3hCAAAAl353eEIAAMD80Hd4QgAAAC7IeHhCAADAkxp5eEIAAID5bHl4QgAAQF+/eXhCAAAAxRF6eEIAAED2CHt4QgAAAFxbe3hCAADAwa17eEIAAIAnAHx4QgAAQI1SfHhCAACAvkl9eEIAAEAknH14QgAAAIrufXhCAADA70B+eEIAAIBVk354QgAAwIaKf3hCAACA7Nx/eEIAAEBSL4B4QgAAALiBgHhCAADAHdSAeEIAAABPy4F4QgAAwLQdgnhCAACAGnCCeEIAAECAwoJ4QgAAAOYUg3hCAABAFwyEeEIAAAB9XoR4QgAAwOKwhHhCAACASAOFeEIAAECuVYV4QgAAQEWfhnhCAAAAq/GGeEIAAMAQRId4QgAAgHaWh3hCAADAp42IeEIAAIAN4Ih4QgAAQHMyiXhCAAAA2YSJeEIAAMA+14l4QgAAAHDOinhCAADA1SCLeEIAAIA7c4t4QgAAQKHFi3hCAAAABxiMeEIAAACeYY14QgAAwAO0jXhCAACAaQaOeEIAAEDPWI54QgAAgABQj3hCAABAZqKPeEIAAADM9I94QgAAwDFHkHhCAACAl5mQeEIAAMDIkJF4QgAAQJQ1knhCAAAA+oeSeEIAAMBf2pJ4QgAAAJHRk3hCAADA9iOUeEIAAIBcdpR4QgAAQMLIlHhCAAAAKBuVeEIAAEBZEpZ4QgAAAL9klnhCAADAJLeWeEIAAICKCZd4QgAAQPBbl3hCAACAIVOYeEIAAECHpZh4QgAAAO33mHhCAADAUkqZeEIAAIC4nJl4QgAAwOmTmnhC\"},\"shape\":[123],\"dtype\":\"float64\",\"order\":\"little\"}],[\"value\",{\"type\":\"ndarray\",\"array\":{\"type\":\"bytes\",\"data\":\"iOPyl38Ymz8QvMAtx6iYvwDGLielAW0/UGRrzBFSjD/A5GUvIS1qPwDI1tO+HlY/cJ4rKBIShb+w2P+UjmiFP2BzGmt+IJM/oDn70b5oeT+AtRNzBAufvyCfA7yMiX4/QBGRBXOtnb9gFW1PXnZ1P8B5TV97oHk/IN00Laculr/wbiMMST6OP4D/CoBBAHe/oIQRslPAib8ALktzu3WBv5B4e9aoqJU/oJ9vzCLtdb9Q4hbqBfqNv5D/TWMDAIK/WFzaX8bPlb/QmfZZXYKDv2CSGPL/XYs/cIqtcUwXmz9gtsNZO61yPwDeu8YDcZ0/oJh52uLker8AUUuZa9dUvwC4EduJwp4/EGumUswGkb9AkKxnY+ZrPwCYuHbjpGA/AChKLw4MUD8QZ3cZOjSHvyBAIvKi348/oEmXPWTnhj/QGrLDvWmYP0CElqLNW3y/ABTdmzojPD8w2f7diEiFvzC2hRu1Q4Q/gJLBgCjfU7+At07Q1Zl1vxDL3bkOboq/4LEtbtHEmz8QzeTEqIOGvwCD9YJEcmQ/ICp0LH2edr8Qg9CyDLyCv0g7pDu6kJu/YJICztymgT+gQAJb3lV6v9DpJB/+4o+/0DAW1JW6gT8APmBA+VqhPwCJh/F/7Ea/8LCP1hZQh78ATF1WXsUuP0A/N3bg8GK/AODbp09kWD+Q9nQZ+DmaPwBGglxvQ0A/gA+nMw45cr+gB7vJRdSHPyBAzTXyDH4/EIiqIbtBhL+AJtigV2JhvwBdshhIqms/kJq8atmYlD/AROeowCWGPwCcyMtFiyw/ADq46QLYiT9QIh1+2y+DvwA0hubYIDy/4EfSJuwnej9gR3X+ffiePyAzDTHebIc/wJOG5sQfaD+gE9b1TY+PP3AHhLueTJA/4K3qD4LfeD8AtIxIEjojv8CHgOGX3ZG/YGZ0h4rllz9wwr8JDF6HPyCKNMWJQo8/oLzwwTD/hD+4PCwavW+Qv1Dza+6REIg/QI7uEMe4e79YAQwnBiWRP+CICjCcmo6/QCnAb1DylT9gpuSc8vuLv3gXPmTNRZe/8LbMagr4kz/AYPfYi41kPwDS1GlGPkG/wBg4sag9jz8gsg/x/PqLPwDYUf3LWUa/wJ6Ng9X9f79gysVnXpx5vyDA+U4RAIq/gG8CAbcwbz/AaTo003NsP4CSJAN1o4w/ICWktcdkmD/Ax7i9tgOBP8Dc+9Z00ZM/gLtzox4JXT9IhL6LX2SkvwC97bCdzm6/4Fd5gEg+gT9AwJcuTF5kPzCOHGYc44u/IFi6ByLQjb9gF8JTj2SXP8Ae/r9ipG0/\"},\"shape\":[123],\"dtype\":\"float64\",\"order\":\"little\"}],[\"Ticker\",[\"James's Portfolio\",\"James's Portfolio\",\"James's Portfolio\",\"James's Portfolio\",\"James's Portfolio\",\"James's Portfolio\",\"James's Portfolio\",\"James's Portfolio\",\"James's Portfolio\",\"James's Portfolio\",\"James's Portfolio\",\"James's Portfolio\",\"James's Portfolio\",\"James's Portfolio\",\"James's Portfolio\",\"James's Portfolio\",\"James's Portfolio\",\"James's Portfolio\",\"James's Portfolio\",\"James's Portfolio\",\"James's Portfolio\",\"James's Portfolio\",\"James's Portfolio\",\"James's Portfolio\",\"James's Portfolio\",\"James's Portfolio\",\"James's Portfolio\",\"James's Portfolio\",\"James's Portfolio\",\"James's Portfolio\",\"James's Portfolio\",\"James's Portfolio\",\"James's Portfolio\",\"James's Portfolio\",\"James's Portfolio\",\"James's Portfolio\",\"James's Portfolio\",\"James's Portfolio\",\"James's Portfolio\",\"James's Portfolio\",\"James's Portfolio\",\"James's Portfolio\",\"James's Portfolio\",\"James's Portfolio\",\"James's Portfolio\",\"James's Portfolio\",\"James's Portfolio\",\"James's Portfolio\",\"James's Portfolio\",\"James's Portfolio\",\"James's Portfolio\",\"James's Portfolio\",\"James's Portfolio\",\"James's Portfolio\",\"James's Portfolio\",\"James's Portfolio\",\"James's Portfolio\",\"James's Portfolio\",\"James's Portfolio\",\"James's Portfolio\",\"James's Portfolio\",\"James's Portfolio\",\"James's Portfolio\",\"James's Portfolio\",\"James's Portfolio\",\"James's Portfolio\",\"James's Portfolio\",\"James's Portfolio\",\"James's Portfolio\",\"James's Portfolio\",\"James's Portfolio\",\"James's Portfolio\",\"James's Portfolio\",\"James's Portfolio\",\"James's Portfolio\",\"James's Portfolio\",\"James's Portfolio\",\"James's Portfolio\",\"James's Portfolio\",\"James's Portfolio\",\"James's Portfolio\",\"James's Portfolio\",\"James's Portfolio\",\"James's Portfolio\",\"James's Portfolio\",\"James's Portfolio\",\"James's Portfolio\",\"James's Portfolio\",\"James's Portfolio\",\"James's Portfolio\",\"James's Portfolio\",\"James's Portfolio\",\"James's Portfolio\",\"James's Portfolio\",\"James's Portfolio\",\"James's Portfolio\",\"James's Portfolio\",\"James's Portfolio\",\"James's Portfolio\",\"James's Portfolio\",\"James's Portfolio\",\"James's Portfolio\",\"James's Portfolio\",\"James's Portfolio\",\"James's Portfolio\",\"James's Portfolio\",\"James's Portfolio\",\"James's Portfolio\",\"James's Portfolio\",\"James's Portfolio\",\"James's Portfolio\",\"James's Portfolio\",\"James's Portfolio\",\"James's Portfolio\",\"James's Portfolio\",\"James's Portfolio\",\"James's Portfolio\",\"James's Portfolio\",\"James's Portfolio\",\"James's Portfolio\",\"James's Portfolio\",\"James's Portfolio\",\"James's Portfolio\"]]]}}},\"view\":{\"type\":\"object\",\"name\":\"CDSView\",\"id\":\"p1377\",\"attributes\":{\"filter\":{\"type\":\"object\",\"name\":\"AllIndices\",\"id\":\"p1378\"}}},\"glyph\":{\"type\":\"object\",\"name\":\"Line\",\"id\":\"p1373\",\"attributes\":{\"tags\":[\"apply_ranges\"],\"x\":{\"type\":\"field\",\"field\":\"Date\"},\"y\":{\"type\":\"field\",\"field\":\"value\"},\"line_color\":\"Purple\",\"line_width\":2}},\"selection_glyph\":{\"type\":\"object\",\"name\":\"Line\",\"id\":\"p1380\",\"attributes\":{\"tags\":[\"apply_ranges\"],\"x\":{\"type\":\"field\",\"field\":\"Date\"},\"y\":{\"type\":\"field\",\"field\":\"value\"},\"line_color\":\"Purple\",\"line_width\":2}},\"nonselection_glyph\":{\"type\":\"object\",\"name\":\"Line\",\"id\":\"p1374\",\"attributes\":{\"tags\":[\"apply_ranges\"],\"x\":{\"type\":\"field\",\"field\":\"Date\"},\"y\":{\"type\":\"field\",\"field\":\"value\"},\"line_color\":\"Purple\",\"line_alpha\":0.1,\"line_width\":2}},\"muted_glyph\":{\"type\":\"object\",\"name\":\"Line\",\"id\":\"p1375\",\"attributes\":{\"tags\":[\"apply_ranges\"],\"x\":{\"type\":\"field\",\"field\":\"Date\"},\"y\":{\"type\":\"field\",\"field\":\"value\"},\"line_color\":\"Purple\",\"line_alpha\":0.2,\"line_width\":2}}}}],\"toolbar\":{\"type\":\"object\",\"name\":\"Toolbar\",\"id\":\"p1280\",\"attributes\":{\"tools\":[{\"type\":\"object\",\"name\":\"WheelZoomTool\",\"id\":\"p1257\",\"attributes\":{\"tags\":[\"hv_created\"],\"zoom_together\":\"none\"}},{\"type\":\"object\",\"name\":\"HoverTool\",\"id\":\"p1258\",\"attributes\":{\"tags\":[\"hv_created\"],\"renderers\":[{\"id\":\"p1319\"},{\"id\":\"p1334\"},{\"id\":\"p1348\"},{\"id\":\"p1362\"},{\"id\":\"p1376\"}],\"tooltips\":[[\"Ticker\",\"@{Ticker}\"],[\"Date\",\"@{Date}{%F %T}\"],[\"value\",\"@{value}\"]],\"formatters\":{\"type\":\"map\",\"entries\":[[\"@{Date}\",\"datetime\"]]}}},{\"type\":\"object\",\"name\":\"SaveTool\",\"id\":\"p1305\"},{\"type\":\"object\",\"name\":\"PanTool\",\"id\":\"p1306\"},{\"type\":\"object\",\"name\":\"BoxZoomTool\",\"id\":\"p1307\",\"attributes\":{\"overlay\":{\"type\":\"object\",\"name\":\"BoxAnnotation\",\"id\":\"p1308\",\"attributes\":{\"syncable\":false,\"level\":\"overlay\",\"visible\":false,\"left_units\":\"canvas\",\"right_units\":\"canvas\",\"bottom_units\":\"canvas\",\"top_units\":\"canvas\",\"line_color\":\"black\",\"line_alpha\":1.0,\"line_width\":2,\"line_dash\":[4,4],\"fill_color\":\"lightgrey\",\"fill_alpha\":0.5}}}},{\"type\":\"object\",\"name\":\"ResetTool\",\"id\":\"p1309\"}],\"active_drag\":{\"id\":\"p1306\"},\"active_scroll\":{\"id\":\"p1257\"}}},\"left\":[{\"type\":\"object\",\"name\":\"LinearAxis\",\"id\":\"p1300\",\"attributes\":{\"ticker\":{\"type\":\"object\",\"name\":\"BasicTicker\",\"id\":\"p1301\",\"attributes\":{\"mantissas\":[1,2,5]}},\"formatter\":{\"type\":\"object\",\"name\":\"BasicTickFormatter\",\"id\":\"p1302\"},\"axis_label\":\"\",\"major_label_policy\":{\"type\":\"object\",\"name\":\"AllLabels\",\"id\":\"p1303\"}}}],\"below\":[{\"type\":\"object\",\"name\":\"DatetimeAxis\",\"id\":\"p1283\",\"attributes\":{\"ticker\":{\"type\":\"object\",\"name\":\"DatetimeTicker\",\"id\":\"p1284\",\"attributes\":{\"num_minor_ticks\":5,\"tickers\":[{\"type\":\"object\",\"name\":\"AdaptiveTicker\",\"id\":\"p1285\",\"attributes\":{\"num_minor_ticks\":0,\"mantissas\":[1,2,5],\"max_interval\":500.0}},{\"type\":\"object\",\"name\":\"AdaptiveTicker\",\"id\":\"p1286\",\"attributes\":{\"num_minor_ticks\":0,\"base\":60,\"mantissas\":[1,2,5,10,15,20,30],\"min_interval\":1000.0,\"max_interval\":1800000.0}},{\"type\":\"object\",\"name\":\"AdaptiveTicker\",\"id\":\"p1287\",\"attributes\":{\"num_minor_ticks\":0,\"base\":24,\"mantissas\":[1,2,4,6,8,12],\"min_interval\":3600000.0,\"max_interval\":43200000.0}},{\"type\":\"object\",\"name\":\"DaysTicker\",\"id\":\"p1288\",\"attributes\":{\"days\":[1,2,3,4,5,6,7,8,9,10,11,12,13,14,15,16,17,18,19,20,21,22,23,24,25,26,27,28,29,30,31]}},{\"type\":\"object\",\"name\":\"DaysTicker\",\"id\":\"p1289\",\"attributes\":{\"days\":[1,4,7,10,13,16,19,22,25,28]}},{\"type\":\"object\",\"name\":\"DaysTicker\",\"id\":\"p1290\",\"attributes\":{\"days\":[1,8,15,22]}},{\"type\":\"object\",\"name\":\"DaysTicker\",\"id\":\"p1291\",\"attributes\":{\"days\":[1,15]}},{\"type\":\"object\",\"name\":\"MonthsTicker\",\"id\":\"p1292\",\"attributes\":{\"months\":[0,1,2,3,4,5,6,7,8,9,10,11]}},{\"type\":\"object\",\"name\":\"MonthsTicker\",\"id\":\"p1293\",\"attributes\":{\"months\":[0,2,4,6,8,10]}},{\"type\":\"object\",\"name\":\"MonthsTicker\",\"id\":\"p1294\",\"attributes\":{\"months\":[0,4,8]}},{\"type\":\"object\",\"name\":\"MonthsTicker\",\"id\":\"p1295\",\"attributes\":{\"months\":[0,6]}},{\"type\":\"object\",\"name\":\"YearsTicker\",\"id\":\"p1296\"}]}},\"formatter\":{\"type\":\"object\",\"name\":\"DatetimeTickFormatter\",\"id\":\"p1297\"},\"axis_label\":\"Date\",\"major_label_policy\":{\"type\":\"object\",\"name\":\"AllLabels\",\"id\":\"p1298\"}}}],\"center\":[{\"type\":\"object\",\"name\":\"Grid\",\"id\":\"p1299\",\"attributes\":{\"axis\":{\"id\":\"p1283\"},\"grid_line_color\":null}},{\"type\":\"object\",\"name\":\"Grid\",\"id\":\"p1304\",\"attributes\":{\"dimension\":1,\"axis\":{\"id\":\"p1300\"},\"grid_line_color\":null}},{\"type\":\"object\",\"name\":\"Legend\",\"id\":\"p1322\",\"attributes\":{\"location\":\"top_left\",\"title\":\"Ticker\",\"click_policy\":\"mute\",\"items\":[{\"type\":\"object\",\"name\":\"LegendItem\",\"id\":\"p1323\",\"attributes\":{\"label\":{\"type\":\"value\",\"value\":\"AMZN\"},\"renderers\":[{\"id\":\"p1319\"}]}},{\"type\":\"object\",\"name\":\"LegendItem\",\"id\":\"p1337\",\"attributes\":{\"label\":{\"type\":\"value\",\"value\":\"MSFT\"},\"renderers\":[{\"id\":\"p1334\"}]}},{\"type\":\"object\",\"name\":\"LegendItem\",\"id\":\"p1351\",\"attributes\":{\"label\":{\"type\":\"value\",\"value\":\"TSLA\"},\"renderers\":[{\"id\":\"p1348\"}]}},{\"type\":\"object\",\"name\":\"LegendItem\",\"id\":\"p1365\",\"attributes\":{\"label\":{\"type\":\"value\",\"value\":\"UNH\"},\"renderers\":[{\"id\":\"p1362\"}]}},{\"type\":\"object\",\"name\":\"LegendItem\",\"id\":\"p1379\",\"attributes\":{\"label\":{\"type\":\"value\",\"value\":\"James's Portfolio\"},\"renderers\":[{\"id\":\"p1376\"}]}}]}}],\"min_border_top\":10,\"min_border_bottom\":10,\"min_border_left\":10,\"min_border_right\":10,\"output_backend\":\"webgl\"}}]}}}}]}},{\"type\":\"object\",\"name\":\"panel.models.comm_manager.CommManager\",\"id\":\"p1385\",\"attributes\":{\"plot_id\":\"p1002\",\"comm_id\":\"f4763cbcb52942a493f10ea96b313d8c\",\"client_comm_id\":\"fdc64bfa14f0417fb990215a96b01c42\"}},{\"type\":\"object\",\"name\":\"panel.models.location.Location\",\"id\":\"p1386\",\"attributes\":{\"reload\":false}}],\"defs\":[{\"type\":\"model\",\"name\":\"ReactiveHTML1\"},{\"type\":\"model\",\"name\":\"FlexBox1\",\"properties\":[{\"name\":\"align_content\",\"kind\":\"Any\",\"default\":\"flex-start\"},{\"name\":\"align_items\",\"kind\":\"Any\",\"default\":\"flex-start\"},{\"name\":\"flex_direction\",\"kind\":\"Any\",\"default\":\"row\"},{\"name\":\"flex_wrap\",\"kind\":\"Any\",\"default\":\"wrap\"},{\"name\":\"justify_content\",\"kind\":\"Any\",\"default\":\"flex-start\"}]},{\"type\":\"model\",\"name\":\"FloatPanel1\",\"properties\":[{\"name\":\"config\",\"kind\":\"Any\",\"default\":{\"type\":\"map\"}},{\"name\":\"contained\",\"kind\":\"Any\",\"default\":true},{\"name\":\"position\",\"kind\":\"Any\",\"default\":\"right-top\"},{\"name\":\"offsetx\",\"kind\":\"Any\",\"default\":null},{\"name\":\"offsety\",\"kind\":\"Any\",\"default\":null},{\"name\":\"theme\",\"kind\":\"Any\",\"default\":\"primary\"},{\"name\":\"status\",\"kind\":\"Any\",\"default\":\"normalized\"}]},{\"type\":\"model\",\"name\":\"GridStack1\",\"properties\":[{\"name\":\"mode\",\"kind\":\"Any\",\"default\":\"warn\"},{\"name\":\"ncols\",\"kind\":\"Any\",\"default\":null},{\"name\":\"nrows\",\"kind\":\"Any\",\"default\":null},{\"name\":\"allow_resize\",\"kind\":\"Any\",\"default\":true},{\"name\":\"allow_drag\",\"kind\":\"Any\",\"default\":true},{\"name\":\"state\",\"kind\":\"Any\",\"default\":[]}]},{\"type\":\"model\",\"name\":\"drag1\",\"properties\":[{\"name\":\"slider_width\",\"kind\":\"Any\",\"default\":5},{\"name\":\"slider_color\",\"kind\":\"Any\",\"default\":\"black\"},{\"name\":\"value\",\"kind\":\"Any\",\"default\":50}]},{\"type\":\"model\",\"name\":\"click1\",\"properties\":[{\"name\":\"terminal_output\",\"kind\":\"Any\",\"default\":\"\"},{\"name\":\"debug_name\",\"kind\":\"Any\",\"default\":\"\"},{\"name\":\"clears\",\"kind\":\"Any\",\"default\":0}]},{\"type\":\"model\",\"name\":\"FastWrapper1\",\"properties\":[{\"name\":\"object\",\"kind\":\"Any\",\"default\":null},{\"name\":\"style\",\"kind\":\"Any\",\"default\":null}]},{\"type\":\"model\",\"name\":\"NotificationAreaBase1\",\"properties\":[{\"name\":\"js_events\",\"kind\":\"Any\",\"default\":{\"type\":\"map\"}},{\"name\":\"position\",\"kind\":\"Any\",\"default\":\"bottom-right\"},{\"name\":\"_clear\",\"kind\":\"Any\",\"default\":0}]},{\"type\":\"model\",\"name\":\"NotificationArea1\",\"properties\":[{\"name\":\"js_events\",\"kind\":\"Any\",\"default\":{\"type\":\"map\"}},{\"name\":\"notifications\",\"kind\":\"Any\",\"default\":[]},{\"name\":\"position\",\"kind\":\"Any\",\"default\":\"bottom-right\"},{\"name\":\"_clear\",\"kind\":\"Any\",\"default\":0},{\"name\":\"types\",\"kind\":\"Any\",\"default\":[{\"type\":\"map\",\"entries\":[[\"type\",\"warning\"],[\"background\",\"#ffc107\"],[\"icon\",{\"type\":\"map\",\"entries\":[[\"className\",\"fas fa-exclamation-triangle\"],[\"tagName\",\"i\"],[\"color\",\"white\"]]}]]},{\"type\":\"map\",\"entries\":[[\"type\",\"info\"],[\"background\",\"#007bff\"],[\"icon\",{\"type\":\"map\",\"entries\":[[\"className\",\"fas fa-info-circle\"],[\"tagName\",\"i\"],[\"color\",\"white\"]]}]]}]}]},{\"type\":\"model\",\"name\":\"Notification\",\"properties\":[{\"name\":\"background\",\"kind\":\"Any\",\"default\":null},{\"name\":\"duration\",\"kind\":\"Any\",\"default\":3000},{\"name\":\"icon\",\"kind\":\"Any\",\"default\":null},{\"name\":\"message\",\"kind\":\"Any\",\"default\":\"\"},{\"name\":\"notification_type\",\"kind\":\"Any\",\"default\":null},{\"name\":\"_destroyed\",\"kind\":\"Any\",\"default\":false}]},{\"type\":\"model\",\"name\":\"TemplateActions1\",\"properties\":[{\"name\":\"open_modal\",\"kind\":\"Any\",\"default\":0},{\"name\":\"close_modal\",\"kind\":\"Any\",\"default\":0}]},{\"type\":\"model\",\"name\":\"BootstrapTemplateActions1\",\"properties\":[{\"name\":\"open_modal\",\"kind\":\"Any\",\"default\":0},{\"name\":\"close_modal\",\"kind\":\"Any\",\"default\":0}]},{\"type\":\"model\",\"name\":\"MaterialTemplateActions1\",\"properties\":[{\"name\":\"open_modal\",\"kind\":\"Any\",\"default\":0},{\"name\":\"close_modal\",\"kind\":\"Any\",\"default\":0}]}]}};\n",
       "  var render_items = [{\"docid\":\"1f3eb67a-89ec-4e5e-870d-c7b6d1cb1b0b\",\"roots\":{\"p1002\":\"c86fde0d-f2a2-41cc-b2a6-0e2f99cf3382\"},\"root_ids\":[\"p1002\"]}];\n",
       "  var docs = Object.values(docs_json)\n",
       "  if (!docs) {\n",
       "    return\n",
       "  }\n",
       "  const py_version = docs[0].version.replace('rc', '-rc.').replace('.dev', '-dev.')\n",
       "  const is_dev = py_version.indexOf(\"+\") !== -1 || py_version.indexOf(\"-\") !== -1\n",
       "  function embed_document(root) {\n",
       "    var Bokeh = get_bokeh(root)\n",
       "    Bokeh.embed.embed_items_notebook(docs_json, render_items);\n",
       "    for (const render_item of render_items) {\n",
       "      for (const root_id of render_item.root_ids) {\n",
       "\tconst id_el = document.getElementById(root_id)\n",
       "\tif (id_el.children.length && (id_el.children[0].className === 'bk-root')) {\n",
       "\t  const root_el = id_el.children[0]\n",
       "\t  root_el.id = root_el.id + '-rendered'\n",
       "\t}\n",
       "      }\n",
       "    }\n",
       "  }\n",
       "  function get_bokeh(root) {\n",
       "    if (root.Bokeh === undefined) {\n",
       "      return null\n",
       "    } else if (root.Bokeh.version !== py_version && !is_dev) {\n",
       "      if (root.Bokeh.versions === undefined || !root.Bokeh.versions.has(py_version)) {\n",
       "\treturn null\n",
       "      }\n",
       "      return root.Bokeh.versions.get(py_version);\n",
       "    } else if (root.Bokeh.version === py_version) {\n",
       "      return root.Bokeh\n",
       "    }\n",
       "    return null\n",
       "  }\n",
       "  function is_loaded(root) {\n",
       "    var Bokeh = get_bokeh(root)\n",
       "    return (Bokeh != null && Bokeh.Panel !== undefined)\n",
       "  }\n",
       "  if (is_loaded(root)) {\n",
       "    embed_document(root);\n",
       "  } else {\n",
       "    var attempts = 0;\n",
       "    var timer = setInterval(function(root) {\n",
       "      if (is_loaded(root)) {\n",
       "        clearInterval(timer);\n",
       "        embed_document(root);\n",
       "      } else if (document.readyState == \"complete\") {\n",
       "        attempts++;\n",
       "        if (attempts > 200) {\n",
       "          clearInterval(timer);\n",
       "\t  var Bokeh = get_bokeh(root)\n",
       "\t  if (Bokeh == null || Bokeh.Panel == null) {\n",
       "            console.warn(\"Panel: ERROR: Unable to run Panel code because Bokeh or Panel library is missing\");\n",
       "\t  } else {\n",
       "\t    console.warn(\"Panel: WARNING: Attempting to render but not all required libraries could be resolved.\")\n",
       "\t    embed_document(root)\n",
       "\t  }\n",
       "        }\n",
       "      }\n",
       "    }, 25, root)\n",
       "  }\n",
       "})(window);</script>"
      ],
      "text/plain": [
       "Tabs\n",
       "    [0] Column\n",
       "        [0] Markdown(str)\n",
       "        [1] Markdown(str)\n",
       "        [2] Markdown(str)\n",
       "        [3] Markdown(str)\n",
       "        [4] Markdown(str)\n",
       "        [5] Markdown(str)\n",
       "        [6] HoloViews(NdOverlay, height=300, sizing_mode='fixed', width=750)\n",
       "    [1] Column\n",
       "        [0] Markdown(str)\n",
       "        [1] HoloViews(Bars, height=300, sizing_mode='fixed', width=700)\n",
       "        [2] Markdown(str)\n",
       "    [2] Column\n",
       "        [0] Markdown(str)\n",
       "        [1] Matplotlib(Figure)\n",
       "        [2] Markdown(str)\n",
       "    [3] Column\n",
       "        [0] Markdown(str)\n",
       "        [1] Matplotlib(Figure)\n",
       "        [2] Markdown(str)\n",
       "        [3] HoloViews(NdOverlay, height=500, sizing_mode='fixed', width=750)"
      ]
     },
     "execution_count": 37,
     "metadata": {
      "application/vnd.holoviews_exec.v0+json": {
       "id": "p1002"
      }
     },
     "output_type": "execute_result"
    }
   ],
   "source": [
    "# Execute Panel dashboard using servable function\n",
    "game_of_stock_dashboard.servable()"
   ]
  },
  {
   "cell_type": "code",
   "execution_count": null,
   "id": "f30a165b-3135-4bf4-8d83-a951bfb61948",
   "metadata": {},
   "outputs": [],
   "source": []
  },
  {
   "cell_type": "code",
   "execution_count": null,
   "id": "11f5c436-8114-4e3c-ad05-da10cba924ec",
   "metadata": {},
   "outputs": [],
   "source": []
  },
  {
   "cell_type": "code",
   "execution_count": null,
   "id": "1381f4ba-0818-4b40-9914-01546e2f8494",
   "metadata": {},
   "outputs": [],
   "source": []
  }
 ],
 "metadata": {
  "kernelspec": {
   "display_name": "Python 3 (ipykernel)",
   "language": "python",
   "name": "python3"
  },
  "language_info": {
   "codemirror_mode": {
    "name": "ipython",
    "version": 3
   },
   "file_extension": ".py",
   "mimetype": "text/x-python",
   "name": "python",
   "nbconvert_exporter": "python",
   "pygments_lexer": "ipython3",
   "version": "3.9.7"
  },
  "widgets": {
   "application/vnd.jupyter.widget-state+json": {
    "state": {
     "0030ae8691b44fd5a7e1f37ed37528fe": {
      "model_module": "@jupyter-widgets/base",
      "model_module_version": "2.0.0",
      "model_name": "LayoutModel",
      "state": {}
     },
     "00599ad676b2472cb6f09df690d9be92": {
      "model_module": "@jupyter-widgets/base",
      "model_module_version": "2.0.0",
      "model_name": "LayoutModel",
      "state": {}
     },
     "00a7b5f66930447f93de0192b5d9817c": {
      "model_module": "@jupyter-widgets/base",
      "model_module_version": "2.0.0",
      "model_name": "LayoutModel",
      "state": {}
     },
     "01a9d6818c0241c6b1495aebc3589127": {
      "model_module": "@jupyter-widgets/base",
      "model_module_version": "2.0.0",
      "model_name": "LayoutModel",
      "state": {}
     },
     "0237ab08cf6f4849b1518589bb4299e1": {
      "model_module": "@jupyter-widgets/controls",
      "model_module_version": "2.0.0",
      "model_name": "TextareaModel",
      "state": {
       "description": "First Name:",
       "layout": "IPY_MODEL_f2ebeca1c9ec47219b6c318c83c3c95d",
       "placeholder": "Type something",
       "style": "IPY_MODEL_e6cc44ed9f804f5e8e613dc4255758ef",
       "value": "Peter Pan"
      }
     },
     "03244dc6939f4f019507c76db905a5f1": {
      "model_module": "@jupyter-widgets/controls",
      "model_module_version": "2.0.0",
      "model_name": "ButtonStyleModel",
      "state": {
       "font_family": null,
       "font_size": null,
       "font_style": null,
       "font_variant": null,
       "font_weight": null,
       "text_color": null,
       "text_decoration": null
      }
     },
     "0449af62d7bb409cb4378db03d691019": {
      "model_module": "@jupyter-widgets/controls",
      "model_module_version": "2.0.0",
      "model_name": "TextareaModel",
      "state": {
       "description": "First Name:",
       "layout": "IPY_MODEL_1adb857042134a3eac9e9864f76a6347",
       "placeholder": "Type something",
       "style": "IPY_MODEL_2214b487b5264a1aaa3cfd6b8b62f3d1",
       "value": "Harod Hat"
      }
     },
     "05f47291ef794032a1af977945b1ba2c": {
      "model_module": "@jupyter-widgets/controls",
      "model_module_version": "2.0.0",
      "model_name": "DropdownModel",
      "state": {
       "_options_labels": [
        "1",
        "2",
        "3",
        "4",
        "5",
        "6",
        "7",
        "8",
        "9",
        "10",
        "Choose Stock Amount:"
       ],
       "description": "Amount",
       "index": 3,
       "layout": "IPY_MODEL_4984e6ee98a548b7947c3306ede8cb8f",
       "style": "IPY_MODEL_e54db56f595f4879a1712c27e11e54a2"
      }
     },
     "0602bf3d11704e7c8f22465e1f483d74": {
      "model_module": "@jupyter-widgets/controls",
      "model_module_version": "2.0.0",
      "model_name": "ButtonStyleModel",
      "state": {
       "font_family": null,
       "font_size": null,
       "font_style": null,
       "font_variant": null,
       "font_weight": null,
       "text_color": null,
       "text_decoration": null
      }
     },
     "08617de425724bc0bbbb7eabbbe6b4ca": {
      "model_module": "@jupyter-widgets/controls",
      "model_module_version": "2.0.0",
      "model_name": "ButtonModel",
      "state": {
       "description": "Submit",
       "layout": "IPY_MODEL_0a1cfa5c1eaf4d55ab0160d8e1458e78",
       "style": "IPY_MODEL_5827f1761ec64086a4eea717d6dec3d1",
       "tooltip": null
      }
     },
     "0a1cfa5c1eaf4d55ab0160d8e1458e78": {
      "model_module": "@jupyter-widgets/base",
      "model_module_version": "2.0.0",
      "model_name": "LayoutModel",
      "state": {}
     },
     "0f6a73ca25d34cc389ade01f4848bca0": {
      "model_module": "@jupyter-widgets/base",
      "model_module_version": "2.0.0",
      "model_name": "LayoutModel",
      "state": {}
     },
     "104e8ba5145c45f9858db23cc26c7721": {
      "model_module": "@jupyter-widgets/base",
      "model_module_version": "2.0.0",
      "model_name": "LayoutModel",
      "state": {}
     },
     "10996e9d8b5147b3b438cd6410f61990": {
      "model_module": "@jupyter-widgets/base",
      "model_module_version": "2.0.0",
      "model_name": "LayoutModel",
      "state": {}
     },
     "11cd0e6ff69c438a8ae65a4bede36b3d": {
      "model_module": "@jupyter-widgets/controls",
      "model_module_version": "2.0.0",
      "model_name": "DescriptionStyleModel",
      "state": {
       "description_width": ""
      }
     },
     "13e0e3666f8045cabfb19686dc6b04b4": {
      "model_module": "@jupyter-widgets/controls",
      "model_module_version": "2.0.0",
      "model_name": "DescriptionStyleModel",
      "state": {
       "description_width": ""
      }
     },
     "1540b2b2a7ae4a5c8201bfb2aa7dd81e": {
      "model_module": "@jupyter-widgets/base",
      "model_module_version": "2.0.0",
      "model_name": "LayoutModel",
      "state": {}
     },
     "19d429d15b574867bbfa8aa1525f5cd2": {
      "model_module": "@jupyter-widgets/controls",
      "model_module_version": "2.0.0",
      "model_name": "TextareaModel",
      "state": {
       "description": "First Name:",
       "layout": "IPY_MODEL_00a7b5f66930447f93de0192b5d9817c",
       "placeholder": "Type something",
       "style": "IPY_MODEL_57afe08e358e4bfd8b0c219863336c38",
       "value": "Peter Pan"
      }
     },
     "19dd974ae46048bb8e17b31321d22a88": {
      "model_module": "@jupyter-widgets/controls",
      "model_module_version": "2.0.0",
      "model_name": "ButtonStyleModel",
      "state": {
       "font_family": null,
       "font_size": null,
       "font_style": null,
       "font_variant": null,
       "font_weight": null,
       "text_color": null,
       "text_decoration": null
      }
     },
     "1adb857042134a3eac9e9864f76a6347": {
      "model_module": "@jupyter-widgets/base",
      "model_module_version": "2.0.0",
      "model_name": "LayoutModel",
      "state": {}
     },
     "1b9c82ade18947c1a91f3c88fccbfce0": {
      "model_module": "@jupyter-widgets/controls",
      "model_module_version": "2.0.0",
      "model_name": "DropdownModel",
      "state": {
       "_options_labels": [
        "",
        "Apple (AAPL) - Computer Manufacturing",
        "Microsoft (MSFT) - Computer Software: Prepackaged Software",
        "Amazon (AMZN) - Catalog/Specialty Distribution",
        "Nvidia (NVDA) - Semiconductors",
        "Alphabet (GOOGL) - Computer Software: Programming, Data Processing",
        "Meta (META) - Computer Software: Programming, Data Processing",
        "Tesla (TSLA) - Auto Manufacturing",
        "Berkshire Hathaway (BRK.B) - Conglomerate",
        "Unitedhealth Group (UNH) - Medical Specialities",
        "Jpmorgan Chase & Co (JPM) - Major Banks",
        "Johnson & Johnson (JNJ) - Biotechnology: Pharmaceutical Preparations",
        "Exxon Mobil (XOM) - Integrated oil Companies",
        "Visa (V) - Business Services",
        "Broadcom (AVGO) - Semiconductors"
       ],
       "description": "Stock 4:",
       "index": 10,
       "layout": "IPY_MODEL_87f091798d8b44e0b5548ad8d25c2b78",
       "style": "IPY_MODEL_810807313d964ea49bc5aa9985c1d284"
      }
     },
     "1ba76e901a8f421e8053cf1d4309c150": {
      "model_module": "@jupyter-widgets/controls",
      "model_module_version": "2.0.0",
      "model_name": "DropdownModel",
      "state": {
       "_options_labels": [
        "1",
        "2",
        "3",
        "4",
        "5",
        "6",
        "7",
        "8",
        "9",
        "10",
        "Choose Stock Amount:"
       ],
       "description": "Amount",
       "index": 3,
       "layout": "IPY_MODEL_c6d586ce93ae49669b9332c24fbce7e5",
       "style": "IPY_MODEL_49f1bee779024264ba95575f7365b0e7"
      }
     },
     "2214b487b5264a1aaa3cfd6b8b62f3d1": {
      "model_module": "@jupyter-widgets/controls",
      "model_module_version": "2.0.0",
      "model_name": "TextStyleModel",
      "state": {
       "description_width": "",
       "font_size": null,
       "text_color": null
      }
     },
     "229e8a2d4bdb4252b3f53544bd31df92": {
      "model_module": "@jupyter-widgets/base",
      "model_module_version": "2.0.0",
      "model_name": "LayoutModel",
      "state": {}
     },
     "28ed8613ef534eafa1172b267b050a28": {
      "model_module": "@jupyter-widgets/controls",
      "model_module_version": "2.0.0",
      "model_name": "DescriptionStyleModel",
      "state": {
       "description_width": ""
      }
     },
     "2b54a7bde11143f48beb6b4c0c3fc5aa": {
      "model_module": "@jupyter-widgets/controls",
      "model_module_version": "2.0.0",
      "model_name": "DescriptionStyleModel",
      "state": {
       "description_width": ""
      }
     },
     "2c6b09ab9adb49589882829fa0ba588e": {
      "model_module": "@jupyter-widgets/controls",
      "model_module_version": "2.0.0",
      "model_name": "ButtonStyleModel",
      "state": {
       "font_family": null,
       "font_size": null,
       "font_style": null,
       "font_variant": null,
       "font_weight": null,
       "text_color": null,
       "text_decoration": null
      }
     },
     "2d83ffc9dd6a41db810d3040b65deef2": {
      "model_module": "@jupyter-widgets/base",
      "model_module_version": "2.0.0",
      "model_name": "LayoutModel",
      "state": {}
     },
     "2da8f4613b3e4aefb9613c2696cc21ba": {
      "model_module": "@jupyter-widgets/base",
      "model_module_version": "2.0.0",
      "model_name": "LayoutModel",
      "state": {}
     },
     "2e0fb376e8df4f468284798c3a91863e": {
      "model_module": "@jupyter-widgets/controls",
      "model_module_version": "2.0.0",
      "model_name": "ButtonModel",
      "state": {
       "description": "Submit",
       "layout": "IPY_MODEL_cebc95a1c89c4f7d8774735f12a3240b",
       "style": "IPY_MODEL_936c298162864a7e9fb63c386188f63d",
       "tooltip": null
      }
     },
     "30df32b5aec849f7b78fbead4fc049f6": {
      "model_module": "@jupyter-widgets/controls",
      "model_module_version": "2.0.0",
      "model_name": "DropdownModel",
      "state": {
       "_options_labels": [
        "",
        "Apple (AAPL) - Computer Manufacturing",
        "Microsoft (MSFT) - Computer Software: Prepackaged Software",
        "Amazon (AMZN) - Catalog/Specialty Distribution",
        "Nvidia (NVDA) - Semiconductors",
        "Alphabet (GOOGL) - Computer Software: Programming, Data Processing",
        "Meta (META) - Computer Software: Programming, Data Processing",
        "Tesla (TSLA) - Auto Manufacturing",
        "Berkshire Hathaway (BRK.B) - Conglomerate",
        "Unitedhealth Group (UNH) - Medical Specialities",
        "Jpmorgan Chase & Co (JPM) - Major Banks",
        "Johnson & Johnson (JNJ) - Biotechnology: Pharmaceutical Preparations",
        "Exxon Mobil (XOM) - Integrated oil Companies",
        "Visa (V) - Business Services",
        "Broadcom (AVGO) - Semiconductors"
       ],
       "description": "Stock 1:",
       "index": 1,
       "layout": "IPY_MODEL_602b4625ff194079957bbd74169ca18d",
       "style": "IPY_MODEL_4c147b7eb06e464a8506e8a3a6baf06f"
      }
     },
     "3345044b5dee4b45bcaede35adc88fb3": {
      "model_module": "@jupyter-widgets/controls",
      "model_module_version": "2.0.0",
      "model_name": "TextareaModel",
      "state": {
       "description": "First Name:",
       "layout": "IPY_MODEL_0f6a73ca25d34cc389ade01f4848bca0",
       "placeholder": "Type something",
       "style": "IPY_MODEL_9fe93b0801684627a61f7a7a809a1e2f",
       "value": "Input your name"
      }
     },
     "342851c046d148cdb6a0580651ef0ced": {
      "model_module": "@jupyter-widgets/controls",
      "model_module_version": "2.0.0",
      "model_name": "ButtonModel",
      "state": {
       "description": "Submit",
       "layout": "IPY_MODEL_9c71e730ad32449d84eb5eb82b2db6ac",
       "style": "IPY_MODEL_799be53f09e0481e8e07380da725287b",
       "tooltip": null
      }
     },
     "35b6afcfc608475a9c44b902bdb06450": {
      "model_module": "@jupyter-widgets/controls",
      "model_module_version": "2.0.0",
      "model_name": "DescriptionStyleModel",
      "state": {
       "description_width": ""
      }
     },
     "374653e12179470bbc8884d3632ac1f6": {
      "model_module": "@jupyter-widgets/controls",
      "model_module_version": "2.0.0",
      "model_name": "ButtonModel",
      "state": {
       "description": "Submit",
       "layout": "IPY_MODEL_7935221bd2574522b6bdd2010779a064",
       "style": "IPY_MODEL_6f820005f150419f9fb95612c6bcded6",
       "tooltip": null
      }
     },
     "3d49ecc3c9b14636a8726c194d182165": {
      "model_module": "@jupyter-widgets/controls",
      "model_module_version": "2.0.0",
      "model_name": "DescriptionStyleModel",
      "state": {
       "description_width": ""
      }
     },
     "3ef8a5540a60480fb59fc006d2cd803b": {
      "model_module": "@jupyter-widgets/base",
      "model_module_version": "2.0.0",
      "model_name": "LayoutModel",
      "state": {}
     },
     "3f5250bfd99f49578909e4d2e98147eb": {
      "model_module": "@jupyter-widgets/controls",
      "model_module_version": "2.0.0",
      "model_name": "DescriptionStyleModel",
      "state": {
       "description_width": ""
      }
     },
     "410bfff3593248b4a20dd6d24f179612": {
      "model_module": "@jupyter-widgets/base",
      "model_module_version": "2.0.0",
      "model_name": "LayoutModel",
      "state": {}
     },
     "4355ac2028d04aa8a6022655bd267b14": {
      "model_module": "@jupyter-widgets/base",
      "model_module_version": "2.0.0",
      "model_name": "LayoutModel",
      "state": {}
     },
     "444e3fa55048450c850d0cc4b06a6f03": {
      "model_module": "@jupyter-widgets/base",
      "model_module_version": "2.0.0",
      "model_name": "LayoutModel",
      "state": {}
     },
     "447b5eb4410f4e88bcc5b12619c2ce5d": {
      "model_module": "@jupyter-widgets/controls",
      "model_module_version": "2.0.0",
      "model_name": "DropdownModel",
      "state": {
       "_options_labels": [
        "",
        "Apple (AAPL) - Computer Manufacturing",
        "Microsoft (MSFT) - Computer Software: Prepackaged Software",
        "Amazon (AMZN) - Catalog/Specialty Distribution",
        "Nvidia (NVDA) - Semiconductors",
        "Alphabet (GOOGL) - Computer Software: Programming, Data Processing",
        "Meta (META) - Computer Software: Programming, Data Processing",
        "Tesla (TSLA) - Auto Manufacturing",
        "Berkshire Hathaway (BRK.B) - Conglomerate",
        "Unitedhealth Group (UNH) - Medical Specialities",
        "Jpmorgan Chase & Co (JPM) - Major Banks",
        "Johnson & Johnson (JNJ) - Biotechnology: Pharmaceutical Preparations",
        "Exxon Mobil (XOM) - Integrated oil Companies",
        "Visa (V) - Business Services",
        "Broadcom (AVGO) - Semiconductors"
       ],
       "description": "Stock 1:",
       "index": 0,
       "layout": "IPY_MODEL_64a5719a838f4a8d92f79658939acf39",
       "style": "IPY_MODEL_5bf4dd84838d460c90a2f368d2742b0b"
      }
     },
     "47ce4edba9a74b66b2ac028902af1d07": {
      "model_module": "@jupyter-widgets/controls",
      "model_module_version": "2.0.0",
      "model_name": "TextStyleModel",
      "state": {
       "description_width": "",
       "font_size": null,
       "text_color": null
      }
     },
     "48fb17b818a046d89ea35c123f21cbe3": {
      "model_module": "@jupyter-widgets/controls",
      "model_module_version": "2.0.0",
      "model_name": "ButtonStyleModel",
      "state": {
       "font_family": null,
       "font_size": null,
       "font_style": null,
       "font_variant": null,
       "font_weight": null,
       "text_color": null,
       "text_decoration": null
      }
     },
     "4984e6ee98a548b7947c3306ede8cb8f": {
      "model_module": "@jupyter-widgets/base",
      "model_module_version": "2.0.0",
      "model_name": "LayoutModel",
      "state": {}
     },
     "49f1bee779024264ba95575f7365b0e7": {
      "model_module": "@jupyter-widgets/controls",
      "model_module_version": "2.0.0",
      "model_name": "DescriptionStyleModel",
      "state": {
       "description_width": ""
      }
     },
     "4afc927d07594dd9a7d5c27a2c60a3ec": {
      "model_module": "@jupyter-widgets/controls",
      "model_module_version": "2.0.0",
      "model_name": "TextareaModel",
      "state": {
       "description": "First Name:",
       "layout": "IPY_MODEL_af5311fc887c4e6ea0499dd6f0d2ed88",
       "placeholder": "Type something",
       "style": "IPY_MODEL_a16a9239f7154cea91106e0eeb324a8c",
       "value": "Bob Hope"
      }
     },
     "4c147b7eb06e464a8506e8a3a6baf06f": {
      "model_module": "@jupyter-widgets/controls",
      "model_module_version": "2.0.0",
      "model_name": "DescriptionStyleModel",
      "state": {
       "description_width": ""
      }
     },
     "509aafe0b5f04ea79563343dc91efee2": {
      "model_module": "@jupyter-widgets/controls",
      "model_module_version": "2.0.0",
      "model_name": "ButtonModel",
      "state": {
       "description": "Submit",
       "layout": "IPY_MODEL_00599ad676b2472cb6f09df690d9be92",
       "style": "IPY_MODEL_48fb17b818a046d89ea35c123f21cbe3",
       "tooltip": null
      }
     },
     "512940fcfeba46c291554cd385eb722e": {
      "model_module": "@jupyter-widgets/controls",
      "model_module_version": "2.0.0",
      "model_name": "DescriptionStyleModel",
      "state": {
       "description_width": ""
      }
     },
     "553f1fd607774ff1811b3f1c8ae7a786": {
      "model_module": "@jupyter-widgets/controls",
      "model_module_version": "2.0.0",
      "model_name": "ButtonStyleModel",
      "state": {
       "font_family": null,
       "font_size": null,
       "font_style": null,
       "font_variant": null,
       "font_weight": null,
       "text_color": null,
       "text_decoration": null
      }
     },
     "57afe08e358e4bfd8b0c219863336c38": {
      "model_module": "@jupyter-widgets/controls",
      "model_module_version": "2.0.0",
      "model_name": "TextStyleModel",
      "state": {
       "description_width": "",
       "font_size": null,
       "text_color": null
      }
     },
     "5827f1761ec64086a4eea717d6dec3d1": {
      "model_module": "@jupyter-widgets/controls",
      "model_module_version": "2.0.0",
      "model_name": "ButtonStyleModel",
      "state": {
       "font_family": null,
       "font_size": null,
       "font_style": null,
       "font_variant": null,
       "font_weight": null,
       "text_color": null,
       "text_decoration": null
      }
     },
     "58fee64fec094b6c8cdc5bd26adba3d6": {
      "model_module": "@jupyter-widgets/controls",
      "model_module_version": "2.0.0",
      "model_name": "DescriptionStyleModel",
      "state": {
       "description_width": ""
      }
     },
     "59e3fe07af2540f4b6d668f1537b97a7": {
      "model_module": "@jupyter-widgets/controls",
      "model_module_version": "2.0.0",
      "model_name": "DescriptionStyleModel",
      "state": {
       "description_width": ""
      }
     },
     "5bf4dd84838d460c90a2f368d2742b0b": {
      "model_module": "@jupyter-widgets/controls",
      "model_module_version": "2.0.0",
      "model_name": "DescriptionStyleModel",
      "state": {
       "description_width": ""
      }
     },
     "6017ae4d61b641c380bdd7fa48a9cc58": {
      "model_module": "@jupyter-widgets/controls",
      "model_module_version": "2.0.0",
      "model_name": "DescriptionStyleModel",
      "state": {
       "description_width": ""
      }
     },
     "602b4625ff194079957bbd74169ca18d": {
      "model_module": "@jupyter-widgets/base",
      "model_module_version": "2.0.0",
      "model_name": "LayoutModel",
      "state": {}
     },
     "640310f2c8894c939f66153c69a5c1e1": {
      "model_module": "@jupyter-widgets/controls",
      "model_module_version": "2.0.0",
      "model_name": "ButtonModel",
      "state": {
       "description": "Submit",
       "layout": "IPY_MODEL_444e3fa55048450c850d0cc4b06a6f03",
       "style": "IPY_MODEL_bdc24670d24b4f549c57ebd5e78344af",
       "tooltip": null
      }
     },
     "64a5719a838f4a8d92f79658939acf39": {
      "model_module": "@jupyter-widgets/base",
      "model_module_version": "2.0.0",
      "model_name": "LayoutModel",
      "state": {}
     },
     "64dc24b16ae64ca49946d690810d5e8d": {
      "model_module": "@jupyter-widgets/controls",
      "model_module_version": "2.0.0",
      "model_name": "ButtonModel",
      "state": {
       "description": "Submit",
       "layout": "IPY_MODEL_410bfff3593248b4a20dd6d24f179612",
       "style": "IPY_MODEL_f647c79775a345159149b22d7a552c4e",
       "tooltip": null
      }
     },
     "651c21e653414da3a84564b4df979d50": {
      "model_module": "@jupyter-widgets/controls",
      "model_module_version": "2.0.0",
      "model_name": "DropdownModel",
      "state": {
       "_options_labels": [
        "",
        "Apple (AAPL) - Computer Manufacturing",
        "Microsoft (MSFT) - Computer Software: Prepackaged Software",
        "Amazon (AMZN) - Catalog/Specialty Distribution",
        "Nvidia (NVDA) - Semiconductors",
        "Alphabet (GOOGL) - Computer Software: Programming, Data Processing",
        "Meta (META) - Computer Software: Programming, Data Processing",
        "Tesla (TSLA) - Auto Manufacturing",
        "Berkshire Hathaway (BRK.B) - Conglomerate",
        "Unitedhealth Group (UNH) - Medical Specialities",
        "Jpmorgan Chase & Co (JPM) - Major Banks",
        "Johnson & Johnson (JNJ) - Biotechnology: Pharmaceutical Preparations",
        "Exxon Mobil (XOM) - Integrated oil Companies",
        "Visa (V) - Business Services",
        "Broadcom (AVGO) - Semiconductors"
       ],
       "description": "Stock 4:",
       "index": 1,
       "layout": "IPY_MODEL_c3079d3f3290417f9d2515dcee7f151b",
       "style": "IPY_MODEL_68c196bc0c384dd7a58037b249a53849"
      }
     },
     "65701e24a92f4d5a8ac87c91f10abea0": {
      "model_module": "@jupyter-widgets/controls",
      "model_module_version": "2.0.0",
      "model_name": "TextareaModel",
      "state": {
       "description": "First Name:",
       "layout": "IPY_MODEL_2da8f4613b3e4aefb9613c2696cc21ba",
       "placeholder": "Type something",
       "style": "IPY_MODEL_47ce4edba9a74b66b2ac028902af1d07",
       "value": "Input your name"
      }
     },
     "66cdfc6890e641f88e48b2e8344a3125": {
      "model_module": "@jupyter-widgets/controls",
      "model_module_version": "2.0.0",
      "model_name": "ButtonModel",
      "state": {
       "description": "Submit",
       "layout": "IPY_MODEL_812d2e6420354bcdbf6272badf75532f",
       "style": "IPY_MODEL_19dd974ae46048bb8e17b31321d22a88",
       "tooltip": null
      }
     },
     "68c196bc0c384dd7a58037b249a53849": {
      "model_module": "@jupyter-widgets/controls",
      "model_module_version": "2.0.0",
      "model_name": "DescriptionStyleModel",
      "state": {
       "description_width": ""
      }
     },
     "68c5d4e6d77a48b099f17de172a7fe19": {
      "model_module": "@jupyter-widgets/controls",
      "model_module_version": "2.0.0",
      "model_name": "DropdownModel",
      "state": {
       "_options_labels": [
        "",
        "Apple (AAPL) - Computer Manufacturing",
        "Microsoft (MSFT) - Computer Software: Prepackaged Software",
        "Amazon (AMZN) - Catalog/Specialty Distribution",
        "Nvidia (NVDA) - Semiconductors",
        "Alphabet (GOOGL) - Computer Software: Programming, Data Processing",
        "Meta (META) - Computer Software: Programming, Data Processing",
        "Tesla (TSLA) - Auto Manufacturing",
        "Berkshire Hathaway (BRK.B) - Conglomerate",
        "Unitedhealth Group (UNH) - Medical Specialities",
        "Jpmorgan Chase & Co (JPM) - Major Banks",
        "Johnson & Johnson (JNJ) - Biotechnology: Pharmaceutical Preparations",
        "Exxon Mobil (XOM) - Integrated oil Companies",
        "Visa (V) - Business Services",
        "Broadcom (AVGO) - Semiconductors"
       ],
       "description": "Stock 1:",
       "index": 0,
       "layout": "IPY_MODEL_87b1d095b60943639d76d93a34ddb690",
       "style": "IPY_MODEL_2b54a7bde11143f48beb6b4c0c3fc5aa"
      }
     },
     "6c7b1533981f432e988049f9b9353412": {
      "model_module": "@jupyter-widgets/base",
      "model_module_version": "2.0.0",
      "model_name": "LayoutModel",
      "state": {}
     },
     "6e1235f213614e22a75744b774342250": {
      "model_module": "@jupyter-widgets/controls",
      "model_module_version": "2.0.0",
      "model_name": "DropdownModel",
      "state": {
       "_options_labels": [
        "1",
        "2",
        "3",
        "4",
        "5",
        "6",
        "7",
        "8",
        "9",
        "10",
        "Choose Stock Amount:"
       ],
       "description": "Amount",
       "index": 10,
       "layout": "IPY_MODEL_3ef8a5540a60480fb59fc006d2cd803b",
       "style": "IPY_MODEL_b535a1f690e14eae8ebb844eab05b617"
      }
     },
     "6f7c05d402d74c4cb1003852fe9a3f66": {
      "model_module": "@jupyter-widgets/controls",
      "model_module_version": "2.0.0",
      "model_name": "DropdownModel",
      "state": {
       "_options_labels": [
        "",
        "Apple (AAPL) - Computer Manufacturing",
        "Microsoft (MSFT) - Computer Software: Prepackaged Software",
        "Amazon (AMZN) - Catalog/Specialty Distribution",
        "Nvidia (NVDA) - Semiconductors",
        "Alphabet (GOOGL) - Computer Software: Programming, Data Processing",
        "Meta (META) - Computer Software: Programming, Data Processing",
        "Tesla (TSLA) - Auto Manufacturing",
        "Berkshire Hathaway (BRK.B) - Conglomerate",
        "Unitedhealth Group (UNH) - Medical Specialities",
        "Jpmorgan Chase & Co (JPM) - Major Banks",
        "Johnson & Johnson (JNJ) - Biotechnology: Pharmaceutical Preparations",
        "Exxon Mobil (XOM) - Integrated oil Companies",
        "Visa (V) - Business Services",
        "Broadcom (AVGO) - Semiconductors"
       ],
       "description": "Stock 3:",
       "index": 6,
       "layout": "IPY_MODEL_ca2f86f9cf3e4087ae28932f829c3f9f",
       "style": "IPY_MODEL_9974ab58a075446ca12f443f06c242b6"
      }
     },
     "6f820005f150419f9fb95612c6bcded6": {
      "model_module": "@jupyter-widgets/controls",
      "model_module_version": "2.0.0",
      "model_name": "ButtonStyleModel",
      "state": {
       "font_family": null,
       "font_size": null,
       "font_style": null,
       "font_variant": null,
       "font_weight": null,
       "text_color": null,
       "text_decoration": null
      }
     },
     "70731da9e4594879be331fa767cbe029": {
      "model_module": "@jupyter-widgets/controls",
      "model_module_version": "2.0.0",
      "model_name": "DescriptionStyleModel",
      "state": {
       "description_width": ""
      }
     },
     "71bb717c6b5f407abd685d52fa4077c3": {
      "model_module": "@jupyter-widgets/controls",
      "model_module_version": "2.0.0",
      "model_name": "ButtonModel",
      "state": {
       "description": "Submit",
       "layout": "IPY_MODEL_acc1199ab5d34a0eb0c218eb187ee86f",
       "style": "IPY_MODEL_0602bf3d11704e7c8f22465e1f483d74",
       "tooltip": null
      }
     },
     "733a9b7d8f124bc3a9cf1ce72ca319d6": {
      "model_module": "@jupyter-widgets/controls",
      "model_module_version": "2.0.0",
      "model_name": "ButtonStyleModel",
      "state": {
       "font_family": null,
       "font_size": null,
       "font_style": null,
       "font_variant": null,
       "font_weight": null,
       "text_color": null,
       "text_decoration": null
      }
     },
     "7436db2a7fbf408fb87a91d0b2668168": {
      "model_module": "@jupyter-widgets/controls",
      "model_module_version": "2.0.0",
      "model_name": "DescriptionStyleModel",
      "state": {
       "description_width": ""
      }
     },
     "75ffa7e7b5954b38bb640a062f1ecf43": {
      "model_module": "@jupyter-widgets/controls",
      "model_module_version": "2.0.0",
      "model_name": "DropdownModel",
      "state": {
       "_options_labels": [
        "1",
        "2",
        "3",
        "4",
        "5",
        "6",
        "7",
        "8",
        "9",
        "10",
        "Choose Stock Amount:"
       ],
       "description": "Amount",
       "index": 0,
       "layout": "IPY_MODEL_faad11b411b546d1a4eb2dadbe98934b",
       "style": "IPY_MODEL_35b6afcfc608475a9c44b902bdb06450"
      }
     },
     "7935221bd2574522b6bdd2010779a064": {
      "model_module": "@jupyter-widgets/base",
      "model_module_version": "2.0.0",
      "model_name": "LayoutModel",
      "state": {}
     },
     "799be53f09e0481e8e07380da725287b": {
      "model_module": "@jupyter-widgets/controls",
      "model_module_version": "2.0.0",
      "model_name": "ButtonStyleModel",
      "state": {
       "font_family": null,
       "font_size": null,
       "font_style": null,
       "font_variant": null,
       "font_weight": null,
       "text_color": null,
       "text_decoration": null
      }
     },
     "7dc4384bb4ee427fa1d1b618e4dbb3d3": {
      "model_module": "@jupyter-widgets/controls",
      "model_module_version": "2.0.0",
      "model_name": "DropdownModel",
      "state": {
       "_options_labels": [
        "",
        "Apple (AAPL) - Computer Manufacturing",
        "Microsoft (MSFT) - Computer Software: Prepackaged Software",
        "Amazon (AMZN) - Catalog/Specialty Distribution",
        "Nvidia (NVDA) - Semiconductors",
        "Alphabet (GOOGL) - Computer Software: Programming, Data Processing",
        "Meta (META) - Computer Software: Programming, Data Processing",
        "Tesla (TSLA) - Auto Manufacturing",
        "Berkshire Hathaway (BRK.B) - Conglomerate",
        "Unitedhealth Group (UNH) - Medical Specialities",
        "Jpmorgan Chase & Co (JPM) - Major Banks",
        "Johnson & Johnson (JNJ) - Biotechnology: Pharmaceutical Preparations",
        "Exxon Mobil (XOM) - Integrated oil Companies",
        "Visa (V) - Business Services",
        "Broadcom (AVGO) - Semiconductors"
       ],
       "description": "Stock 1:",
       "index": 1,
       "layout": "IPY_MODEL_912d7e14bc57415aa05ad31adb73d7d9",
       "style": "IPY_MODEL_28ed8613ef534eafa1172b267b050a28"
      }
     },
     "7fbda698662d4f53b034301e3bf117f1": {
      "model_module": "@jupyter-widgets/controls",
      "model_module_version": "2.0.0",
      "model_name": "DropdownModel",
      "state": {
       "_options_labels": [
        "",
        "Apple (AAPL) - Computer Manufacturing",
        "Microsoft (MSFT) - Computer Software: Prepackaged Software",
        "Amazon (AMZN) - Catalog/Specialty Distribution",
        "Nvidia (NVDA) - Semiconductors",
        "Alphabet (GOOGL) - Computer Software: Programming, Data Processing",
        "Meta (META) - Computer Software: Programming, Data Processing",
        "Tesla (TSLA) - Auto Manufacturing",
        "Berkshire Hathaway (BRK.B) - Conglomerate",
        "Unitedhealth Group (UNH) - Medical Specialities",
        "Jpmorgan Chase & Co (JPM) - Major Banks",
        "Johnson & Johnson (JNJ) - Biotechnology: Pharmaceutical Preparations",
        "Exxon Mobil (XOM) - Integrated oil Companies",
        "Visa (V) - Business Services",
        "Broadcom (AVGO) - Semiconductors"
       ],
       "description": "Stock 3:",
       "index": 0,
       "layout": "IPY_MODEL_01a9d6818c0241c6b1495aebc3589127",
       "style": "IPY_MODEL_3f5250bfd99f49578909e4d2e98147eb"
      }
     },
     "810807313d964ea49bc5aa9985c1d284": {
      "model_module": "@jupyter-widgets/controls",
      "model_module_version": "2.0.0",
      "model_name": "DescriptionStyleModel",
      "state": {
       "description_width": ""
      }
     },
     "812d2e6420354bcdbf6272badf75532f": {
      "model_module": "@jupyter-widgets/base",
      "model_module_version": "2.0.0",
      "model_name": "LayoutModel",
      "state": {}
     },
     "8199ce88aeec4d1488df4e86f151b7e6": {
      "model_module": "@jupyter-widgets/base",
      "model_module_version": "2.0.0",
      "model_name": "LayoutModel",
      "state": {}
     },
     "8612c881c8bf4c9b872918d2617c6bd9": {
      "model_module": "@jupyter-widgets/controls",
      "model_module_version": "2.0.0",
      "model_name": "DescriptionStyleModel",
      "state": {
       "description_width": ""
      }
     },
     "862523753a504aaca28166718da00888": {
      "model_module": "@jupyter-widgets/base",
      "model_module_version": "2.0.0",
      "model_name": "LayoutModel",
      "state": {}
     },
     "87b1d095b60943639d76d93a34ddb690": {
      "model_module": "@jupyter-widgets/base",
      "model_module_version": "2.0.0",
      "model_name": "LayoutModel",
      "state": {}
     },
     "87f091798d8b44e0b5548ad8d25c2b78": {
      "model_module": "@jupyter-widgets/base",
      "model_module_version": "2.0.0",
      "model_name": "LayoutModel",
      "state": {}
     },
     "8b1ebafeed7a4ea5be63fc3dcc117ce2": {
      "model_module": "@jupyter-widgets/controls",
      "model_module_version": "2.0.0",
      "model_name": "DropdownModel",
      "state": {
       "_options_labels": [
        "",
        "Apple (AAPL) - Computer Manufacturing",
        "Microsoft (MSFT) - Computer Software: Prepackaged Software",
        "Amazon (AMZN) - Catalog/Specialty Distribution",
        "Nvidia (NVDA) - Semiconductors",
        "Alphabet (GOOGL) - Computer Software: Programming, Data Processing",
        "Meta (META) - Computer Software: Programming, Data Processing",
        "Tesla (TSLA) - Auto Manufacturing",
        "Berkshire Hathaway (BRK.B) - Conglomerate",
        "Unitedhealth Group (UNH) - Medical Specialities",
        "Jpmorgan Chase & Co (JPM) - Major Banks",
        "Johnson & Johnson (JNJ) - Biotechnology: Pharmaceutical Preparations",
        "Exxon Mobil (XOM) - Integrated oil Companies",
        "Visa (V) - Business Services",
        "Broadcom (AVGO) - Semiconductors"
       ],
       "description": "Stock 2:",
       "index": 0,
       "layout": "IPY_MODEL_aca98555e2764c3283a6f33861164b59",
       "style": "IPY_MODEL_58fee64fec094b6c8cdc5bd26adba3d6"
      }
     },
     "8c67eee24bfb4660a0e7cedd939635ac": {
      "model_module": "@jupyter-widgets/controls",
      "model_module_version": "2.0.0",
      "model_name": "DropdownModel",
      "state": {
       "_options_labels": [
        "",
        "Apple (AAPL) - Computer Manufacturing",
        "Microsoft (MSFT) - Computer Software: Prepackaged Software",
        "Amazon (AMZN) - Catalog/Specialty Distribution",
        "Nvidia (NVDA) - Semiconductors",
        "Alphabet (GOOGL) - Computer Software: Programming, Data Processing",
        "Meta (META) - Computer Software: Programming, Data Processing",
        "Tesla (TSLA) - Auto Manufacturing",
        "Berkshire Hathaway (BRK.B) - Conglomerate",
        "Unitedhealth Group (UNH) - Medical Specialities",
        "Jpmorgan Chase & Co (JPM) - Major Banks",
        "Johnson & Johnson (JNJ) - Biotechnology: Pharmaceutical Preparations",
        "Exxon Mobil (XOM) - Integrated oil Companies",
        "Visa (V) - Business Services",
        "Broadcom (AVGO) - Semiconductors"
       ],
       "description": "Stock 1:",
       "index": 14,
       "layout": "IPY_MODEL_c2f158015a1f4f67845c2734d0b83c12",
       "style": "IPY_MODEL_3d49ecc3c9b14636a8726c194d182165"
      }
     },
     "904f84f5e6864f23968a9ae9bf6bfcea": {
      "model_module": "@jupyter-widgets/controls",
      "model_module_version": "2.0.0",
      "model_name": "DropdownModel",
      "state": {
       "_options_labels": [
        "",
        "Apple (AAPL) - Computer Manufacturing",
        "Microsoft (MSFT) - Computer Software: Prepackaged Software",
        "Amazon (AMZN) - Catalog/Specialty Distribution",
        "Nvidia (NVDA) - Semiconductors",
        "Alphabet (GOOGL) - Computer Software: Programming, Data Processing",
        "Meta (META) - Computer Software: Programming, Data Processing",
        "Tesla (TSLA) - Auto Manufacturing",
        "Berkshire Hathaway (BRK.B) - Conglomerate",
        "Unitedhealth Group (UNH) - Medical Specialities",
        "Jpmorgan Chase & Co (JPM) - Major Banks",
        "Johnson & Johnson (JNJ) - Biotechnology: Pharmaceutical Preparations",
        "Exxon Mobil (XOM) - Integrated oil Companies",
        "Visa (V) - Business Services",
        "Broadcom (AVGO) - Semiconductors"
       ],
       "description": "Stock 1:",
       "index": 0,
       "layout": "IPY_MODEL_1540b2b2a7ae4a5c8201bfb2aa7dd81e",
       "style": "IPY_MODEL_70731da9e4594879be331fa767cbe029"
      }
     },
     "912d7e14bc57415aa05ad31adb73d7d9": {
      "model_module": "@jupyter-widgets/base",
      "model_module_version": "2.0.0",
      "model_name": "LayoutModel",
      "state": {}
     },
     "936c298162864a7e9fb63c386188f63d": {
      "model_module": "@jupyter-widgets/controls",
      "model_module_version": "2.0.0",
      "model_name": "ButtonStyleModel",
      "state": {
       "font_family": null,
       "font_size": null,
       "font_style": null,
       "font_variant": null,
       "font_weight": null,
       "text_color": null,
       "text_decoration": null
      }
     },
     "96b415ec68e7488fb3723659ed975a3e": {
      "model_module": "@jupyter-widgets/controls",
      "model_module_version": "2.0.0",
      "model_name": "DropdownModel",
      "state": {
       "_options_labels": [
        "1",
        "2",
        "3",
        "4",
        "5",
        "6",
        "7",
        "8",
        "9",
        "10",
        "Choose Stock Amount:"
       ],
       "description": "Amount",
       "index": 10,
       "layout": "IPY_MODEL_b099000df21d47d3ae4ef5f186106bb5",
       "style": "IPY_MODEL_59e3fe07af2540f4b6d668f1537b97a7"
      }
     },
     "9974ab58a075446ca12f443f06c242b6": {
      "model_module": "@jupyter-widgets/controls",
      "model_module_version": "2.0.0",
      "model_name": "DescriptionStyleModel",
      "state": {
       "description_width": ""
      }
     },
     "9b6e4f9aaf2b460280c461d31dfe8e16": {
      "model_module": "@jupyter-widgets/controls",
      "model_module_version": "2.0.0",
      "model_name": "DropdownModel",
      "state": {
       "_options_labels": [
        "",
        "Apple (AAPL) - Computer Manufacturing",
        "Microsoft (MSFT) - Computer Software: Prepackaged Software",
        "Amazon (AMZN) - Catalog/Specialty Distribution",
        "Nvidia (NVDA) - Semiconductors",
        "Alphabet (GOOGL) - Computer Software: Programming, Data Processing",
        "Meta (META) - Computer Software: Programming, Data Processing",
        "Tesla (TSLA) - Auto Manufacturing",
        "Berkshire Hathaway (BRK.B) - Conglomerate",
        "Unitedhealth Group (UNH) - Medical Specialities",
        "Jpmorgan Chase & Co (JPM) - Major Banks",
        "Johnson & Johnson (JNJ) - Biotechnology: Pharmaceutical Preparations",
        "Exxon Mobil (XOM) - Integrated oil Companies",
        "Visa (V) - Business Services",
        "Broadcom (AVGO) - Semiconductors"
       ],
       "description": "Stock 2:",
       "index": 1,
       "layout": "IPY_MODEL_0030ae8691b44fd5a7e1f37ed37528fe",
       "style": "IPY_MODEL_13e0e3666f8045cabfb19686dc6b04b4"
      }
     },
     "9c71e730ad32449d84eb5eb82b2db6ac": {
      "model_module": "@jupyter-widgets/base",
      "model_module_version": "2.0.0",
      "model_name": "LayoutModel",
      "state": {}
     },
     "9ebf5b4279554ab8802f27f564e3efdd": {
      "model_module": "@jupyter-widgets/base",
      "model_module_version": "2.0.0",
      "model_name": "LayoutModel",
      "state": {}
     },
     "9fe93b0801684627a61f7a7a809a1e2f": {
      "model_module": "@jupyter-widgets/controls",
      "model_module_version": "2.0.0",
      "model_name": "TextStyleModel",
      "state": {
       "description_width": "",
       "font_size": null,
       "text_color": null
      }
     },
     "a16a9239f7154cea91106e0eeb324a8c": {
      "model_module": "@jupyter-widgets/controls",
      "model_module_version": "2.0.0",
      "model_name": "TextStyleModel",
      "state": {
       "description_width": "",
       "font_size": null,
       "text_color": null
      }
     },
     "ab2ceb8356df4aae83a955fae4e533ad": {
      "model_module": "@jupyter-widgets/controls",
      "model_module_version": "2.0.0",
      "model_name": "ButtonModel",
      "state": {
       "description": "Submit",
       "layout": "IPY_MODEL_c690ba0f53e04267bdaa2dbe7ca8016f",
       "style": "IPY_MODEL_553f1fd607774ff1811b3f1c8ae7a786",
       "tooltip": null
      }
     },
     "ab3f535c780748668be1ed25250afcf6": {
      "model_module": "@jupyter-widgets/controls",
      "model_module_version": "2.0.0",
      "model_name": "ButtonStyleModel",
      "state": {
       "font_family": null,
       "font_size": null,
       "font_style": null,
       "font_variant": null,
       "font_weight": null,
       "text_color": null,
       "text_decoration": null
      }
     },
     "aca98555e2764c3283a6f33861164b59": {
      "model_module": "@jupyter-widgets/base",
      "model_module_version": "2.0.0",
      "model_name": "LayoutModel",
      "state": {}
     },
     "acc1199ab5d34a0eb0c218eb187ee86f": {
      "model_module": "@jupyter-widgets/base",
      "model_module_version": "2.0.0",
      "model_name": "LayoutModel",
      "state": {}
     },
     "af5311fc887c4e6ea0499dd6f0d2ed88": {
      "model_module": "@jupyter-widgets/base",
      "model_module_version": "2.0.0",
      "model_name": "LayoutModel",
      "state": {}
     },
     "b099000df21d47d3ae4ef5f186106bb5": {
      "model_module": "@jupyter-widgets/base",
      "model_module_version": "2.0.0",
      "model_name": "LayoutModel",
      "state": {}
     },
     "b226f81b2867412599805357ecdd2a63": {
      "model_module": "@jupyter-widgets/controls",
      "model_module_version": "2.0.0",
      "model_name": "TextStyleModel",
      "state": {
       "description_width": "",
       "font_size": null,
       "text_color": null
      }
     },
     "b535a1f690e14eae8ebb844eab05b617": {
      "model_module": "@jupyter-widgets/controls",
      "model_module_version": "2.0.0",
      "model_name": "DescriptionStyleModel",
      "state": {
       "description_width": ""
      }
     },
     "b5e986e48ec84579bfbc3f9a001d8385": {
      "model_module": "@jupyter-widgets/controls",
      "model_module_version": "2.0.0",
      "model_name": "TextareaModel",
      "state": {
       "description": "First Name:",
       "layout": "IPY_MODEL_c303279ada1e408d99b52944350f53a8",
       "placeholder": "Type something",
       "style": "IPY_MODEL_b226f81b2867412599805357ecdd2a63",
       "value": "Input your name"
      }
     },
     "b67bdb76448b49f08f12badd7b29a444": {
      "model_module": "@jupyter-widgets/controls",
      "model_module_version": "2.0.0",
      "model_name": "ButtonModel",
      "state": {
       "description": "Submit",
       "layout": "IPY_MODEL_e8ae549dca204ef9ac1a039fd8eca13d",
       "style": "IPY_MODEL_ab3f535c780748668be1ed25250afcf6",
       "tooltip": null
      }
     },
     "ba25cff0dcf74f828e7dff84ac71ba54": {
      "model_module": "@jupyter-widgets/controls",
      "model_module_version": "2.0.0",
      "model_name": "DropdownModel",
      "state": {
       "_options_labels": [
        "1",
        "2",
        "3",
        "4",
        "5",
        "6",
        "7",
        "8",
        "9",
        "10",
        "Choose Stock Amount:"
       ],
       "description": "Amount",
       "index": 10,
       "layout": "IPY_MODEL_8199ce88aeec4d1488df4e86f151b7e6",
       "style": "IPY_MODEL_ece0ba6e4ca745b3aa63658b16541594"
      }
     },
     "bdab0b043b204f45b3e05a47b57e24b4": {
      "model_module": "@jupyter-widgets/controls",
      "model_module_version": "2.0.0",
      "model_name": "DropdownModel",
      "state": {
       "_options_labels": [
        "",
        "Apple (AAPL) - Computer Manufacturing",
        "Microsoft (MSFT) - Computer Software: Prepackaged Software",
        "Amazon (AMZN) - Catalog/Specialty Distribution",
        "Nvidia (NVDA) - Semiconductors",
        "Alphabet (GOOGL) - Computer Software: Programming, Data Processing",
        "Meta (META) - Computer Software: Programming, Data Processing",
        "Tesla (TSLA) - Auto Manufacturing",
        "Berkshire Hathaway (BRK.B) - Conglomerate",
        "Unitedhealth Group (UNH) - Medical Specialities",
        "Jpmorgan Chase & Co (JPM) - Major Banks",
        "Johnson & Johnson (JNJ) - Biotechnology: Pharmaceutical Preparations",
        "Exxon Mobil (XOM) - Integrated oil Companies",
        "Visa (V) - Business Services",
        "Broadcom (AVGO) - Semiconductors"
       ],
       "description": "Stock 4:",
       "index": 0,
       "layout": "IPY_MODEL_6c7b1533981f432e988049f9b9353412",
       "style": "IPY_MODEL_6017ae4d61b641c380bdd7fa48a9cc58"
      }
     },
     "bdc24670d24b4f549c57ebd5e78344af": {
      "model_module": "@jupyter-widgets/controls",
      "model_module_version": "2.0.0",
      "model_name": "ButtonStyleModel",
      "state": {
       "font_family": null,
       "font_size": null,
       "font_style": null,
       "font_variant": null,
       "font_weight": null,
       "text_color": null,
       "text_decoration": null
      }
     },
     "c2f158015a1f4f67845c2734d0b83c12": {
      "model_module": "@jupyter-widgets/base",
      "model_module_version": "2.0.0",
      "model_name": "LayoutModel",
      "state": {}
     },
     "c303279ada1e408d99b52944350f53a8": {
      "model_module": "@jupyter-widgets/base",
      "model_module_version": "2.0.0",
      "model_name": "LayoutModel",
      "state": {}
     },
     "c3079d3f3290417f9d2515dcee7f151b": {
      "model_module": "@jupyter-widgets/base",
      "model_module_version": "2.0.0",
      "model_name": "LayoutModel",
      "state": {}
     },
     "c5aea771a97e4f61bd8a22fad28da2d7": {
      "model_module": "@jupyter-widgets/base",
      "model_module_version": "2.0.0",
      "model_name": "LayoutModel",
      "state": {}
     },
     "c690ba0f53e04267bdaa2dbe7ca8016f": {
      "model_module": "@jupyter-widgets/base",
      "model_module_version": "2.0.0",
      "model_name": "LayoutModel",
      "state": {}
     },
     "c6d586ce93ae49669b9332c24fbce7e5": {
      "model_module": "@jupyter-widgets/base",
      "model_module_version": "2.0.0",
      "model_name": "LayoutModel",
      "state": {}
     },
     "c9ed91bce348462fa97c868d9e6ea290": {
      "model_module": "@jupyter-widgets/controls",
      "model_module_version": "2.0.0",
      "model_name": "DescriptionStyleModel",
      "state": {
       "description_width": ""
      }
     },
     "ca2f86f9cf3e4087ae28932f829c3f9f": {
      "model_module": "@jupyter-widgets/base",
      "model_module_version": "2.0.0",
      "model_name": "LayoutModel",
      "state": {}
     },
     "cebc95a1c89c4f7d8774735f12a3240b": {
      "model_module": "@jupyter-widgets/base",
      "model_module_version": "2.0.0",
      "model_name": "LayoutModel",
      "state": {}
     },
     "d1e95c9bdfd946cbbc4d050224a4f2f1": {
      "model_module": "@jupyter-widgets/controls",
      "model_module_version": "2.0.0",
      "model_name": "DropdownModel",
      "state": {
       "_options_labels": [
        "",
        "Apple (AAPL) - Computer Manufacturing",
        "Microsoft (MSFT) - Computer Software: Prepackaged Software",
        "Amazon (AMZN) - Catalog/Specialty Distribution",
        "Nvidia (NVDA) - Semiconductors",
        "Alphabet (GOOGL) - Computer Software: Programming, Data Processing",
        "Meta (META) - Computer Software: Programming, Data Processing",
        "Tesla (TSLA) - Auto Manufacturing",
        "Berkshire Hathaway (BRK.B) - Conglomerate",
        "Unitedhealth Group (UNH) - Medical Specialities",
        "Jpmorgan Chase & Co (JPM) - Major Banks",
        "Johnson & Johnson (JNJ) - Biotechnology: Pharmaceutical Preparations",
        "Exxon Mobil (XOM) - Integrated oil Companies",
        "Visa (V) - Business Services",
        "Broadcom (AVGO) - Semiconductors"
       ],
       "description": "Stock 1:",
       "index": 2,
       "layout": "IPY_MODEL_4355ac2028d04aa8a6022655bd267b14",
       "style": "IPY_MODEL_7436db2a7fbf408fb87a91d0b2668168"
      }
     },
     "dbed646fdc034e189d12bb79ce77cf77": {
      "model_module": "@jupyter-widgets/controls",
      "model_module_version": "2.0.0",
      "model_name": "DropdownModel",
      "state": {
       "_options_labels": [
        "",
        "Apple (AAPL) - Computer Manufacturing",
        "Microsoft (MSFT) - Computer Software: Prepackaged Software",
        "Amazon (AMZN) - Catalog/Specialty Distribution",
        "Nvidia (NVDA) - Semiconductors",
        "Alphabet (GOOGL) - Computer Software: Programming, Data Processing",
        "Meta (META) - Computer Software: Programming, Data Processing",
        "Tesla (TSLA) - Auto Manufacturing",
        "Berkshire Hathaway (BRK.B) - Conglomerate",
        "Unitedhealth Group (UNH) - Medical Specialities",
        "Jpmorgan Chase & Co (JPM) - Major Banks",
        "Johnson & Johnson (JNJ) - Biotechnology: Pharmaceutical Preparations",
        "Exxon Mobil (XOM) - Integrated oil Companies",
        "Visa (V) - Business Services",
        "Broadcom (AVGO) - Semiconductors"
       ],
       "description": "Stock 2:",
       "index": 4,
       "layout": "IPY_MODEL_2d83ffc9dd6a41db810d3040b65deef2",
       "style": "IPY_MODEL_512940fcfeba46c291554cd385eb722e"
      }
     },
     "e0f13d58f7e448f99170ccd4c407acf8": {
      "model_module": "@jupyter-widgets/controls",
      "model_module_version": "2.0.0",
      "model_name": "ButtonModel",
      "state": {
       "description": "Submit",
       "layout": "IPY_MODEL_104e8ba5145c45f9858db23cc26c7721",
       "style": "IPY_MODEL_733a9b7d8f124bc3a9cf1ce72ca319d6",
       "tooltip": null
      }
     },
     "e4b852818bef49e4b6fb850386309247": {
      "model_module": "@jupyter-widgets/controls",
      "model_module_version": "2.0.0",
      "model_name": "ButtonModel",
      "state": {
       "description": "Submit",
       "layout": "IPY_MODEL_862523753a504aaca28166718da00888",
       "style": "IPY_MODEL_03244dc6939f4f019507c76db905a5f1",
       "tooltip": null
      }
     },
     "e54db56f595f4879a1712c27e11e54a2": {
      "model_module": "@jupyter-widgets/controls",
      "model_module_version": "2.0.0",
      "model_name": "DescriptionStyleModel",
      "state": {
       "description_width": ""
      }
     },
     "e6cc44ed9f804f5e8e613dc4255758ef": {
      "model_module": "@jupyter-widgets/controls",
      "model_module_version": "2.0.0",
      "model_name": "TextStyleModel",
      "state": {
       "description_width": "",
       "font_size": null,
       "text_color": null
      }
     },
     "e82cfb86f1794f3188f16caba396ae36": {
      "model_module": "@jupyter-widgets/base",
      "model_module_version": "2.0.0",
      "model_name": "LayoutModel",
      "state": {}
     },
     "e8ae549dca204ef9ac1a039fd8eca13d": {
      "model_module": "@jupyter-widgets/base",
      "model_module_version": "2.0.0",
      "model_name": "LayoutModel",
      "state": {}
     },
     "ea45c775fd124e52862927324a0de139": {
      "model_module": "@jupyter-widgets/controls",
      "model_module_version": "2.0.0",
      "model_name": "ButtonModel",
      "state": {
       "description": "Submit",
       "layout": "IPY_MODEL_229e8a2d4bdb4252b3f53544bd31df92",
       "style": "IPY_MODEL_ed3ecc5b0d6b4ac1a8decf6ddbff0bd0",
       "tooltip": null
      }
     },
     "ec6c348c0a884d698e8acf1b7a6240f3": {
      "model_module": "@jupyter-widgets/controls",
      "model_module_version": "2.0.0",
      "model_name": "ButtonModel",
      "state": {
       "description": "Submit",
       "layout": "IPY_MODEL_10996e9d8b5147b3b438cd6410f61990",
       "style": "IPY_MODEL_2c6b09ab9adb49589882829fa0ba588e",
       "tooltip": null
      }
     },
     "ece0ba6e4ca745b3aa63658b16541594": {
      "model_module": "@jupyter-widgets/controls",
      "model_module_version": "2.0.0",
      "model_name": "DescriptionStyleModel",
      "state": {
       "description_width": ""
      }
     },
     "ed3ecc5b0d6b4ac1a8decf6ddbff0bd0": {
      "model_module": "@jupyter-widgets/controls",
      "model_module_version": "2.0.0",
      "model_name": "ButtonStyleModel",
      "state": {
       "font_family": null,
       "font_size": null,
       "font_style": null,
       "font_variant": null,
       "font_weight": null,
       "text_color": null,
       "text_decoration": null
      }
     },
     "ee6857e5e0424beb9ff160c59b7ae1ed": {
      "model_module": "@jupyter-widgets/controls",
      "model_module_version": "2.0.0",
      "model_name": "DropdownModel",
      "state": {
       "_options_labels": [
        "1",
        "2",
        "3",
        "4",
        "5",
        "6",
        "7",
        "8",
        "9",
        "10",
        "Choose Stock Amount:"
       ],
       "description": "Amount",
       "index": 0,
       "layout": "IPY_MODEL_e82cfb86f1794f3188f16caba396ae36",
       "style": "IPY_MODEL_11cd0e6ff69c438a8ae65a4bede36b3d"
      }
     },
     "ef4f329754044a89b76a017b8341b33a": {
      "model_module": "@jupyter-widgets/controls",
      "model_module_version": "2.0.0",
      "model_name": "DropdownModel",
      "state": {
       "_options_labels": [
        "",
        "Apple (AAPL) - Computer Manufacturing",
        "Microsoft (MSFT) - Computer Software: Prepackaged Software",
        "Amazon (AMZN) - Catalog/Specialty Distribution",
        "Nvidia (NVDA) - Semiconductors",
        "Alphabet (GOOGL) - Computer Software: Programming, Data Processing",
        "Meta (META) - Computer Software: Programming, Data Processing",
        "Tesla (TSLA) - Auto Manufacturing",
        "Berkshire Hathaway (BRK.B) - Conglomerate",
        "Unitedhealth Group (UNH) - Medical Specialities",
        "Jpmorgan Chase & Co (JPM) - Major Banks",
        "Johnson & Johnson (JNJ) - Biotechnology: Pharmaceutical Preparations",
        "Exxon Mobil (XOM) - Integrated oil Companies",
        "Visa (V) - Business Services",
        "Broadcom (AVGO) - Semiconductors"
       ],
       "description": "Stock 3:",
       "index": 3,
       "layout": "IPY_MODEL_c5aea771a97e4f61bd8a22fad28da2d7",
       "style": "IPY_MODEL_c9ed91bce348462fa97c868d9e6ea290"
      }
     },
     "f2ebeca1c9ec47219b6c318c83c3c95d": {
      "model_module": "@jupyter-widgets/base",
      "model_module_version": "2.0.0",
      "model_name": "LayoutModel",
      "state": {}
     },
     "f647c79775a345159149b22d7a552c4e": {
      "model_module": "@jupyter-widgets/controls",
      "model_module_version": "2.0.0",
      "model_name": "ButtonStyleModel",
      "state": {
       "font_family": null,
       "font_size": null,
       "font_style": null,
       "font_variant": null,
       "font_weight": null,
       "text_color": null,
       "text_decoration": null
      }
     },
     "faad11b411b546d1a4eb2dadbe98934b": {
      "model_module": "@jupyter-widgets/base",
      "model_module_version": "2.0.0",
      "model_name": "LayoutModel",
      "state": {}
     },
     "ff1b6003fa7644d495560f2cacaa9f26": {
      "model_module": "@jupyter-widgets/controls",
      "model_module_version": "2.0.0",
      "model_name": "DropdownModel",
      "state": {
       "_options_labels": [
        "",
        "Apple (AAPL) - Computer Manufacturing",
        "Microsoft (MSFT) - Computer Software: Prepackaged Software",
        "Amazon (AMZN) - Catalog/Specialty Distribution",
        "Nvidia (NVDA) - Semiconductors",
        "Alphabet (GOOGL) - Computer Software: Programming, Data Processing",
        "Meta (META) - Computer Software: Programming, Data Processing",
        "Tesla (TSLA) - Auto Manufacturing",
        "Berkshire Hathaway (BRK.B) - Conglomerate",
        "Unitedhealth Group (UNH) - Medical Specialities",
        "Jpmorgan Chase & Co (JPM) - Major Banks",
        "Johnson & Johnson (JNJ) - Biotechnology: Pharmaceutical Preparations",
        "Exxon Mobil (XOM) - Integrated oil Companies",
        "Visa (V) - Business Services",
        "Broadcom (AVGO) - Semiconductors"
       ],
       "description": "Stock 1:",
       "index": 0,
       "layout": "IPY_MODEL_9ebf5b4279554ab8802f27f564e3efdd",
       "style": "IPY_MODEL_8612c881c8bf4c9b872918d2617c6bd9"
      }
     }
    },
    "version_major": 2,
    "version_minor": 0
   }
  }
 },
 "nbformat": 4,
 "nbformat_minor": 5
}
