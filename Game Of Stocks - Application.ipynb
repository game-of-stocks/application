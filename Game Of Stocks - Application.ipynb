{
 "cells": [
  {
   "cell_type": "code",
   "execution_count": 34,
   "id": "76319276",
   "metadata": {},
   "outputs": [
    {
     "name": "stdout",
     "output_type": "stream",
     "text": [
      "Using matplotlib backend: <object object at 0x137ae86e0>\n"
     ]
    }
   ],
   "source": [
    "#packages related to dataframes\n",
    "import pandas as pd\n",
    "import numpy as np\n",
    "from pathlib import Path\n",
    "import csv\n",
    "import panel as pn\n",
    "import seaborn as sns\n",
    "import hvplot.pandas\n",
    "%matplotlib\n",
    "\n",
    "#package to help convert a stringify array back to array\n",
    "import ast\n",
    "\n",
    "#package needed to assign user a unique id \n",
    "import uuid\n",
    "\n",
    "# Importing helper function from utils folder \n",
    "import sys\n",
    "sys.path.append('Resources/utils')\n",
    "from user_form_intake import inital_user_intake, get_user_inital_input, portfolio_user_intake, get_user_portfolio_input"
   ]
  },
  {
   "cell_type": "markdown",
   "id": "665e32d0",
   "metadata": {
    "tags": []
   },
   "source": [
    "# Grabbing the Data Files "
   ]
  },
  {
   "cell_type": "code",
   "execution_count": 35,
   "id": "b8486b97",
   "metadata": {},
   "outputs": [
    {
     "data": {
      "text/html": [
       "<div>\n",
       "<style scoped>\n",
       "    .dataframe tbody tr th:only-of-type {\n",
       "        vertical-align: middle;\n",
       "    }\n",
       "\n",
       "    .dataframe tbody tr th {\n",
       "        vertical-align: top;\n",
       "    }\n",
       "\n",
       "    .dataframe thead th {\n",
       "        text-align: right;\n",
       "    }\n",
       "</style>\n",
       "<table border=\"1\" class=\"dataframe\">\n",
       "  <thead>\n",
       "    <tr style=\"text-align: right;\">\n",
       "      <th></th>\n",
       "      <th>Company</th>\n",
       "      <th>Ticker</th>\n",
       "      <th>Close_Price</th>\n",
       "      <th>Industry</th>\n",
       "      <th>Sector</th>\n",
       "    </tr>\n",
       "    <tr>\n",
       "      <th>Date</th>\n",
       "      <th></th>\n",
       "      <th></th>\n",
       "      <th></th>\n",
       "      <th></th>\n",
       "      <th></th>\n",
       "    </tr>\n",
       "  </thead>\n",
       "  <tbody>\n",
       "    <tr>\n",
       "      <th>2023-02-01</th>\n",
       "      <td>Apple</td>\n",
       "      <td>AAPL</td>\n",
       "      <td>145.43</td>\n",
       "      <td>Computer Manufacturing</td>\n",
       "      <td>Technology</td>\n",
       "    </tr>\n",
       "    <tr>\n",
       "      <th>2023-02-01</th>\n",
       "      <td>Amazon</td>\n",
       "      <td>AMZN</td>\n",
       "      <td>105.15</td>\n",
       "      <td>Catalog/Specialty Distribution</td>\n",
       "      <td>Consumer Discretionary</td>\n",
       "    </tr>\n",
       "    <tr>\n",
       "      <th>2023-02-01</th>\n",
       "      <td>Nvidia</td>\n",
       "      <td>NVDA</td>\n",
       "      <td>209.43</td>\n",
       "      <td>Semiconductors</td>\n",
       "      <td>Technology</td>\n",
       "    </tr>\n",
       "    <tr>\n",
       "      <th>2023-02-01</th>\n",
       "      <td>Alphabet</td>\n",
       "      <td>GOOGL</td>\n",
       "      <td>100.43</td>\n",
       "      <td>Computer Software: Programming, Data Processing</td>\n",
       "      <td>Technology</td>\n",
       "    </tr>\n",
       "    <tr>\n",
       "      <th>2023-02-01</th>\n",
       "      <td>Meta</td>\n",
       "      <td>META</td>\n",
       "      <td>153.12</td>\n",
       "      <td>Computer Software: Programming, Data Processing</td>\n",
       "      <td>Technology</td>\n",
       "    </tr>\n",
       "  </tbody>\n",
       "</table>\n",
       "</div>"
      ],
      "text/plain": [
       "             Company Ticker  Close_Price  \\\n",
       "Date                                       \n",
       "2023-02-01     Apple   AAPL       145.43   \n",
       "2023-02-01    Amazon   AMZN       105.15   \n",
       "2023-02-01    Nvidia   NVDA       209.43   \n",
       "2023-02-01  Alphabet  GOOGL       100.43   \n",
       "2023-02-01      Meta   META       153.12   \n",
       "\n",
       "                                                   Industry  \\\n",
       "Date                                                          \n",
       "2023-02-01                           Computer Manufacturing   \n",
       "2023-02-01                   Catalog/Specialty Distribution   \n",
       "2023-02-01                                   Semiconductors   \n",
       "2023-02-01  Computer Software: Programming, Data Processing   \n",
       "2023-02-01  Computer Software: Programming, Data Processing   \n",
       "\n",
       "                            Sector  \n",
       "Date                                \n",
       "2023-02-01              Technology  \n",
       "2023-02-01  Consumer Discretionary  \n",
       "2023-02-01              Technology  \n",
       "2023-02-01              Technology  \n",
       "2023-02-01              Technology  "
      ]
     },
     "execution_count": 35,
     "metadata": {},
     "output_type": "execute_result"
    }
   ],
   "source": [
    "#Grabing the raw stock data and putting in dataframe\n",
    "raw_stocks_data_to_load =  Path(\"Resources/Data/Stock_Index_Raw_Data.csv\")\n",
    "raw_stocks_data_df = pd.read_csv(raw_stocks_data_to_load, header=0, parse_dates=True, index_col=\"Date\", infer_datetime_format=True)\n",
    "raw_stocks_data_df.sort_index(ascending = True, inplace = True)\n",
    "raw_stocks_data_df.head()"
   ]
  },
  {
   "cell_type": "code",
   "execution_count": 36,
   "id": "43c31df6",
   "metadata": {},
   "outputs": [
    {
     "data": {
      "text/html": [
       "<div>\n",
       "<style scoped>\n",
       "    .dataframe tbody tr th:only-of-type {\n",
       "        vertical-align: middle;\n",
       "    }\n",
       "\n",
       "    .dataframe tbody tr th {\n",
       "        vertical-align: top;\n",
       "    }\n",
       "\n",
       "    .dataframe thead th {\n",
       "        text-align: right;\n",
       "    }\n",
       "</style>\n",
       "<table border=\"1\" class=\"dataframe\">\n",
       "  <thead>\n",
       "    <tr style=\"text-align: right;\">\n",
       "      <th></th>\n",
       "      <th>UUID</th>\n",
       "      <th>User_Name</th>\n",
       "      <th>Sharpe_Ratio</th>\n",
       "      <th>Stocks</th>\n",
       "    </tr>\n",
       "  </thead>\n",
       "  <tbody>\n",
       "    <tr>\n",
       "      <th>0</th>\n",
       "      <td>85c7d8c0-c991-4824-8f4d-37535e5851bc</td>\n",
       "      <td>John</td>\n",
       "      <td>3.540897</td>\n",
       "      <td>['AAPL', 'AVGO', 'UNH', 'NVDA', 'V']</td>\n",
       "    </tr>\n",
       "    <tr>\n",
       "      <th>1</th>\n",
       "      <td>9911f3d6-2a1e-4956-b676-d14ddd12fe0e</td>\n",
       "      <td>alex_1</td>\n",
       "      <td>3.412431</td>\n",
       "      <td>['NVDA', 'AMZN', 'AAPL', 'MSFT']</td>\n",
       "    </tr>\n",
       "    <tr>\n",
       "      <th>2</th>\n",
       "      <td>db136baa-8bbd-470c-ae3c-38f6340ba7bd</td>\n",
       "      <td>Edward</td>\n",
       "      <td>3.337273</td>\n",
       "      <td>['BRK.B', 'AAPL', 'XOM', 'UNH', 'NVDA', 'MSFT']</td>\n",
       "    </tr>\n",
       "    <tr>\n",
       "      <th>3</th>\n",
       "      <td>866a252f-1fe7-4a3c-859f-ea1eb81f9348</td>\n",
       "      <td>Amy</td>\n",
       "      <td>3.296707</td>\n",
       "      <td>['BRK.B', 'AAPL', 'XOM', 'MSFT', 'META']</td>\n",
       "    </tr>\n",
       "    <tr>\n",
       "      <th>4</th>\n",
       "      <td>0331b7dd-f698-405a-912d-a6dd5c153436</td>\n",
       "      <td>Alissa</td>\n",
       "      <td>3.261231</td>\n",
       "      <td>['NVDA', 'AAPL', 'XOM', 'MSFT', 'UNH', 'AMZN']</td>\n",
       "    </tr>\n",
       "  </tbody>\n",
       "</table>\n",
       "</div>"
      ],
      "text/plain": [
       "                                   UUID User_Name  Sharpe_Ratio  \\\n",
       "0  85c7d8c0-c991-4824-8f4d-37535e5851bc     John       3.540897   \n",
       "1  9911f3d6-2a1e-4956-b676-d14ddd12fe0e    alex_1      3.412431   \n",
       "2  db136baa-8bbd-470c-ae3c-38f6340ba7bd    Edward      3.337273   \n",
       "3  866a252f-1fe7-4a3c-859f-ea1eb81f9348      Amy       3.296707   \n",
       "4  0331b7dd-f698-405a-912d-a6dd5c153436    Alissa      3.261231   \n",
       "\n",
       "                                            Stocks  \n",
       "0             ['AAPL', 'AVGO', 'UNH', 'NVDA', 'V']  \n",
       "1                 ['NVDA', 'AMZN', 'AAPL', 'MSFT']  \n",
       "2  ['BRK.B', 'AAPL', 'XOM', 'UNH', 'NVDA', 'MSFT']  \n",
       "3         ['BRK.B', 'AAPL', 'XOM', 'MSFT', 'META']  \n",
       "4   ['NVDA', 'AAPL', 'XOM', 'MSFT', 'UNH', 'AMZN']  "
      ]
     },
     "execution_count": 36,
     "metadata": {},
     "output_type": "execute_result"
    }
   ],
   "source": [
    "#Grabing the raw stock data and putting in dataframe\n",
    "user_data_to_load =  Path(\"Resources/Data/User_Portfolio_Data.csv\")\n",
    "user_data_df = pd.read_csv(user_data_to_load, header=0, parse_dates=True)\n",
    "user_data_df.sort_index(ascending = True, inplace = True)\n",
    "user_data_df.head()"
   ]
  },
  {
   "cell_type": "markdown",
   "id": "ebc9d162",
   "metadata": {
    "tags": []
   },
   "source": [
    "# User Input for Game of Stocks"
   ]
  },
  {
   "cell_type": "code",
   "execution_count": 37,
   "id": "a9e4c9d4",
   "metadata": {},
   "outputs": [
    {
     "name": "stdout",
     "output_type": "stream",
     "text": [
      "Welcome to the Game of Stocks! You will be asked a series of questions to get started. \n",
      "    You can choose up to 10 stickes to create portfolio. Remember to diversify your portfolio.   \n"
     ]
    },
    {
     "data": {
      "application/vnd.jupyter.widget-view+json": {
       "model_id": "c734f63284f04527a89b259dd4f0bdbd",
       "version_major": 2,
       "version_minor": 0
      },
      "text/plain": [
       "Textarea(value='Input your name', description='First Name:', placeholder='Type something')"
      ]
     },
     "metadata": {},
     "output_type": "display_data"
    },
    {
     "data": {
      "application/vnd.jupyter.widget-view+json": {
       "model_id": "573747a01153431e8c15b650524cc1a5",
       "version_major": 2,
       "version_minor": 0
      },
      "text/plain": [
       "Dropdown(description='Amount', index=10, options=(1, 2, 3, 4, 5, 6, 7, 8, 9, 10, 'Choose Stock Amount:'), valu…"
      ]
     },
     "metadata": {},
     "output_type": "display_data"
    },
    {
     "data": {
      "application/vnd.jupyter.widget-view+json": {
       "model_id": "195c00ea06ab4a3bbfb07e2255bd3778",
       "version_major": 2,
       "version_minor": 0
      },
      "text/plain": [
       "Button(description='Submit', style=ButtonStyle())"
      ]
     },
     "metadata": {},
     "output_type": "display_data"
    }
   ],
   "source": [
    "# Invoking the user intake form 1. It will store the information in the following variables so it can be used in notebook later.\n",
    "\n",
    "inital_user_intake()"
   ]
  },
  {
   "cell_type": "code",
   "execution_count": 38,
   "id": "c9bdeb87",
   "metadata": {},
   "outputs": [],
   "source": [
    "# Getting the form values that was store in name, num_of_stocks_choosen \n",
    "name, num_of_stocks_choosen = get_user_inital_input()"
   ]
  },
  {
   "cell_type": "code",
   "execution_count": 39,
   "id": "ce4591c9",
   "metadata": {},
   "outputs": [
    {
     "data": {
      "application/vnd.jupyter.widget-view+json": {
       "model_id": "3e69bf2a37d2462ea62deb11521c17d2",
       "version_major": 2,
       "version_minor": 0
      },
      "text/plain": [
       "Dropdown(description='Stock 1:', options=('', 'Apple (AAPL) - Computer Manufacturing', 'Microsoft (MSFT) - Com…"
      ]
     },
     "metadata": {},
     "output_type": "display_data"
    },
    {
     "data": {
      "application/vnd.jupyter.widget-view+json": {
       "model_id": "50e096b164a7407fa1213f92a8b23094",
       "version_major": 2,
       "version_minor": 0
      },
      "text/plain": [
       "Button(description='Submit', style=ButtonStyle())"
      ]
     },
     "metadata": {},
     "output_type": "display_data"
    }
   ],
   "source": [
    "# Invoking function to output dropdown for the stock selection for the number of stocks user selected in their intake form\n",
    "\n",
    "portfolio_user_intake(num_of_stocks_choosen)"
   ]
  },
  {
   "cell_type": "code",
   "execution_count": 40,
   "id": "27a42309",
   "metadata": {},
   "outputs": [
    {
     "data": {
      "text/plain": [
       "['AAPL']"
      ]
     },
     "execution_count": 40,
     "metadata": {},
     "output_type": "execute_result"
    }
   ],
   "source": [
    "# getting the user chosen portfolio\n",
    "unique_user_portfolio_array = get_user_portfolio_input()\n",
    "\n",
    "unique_user_portfolio_array"
   ]
  },
  {
   "cell_type": "code",
   "execution_count": 41,
   "id": "7cde4d83",
   "metadata": {},
   "outputs": [
    {
     "data": {
      "text/plain": [
       "1.0"
      ]
     },
     "execution_count": 41,
     "metadata": {},
     "output_type": "execute_result"
    }
   ],
   "source": [
    "#calculating individual weights since we will assume it will be evenly split\n",
    "weight = round((1/len(unique_user_portfolio_array)),5)\n",
    "\n",
    "weight"
   ]
  },
  {
   "cell_type": "code",
   "execution_count": 42,
   "id": "cc8eb57c",
   "metadata": {},
   "outputs": [
    {
     "data": {
      "text/plain": [
       "[1.0]"
      ]
     },
     "execution_count": 42,
     "metadata": {},
     "output_type": "execute_result"
    }
   ],
   "source": [
    "#creating the weight array to apply to stocks\n",
    "weight_array = [weight] * len(unique_user_portfolio_array)\n",
    "weight_array"
   ]
  },
  {
   "cell_type": "markdown",
   "id": "5f190bb3",
   "metadata": {
    "tags": []
   },
   "source": [
    "# User Portfolio Calculations "
   ]
  },
  {
   "cell_type": "code",
   "execution_count": 43,
   "id": "448f099f",
   "metadata": {},
   "outputs": [
    {
     "data": {
      "text/html": [
       "<div>\n",
       "<style scoped>\n",
       "    .dataframe tbody tr th:only-of-type {\n",
       "        vertical-align: middle;\n",
       "    }\n",
       "\n",
       "    .dataframe tbody tr th {\n",
       "        vertical-align: top;\n",
       "    }\n",
       "\n",
       "    .dataframe thead th {\n",
       "        text-align: right;\n",
       "    }\n",
       "</style>\n",
       "<table border=\"1\" class=\"dataframe\">\n",
       "  <thead>\n",
       "    <tr style=\"text-align: right;\">\n",
       "      <th>Ticker</th>\n",
       "      <th>AAPL</th>\n",
       "    </tr>\n",
       "    <tr>\n",
       "      <th>Date</th>\n",
       "      <th></th>\n",
       "    </tr>\n",
       "  </thead>\n",
       "  <tbody>\n",
       "    <tr>\n",
       "      <th>2023-02-02</th>\n",
       "      <td>0.037063</td>\n",
       "    </tr>\n",
       "    <tr>\n",
       "      <th>2023-02-03</th>\n",
       "      <td>0.024400</td>\n",
       "    </tr>\n",
       "    <tr>\n",
       "      <th>2023-02-06</th>\n",
       "      <td>-0.017929</td>\n",
       "    </tr>\n",
       "    <tr>\n",
       "      <th>2023-02-07</th>\n",
       "      <td>0.019245</td>\n",
       "    </tr>\n",
       "    <tr>\n",
       "      <th>2023-02-08</th>\n",
       "      <td>-0.017653</td>\n",
       "    </tr>\n",
       "  </tbody>\n",
       "</table>\n",
       "</div>"
      ],
      "text/plain": [
       "Ticker          AAPL\n",
       "Date                \n",
       "2023-02-02  0.037063\n",
       "2023-02-03  0.024400\n",
       "2023-02-06 -0.017929\n",
       "2023-02-07  0.019245\n",
       "2023-02-08 -0.017653"
      ]
     },
     "execution_count": 43,
     "metadata": {},
     "output_type": "execute_result"
    }
   ],
   "source": [
    "# Get data from file for tickers in unique_user_portfolio_array using \".loc\" and \".isin\"\n",
    "portfolio_returns = raw_stocks_data_df.loc[raw_stocks_data_df[\"Ticker\"].isin(unique_user_portfolio_array)]\n",
    "\n",
    "# Filter columns to get only the Ticker and Close Price and drop null values\n",
    "portfolio_returns= portfolio_returns[[\"Ticker\",\"Close_Price\"]].dropna()\n",
    "\n",
    "# Set tickers as columns\n",
    "portfolio_returns= portfolio_returns.pivot_table(\"Close_Price\",\"Date\",\"Ticker\")\n",
    "\n",
    "# Calculate daily returns using \"pct_change\" and drop null values \n",
    "portfolio_returns = portfolio_returns.pct_change().dropna()\n",
    "\n",
    "# Display data\n",
    "portfolio_returns.head()"
   ]
  },
  {
   "cell_type": "code",
   "execution_count": 44,
   "id": "4a6dc3b0",
   "metadata": {},
   "outputs": [
    {
     "data": {
      "text/html": [
       "<div>\n",
       "<style scoped>\n",
       "    .dataframe tbody tr th:only-of-type {\n",
       "        vertical-align: middle;\n",
       "    }\n",
       "\n",
       "    .dataframe tbody tr th {\n",
       "        vertical-align: top;\n",
       "    }\n",
       "\n",
       "    .dataframe thead th {\n",
       "        text-align: right;\n",
       "    }\n",
       "</style>\n",
       "<table border=\"1\" class=\"dataframe\">\n",
       "  <thead>\n",
       "    <tr style=\"text-align: right;\">\n",
       "      <th>Ticker</th>\n",
       "      <th>AAPL</th>\n",
       "      <th>Portfolio</th>\n",
       "    </tr>\n",
       "    <tr>\n",
       "      <th>Date</th>\n",
       "      <th></th>\n",
       "      <th></th>\n",
       "    </tr>\n",
       "  </thead>\n",
       "  <tbody>\n",
       "    <tr>\n",
       "      <th>2023-02-02</th>\n",
       "      <td>0.037063</td>\n",
       "      <td>0.037063</td>\n",
       "    </tr>\n",
       "    <tr>\n",
       "      <th>2023-02-03</th>\n",
       "      <td>0.024400</td>\n",
       "      <td>0.024400</td>\n",
       "    </tr>\n",
       "    <tr>\n",
       "      <th>2023-02-06</th>\n",
       "      <td>-0.017929</td>\n",
       "      <td>-0.017929</td>\n",
       "    </tr>\n",
       "    <tr>\n",
       "      <th>2023-02-07</th>\n",
       "      <td>0.019245</td>\n",
       "      <td>0.019245</td>\n",
       "    </tr>\n",
       "    <tr>\n",
       "      <th>2023-02-08</th>\n",
       "      <td>-0.017653</td>\n",
       "      <td>-0.017653</td>\n",
       "    </tr>\n",
       "  </tbody>\n",
       "</table>\n",
       "</div>"
      ],
      "text/plain": [
       "Ticker          AAPL  Portfolio\n",
       "Date                           \n",
       "2023-02-02  0.037063   0.037063\n",
       "2023-02-03  0.024400   0.024400\n",
       "2023-02-06 -0.017929  -0.017929\n",
       "2023-02-07  0.019245   0.019245\n",
       "2023-02-08 -0.017653  -0.017653"
      ]
     },
     "execution_count": 44,
     "metadata": {},
     "output_type": "execute_result"
    }
   ],
   "source": [
    "# Create portfolio variable in dataframe with weights using \".dot\"\n",
    "portfolio_returns[\"Portfolio\"] = portfolio_returns.dot(weight_array)\n",
    "portfolio_returns.head()"
   ]
  },
  {
   "cell_type": "code",
   "execution_count": 45,
   "id": "fadd056c-4286-4596-871e-d0a4848384f7",
   "metadata": {},
   "outputs": [
    {
     "data": {
      "text/plain": [
       "3.243118980431322"
      ]
     },
     "execution_count": 45,
     "metadata": {},
     "output_type": "execute_result"
    }
   ],
   "source": [
    "# use to store in user portfolio table \n",
    "user_sharpe_ratio= (portfolio_returns[\"Portfolio\"].mean() * (252)) / (portfolio_returns[\"Portfolio\"].std() * np.sqrt(252))\n",
    "user_sharpe_ratio"
   ]
  },
  {
   "cell_type": "code",
   "execution_count": 46,
   "id": "c9b52f66-c790-44fe-bc77-a8002c24a440",
   "metadata": {},
   "outputs": [
    {
     "data": {
      "text/plain": [
       "<Axes: xlabel='Date'>"
      ]
     },
     "execution_count": 46,
     "metadata": {},
     "output_type": "execute_result"
    }
   ],
   "source": [
    "portfolio_cum_return = (1 + portfolio_returns).cumprod()\n",
    "portfolio_cum_return.plot()"
   ]
  },
  {
   "cell_type": "markdown",
   "id": "34d5bb8e",
   "metadata": {
    "tags": []
   },
   "source": [
    "# Storing User Info In User Portfolio CSV and Updating The Rank "
   ]
  },
  {
   "cell_type": "code",
   "execution_count": 47,
   "id": "d5e2ed73",
   "metadata": {},
   "outputs": [
    {
     "name": "stdout",
     "output_type": "stream",
     "text": [
      "UUID as string: 44ef2f2d-ebff-419f-8aad-d2d7fa534919\n"
     ]
    }
   ],
   "source": [
    "#getting a uuid \n",
    "unique_id = uuid.uuid4()\n",
    "\n",
    "#converting uuid to string so it can store as a string in csv and easier to use loc\n",
    "user_uuid_str = str(unique_id)\n",
    "print(\"UUID as string:\", user_uuid_str)"
   ]
  },
  {
   "cell_type": "code",
   "execution_count": 48,
   "id": "605bf17b",
   "metadata": {},
   "outputs": [],
   "source": [
    "# Create a list of dictionaries (each dictionary represents a row of data)\n",
    "user_data = [{'UUID': user_uuid_str,\n",
    "              'User_Name': name,\n",
    "              'Sharpe_Ratio': user_sharpe_ratio,\n",
    "              'Stocks': f'{unique_user_portfolio_array}'}]\n",
    "\n",
    "# Create the DataFrame from the list of dictionaries\n",
    "user_portfolio_df = pd.DataFrame(user_data)"
   ]
  },
  {
   "cell_type": "code",
   "execution_count": 49,
   "id": "59f91a42",
   "metadata": {},
   "outputs": [
    {
     "name": "stdout",
     "output_type": "stream",
     "text": [
      "New User row added to the User User_Portfolio_Data.csv file. The following was added:\n"
     ]
    },
    {
     "data": {
      "text/html": [
       "<div>\n",
       "<style scoped>\n",
       "    .dataframe tbody tr th:only-of-type {\n",
       "        vertical-align: middle;\n",
       "    }\n",
       "\n",
       "    .dataframe tbody tr th {\n",
       "        vertical-align: top;\n",
       "    }\n",
       "\n",
       "    .dataframe thead th {\n",
       "        text-align: right;\n",
       "    }\n",
       "</style>\n",
       "<table border=\"1\" class=\"dataframe\">\n",
       "  <thead>\n",
       "    <tr style=\"text-align: right;\">\n",
       "      <th></th>\n",
       "      <th>UUID</th>\n",
       "      <th>User_Name</th>\n",
       "      <th>Sharpe_Ratio</th>\n",
       "      <th>Stocks</th>\n",
       "    </tr>\n",
       "  </thead>\n",
       "  <tbody>\n",
       "    <tr>\n",
       "      <th>0</th>\n",
       "      <td>44ef2f2d-ebff-419f-8aad-d2d7fa534919</td>\n",
       "      <td>Jim</td>\n",
       "      <td>3.243119</td>\n",
       "      <td>['AAPL']</td>\n",
       "    </tr>\n",
       "  </tbody>\n",
       "</table>\n",
       "</div>"
      ],
      "text/plain": [
       "                                   UUID User_Name  Sharpe_Ratio    Stocks\n",
       "0  44ef2f2d-ebff-419f-8aad-d2d7fa534919       Jim      3.243119  ['AAPL']"
      ]
     },
     "metadata": {},
     "output_type": "display_data"
    }
   ],
   "source": [
    "# Append the new row to the DataFrame\n",
    "# user_data_df = user_data_df.append(user_data, ignore_index=True)\n",
    "\n",
    "# Concatenate the original DataFrame and the new row DataFrame\n",
    "user_data_df = pd.concat([user_data_df, user_portfolio_df], ignore_index=True)\n",
    "\n",
    "# Write the updated DataFrame back to the CSV file\n",
    "user_data_df.to_csv(user_data_to_load, index=False)\n",
    "\n",
    "#Print so user can see what was added \n",
    "print(\"New User row added to the User User_Portfolio_Data.csv file. The following was added:\")\n",
    "display(user_portfolio_df)"
   ]
  },
  {
   "cell_type": "markdown",
   "id": "2018ae55",
   "metadata": {
    "tags": []
   },
   "source": [
    "# TOP 5 users BEFORE the rank is updated "
   ]
  },
  {
   "cell_type": "code",
   "execution_count": 50,
   "id": "7c2fe3ce",
   "metadata": {},
   "outputs": [
    {
     "data": {
      "text/html": [
       "<div>\n",
       "<style scoped>\n",
       "    .dataframe tbody tr th:only-of-type {\n",
       "        vertical-align: middle;\n",
       "    }\n",
       "\n",
       "    .dataframe tbody tr th {\n",
       "        vertical-align: top;\n",
       "    }\n",
       "\n",
       "    .dataframe thead th {\n",
       "        text-align: right;\n",
       "    }\n",
       "</style>\n",
       "<table border=\"1\" class=\"dataframe\">\n",
       "  <thead>\n",
       "    <tr style=\"text-align: right;\">\n",
       "      <th></th>\n",
       "      <th>UUID</th>\n",
       "      <th>User_Name</th>\n",
       "      <th>Sharpe_Ratio</th>\n",
       "      <th>Stocks</th>\n",
       "    </tr>\n",
       "  </thead>\n",
       "  <tbody>\n",
       "    <tr>\n",
       "      <th>0</th>\n",
       "      <td>85c7d8c0-c991-4824-8f4d-37535e5851bc</td>\n",
       "      <td>John</td>\n",
       "      <td>3.540897</td>\n",
       "      <td>['AAPL', 'AVGO', 'UNH', 'NVDA', 'V']</td>\n",
       "    </tr>\n",
       "    <tr>\n",
       "      <th>1</th>\n",
       "      <td>9911f3d6-2a1e-4956-b676-d14ddd12fe0e</td>\n",
       "      <td>alex_1</td>\n",
       "      <td>3.412431</td>\n",
       "      <td>['NVDA', 'AMZN', 'AAPL', 'MSFT']</td>\n",
       "    </tr>\n",
       "    <tr>\n",
       "      <th>2</th>\n",
       "      <td>db136baa-8bbd-470c-ae3c-38f6340ba7bd</td>\n",
       "      <td>Edward</td>\n",
       "      <td>3.337273</td>\n",
       "      <td>['BRK.B', 'AAPL', 'XOM', 'UNH', 'NVDA', 'MSFT']</td>\n",
       "    </tr>\n",
       "    <tr>\n",
       "      <th>3</th>\n",
       "      <td>866a252f-1fe7-4a3c-859f-ea1eb81f9348</td>\n",
       "      <td>Amy</td>\n",
       "      <td>3.296707</td>\n",
       "      <td>['BRK.B', 'AAPL', 'XOM', 'MSFT', 'META']</td>\n",
       "    </tr>\n",
       "    <tr>\n",
       "      <th>4</th>\n",
       "      <td>0331b7dd-f698-405a-912d-a6dd5c153436</td>\n",
       "      <td>Alissa</td>\n",
       "      <td>3.261231</td>\n",
       "      <td>['NVDA', 'AAPL', 'XOM', 'MSFT', 'UNH', 'AMZN']</td>\n",
       "    </tr>\n",
       "  </tbody>\n",
       "</table>\n",
       "</div>"
      ],
      "text/plain": [
       "                                   UUID User_Name  Sharpe_Ratio  \\\n",
       "0  85c7d8c0-c991-4824-8f4d-37535e5851bc     John       3.540897   \n",
       "1  9911f3d6-2a1e-4956-b676-d14ddd12fe0e    alex_1      3.412431   \n",
       "2  db136baa-8bbd-470c-ae3c-38f6340ba7bd    Edward      3.337273   \n",
       "3  866a252f-1fe7-4a3c-859f-ea1eb81f9348      Amy       3.296707   \n",
       "4  0331b7dd-f698-405a-912d-a6dd5c153436    Alissa      3.261231   \n",
       "\n",
       "                                            Stocks  \n",
       "0             ['AAPL', 'AVGO', 'UNH', 'NVDA', 'V']  \n",
       "1                 ['NVDA', 'AMZN', 'AAPL', 'MSFT']  \n",
       "2  ['BRK.B', 'AAPL', 'XOM', 'UNH', 'NVDA', 'MSFT']  \n",
       "3         ['BRK.B', 'AAPL', 'XOM', 'MSFT', 'META']  \n",
       "4   ['NVDA', 'AAPL', 'XOM', 'MSFT', 'UNH', 'AMZN']  "
      ]
     },
     "execution_count": 50,
     "metadata": {},
     "output_type": "execute_result"
    }
   ],
   "source": [
    "user_data_df.head()"
   ]
  },
  {
   "cell_type": "code",
   "execution_count": 51,
   "id": "f82a7886",
   "metadata": {},
   "outputs": [],
   "source": [
    "#Sort user portfolio table to get new ranking. Sort by descending since higher sharpe ratio the better \n",
    "sorted_user_data_df = user_data_df.sort_values(by='Sharpe_Ratio', ascending=False)"
   ]
  },
  {
   "cell_type": "markdown",
   "id": "5c2da0e2",
   "metadata": {
    "tags": []
   },
   "source": [
    "# TOP 5 Players AFTER Rank is Updated"
   ]
  },
  {
   "cell_type": "code",
   "execution_count": 52,
   "id": "98ae0859",
   "metadata": {},
   "outputs": [
    {
     "data": {
      "text/html": [
       "<div>\n",
       "<style scoped>\n",
       "    .dataframe tbody tr th:only-of-type {\n",
       "        vertical-align: middle;\n",
       "    }\n",
       "\n",
       "    .dataframe tbody tr th {\n",
       "        vertical-align: top;\n",
       "    }\n",
       "\n",
       "    .dataframe thead th {\n",
       "        text-align: right;\n",
       "    }\n",
       "</style>\n",
       "<table border=\"1\" class=\"dataframe\">\n",
       "  <thead>\n",
       "    <tr style=\"text-align: right;\">\n",
       "      <th></th>\n",
       "      <th>UUID</th>\n",
       "      <th>User_Name</th>\n",
       "      <th>Sharpe_Ratio</th>\n",
       "      <th>Stocks</th>\n",
       "    </tr>\n",
       "  </thead>\n",
       "  <tbody>\n",
       "    <tr>\n",
       "      <th>0</th>\n",
       "      <td>85c7d8c0-c991-4824-8f4d-37535e5851bc</td>\n",
       "      <td>John</td>\n",
       "      <td>3.540897</td>\n",
       "      <td>['AAPL', 'AVGO', 'UNH', 'NVDA', 'V']</td>\n",
       "    </tr>\n",
       "    <tr>\n",
       "      <th>1</th>\n",
       "      <td>9911f3d6-2a1e-4956-b676-d14ddd12fe0e</td>\n",
       "      <td>alex_1</td>\n",
       "      <td>3.412431</td>\n",
       "      <td>['NVDA', 'AMZN', 'AAPL', 'MSFT']</td>\n",
       "    </tr>\n",
       "    <tr>\n",
       "      <th>2</th>\n",
       "      <td>db136baa-8bbd-470c-ae3c-38f6340ba7bd</td>\n",
       "      <td>Edward</td>\n",
       "      <td>3.337273</td>\n",
       "      <td>['BRK.B', 'AAPL', 'XOM', 'UNH', 'NVDA', 'MSFT']</td>\n",
       "    </tr>\n",
       "    <tr>\n",
       "      <th>3</th>\n",
       "      <td>866a252f-1fe7-4a3c-859f-ea1eb81f9348</td>\n",
       "      <td>Amy</td>\n",
       "      <td>3.296707</td>\n",
       "      <td>['BRK.B', 'AAPL', 'XOM', 'MSFT', 'META']</td>\n",
       "    </tr>\n",
       "    <tr>\n",
       "      <th>4</th>\n",
       "      <td>0331b7dd-f698-405a-912d-a6dd5c153436</td>\n",
       "      <td>Alissa</td>\n",
       "      <td>3.261231</td>\n",
       "      <td>['NVDA', 'AAPL', 'XOM', 'MSFT', 'UNH', 'AMZN']</td>\n",
       "    </tr>\n",
       "  </tbody>\n",
       "</table>\n",
       "</div>"
      ],
      "text/plain": [
       "                                   UUID User_Name  Sharpe_Ratio  \\\n",
       "0  85c7d8c0-c991-4824-8f4d-37535e5851bc     John       3.540897   \n",
       "1  9911f3d6-2a1e-4956-b676-d14ddd12fe0e    alex_1      3.412431   \n",
       "2  db136baa-8bbd-470c-ae3c-38f6340ba7bd    Edward      3.337273   \n",
       "3  866a252f-1fe7-4a3c-859f-ea1eb81f9348      Amy       3.296707   \n",
       "4  0331b7dd-f698-405a-912d-a6dd5c153436    Alissa      3.261231   \n",
       "\n",
       "                                            Stocks  \n",
       "0             ['AAPL', 'AVGO', 'UNH', 'NVDA', 'V']  \n",
       "1                 ['NVDA', 'AMZN', 'AAPL', 'MSFT']  \n",
       "2  ['BRK.B', 'AAPL', 'XOM', 'UNH', 'NVDA', 'MSFT']  \n",
       "3         ['BRK.B', 'AAPL', 'XOM', 'MSFT', 'META']  \n",
       "4   ['NVDA', 'AAPL', 'XOM', 'MSFT', 'UNH', 'AMZN']  "
      ]
     },
     "execution_count": 52,
     "metadata": {},
     "output_type": "execute_result"
    }
   ],
   "source": [
    "sorted_user_data_df.head()"
   ]
  },
  {
   "cell_type": "code",
   "execution_count": 53,
   "id": "3a87a2e1",
   "metadata": {},
   "outputs": [],
   "source": [
    "#Save new rank to user User_Portfolio_Data.csv Write the updated DataFrame back to the CSV file\n",
    "\n",
    "sorted_user_data_df.to_csv(user_data_to_load, index=False)\n",
    "\n",
    "#have to re-import the user portfolio data to get updated sorted list \n",
    "user_data_df = pd.read_csv(user_data_to_load, header=0, parse_dates=True)\n",
    "user_data_df.sort_index(ascending = True, inplace = True)"
   ]
  },
  {
   "cell_type": "code",
   "execution_count": 54,
   "id": "d734c7aa",
   "metadata": {},
   "outputs": [
    {
     "data": {
      "text/html": [
       "<div>\n",
       "<style scoped>\n",
       "    .dataframe tbody tr th:only-of-type {\n",
       "        vertical-align: middle;\n",
       "    }\n",
       "\n",
       "    .dataframe tbody tr th {\n",
       "        vertical-align: top;\n",
       "    }\n",
       "\n",
       "    .dataframe thead th {\n",
       "        text-align: right;\n",
       "    }\n",
       "</style>\n",
       "<table border=\"1\" class=\"dataframe\">\n",
       "  <thead>\n",
       "    <tr style=\"text-align: right;\">\n",
       "      <th></th>\n",
       "      <th>UUID</th>\n",
       "      <th>User_Name</th>\n",
       "      <th>Sharpe_Ratio</th>\n",
       "      <th>Stocks</th>\n",
       "    </tr>\n",
       "  </thead>\n",
       "  <tbody>\n",
       "    <tr>\n",
       "      <th>0</th>\n",
       "      <td>85c7d8c0-c991-4824-8f4d-37535e5851bc</td>\n",
       "      <td>John</td>\n",
       "      <td>3.540897</td>\n",
       "      <td>['AAPL', 'AVGO', 'UNH', 'NVDA', 'V']</td>\n",
       "    </tr>\n",
       "    <tr>\n",
       "      <th>1</th>\n",
       "      <td>9911f3d6-2a1e-4956-b676-d14ddd12fe0e</td>\n",
       "      <td>alex_1</td>\n",
       "      <td>3.412431</td>\n",
       "      <td>['NVDA', 'AMZN', 'AAPL', 'MSFT']</td>\n",
       "    </tr>\n",
       "    <tr>\n",
       "      <th>2</th>\n",
       "      <td>db136baa-8bbd-470c-ae3c-38f6340ba7bd</td>\n",
       "      <td>Edward</td>\n",
       "      <td>3.337273</td>\n",
       "      <td>['BRK.B', 'AAPL', 'XOM', 'UNH', 'NVDA', 'MSFT']</td>\n",
       "    </tr>\n",
       "    <tr>\n",
       "      <th>3</th>\n",
       "      <td>866a252f-1fe7-4a3c-859f-ea1eb81f9348</td>\n",
       "      <td>Amy</td>\n",
       "      <td>3.296707</td>\n",
       "      <td>['BRK.B', 'AAPL', 'XOM', 'MSFT', 'META']</td>\n",
       "    </tr>\n",
       "    <tr>\n",
       "      <th>4</th>\n",
       "      <td>0331b7dd-f698-405a-912d-a6dd5c153436</td>\n",
       "      <td>Alissa</td>\n",
       "      <td>3.261231</td>\n",
       "      <td>['NVDA', 'AAPL', 'XOM', 'MSFT', 'UNH', 'AMZN']</td>\n",
       "    </tr>\n",
       "  </tbody>\n",
       "</table>\n",
       "</div>"
      ],
      "text/plain": [
       "                                   UUID User_Name  Sharpe_Ratio  \\\n",
       "0  85c7d8c0-c991-4824-8f4d-37535e5851bc     John       3.540897   \n",
       "1  9911f3d6-2a1e-4956-b676-d14ddd12fe0e    alex_1      3.412431   \n",
       "2  db136baa-8bbd-470c-ae3c-38f6340ba7bd    Edward      3.337273   \n",
       "3  866a252f-1fe7-4a3c-859f-ea1eb81f9348      Amy       3.296707   \n",
       "4  0331b7dd-f698-405a-912d-a6dd5c153436    Alissa      3.261231   \n",
       "\n",
       "                                            Stocks  \n",
       "0             ['AAPL', 'AVGO', 'UNH', 'NVDA', 'V']  \n",
       "1                 ['NVDA', 'AMZN', 'AAPL', 'MSFT']  \n",
       "2  ['BRK.B', 'AAPL', 'XOM', 'UNH', 'NVDA', 'MSFT']  \n",
       "3         ['BRK.B', 'AAPL', 'XOM', 'MSFT', 'META']  \n",
       "4   ['NVDA', 'AAPL', 'XOM', 'MSFT', 'UNH', 'AMZN']  "
      ]
     },
     "execution_count": 54,
     "metadata": {},
     "output_type": "execute_result"
    }
   ],
   "source": [
    "#User Ranking of top 5 AFTER rank is updated  \n",
    "user_data_df.head()"
   ]
  },
  {
   "cell_type": "code",
   "execution_count": 55,
   "id": "46570cdb",
   "metadata": {},
   "outputs": [
    {
     "name": "stdout",
     "output_type": "stream",
     "text": [
      "Jim, your rank is 7\n"
     ]
    }
   ],
   "source": [
    "# Grab Postition of User Ranking \n",
    "\n",
    "condition = user_data_df['UUID'] == user_uuid_str\n",
    "matching_rows = user_data_df[condition]\n",
    "\n",
    "# Get the index of the first matching row (if any)\n",
    "if not matching_rows.empty:\n",
    "    row_index = matching_rows.index[0]\n",
    "#     print(f\"Index of the row: {row_index}\")\n",
    "    print(f\"{name}, your rank is {row_index + 1}\" )\n",
    "else:\n",
    "    print(\"Error, user info not found\")\n",
    "    \n",
    "rank = {row_index + 1}"
   ]
  },
  {
   "cell_type": "markdown",
   "id": "a5945fc4-5277-416c-bb93-b40bf8290327",
   "metadata": {
    "tags": []
   },
   "source": [
    "# User Performance Compared to Other Players Calulation and Market"
   ]
  },
  {
   "cell_type": "code",
   "execution_count": 56,
   "id": "9625e2a4-1407-48d3-94de-767f5d3b6521",
   "metadata": {},
   "outputs": [
    {
     "data": {
      "text/html": [
       "<div>\n",
       "<style scoped>\n",
       "    .dataframe tbody tr th:only-of-type {\n",
       "        vertical-align: middle;\n",
       "    }\n",
       "\n",
       "    .dataframe tbody tr th {\n",
       "        vertical-align: top;\n",
       "    }\n",
       "\n",
       "    .dataframe thead th {\n",
       "        text-align: right;\n",
       "    }\n",
       "</style>\n",
       "<table border=\"1\" class=\"dataframe\">\n",
       "  <thead>\n",
       "    <tr style=\"text-align: right;\">\n",
       "      <th></th>\n",
       "      <th>SP500</th>\n",
       "      <th>NDAQ</th>\n",
       "    </tr>\n",
       "    <tr>\n",
       "      <th>Date</th>\n",
       "      <th></th>\n",
       "      <th></th>\n",
       "    </tr>\n",
       "  </thead>\n",
       "  <tbody>\n",
       "    <tr>\n",
       "      <th>2023-02-02</th>\n",
       "      <td>0.014699</td>\n",
       "      <td>0.032540</td>\n",
       "    </tr>\n",
       "    <tr>\n",
       "      <th>2023-02-03</th>\n",
       "      <td>-0.010355</td>\n",
       "      <td>-0.015889</td>\n",
       "    </tr>\n",
       "    <tr>\n",
       "      <th>2023-02-06</th>\n",
       "      <td>-0.006140</td>\n",
       "      <td>-0.009953</td>\n",
       "    </tr>\n",
       "    <tr>\n",
       "      <th>2023-02-07</th>\n",
       "      <td>0.012873</td>\n",
       "      <td>0.019040</td>\n",
       "    </tr>\n",
       "    <tr>\n",
       "      <th>2023-02-08</th>\n",
       "      <td>-0.011081</td>\n",
       "      <td>-0.016780</td>\n",
       "    </tr>\n",
       "  </tbody>\n",
       "</table>\n",
       "</div>"
      ],
      "text/plain": [
       "               SP500      NDAQ\n",
       "Date                          \n",
       "2023-02-02  0.014699  0.032540\n",
       "2023-02-03 -0.010355 -0.015889\n",
       "2023-02-06 -0.006140 -0.009953\n",
       "2023-02-07  0.012873  0.019040\n",
       "2023-02-08 -0.011081 -0.016780"
      ]
     },
     "execution_count": 56,
     "metadata": {},
     "output_type": "execute_result"
    }
   ],
   "source": [
    "# Create a dataframe for market indicators and calculate daily returns and drop nulls \n",
    "sp_returns = raw_stocks_data_df.loc[raw_stocks_data_df[\"Ticker\"]==\"SPX\"]\n",
    "sp_returns = sp_returns[[\"Close_Price\"]].pct_change().dropna()\n",
    "\n",
    "ndaq_returns = raw_stocks_data_df.loc[raw_stocks_data_df[\"Ticker\"]==\"NDAQ\"]\n",
    "ndaq_returns = ndaq_returns[[\"Close_Price\"]].pct_change().dropna()\n",
    "\n",
    "# Rename columns to SP500 and NDAQ\n",
    "sp_returns.columns=[\"SP500\"]\n",
    "ndaq_returns.columns=[\"NDAQ\"]\n",
    "\n",
    "# Combine dataframes\n",
    "market_returns = pd.concat([sp_returns, ndaq_returns], axis=\"columns\", join=\"inner\")\n",
    "market_returns.head()"
   ]
  },
  {
   "cell_type": "code",
   "execution_count": 57,
   "id": "f096f0f0-9cc5-40db-b6cd-35ad2b744fa0",
   "metadata": {},
   "outputs": [
    {
     "data": {
      "text/html": [
       "<div>\n",
       "<style scoped>\n",
       "    .dataframe tbody tr th:only-of-type {\n",
       "        vertical-align: middle;\n",
       "    }\n",
       "\n",
       "    .dataframe tbody tr th {\n",
       "        vertical-align: top;\n",
       "    }\n",
       "\n",
       "    .dataframe thead th {\n",
       "        text-align: right;\n",
       "    }\n",
       "</style>\n",
       "<table border=\"1\" class=\"dataframe\">\n",
       "  <thead>\n",
       "    <tr style=\"text-align: right;\">\n",
       "      <th>Ticker</th>\n",
       "      <th>John</th>\n",
       "      <th>alex_1</th>\n",
       "      <th>Edward</th>\n",
       "    </tr>\n",
       "    <tr>\n",
       "      <th>Date</th>\n",
       "      <th></th>\n",
       "      <th></th>\n",
       "      <th></th>\n",
       "    </tr>\n",
       "  </thead>\n",
       "  <tbody>\n",
       "    <tr>\n",
       "      <th>2023-02-02</th>\n",
       "      <td>0.004038</td>\n",
       "      <td>0.048580</td>\n",
       "      <td>0.006789</td>\n",
       "    </tr>\n",
       "    <tr>\n",
       "      <th>2023-02-03</th>\n",
       "      <td>-0.002419</td>\n",
       "      <td>-0.027897</td>\n",
       "      <td>-0.004760</td>\n",
       "    </tr>\n",
       "    <tr>\n",
       "      <th>2023-02-06</th>\n",
       "      <td>-0.001694</td>\n",
       "      <td>-0.009067</td>\n",
       "      <td>-0.003284</td>\n",
       "    </tr>\n",
       "    <tr>\n",
       "      <th>2023-02-07</th>\n",
       "      <td>0.020832</td>\n",
       "      <td>0.027996</td>\n",
       "      <td>0.026565</td>\n",
       "    </tr>\n",
       "    <tr>\n",
       "      <th>2023-02-08</th>\n",
       "      <td>-0.005698</td>\n",
       "      <td>-0.009871</td>\n",
       "      <td>-0.004844</td>\n",
       "    </tr>\n",
       "  </tbody>\n",
       "</table>\n",
       "</div>"
      ],
      "text/plain": [
       "Ticker         John     alex_1    Edward\n",
       "Date                                    \n",
       "2023-02-02  0.004038  0.048580  0.006789\n",
       "2023-02-03 -0.002419 -0.027897 -0.004760\n",
       "2023-02-06 -0.001694 -0.009067 -0.003284\n",
       "2023-02-07  0.020832  0.027996  0.026565\n",
       "2023-02-08 -0.005698 -0.009871 -0.004844"
      ]
     },
     "execution_count": 57,
     "metadata": {},
     "output_type": "execute_result"
    }
   ],
   "source": [
    "# Create a dataframe for top players and calculate daily returns and drop nulls \n",
    "\n",
    "# Convert top stored user data from csv from stingify array back to a list so it can be used in calculations\n",
    "top_1_str_to_list = ast.literal_eval(user_data_df.loc[0, 'Stocks'])\n",
    "top_2_str_to_list = ast.literal_eval(user_data_df.loc[1, 'Stocks'])\n",
    "top_3_str_to_list = ast.literal_eval(user_data_df.loc[2, 'Stocks'])\n",
    "\n",
    "# Get data from file for tickers in user_data using \".loc\" and \".isin\"\n",
    "top_1_portfolio_returns = raw_stocks_data_df.loc[raw_stocks_data_df[\"Ticker\"].isin(top_1_str_to_list)]\n",
    "top_2_portfolio_returns = raw_stocks_data_df.loc[raw_stocks_data_df[\"Ticker\"].isin(top_2_str_to_list)]\n",
    "top_3_portfolio_returns = raw_stocks_data_df.loc[raw_stocks_data_df[\"Ticker\"].isin(top_3_str_to_list)]\n",
    "\n",
    "# Filter columns to get only the Ticker and Close Price and drop null values\n",
    "top_1_portfolio_returns = top_1_portfolio_returns[[\"Ticker\",\"Close_Price\"]].dropna()\n",
    "top_2_portfolio_returns = top_2_portfolio_returns[[\"Ticker\",\"Close_Price\"]].dropna()\n",
    "top_3_portfolio_returns = top_3_portfolio_returns[[\"Ticker\",\"Close_Price\"]].dropna()\n",
    "\n",
    "# Set tickers as columns\n",
    "top_1_portfolio_returns = top_1_portfolio_returns.pivot_table(\"Close_Price\",\"Date\",\"Ticker\")\n",
    "top_2_portfolio_returns = top_2_portfolio_returns.pivot_table(\"Close_Price\",\"Date\",\"Ticker\")\n",
    "top_3_portfolio_returns = top_3_portfolio_returns.pivot_table(\"Close_Price\",\"Date\",\"Ticker\")\n",
    "\n",
    "# Calculate daily returns using \"pct_change\" and drop null values \n",
    "top_1_portfolio_returns  = top_1_portfolio_returns .pct_change().dropna() \n",
    "top_2_portfolio_returns  = top_2_portfolio_returns .pct_change().dropna() \n",
    "top_3_portfolio_returns  = top_3_portfolio_returns .pct_change().dropna() \n",
    "\n",
    "# Get User name to locate portfolios\n",
    "top_1_user_name = user_data_df.loc[0, 'User_Name']\n",
    "top_2_user_name = user_data_df.loc[1, 'User_Name']\n",
    "top_3_user_name = user_data_df.loc[2, 'User_Name']\n",
    "\n",
    "# Get the porfolio using weights and keep only the porfolio column. Using numpy dot method to multiple the portfolio returns list with the weight list\n",
    "top_1_portfolio_returns[f\"{top_1_user_name}\"] = top_1_portfolio_returns.dot([1/len(top_1_str_to_list)] * len(top_1_str_to_list))\n",
    "top_1_portfolio_returns = top_1_portfolio_returns[[f\"{top_1_user_name}\"]]\n",
    "\n",
    "top_2_portfolio_returns[f\"{top_2_user_name}\"] = top_2_portfolio_returns.dot([1/len(top_2_str_to_list)] * len(top_2_str_to_list))\n",
    "top_2_portfolio_returns = top_2_portfolio_returns[[f\"{top_2_user_name}\"]]\n",
    "\n",
    "top_3_portfolio_returns[f\"{top_3_user_name}\"] = top_3_portfolio_returns.dot([1/len(top_3_str_to_list)] * len(top_3_str_to_list))\n",
    "top_3_portfolio_returns = top_3_portfolio_returns[[f\"{top_3_user_name}\"]]\n",
    "\n",
    "top_returns = pd.concat([top_1_portfolio_returns, top_2_portfolio_returns, top_3_portfolio_returns], axis=\"columns\", join=\"inner\")\n",
    "top_returns.head()\n"
   ]
  },
  {
   "cell_type": "code",
   "execution_count": 58,
   "id": "0ac386b6-3b79-44d2-96ee-521306e69d9c",
   "metadata": {},
   "outputs": [
    {
     "data": {
      "text/html": [
       "<div>\n",
       "<style scoped>\n",
       "    .dataframe tbody tr th:only-of-type {\n",
       "        vertical-align: middle;\n",
       "    }\n",
       "\n",
       "    .dataframe tbody tr th {\n",
       "        vertical-align: top;\n",
       "    }\n",
       "\n",
       "    .dataframe thead th {\n",
       "        text-align: right;\n",
       "    }\n",
       "</style>\n",
       "<table border=\"1\" class=\"dataframe\">\n",
       "  <thead>\n",
       "    <tr style=\"text-align: right;\">\n",
       "      <th></th>\n",
       "      <th>Portfolio</th>\n",
       "      <th>SP500</th>\n",
       "      <th>NDAQ</th>\n",
       "      <th>John</th>\n",
       "      <th>alex_1</th>\n",
       "      <th>Edward</th>\n",
       "    </tr>\n",
       "    <tr>\n",
       "      <th>Date</th>\n",
       "      <th></th>\n",
       "      <th></th>\n",
       "      <th></th>\n",
       "      <th></th>\n",
       "      <th></th>\n",
       "      <th></th>\n",
       "    </tr>\n",
       "  </thead>\n",
       "  <tbody>\n",
       "    <tr>\n",
       "      <th>2023-02-02</th>\n",
       "      <td>0.037063</td>\n",
       "      <td>0.014699</td>\n",
       "      <td>0.032540</td>\n",
       "      <td>0.004038</td>\n",
       "      <td>0.048580</td>\n",
       "      <td>0.006789</td>\n",
       "    </tr>\n",
       "    <tr>\n",
       "      <th>2023-02-03</th>\n",
       "      <td>0.024400</td>\n",
       "      <td>-0.010355</td>\n",
       "      <td>-0.015889</td>\n",
       "      <td>-0.002419</td>\n",
       "      <td>-0.027897</td>\n",
       "      <td>-0.004760</td>\n",
       "    </tr>\n",
       "    <tr>\n",
       "      <th>2023-02-06</th>\n",
       "      <td>-0.017929</td>\n",
       "      <td>-0.006140</td>\n",
       "      <td>-0.009953</td>\n",
       "      <td>-0.001694</td>\n",
       "      <td>-0.009067</td>\n",
       "      <td>-0.003284</td>\n",
       "    </tr>\n",
       "    <tr>\n",
       "      <th>2023-02-07</th>\n",
       "      <td>0.019245</td>\n",
       "      <td>0.012873</td>\n",
       "      <td>0.019040</td>\n",
       "      <td>0.020832</td>\n",
       "      <td>0.027996</td>\n",
       "      <td>0.026565</td>\n",
       "    </tr>\n",
       "    <tr>\n",
       "      <th>2023-02-08</th>\n",
       "      <td>-0.017653</td>\n",
       "      <td>-0.011081</td>\n",
       "      <td>-0.016780</td>\n",
       "      <td>-0.005698</td>\n",
       "      <td>-0.009871</td>\n",
       "      <td>-0.004844</td>\n",
       "    </tr>\n",
       "  </tbody>\n",
       "</table>\n",
       "</div>"
      ],
      "text/plain": [
       "            Portfolio     SP500      NDAQ     John     alex_1    Edward\n",
       "Date                                                                   \n",
       "2023-02-02   0.037063  0.014699  0.032540  0.004038  0.048580  0.006789\n",
       "2023-02-03   0.024400 -0.010355 -0.015889 -0.002419 -0.027897 -0.004760\n",
       "2023-02-06  -0.017929 -0.006140 -0.009953 -0.001694 -0.009067 -0.003284\n",
       "2023-02-07   0.019245  0.012873  0.019040  0.020832  0.027996  0.026565\n",
       "2023-02-08  -0.017653 -0.011081 -0.016780 -0.005698 -0.009871 -0.004844"
      ]
     },
     "execution_count": 58,
     "metadata": {},
     "output_type": "execute_result"
    }
   ],
   "source": [
    "# Join market_return, top players with portfolio \n",
    "top_portfolio_market_returns = pd.concat([portfolio_returns[\"Portfolio\"], market_returns, top_returns], axis=\"columns\", join=\"inner\")\n",
    "top_portfolio_market_returns.head()"
   ]
  },
  {
   "cell_type": "code",
   "execution_count": 59,
   "id": "6d11053c-339a-45ab-8280-c0e90d5ac93e",
   "metadata": {},
   "outputs": [
    {
     "data": {
      "text/plain": [
       "Portfolio    3.243119\n",
       "SP500        1.739253\n",
       "NDAQ         2.337676\n",
       "John         3.540897\n",
       "alex_1       3.412431\n",
       "Edward       3.337273\n",
       "dtype: float64"
      ]
     },
     "execution_count": 59,
     "metadata": {},
     "output_type": "execute_result"
    }
   ],
   "source": [
    "# Calculate sharp ratio - visulaize purposes - Portfolio and the Index\n",
    "top_portfolio_market_sharp_ratio = (top_portfolio_market_returns.mean() * (252)) / (top_portfolio_market_returns.std() * np.sqrt(252))\n",
    "top_portfolio_market_sharp_ratio"
   ]
  },
  {
   "cell_type": "code",
   "execution_count": 60,
   "id": "a5c8c85c-7162-4a00-abf0-7f13a5ff22f0",
   "metadata": {},
   "outputs": [
    {
     "data": {
      "text/html": [
       "<div>\n",
       "<style scoped>\n",
       "    .dataframe tbody tr th:only-of-type {\n",
       "        vertical-align: middle;\n",
       "    }\n",
       "\n",
       "    .dataframe tbody tr th {\n",
       "        vertical-align: top;\n",
       "    }\n",
       "\n",
       "    .dataframe thead th {\n",
       "        text-align: right;\n",
       "    }\n",
       "</style>\n",
       "<table border=\"1\" class=\"dataframe\">\n",
       "  <thead>\n",
       "    <tr style=\"text-align: right;\">\n",
       "      <th></th>\n",
       "      <th>Portfolio</th>\n",
       "      <th>SP500</th>\n",
       "      <th>NDAQ</th>\n",
       "      <th>John</th>\n",
       "      <th>alex_1</th>\n",
       "      <th>Edward</th>\n",
       "    </tr>\n",
       "    <tr>\n",
       "      <th>Date</th>\n",
       "      <th></th>\n",
       "      <th></th>\n",
       "      <th></th>\n",
       "      <th></th>\n",
       "      <th></th>\n",
       "      <th></th>\n",
       "    </tr>\n",
       "  </thead>\n",
       "  <tbody>\n",
       "    <tr>\n",
       "      <th>2023-02-02</th>\n",
       "      <td>1.037063</td>\n",
       "      <td>1.014699</td>\n",
       "      <td>1.032540</td>\n",
       "      <td>1.004038</td>\n",
       "      <td>1.048580</td>\n",
       "      <td>1.006789</td>\n",
       "    </tr>\n",
       "    <tr>\n",
       "      <th>2023-02-03</th>\n",
       "      <td>1.062367</td>\n",
       "      <td>1.004193</td>\n",
       "      <td>1.016134</td>\n",
       "      <td>1.001609</td>\n",
       "      <td>1.019328</td>\n",
       "      <td>1.001996</td>\n",
       "    </tr>\n",
       "    <tr>\n",
       "      <th>2023-02-06</th>\n",
       "      <td>1.043320</td>\n",
       "      <td>0.998026</td>\n",
       "      <td>1.006020</td>\n",
       "      <td>0.999912</td>\n",
       "      <td>1.010085</td>\n",
       "      <td>0.998706</td>\n",
       "    </tr>\n",
       "    <tr>\n",
       "      <th>2023-02-07</th>\n",
       "      <td>1.063398</td>\n",
       "      <td>1.010873</td>\n",
       "      <td>1.025175</td>\n",
       "      <td>1.020742</td>\n",
       "      <td>1.038364</td>\n",
       "      <td>1.025237</td>\n",
       "    </tr>\n",
       "    <tr>\n",
       "      <th>2023-02-08</th>\n",
       "      <td>1.044626</td>\n",
       "      <td>0.999672</td>\n",
       "      <td>1.007972</td>\n",
       "      <td>1.014926</td>\n",
       "      <td>1.028113</td>\n",
       "      <td>1.020270</td>\n",
       "    </tr>\n",
       "  </tbody>\n",
       "</table>\n",
       "</div>"
      ],
      "text/plain": [
       "            Portfolio     SP500      NDAQ     John     alex_1    Edward\n",
       "Date                                                                   \n",
       "2023-02-02   1.037063  1.014699  1.032540  1.004038  1.048580  1.006789\n",
       "2023-02-03   1.062367  1.004193  1.016134  1.001609  1.019328  1.001996\n",
       "2023-02-06   1.043320  0.998026  1.006020  0.999912  1.010085  0.998706\n",
       "2023-02-07   1.063398  1.010873  1.025175  1.020742  1.038364  1.025237\n",
       "2023-02-08   1.044626  0.999672  1.007972  1.014926  1.028113  1.020270"
      ]
     },
     "execution_count": 60,
     "metadata": {},
     "output_type": "execute_result"
    }
   ],
   "source": [
    "# Calculate cumulative returns to create plot\n",
    "top_portfolio_market_stocks_cum_return = (1 + top_portfolio_market_returns).cumprod()\n",
    "top_portfolio_market_stocks_cum_return.head()"
   ]
  },
  {
   "cell_type": "markdown",
   "id": "41136f8a",
   "metadata": {
    "tags": []
   },
   "source": [
    "# Visulization "
   ]
  },
  {
   "cell_type": "code",
   "execution_count": 61,
   "id": "a93f45a6",
   "metadata": {},
   "outputs": [],
   "source": [
    "#Visual Functions\n",
    "\n",
    "#User Portfolio Selections\n",
    "def user_portfolio():\n",
    "    stock_selection = (f'{name} your portfolio stock selections were {unique_user_portfolio_array}. Each of stock you selected was given an equal weight of {weight}. Your Sharpe Ratio is {round(user_sharpe_ratio,2)}. Your player rank is {rank}.')\n",
    "    return stock_selection\n",
    "  \n",
    "    \n",
    "#Line Plot of User Portfolio returns of individual stock and total user portfolio\n",
    "def user_portfolio_daily_returns():\n",
    "    user_daily_returns = portfolio_returns.hvplot(kind='line',\n",
    "                                                  color=['Blue','Orange','Red','Green','Purple','Black','Yellow','Brown','Teal','Navy','Gray','Maroon'],\n",
    "                                                  width=750,\n",
    "                                                  height=500,\n",
    "                                                  legend='top_left'\n",
    "                                                 )\n",
    "    return user_daily_returns\n",
    "\n",
    "# User Portfolio cumulative returns compared to indices & top players\n",
    "def all_players_and_market_returns():\n",
    "    all_returns = top_portfolio_market_stocks_cum_return.hvplot(kind='line',\n",
    "                                                                color=['Blue','Orange','Red','Green','Purple','Black','Yellow','Brown','Teal','Navy','Gray','Maroon'],\n",
    "                                                                width=750,\n",
    "                                                                height=500,\n",
    "                                                                legend='top_left'\n",
    "                                                               )\n",
    "    return all_returns\n",
    "\n",
    "# User Portfolio Sharpe Ration compared to indices & top players\n",
    "def get_all_sharpe_ratios():\n",
    "    all_sharpe_ratios = top_portfolio_market_sharp_ratio.hvplot(kind='bar',\n",
    "                                                                color=\"green\"\n",
    "                                                               ).opts(color=\"green\",\n",
    "                                                                      hover_color='blue'\n",
    "                                                                     )\n",
    "    return all_sharpe_ratios\n",
    "\n",
    "\n",
    "# Heatmap of User Portfolio Correlation    \n",
    "def get_portfolio_corr():\n",
    "    correlation = portfolio_returns.corr()\n",
    "    portfolio_corr = sns.heatmap(correlation, vmin=-1, vmax=1)\n",
    "    return portfolio_corr.figure\n",
    "\n",
    "# Heatmap of S&P500, NASDAQ and Top Portfolio Correlation\n",
    "def get_sp_corr():\n",
    "    correlation = sp_returns.corr()\n",
    "    sp_corr = sns.heatmap(correlation, vmin=-1, vmax=1)\n",
    "    return sp_corr.figure\n",
    "\n",
    "def get_ndaq_corr():\n",
    "    correlation = ndaq_returns.corr()\n",
    "    ndaq_corr = sns.heatmap(correlation, vmin=-1, vmax=1)\n",
    "    return ndaq_corr.figure\n",
    "\n",
    "def get_top_1_corr():\n",
    "    correlation = top_1_portfolio_returns.corr()\n",
    "    top_1_corr = sns.heatmap(correlation, vmin=-1, vmax=1)\n",
    "    return top_1_corr.figure\n",
    "\n",
    "def get_top_2_corr():\n",
    "    correlation = top_2_portfolio_returns.corr()\n",
    "    top_2_corr = sns.heatmap(correlation, vmin=-1, vmax=1)\n",
    "    return top_2_corr.figure\n",
    "\n",
    "def get_top_3_corr():\n",
    "    correlation = top_3_portfolio_returns.corr()\n",
    "    top_3_corr = sns.heatmap(correlation, vmin=-1, vmax=1)\n",
    "    return top_3_corr.figure\n",
    "\n"
   ]
  },
  {
   "cell_type": "code",
   "execution_count": 62,
   "id": "cab747df-3cdd-4b4e-a354-a6a3915b2d5a",
   "metadata": {},
   "outputs": [],
   "source": [
    "# Dashboard Panels and Tabs\n",
    "# Structuring panel layout on dashboard\n",
    "intro_column = pn.Column(\n",
    "    \"# GAME OF STOCKS\",\n",
    "    (f\"# Nice looking stock portfolio {name}!\"),\n",
    "    \"Now that you have created your very own stock portfolio, let's see how you match up to the competition. Navigate through the various tabs to see how your results compare to the S&P 500 and NASDAQ Indices as well as the other players.\",\n",
    "    \"## Your Portfolio Information\", user_portfolio(),\n",
    "    \"## Let's take a look at how your portfolio's overall performance compares to the Top 3 Players, S&P 500 and NASDAQ?\",all_players_and_market_returns(),\n",
    "    \"## Now let's zoom in to how each stock measured to your total portfolio performance?\",user_portfolio_daily_returns()\n",
    ")\n",
    "\n",
    "\n",
    "sharpe_ratio_column = pn.Column(\n",
    "    \"## How does your Sharpe Ratio compare to the other portfolios?\", get_all_sharpe_ratios(),\n",
    "    \"A Sharpe ratio less than 1 is considered bad. From 1 to 1.99 is considered adequate/good, from 2 to 2.99 is considered very good, and greater than 3 is considered excellent. The higher a fund's Sharpe ratio, the better its returns have been relative to the amount of investment risk taken.\"\n",
    ")\n",
    "\n",
    "\n",
    "\n",
    "correlation_column = pn.Column(\n",
    "    \"## Are your Portfolio stocks more or less correlated / aligned with each other?\", get_portfolio_corr(),\n",
    "    \"In investing, correlation describes how investments move relative to each other. Positively correlated assets move in the same direction, while negatively correlated assets move in opposite directions. The more correlated two assets are, the more risk they can potentially bring to your portfolio.\"\n",
    ")\n",
    "    \n",
    "nasdaq_correlation_column = pn.Column(get_ndaq_corr())\n",
    "sp500_correlation_column = pn.Column(get_sp_corr())\n",
    "\n",
    "concentration_column = pn.Column(\n",
    "    \"What does the industry make up of your portfolio look like?\", \n",
    "    \"## How balanced is your portfolio with the current selection of stocks?\"\n",
    ")\n",
    "\n",
    "game_of_stock_dashboard = pn.Tabs(\n",
    "    (\"Game of Stock Results\",intro_column),\n",
    "    (\"Sharpe Ratio\", sharpe_ratio_column),\n",
    "    (\"Correlation\", correlation_column),\n",
    "    (\"S&P 500 Correlation\",sp500_correlation_column),\n",
    "    (\"NASDAQ Correlation\",nasdaq_correlation_column),\n",
    "    (\"Portfolio Concentration\",concentration_column)\n",
    ")"
   ]
  },
  {
   "cell_type": "code",
   "execution_count": 63,
   "id": "d04418bd-7a6b-46fa-afd0-8441e5d3ee00",
   "metadata": {},
   "outputs": [
    {
     "data": {},
     "metadata": {},
     "output_type": "display_data"
    },
    {
     "data": {},
     "metadata": {},
     "output_type": "display_data"
    },
    {
     "data": {
      "application/vnd.holoviews_exec.v0+json": "",
      "text/html": [
       "<div id='2127'>\n",
       "  <div class=\"bk-root\" id=\"c0f718e4-418e-416b-9a68-f4fd2d31b566\" data-root-id=\"2127\"></div>\n",
       "</div>\n",
       "<script type=\"application/javascript\">(function(root) {\n",
       "  function embed_document(root) {\n",
       "    var docs_json = {\"7435043a-199e-4a17-8e1a-3a1f728750d2\":{\"defs\":[{\"extends\":null,\"module\":null,\"name\":\"ReactiveHTML1\",\"overrides\":[],\"properties\":[]},{\"extends\":null,\"module\":null,\"name\":\"FlexBox1\",\"overrides\":[],\"properties\":[{\"default\":\"flex-start\",\"kind\":null,\"name\":\"align_content\"},{\"default\":\"flex-start\",\"kind\":null,\"name\":\"align_items\"},{\"default\":\"row\",\"kind\":null,\"name\":\"flex_direction\"},{\"default\":\"wrap\",\"kind\":null,\"name\":\"flex_wrap\"},{\"default\":\"flex-start\",\"kind\":null,\"name\":\"justify_content\"}]},{\"extends\":null,\"module\":null,\"name\":\"GridStack1\",\"overrides\":[],\"properties\":[{\"default\":\"warn\",\"kind\":null,\"name\":\"mode\"},{\"default\":null,\"kind\":null,\"name\":\"ncols\"},{\"default\":null,\"kind\":null,\"name\":\"nrows\"},{\"default\":true,\"kind\":null,\"name\":\"allow_resize\"},{\"default\":true,\"kind\":null,\"name\":\"allow_drag\"},{\"default\":[],\"kind\":null,\"name\":\"state\"}]},{\"extends\":null,\"module\":null,\"name\":\"click1\",\"overrides\":[],\"properties\":[{\"default\":\"\",\"kind\":null,\"name\":\"terminal_output\"},{\"default\":\"\",\"kind\":null,\"name\":\"debug_name\"},{\"default\":0,\"kind\":null,\"name\":\"clears\"}]},{\"extends\":null,\"module\":null,\"name\":\"NotificationAreaBase1\",\"overrides\":[],\"properties\":[{\"default\":\"bottom-right\",\"kind\":null,\"name\":\"position\"},{\"default\":0,\"kind\":null,\"name\":\"_clear\"}]},{\"extends\":null,\"module\":null,\"name\":\"NotificationArea1\",\"overrides\":[],\"properties\":[{\"default\":[],\"kind\":null,\"name\":\"notifications\"},{\"default\":\"bottom-right\",\"kind\":null,\"name\":\"position\"},{\"default\":0,\"kind\":null,\"name\":\"_clear\"},{\"default\":[{\"background\":\"#ffc107\",\"icon\":{\"className\":\"fas fa-exclamation-triangle\",\"color\":\"white\",\"tagName\":\"i\"},\"type\":\"warning\"},{\"background\":\"#007bff\",\"icon\":{\"className\":\"fas fa-info-circle\",\"color\":\"white\",\"tagName\":\"i\"},\"type\":\"info\"}],\"kind\":null,\"name\":\"types\"}]},{\"extends\":null,\"module\":null,\"name\":\"Notification\",\"overrides\":[],\"properties\":[{\"default\":null,\"kind\":null,\"name\":\"background\"},{\"default\":3000,\"kind\":null,\"name\":\"duration\"},{\"default\":null,\"kind\":null,\"name\":\"icon\"},{\"default\":\"\",\"kind\":null,\"name\":\"message\"},{\"default\":null,\"kind\":null,\"name\":\"notification_type\"},{\"default\":false,\"kind\":null,\"name\":\"_destroyed\"}]},{\"extends\":null,\"module\":null,\"name\":\"TemplateActions1\",\"overrides\":[],\"properties\":[{\"default\":0,\"kind\":null,\"name\":\"open_modal\"},{\"default\":0,\"kind\":null,\"name\":\"close_modal\"}]},{\"extends\":null,\"module\":null,\"name\":\"MaterialTemplateActions1\",\"overrides\":[],\"properties\":[{\"default\":0,\"kind\":null,\"name\":\"open_modal\"},{\"default\":0,\"kind\":null,\"name\":\"close_modal\"}]}],\"roots\":{\"references\":[{\"attributes\":{\"height\":345,\"margin\":[5,5,5,5],\"name\":\"Matplotlib01931\",\"text\":\"&lt;img src=&quot;data:image/png;base64,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&quot; width=&quot;460px&quot; height=&quot;345px&quot; alt=&quot;&quot;&gt;&lt;/img&gt;\",\"width\":460},\"id\":\"2650\",\"type\":\"panel.models.markup.HTML\"},{\"attributes\":{\"line_alpha\":0.2,\"line_color\":\"Orange\",\"line_width\":2,\"tags\":[\"apply_ranges\"],\"x\":{\"field\":\"Date\"},\"y\":{\"field\":\"value\"}},\"id\":\"2217\",\"type\":\"Line\"},{\"attributes\":{\"overlay\":{\"id\":\"2465\"}},\"id\":\"2463\",\"type\":\"BoxZoomTool\"},{\"attributes\":{\"fill_color\":{\"value\":\"green\"},\"hatch_color\":{\"value\":\"green\"},\"tags\":[\"apply_ranges\"],\"top\":{\"field\":\"A_0\"},\"width\":{\"value\":0.8},\"x\":{\"field\":\"index\"}},\"id\":\"2612\",\"type\":\"VBar\"},{\"attributes\":{\"child\":{\"id\":\"2649\"},\"name\":\"Column01933\",\"title\":\"NASDAQ Correlation\"},\"id\":\"2651\",\"type\":\"Panel\"},{\"attributes\":{},\"id\":\"2464\",\"type\":\"ResetTool\"},{\"attributes\":{\"axis_label\":\"\",\"coordinates\":null,\"formatter\":{\"id\":\"2177\"},\"group\":null,\"major_label_policy\":{\"id\":\"2178\"},\"ticker\":{\"id\":\"2157\"}},\"id\":\"2156\",\"type\":\"LinearAxis\"},{\"attributes\":{\"callback\":null,\"renderers\":[{\"id\":\"2616\"}],\"tags\":[\"hv_created\"],\"tooltips\":[[\"index\",\"@{index}\"],[\"0\",\"@{A_0}\"]]},\"id\":\"2579\",\"type\":\"HoverTool\"},{\"attributes\":{\"css_classes\":[\"markdown\"],\"margin\":[5,5,5,5],\"name\":\"Markdown01783\",\"text\":\"&lt;h1&gt;Nice looking stock portfolio Jim!&lt;/h1&gt;\"},\"id\":\"2130\",\"type\":\"panel.models.markup.HTML\"},{\"attributes\":{\"coordinates\":null,\"data_source\":{\"id\":\"2212\"},\"glyph\":{\"id\":\"2215\"},\"group\":null,\"hover_glyph\":null,\"muted_glyph\":{\"id\":\"2217\"},\"nonselection_glyph\":{\"id\":\"2216\"},\"selection_glyph\":{\"id\":\"2245\"},\"view\":{\"id\":\"2219\"}},\"id\":\"2218\",\"type\":\"GlyphRenderer\"},{\"attributes\":{\"line_alpha\":0.1,\"line_color\":\"Blue\",\"line_width\":2,\"tags\":[\"apply_ranges\"],\"x\":{\"field\":\"Date\"},\"y\":{\"field\":\"value\"}},\"id\":\"2183\",\"type\":\"Line\"},{\"attributes\":{\"source\":{\"id\":\"2212\"}},\"id\":\"2219\",\"type\":\"CDSView\"},{\"attributes\":{\"line_color\":\"Purple\",\"line_width\":2,\"tags\":[\"apply_ranges\"],\"x\":{\"field\":\"Date\"},\"y\":{\"field\":\"value\"}},\"id\":\"2359\",\"type\":\"Line\"},{\"attributes\":{\"label\":{\"value\":\"SP500\"},\"renderers\":[{\"id\":\"2218\"}]},\"id\":\"2244\",\"type\":\"LegendItem\"},{\"attributes\":{\"line_alpha\":0.2,\"line_color\":\"Blue\",\"line_width\":2,\"tags\":[\"apply_ranges\"],\"x\":{\"field\":\"Date\"},\"y\":{\"field\":\"value\"}},\"id\":\"2184\",\"type\":\"Line\"},{\"attributes\":{\"mantissas\":[1,2,5],\"max_interval\":500.0,\"num_minor_ticks\":0},\"id\":\"2497\",\"type\":\"AdaptiveTicker\"},{\"attributes\":{},\"id\":\"2229\",\"type\":\"UnionRenderers\"},{\"attributes\":{\"line_alpha\":0.2,\"line_color\":\"Black\",\"line_width\":2,\"tags\":[\"apply_ranges\"],\"x\":{\"field\":\"Date\"},\"y\":{\"field\":\"value\"}},\"id\":\"2365\",\"type\":\"Line\"},{\"attributes\":{\"base\":60,\"mantissas\":[1,2,5,10,15,20,30],\"max_interval\":1800000.0,\"min_interval\":1000.0,\"num_minor_ticks\":0},\"id\":\"2498\",\"type\":\"AdaptiveTicker\"},{\"attributes\":{},\"id\":\"2361\",\"type\":\"Selection\"},{\"attributes\":{},\"id\":\"2624\",\"type\":\"AllLabels\"},{\"attributes\":{\"months\":[0,1,2,3,4,5,6,7,8,9,10,11]},\"id\":\"2504\",\"type\":\"MonthsTicker\"},{\"attributes\":{\"css_classes\":[\"markdown\"],\"margin\":[5,5,5,5],\"name\":\"Markdown01924\",\"text\":\"&lt;h2&gt;Are your Portfolio stocks more or less correlated / aligned with each other?&lt;/h2&gt;\"},\"id\":\"2642\",\"type\":\"panel.models.markup.HTML\"},{\"attributes\":{\"days\":[1,8,15,22]},\"id\":\"2502\",\"type\":\"DaysTicker\"},{\"attributes\":{\"click_policy\":\"mute\",\"coordinates\":null,\"group\":null,\"items\":[{\"id\":\"2210\"},{\"id\":\"2244\"},{\"id\":\"2280\"},{\"id\":\"2318\"},{\"id\":\"2358\"},{\"id\":\"2400\"}],\"location\":\"top_left\",\"title\":\"Variable\"},\"id\":\"2209\",\"type\":\"Legend\"},{\"attributes\":{},\"id\":\"2460\",\"type\":\"SaveTool\"},{\"attributes\":{},\"id\":\"2508\",\"type\":\"YearsTicker\"},{\"attributes\":{\"coordinates\":null,\"data_source\":{\"id\":\"2179\"},\"glyph\":{\"id\":\"2182\"},\"group\":null,\"hover_glyph\":null,\"muted_glyph\":{\"id\":\"2184\"},\"nonselection_glyph\":{\"id\":\"2183\"},\"selection_glyph\":{\"id\":\"2211\"},\"view\":{\"id\":\"2186\"}},\"id\":\"2185\",\"type\":\"GlyphRenderer\"},{\"attributes\":{\"css_classes\":[\"markdown\"],\"margin\":[5,5,5,5],\"name\":\"Markdown01921\",\"text\":\"&lt;p&gt;A Sharpe ratio less than 1 is considered bad. From 1 to 1.99 is considered adequate/good, from 2 to 2.99 is considered very good, and greater than 3 is considered excellent. The higher a fund&amp;rsquo;s Sharpe ratio, the better its returns have been relative to the amount of investment risk taken.&lt;/p&gt;\"},\"id\":\"2639\",\"type\":\"panel.models.markup.HTML\"},{\"attributes\":{\"base\":24,\"mantissas\":[1,2,4,6,8,12],\"max_interval\":43200000.0,\"min_interval\":3600000.0,\"num_minor_ticks\":0},\"id\":\"2499\",\"type\":\"AdaptiveTicker\"},{\"attributes\":{\"days\":[1,2,3,4,5,6,7,8,9,10,11,12,13,14,15,16,17,18,19,20,21,22,23,24,25,26,27,28,29,30,31]},\"id\":\"2500\",\"type\":\"DaysTicker\"},{\"attributes\":{},\"id\":\"2474\",\"type\":\"DatetimeTickFormatter\"},{\"attributes\":{\"source\":{\"id\":\"2179\"}},\"id\":\"2186\",\"type\":\"CDSView\"},{\"attributes\":{\"line_alpha\":0.1,\"line_color\":\"Black\",\"line_width\":2,\"tags\":[\"apply_ranges\"],\"x\":{\"field\":\"Date\"},\"y\":{\"field\":\"value\"}},\"id\":\"2364\",\"type\":\"Line\"},{\"attributes\":{\"label\":{\"value\":\"AAPL\"},\"renderers\":[{\"id\":\"2485\"}]},\"id\":\"2510\",\"type\":\"LegendItem\"},{\"attributes\":{\"days\":[1,4,7,10,13,16,19,22,25,28]},\"id\":\"2501\",\"type\":\"DaysTicker\"},{\"attributes\":{\"days\":[1,15]},\"id\":\"2503\",\"type\":\"DaysTicker\"},{\"attributes\":{\"line_alpha\":0.1,\"line_color\":\"Red\",\"line_width\":2,\"tags\":[\"apply_ranges\"],\"x\":{\"field\":\"Date\"},\"y\":{\"field\":\"value\"}},\"id\":\"2250\",\"type\":\"Line\"},{\"attributes\":{},\"id\":\"2157\",\"type\":\"BasicTicker\"},{\"attributes\":{\"source\":{\"id\":\"2479\"}},\"id\":\"2486\",\"type\":\"CDSView\"},{\"attributes\":{\"line_color\":\"Black\",\"line_width\":2,\"tags\":[\"apply_ranges\"],\"x\":{\"field\":\"Date\"},\"y\":{\"field\":\"value\"}},\"id\":\"2363\",\"type\":\"Line\"},{\"attributes\":{\"months\":[0,2,4,6,8,10]},\"id\":\"2505\",\"type\":\"MonthsTicker\"},{\"attributes\":{\"months\":[0,6]},\"id\":\"2507\",\"type\":\"MonthsTicker\"},{\"attributes\":{\"months\":[0,4,8]},\"id\":\"2506\",\"type\":\"MonthsTicker\"},{\"attributes\":{\"coordinates\":null,\"data_source\":{\"id\":\"2479\"},\"glyph\":{\"id\":\"2482\"},\"group\":null,\"hover_glyph\":null,\"muted_glyph\":{\"id\":\"2484\"},\"nonselection_glyph\":{\"id\":\"2483\"},\"selection_glyph\":{\"id\":\"2511\"},\"view\":{\"id\":\"2486\"}},\"id\":\"2485\",\"type\":\"GlyphRenderer\"},{\"attributes\":{\"axis\":{\"id\":\"2152\"},\"coordinates\":null,\"grid_line_color\":null,\"group\":null,\"ticker\":null},\"id\":\"2155\",\"type\":\"Grid\"},{\"attributes\":{\"child\":{\"id\":\"2575\"},\"name\":\"Column01923\",\"title\":\"Sharpe Ratio\"},\"id\":\"2640\",\"type\":\"Panel\"},{\"attributes\":{},\"id\":\"2461\",\"type\":\"PanTool\"},{\"attributes\":{},\"id\":\"2385\",\"type\":\"UnionRenderers\"},{\"attributes\":{\"children\":[{\"id\":\"2647\"}],\"margin\":[0,0,0,0],\"name\":\"Column01936\"},\"id\":\"2646\",\"type\":\"Column\"},{\"attributes\":{\"line_color\":\"Black\",\"line_width\":2,\"tags\":[\"apply_ranges\"],\"x\":{\"field\":\"Date\"},\"y\":{\"field\":\"value\"}},\"id\":\"2401\",\"type\":\"Line\"},{\"attributes\":{\"css_classes\":[\"markdown\"],\"margin\":[5,5,5,5],\"name\":\"Markdown01937\",\"text\":\"&lt;p&gt;What does the industry make up of your portfolio look like?&lt;/p&gt;\"},\"id\":\"2653\",\"type\":\"panel.models.markup.HTML\"},{\"attributes\":{\"click_policy\":\"mute\",\"coordinates\":null,\"group\":null,\"items\":[{\"id\":\"2510\"},{\"id\":\"2544\"}],\"location\":\"top_left\",\"title\":\"Ticker\"},\"id\":\"2509\",\"type\":\"Legend\"},{\"attributes\":{\"coordinates\":null,\"data_source\":{\"id\":\"2360\"},\"glyph\":{\"id\":\"2363\"},\"group\":null,\"hover_glyph\":null,\"muted_glyph\":{\"id\":\"2365\"},\"nonselection_glyph\":{\"id\":\"2364\"},\"selection_glyph\":{\"id\":\"2401\"},\"view\":{\"id\":\"2367\"}},\"id\":\"2366\",\"type\":\"GlyphRenderer\"},{\"attributes\":{\"line_alpha\":0.2,\"line_color\":\"Blue\",\"line_width\":2,\"tags\":[\"apply_ranges\"],\"x\":{\"field\":\"Date\"},\"y\":{\"field\":\"value\"}},\"id\":\"2484\",\"type\":\"Line\"},{\"attributes\":{\"source\":{\"id\":\"2360\"}},\"id\":\"2367\",\"type\":\"CDSView\"},{\"attributes\":{\"css_classes\":[\"markdown\"],\"margin\":[5,5,5,5],\"name\":\"Markdown01791\",\"text\":\"&lt;h2&gt;Let&amp;rsquo;s take a look at how your portfolio&amp;rsquo;s overall performance compares to the Top 3 Players, S&amp;amp;P 500 and NASDAQ?&lt;/h2&gt;\"},\"id\":\"2134\",\"type\":\"panel.models.markup.HTML\"},{\"attributes\":{\"line_alpha\":0.2,\"line_color\":\"Red\",\"line_width\":2,\"tags\":[\"apply_ranges\"],\"x\":{\"field\":\"Date\"},\"y\":{\"field\":\"value\"}},\"id\":\"2251\",\"type\":\"Line\"},{\"attributes\":{\"line_alpha\":0.1,\"line_color\":\"Blue\",\"line_width\":2,\"tags\":[\"apply_ranges\"],\"x\":{\"field\":\"Date\"},\"y\":{\"field\":\"value\"}},\"id\":\"2483\",\"type\":\"Line\"},{\"attributes\":{\"num_minor_ticks\":5,\"tickers\":[{\"id\":\"2197\"},{\"id\":\"2198\"},{\"id\":\"2199\"},{\"id\":\"2200\"},{\"id\":\"2201\"},{\"id\":\"2202\"},{\"id\":\"2203\"},{\"id\":\"2204\"},{\"id\":\"2205\"},{\"id\":\"2206\"},{\"id\":\"2207\"},{\"id\":\"2208\"}]},\"id\":\"2153\",\"type\":\"DatetimeTicker\"},{\"attributes\":{\"label\":{\"value\":\"Edward\"},\"renderers\":[{\"id\":\"2366\"}]},\"id\":\"2400\",\"type\":\"LegendItem\"},{\"attributes\":{},\"id\":\"2208\",\"type\":\"YearsTicker\"},{\"attributes\":{\"line_color\":\"Red\",\"line_width\":2,\"tags\":[\"apply_ranges\"],\"x\":{\"field\":\"Date\"},\"y\":{\"field\":\"value\"}},\"id\":\"2249\",\"type\":\"Line\"},{\"attributes\":{\"children\":[{\"id\":\"2653\"},{\"id\":\"2654\"}],\"margin\":[0,0,0,0],\"name\":\"Column01941\"},\"id\":\"2652\",\"type\":\"Column\"},{\"attributes\":{},\"id\":\"2180\",\"type\":\"Selection\"},{\"attributes\":{\"css_classes\":[\"markdown\"],\"margin\":[5,5,5,5],\"name\":\"Markdown01785\",\"text\":\"&lt;p&gt;Now that you have created your very own stock portfolio, let&amp;rsquo;s see how you match up to the competition. Navigate through the various tabs to see how your results compare to the S&amp;amp;P 500 and NASDAQ Indices as well as the other players.&lt;/p&gt;\"},\"id\":\"2131\",\"type\":\"panel.models.markup.HTML\"},{\"attributes\":{},\"id\":\"2480\",\"type\":\"Selection\"},{\"attributes\":{},\"id\":\"2265\",\"type\":\"UnionRenderers\"},{\"attributes\":{},\"id\":\"2636\",\"type\":\"UnionRenderers\"},{\"attributes\":{},\"id\":\"2247\",\"type\":\"Selection\"},{\"attributes\":{\"height\":345,\"margin\":[5,5,5,5],\"name\":\"Matplotlib01926\",\"text\":\"&lt;img src=&quot;data:image/png;base64,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&quot; width=&quot;460px&quot; height=&quot;345px&quot; alt=&quot;&quot;&gt;&lt;/img&gt;\",\"width\":460},\"id\":\"2643\",\"type\":\"panel.models.markup.HTML\"},{\"attributes\":{\"data\":{\"A_0\":{\"__ndarray__\":\"RuovXejxCUDs0wp4+tP7Px4HraaPswJAQUDOr8FTDECiBsOJqEwLQCAfq2m8sgpA\",\"dtype\":\"float64\",\"order\":\"little\",\"shape\":[6]},\"index\":[\"Portfolio\",\"SP500\",\"NDAQ\",\"John \",\"alex_1\",\"Edward\"]},\"selected\":{\"id\":\"2610\"},\"selection_policy\":{\"id\":\"2636\"}},\"id\":\"2609\",\"type\":\"ColumnDataSource\"},{\"attributes\":{},\"id\":\"2148\",\"type\":\"LinearScale\"},{\"attributes\":{\"coordinates\":null,\"data_source\":{\"id\":\"2246\"},\"glyph\":{\"id\":\"2249\"},\"group\":null,\"hover_glyph\":null,\"muted_glyph\":{\"id\":\"2251\"},\"nonselection_glyph\":{\"id\":\"2250\"},\"selection_glyph\":{\"id\":\"2281\"},\"view\":{\"id\":\"2253\"}},\"id\":\"2252\",\"type\":\"GlyphRenderer\"},{\"attributes\":{\"line_color\":\"Red\",\"line_width\":2,\"tags\":[\"apply_ranges\"],\"x\":{\"field\":\"Date\"},\"y\":{\"field\":\"value\"}},\"id\":\"2281\",\"type\":\"Line\"},{\"attributes\":{\"callback\":null,\"formatters\":{\"@{Date}\":\"datetime\"},\"renderers\":[{\"id\":\"2185\"},{\"id\":\"2218\"},{\"id\":\"2252\"},{\"id\":\"2288\"},{\"id\":\"2326\"},{\"id\":\"2366\"}],\"tags\":[\"hv_created\"],\"tooltips\":[[\"Variable\",\"@{Variable}\"],[\"Date\",\"@{Date}{%F %T}\"],[\"value\",\"@{value}\"]]},\"id\":\"2137\",\"type\":\"HoverTool\"},{\"attributes\":{},\"id\":\"2600\",\"type\":\"ResetTool\"},{\"attributes\":{\"source\":{\"id\":\"2246\"}},\"id\":\"2253\",\"type\":\"CDSView\"},{\"attributes\":{\"children\":[{\"id\":\"2576\"},{\"id\":\"2580\"},{\"id\":\"2639\"}],\"margin\":[0,0,0,0],\"name\":\"Column01923\"},\"id\":\"2575\",\"type\":\"Column\"},{\"attributes\":{\"label\":{\"value\":\"NDAQ\"},\"renderers\":[{\"id\":\"2252\"}]},\"id\":\"2280\",\"type\":\"LegendItem\"},{\"attributes\":{},\"id\":\"2194\",\"type\":\"UnionRenderers\"},{\"attributes\":{\"css_classes\":[\"markdown\"],\"margin\":[5,5,5,5],\"name\":\"Markdown01801\",\"text\":\"&lt;h2&gt;Now let&amp;rsquo;s zoom in to how each stock measured to your total portfolio performance?&lt;/h2&gt;\"},\"id\":\"2438\",\"type\":\"panel.models.markup.HTML\"},{\"attributes\":{\"coordinates\":null,\"data_source\":{\"id\":\"2609\"},\"glyph\":{\"id\":\"2612\"},\"group\":null,\"hover_glyph\":{\"id\":\"2614\"},\"muted_glyph\":{\"id\":\"2615\"},\"nonselection_glyph\":{\"id\":\"2613\"},\"selection_glyph\":{\"id\":\"2618\"},\"view\":{\"id\":\"2617\"}},\"id\":\"2616\",\"type\":\"GlyphRenderer\"},{\"attributes\":{\"css_classes\":[\"markdown\"],\"margin\":[5,5,5,5],\"name\":\"Markdown01781\",\"text\":\"&lt;h1&gt;GAME OF STOCKS&lt;/h1&gt;\"},\"id\":\"2129\",\"type\":\"panel.models.markup.HTML\"},{\"attributes\":{\"below\":[{\"id\":\"2589\"}],\"center\":[{\"id\":\"2591\"},{\"id\":\"2595\"}],\"height\":300,\"left\":[{\"id\":\"2592\"}],\"margin\":[5,5,5,5],\"min_border_bottom\":10,\"min_border_left\":10,\"min_border_right\":10,\"min_border_top\":10,\"output_backend\":\"webgl\",\"renderers\":[{\"id\":\"2616\"}],\"sizing_mode\":\"fixed\",\"title\":{\"id\":\"2581\"},\"toolbar\":{\"id\":\"2602\"},\"width\":700,\"x_range\":{\"id\":\"2577\"},\"x_scale\":{\"id\":\"2585\"},\"y_range\":{\"id\":\"2578\"},\"y_scale\":{\"id\":\"2587\"}},\"id\":\"2580\",\"subtype\":\"Figure\",\"type\":\"Plot\"},{\"attributes\":{},\"id\":\"2587\",\"type\":\"LinearScale\"},{\"attributes\":{},\"id\":\"2162\",\"type\":\"WheelZoomTool\"},{\"attributes\":{\"axis\":{\"id\":\"2156\"},\"coordinates\":null,\"dimension\":1,\"grid_line_color\":null,\"group\":null,\"ticker\":null},\"id\":\"2159\",\"type\":\"Grid\"},{\"attributes\":{\"active_drag\":{\"id\":\"2161\"},\"active_scroll\":{\"id\":\"2162\"},\"tools\":[{\"id\":\"2137\"},{\"id\":\"2160\"},{\"id\":\"2161\"},{\"id\":\"2162\"},{\"id\":\"2163\"},{\"id\":\"2164\"}]},\"id\":\"2166\",\"type\":\"Toolbar\"},{\"attributes\":{},\"id\":\"2621\",\"type\":\"AllLabels\"},{\"attributes\":{\"line_color\":\"Blue\",\"line_width\":2,\"tags\":[\"apply_ranges\"],\"x\":{\"field\":\"Date\"},\"y\":{\"field\":\"value\"}},\"id\":\"2182\",\"type\":\"Line\"},{\"attributes\":{\"line_color\":\"Orange\",\"line_width\":2,\"tags\":[\"apply_ranges\"],\"x\":{\"field\":\"Date\"},\"y\":{\"field\":\"value\"}},\"id\":\"2245\",\"type\":\"Line\"},{\"attributes\":{\"coordinates\":null,\"group\":null,\"text\":\"0\",\"text_color\":\"black\",\"text_font_size\":\"12pt\"},\"id\":\"2581\",\"type\":\"Title\"},{\"attributes\":{},\"id\":\"2177\",\"type\":\"BasicTickFormatter\"},{\"attributes\":{\"end\":1.610377827483996,\"reset_end\":1.610377827483996,\"reset_start\":0.8747404466842751,\"start\":-0.03404043834977104,\"tags\":[[[\"value\",\"value\",null]]]},\"id\":\"2136\",\"type\":\"Range1d\"},{\"attributes\":{\"bottom_units\":\"screen\",\"coordinates\":null,\"fill_alpha\":0.5,\"fill_color\":\"lightgrey\",\"group\":null,\"left_units\":\"screen\",\"level\":\"overlay\",\"line_alpha\":1.0,\"line_color\":\"black\",\"line_dash\":[4,4],\"line_width\":2,\"right_units\":\"screen\",\"syncable\":false,\"top_units\":\"screen\"},\"id\":\"2165\",\"type\":\"BoxAnnotation\"},{\"attributes\":{},\"id\":\"2175\",\"type\":\"AllLabels\"},{\"attributes\":{},\"id\":\"2174\",\"type\":\"DatetimeTickFormatter\"},{\"attributes\":{\"factors\":[\"Portfolio\",\"SP500\",\"NDAQ\",\"John \",\"alex_1\",\"Edward\"],\"tags\":[[[\"index\",\"index\",null]]]},\"id\":\"2577\",\"type\":\"FactorRange\"},{\"attributes\":{},\"id\":\"2160\",\"type\":\"SaveTool\"},{\"attributes\":{\"css_classes\":[\"markdown\"],\"margin\":[5,5,5,5],\"name\":\"Markdown01787\",\"text\":\"&lt;h2&gt;Your Portfolio Information&lt;/h2&gt;\"},\"id\":\"2132\",\"type\":\"panel.models.markup.HTML\"},{\"attributes\":{},\"id\":\"2164\",\"type\":\"ResetTool\"},{\"attributes\":{},\"id\":\"2178\",\"type\":\"AllLabels\"},{\"attributes\":{\"data\":{\"Date\":{\"__ndarray__\":\"AACAxPZgeEIAAEAqSWF4QgAAgFtAYnhCAABAwZJieEIAAAAn5WJ4QgAAwIw3Y3hCAACA8oljeEIAAMAjgWR4QgAAgInTZHhCAABA7yVleEIAAABVeGV4QgAAwLrKZXhCAADAURRneEIAAIC3Zmd4QgAAQB25Z3hCAAAAgwtoeEIAAEC0Aml4QgAAABpVaXhCAADAf6dpeEIAAIDl+Wl4QgAAQEtManhCAACAfENreEIAAEDilWt4QgAAAEjoa3hCAADArTpseEIAAIATjWx4QgAAwESEbXhCAACAqtZteEIAAEAQKW54QgAAAHZ7bnhCAADA281ueEIAAAANxW94QgAAwHIXcHhCAACA2GlweEIAAEA+vHB4QgAAAKQOcXhCAABA1QVyeEIAAAA7WHJ4QgAAwKCqcnhCAACABv1yeEIAAEBsT3N4QgAAgJ1GdHhCAABAA5l0eEIAAABp63R4QgAAwM49dXhCAADAZYd2eEIAAIDL2XZ4QgAAQDEsd3hCAAAAl353eEIAAMD80Hd4QgAAAC7IeHhCAADAkxp5eEIAAID5bHl4QgAAQF+/eXhCAAAAxRF6eEIAAED2CHt4QgAAAFxbe3hCAADAwa17eEIAAIAnAHx4QgAAQI1SfHhCAACAvkl9eEIAAEAknH14QgAAAIrufXhCAADA70B+eEIAAIBVk354QgAAwIaKf3hCAACA7Nx/eEIAAEBSL4B4QgAAALiBgHhCAADAHdSAeEIAAABPy4F4QgAAwLQdgnhCAACAGnCCeEIAAECAwoJ4QgAAAOYUg3hCAABAFwyEeEIAAAB9XoR4QgAAwOKwhHhCAACASAOFeEIAAECuVYV4QgAAQEWfhnhCAAAAq/GGeEIAAMAQRId4QgAAgHaWh3hCAADAp42IeEIAAIAN4Ih4QgAAQHMyiXhCAAAA2YSJeEIAAMA+14l4QgAAAHDOinhCAADA1SCLeEIAAIA7c4t4QgAAQKHFi3hCAAAABxiMeEIAAACeYY14QgAAwAO0jXhCAACAaQaOeEIAAEDPWI54QgAAgABQj3hCAABAZqKPeEIAAADM9I94QgAAwDFHkHhCAACAl5mQeEIAAMDIkJF4QgAAQJQ1knhCAAAA+oeSeEIAAMBf2pJ4QgAAAJHRk3hCAADA9iOUeEIAAIBcdpR4QgAAQMLIlHhCAAAAKBuVeEIAAEBZEpZ4QgAAAL9klnhCAADAJLeWeEIAAICKCZd4QgAAQPBbl3hCAACAIVOYeEIAAECHpZh4QgAAAO33mHhCAADAUkqZeEIAAIC4nJl4QgAAwOmTmnhC\",\"dtype\":\"float64\",\"order\":\"little\",\"shape\":[123]},\"Variable\":[\"John \",\"John \",\"John \",\"John \",\"John \",\"John \",\"John \",\"John \",\"John \",\"John \",\"John \",\"John \",\"John \",\"John \",\"John \",\"John \",\"John \",\"John \",\"John \",\"John \",\"John \",\"John \",\"John \",\"John \",\"John \",\"John \",\"John \",\"John \",\"John \",\"John \",\"John \",\"John \",\"John \",\"John \",\"John \",\"John \",\"John \",\"John \",\"John \",\"John \",\"John \",\"John \",\"John \",\"John \",\"John \",\"John \",\"John \",\"John \",\"John \",\"John \",\"John \",\"John \",\"John \",\"John \",\"John \",\"John \",\"John \",\"John \",\"John \",\"John \",\"John \",\"John \",\"John \",\"John \",\"John \",\"John \",\"John \",\"John \",\"John \",\"John \",\"John \",\"John \",\"John \",\"John \",\"John \",\"John \",\"John \",\"John \",\"John \",\"John \",\"John \",\"John \",\"John \",\"John \",\"John \",\"John \",\"John \",\"John \",\"John \",\"John \",\"John \",\"John \",\"John \",\"John \",\"John \",\"John \",\"John \",\"John \",\"John \",\"John \",\"John \",\"John \",\"John \",\"John \",\"John \",\"John \",\"John \",\"John \",\"John \",\"John \",\"John \",\"John \",\"John \",\"John \",\"John \",\"John \",\"John \",\"John \",\"John \",\"John \",\"John \",\"John \",\"John \"],\"value\":{\"__ndarray__\":\"viMb8okQ8D9kKRrmlgbwP2DYwfRH/+8/xJdb/PVU8D8FmJUkIz3wP6+etWpnOvA/tEPnsosR8D/YcxOiFEjwP+rT3GcWcfA/An9nKU148D/7H0jfRzfwPzc24cyjHvA/7IJ5MVOC7z9956+lf3PvP7gWWaWgQPA/+urR6FMJ8D/vftYi5yPwPxxexKBaFfA/j0V7Ry7e7z9Ce0hKdBbwP2SDhljVifA/RtVklwqd8D+cgS1QBmPwP2c4pcBGivA/xC5s+PVD8D8yuHx6hgbwP4jX/RdEE/A/EBJoqjNt8D+ym2PvXWXwP1B3lgqowPA/vp3iu+O18D/M9TZ10erwPxhZLIaWCvE/0FbUcsjz8D8BZHLMyhzxP9ZnhqXVF/E/uk2TAQ0G8T/c4QRA9eTwPzOMpjCuCvE/uM82KIku8T8FoPapxGTxP+ODd6ShqfE/fzfdX8eD8T8zt0vtZX7xP3gc+PIvffE/a0xxZ4yN8T+r/3WGJYPxPwawlnnXX/E/z0W8m6Oj8T8ZiQ+rYJHxPy2kOeyll/E/hPoX2J+68T/H+j+52KfxPz5vScDrj/E/DGGVcqF+8T+yVdkWooTxP5ogVxooSfE/YKjSrDtD8T+BqNEWdnnxP83zkmyWrvE/9yETEVHq8T9T0k+pg4/xPyz+3aLMcvE/NFA0g1tY8T+mr/3pMOjxP2LmRGkJ9PE/YYaTOBDJ8T820j4bpN/xP5iyKbx81fE/jNX4NNLS8T88qdLP8e3xPyqhvw3a4fE/K4B2iaYs8j/qh3G6n33yP0iHLZTvdfI/LKiMiwxk8j9TSEkzvDTyP8B7e4tEIfI/lZ77QqxL8z+Mg9zenfPzP5YHcQVr/vM/5hatRdrW8z+gjTxQ7Cr0P3fjmpgPWPQ/M1RuZIEz9D8Mi1tzbgT0P3ObSWrzx/M/+qEeS2cJ9D89BOtdhRz0P+z8WGhXivQ/80fxBsqb9D8BYdBQYrr0P/QpSiJe1fQ/jblTG5O59D9tdM3HpeP0P9VhiA5OxvQ/p28p60rb9D+YARAcXKz0P68goQq8cfQ/vTT/lRvQ9D+krAut9LP0P/4L7iCQ4vQ/B/ueD+g/9T+1JUADl0H1Pyw8r6s7HvU/4ET/dj8D9T+KAFGbxOj0P3iGjplUB/U/VyJXrMcZ9T/4sL44pED1P1xIEflpdPU/cVVXOc619T8LPT8PXwn2P1q3CniVLvY/zDtUPIY19j+MBc/dvOz1P9EyCPby1fU/e1sg6Q309T/H93ty2yP2P5dkPqaT9vU/fg7kERHo9T9IwNV69hT2PyugrT/gJ/Y/\",\"dtype\":\"float64\",\"order\":\"little\",\"shape\":[123]}},\"selected\":{\"id\":\"2283\"},\"selection_policy\":{\"id\":\"2303\"}},\"id\":\"2282\",\"type\":\"ColumnDataSource\"},{\"attributes\":{\"overlay\":{\"id\":\"2165\"}},\"id\":\"2163\",\"type\":\"BoxZoomTool\"},{\"attributes\":{\"axis\":{\"id\":\"2456\"},\"coordinates\":null,\"dimension\":1,\"grid_line_color\":null,\"group\":null,\"ticker\":null},\"id\":\"2459\",\"type\":\"Grid\"},{\"attributes\":{\"children\":[{\"id\":\"2650\"}],\"margin\":[0,0,0,0],\"name\":\"Column01933\"},\"id\":\"2649\",\"type\":\"Column\"},{\"attributes\":{},\"id\":\"2213\",\"type\":\"Selection\"},{\"attributes\":{},\"id\":\"2283\",\"type\":\"Selection\"},{\"attributes\":{\"bottom_units\":\"screen\",\"coordinates\":null,\"fill_alpha\":0.5,\"fill_color\":\"lightgrey\",\"group\":null,\"left_units\":\"screen\",\"level\":\"overlay\",\"line_alpha\":1.0,\"line_color\":\"black\",\"line_dash\":[4,4],\"line_width\":2,\"right_units\":\"screen\",\"syncable\":false,\"top_units\":\"screen\"},\"id\":\"2601\",\"type\":\"BoxAnnotation\"},{\"attributes\":{\"line_color\":\"Blue\",\"line_width\":2,\"tags\":[\"apply_ranges\"],\"x\":{\"field\":\"Date\"},\"y\":{\"field\":\"value\"}},\"id\":\"2511\",\"type\":\"Line\"},{\"attributes\":{\"line_alpha\":0.2,\"line_color\":\"Green\",\"line_width\":2,\"tags\":[\"apply_ranges\"],\"x\":{\"field\":\"Date\"},\"y\":{\"field\":\"value\"}},\"id\":\"2287\",\"type\":\"Line\"},{\"attributes\":{\"css_classes\":[\"markdown\"],\"margin\":[5,5,5,5],\"name\":\"Markdown01928\",\"text\":\"&lt;p&gt;In investing, correlation describes how investments move relative to each other. Positively correlated assets move in the same direction, while negatively correlated assets move in opposite directions. The more correlated two assets are, the more risk they can potentially bring to your portfolio.&lt;/p&gt;\"},\"id\":\"2644\",\"type\":\"panel.models.markup.HTML\"},{\"attributes\":{\"axis\":{\"id\":\"2452\"},\"coordinates\":null,\"grid_line_color\":null,\"group\":null,\"ticker\":null},\"id\":\"2455\",\"type\":\"Grid\"},{\"attributes\":{},\"id\":\"2513\",\"type\":\"Selection\"},{\"attributes\":{},\"id\":\"2475\",\"type\":\"AllLabels\"},{\"attributes\":{\"axis_label\":\"Date\",\"coordinates\":null,\"formatter\":{\"id\":\"2474\"},\"group\":null,\"major_label_policy\":{\"id\":\"2475\"},\"ticker\":{\"id\":\"2453\"}},\"id\":\"2452\",\"type\":\"DatetimeAxis\"},{\"attributes\":{\"margin\":[0,0,0,0],\"tabs\":[{\"id\":\"2574\"},{\"id\":\"2640\"},{\"id\":\"2645\"},{\"id\":\"2648\"},{\"id\":\"2651\"},{\"id\":\"2655\"}]},\"id\":\"2127\",\"type\":\"panel.models.tabs.Tabs\"},{\"attributes\":{},\"id\":\"2450\",\"type\":\"LinearScale\"},{\"attributes\":{\"end\":1690761600000.0,\"reset_end\":1690761600000.0,\"reset_start\":1675296000000.0,\"start\":1675296000000.0,\"tags\":[[[\"Date\",\"Date\",null]]]},\"id\":\"2135\",\"type\":\"Range1d\"},{\"attributes\":{\"data\":{\"Date\":{\"__ndarray__\":\"AACAxPZgeEIAAEAqSWF4QgAAgFtAYnhCAABAwZJieEIAAAAn5WJ4QgAAwIw3Y3hCAACA8oljeEIAAMAjgWR4QgAAgInTZHhCAABA7yVleEIAAABVeGV4QgAAwLrKZXhCAADAURRneEIAAIC3Zmd4QgAAQB25Z3hCAAAAgwtoeEIAAEC0Aml4QgAAABpVaXhCAADAf6dpeEIAAIDl+Wl4QgAAQEtManhCAACAfENreEIAAEDilWt4QgAAAEjoa3hCAADArTpseEIAAIATjWx4QgAAwESEbXhCAACAqtZteEIAAEAQKW54QgAAAHZ7bnhCAADA281ueEIAAAANxW94QgAAwHIXcHhCAACA2GlweEIAAEA+vHB4QgAAAKQOcXhCAABA1QVyeEIAAAA7WHJ4QgAAwKCqcnhCAACABv1yeEIAAEBsT3N4QgAAgJ1GdHhCAABAA5l0eEIAAABp63R4QgAAwM49dXhCAADAZYd2eEIAAIDL2XZ4QgAAQDEsd3hCAAAAl353eEIAAMD80Hd4QgAAAC7IeHhCAADAkxp5eEIAAID5bHl4QgAAQF+/eXhCAAAAxRF6eEIAAED2CHt4QgAAAFxbe3hCAADAwa17eEIAAIAnAHx4QgAAQI1SfHhCAACAvkl9eEIAAEAknH14QgAAAIrufXhCAADA70B+eEIAAIBVk354QgAAwIaKf3hCAACA7Nx/eEIAAEBSL4B4QgAAALiBgHhCAADAHdSAeEIAAABPy4F4QgAAwLQdgnhCAACAGnCCeEIAAECAwoJ4QgAAAOYUg3hCAABAFwyEeEIAAAB9XoR4QgAAwOKwhHhCAACASAOFeEIAAECuVYV4QgAAQEWfhnhCAAAAq/GGeEIAAMAQRId4QgAAgHaWh3hCAADAp42IeEIAAIAN4Ih4QgAAQHMyiXhCAAAA2YSJeEIAAMA+14l4QgAAAHDOinhCAADA1SCLeEIAAIA7c4t4QgAAQKHFi3hCAAAABxiMeEIAAACeYY14QgAAwAO0jXhCAACAaQaOeEIAAEDPWI54QgAAgABQj3hCAABAZqKPeEIAAADM9I94QgAAwDFHkHhCAACAl5mQeEIAAMDIkJF4QgAAQJQ1knhCAAAA+oeSeEIAAMBf2pJ4QgAAAJHRk3hCAADA9iOUeEIAAIBcdpR4QgAAQMLIlHhCAAAAKBuVeEIAAEBZEpZ4QgAAAL9klnhCAADAJLeWeEIAAICKCZd4QgAAQPBbl3hCAACAIVOYeEIAAECHpZh4QgAAAO33mHhCAADAUkqZeEIAAIC4nJl4QgAAwOmTmnhC\",\"dtype\":\"float64\",\"order\":\"little\",\"shape\":[123]},\"Variable\":[\"NDAQ\",\"NDAQ\",\"NDAQ\",\"NDAQ\",\"NDAQ\",\"NDAQ\",\"NDAQ\",\"NDAQ\",\"NDAQ\",\"NDAQ\",\"NDAQ\",\"NDAQ\",\"NDAQ\",\"NDAQ\",\"NDAQ\",\"NDAQ\",\"NDAQ\",\"NDAQ\",\"NDAQ\",\"NDAQ\",\"NDAQ\",\"NDAQ\",\"NDAQ\",\"NDAQ\",\"NDAQ\",\"NDAQ\",\"NDAQ\",\"NDAQ\",\"NDAQ\",\"NDAQ\",\"NDAQ\",\"NDAQ\",\"NDAQ\",\"NDAQ\",\"NDAQ\",\"NDAQ\",\"NDAQ\",\"NDAQ\",\"NDAQ\",\"NDAQ\",\"NDAQ\",\"NDAQ\",\"NDAQ\",\"NDAQ\",\"NDAQ\",\"NDAQ\",\"NDAQ\",\"NDAQ\",\"NDAQ\",\"NDAQ\",\"NDAQ\",\"NDAQ\",\"NDAQ\",\"NDAQ\",\"NDAQ\",\"NDAQ\",\"NDAQ\",\"NDAQ\",\"NDAQ\",\"NDAQ\",\"NDAQ\",\"NDAQ\",\"NDAQ\",\"NDAQ\",\"NDAQ\",\"NDAQ\",\"NDAQ\",\"NDAQ\",\"NDAQ\",\"NDAQ\",\"NDAQ\",\"NDAQ\",\"NDAQ\",\"NDAQ\",\"NDAQ\",\"NDAQ\",\"NDAQ\",\"NDAQ\",\"NDAQ\",\"NDAQ\",\"NDAQ\",\"NDAQ\",\"NDAQ\",\"NDAQ\",\"NDAQ\",\"NDAQ\",\"NDAQ\",\"NDAQ\",\"NDAQ\",\"NDAQ\",\"NDAQ\",\"NDAQ\",\"NDAQ\",\"NDAQ\",\"NDAQ\",\"NDAQ\",\"NDAQ\",\"NDAQ\",\"NDAQ\",\"NDAQ\",\"NDAQ\",\"NDAQ\",\"NDAQ\",\"NDAQ\",\"NDAQ\",\"NDAQ\",\"NDAQ\",\"NDAQ\",\"NDAQ\",\"NDAQ\",\"NDAQ\",\"NDAQ\",\"NDAQ\",\"NDAQ\",\"NDAQ\",\"NDAQ\",\"NDAQ\",\"NDAQ\",\"NDAQ\",\"NDAQ\",\"NDAQ\",\"NDAQ\",\"NDAQ\"],\"value\":{\"__ndarray__\":\"CwBjZEiF8D8KQ0NTFULwP4Vp+gyoGPA/Lm+SYR1n8D9djTNGpyDwP1e9NzR27e8/AMPPiOu77z+l90QuKRrwP7tqMWzbMfA/bBwh1CNY8D+kgm0asg3wPzOqETrc6+8/R4GqKV0f7z8E1SGIminvP9SDYuFfY+8/g2Kfx93b7j9NFidjzw3vP5jDOQbhBe8/Nkg38yXR7j8A9F14CQvvP0x9zBy9p+8/bJZg9ome7z/0viuzujnvP/qhwS1kWe8//8h/AKS07j+9spo1WiruPyHCsEz7TO4/8wTk3ePy7j/tfZn++vbuP8WkqnNWu+8/0+cOky5/7z+FIXB3Zp7vP9KYregtD/A/Mv3UIYia7z+UXJRM8+vvP6xSivilAvA/Hi6dSBXf7z9H5wd6gbrvP+hM6kIaJvA/OxgzBVdE8D/4rULpl4zwP/Y3I2xXgfA/DloeLXZr8D/2ugsOlT7wPzu+dzwpXvA/AaIDxulc8D+fg5S3uErwP//WsVotJ/A/kI0BcE558D+2r4BheGrwP4PKrbZXdvA/XHjoPtl08D+xoS07LHbwP0xRxwdRVPA/yguSxclY8D9hY9/PkEzwP/EDnHQa9O8/2Z7AxC4N8D+46iAG+nDwP73PRlM2jvA/Yaa/vl2J8D+yPDkglFvwPyQJ83hzSPA/hI2eCwY08D/TF3blRZHwP00Nn6+6mPA/Uepj5uh98D8dZLQS5anwP6tjlI6LsfA/gJ0/bF+i8D+RSkJNRL7wPxuX0tSVtvA/1DyDGTDt8D9a/qgccy7xP2oR6IG5I/E/kg/DdIU58T+rk9oU4AHxPwMa1OF/5/A//40h9Kcx8T+lgP4T4pHxP0XCGxJaoPE/SGAg/+CD8T/IJo1EUL3xPxFbqC7F7fE/8c7t39bp8T8SDx/AIPrxP1dtjiCsvvE/bMmfhP3s8T8qIVhUI/TxPynaNvRtOvI/2ArOjAth8j8uIwnzeHPyP848QYGqqfI/HsWIiFeJ8j/IIQRqnoHyP6cKAGNkSPI/hg2vced08j8fyhFjCUXyP5Y76VW0DvI//+ObS+1a8j/hSIgFb2fyP1IBP8BJZ/I/dg+7E2+r8j/r/zk3b7XyP+OEcBO6rPI/JIzbGrGF8j+o1AllV3/yPxCAlJbsh/I/oS6Dlf+h8j89RgqF29jyP5xp4aH7JPM/pzdurVwc8z83EmLB20nzP2bE9d2Ib/M/0Pfxiw1x8z+/FUEW5QrzPwVDIodSAPM/Z2o6FVsJ8z8B2ssuDyfzPxrsBMMRIfM/kwNCuVEG8z91WGxGt2LzP2FExKvkbPM/\",\"dtype\":\"float64\",\"order\":\"little\",\"shape\":[123]}},\"selected\":{\"id\":\"2247\"},\"selection_policy\":{\"id\":\"2265\"}},\"id\":\"2246\",\"type\":\"ColumnDataSource\"},{\"attributes\":{\"num_minor_ticks\":5,\"tickers\":[{\"id\":\"2497\"},{\"id\":\"2498\"},{\"id\":\"2499\"},{\"id\":\"2500\"},{\"id\":\"2501\"},{\"id\":\"2502\"},{\"id\":\"2503\"},{\"id\":\"2504\"},{\"id\":\"2505\"},{\"id\":\"2506\"},{\"id\":\"2507\"},{\"id\":\"2508\"}]},\"id\":\"2453\",\"type\":\"DatetimeTicker\"},{\"attributes\":{\"line_color\":\"Green\",\"line_width\":2,\"tags\":[\"apply_ranges\"],\"x\":{\"field\":\"Date\"},\"y\":{\"field\":\"value\"}},\"id\":\"2285\",\"type\":\"Line\"},{\"attributes\":{\"child\":{\"id\":\"2641\"},\"name\":\"Column01930\",\"title\":\"Correlation\"},\"id\":\"2645\",\"type\":\"Panel\"},{\"attributes\":{\"coordinates\":null,\"group\":null,\"text_color\":\"black\",\"text_font_size\":\"12pt\"},\"id\":\"2144\",\"type\":\"Title\"},{\"attributes\":{\"line_alpha\":0.2,\"line_color\":\"Orange\",\"line_width\":2,\"tags\":[\"apply_ranges\"],\"x\":{\"field\":\"Date\"},\"y\":{\"field\":\"value\"}},\"id\":\"2517\",\"type\":\"Line\"},{\"attributes\":{\"mantissas\":[1,2,5],\"max_interval\":500.0,\"num_minor_ticks\":0},\"id\":\"2197\",\"type\":\"AdaptiveTicker\"},{\"attributes\":{\"data\":{\"Date\":{\"__ndarray__\":\"AACAxPZgeEIAAEAqSWF4QgAAgFtAYnhCAABAwZJieEIAAAAn5WJ4QgAAwIw3Y3hCAACA8oljeEIAAMAjgWR4QgAAgInTZHhCAABA7yVleEIAAABVeGV4QgAAwLrKZXhCAADAURRneEIAAIC3Zmd4QgAAQB25Z3hCAAAAgwtoeEIAAEC0Aml4QgAAABpVaXhCAADAf6dpeEIAAIDl+Wl4QgAAQEtManhCAACAfENreEIAAEDilWt4QgAAAEjoa3hCAADArTpseEIAAIATjWx4QgAAwESEbXhCAACAqtZteEIAAEAQKW54QgAAAHZ7bnhCAADA281ueEIAAAANxW94QgAAwHIXcHhCAACA2GlweEIAAEA+vHB4QgAAAKQOcXhCAABA1QVyeEIAAAA7WHJ4QgAAwKCqcnhCAACABv1yeEIAAEBsT3N4QgAAgJ1GdHhCAABAA5l0eEIAAABp63R4QgAAwM49dXhCAADAZYd2eEIAAIDL2XZ4QgAAQDEsd3hCAAAAl353eEIAAMD80Hd4QgAAAC7IeHhCAADAkxp5eEIAAID5bHl4QgAAQF+/eXhCAAAAxRF6eEIAAED2CHt4QgAAAFxbe3hCAADAwa17eEIAAIAnAHx4QgAAQI1SfHhCAACAvkl9eEIAAEAknH14QgAAAIrufXhCAADA70B+eEIAAIBVk354QgAAwIaKf3hCAACA7Nx/eEIAAEBSL4B4QgAAALiBgHhCAADAHdSAeEIAAABPy4F4QgAAwLQdgnhCAACAGnCCeEIAAECAwoJ4QgAAAOYUg3hCAABAFwyEeEIAAAB9XoR4QgAAwOKwhHhCAACASAOFeEIAAECuVYV4QgAAQEWfhnhCAAAAq/GGeEIAAMAQRId4QgAAgHaWh3hCAADAp42IeEIAAIAN4Ih4QgAAQHMyiXhCAAAA2YSJeEIAAMA+14l4QgAAAHDOinhCAADA1SCLeEIAAIA7c4t4QgAAQKHFi3hCAAAABxiMeEIAAACeYY14QgAAwAO0jXhCAACAaQaOeEIAAEDPWI54QgAAgABQj3hCAABAZqKPeEIAAADM9I94QgAAwDFHkHhCAACAl5mQeEIAAMDIkJF4QgAAQJQ1knhCAAAA+oeSeEIAAMBf2pJ4QgAAAJHRk3hCAADA9iOUeEIAAIBcdpR4QgAAQMLIlHhCAAAAKBuVeEIAAEBZEpZ4QgAAAL9klnhCAADAJLeWeEIAAICKCZd4QgAAQPBbl3hCAACAIVOYeEIAAECHpZh4QgAAAO33mHhCAADAUkqZeEIAAIC4nJl4QgAAwOmTmnhC\",\"dtype\":\"float64\",\"order\":\"little\",\"shape\":[123]},\"Variable\":[\"Edward\",\"Edward\",\"Edward\",\"Edward\",\"Edward\",\"Edward\",\"Edward\",\"Edward\",\"Edward\",\"Edward\",\"Edward\",\"Edward\",\"Edward\",\"Edward\",\"Edward\",\"Edward\",\"Edward\",\"Edward\",\"Edward\",\"Edward\",\"Edward\",\"Edward\",\"Edward\",\"Edward\",\"Edward\",\"Edward\",\"Edward\",\"Edward\",\"Edward\",\"Edward\",\"Edward\",\"Edward\",\"Edward\",\"Edward\",\"Edward\",\"Edward\",\"Edward\",\"Edward\",\"Edward\",\"Edward\",\"Edward\",\"Edward\",\"Edward\",\"Edward\",\"Edward\",\"Edward\",\"Edward\",\"Edward\",\"Edward\",\"Edward\",\"Edward\",\"Edward\",\"Edward\",\"Edward\",\"Edward\",\"Edward\",\"Edward\",\"Edward\",\"Edward\",\"Edward\",\"Edward\",\"Edward\",\"Edward\",\"Edward\",\"Edward\",\"Edward\",\"Edward\",\"Edward\",\"Edward\",\"Edward\",\"Edward\",\"Edward\",\"Edward\",\"Edward\",\"Edward\",\"Edward\",\"Edward\",\"Edward\",\"Edward\",\"Edward\",\"Edward\",\"Edward\",\"Edward\",\"Edward\",\"Edward\",\"Edward\",\"Edward\",\"Edward\",\"Edward\",\"Edward\",\"Edward\",\"Edward\",\"Edward\",\"Edward\",\"Edward\",\"Edward\",\"Edward\",\"Edward\",\"Edward\",\"Edward\",\"Edward\",\"Edward\",\"Edward\",\"Edward\",\"Edward\",\"Edward\",\"Edward\",\"Edward\",\"Edward\",\"Edward\",\"Edward\",\"Edward\",\"Edward\",\"Edward\",\"Edward\",\"Edward\",\"Edward\",\"Edward\",\"Edward\",\"Edward\",\"Edward\",\"Edward\",\"Edward\"],\"value\":{\"__ndarray__\":\"SH1NZ84b8D9DUVI3LQjwP1YVmalm9e8/DARXoV5n8D/tJkD0BlPwP4PGmK6cTfA/s3qCjhdb8D/ayPL1YZHwP3t4Pt93pPA/ADPu5XGZ8D8JK9ZIe1zwP1eUKdHvLvA/Nh5r40K97z/a2YSmNqvvP++Df+kzSfA/LNxpUksa8D8atVYiqyfwP0ntWSeODfA/t83B81vf7z8uGN8m9x/wP3aZ7tcCafA/nmNQqA+E8D9qmgF0r0XwP4oVNAaCVvA/UBc731wW8D804dW77MXvP2WDDmX06+8/krH1puk78D8n38G4vBzwP5xcViH8efA/9iGl/p1j8D9DoGbjj5DwP6uHx9IN0PA/16+jBP+r8D/2dKupxL7wP+dNgDfBzPA/hWvKHPDS8D+9cCkmUsXwP0YgJTMJ+/A/Vt1kjnIe8T8hbRU9Nk3xP/UFbzwhpvE/Z6UYPCCK8T/VgFIl8ZLxP4oKIa2ErPE/aDA0hEiq8T+wbJwMrZjxPwOXudcahvE/+/0QeYDC8T8MZ8psvbDxP9zJMl0DtvE/gFyjLJbc8T/x/P0xvcfxP+9D3c9QpPE/TOwKF2ya8T/gKv3FUqnxP/RY7ybXcPE/qiB0IdSd8T82urT60/TxP5f3kK5PIfI/a18qP3wu8j/jBapK3OnxP0wRBOb1u/E/ygxujE+Y8T+A2EnCcg3yP2zAENqpGvI/e0KGtyf58T+8Ea4wFAjyPxpU+46C6vE/LBfC5pPf8T9rwsoeoeXxP49Td6Pm1PE/05auRPwX8j9FAS9zuFfyP7ihsEP+UfI/1UbFTvNI8j/ZqF53+hzyP0Z1OvXtGvI/ft5x1FPk8j+GT3o7nBrzPzGqQsWPMfM/iPhCEgX38j86HbYP0FDzP+JvswfZf/M/ZPveo01v8z96L1eCW17zP+6dU9uFM/M/fQXJ5BJo8z/nzS3oUnHzP4Ahep/4jPM/kGxLmG228z8ie8hhWqjzP6ibAmtl4PM/fzPit9G28z9qoHRXT8TzP8eSpTUmvPM/4dU/NonU8z8BNUURE6jzP/LY0sGbgvM/GA6oT/PC8z835uIB7LHzP3qusxg7wPM/Sae+DxAW9D/DLlYbfgr0P0u3LUmM8vM/lZcYD9zU8z/0KB6WbsDzPwMKoQops/M/sZaYoWjG8z/pshN9Y+zzP3K4tDlTCvQ/PqRma1si9D84CVY44lf0P13f82jrp/Q/NFbLkc+g9D9LcnCyp4H0P+op7JYOY/Q/VyWAaiSL9D/3cCfMCbP0P79fb4gRjfQ/ikgUB2J69D/twg0ZX530P1KFYr/bvvQ/\",\"dtype\":\"float64\",\"order\":\"little\",\"shape\":[123]}},\"selected\":{\"id\":\"2361\"},\"selection_policy\":{\"id\":\"2385\"}},\"id\":\"2360\",\"type\":\"ColumnDataSource\"},{\"attributes\":{\"reload\":false},\"id\":\"3053\",\"type\":\"panel.models.location.Location\"},{\"attributes\":{\"line_alpha\":0.1,\"line_color\":\"Orange\",\"line_width\":2,\"tags\":[\"apply_ranges\"],\"x\":{\"field\":\"Date\"},\"y\":{\"field\":\"value\"}},\"id\":\"2516\",\"type\":\"Line\"},{\"attributes\":{\"line_alpha\":0.1,\"line_color\":\"Green\",\"line_width\":2,\"tags\":[\"apply_ranges\"],\"x\":{\"field\":\"Date\"},\"y\":{\"field\":\"value\"}},\"id\":\"2286\",\"type\":\"Line\"},{\"attributes\":{\"line_color\":\"Orange\",\"line_width\":2,\"tags\":[\"apply_ranges\"],\"x\":{\"field\":\"Date\"},\"y\":{\"field\":\"value\"}},\"id\":\"2215\",\"type\":\"Line\"},{\"attributes\":{\"data\":{\"Date\":{\"__ndarray__\":\"AACAxPZgeEIAAEAqSWF4QgAAgFtAYnhCAABAwZJieEIAAAAn5WJ4QgAAwIw3Y3hCAACA8oljeEIAAMAjgWR4QgAAgInTZHhCAABA7yVleEIAAABVeGV4QgAAwLrKZXhCAADAURRneEIAAIC3Zmd4QgAAQB25Z3hCAAAAgwtoeEIAAEC0Aml4QgAAABpVaXhCAADAf6dpeEIAAIDl+Wl4QgAAQEtManhCAACAfENreEIAAEDilWt4QgAAAEjoa3hCAADArTpseEIAAIATjWx4QgAAwESEbXhCAACAqtZteEIAAEAQKW54QgAAAHZ7bnhCAADA281ueEIAAAANxW94QgAAwHIXcHhCAACA2GlweEIAAEA+vHB4QgAAAKQOcXhCAABA1QVyeEIAAAA7WHJ4QgAAwKCqcnhCAACABv1yeEIAAEBsT3N4QgAAgJ1GdHhCAABAA5l0eEIAAABp63R4QgAAwM49dXhCAADAZYd2eEIAAIDL2XZ4QgAAQDEsd3hCAAAAl353eEIAAMD80Hd4QgAAAC7IeHhCAADAkxp5eEIAAID5bHl4QgAAQF+/eXhCAAAAxRF6eEIAAED2CHt4QgAAAFxbe3hCAADAwa17eEIAAIAnAHx4QgAAQI1SfHhCAACAvkl9eEIAAEAknH14QgAAAIrufXhCAADA70B+eEIAAIBVk354QgAAwIaKf3hCAACA7Nx/eEIAAEBSL4B4QgAAALiBgHhCAADAHdSAeEIAAABPy4F4QgAAwLQdgnhCAACAGnCCeEIAAECAwoJ4QgAAAOYUg3hCAABAFwyEeEIAAAB9XoR4QgAAwOKwhHhCAACASAOFeEIAAECuVYV4QgAAQEWfhnhCAAAAq/GGeEIAAMAQRId4QgAAgHaWh3hCAADAp42IeEIAAIAN4Ih4QgAAQHMyiXhCAAAA2YSJeEIAAMA+14l4QgAAAHDOinhCAADA1SCLeEIAAIA7c4t4QgAAQKHFi3hCAAAABxiMeEIAAACeYY14QgAAwAO0jXhCAACAaQaOeEIAAEDPWI54QgAAgABQj3hCAABAZqKPeEIAAADM9I94QgAAwDFHkHhCAACAl5mQeEIAAMDIkJF4QgAAQJQ1knhCAAAA+oeSeEIAAMBf2pJ4QgAAAJHRk3hCAADA9iOUeEIAAIBcdpR4QgAAQMLIlHhCAAAAKBuVeEIAAEBZEpZ4QgAAAL9klnhCAADAJLeWeEIAAICKCZd4QgAAQPBbl3hCAACAIVOYeEIAAECHpZh4QgAAAO33mHhCAADAUkqZeEIAAIC4nJl4QgAAwOmTmnhC\",\"dtype\":\"float64\",\"order\":\"little\",\"shape\":[123]},\"Ticker\":[\"Portfolio\",\"Portfolio\",\"Portfolio\",\"Portfolio\",\"Portfolio\",\"Portfolio\",\"Portfolio\",\"Portfolio\",\"Portfolio\",\"Portfolio\",\"Portfolio\",\"Portfolio\",\"Portfolio\",\"Portfolio\",\"Portfolio\",\"Portfolio\",\"Portfolio\",\"Portfolio\",\"Portfolio\",\"Portfolio\",\"Portfolio\",\"Portfolio\",\"Portfolio\",\"Portfolio\",\"Portfolio\",\"Portfolio\",\"Portfolio\",\"Portfolio\",\"Portfolio\",\"Portfolio\",\"Portfolio\",\"Portfolio\",\"Portfolio\",\"Portfolio\",\"Portfolio\",\"Portfolio\",\"Portfolio\",\"Portfolio\",\"Portfolio\",\"Portfolio\",\"Portfolio\",\"Portfolio\",\"Portfolio\",\"Portfolio\",\"Portfolio\",\"Portfolio\",\"Portfolio\",\"Portfolio\",\"Portfolio\",\"Portfolio\",\"Portfolio\",\"Portfolio\",\"Portfolio\",\"Portfolio\",\"Portfolio\",\"Portfolio\",\"Portfolio\",\"Portfolio\",\"Portfolio\",\"Portfolio\",\"Portfolio\",\"Portfolio\",\"Portfolio\",\"Portfolio\",\"Portfolio\",\"Portfolio\",\"Portfolio\",\"Portfolio\",\"Portfolio\",\"Portfolio\",\"Portfolio\",\"Portfolio\",\"Portfolio\",\"Portfolio\",\"Portfolio\",\"Portfolio\",\"Portfolio\",\"Portfolio\",\"Portfolio\",\"Portfolio\",\"Portfolio\",\"Portfolio\",\"Portfolio\",\"Portfolio\",\"Portfolio\",\"Portfolio\",\"Portfolio\",\"Portfolio\",\"Portfolio\",\"Portfolio\",\"Portfolio\",\"Portfolio\",\"Portfolio\",\"Portfolio\",\"Portfolio\",\"Portfolio\",\"Portfolio\",\"Portfolio\",\"Portfolio\",\"Portfolio\",\"Portfolio\",\"Portfolio\",\"Portfolio\",\"Portfolio\",\"Portfolio\",\"Portfolio\",\"Portfolio\",\"Portfolio\",\"Portfolio\",\"Portfolio\",\"Portfolio\",\"Portfolio\",\"Portfolio\",\"Portfolio\",\"Portfolio\",\"Portfolio\",\"Portfolio\",\"Portfolio\",\"Portfolio\",\"Portfolio\",\"Portfolio\",\"Portfolio\",\"Portfolio\"],\"value\":{\"__ndarray__\":\"IGu7R9v5oj/Aws+4TPyYP2DPGpPtW5K/wOJ1seK0kz+giYX1kBOSv4Af+VhET3y/AFgnEDhoTj8AUkpgEEKTPwB25XIfTnG/gBsP/WF5jD+AgnV+A1yFvwAf+CpE6X6/AJHRiPFRm78AlnsaYblnPwBwWLjX9Go/ALtB5/5vkr8ASmkyGeSAPwCt4bKUPmy/wH0nJv8sjb8A5eq5relwP8AcaC5V96E/gCrKl/v7kj9AacxDWrCNvwCeZ1cfKIE/QGK2M5CLjr/AgUNvdWyMv4Cpz3kzK4s/gFp4ssrajD8AOqNte3llP0AlQkWHJJM/AGCc0ORWdr8AIGD7AbaPP4BohtIkdog/gKgXeNakgr8AcCtmE4x8PwAigyd/AoE/QOeUrzktib8Aj0lzok1wv0BO9sABRJQ/gMaLjihBhD9AZfuqCwWQPwDoHInAi38/ADUd2BSfar+AdgNgVB+HvwBCC1rQgnY/oGF1WQtbkL8AFuOx7xd/vwAW906y1HG/oK4vyQl2oT8Ap1YVdVFhvwCAt2oRvB8/AAuF/zy9fj8AzCf8tYp8PwD5WsEx8ne/gINsqAwIhL8AdNegQMdePwCLnr0CU4O/AIAFMcABEL/AiU50ohOdPwCgkfRv434/ALxUMmdhQb+AI1UIKFx5vwDz0qB2fXq/wBFq9npNhL8AsZJMywaoPwBoF/wsbjq/wJ99VcVrhL8AsQYXj1eFPwAUuhqZ71E/gJgirEPRe78AUNRYPLxnvwAAAAAAAAAAAJxCFW2EbT+AQ3vR+fyLPwB42E1Vl0Q/AGLVGu9ydr+AV7nllAmPvwDUecdyvVo/ADDTDVtpez+A1ap4AuOMPwAP7d2o1IU/ABAFsU57Mr/Aq/pEOGiQPwAosgNcj3M/ANcLte0Cf78ATQcA5eBgv4CvHCgIxX+/AGoUgSesjz8AvPJnfLFhP0Bhdh+fA5A/AJcRExVlZb8A8K0b5plsPwBdfXBX74Y/AEAY7owAeL8AkMN7a+U/PwCFBT0OP3e/wA4BOwTskD8AHAAqawlcv4C5vpHt736/ANTClE7Xjj8AI5E3Jet5PwD4AWZXb10/QLU9ei2olz+Apljn2+J/vwBWPHyODHi/ACAWUj2NZD8A1fdzayF4v8DW/xycO4a/ANyMDhAFZ78AsiSBAmeCPwCxSn+knnA/AACNB9HLST+A+O9xjbiRPwB8eZ2F9VW/ABQ0Zzb3fD/AaKUz8K2EvwAzXxL2PHm/AE3EFRBJcT8AF6xJ33xyPwDGfyDDnXI/ACV9hqf0er8ALFIfCqqLPwAOwGSb72k/\",\"dtype\":\"float64\",\"order\":\"little\",\"shape\":[123]}},\"selected\":{\"id\":\"2513\"},\"selection_policy\":{\"id\":\"2529\"}},\"id\":\"2512\",\"type\":\"ColumnDataSource\"},{\"attributes\":{\"base\":60,\"mantissas\":[1,2,5,10,15,20,30],\"max_interval\":1800000.0,\"min_interval\":1000.0,\"num_minor_ticks\":0},\"id\":\"2198\",\"type\":\"AdaptiveTicker\"},{\"attributes\":{},\"id\":\"2303\",\"type\":\"UnionRenderers\"},{\"attributes\":{\"callback\":null,\"formatters\":{\"@{Date}\":\"datetime\"},\"renderers\":[{\"id\":\"2485\"},{\"id\":\"2518\"}],\"tags\":[\"hv_created\"],\"tooltips\":[[\"Ticker\",\"@{Ticker}\"],[\"Date\",\"@{Date}{%F %T}\"],[\"value\",\"@{value}\"]]},\"id\":\"2441\",\"type\":\"HoverTool\"},{\"attributes\":{\"months\":[0,1,2,3,4,5,6,7,8,9,10,11]},\"id\":\"2204\",\"type\":\"MonthsTicker\"},{\"attributes\":{\"css_classes\":[\"markdown\"],\"margin\":[5,5,5,5],\"name\":\"Markdown01939\",\"text\":\"&lt;h2&gt;How balanced is your portfolio with the current selection of stocks?&lt;/h2&gt;\"},\"id\":\"2654\",\"type\":\"panel.models.markup.HTML\"},{\"attributes\":{\"axis_label\":\"\",\"coordinates\":null,\"formatter\":{\"id\":\"2477\"},\"group\":null,\"major_label_policy\":{\"id\":\"2478\"},\"ticker\":{\"id\":\"2457\"}},\"id\":\"2456\",\"type\":\"LinearAxis\"},{\"attributes\":{},\"id\":\"2623\",\"type\":\"BasicTickFormatter\"},{\"attributes\":{\"below\":[{\"id\":\"2452\"}],\"center\":[{\"id\":\"2455\"},{\"id\":\"2459\"},{\"id\":\"2509\"}],\"height\":500,\"left\":[{\"id\":\"2456\"}],\"margin\":[5,5,5,5],\"min_border_bottom\":10,\"min_border_left\":10,\"min_border_right\":10,\"min_border_top\":10,\"output_backend\":\"webgl\",\"renderers\":[{\"id\":\"2485\"},{\"id\":\"2518\"}],\"sizing_mode\":\"fixed\",\"title\":{\"id\":\"2444\"},\"toolbar\":{\"id\":\"2466\"},\"width\":750,\"x_range\":{\"id\":\"2135\"},\"x_scale\":{\"id\":\"2448\"},\"y_range\":{\"id\":\"2136\"},\"y_scale\":{\"id\":\"2450\"}},\"id\":\"2443\",\"subtype\":\"Figure\",\"type\":\"Plot\"},{\"attributes\":{\"coordinates\":null,\"data_source\":{\"id\":\"2282\"},\"glyph\":{\"id\":\"2285\"},\"group\":null,\"hover_glyph\":null,\"muted_glyph\":{\"id\":\"2287\"},\"nonselection_glyph\":{\"id\":\"2286\"},\"selection_glyph\":{\"id\":\"2319\"},\"view\":{\"id\":\"2289\"}},\"id\":\"2288\",\"type\":\"GlyphRenderer\"},{\"attributes\":{\"days\":[1,8,15,22]},\"id\":\"2202\",\"type\":\"DaysTicker\"},{\"attributes\":{\"coordinates\":null,\"data_source\":{\"id\":\"2512\"},\"glyph\":{\"id\":\"2515\"},\"group\":null,\"hover_glyph\":null,\"muted_glyph\":{\"id\":\"2517\"},\"nonselection_glyph\":{\"id\":\"2516\"},\"selection_glyph\":{\"id\":\"2545\"},\"view\":{\"id\":\"2519\"}},\"id\":\"2518\",\"type\":\"GlyphRenderer\"},{\"attributes\":{\"line_color\":\"Green\",\"line_width\":2,\"tags\":[\"apply_ranges\"],\"x\":{\"field\":\"Date\"},\"y\":{\"field\":\"value\"}},\"id\":\"2319\",\"type\":\"Line\"},{\"attributes\":{},\"id\":\"2620\",\"type\":\"CategoricalTickFormatter\"},{\"attributes\":{\"line_color\":\"Orange\",\"line_width\":2,\"tags\":[\"apply_ranges\"],\"x\":{\"field\":\"Date\"},\"y\":{\"field\":\"value\"}},\"id\":\"2545\",\"type\":\"Line\"},{\"attributes\":{\"source\":{\"id\":\"2282\"}},\"id\":\"2289\",\"type\":\"CDSView\"},{\"attributes\":{\"base\":24,\"mantissas\":[1,2,4,6,8,12],\"max_interval\":43200000.0,\"min_interval\":3600000.0,\"num_minor_ticks\":0},\"id\":\"2199\",\"type\":\"AdaptiveTicker\"},{\"attributes\":{\"source\":{\"id\":\"2512\"}},\"id\":\"2519\",\"type\":\"CDSView\"},{\"attributes\":{\"label\":{\"value\":\"John \"},\"renderers\":[{\"id\":\"2288\"}]},\"id\":\"2318\",\"type\":\"LegendItem\"},{\"attributes\":{\"days\":[1,2,3,4,5,6,7,8,9,10,11,12,13,14,15,16,17,18,19,20,21,22,23,24,25,26,27,28,29,30,31]},\"id\":\"2200\",\"type\":\"DaysTicker\"},{\"attributes\":{\"coordinates\":null,\"group\":null,\"text_color\":\"black\",\"text_font_size\":\"12pt\"},\"id\":\"2444\",\"type\":\"Title\"},{\"attributes\":{\"label\":{\"value\":\"Portfolio\"},\"renderers\":[{\"id\":\"2518\"}]},\"id\":\"2544\",\"type\":\"LegendItem\"},{\"attributes\":{\"days\":[1,4,7,10,13,16,19,22,25,28]},\"id\":\"2201\",\"type\":\"DaysTicker\"},{\"attributes\":{},\"id\":\"2448\",\"type\":\"LinearScale\"},{\"attributes\":{\"source\":{\"id\":\"2609\"}},\"id\":\"2617\",\"type\":\"CDSView\"},{\"attributes\":{\"days\":[1,15]},\"id\":\"2203\",\"type\":\"DaysTicker\"},{\"attributes\":{\"months\":[0,2,4,6,8,10]},\"id\":\"2205\",\"type\":\"MonthsTicker\"},{\"attributes\":{\"months\":[0,6]},\"id\":\"2207\",\"type\":\"MonthsTicker\"},{\"attributes\":{},\"id\":\"2494\",\"type\":\"UnionRenderers\"},{\"attributes\":{\"months\":[0,4,8]},\"id\":\"2206\",\"type\":\"MonthsTicker\"},{\"attributes\":{},\"id\":\"2529\",\"type\":\"UnionRenderers\"},{\"attributes\":{\"client_comm_id\":\"63129ae7d0384f0898f1a8a78b813bcb\",\"comm_id\":\"d6f38c7305a64677a45c57ae022c6b6b\",\"plot_id\":\"2127\"},\"id\":\"2854\",\"type\":\"panel.models.comm_manager.CommManager\"},{\"attributes\":{},\"id\":\"2161\",\"type\":\"PanTool\"},{\"attributes\":{\"fill_alpha\":{\"value\":0.2},\"fill_color\":{\"value\":\"green\"},\"hatch_alpha\":{\"value\":0.2},\"hatch_color\":{\"value\":\"green\"},\"line_alpha\":{\"value\":0.2},\"tags\":[\"apply_ranges\"],\"top\":{\"field\":\"A_0\"},\"width\":{\"value\":0.8},\"x\":{\"field\":\"index\"}},\"id\":\"2615\",\"type\":\"VBar\"},{\"attributes\":{\"data\":{\"Date\":{\"__ndarray__\":\"AACAxPZgeEIAAEAqSWF4QgAAgFtAYnhCAABAwZJieEIAAAAn5WJ4QgAAwIw3Y3hCAACA8oljeEIAAMAjgWR4QgAAgInTZHhCAABA7yVleEIAAABVeGV4QgAAwLrKZXhCAADAURRneEIAAIC3Zmd4QgAAQB25Z3hCAAAAgwtoeEIAAEC0Aml4QgAAABpVaXhCAADAf6dpeEIAAIDl+Wl4QgAAQEtManhCAACAfENreEIAAEDilWt4QgAAAEjoa3hCAADArTpseEIAAIATjWx4QgAAwESEbXhCAACAqtZteEIAAEAQKW54QgAAAHZ7bnhCAADA281ueEIAAAANxW94QgAAwHIXcHhCAACA2GlweEIAAEA+vHB4QgAAAKQOcXhCAABA1QVyeEIAAAA7WHJ4QgAAwKCqcnhCAACABv1yeEIAAEBsT3N4QgAAgJ1GdHhCAABAA5l0eEIAAABp63R4QgAAwM49dXhCAADAZYd2eEIAAIDL2XZ4QgAAQDEsd3hCAAAAl353eEIAAMD80Hd4QgAAAC7IeHhCAADAkxp5eEIAAID5bHl4QgAAQF+/eXhCAAAAxRF6eEIAAED2CHt4QgAAAFxbe3hCAADAwa17eEIAAIAnAHx4QgAAQI1SfHhCAACAvkl9eEIAAEAknH14QgAAAIrufXhCAADA70B+eEIAAIBVk354QgAAwIaKf3hCAACA7Nx/eEIAAEBSL4B4QgAAALiBgHhCAADAHdSAeEIAAABPy4F4QgAAwLQdgnhCAACAGnCCeEIAAECAwoJ4QgAAAOYUg3hCAABAFwyEeEIAAAB9XoR4QgAAwOKwhHhCAACASAOFeEIAAECuVYV4QgAAQEWfhnhCAAAAq/GGeEIAAMAQRId4QgAAgHaWh3hCAADAp42IeEIAAIAN4Ih4QgAAQHMyiXhCAAAA2YSJeEIAAMA+14l4QgAAAHDOinhCAADA1SCLeEIAAIA7c4t4QgAAQKHFi3hCAAAABxiMeEIAAACeYY14QgAAwAO0jXhCAACAaQaOeEIAAEDPWI54QgAAgABQj3hCAABAZqKPeEIAAADM9I94QgAAwDFHkHhCAACAl5mQeEIAAMDIkJF4QgAAQJQ1knhCAAAA+oeSeEIAAMBf2pJ4QgAAAJHRk3hCAADA9iOUeEIAAIBcdpR4QgAAQMLIlHhCAAAAKBuVeEIAAEBZEpZ4QgAAAL9klnhCAADAJLeWeEIAAICKCZd4QgAAQPBbl3hCAACAIVOYeEIAAECHpZh4QgAAAO33mHhCAADAUkqZeEIAAIC4nJl4QgAAwOmTmnhC\",\"dtype\":\"float64\",\"order\":\"little\",\"shape\":[123]},\"Variable\":[\"Portfolio\",\"Portfolio\",\"Portfolio\",\"Portfolio\",\"Portfolio\",\"Portfolio\",\"Portfolio\",\"Portfolio\",\"Portfolio\",\"Portfolio\",\"Portfolio\",\"Portfolio\",\"Portfolio\",\"Portfolio\",\"Portfolio\",\"Portfolio\",\"Portfolio\",\"Portfolio\",\"Portfolio\",\"Portfolio\",\"Portfolio\",\"Portfolio\",\"Portfolio\",\"Portfolio\",\"Portfolio\",\"Portfolio\",\"Portfolio\",\"Portfolio\",\"Portfolio\",\"Portfolio\",\"Portfolio\",\"Portfolio\",\"Portfolio\",\"Portfolio\",\"Portfolio\",\"Portfolio\",\"Portfolio\",\"Portfolio\",\"Portfolio\",\"Portfolio\",\"Portfolio\",\"Portfolio\",\"Portfolio\",\"Portfolio\",\"Portfolio\",\"Portfolio\",\"Portfolio\",\"Portfolio\",\"Portfolio\",\"Portfolio\",\"Portfolio\",\"Portfolio\",\"Portfolio\",\"Portfolio\",\"Portfolio\",\"Portfolio\",\"Portfolio\",\"Portfolio\",\"Portfolio\",\"Portfolio\",\"Portfolio\",\"Portfolio\",\"Portfolio\",\"Portfolio\",\"Portfolio\",\"Portfolio\",\"Portfolio\",\"Portfolio\",\"Portfolio\",\"Portfolio\",\"Portfolio\",\"Portfolio\",\"Portfolio\",\"Portfolio\",\"Portfolio\",\"Portfolio\",\"Portfolio\",\"Portfolio\",\"Portfolio\",\"Portfolio\",\"Portfolio\",\"Portfolio\",\"Portfolio\",\"Portfolio\",\"Portfolio\",\"Portfolio\",\"Portfolio\",\"Portfolio\",\"Portfolio\",\"Portfolio\",\"Portfolio\",\"Portfolio\",\"Portfolio\",\"Portfolio\",\"Portfolio\",\"Portfolio\",\"Portfolio\",\"Portfolio\",\"Portfolio\",\"Portfolio\",\"Portfolio\",\"Portfolio\",\"Portfolio\",\"Portfolio\",\"Portfolio\",\"Portfolio\",\"Portfolio\",\"Portfolio\",\"Portfolio\",\"Portfolio\",\"Portfolio\",\"Portfolio\",\"Portfolio\",\"Portfolio\",\"Portfolio\",\"Portfolio\",\"Portfolio\",\"Portfolio\",\"Portfolio\",\"Portfolio\",\"Portfolio\",\"Portfolio\",\"Portfolio\"],\"value\":{\"__ndarray__\":\"Wds92s6X8D/sAoZNdP/wP2V7Ah1wsfA/nzZP1K0D8T97VgEMyrbwP5XsgFw3mfA/b7Y8ySid8D/jIh6wJe3wP9pCthLX2vA/MlTfv9QW8T8JWWJDNOnwP9NiTnWIyPA/Oxv7CedV8D+j4jtqA2LwPyAlzWbQb/A/YOy0Bg0k8D/S8wtXIUbwP6TdXybEN/A/rxO+jj357z+k2IPihA3wPyGKV/24nfA/Mk8DfJXs8D9jG1TKxq3wP+qd+7aL0fA/4FgJg1SR8D/s7hU+d1bwP7diaErzjfA/NgqE3ajJ8D8UlJzv7NTwPznUmAp6JfE/Qq8kZIkN8T926rfQIVHxP6KlkfIUhvE/3rH4MD5d8T8ALbxiOXzxP8LAptFmofE/90xUxepp8T+gQAdcLFjxP8lAYBwMsPE/aP60StTc8T91AwQkXiTyP/yFqxAjSPI/RDLXke048j/w4AqKQgTyPyQXwrKbHfI/eFn67ojT8T9Vfohq5LDxPxCN3UotnfE/V0152/Q28j+11KNLGS3yP2aovn+pLfI/Yu09HpZQ8j+Y41HsQXHyP59eL/OnVfI/nvmkXL8n8j/dykSEejDyP8hKGKSKBPI/7+AKikIE8j+hI2jcOYfyPyemD8n+qvI/iO2W3nWo8j+hgxYv44ryP1hyYBcwbPI/zM+tMm898j9/fHFfjhjzP5KXE6mVFvM/GRADDtzl8j+mEmRFRhjzP7ztYjSgHfM/1CM0MmT88j9/d5UbT+7yP393lRtP7vI//hnVasX/8j/OrTJvPULzPx46xo1WRfM/1oi+yEwq8z9SYenq8d/yPwf1YMTU5/I/ZYFneDgI8z/7YzBN8UzzP061/FScgfM/EqS50jOA8z+GEJu5MNDzP1afHHpp6PM/WPruiNPB8z8Erv7EZ7fzP1Q1tp9BkPM/KekenLXd8z8vCSqUsejzP8oL/mBmOPQ/JzN6fuEq9D9WqdQB6Dz0P8DVn/jsdvQ/d8Tp4DlY9D8WfWLLwlr0PzAT4hswPfQ/k8TPC8+S9D97iSLKy4n0Pxo9v3AVYvQ/UZhd1amw9D8RzJnxLdL0P9raYWfB2/Q/sfNU+h1X9T/YhGucliz1PyzMfxzDDPU/z6QD/0ca9T8j7Bd/dPr0P+FVP24nwPQ/Amx4CTqx9D8YTFM80+D0P0giXBKD9vQ//FUlmbz69D9ix28urlf1P14HE4lbUPU/XKxAevF29T+ROO5tdT/1P9AEslHxHfU/ZILwj8E09T8Oe39qQk31P4/dG18LZvU/L/FmWP5B9T8q2xPogIv1P6d9Uzf3nPU/\",\"dtype\":\"float64\",\"order\":\"little\",\"shape\":[123]}},\"selected\":{\"id\":\"2180\"},\"selection_policy\":{\"id\":\"2194\"}},\"id\":\"2179\",\"type\":\"ColumnDataSource\"},{\"attributes\":{\"line_alpha\":0.1,\"line_color\":\"Orange\",\"line_width\":2,\"tags\":[\"apply_ranges\"],\"x\":{\"field\":\"Date\"},\"y\":{\"field\":\"value\"}},\"id\":\"2216\",\"type\":\"Line\"},{\"attributes\":{\"bottom\":{\"value\":0},\"fill_alpha\":{\"value\":1.0},\"fill_color\":{\"value\":\"green\"},\"hatch_alpha\":{\"value\":1.0},\"hatch_color\":{\"value\":\"green\"},\"hatch_scale\":{\"value\":12.0},\"hatch_weight\":{\"value\":1.0},\"line_alpha\":{\"value\":1.0},\"line_cap\":{\"value\":\"butt\"},\"line_color\":{\"value\":\"black\"},\"line_dash\":{\"value\":[]},\"line_dash_offset\":{\"value\":0},\"line_join\":{\"value\":\"bevel\"},\"line_width\":{\"value\":1},\"tags\":[\"apply_ranges\"],\"top\":{\"field\":\"A_0\"},\"width\":{\"value\":0.8},\"x\":{\"field\":\"index\"}},\"id\":\"2618\",\"type\":\"VBar\"},{\"attributes\":{\"axis_label\":\"Date\",\"coordinates\":null,\"formatter\":{\"id\":\"2174\"},\"group\":null,\"major_label_policy\":{\"id\":\"2175\"},\"ticker\":{\"id\":\"2153\"}},\"id\":\"2152\",\"type\":\"DatetimeAxis\"},{\"attributes\":{\"line_color\":\"Orange\",\"line_width\":2,\"tags\":[\"apply_ranges\"],\"x\":{\"field\":\"Date\"},\"y\":{\"field\":\"value\"}},\"id\":\"2515\",\"type\":\"Line\"},{\"attributes\":{\"height\":345,\"margin\":[5,5,5,5],\"name\":\"Matplotlib01934\",\"text\":\"&lt;img src=&quot;data:image/png;base64,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&quot; width=&quot;460px&quot; height=&quot;345px&quot; alt=&quot;&quot;&gt;&lt;/img&gt;\",\"width\":460},\"id\":\"2647\",\"type\":\"panel.models.markup.HTML\"},{\"attributes\":{\"child\":{\"id\":\"2646\"},\"name\":\"Column01936\",\"title\":\"S&P 500 Correlation\"},\"id\":\"2648\",\"type\":\"Panel\"},{\"attributes\":{\"line_alpha\":0.2,\"line_color\":\"Purple\",\"line_width\":2,\"tags\":[\"apply_ranges\"],\"x\":{\"field\":\"Date\"},\"y\":{\"field\":\"value\"}},\"id\":\"2325\",\"type\":\"Line\"},{\"attributes\":{\"css_classes\":[\"markdown\"],\"margin\":[5,5,5,5],\"name\":\"Markdown01911\",\"text\":\"&lt;h2&gt;How does your Sharpe Ratio compare to the other portfolios?&lt;/h2&gt;\"},\"id\":\"2576\",\"type\":\"panel.models.markup.HTML\"},{\"attributes\":{\"css_classes\":[\"markdown\"],\"margin\":[5,5,5,5],\"name\":\"Markdown01789\",\"text\":\"&lt;p&gt;Jim your portfolio stock selections were [&amp;lsquo;AAPL&amp;rsquo;]. Each of stock you selected was given an equal weight of 1.0. Your Sharpe Ratio is 3.24. Your player rank is {7}.&lt;/p&gt;\"},\"id\":\"2133\",\"type\":\"panel.models.markup.HTML\"},{\"attributes\":{\"line_color\":\"Blue\",\"line_width\":2,\"tags\":[\"apply_ranges\"],\"x\":{\"field\":\"Date\"},\"y\":{\"field\":\"value\"}},\"id\":\"2482\",\"type\":\"Line\"},{\"attributes\":{},\"id\":\"2150\",\"type\":\"LinearScale\"},{\"attributes\":{\"active_drag\":{\"id\":\"2597\"},\"active_scroll\":{\"id\":\"2598\"},\"tools\":[{\"id\":\"2579\"},{\"id\":\"2596\"},{\"id\":\"2597\"},{\"id\":\"2598\"},{\"id\":\"2599\"},{\"id\":\"2600\"}]},\"id\":\"2602\",\"type\":\"Toolbar\"},{\"attributes\":{},\"id\":\"2321\",\"type\":\"Selection\"},{\"attributes\":{},\"id\":\"2585\",\"type\":\"CategoricalScale\"},{\"attributes\":{\"child\":{\"id\":\"2128\"},\"name\":\"Column01811\",\"title\":\"Game of Stock Results\"},\"id\":\"2574\",\"type\":\"Panel\"},{\"attributes\":{\"data\":{\"Date\":{\"__ndarray__\":\"AACAxPZgeEIAAEAqSWF4QgAAgFtAYnhCAABAwZJieEIAAAAn5WJ4QgAAwIw3Y3hCAACA8oljeEIAAMAjgWR4QgAAgInTZHhCAABA7yVleEIAAABVeGV4QgAAwLrKZXhCAADAURRneEIAAIC3Zmd4QgAAQB25Z3hCAAAAgwtoeEIAAEC0Aml4QgAAABpVaXhCAADAf6dpeEIAAIDl+Wl4QgAAQEtManhCAACAfENreEIAAEDilWt4QgAAAEjoa3hCAADArTpseEIAAIATjWx4QgAAwESEbXhCAACAqtZteEIAAEAQKW54QgAAAHZ7bnhCAADA281ueEIAAAANxW94QgAAwHIXcHhCAACA2GlweEIAAEA+vHB4QgAAAKQOcXhCAABA1QVyeEIAAAA7WHJ4QgAAwKCqcnhCAACABv1yeEIAAEBsT3N4QgAAgJ1GdHhCAABAA5l0eEIAAABp63R4QgAAwM49dXhCAADAZYd2eEIAAIDL2XZ4QgAAQDEsd3hCAAAAl353eEIAAMD80Hd4QgAAAC7IeHhCAADAkxp5eEIAAID5bHl4QgAAQF+/eXhCAAAAxRF6eEIAAED2CHt4QgAAAFxbe3hCAADAwa17eEIAAIAnAHx4QgAAQI1SfHhCAACAvkl9eEIAAEAknH14QgAAAIrufXhCAADA70B+eEIAAIBVk354QgAAwIaKf3hCAACA7Nx/eEIAAEBSL4B4QgAAALiBgHhCAADAHdSAeEIAAABPy4F4QgAAwLQdgnhCAACAGnCCeEIAAECAwoJ4QgAAAOYUg3hCAABAFwyEeEIAAAB9XoR4QgAAwOKwhHhCAACASAOFeEIAAECuVYV4QgAAQEWfhnhCAAAAq/GGeEIAAMAQRId4QgAAgHaWh3hCAADAp42IeEIAAIAN4Ih4QgAAQHMyiXhCAAAA2YSJeEIAAMA+14l4QgAAAHDOinhCAADA1SCLeEIAAIA7c4t4QgAAQKHFi3hCAAAABxiMeEIAAACeYY14QgAAwAO0jXhCAACAaQaOeEIAAEDPWI54QgAAgABQj3hCAABAZqKPeEIAAADM9I94QgAAwDFHkHhCAACAl5mQeEIAAMDIkJF4QgAAQJQ1knhCAAAA+oeSeEIAAMBf2pJ4QgAAAJHRk3hCAADA9iOUeEIAAIBcdpR4QgAAQMLIlHhCAAAAKBuVeEIAAEBZEpZ4QgAAAL9klnhCAADAJLeWeEIAAICKCZd4QgAAQPBbl3hCAACAIVOYeEIAAECHpZh4QgAAAO33mHhCAADAUkqZeEIAAIC4nJl4QgAAwOmTmnhC\",\"dtype\":\"float64\",\"order\":\"little\",\"shape\":[123]},\"Variable\":[\"alex_1\",\"alex_1\",\"alex_1\",\"alex_1\",\"alex_1\",\"alex_1\",\"alex_1\",\"alex_1\",\"alex_1\",\"alex_1\",\"alex_1\",\"alex_1\",\"alex_1\",\"alex_1\",\"alex_1\",\"alex_1\",\"alex_1\",\"alex_1\",\"alex_1\",\"alex_1\",\"alex_1\",\"alex_1\",\"alex_1\",\"alex_1\",\"alex_1\",\"alex_1\",\"alex_1\",\"alex_1\",\"alex_1\",\"alex_1\",\"alex_1\",\"alex_1\",\"alex_1\",\"alex_1\",\"alex_1\",\"alex_1\",\"alex_1\",\"alex_1\",\"alex_1\",\"alex_1\",\"alex_1\",\"alex_1\",\"alex_1\",\"alex_1\",\"alex_1\",\"alex_1\",\"alex_1\",\"alex_1\",\"alex_1\",\"alex_1\",\"alex_1\",\"alex_1\",\"alex_1\",\"alex_1\",\"alex_1\",\"alex_1\",\"alex_1\",\"alex_1\",\"alex_1\",\"alex_1\",\"alex_1\",\"alex_1\",\"alex_1\",\"alex_1\",\"alex_1\",\"alex_1\",\"alex_1\",\"alex_1\",\"alex_1\",\"alex_1\",\"alex_1\",\"alex_1\",\"alex_1\",\"alex_1\",\"alex_1\",\"alex_1\",\"alex_1\",\"alex_1\",\"alex_1\",\"alex_1\",\"alex_1\",\"alex_1\",\"alex_1\",\"alex_1\",\"alex_1\",\"alex_1\",\"alex_1\",\"alex_1\",\"alex_1\",\"alex_1\",\"alex_1\",\"alex_1\",\"alex_1\",\"alex_1\",\"alex_1\",\"alex_1\",\"alex_1\",\"alex_1\",\"alex_1\",\"alex_1\",\"alex_1\",\"alex_1\",\"alex_1\",\"alex_1\",\"alex_1\",\"alex_1\",\"alex_1\",\"alex_1\",\"alex_1\",\"alex_1\",\"alex_1\",\"alex_1\",\"alex_1\",\"alex_1\",\"alex_1\",\"alex_1\",\"alex_1\",\"alex_1\",\"alex_1\",\"alex_1\",\"alex_1\",\"alex_1\",\"alex_1\"],\"value\":{\"__ndarray__\":\"hzNfPPzG8D8/X3HpKk/wP8mWuGlPKfA/AyVvHyOd8D+I7OMAJ3PwPzwJXS/QUvA/vz/uhuIY8D8IRs+gJ3rwP/8Xl5X0s/A/DRtINKW98D9oEeMQNFLwP0vY7XnDEvA/W1v99rJF7z9NTkYygWXvP3EBI0lEUPA/nzpyv4j57z/Vo3aIWxXwP6LSC8xwB/A/bsfb2Rt97z+LM/LN2uLvP5IME6kaXvA/4lqkuZRc8D9IMZ7TQDTwP1S310D5ZvA/fdLkfZke8D9+zHoembbvPxkP6FGUEfA/U3BxP0aI8D8D2HWj47PwP6Wr5WrOV/E/YV8osKJa8T+WpC8Y2kjxPytECTj3ifE/M8yvlNpv8T+665qlPKzxP4uRzIGzqfE/VXws02p/8T/MyegWDmjxP6W4k0crzvE/ypFl4o8M8j9KapGHJU/yP5IZyhfFUfI/C+e7sOtJ8j/X7ATYpvjxP2MhfpzvLfI/d9svyhwr8j9Mtem+CN3xPxjaEkhzpvE/iNEsUq4Z8j8aeYEfmhbyP81DJlqoLvI/4pNWOFVN8j+1nZKX5XfyP51sbj/ZPvI/d36S9RNW8j/AD0sSVjzyPwFrrmp0zPE/4crCDLNY8j+t2d2eiuHyPxw0Gjlq2/I/HON+4a3f8j9gd/XTD83yP+VRtVEhsPI/kPJ+sPSh8j+rqTLIxzHzPzduXd+GP/M/vk1aA1gd8z/sYepSqHXzP5optMKAd/M/VEesLsNK8z9IZGE7YG7zP7Aw5TBPm/M/JPAWxp3p8z+57yEY9mn0P52wQZ71Q/Q/FMR1xO829D995OUNAvfzP0dsaqSwAPQ/JNH3REZf9T/Fl9gvY+/1P9Wke4BgM/Y//2Ibp5vJ9T/htJlta1L2P119jO2pZvY/g8Rux4tk9j8vqSscBVT2P1GyaVeEtPU/+o5n3wsb9j+allPL+CT2P+bWtl8pj/Y/l4exOVnP9j97zTs9SCX3P0VWyZFaYfc/BFLugBQu9z+eTbKDdkb3PwgrzD0HBfc/SyKw4aN29z81NdrGZTn3P0SKwZQrw/Y/DZSyvlc19z9/l/2R5Cf3P0F9btZMD/c/UwSRJnib9z9TcG9tvIb3PwZIF+YMffc/fIXapcxv9z+Q9KyGAXT3PzsDmu6pIfc/JkI2WHg79z+iILbgy6n3P8epJjmROPg/0edgvLc4+D8jESp3rGr4P9ajEN/5wPg/R0rOkALJ+D/QUKF5kiD4Py24xCen4Pc/MGldEGfp9z+9gwvZ3DL4PzogKnYp7Pc/oCKuYWrS9z8O85q2lVX4P+oa2A3bX/g/\",\"dtype\":\"float64\",\"order\":\"little\",\"shape\":[123]}},\"selected\":{\"id\":\"2321\"},\"selection_policy\":{\"id\":\"2343\"}},\"id\":\"2320\",\"type\":\"ColumnDataSource\"},{\"attributes\":{\"children\":[{\"id\":\"2129\"},{\"id\":\"2130\"},{\"id\":\"2131\"},{\"id\":\"2132\"},{\"id\":\"2133\"},{\"id\":\"2134\"},{\"id\":\"2143\"},{\"id\":\"2438\"},{\"id\":\"2443\"}],\"margin\":[0,0,0,0],\"name\":\"Column01811\"},\"id\":\"2128\",\"type\":\"Column\"},{\"attributes\":{\"below\":[{\"id\":\"2152\"}],\"center\":[{\"id\":\"2155\"},{\"id\":\"2159\"},{\"id\":\"2209\"}],\"height\":500,\"left\":[{\"id\":\"2156\"}],\"margin\":[5,5,5,5],\"min_border_bottom\":10,\"min_border_left\":10,\"min_border_right\":10,\"min_border_top\":10,\"output_backend\":\"webgl\",\"renderers\":[{\"id\":\"2185\"},{\"id\":\"2218\"},{\"id\":\"2252\"},{\"id\":\"2288\"},{\"id\":\"2326\"},{\"id\":\"2366\"}],\"sizing_mode\":\"fixed\",\"title\":{\"id\":\"2144\"},\"toolbar\":{\"id\":\"2166\"},\"width\":750,\"x_range\":{\"id\":\"2135\"},\"x_scale\":{\"id\":\"2148\"},\"y_range\":{\"id\":\"2136\"},\"y_scale\":{\"id\":\"2150\"}},\"id\":\"2143\",\"subtype\":\"Figure\",\"type\":\"Plot\"},{\"attributes\":{\"line_color\":\"Purple\",\"line_width\":2,\"tags\":[\"apply_ranges\"],\"x\":{\"field\":\"Date\"},\"y\":{\"field\":\"value\"}},\"id\":\"2323\",\"type\":\"Line\"},{\"attributes\":{\"end\":3.721061195314824,\"reset_end\":3.721061195314824,\"reset_start\":0.0,\"tags\":[[[\"0\",\"0\",null]]]},\"id\":\"2578\",\"type\":\"Range1d\"},{\"attributes\":{\"data\":{\"Date\":{\"__ndarray__\":\"AACAxPZgeEIAAEAqSWF4QgAAgFtAYnhCAABAwZJieEIAAAAn5WJ4QgAAwIw3Y3hCAACA8oljeEIAAMAjgWR4QgAAgInTZHhCAABA7yVleEIAAABVeGV4QgAAwLrKZXhCAADAURRneEIAAIC3Zmd4QgAAQB25Z3hCAAAAgwtoeEIAAEC0Aml4QgAAABpVaXhCAADAf6dpeEIAAIDl+Wl4QgAAQEtManhCAACAfENreEIAAEDilWt4QgAAAEjoa3hCAADArTpseEIAAIATjWx4QgAAwESEbXhCAACAqtZteEIAAEAQKW54QgAAAHZ7bnhCAADA281ueEIAAAANxW94QgAAwHIXcHhCAACA2GlweEIAAEA+vHB4QgAAAKQOcXhCAABA1QVyeEIAAAA7WHJ4QgAAwKCqcnhCAACABv1yeEIAAEBsT3N4QgAAgJ1GdHhCAABAA5l0eEIAAABp63R4QgAAwM49dXhCAADAZYd2eEIAAIDL2XZ4QgAAQDEsd3hCAAAAl353eEIAAMD80Hd4QgAAAC7IeHhCAADAkxp5eEIAAID5bHl4QgAAQF+/eXhCAAAAxRF6eEIAAED2CHt4QgAAAFxbe3hCAADAwa17eEIAAIAnAHx4QgAAQI1SfHhCAACAvkl9eEIAAEAknH14QgAAAIrufXhCAADA70B+eEIAAIBVk354QgAAwIaKf3hCAACA7Nx/eEIAAEBSL4B4QgAAALiBgHhCAADAHdSAeEIAAABPy4F4QgAAwLQdgnhCAACAGnCCeEIAAECAwoJ4QgAAAOYUg3hCAABAFwyEeEIAAAB9XoR4QgAAwOKwhHhCAACASAOFeEIAAECuVYV4QgAAQEWfhnhCAAAAq/GGeEIAAMAQRId4QgAAgHaWh3hCAADAp42IeEIAAIAN4Ih4QgAAQHMyiXhCAAAA2YSJeEIAAMA+14l4QgAAAHDOinhCAADA1SCLeEIAAIA7c4t4QgAAQKHFi3hCAAAABxiMeEIAAACeYY14QgAAwAO0jXhCAACAaQaOeEIAAEDPWI54QgAAgABQj3hCAABAZqKPeEIAAADM9I94QgAAwDFHkHhCAACAl5mQeEIAAMDIkJF4QgAAQJQ1knhCAAAA+oeSeEIAAMBf2pJ4QgAAAJHRk3hCAADA9iOUeEIAAIBcdpR4QgAAQMLIlHhCAAAAKBuVeEIAAEBZEpZ4QgAAAL9klnhCAADAJLeWeEIAAICKCZd4QgAAQPBbl3hCAACAIVOYeEIAAECHpZh4QgAAAO33mHhCAADAUkqZeEIAAIC4nJl4QgAAwOmTmnhC\",\"dtype\":\"float64\",\"order\":\"little\",\"shape\":[123]},\"Ticker\":[\"AAPL\",\"AAPL\",\"AAPL\",\"AAPL\",\"AAPL\",\"AAPL\",\"AAPL\",\"AAPL\",\"AAPL\",\"AAPL\",\"AAPL\",\"AAPL\",\"AAPL\",\"AAPL\",\"AAPL\",\"AAPL\",\"AAPL\",\"AAPL\",\"AAPL\",\"AAPL\",\"AAPL\",\"AAPL\",\"AAPL\",\"AAPL\",\"AAPL\",\"AAPL\",\"AAPL\",\"AAPL\",\"AAPL\",\"AAPL\",\"AAPL\",\"AAPL\",\"AAPL\",\"AAPL\",\"AAPL\",\"AAPL\",\"AAPL\",\"AAPL\",\"AAPL\",\"AAPL\",\"AAPL\",\"AAPL\",\"AAPL\",\"AAPL\",\"AAPL\",\"AAPL\",\"AAPL\",\"AAPL\",\"AAPL\",\"AAPL\",\"AAPL\",\"AAPL\",\"AAPL\",\"AAPL\",\"AAPL\",\"AAPL\",\"AAPL\",\"AAPL\",\"AAPL\",\"AAPL\",\"AAPL\",\"AAPL\",\"AAPL\",\"AAPL\",\"AAPL\",\"AAPL\",\"AAPL\",\"AAPL\",\"AAPL\",\"AAPL\",\"AAPL\",\"AAPL\",\"AAPL\",\"AAPL\",\"AAPL\",\"AAPL\",\"AAPL\",\"AAPL\",\"AAPL\",\"AAPL\",\"AAPL\",\"AAPL\",\"AAPL\",\"AAPL\",\"AAPL\",\"AAPL\",\"AAPL\",\"AAPL\",\"AAPL\",\"AAPL\",\"AAPL\",\"AAPL\",\"AAPL\",\"AAPL\",\"AAPL\",\"AAPL\",\"AAPL\",\"AAPL\",\"AAPL\",\"AAPL\",\"AAPL\",\"AAPL\",\"AAPL\",\"AAPL\",\"AAPL\",\"AAPL\",\"AAPL\",\"AAPL\",\"AAPL\",\"AAPL\",\"AAPL\",\"AAPL\",\"AAPL\",\"AAPL\",\"AAPL\",\"AAPL\",\"AAPL\",\"AAPL\",\"AAPL\",\"AAPL\",\"AAPL\",\"AAPL\",\"AAPL\"],\"value\":{\"__ndarray__\":\"IGu7R9v5oj/Aws+4TPyYP2DPGpPtW5K/wOJ1seK0kz+giYX1kBOSv4Af+VhET3y/AFgnEDhoTj8AUkpgEEKTPwB25XIfTnG/gBsP/WF5jD+AgnV+A1yFvwAf+CpE6X6/AJHRiPFRm78AlnsaYblnPwBwWLjX9Go/ALtB5/5vkr8ASmkyGeSAPwCt4bKUPmy/wH0nJv8sjb8A5eq5relwP8AcaC5V96E/gCrKl/v7kj9AacxDWrCNvwCeZ1cfKIE/QGK2M5CLjr/AgUNvdWyMv4Cpz3kzK4s/gFp4ssrajD8AOqNte3llP0AlQkWHJJM/AGCc0ORWdr8AIGD7AbaPP4BohtIkdog/gKgXeNakgr8AcCtmE4x8PwAigyd/AoE/QOeUrzktib8Aj0lzok1wv0BO9sABRJQ/gMaLjihBhD9AZfuqCwWQPwDoHInAi38/ADUd2BSfar+AdgNgVB+HvwBCC1rQgnY/oGF1WQtbkL8AFuOx7xd/vwAW906y1HG/oK4vyQl2oT8Ap1YVdVFhvwCAt2oRvB8/AAuF/zy9fj8AzCf8tYp8PwD5WsEx8ne/gINsqAwIhL8AdNegQMdePwCLnr0CU4O/AIAFMcABEL/AiU50ohOdPwCgkfRv434/ALxUMmdhQb+AI1UIKFx5vwDz0qB2fXq/wBFq9npNhL8AsZJMywaoPwBoF/wsbjq/wJ99VcVrhL8AsQYXj1eFPwAUuhqZ71E/gJgirEPRe78AUNRYPLxnvwAAAAAAAAAAAJxCFW2EbT+AQ3vR+fyLPwB42E1Vl0Q/AGLVGu9ydr+AV7nllAmPvwDUecdyvVo/ADDTDVtpez+A1ap4AuOMPwAP7d2o1IU/ABAFsU57Mr/Aq/pEOGiQPwAosgNcj3M/ANcLte0Cf78ATQcA5eBgv4CvHCgIxX+/AGoUgSesjz8AvPJnfLFhP0Bhdh+fA5A/AJcRExVlZb8A8K0b5plsPwBdfXBX74Y/AEAY7owAeL8AkMN7a+U/PwCFBT0OP3e/wA4BOwTskD8AHAAqawlcv4C5vpHt736/ANTClE7Xjj8AI5E3Jet5PwD4AWZXb10/QLU9ei2olz+Apljn2+J/vwBWPHyODHi/ACAWUj2NZD8A1fdzayF4v8DW/xycO4a/ANyMDhAFZ78AsiSBAmeCPwCxSn+knnA/AACNB9HLST+A+O9xjbiRPwB8eZ2F9VW/ABQ0Zzb3fD/AaKUz8K2EvwAzXxL2PHm/AE3EFRBJcT8AF6xJ33xyPwDGfyDDnXI/ACV9hqf0er8ALFIfCqqLPwAOwGSb72k/\",\"dtype\":\"float64\",\"order\":\"little\",\"shape\":[123]}},\"selected\":{\"id\":\"2480\"},\"selection_policy\":{\"id\":\"2494\"}},\"id\":\"2479\",\"type\":\"ColumnDataSource\"},{\"attributes\":{\"children\":[{\"id\":\"2642\"},{\"id\":\"2643\"},{\"id\":\"2644\"}],\"margin\":[0,0,0,0],\"name\":\"Column01930\"},\"id\":\"2641\",\"type\":\"Column\"},{\"attributes\":{\"line_alpha\":0.1,\"line_color\":\"Purple\",\"line_width\":2,\"tags\":[\"apply_ranges\"],\"x\":{\"field\":\"Date\"},\"y\":{\"field\":\"value\"}},\"id\":\"2324\",\"type\":\"Line\"},{\"attributes\":{\"bottom_units\":\"screen\",\"coordinates\":null,\"fill_alpha\":0.5,\"fill_color\":\"lightgrey\",\"group\":null,\"left_units\":\"screen\",\"level\":\"overlay\",\"line_alpha\":1.0,\"line_color\":\"black\",\"line_dash\":[4,4],\"line_width\":2,\"right_units\":\"screen\",\"syncable\":false,\"top_units\":\"screen\"},\"id\":\"2465\",\"type\":\"BoxAnnotation\"},{\"attributes\":{\"fill_alpha\":{\"value\":0.1},\"fill_color\":{\"value\":\"green\"},\"hatch_alpha\":{\"value\":0.1},\"hatch_color\":{\"value\":\"green\"},\"line_alpha\":{\"value\":0.1},\"tags\":[\"apply_ranges\"],\"top\":{\"field\":\"A_0\"},\"width\":{\"value\":0.8},\"x\":{\"field\":\"index\"}},\"id\":\"2613\",\"type\":\"VBar\"},{\"attributes\":{},\"id\":\"2343\",\"type\":\"UnionRenderers\"},{\"attributes\":{\"coordinates\":null,\"data_source\":{\"id\":\"2320\"},\"glyph\":{\"id\":\"2323\"},\"group\":null,\"hover_glyph\":null,\"muted_glyph\":{\"id\":\"2325\"},\"nonselection_glyph\":{\"id\":\"2324\"},\"selection_glyph\":{\"id\":\"2359\"},\"view\":{\"id\":\"2327\"}},\"id\":\"2326\",\"type\":\"GlyphRenderer\"},{\"attributes\":{\"fill_color\":{\"value\":\"blue\"},\"hatch_color\":{\"value\":\"blue\"},\"line_color\":{\"value\":\"blue\"},\"tags\":[\"apply_ranges\"],\"top\":{\"field\":\"A_0\"},\"width\":{\"value\":0.8},\"x\":{\"field\":\"index\"}},\"id\":\"2614\",\"type\":\"VBar\"},{\"attributes\":{\"source\":{\"id\":\"2320\"}},\"id\":\"2327\",\"type\":\"CDSView\"},{\"attributes\":{\"label\":{\"value\":\"alex_1\"},\"renderers\":[{\"id\":\"2326\"}]},\"id\":\"2358\",\"type\":\"LegendItem\"},{\"attributes\":{},\"id\":\"2596\",\"type\":\"SaveTool\"},{\"attributes\":{\"line_color\":\"Blue\",\"line_width\":2,\"tags\":[\"apply_ranges\"],\"x\":{\"field\":\"Date\"},\"y\":{\"field\":\"value\"}},\"id\":\"2211\",\"type\":\"Line\"},{\"attributes\":{\"data\":{\"Date\":{\"__ndarray__\":\"AACAxPZgeEIAAEAqSWF4QgAAgFtAYnhCAABAwZJieEIAAAAn5WJ4QgAAwIw3Y3hCAACA8oljeEIAAMAjgWR4QgAAgInTZHhCAABA7yVleEIAAABVeGV4QgAAwLrKZXhCAADAURRneEIAAIC3Zmd4QgAAQB25Z3hCAAAAgwtoeEIAAEC0Aml4QgAAABpVaXhCAADAf6dpeEIAAIDl+Wl4QgAAQEtManhCAACAfENreEIAAEDilWt4QgAAAEjoa3hCAADArTpseEIAAIATjWx4QgAAwESEbXhCAACAqtZteEIAAEAQKW54QgAAAHZ7bnhCAADA281ueEIAAAANxW94QgAAwHIXcHhCAACA2GlweEIAAEA+vHB4QgAAAKQOcXhCAABA1QVyeEIAAAA7WHJ4QgAAwKCqcnhCAACABv1yeEIAAEBsT3N4QgAAgJ1GdHhCAABAA5l0eEIAAABp63R4QgAAwM49dXhCAADAZYd2eEIAAIDL2XZ4QgAAQDEsd3hCAAAAl353eEIAAMD80Hd4QgAAAC7IeHhCAADAkxp5eEIAAID5bHl4QgAAQF+/eXhCAAAAxRF6eEIAAED2CHt4QgAAAFxbe3hCAADAwa17eEIAAIAnAHx4QgAAQI1SfHhCAACAvkl9eEIAAEAknH14QgAAAIrufXhCAADA70B+eEIAAIBVk354QgAAwIaKf3hCAACA7Nx/eEIAAEBSL4B4QgAAALiBgHhCAADAHdSAeEIAAABPy4F4QgAAwLQdgnhCAACAGnCCeEIAAECAwoJ4QgAAAOYUg3hCAABAFwyEeEIAAAB9XoR4QgAAwOKwhHhCAACASAOFeEIAAECuVYV4QgAAQEWfhnhCAAAAq/GGeEIAAMAQRId4QgAAgHaWh3hCAADAp42IeEIAAIAN4Ih4QgAAQHMyiXhCAAAA2YSJeEIAAMA+14l4QgAAAHDOinhCAADA1SCLeEIAAIA7c4t4QgAAQKHFi3hCAAAABxiMeEIAAACeYY14QgAAwAO0jXhCAACAaQaOeEIAAEDPWI54QgAAgABQj3hCAABAZqKPeEIAAADM9I94QgAAwDFHkHhCAACAl5mQeEIAAMDIkJF4QgAAQJQ1knhCAAAA+oeSeEIAAMBf2pJ4QgAAAJHRk3hCAADA9iOUeEIAAIBcdpR4QgAAQMLIlHhCAAAAKBuVeEIAAEBZEpZ4QgAAAL9klnhCAADAJLeWeEIAAICKCZd4QgAAQPBbl3hCAACAIVOYeEIAAECHpZh4QgAAAO33mHhCAADAUkqZeEIAAIC4nJl4QgAAwOmTmnhC\",\"dtype\":\"float64\",\"order\":\"little\",\"shape\":[123]},\"Variable\":[\"SP500\",\"SP500\",\"SP500\",\"SP500\",\"SP500\",\"SP500\",\"SP500\",\"SP500\",\"SP500\",\"SP500\",\"SP500\",\"SP500\",\"SP500\",\"SP500\",\"SP500\",\"SP500\",\"SP500\",\"SP500\",\"SP500\",\"SP500\",\"SP500\",\"SP500\",\"SP500\",\"SP500\",\"SP500\",\"SP500\",\"SP500\",\"SP500\",\"SP500\",\"SP500\",\"SP500\",\"SP500\",\"SP500\",\"SP500\",\"SP500\",\"SP500\",\"SP500\",\"SP500\",\"SP500\",\"SP500\",\"SP500\",\"SP500\",\"SP500\",\"SP500\",\"SP500\",\"SP500\",\"SP500\",\"SP500\",\"SP500\",\"SP500\",\"SP500\",\"SP500\",\"SP500\",\"SP500\",\"SP500\",\"SP500\",\"SP500\",\"SP500\",\"SP500\",\"SP500\",\"SP500\",\"SP500\",\"SP500\",\"SP500\",\"SP500\",\"SP500\",\"SP500\",\"SP500\",\"SP500\",\"SP500\",\"SP500\",\"SP500\",\"SP500\",\"SP500\",\"SP500\",\"SP500\",\"SP500\",\"SP500\",\"SP500\",\"SP500\",\"SP500\",\"SP500\",\"SP500\",\"SP500\",\"SP500\",\"SP500\",\"SP500\",\"SP500\",\"SP500\",\"SP500\",\"SP500\",\"SP500\",\"SP500\",\"SP500\",\"SP500\",\"SP500\",\"SP500\",\"SP500\",\"SP500\",\"SP500\",\"SP500\",\"SP500\",\"SP500\",\"SP500\",\"SP500\",\"SP500\",\"SP500\",\"SP500\",\"SP500\",\"SP500\",\"SP500\",\"SP500\",\"SP500\",\"SP500\",\"SP500\",\"SP500\",\"SP500\",\"SP500\",\"SP500\",\"SP500\",\"SP500\",\"SP500\",\"SP500\"],\"value\":{\"__ndarray__\":\"JHSmdTU88D8fMng1LBHwP+Yl7uTU7+8/J1vyoYks8D/DhtKxUP3vP4HFCUUBte8/ej/i8NLG7z9+1oVm+hHwP733HB3TEPA/GdCI4zoc8D+o5TV8ucbvP2pCY002sO8/+JShJKIN7z/FCiPPHwHvP+WA769sK+8/VQEKTVfX7j9Fnk+Bmu/uP4xguE2P1+4/KSHrTUCy7j8C+YZk1e3uP3yG/Gawbe8/etUEvjdz7z9+ZoUm0ffuP/1gQ48IA+8/sdw73ntw7j8i9sTEqf/tP+k/q6AR9O0/dt6xtWly7j9vRRhSADzuPy/qa1buw+4/0UUDjiRt7j9UMfHxm7LuP0EwsYyhGO8/3Lxa3ZKV7j9jMZH38KzuP/qr1PU62e4/S/ewkjzm7j/JbzODydnuP56aTuE6Su8/kFirtQJ47z/zhrLCT+zvP6aYridFBfA/GM43Xv3a7z/34jQ2qsbvP7EFIqjH4+8/ph8B8Onr7z8Nu1Bjk+vvP58av4XJye8/I5Jxmdsa8D/hEOF+UxLwPyJ3x9ftH/A/3uuthXUj8D99sVJtHCPwP7uFBziFCvA/jQLxtzoO8D/w9dbCuhHwPydPvU1goe8/9CdZvkWC7z+51A+PDBDwP+L7o5v8MfA/7YgzxWIw8D/05bAvXgDwP9+ulpVmx+8/TaheaqyM7z8i/R6p8RDwP28m6a7NEvA/wVGpouv/7z/hEOF+UxLwP6vVaoBYC/A/A7D8sdcE8D97fh9M+RDwP0YRcSN87e8//prvS1Yn8D8R1C9RZU7wPy3uHidcSPA/BzZ/nQFJ8D8QILyuOBrwP9DwJNAa+O8/ASAcqeMf8D8BywELwVXwP3yjrdzSVfA/n0xSR0c88D8hBgiBPGXwP9tIEZw9ovA/mceAgbWZ8D+l4NRatqPwPxEuF255k/A/QaV+S7yt8D/0V3xDo7LwP9aJdGJ72vA/JnvEeWT48D86cavK8/vwPz9ILPvmMPE/7UPFa74g8T9gmmVC+wvxP2Y7N1gX9fA/zxJILTMF8T88hb051OPwP91Dys5t0PA/i3YNUb0B8T9HBp7AMgDxPx8gPf2qE/E/IZbJ0k1J8T+8qnYRfE7xP5xLOJnDRfE/Y0g8ibsi8T9+u7ztKRbxPzhBxCWvIPE/J/i4JD8+8T8WaDgW9l7xP6K3C7qghPE/MOi9qwiA8T8hdOJVTpHxP4WZAItQsfE/xHu1ff678T82PQNkUZ3xPzf/G5fHnvE/6zRQ/vmw8T/kydJrub3xP1h/ca8EvfE/7FmD99ef8T9rNnY8aczxP/I5kmga0/E/\",\"dtype\":\"float64\",\"order\":\"little\",\"shape\":[123]}},\"selected\":{\"id\":\"2213\"},\"selection_policy\":{\"id\":\"2229\"}},\"id\":\"2212\",\"type\":\"ColumnDataSource\"},{\"attributes\":{},\"id\":\"2457\",\"type\":\"BasicTicker\"},{\"attributes\":{},\"id\":\"2462\",\"type\":\"WheelZoomTool\"},{\"attributes\":{\"overlay\":{\"id\":\"2601\"}},\"id\":\"2599\",\"type\":\"BoxZoomTool\"},{\"attributes\":{},\"id\":\"2598\",\"type\":\"WheelZoomTool\"},{\"attributes\":{\"active_drag\":{\"id\":\"2461\"},\"active_scroll\":{\"id\":\"2462\"},\"tools\":[{\"id\":\"2441\"},{\"id\":\"2460\"},{\"id\":\"2461\"},{\"id\":\"2462\"},{\"id\":\"2463\"},{\"id\":\"2464\"}]},\"id\":\"2466\",\"type\":\"Toolbar\"},{\"attributes\":{\"axis\":{\"id\":\"2592\"},\"coordinates\":null,\"dimension\":1,\"grid_line_color\":null,\"group\":null,\"ticker\":null},\"id\":\"2595\",\"type\":\"Grid\"},{\"attributes\":{},\"id\":\"2593\",\"type\":\"BasicTicker\"},{\"attributes\":{},\"id\":\"2610\",\"type\":\"Selection\"},{\"attributes\":{\"child\":{\"id\":\"2652\"},\"name\":\"Column01941\",\"title\":\"Portfolio Concentration\"},\"id\":\"2655\",\"type\":\"Panel\"},{\"attributes\":{\"axis_label\":\"\",\"coordinates\":null,\"formatter\":{\"id\":\"2623\"},\"group\":null,\"major_label_policy\":{\"id\":\"2624\"},\"ticker\":{\"id\":\"2593\"}},\"id\":\"2592\",\"type\":\"LinearAxis\"},{\"attributes\":{},\"id\":\"2478\",\"type\":\"AllLabels\"},{\"attributes\":{},\"id\":\"2597\",\"type\":\"PanTool\"},{\"attributes\":{},\"id\":\"2477\",\"type\":\"BasicTickFormatter\"},{\"attributes\":{\"label\":{\"value\":\"Portfolio\"},\"renderers\":[{\"id\":\"2185\"}]},\"id\":\"2210\",\"type\":\"LegendItem\"},{\"attributes\":{},\"id\":\"2590\",\"type\":\"CategoricalTicker\"},{\"attributes\":{\"axis_label\":\"\",\"coordinates\":null,\"formatter\":{\"id\":\"2620\"},\"group\":null,\"major_label_policy\":{\"id\":\"2621\"},\"ticker\":{\"id\":\"2590\"}},\"id\":\"2589\",\"type\":\"CategoricalAxis\"},{\"attributes\":{\"axis\":{\"id\":\"2589\"},\"coordinates\":null,\"grid_line_color\":null,\"group\":null,\"ticker\":null},\"id\":\"2591\",\"type\":\"Grid\"}],\"root_ids\":[\"2127\",\"2854\",\"3053\"]},\"title\":\"Bokeh Application\",\"version\":\"2.4.3\"}};\n",
       "    var render_items = [{\"docid\":\"7435043a-199e-4a17-8e1a-3a1f728750d2\",\"root_ids\":[\"2127\"],\"roots\":{\"2127\":\"c0f718e4-418e-416b-9a68-f4fd2d31b566\"}}];\n",
       "    root.Bokeh.embed.embed_items_notebook(docs_json, render_items);\n",
       "    for (const render_item of render_items) {\n",
       "      for (const root_id of render_item.root_ids) {\n",
       "\tconst id_el = document.getElementById(root_id)\n",
       "\tif (id_el.children.length && (id_el.children[0].className === 'bk-root')) {\n",
       "\t  const root_el = id_el.children[0]\n",
       "\t  root_el.id = root_el.id + '-rendered'\n",
       "\t}\n",
       "      }\n",
       "    }\n",
       "  }\n",
       "  if (root.Bokeh !== undefined && root.Bokeh.Panel !== undefined) {\n",
       "    embed_document(root);\n",
       "  } else {\n",
       "    var attempts = 0;\n",
       "    var timer = setInterval(function(root) {\n",
       "      if (root.Bokeh !== undefined && root.Bokeh.Panel !== undefined) {\n",
       "        clearInterval(timer);\n",
       "        embed_document(root);\n",
       "      } else if (document.readyState == \"complete\") {\n",
       "        attempts++;\n",
       "        if (attempts > 200) {\n",
       "          clearInterval(timer);\n",
       "          console.log(\"Bokeh: ERROR: Unable to run BokehJS code because BokehJS library is missing\");\n",
       "        }\n",
       "      }\n",
       "    }, 25, root)\n",
       "  }\n",
       "})(window);</script>"
      ],
      "text/plain": [
       "Tabs\n",
       "    [0] Column\n",
       "        [0] Markdown(str)\n",
       "        [1] Markdown(str)\n",
       "        [2] Markdown(str)\n",
       "        [3] Markdown(str)\n",
       "        [4] Markdown(str)\n",
       "        [5] Markdown(str)\n",
       "        [6] HoloViews(NdOverlay, height=500, sizing_mode='fixed', width=750)\n",
       "        [7] Markdown(str)\n",
       "        [8] HoloViews(NdOverlay, height=500, sizing_mode='fixed', width=750)\n",
       "    [1] Column\n",
       "        [0] Markdown(str)\n",
       "        [1] HoloViews(Bars, height=300, sizing_mode='fixed', width=700)\n",
       "        [2] Markdown(str)\n",
       "    [2] Column\n",
       "        [0] Markdown(str)\n",
       "        [1] Matplotlib(Figure, height=345, width=460)\n",
       "        [2] Markdown(str)\n",
       "    [3] Column\n",
       "        [0] Matplotlib(Figure, height=345, width=460)\n",
       "    [4] Column\n",
       "        [0] Matplotlib(Figure, height=345, width=460)\n",
       "    [5] Column\n",
       "        [0] Markdown(str)\n",
       "        [1] Markdown(str)"
      ]
     },
     "execution_count": 63,
     "metadata": {
      "application/vnd.holoviews_exec.v0+json": {
       "id": "2127"
      }
     },
     "output_type": "execute_result"
    }
   ],
   "source": [
    "# Execute Panel dashboard using servable function\n",
    "game_of_stock_dashboard.servable()"
   ]
  },
  {
   "cell_type": "code",
   "execution_count": null,
   "id": "d67a39d8-cf24-47af-9872-a3e27d0174dd",
   "metadata": {},
   "outputs": [],
   "source": []
  }
 ],
 "metadata": {
  "kernelspec": {
   "display_name": "Python 3 (ipykernel)",
   "language": "python",
   "name": "python3"
  },
  "language_info": {
   "codemirror_mode": {
    "name": "ipython",
    "version": 3
   },
   "file_extension": ".py",
   "mimetype": "text/x-python",
   "name": "python",
   "nbconvert_exporter": "python",
   "pygments_lexer": "ipython3",
   "version": "3.10.11"
  },
  "widgets": {
   "application/vnd.jupyter.widget-state+json": {
    "state": {
     "05cf381d4546478d94c5024ab6530e27": {
      "model_module": "@jupyter-widgets/base",
      "model_module_version": "2.0.0",
      "model_name": "LayoutModel",
      "state": {}
     },
     "0a90281adca7492bb50a66e63d673a6c": {
      "model_module": "@jupyter-widgets/controls",
      "model_module_version": "2.0.0",
      "model_name": "ButtonModel",
      "state": {
       "description": "Submit",
       "layout": "IPY_MODEL_f27c4cacbfe44d29b0b97d55374bbb06",
       "style": "IPY_MODEL_984939fb24b94a51b871d7c6512831c6",
       "tooltip": null
      }
     },
     "111785e3e8854499a7423025ccd5e99d": {
      "model_module": "@jupyter-widgets/controls",
      "model_module_version": "2.0.0",
      "model_name": "DropdownModel",
      "state": {
       "_options_labels": [
        "",
        "Apple (AAPL) - Computer Manufacturing",
        "Microsoft (MSFT) - Computer Software: Prepackaged Software",
        "Amazon (AMZN) - Catalog/Specialty Distribution",
        "Nvidia (NVDA) - Semiconductors",
        "Alphabet (GOOGL) - Computer Software: Programming, Data Processing",
        "Meta (META) - Computer Software: Programming, Data Processing",
        "Tesla (TSLA) - Auto Manufacturing",
        "Berkshire Hathaway (BRK.B) - Conglomerate",
        "Unitedhealth Group (UNH) - Medical Specialities",
        "Jpmorgan Chase & Co (JPM) - Major Banks",
        "Johnson & Johnson (JNJ) - Biotechnology: Pharmaceutical Preparations",
        "Exxon Mobil (XOM) - Integrated oil Companies",
        "Visa (V) - Business Services",
        "Broadcom (AVGO) - Semiconductors"
       ],
       "description": "Stock 1:",
       "index": 0,
       "layout": "IPY_MODEL_8b0d5e6e45994a3aab6f778a392666ac",
       "style": "IPY_MODEL_bf41bb65429045919934852ca5521637"
      }
     },
     "16f331b90dd1442baf4557223b52df2a": {
      "model_module": "@jupyter-widgets/controls",
      "model_module_version": "2.0.0",
      "model_name": "DropdownModel",
      "state": {
       "_options_labels": [
        "",
        "Apple (AAPL) - Computer Manufacturing",
        "Microsoft (MSFT) - Computer Software: Prepackaged Software",
        "Amazon (AMZN) - Catalog/Specialty Distribution",
        "Nvidia (NVDA) - Semiconductors",
        "Alphabet (GOOGL) - Computer Software: Programming, Data Processing",
        "Meta (META) - Computer Software: Programming, Data Processing",
        "Tesla (TSLA) - Auto Manufacturing",
        "Berkshire Hathaway (BRK.B) - Conglomerate",
        "Unitedhealth Group (UNH) - Medical Specialities",
        "Jpmorgan Chase & Co (JPM) - Major Banks",
        "Johnson & Johnson (JNJ) - Biotechnology: Pharmaceutical Preparations",
        "Exxon Mobil (XOM) - Integrated oil Companies",
        "Visa (V) - Business Services",
        "Broadcom (AVGO) - Semiconductors"
       ],
       "description": "Stock 1:",
       "index": 1,
       "layout": "IPY_MODEL_68515463b0f942059c3bdd6c94c10add",
       "style": "IPY_MODEL_de2199e130e04c14a35673c3377699d0"
      }
     },
     "195c00ea06ab4a3bbfb07e2255bd3778": {
      "model_module": "@jupyter-widgets/controls",
      "model_module_version": "2.0.0",
      "model_name": "ButtonModel",
      "state": {
       "description": "Submit",
       "layout": "IPY_MODEL_05cf381d4546478d94c5024ab6530e27",
       "style": "IPY_MODEL_6909f742223440bcafe7f49efe836e8b",
       "tooltip": null
      }
     },
     "1a7286d652e64174acc8c3a0987c9b6e": {
      "model_module": "@jupyter-widgets/base",
      "model_module_version": "2.0.0",
      "model_name": "LayoutModel",
      "state": {}
     },
     "1bbec65d6c244f14980869d41b2a9456": {
      "model_module": "@jupyter-widgets/controls",
      "model_module_version": "2.0.0",
      "model_name": "DescriptionStyleModel",
      "state": {
       "description_width": ""
      }
     },
     "1dd921c674174e429816bc8bbd9d6b5d": {
      "model_module": "@jupyter-widgets/controls",
      "model_module_version": "2.0.0",
      "model_name": "ButtonStyleModel",
      "state": {
       "font_family": null,
       "font_size": null,
       "font_style": null,
       "font_variant": null,
       "font_weight": null,
       "text_color": null,
       "text_decoration": null
      }
     },
     "208009eb905e48f08b8eec7bd100e573": {
      "model_module": "@jupyter-widgets/base",
      "model_module_version": "2.0.0",
      "model_name": "LayoutModel",
      "state": {}
     },
     "209275fae9c44f6c81f87763cd1270ef": {
      "model_module": "@jupyter-widgets/controls",
      "model_module_version": "2.0.0",
      "model_name": "TextStyleModel",
      "state": {
       "description_width": "",
       "font_size": null,
       "text_color": null
      }
     },
     "2593328307a64ea8973585a9c1a36a68": {
      "model_module": "@jupyter-widgets/base",
      "model_module_version": "2.0.0",
      "model_name": "LayoutModel",
      "state": {}
     },
     "27cabaf7e5724d5cac8b19e7f37afe92": {
      "model_module": "@jupyter-widgets/controls",
      "model_module_version": "2.0.0",
      "model_name": "ButtonStyleModel",
      "state": {
       "font_family": null,
       "font_size": null,
       "font_style": null,
       "font_variant": null,
       "font_weight": null,
       "text_color": null,
       "text_decoration": null
      }
     },
     "3180c78dcc4345f1b84b48533d7ce382": {
      "model_module": "@jupyter-widgets/controls",
      "model_module_version": "2.0.0",
      "model_name": "TextareaModel",
      "state": {
       "description": "First Name:",
       "layout": "IPY_MODEL_f93143390ef742a7af10e1523f26e2ff",
       "placeholder": "Type something",
       "style": "IPY_MODEL_209275fae9c44f6c81f87763cd1270ef",
       "value": "Jim"
      }
     },
     "3ddc3b91db1a45a986c4d2e88bf4a670": {
      "model_module": "@jupyter-widgets/controls",
      "model_module_version": "2.0.0",
      "model_name": "ButtonModel",
      "state": {
       "description": "Submit",
       "layout": "IPY_MODEL_80076b7e34ae40858b283d266268fb9f",
       "style": "IPY_MODEL_27cabaf7e5724d5cac8b19e7f37afe92",
       "tooltip": null
      }
     },
     "3df45c8cbbcc48dc9e2bee5c7be6fbd3": {
      "model_module": "@jupyter-widgets/controls",
      "model_module_version": "2.0.0",
      "model_name": "ButtonModel",
      "state": {
       "description": "Submit",
       "layout": "IPY_MODEL_6cb3378b63c54b63acd7d7390757a768",
       "style": "IPY_MODEL_f60238741cfd4578927fb3ecea7cbae0",
       "tooltip": null
      }
     },
     "3e69bf2a37d2462ea62deb11521c17d2": {
      "model_module": "@jupyter-widgets/controls",
      "model_module_version": "2.0.0",
      "model_name": "DropdownModel",
      "state": {
       "_options_labels": [
        "",
        "Apple (AAPL) - Computer Manufacturing",
        "Microsoft (MSFT) - Computer Software: Prepackaged Software",
        "Amazon (AMZN) - Catalog/Specialty Distribution",
        "Nvidia (NVDA) - Semiconductors",
        "Alphabet (GOOGL) - Computer Software: Programming, Data Processing",
        "Meta (META) - Computer Software: Programming, Data Processing",
        "Tesla (TSLA) - Auto Manufacturing",
        "Berkshire Hathaway (BRK.B) - Conglomerate",
        "Unitedhealth Group (UNH) - Medical Specialities",
        "Jpmorgan Chase & Co (JPM) - Major Banks",
        "Johnson & Johnson (JNJ) - Biotechnology: Pharmaceutical Preparations",
        "Exxon Mobil (XOM) - Integrated oil Companies",
        "Visa (V) - Business Services",
        "Broadcom (AVGO) - Semiconductors"
       ],
       "description": "Stock 1:",
       "index": 0,
       "layout": "IPY_MODEL_445c6cab80fd4f288a2c202e3596f720",
       "style": "IPY_MODEL_1bbec65d6c244f14980869d41b2a9456"
      }
     },
     "445c6cab80fd4f288a2c202e3596f720": {
      "model_module": "@jupyter-widgets/base",
      "model_module_version": "2.0.0",
      "model_name": "LayoutModel",
      "state": {}
     },
     "492f49234fae4ac8b657d94e7d609156": {
      "model_module": "@jupyter-widgets/controls",
      "model_module_version": "2.0.0",
      "model_name": "ButtonModel",
      "state": {
       "description": "Submit",
       "layout": "IPY_MODEL_5517cd091fc143158e778cc4898eb654",
       "style": "IPY_MODEL_dde0c3bf7a2b450a9793ef69455a4f47",
       "tooltip": null
      }
     },
     "50e096b164a7407fa1213f92a8b23094": {
      "model_module": "@jupyter-widgets/controls",
      "model_module_version": "2.0.0",
      "model_name": "ButtonModel",
      "state": {
       "description": "Submit",
       "layout": "IPY_MODEL_1a7286d652e64174acc8c3a0987c9b6e",
       "style": "IPY_MODEL_1dd921c674174e429816bc8bbd9d6b5d",
       "tooltip": null
      }
     },
     "5517cd091fc143158e778cc4898eb654": {
      "model_module": "@jupyter-widgets/base",
      "model_module_version": "2.0.0",
      "model_name": "LayoutModel",
      "state": {}
     },
     "573747a01153431e8c15b650524cc1a5": {
      "model_module": "@jupyter-widgets/controls",
      "model_module_version": "2.0.0",
      "model_name": "DropdownModel",
      "state": {
       "_options_labels": [
        "1",
        "2",
        "3",
        "4",
        "5",
        "6",
        "7",
        "8",
        "9",
        "10",
        "Choose Stock Amount:"
       ],
       "description": "Amount",
       "index": 10,
       "layout": "IPY_MODEL_d908b6f73b674d52a0d46bf6b07164e6",
       "style": "IPY_MODEL_f60471ccfcd14feba42f52287567a3c0"
      }
     },
     "68515463b0f942059c3bdd6c94c10add": {
      "model_module": "@jupyter-widgets/base",
      "model_module_version": "2.0.0",
      "model_name": "LayoutModel",
      "state": {}
     },
     "6909f742223440bcafe7f49efe836e8b": {
      "model_module": "@jupyter-widgets/controls",
      "model_module_version": "2.0.0",
      "model_name": "ButtonStyleModel",
      "state": {
       "font_family": null,
       "font_size": null,
       "font_style": null,
       "font_variant": null,
       "font_weight": null,
       "text_color": null,
       "text_decoration": null
      }
     },
     "6cb3378b63c54b63acd7d7390757a768": {
      "model_module": "@jupyter-widgets/base",
      "model_module_version": "2.0.0",
      "model_name": "LayoutModel",
      "state": {}
     },
     "80076b7e34ae40858b283d266268fb9f": {
      "model_module": "@jupyter-widgets/base",
      "model_module_version": "2.0.0",
      "model_name": "LayoutModel",
      "state": {}
     },
     "8b0d5e6e45994a3aab6f778a392666ac": {
      "model_module": "@jupyter-widgets/base",
      "model_module_version": "2.0.0",
      "model_name": "LayoutModel",
      "state": {}
     },
     "902a1e440a8a43d69edb09671b98a14d": {
      "model_module": "@jupyter-widgets/controls",
      "model_module_version": "2.0.0",
      "model_name": "TextareaModel",
      "state": {
       "description": "First Name:",
       "layout": "IPY_MODEL_d9db9b19f2224eaa814b5fd4b28386f7",
       "placeholder": "Type something",
       "style": "IPY_MODEL_f0fbc72f94424bc0b3e4dbbf15d7d026",
       "value": "Input your name"
      }
     },
     "984939fb24b94a51b871d7c6512831c6": {
      "model_module": "@jupyter-widgets/controls",
      "model_module_version": "2.0.0",
      "model_name": "ButtonStyleModel",
      "state": {
       "font_family": null,
       "font_size": null,
       "font_style": null,
       "font_variant": null,
       "font_weight": null,
       "text_color": null,
       "text_decoration": null
      }
     },
     "a9c3f36476ed449ea0c9295ecf9706a5": {
      "model_module": "@jupyter-widgets/controls",
      "model_module_version": "2.0.0",
      "model_name": "DropdownModel",
      "state": {
       "_options_labels": [
        "1",
        "2",
        "3",
        "4",
        "5",
        "6",
        "7",
        "8",
        "9",
        "10",
        "Choose Stock Amount:"
       ],
       "description": "Amount",
       "index": 0,
       "layout": "IPY_MODEL_208009eb905e48f08b8eec7bd100e573",
       "style": "IPY_MODEL_c45c215b65414155ae62cd25f837eb91"
      }
     },
     "bf41bb65429045919934852ca5521637": {
      "model_module": "@jupyter-widgets/controls",
      "model_module_version": "2.0.0",
      "model_name": "DescriptionStyleModel",
      "state": {
       "description_width": ""
      }
     },
     "c1c1d85f78f2484e82e42a0cd0b1ae64": {
      "model_module": "@jupyter-widgets/controls",
      "model_module_version": "2.0.0",
      "model_name": "DropdownModel",
      "state": {
       "_options_labels": [
        "1",
        "2",
        "3",
        "4",
        "5",
        "6",
        "7",
        "8",
        "9",
        "10",
        "Choose Stock Amount:"
       ],
       "description": "Amount",
       "index": 10,
       "layout": "IPY_MODEL_2593328307a64ea8973585a9c1a36a68",
       "style": "IPY_MODEL_fd6df490cedb477ca43e5d6f134ae6e7"
      }
     },
     "c45c215b65414155ae62cd25f837eb91": {
      "model_module": "@jupyter-widgets/controls",
      "model_module_version": "2.0.0",
      "model_name": "DescriptionStyleModel",
      "state": {
       "description_width": ""
      }
     },
     "c734f63284f04527a89b259dd4f0bdbd": {
      "model_module": "@jupyter-widgets/controls",
      "model_module_version": "2.0.0",
      "model_name": "TextareaModel",
      "state": {
       "description": "First Name:",
       "layout": "IPY_MODEL_d735da6cd552491999fad28796277947",
       "placeholder": "Type something",
       "style": "IPY_MODEL_e00ba33b7063490f92ab264a1ecae2e4",
       "value": "Input your name"
      }
     },
     "d735da6cd552491999fad28796277947": {
      "model_module": "@jupyter-widgets/base",
      "model_module_version": "2.0.0",
      "model_name": "LayoutModel",
      "state": {}
     },
     "d908b6f73b674d52a0d46bf6b07164e6": {
      "model_module": "@jupyter-widgets/base",
      "model_module_version": "2.0.0",
      "model_name": "LayoutModel",
      "state": {}
     },
     "d9db9b19f2224eaa814b5fd4b28386f7": {
      "model_module": "@jupyter-widgets/base",
      "model_module_version": "2.0.0",
      "model_name": "LayoutModel",
      "state": {}
     },
     "dde0c3bf7a2b450a9793ef69455a4f47": {
      "model_module": "@jupyter-widgets/controls",
      "model_module_version": "2.0.0",
      "model_name": "ButtonStyleModel",
      "state": {
       "font_family": null,
       "font_size": null,
       "font_style": null,
       "font_variant": null,
       "font_weight": null,
       "text_color": null,
       "text_decoration": null
      }
     },
     "de2199e130e04c14a35673c3377699d0": {
      "model_module": "@jupyter-widgets/controls",
      "model_module_version": "2.0.0",
      "model_name": "DescriptionStyleModel",
      "state": {
       "description_width": ""
      }
     },
     "e00ba33b7063490f92ab264a1ecae2e4": {
      "model_module": "@jupyter-widgets/controls",
      "model_module_version": "2.0.0",
      "model_name": "TextStyleModel",
      "state": {
       "description_width": "",
       "font_size": null,
       "text_color": null
      }
     },
     "f0fbc72f94424bc0b3e4dbbf15d7d026": {
      "model_module": "@jupyter-widgets/controls",
      "model_module_version": "2.0.0",
      "model_name": "TextStyleModel",
      "state": {
       "description_width": "",
       "font_size": null,
       "text_color": null
      }
     },
     "f27c4cacbfe44d29b0b97d55374bbb06": {
      "model_module": "@jupyter-widgets/base",
      "model_module_version": "2.0.0",
      "model_name": "LayoutModel",
      "state": {}
     },
     "f60238741cfd4578927fb3ecea7cbae0": {
      "model_module": "@jupyter-widgets/controls",
      "model_module_version": "2.0.0",
      "model_name": "ButtonStyleModel",
      "state": {
       "font_family": null,
       "font_size": null,
       "font_style": null,
       "font_variant": null,
       "font_weight": null,
       "text_color": null,
       "text_decoration": null
      }
     },
     "f60471ccfcd14feba42f52287567a3c0": {
      "model_module": "@jupyter-widgets/controls",
      "model_module_version": "2.0.0",
      "model_name": "DescriptionStyleModel",
      "state": {
       "description_width": ""
      }
     },
     "f93143390ef742a7af10e1523f26e2ff": {
      "model_module": "@jupyter-widgets/base",
      "model_module_version": "2.0.0",
      "model_name": "LayoutModel",
      "state": {}
     },
     "fd6df490cedb477ca43e5d6f134ae6e7": {
      "model_module": "@jupyter-widgets/controls",
      "model_module_version": "2.0.0",
      "model_name": "DescriptionStyleModel",
      "state": {
       "description_width": ""
      }
     }
    },
    "version_major": 2,
    "version_minor": 0
   }
  }
 },
 "nbformat": 4,
 "nbformat_minor": 5
}
