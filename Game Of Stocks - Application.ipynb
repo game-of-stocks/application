{
 "cells": [
  {
   "cell_type": "code",
   "execution_count": 40,
   "id": "76319276",
   "metadata": {},
   "outputs": [],
   "source": [
    "#packages related to dataframes\n",
    "import pandas as pd\n",
    "import numpy as np\n",
    "from pathlib import Path\n",
    "import ast\n",
    "\n",
    "#package needed to assign user a unique id \n",
    "import uuid\n",
    "\n",
    "#package nee\n",
    "import csv\n",
    "\n",
    "# Importing helper function from utils folder \n",
    "import sys\n",
    "sys.path.append('Resources/utils')\n",
    "from user_form_intake import inital_user_intake, get_user_inital_input, portfolio_user_intake, get_user_portfolio_input"
   ]
  },
  {
   "cell_type": "markdown",
   "id": "665e32d0",
   "metadata": {},
   "source": [
    "# Grabbing the Data Files "
   ]
  },
  {
   "cell_type": "code",
   "execution_count": 11,
   "id": "b8486b97",
   "metadata": {},
   "outputs": [
    {
     "data": {
      "text/html": [
       "<div>\n",
       "<style scoped>\n",
       "    .dataframe tbody tr th:only-of-type {\n",
       "        vertical-align: middle;\n",
       "    }\n",
       "\n",
       "    .dataframe tbody tr th {\n",
       "        vertical-align: top;\n",
       "    }\n",
       "\n",
       "    .dataframe thead th {\n",
       "        text-align: right;\n",
       "    }\n",
       "</style>\n",
       "<table border=\"1\" class=\"dataframe\">\n",
       "  <thead>\n",
       "    <tr style=\"text-align: right;\">\n",
       "      <th></th>\n",
       "      <th>Company</th>\n",
       "      <th>Ticker</th>\n",
       "      <th>Close_Price</th>\n",
       "      <th>Industry</th>\n",
       "      <th>Sector</th>\n",
       "    </tr>\n",
       "    <tr>\n",
       "      <th>Date</th>\n",
       "      <th></th>\n",
       "      <th></th>\n",
       "      <th></th>\n",
       "      <th></th>\n",
       "      <th></th>\n",
       "    </tr>\n",
       "  </thead>\n",
       "  <tbody>\n",
       "    <tr>\n",
       "      <th>2023-02-01</th>\n",
       "      <td>Apple</td>\n",
       "      <td>AAPL</td>\n",
       "      <td>145.43</td>\n",
       "      <td>Computer Manufacturing</td>\n",
       "      <td>Technology</td>\n",
       "    </tr>\n",
       "    <tr>\n",
       "      <th>2023-02-01</th>\n",
       "      <td>Amazon</td>\n",
       "      <td>AMZN</td>\n",
       "      <td>105.15</td>\n",
       "      <td>Catalog/Specialty Distribution</td>\n",
       "      <td>Consumer Discretionary</td>\n",
       "    </tr>\n",
       "    <tr>\n",
       "      <th>2023-02-01</th>\n",
       "      <td>Nvidia</td>\n",
       "      <td>NVDA</td>\n",
       "      <td>209.43</td>\n",
       "      <td>Semiconductors</td>\n",
       "      <td>Technology</td>\n",
       "    </tr>\n",
       "    <tr>\n",
       "      <th>2023-02-01</th>\n",
       "      <td>Alphabet</td>\n",
       "      <td>GOOGL</td>\n",
       "      <td>100.43</td>\n",
       "      <td>Computer Software: Programming, Data Processing</td>\n",
       "      <td>Technology</td>\n",
       "    </tr>\n",
       "    <tr>\n",
       "      <th>2023-02-01</th>\n",
       "      <td>Meta</td>\n",
       "      <td>META</td>\n",
       "      <td>153.12</td>\n",
       "      <td>Computer Software: Programming, Data Processing</td>\n",
       "      <td>Technology</td>\n",
       "    </tr>\n",
       "  </tbody>\n",
       "</table>\n",
       "</div>"
      ],
      "text/plain": [
       "             Company Ticker  Close_Price  \\\n",
       "Date                                       \n",
       "2023-02-01     Apple   AAPL       145.43   \n",
       "2023-02-01    Amazon   AMZN       105.15   \n",
       "2023-02-01    Nvidia   NVDA       209.43   \n",
       "2023-02-01  Alphabet  GOOGL       100.43   \n",
       "2023-02-01      Meta   META       153.12   \n",
       "\n",
       "                                                   Industry  \\\n",
       "Date                                                          \n",
       "2023-02-01                           Computer Manufacturing   \n",
       "2023-02-01                   Catalog/Specialty Distribution   \n",
       "2023-02-01                                   Semiconductors   \n",
       "2023-02-01  Computer Software: Programming, Data Processing   \n",
       "2023-02-01  Computer Software: Programming, Data Processing   \n",
       "\n",
       "                            Sector  \n",
       "Date                                \n",
       "2023-02-01              Technology  \n",
       "2023-02-01  Consumer Discretionary  \n",
       "2023-02-01              Technology  \n",
       "2023-02-01              Technology  \n",
       "2023-02-01              Technology  "
      ]
     },
     "execution_count": 11,
     "metadata": {},
     "output_type": "execute_result"
    }
   ],
   "source": [
    "#Grabing the raw stock data and putting in dataframe\n",
    "raw_stocks_data_to_load =  Path(\"Resources/Data/Stock_Index_Raw_Data.csv\")\n",
    "raw_stocks_data_df = pd.read_csv(raw_stocks_data_to_load, header=0, parse_dates=True, index_col=\"Date\", infer_datetime_format=True)\n",
    "raw_stocks_data_df.sort_index(ascending = True, inplace = True)\n",
    "raw_stocks_data_df.head()"
   ]
  },
  {
   "cell_type": "code",
   "execution_count": 12,
   "id": "43c31df6",
   "metadata": {},
   "outputs": [
    {
     "data": {
      "text/html": [
       "<div>\n",
       "<style scoped>\n",
       "    .dataframe tbody tr th:only-of-type {\n",
       "        vertical-align: middle;\n",
       "    }\n",
       "\n",
       "    .dataframe tbody tr th {\n",
       "        vertical-align: top;\n",
       "    }\n",
       "\n",
       "    .dataframe thead th {\n",
       "        text-align: right;\n",
       "    }\n",
       "</style>\n",
       "<table border=\"1\" class=\"dataframe\">\n",
       "  <thead>\n",
       "    <tr style=\"text-align: right;\">\n",
       "      <th></th>\n",
       "      <th>UUID</th>\n",
       "      <th>User_Name</th>\n",
       "      <th>Sharpe_Ratio</th>\n",
       "      <th>Stocks</th>\n",
       "    </tr>\n",
       "  </thead>\n",
       "  <tbody>\n",
       "    <tr>\n",
       "      <th>0</th>\n",
       "      <td>c8b71fc0-a969-4bbb-80f0-8caeedd3cc6a</td>\n",
       "      <td>Test1</td>\n",
       "      <td>4.54450</td>\n",
       "      <td>['AVGO', 'AAPL', 'MSFT', 'V', 'NVDA']</td>\n",
       "    </tr>\n",
       "    <tr>\n",
       "      <th>1</th>\n",
       "      <td>951bb78a-dacb-4047-a255-2eb50314a9fd</td>\n",
       "      <td>Amy</td>\n",
       "      <td>4.43430</td>\n",
       "      <td>['V', 'GOOGL', 'JNJ', 'MSFT', 'XOM']</td>\n",
       "    </tr>\n",
       "    <tr>\n",
       "      <th>2</th>\n",
       "      <td>56a3ba9e-7b6d-4376-a6d8-ffd2f42cee9d</td>\n",
       "      <td>Chris</td>\n",
       "      <td>3.11234</td>\n",
       "      <td>['AVGO', 'AAPL', 'MSFT', 'XOM']</td>\n",
       "    </tr>\n",
       "    <tr>\n",
       "      <th>3</th>\n",
       "      <td>951bb78a-dacb-4047-a255-2eb50314a9fd</td>\n",
       "      <td>Amy</td>\n",
       "      <td>3.11234</td>\n",
       "      <td>['V', 'GOOGL', 'JNJ', 'MSFT', 'XOM']</td>\n",
       "    </tr>\n",
       "    <tr>\n",
       "      <th>4</th>\n",
       "      <td>2526a1f9-0f46-4b73-a0aa-ac9f5920e3d9</td>\n",
       "      <td>JJ</td>\n",
       "      <td>2.11000</td>\n",
       "      <td>['AMZN', 'AAPL', 'MSFT', 'JPM']</td>\n",
       "    </tr>\n",
       "  </tbody>\n",
       "</table>\n",
       "</div>"
      ],
      "text/plain": [
       "                                   UUID User_Name  Sharpe_Ratio  \\\n",
       "0  c8b71fc0-a969-4bbb-80f0-8caeedd3cc6a     Test1       4.54450   \n",
       "1  951bb78a-dacb-4047-a255-2eb50314a9fd       Amy       4.43430   \n",
       "2  56a3ba9e-7b6d-4376-a6d8-ffd2f42cee9d    Chris        3.11234   \n",
       "3  951bb78a-dacb-4047-a255-2eb50314a9fd       Amy       3.11234   \n",
       "4  2526a1f9-0f46-4b73-a0aa-ac9f5920e3d9        JJ       2.11000   \n",
       "\n",
       "                                  Stocks  \n",
       "0  ['AVGO', 'AAPL', 'MSFT', 'V', 'NVDA']  \n",
       "1   ['V', 'GOOGL', 'JNJ', 'MSFT', 'XOM']  \n",
       "2        ['AVGO', 'AAPL', 'MSFT', 'XOM']  \n",
       "3   ['V', 'GOOGL', 'JNJ', 'MSFT', 'XOM']  \n",
       "4        ['AMZN', 'AAPL', 'MSFT', 'JPM']  "
      ]
     },
     "execution_count": 12,
     "metadata": {},
     "output_type": "execute_result"
    }
   ],
   "source": [
    "#Grabing the raw stock data and putting in dataframe\n",
    "user_data_to_load =  Path(\"Resources/Data/User_Portfolio_Data.csv\")\n",
    "user_data_df = pd.read_csv(user_data_to_load, header=0, parse_dates=True)\n",
    "user_data_df.sort_index(ascending = True, inplace = True)\n",
    "user_data_df.head()"
   ]
  },
  {
   "cell_type": "markdown",
   "id": "ebc9d162",
   "metadata": {},
   "source": [
    "# User Input for Game of Stocks"
   ]
  },
  {
   "cell_type": "code",
   "execution_count": 13,
   "id": "a9e4c9d4",
   "metadata": {},
   "outputs": [
    {
     "name": "stdout",
     "output_type": "stream",
     "text": [
      "Welcome to the Game of Stocks! You will be asked a series of questions to get started. \n",
      "    You can choose up to 10 stickes to create portfolio. Remember to diversify your portfolio.   \n"
     ]
    },
    {
     "data": {
      "application/vnd.jupyter.widget-view+json": {
       "model_id": "79d4911c3c264bde9df0deda5828fac5",
       "version_major": 2,
       "version_minor": 0
      },
      "text/plain": [
       "Textarea(value='Input your name', description='First Name:', placeholder='Type something')"
      ]
     },
     "metadata": {},
     "output_type": "display_data"
    },
    {
     "data": {
      "application/vnd.jupyter.widget-view+json": {
       "model_id": "70fa451405ed4eafb912e6c865826da6",
       "version_major": 2,
       "version_minor": 0
      },
      "text/plain": [
       "Dropdown(description='Amount', index=10, options=(1, 2, 3, 4, 5, 6, 7, 8, 9, 10, 'Choose Stock Amount:'), valu…"
      ]
     },
     "metadata": {},
     "output_type": "display_data"
    },
    {
     "data": {
      "application/vnd.jupyter.widget-view+json": {
       "model_id": "12f4545fd9e849658a01148360ea00aa",
       "version_major": 2,
       "version_minor": 0
      },
      "text/plain": [
       "Button(description='Submit', style=ButtonStyle())"
      ]
     },
     "metadata": {},
     "output_type": "display_data"
    }
   ],
   "source": [
    "# Envoking the user intake form 1. It will store the information in the following variables so it can be used in notebook later.\n",
    "\n",
    "inital_user_intake()"
   ]
  },
  {
   "cell_type": "code",
   "execution_count": 14,
   "id": "c9bdeb87",
   "metadata": {},
   "outputs": [],
   "source": [
    "# Getting the form values that was store in name, num_of_stocks_choosen \n",
    "name, num_of_stocks_choosen = get_user_inital_input()"
   ]
  },
  {
   "cell_type": "code",
   "execution_count": 15,
   "id": "ce4591c9",
   "metadata": {},
   "outputs": [
    {
     "data": {
      "application/vnd.jupyter.widget-view+json": {
       "model_id": "23c8bca1b2f544a696ff532fc3dbeb9d",
       "version_major": 2,
       "version_minor": 0
      },
      "text/plain": [
       "Dropdown(description='Stock 1:', options=('', 'Apple (AAPL) - Computer Manufacturing', 'Microsoft (MSFT) - Com…"
      ]
     },
     "metadata": {},
     "output_type": "display_data"
    },
    {
     "data": {
      "application/vnd.jupyter.widget-view+json": {
       "model_id": "b225b94777224c16aa6a6366fb307098",
       "version_major": 2,
       "version_minor": 0
      },
      "text/plain": [
       "Dropdown(description='Stock 2:', options=('', 'Apple (AAPL) - Computer Manufacturing', 'Microsoft (MSFT) - Com…"
      ]
     },
     "metadata": {},
     "output_type": "display_data"
    },
    {
     "data": {
      "application/vnd.jupyter.widget-view+json": {
       "model_id": "d99c818b38f3468bab4fa82835853c10",
       "version_major": 2,
       "version_minor": 0
      },
      "text/plain": [
       "Dropdown(description='Stock 3:', options=('', 'Apple (AAPL) - Computer Manufacturing', 'Microsoft (MSFT) - Com…"
      ]
     },
     "metadata": {},
     "output_type": "display_data"
    },
    {
     "data": {
      "application/vnd.jupyter.widget-view+json": {
       "model_id": "3e359e18449543c0888336d5651f9a48",
       "version_major": 2,
       "version_minor": 0
      },
      "text/plain": [
       "Dropdown(description='Stock 4:', options=('', 'Apple (AAPL) - Computer Manufacturing', 'Microsoft (MSFT) - Com…"
      ]
     },
     "metadata": {},
     "output_type": "display_data"
    },
    {
     "data": {
      "application/vnd.jupyter.widget-view+json": {
       "model_id": "f923b866b57e40dbab65dfb30b0abbc0",
       "version_major": 2,
       "version_minor": 0
      },
      "text/plain": [
       "Button(description='Submit', style=ButtonStyle())"
      ]
     },
     "metadata": {},
     "output_type": "display_data"
    }
   ],
   "source": [
    "portfolio_user_intake(num_of_stocks_choosen)"
   ]
  },
  {
   "cell_type": "code",
   "execution_count": 16,
   "id": "27a42309",
   "metadata": {},
   "outputs": [],
   "source": [
    "# getting the user chosen portfolio\n",
    "unique_user_portfolio_array = get_user_portfolio_input()"
   ]
  },
  {
   "cell_type": "code",
   "execution_count": 17,
   "id": "c188efe9",
   "metadata": {},
   "outputs": [
    {
     "data": {
      "text/plain": [
       "['NVDA', 'AMZN', 'AAPL', 'MSFT']"
      ]
     },
     "execution_count": 17,
     "metadata": {},
     "output_type": "execute_result"
    }
   ],
   "source": [
    "unique_user_portfolio_array"
   ]
  },
  {
   "cell_type": "code",
   "execution_count": 18,
   "id": "7cde4d83",
   "metadata": {},
   "outputs": [
    {
     "data": {
      "text/plain": [
       "0.25"
      ]
     },
     "execution_count": 18,
     "metadata": {},
     "output_type": "execute_result"
    }
   ],
   "source": [
    "#calculating individual weights since we will assume it will be evenly split\n",
    "weight = round((1/len(unique_user_portfolio_array)),5)\n",
    "\n",
    "weight"
   ]
  },
  {
   "cell_type": "code",
   "execution_count": 19,
   "id": "cc8eb57c",
   "metadata": {},
   "outputs": [
    {
     "data": {
      "text/plain": [
       "[0.25, 0.25, 0.25, 0.25]"
      ]
     },
     "execution_count": 19,
     "metadata": {},
     "output_type": "execute_result"
    }
   ],
   "source": [
    "#creating the weight array to apply to stocks\n",
    "weight_array = [weight] * len(unique_user_portfolio_array)\n",
    "weight_array"
   ]
  },
  {
   "cell_type": "markdown",
   "id": "5f190bb3",
   "metadata": {},
   "source": [
    "# User Portfolio Calculations "
   ]
  },
  {
   "cell_type": "code",
   "execution_count": 20,
   "id": "448f099f",
   "metadata": {},
   "outputs": [
    {
     "data": {
      "text/html": [
       "<div>\n",
       "<style scoped>\n",
       "    .dataframe tbody tr th:only-of-type {\n",
       "        vertical-align: middle;\n",
       "    }\n",
       "\n",
       "    .dataframe tbody tr th {\n",
       "        vertical-align: top;\n",
       "    }\n",
       "\n",
       "    .dataframe thead th {\n",
       "        text-align: right;\n",
       "    }\n",
       "</style>\n",
       "<table border=\"1\" class=\"dataframe\">\n",
       "  <thead>\n",
       "    <tr style=\"text-align: right;\">\n",
       "      <th>Ticker</th>\n",
       "      <th>AAPL</th>\n",
       "      <th>AMZN</th>\n",
       "      <th>MSFT</th>\n",
       "      <th>NVDA</th>\n",
       "    </tr>\n",
       "    <tr>\n",
       "      <th>Date</th>\n",
       "      <th></th>\n",
       "      <th></th>\n",
       "      <th></th>\n",
       "      <th></th>\n",
       "    </tr>\n",
       "  </thead>\n",
       "  <tbody>\n",
       "    <tr>\n",
       "      <th>2023-02-02</th>\n",
       "      <td>0.037063</td>\n",
       "      <td>0.073799</td>\n",
       "      <td>0.046884</td>\n",
       "      <td>0.036575</td>\n",
       "    </tr>\n",
       "    <tr>\n",
       "      <th>2023-02-03</th>\n",
       "      <td>0.024400</td>\n",
       "      <td>-0.084315</td>\n",
       "      <td>-0.023621</td>\n",
       "      <td>-0.028053</td>\n",
       "    </tr>\n",
       "    <tr>\n",
       "      <th>2023-02-06</th>\n",
       "      <td>-0.017929</td>\n",
       "      <td>-0.011703</td>\n",
       "      <td>-0.006116</td>\n",
       "      <td>-0.000521</td>\n",
       "    </tr>\n",
       "    <tr>\n",
       "      <th>2023-02-07</th>\n",
       "      <td>0.019245</td>\n",
       "      <td>-0.000685</td>\n",
       "      <td>0.042022</td>\n",
       "      <td>0.051401</td>\n",
       "    </tr>\n",
       "    <tr>\n",
       "      <th>2023-02-08</th>\n",
       "      <td>-0.017653</td>\n",
       "      <td>-0.020174</td>\n",
       "      <td>-0.003102</td>\n",
       "      <td>0.001443</td>\n",
       "    </tr>\n",
       "  </tbody>\n",
       "</table>\n",
       "</div>"
      ],
      "text/plain": [
       "Ticker          AAPL      AMZN      MSFT      NVDA\n",
       "Date                                              \n",
       "2023-02-02  0.037063  0.073799  0.046884  0.036575\n",
       "2023-02-03  0.024400 -0.084315 -0.023621 -0.028053\n",
       "2023-02-06 -0.017929 -0.011703 -0.006116 -0.000521\n",
       "2023-02-07  0.019245 -0.000685  0.042022  0.051401\n",
       "2023-02-08 -0.017653 -0.020174 -0.003102  0.001443"
      ]
     },
     "execution_count": 20,
     "metadata": {},
     "output_type": "execute_result"
    }
   ],
   "source": [
    "# Get data from file for tickers in unique_user_portfolio_array using \".loc\" and \".isin\"\n",
    "portfolio_returns = raw_stocks_data_df.loc[raw_stocks_data_df[\"Ticker\"].isin(unique_user_portfolio_array)]\n",
    "\n",
    "# Filter columns to get only the Ticker and Close Price and drop null values\n",
    "portfolio_returns= portfolio_returns[[\"Ticker\",\"Close_Price\"]].dropna()\n",
    "\n",
    "# Set tickers as columns\n",
    "portfolio_returns= portfolio_returns.pivot_table(\"Close_Price\",\"Date\",\"Ticker\")\n",
    "\n",
    "# Calculate daily returns using \"pct_change\" and drop null values \n",
    "portfolio_returns = portfolio_returns.pct_change().dropna()\n",
    "\n",
    "# Display data\n",
    "portfolio_returns.head()"
   ]
  },
  {
   "cell_type": "code",
   "execution_count": 21,
   "id": "4a6dc3b0",
   "metadata": {},
   "outputs": [
    {
     "data": {
      "text/html": [
       "<div>\n",
       "<style scoped>\n",
       "    .dataframe tbody tr th:only-of-type {\n",
       "        vertical-align: middle;\n",
       "    }\n",
       "\n",
       "    .dataframe tbody tr th {\n",
       "        vertical-align: top;\n",
       "    }\n",
       "\n",
       "    .dataframe thead th {\n",
       "        text-align: right;\n",
       "    }\n",
       "</style>\n",
       "<table border=\"1\" class=\"dataframe\">\n",
       "  <thead>\n",
       "    <tr style=\"text-align: right;\">\n",
       "      <th>Ticker</th>\n",
       "      <th>AAPL</th>\n",
       "      <th>AMZN</th>\n",
       "      <th>MSFT</th>\n",
       "      <th>NVDA</th>\n",
       "      <th>Portfolio</th>\n",
       "    </tr>\n",
       "    <tr>\n",
       "      <th>Date</th>\n",
       "      <th></th>\n",
       "      <th></th>\n",
       "      <th></th>\n",
       "      <th></th>\n",
       "      <th></th>\n",
       "    </tr>\n",
       "  </thead>\n",
       "  <tbody>\n",
       "    <tr>\n",
       "      <th>2023-02-02</th>\n",
       "      <td>0.037063</td>\n",
       "      <td>0.073799</td>\n",
       "      <td>0.046884</td>\n",
       "      <td>0.036575</td>\n",
       "      <td>0.048580</td>\n",
       "    </tr>\n",
       "    <tr>\n",
       "      <th>2023-02-03</th>\n",
       "      <td>0.024400</td>\n",
       "      <td>-0.084315</td>\n",
       "      <td>-0.023621</td>\n",
       "      <td>-0.028053</td>\n",
       "      <td>-0.027897</td>\n",
       "    </tr>\n",
       "    <tr>\n",
       "      <th>2023-02-06</th>\n",
       "      <td>-0.017929</td>\n",
       "      <td>-0.011703</td>\n",
       "      <td>-0.006116</td>\n",
       "      <td>-0.000521</td>\n",
       "      <td>-0.009067</td>\n",
       "    </tr>\n",
       "    <tr>\n",
       "      <th>2023-02-07</th>\n",
       "      <td>0.019245</td>\n",
       "      <td>-0.000685</td>\n",
       "      <td>0.042022</td>\n",
       "      <td>0.051401</td>\n",
       "      <td>0.027996</td>\n",
       "    </tr>\n",
       "    <tr>\n",
       "      <th>2023-02-08</th>\n",
       "      <td>-0.017653</td>\n",
       "      <td>-0.020174</td>\n",
       "      <td>-0.003102</td>\n",
       "      <td>0.001443</td>\n",
       "      <td>-0.009871</td>\n",
       "    </tr>\n",
       "  </tbody>\n",
       "</table>\n",
       "</div>"
      ],
      "text/plain": [
       "Ticker          AAPL      AMZN      MSFT      NVDA  Portfolio\n",
       "Date                                                         \n",
       "2023-02-02  0.037063  0.073799  0.046884  0.036575   0.048580\n",
       "2023-02-03  0.024400 -0.084315 -0.023621 -0.028053  -0.027897\n",
       "2023-02-06 -0.017929 -0.011703 -0.006116 -0.000521  -0.009067\n",
       "2023-02-07  0.019245 -0.000685  0.042022  0.051401   0.027996\n",
       "2023-02-08 -0.017653 -0.020174 -0.003102  0.001443  -0.009871"
      ]
     },
     "execution_count": 21,
     "metadata": {},
     "output_type": "execute_result"
    }
   ],
   "source": [
    "# Create portfolio variable in dataframe with weights using \".dot\"\n",
    "portfolio_returns[\"Portfolio\"] = portfolio_returns.dot(weight_array)\n",
    "portfolio_returns.head()"
   ]
  },
  {
   "cell_type": "code",
   "execution_count": 22,
   "id": "fadd056c-4286-4596-871e-d0a4848384f7",
   "metadata": {},
   "outputs": [
    {
     "data": {
      "text/plain": [
       "3.4124308359758553"
      ]
     },
     "execution_count": 22,
     "metadata": {},
     "output_type": "execute_result"
    }
   ],
   "source": [
    "# use to store in user portfolio table \n",
    "user_sharpe_ratio= (portfolio_returns[\"Portfolio\"].mean() * (252)) / (portfolio_returns[\"Portfolio\"].std() * np.sqrt(252))\n",
    "user_sharpe_ratio"
   ]
  },
  {
   "cell_type": "markdown",
   "id": "34d5bb8e",
   "metadata": {},
   "source": [
    "# Storing User Info In User Portfolio CSV and Updating The Rank "
   ]
  },
  {
   "cell_type": "code",
   "execution_count": 23,
   "id": "d5e2ed73",
   "metadata": {},
   "outputs": [
    {
     "name": "stdout",
     "output_type": "stream",
     "text": [
      "UUID as string: 9911f3d6-2a1e-4956-b676-d14ddd12fe0e\n"
     ]
    }
   ],
   "source": [
    "#getting a uuid \n",
    "unique_id = uuid.uuid4()\n",
    "\n",
    "#converting uuid to string so it can store as a string in csv and easier to use loc\n",
    "user_uuid_str = str(unique_id)\n",
    "print(\"UUID as string:\", user_uuid_str)"
   ]
  },
  {
   "cell_type": "code",
   "execution_count": 24,
   "id": "605bf17b",
   "metadata": {},
   "outputs": [],
   "source": [
    "# Create a list of dictionaries (each dictionary represents a row of data)\n",
    "user_data = [{'UUID': user_uuid_str,\n",
    "              'User_Name': name,\n",
    "              'Sharpe_Ratio': user_sharpe_ratio,\n",
    "              'Stocks': f'{unique_user_portfolio_array}'}]\n",
    "\n",
    "# Create the DataFrame from the list of dictionaries\n",
    "user_portfolio_df = pd.DataFrame(user_data)"
   ]
  },
  {
   "cell_type": "code",
   "execution_count": 25,
   "id": "59f91a42",
   "metadata": {},
   "outputs": [
    {
     "name": "stdout",
     "output_type": "stream",
     "text": [
      "New User row added to the User User_Portfolio_Data.csv file. The following was added:\n"
     ]
    },
    {
     "data": {
      "text/html": [
       "<div>\n",
       "<style scoped>\n",
       "    .dataframe tbody tr th:only-of-type {\n",
       "        vertical-align: middle;\n",
       "    }\n",
       "\n",
       "    .dataframe tbody tr th {\n",
       "        vertical-align: top;\n",
       "    }\n",
       "\n",
       "    .dataframe thead th {\n",
       "        text-align: right;\n",
       "    }\n",
       "</style>\n",
       "<table border=\"1\" class=\"dataframe\">\n",
       "  <thead>\n",
       "    <tr style=\"text-align: right;\">\n",
       "      <th></th>\n",
       "      <th>UUID</th>\n",
       "      <th>User_Name</th>\n",
       "      <th>Sharpe_Ratio</th>\n",
       "      <th>Stocks</th>\n",
       "    </tr>\n",
       "  </thead>\n",
       "  <tbody>\n",
       "    <tr>\n",
       "      <th>0</th>\n",
       "      <td>9911f3d6-2a1e-4956-b676-d14ddd12fe0e</td>\n",
       "      <td>alex_1</td>\n",
       "      <td>3.412431</td>\n",
       "      <td>['NVDA', 'AMZN', 'AAPL', 'MSFT']</td>\n",
       "    </tr>\n",
       "  </tbody>\n",
       "</table>\n",
       "</div>"
      ],
      "text/plain": [
       "                                   UUID User_Name  Sharpe_Ratio  \\\n",
       "0  9911f3d6-2a1e-4956-b676-d14ddd12fe0e    alex_1      3.412431   \n",
       "\n",
       "                             Stocks  \n",
       "0  ['NVDA', 'AMZN', 'AAPL', 'MSFT']  "
      ]
     },
     "metadata": {},
     "output_type": "display_data"
    }
   ],
   "source": [
    "# Append the new row to the DataFrame\n",
    "# user_data_df = user_data_df.append(user_data, ignore_index=True)\n",
    "\n",
    "# Concatenate the original DataFrame and the new row DataFrame\n",
    "user_data_df = pd.concat([user_data_df, user_portfolio_df], ignore_index=True)\n",
    "\n",
    "# Write the updated DataFrame back to the CSV file\n",
    "user_data_df.to_csv(user_data_to_load, index=False)\n",
    "\n",
    "#Print so user can see what was added \n",
    "print(\"New User row added to the User User_Portfolio_Data.csv file. The following was added:\")\n",
    "display(user_portfolio_df)"
   ]
  },
  {
   "cell_type": "code",
   "execution_count": 27,
   "id": "7c2fe3ce",
   "metadata": {},
   "outputs": [
    {
     "data": {
      "text/html": [
       "<div>\n",
       "<style scoped>\n",
       "    .dataframe tbody tr th:only-of-type {\n",
       "        vertical-align: middle;\n",
       "    }\n",
       "\n",
       "    .dataframe tbody tr th {\n",
       "        vertical-align: top;\n",
       "    }\n",
       "\n",
       "    .dataframe thead th {\n",
       "        text-align: right;\n",
       "    }\n",
       "</style>\n",
       "<table border=\"1\" class=\"dataframe\">\n",
       "  <thead>\n",
       "    <tr style=\"text-align: right;\">\n",
       "      <th></th>\n",
       "      <th>UUID</th>\n",
       "      <th>User_Name</th>\n",
       "      <th>Sharpe_Ratio</th>\n",
       "      <th>Stocks</th>\n",
       "    </tr>\n",
       "  </thead>\n",
       "  <tbody>\n",
       "    <tr>\n",
       "      <th>0</th>\n",
       "      <td>c8b71fc0-a969-4bbb-80f0-8caeedd3cc6a</td>\n",
       "      <td>Test1</td>\n",
       "      <td>4.54450</td>\n",
       "      <td>['AVGO', 'AAPL', 'MSFT', 'V', 'NVDA']</td>\n",
       "    </tr>\n",
       "    <tr>\n",
       "      <th>1</th>\n",
       "      <td>951bb78a-dacb-4047-a255-2eb50314a9fd</td>\n",
       "      <td>Amy</td>\n",
       "      <td>4.43430</td>\n",
       "      <td>['V', 'GOOGL', 'JNJ', 'MSFT', 'XOM']</td>\n",
       "    </tr>\n",
       "    <tr>\n",
       "      <th>2</th>\n",
       "      <td>56a3ba9e-7b6d-4376-a6d8-ffd2f42cee9d</td>\n",
       "      <td>Chris</td>\n",
       "      <td>3.11234</td>\n",
       "      <td>['AVGO', 'AAPL', 'MSFT', 'XOM']</td>\n",
       "    </tr>\n",
       "    <tr>\n",
       "      <th>3</th>\n",
       "      <td>951bb78a-dacb-4047-a255-2eb50314a9fd</td>\n",
       "      <td>Amy</td>\n",
       "      <td>3.11234</td>\n",
       "      <td>['V', 'GOOGL', 'JNJ', 'MSFT', 'XOM']</td>\n",
       "    </tr>\n",
       "    <tr>\n",
       "      <th>4</th>\n",
       "      <td>2526a1f9-0f46-4b73-a0aa-ac9f5920e3d9</td>\n",
       "      <td>JJ</td>\n",
       "      <td>2.11000</td>\n",
       "      <td>['AMZN', 'AAPL', 'MSFT', 'JPM']</td>\n",
       "    </tr>\n",
       "  </tbody>\n",
       "</table>\n",
       "</div>"
      ],
      "text/plain": [
       "                                   UUID User_Name  Sharpe_Ratio  \\\n",
       "0  c8b71fc0-a969-4bbb-80f0-8caeedd3cc6a     Test1       4.54450   \n",
       "1  951bb78a-dacb-4047-a255-2eb50314a9fd       Amy       4.43430   \n",
       "2  56a3ba9e-7b6d-4376-a6d8-ffd2f42cee9d    Chris        3.11234   \n",
       "3  951bb78a-dacb-4047-a255-2eb50314a9fd       Amy       3.11234   \n",
       "4  2526a1f9-0f46-4b73-a0aa-ac9f5920e3d9        JJ       2.11000   \n",
       "\n",
       "                                  Stocks  \n",
       "0  ['AVGO', 'AAPL', 'MSFT', 'V', 'NVDA']  \n",
       "1   ['V', 'GOOGL', 'JNJ', 'MSFT', 'XOM']  \n",
       "2        ['AVGO', 'AAPL', 'MSFT', 'XOM']  \n",
       "3   ['V', 'GOOGL', 'JNJ', 'MSFT', 'XOM']  \n",
       "4        ['AMZN', 'AAPL', 'MSFT', 'JPM']  "
      ]
     },
     "execution_count": 27,
     "metadata": {},
     "output_type": "execute_result"
    }
   ],
   "source": [
    "#preview top 5 users BEFORE the rank is updated \n",
    "user_data_df.head()"
   ]
  },
  {
   "cell_type": "code",
   "execution_count": 28,
   "id": "f82a7886",
   "metadata": {},
   "outputs": [
    {
     "data": {
      "text/html": [
       "<div>\n",
       "<style scoped>\n",
       "    .dataframe tbody tr th:only-of-type {\n",
       "        vertical-align: middle;\n",
       "    }\n",
       "\n",
       "    .dataframe tbody tr th {\n",
       "        vertical-align: top;\n",
       "    }\n",
       "\n",
       "    .dataframe thead th {\n",
       "        text-align: right;\n",
       "    }\n",
       "</style>\n",
       "<table border=\"1\" class=\"dataframe\">\n",
       "  <thead>\n",
       "    <tr style=\"text-align: right;\">\n",
       "      <th></th>\n",
       "      <th>UUID</th>\n",
       "      <th>User_Name</th>\n",
       "      <th>Sharpe_Ratio</th>\n",
       "      <th>Stocks</th>\n",
       "    </tr>\n",
       "  </thead>\n",
       "  <tbody>\n",
       "    <tr>\n",
       "      <th>0</th>\n",
       "      <td>c8b71fc0-a969-4bbb-80f0-8caeedd3cc6a</td>\n",
       "      <td>Test1</td>\n",
       "      <td>4.544500</td>\n",
       "      <td>['AVGO', 'AAPL', 'MSFT', 'V', 'NVDA']</td>\n",
       "    </tr>\n",
       "    <tr>\n",
       "      <th>1</th>\n",
       "      <td>951bb78a-dacb-4047-a255-2eb50314a9fd</td>\n",
       "      <td>Amy</td>\n",
       "      <td>4.434300</td>\n",
       "      <td>['V', 'GOOGL', 'JNJ', 'MSFT', 'XOM']</td>\n",
       "    </tr>\n",
       "    <tr>\n",
       "      <th>6</th>\n",
       "      <td>9911f3d6-2a1e-4956-b676-d14ddd12fe0e</td>\n",
       "      <td>alex_1</td>\n",
       "      <td>3.412431</td>\n",
       "      <td>['NVDA', 'AMZN', 'AAPL', 'MSFT']</td>\n",
       "    </tr>\n",
       "    <tr>\n",
       "      <th>2</th>\n",
       "      <td>56a3ba9e-7b6d-4376-a6d8-ffd2f42cee9d</td>\n",
       "      <td>Chris</td>\n",
       "      <td>3.112340</td>\n",
       "      <td>['AVGO', 'AAPL', 'MSFT', 'XOM']</td>\n",
       "    </tr>\n",
       "    <tr>\n",
       "      <th>3</th>\n",
       "      <td>951bb78a-dacb-4047-a255-2eb50314a9fd</td>\n",
       "      <td>Amy</td>\n",
       "      <td>3.112340</td>\n",
       "      <td>['V', 'GOOGL', 'JNJ', 'MSFT', 'XOM']</td>\n",
       "    </tr>\n",
       "  </tbody>\n",
       "</table>\n",
       "</div>"
      ],
      "text/plain": [
       "                                   UUID User_Name  Sharpe_Ratio  \\\n",
       "0  c8b71fc0-a969-4bbb-80f0-8caeedd3cc6a     Test1      4.544500   \n",
       "1  951bb78a-dacb-4047-a255-2eb50314a9fd       Amy      4.434300   \n",
       "6  9911f3d6-2a1e-4956-b676-d14ddd12fe0e    alex_1      3.412431   \n",
       "2  56a3ba9e-7b6d-4376-a6d8-ffd2f42cee9d    Chris       3.112340   \n",
       "3  951bb78a-dacb-4047-a255-2eb50314a9fd       Amy      3.112340   \n",
       "\n",
       "                                  Stocks  \n",
       "0  ['AVGO', 'AAPL', 'MSFT', 'V', 'NVDA']  \n",
       "1   ['V', 'GOOGL', 'JNJ', 'MSFT', 'XOM']  \n",
       "6       ['NVDA', 'AMZN', 'AAPL', 'MSFT']  \n",
       "2        ['AVGO', 'AAPL', 'MSFT', 'XOM']  \n",
       "3   ['V', 'GOOGL', 'JNJ', 'MSFT', 'XOM']  "
      ]
     },
     "execution_count": 28,
     "metadata": {},
     "output_type": "execute_result"
    }
   ],
   "source": [
    "#Sort user portfolio table to get new ranking. Sort by descending since higher sharpe ratio the better \n",
    "sorted_user_data_df = user_data_df.sort_values(by='Sharpe_Ratio', ascending=False)\n",
    "\n",
    "#Rank AFTER rank is updated  \n",
    "sorted_user_data_df.head()\n"
   ]
  },
  {
   "cell_type": "code",
   "execution_count": 29,
   "id": "3a87a2e1",
   "metadata": {},
   "outputs": [],
   "source": [
    "#Save new rank to user User_Portfolio_Data.csv Write the updated DataFrame back to the CSV file\n",
    "\n",
    "sorted_user_data_df.to_csv(user_data_to_load, index=False)\n",
    "\n",
    "#have to re-import the user portfolio data to get updated sorted list \n",
    "user_data_df = pd.read_csv(user_data_to_load, header=0, parse_dates=True)\n",
    "user_data_df.sort_index(ascending = True, inplace = True)"
   ]
  },
  {
   "cell_type": "code",
   "execution_count": 30,
   "id": "d734c7aa",
   "metadata": {},
   "outputs": [
    {
     "data": {
      "text/html": [
       "<div>\n",
       "<style scoped>\n",
       "    .dataframe tbody tr th:only-of-type {\n",
       "        vertical-align: middle;\n",
       "    }\n",
       "\n",
       "    .dataframe tbody tr th {\n",
       "        vertical-align: top;\n",
       "    }\n",
       "\n",
       "    .dataframe thead th {\n",
       "        text-align: right;\n",
       "    }\n",
       "</style>\n",
       "<table border=\"1\" class=\"dataframe\">\n",
       "  <thead>\n",
       "    <tr style=\"text-align: right;\">\n",
       "      <th></th>\n",
       "      <th>UUID</th>\n",
       "      <th>User_Name</th>\n",
       "      <th>Sharpe_Ratio</th>\n",
       "      <th>Stocks</th>\n",
       "    </tr>\n",
       "  </thead>\n",
       "  <tbody>\n",
       "    <tr>\n",
       "      <th>0</th>\n",
       "      <td>c8b71fc0-a969-4bbb-80f0-8caeedd3cc6a</td>\n",
       "      <td>Test1</td>\n",
       "      <td>4.544500</td>\n",
       "      <td>['AVGO', 'AAPL', 'MSFT', 'V', 'NVDA']</td>\n",
       "    </tr>\n",
       "    <tr>\n",
       "      <th>1</th>\n",
       "      <td>951bb78a-dacb-4047-a255-2eb50314a9fd</td>\n",
       "      <td>Amy</td>\n",
       "      <td>4.434300</td>\n",
       "      <td>['V', 'GOOGL', 'JNJ', 'MSFT', 'XOM']</td>\n",
       "    </tr>\n",
       "    <tr>\n",
       "      <th>2</th>\n",
       "      <td>9911f3d6-2a1e-4956-b676-d14ddd12fe0e</td>\n",
       "      <td>alex_1</td>\n",
       "      <td>3.412431</td>\n",
       "      <td>['NVDA', 'AMZN', 'AAPL', 'MSFT']</td>\n",
       "    </tr>\n",
       "    <tr>\n",
       "      <th>3</th>\n",
       "      <td>56a3ba9e-7b6d-4376-a6d8-ffd2f42cee9d</td>\n",
       "      <td>Chris</td>\n",
       "      <td>3.112340</td>\n",
       "      <td>['AVGO', 'AAPL', 'MSFT', 'XOM']</td>\n",
       "    </tr>\n",
       "    <tr>\n",
       "      <th>4</th>\n",
       "      <td>951bb78a-dacb-4047-a255-2eb50314a9fd</td>\n",
       "      <td>Amy</td>\n",
       "      <td>3.112340</td>\n",
       "      <td>['V', 'GOOGL', 'JNJ', 'MSFT', 'XOM']</td>\n",
       "    </tr>\n",
       "  </tbody>\n",
       "</table>\n",
       "</div>"
      ],
      "text/plain": [
       "                                   UUID User_Name  Sharpe_Ratio  \\\n",
       "0  c8b71fc0-a969-4bbb-80f0-8caeedd3cc6a     Test1      4.544500   \n",
       "1  951bb78a-dacb-4047-a255-2eb50314a9fd       Amy      4.434300   \n",
       "2  9911f3d6-2a1e-4956-b676-d14ddd12fe0e    alex_1      3.412431   \n",
       "3  56a3ba9e-7b6d-4376-a6d8-ffd2f42cee9d    Chris       3.112340   \n",
       "4  951bb78a-dacb-4047-a255-2eb50314a9fd       Amy      3.112340   \n",
       "\n",
       "                                  Stocks  \n",
       "0  ['AVGO', 'AAPL', 'MSFT', 'V', 'NVDA']  \n",
       "1   ['V', 'GOOGL', 'JNJ', 'MSFT', 'XOM']  \n",
       "2       ['NVDA', 'AMZN', 'AAPL', 'MSFT']  \n",
       "3        ['AVGO', 'AAPL', 'MSFT', 'XOM']  \n",
       "4   ['V', 'GOOGL', 'JNJ', 'MSFT', 'XOM']  "
      ]
     },
     "execution_count": 30,
     "metadata": {},
     "output_type": "execute_result"
    }
   ],
   "source": [
    "#User Ranking of top 5 AFTER rank is updated  \n",
    "\n",
    "user_data_df.head()"
   ]
  },
  {
   "cell_type": "code",
   "execution_count": 31,
   "id": "46570cdb",
   "metadata": {},
   "outputs": [
    {
     "name": "stdout",
     "output_type": "stream",
     "text": [
      "alex_1, your rank is 3\n"
     ]
    }
   ],
   "source": [
    "# Grab Postition of User Ranking \n",
    "\n",
    "condition = user_data_df['UUID'] == user_uuid_str\n",
    "matching_rows = user_data_df[condition]\n",
    "\n",
    "# Get the index of the first matching row (if any)\n",
    "if not matching_rows.empty:\n",
    "    row_index = matching_rows.index[0]\n",
    "#     print(f\"Index of the row: {row_index}\")\n",
    "    print(f\"{name}, your rank is {row_index + 1}\" )\n",
    "else:\n",
    "    print(\"Error, user info not found\")\n",
    "    \n"
   ]
  },
  {
   "cell_type": "markdown",
   "id": "a5945fc4-5277-416c-bb93-b40bf8290327",
   "metadata": {},
   "source": [
    "# User Performance Compared to Other Players Calulation and Market"
   ]
  },
  {
   "cell_type": "code",
   "execution_count": 54,
   "id": "9625e2a4-1407-48d3-94de-767f5d3b6521",
   "metadata": {},
   "outputs": [
    {
     "data": {
      "text/html": [
       "<div>\n",
       "<style scoped>\n",
       "    .dataframe tbody tr th:only-of-type {\n",
       "        vertical-align: middle;\n",
       "    }\n",
       "\n",
       "    .dataframe tbody tr th {\n",
       "        vertical-align: top;\n",
       "    }\n",
       "\n",
       "    .dataframe thead th {\n",
       "        text-align: right;\n",
       "    }\n",
       "</style>\n",
       "<table border=\"1\" class=\"dataframe\">\n",
       "  <thead>\n",
       "    <tr style=\"text-align: right;\">\n",
       "      <th></th>\n",
       "      <th>SP500</th>\n",
       "      <th>NDAQ</th>\n",
       "    </tr>\n",
       "    <tr>\n",
       "      <th>Date</th>\n",
       "      <th></th>\n",
       "      <th></th>\n",
       "    </tr>\n",
       "  </thead>\n",
       "  <tbody>\n",
       "    <tr>\n",
       "      <th>2023-02-02</th>\n",
       "      <td>0.014699</td>\n",
       "      <td>0.032540</td>\n",
       "    </tr>\n",
       "    <tr>\n",
       "      <th>2023-02-03</th>\n",
       "      <td>-0.010355</td>\n",
       "      <td>-0.015889</td>\n",
       "    </tr>\n",
       "    <tr>\n",
       "      <th>2023-02-06</th>\n",
       "      <td>-0.006140</td>\n",
       "      <td>-0.009953</td>\n",
       "    </tr>\n",
       "    <tr>\n",
       "      <th>2023-02-07</th>\n",
       "      <td>0.012873</td>\n",
       "      <td>0.019040</td>\n",
       "    </tr>\n",
       "    <tr>\n",
       "      <th>2023-02-08</th>\n",
       "      <td>-0.011081</td>\n",
       "      <td>-0.016780</td>\n",
       "    </tr>\n",
       "  </tbody>\n",
       "</table>\n",
       "</div>"
      ],
      "text/plain": [
       "               SP500      NDAQ\n",
       "Date                          \n",
       "2023-02-02  0.014699  0.032540\n",
       "2023-02-03 -0.010355 -0.015889\n",
       "2023-02-06 -0.006140 -0.009953\n",
       "2023-02-07  0.012873  0.019040\n",
       "2023-02-08 -0.011081 -0.016780"
      ]
     },
     "execution_count": 54,
     "metadata": {},
     "output_type": "execute_result"
    }
   ],
   "source": [
    "# Create a dataframe for market indicators and calculate daily returns and drop nulls \n",
    "sp_returns = raw_stocks_data_df.loc[raw_stocks_data_df[\"Ticker\"]==\"SPX\"]\n",
    "sp_returns = sp_returns[[\"Close_Price\"]].pct_change().dropna()\n",
    "\n",
    "ndaq_returns = raw_stocks_data_df.loc[raw_stocks_data_df[\"Ticker\"]==\"NDAQ\"]\n",
    "ndaq_returns = ndaq_returns[[\"Close_Price\"]].pct_change().dropna()\n",
    "\n",
    "# Rename columns to SP500 and NDAQ\n",
    "sp_returns.columns=[\"SP500\"]\n",
    "ndaq_returns.columns=[\"NDAQ\"]\n",
    "\n",
    "# Combine dataframes\n",
    "market_returns = pd.concat([sp_returns, ndaq_returns], axis=\"columns\", join=\"inner\")\n",
    "market_returns.head()"
   ]
  },
  {
   "cell_type": "code",
   "execution_count": 55,
   "id": "f096f0f0-9cc5-40db-b6cd-35ad2b744fa0",
   "metadata": {},
   "outputs": [
    {
     "data": {
      "text/html": [
       "<div>\n",
       "<style scoped>\n",
       "    .dataframe tbody tr th:only-of-type {\n",
       "        vertical-align: middle;\n",
       "    }\n",
       "\n",
       "    .dataframe tbody tr th {\n",
       "        vertical-align: top;\n",
       "    }\n",
       "\n",
       "    .dataframe thead th {\n",
       "        text-align: right;\n",
       "    }\n",
       "</style>\n",
       "<table border=\"1\" class=\"dataframe\">\n",
       "  <thead>\n",
       "    <tr style=\"text-align: right;\">\n",
       "      <th>Ticker</th>\n",
       "      <th>Test1</th>\n",
       "      <th>Amy</th>\n",
       "      <th>alex_1</th>\n",
       "    </tr>\n",
       "    <tr>\n",
       "      <th>Date</th>\n",
       "      <th></th>\n",
       "      <th></th>\n",
       "      <th></th>\n",
       "    </tr>\n",
       "  </thead>\n",
       "  <tbody>\n",
       "    <tr>\n",
       "      <th>2023-02-02</th>\n",
       "      <td>0.023946</td>\n",
       "      <td>0.017268</td>\n",
       "      <td>0.048580</td>\n",
       "    </tr>\n",
       "    <tr>\n",
       "      <th>2023-02-03</th>\n",
       "      <td>-0.007649</td>\n",
       "      <td>-0.009460</td>\n",
       "      <td>-0.027897</td>\n",
       "    </tr>\n",
       "    <tr>\n",
       "      <th>2023-02-06</th>\n",
       "      <td>-0.004281</td>\n",
       "      <td>-0.007270</td>\n",
       "      <td>-0.009067</td>\n",
       "    </tr>\n",
       "    <tr>\n",
       "      <th>2023-02-07</th>\n",
       "      <td>0.028546</td>\n",
       "      <td>0.025015</td>\n",
       "      <td>0.027996</td>\n",
       "    </tr>\n",
       "    <tr>\n",
       "      <th>2023-02-08</th>\n",
       "      <td>-0.008977</td>\n",
       "      <td>-0.018438</td>\n",
       "      <td>-0.009871</td>\n",
       "    </tr>\n",
       "  </tbody>\n",
       "</table>\n",
       "</div>"
      ],
      "text/plain": [
       "Ticker         Test1       Amy    alex_1\n",
       "Date                                    \n",
       "2023-02-02  0.023946  0.017268  0.048580\n",
       "2023-02-03 -0.007649 -0.009460 -0.027897\n",
       "2023-02-06 -0.004281 -0.007270 -0.009067\n",
       "2023-02-07  0.028546  0.025015  0.027996\n",
       "2023-02-08 -0.008977 -0.018438 -0.009871"
      ]
     },
     "execution_count": 55,
     "metadata": {},
     "output_type": "execute_result"
    }
   ],
   "source": [
    "# Create a dataframe for top players and calculate daily returns and drop nulls \n",
    "top_1_str_to_list = ast.literal_eval(user_data_df.loc[0, 'Stocks'])\n",
    "top_2_str_to_list = ast.literal_eval(user_data_df.loc[1, 'Stocks'])\n",
    "top_3_str_to_list = ast.literal_eval(user_data_df.loc[2, 'Stocks'])\n",
    "\n",
    "# Get data from file for tickers in user_data using \".loc\" and \".isin\"\n",
    "top_1_portfolio_returns = raw_stocks_data_df.loc[raw_stocks_data_df[\"Ticker\"].isin(top_1_str_to_list)]\n",
    "top_2_portfolio_returns = raw_stocks_data_df.loc[raw_stocks_data_df[\"Ticker\"].isin(top_2_str_to_list)]\n",
    "top_3_portfolio_returns = raw_stocks_data_df.loc[raw_stocks_data_df[\"Ticker\"].isin(top_3_str_to_list)]\n",
    "\n",
    "# Filter columns to get only the Ticker and Close Price and drop null values\n",
    "top_1_portfolio_returns = top_1_portfolio_returns[[\"Ticker\",\"Close_Price\"]].dropna()\n",
    "top_2_portfolio_returns = top_2_portfolio_returns[[\"Ticker\",\"Close_Price\"]].dropna()\n",
    "top_3_portfolio_returns = top_3_portfolio_returns[[\"Ticker\",\"Close_Price\"]].dropna()\n",
    "\n",
    "# Set tickers as columns\n",
    "top_1_portfolio_returns = top_1_portfolio_returns.pivot_table(\"Close_Price\",\"Date\",\"Ticker\")\n",
    "top_2_portfolio_returns = top_2_portfolio_returns.pivot_table(\"Close_Price\",\"Date\",\"Ticker\")\n",
    "top_3_portfolio_returns = top_3_portfolio_returns.pivot_table(\"Close_Price\",\"Date\",\"Ticker\")\n",
    "\n",
    "# Calculate daily returns using \"pct_change\" and drop null values \n",
    "top_1_portfolio_returns  = top_1_portfolio_returns .pct_change().dropna() \n",
    "top_2_portfolio_returns  = top_2_portfolio_returns .pct_change().dropna() \n",
    "top_3_portfolio_returns  = top_3_portfolio_returns .pct_change().dropna() \n",
    "\n",
    "# Get User name to locate portfolios\n",
    "top_1_user_name = user_data_df.loc[0, 'User_Name']\n",
    "top_2_user_name = user_data_df.loc[1, 'User_Name']\n",
    "top_3_user_name = user_data_df.loc[2, 'User_Name']\n",
    "\n",
    "# Get the porfolio using weights and keep only the porfolio column\n",
    "top_1_portfolio_returns[f\"{top_1_user_name}\"] = top_1_portfolio_returns.dot([1/len(top_1_str_to_list)] * len(top_1_str_to_list))\n",
    "top_1_portfolio_returns = top_1_portfolio_returns[[f\"{top_1_user_name}\"]]\n",
    "\n",
    "top_2_portfolio_returns[f\"{top_2_user_name}\"] = top_2_portfolio_returns.dot([1/len(top_2_str_to_list)] * len(top_2_str_to_list))\n",
    "top_2_portfolio_returns = top_2_portfolio_returns[[f\"{top_2_user_name}\"]]\n",
    "\n",
    "top_3_portfolio_returns[f\"{top_3_user_name}\"] = top_3_portfolio_returns.dot([1/len(top_3_str_to_list)] * len(top_3_str_to_list))\n",
    "top_3_portfolio_returns = top_3_portfolio_returns[[f\"{top_3_user_name}\"]]\n",
    "\n",
    "top_returns = pd.concat([top_1_portfolio_returns, top_2_portfolio_returns, top_3_portfolio_returns], axis=\"columns\", join=\"inner\")\n",
    "top_returns.head()\n"
   ]
  },
  {
   "cell_type": "code",
   "execution_count": 56,
   "id": "0ac386b6-3b79-44d2-96ee-521306e69d9c",
   "metadata": {},
   "outputs": [
    {
     "data": {
      "text/html": [
       "<div>\n",
       "<style scoped>\n",
       "    .dataframe tbody tr th:only-of-type {\n",
       "        vertical-align: middle;\n",
       "    }\n",
       "\n",
       "    .dataframe tbody tr th {\n",
       "        vertical-align: top;\n",
       "    }\n",
       "\n",
       "    .dataframe thead th {\n",
       "        text-align: right;\n",
       "    }\n",
       "</style>\n",
       "<table border=\"1\" class=\"dataframe\">\n",
       "  <thead>\n",
       "    <tr style=\"text-align: right;\">\n",
       "      <th></th>\n",
       "      <th>Portfolio</th>\n",
       "      <th>SP500</th>\n",
       "      <th>NDAQ</th>\n",
       "      <th>Test1</th>\n",
       "      <th>Amy</th>\n",
       "      <th>alex_1</th>\n",
       "    </tr>\n",
       "    <tr>\n",
       "      <th>Date</th>\n",
       "      <th></th>\n",
       "      <th></th>\n",
       "      <th></th>\n",
       "      <th></th>\n",
       "      <th></th>\n",
       "      <th></th>\n",
       "    </tr>\n",
       "  </thead>\n",
       "  <tbody>\n",
       "    <tr>\n",
       "      <th>2023-02-02</th>\n",
       "      <td>0.048580</td>\n",
       "      <td>0.014699</td>\n",
       "      <td>0.032540</td>\n",
       "      <td>0.023946</td>\n",
       "      <td>0.017268</td>\n",
       "      <td>0.048580</td>\n",
       "    </tr>\n",
       "    <tr>\n",
       "      <th>2023-02-03</th>\n",
       "      <td>-0.027897</td>\n",
       "      <td>-0.010355</td>\n",
       "      <td>-0.015889</td>\n",
       "      <td>-0.007649</td>\n",
       "      <td>-0.009460</td>\n",
       "      <td>-0.027897</td>\n",
       "    </tr>\n",
       "    <tr>\n",
       "      <th>2023-02-06</th>\n",
       "      <td>-0.009067</td>\n",
       "      <td>-0.006140</td>\n",
       "      <td>-0.009953</td>\n",
       "      <td>-0.004281</td>\n",
       "      <td>-0.007270</td>\n",
       "      <td>-0.009067</td>\n",
       "    </tr>\n",
       "    <tr>\n",
       "      <th>2023-02-07</th>\n",
       "      <td>0.027996</td>\n",
       "      <td>0.012873</td>\n",
       "      <td>0.019040</td>\n",
       "      <td>0.028546</td>\n",
       "      <td>0.025015</td>\n",
       "      <td>0.027996</td>\n",
       "    </tr>\n",
       "    <tr>\n",
       "      <th>2023-02-08</th>\n",
       "      <td>-0.009871</td>\n",
       "      <td>-0.011081</td>\n",
       "      <td>-0.016780</td>\n",
       "      <td>-0.008977</td>\n",
       "      <td>-0.018438</td>\n",
       "      <td>-0.009871</td>\n",
       "    </tr>\n",
       "  </tbody>\n",
       "</table>\n",
       "</div>"
      ],
      "text/plain": [
       "            Portfolio     SP500      NDAQ     Test1       Amy    alex_1\n",
       "Date                                                                   \n",
       "2023-02-02   0.048580  0.014699  0.032540  0.023946  0.017268  0.048580\n",
       "2023-02-03  -0.027897 -0.010355 -0.015889 -0.007649 -0.009460 -0.027897\n",
       "2023-02-06  -0.009067 -0.006140 -0.009953 -0.004281 -0.007270 -0.009067\n",
       "2023-02-07   0.027996  0.012873  0.019040  0.028546  0.025015  0.027996\n",
       "2023-02-08  -0.009871 -0.011081 -0.016780 -0.008977 -0.018438 -0.009871"
      ]
     },
     "execution_count": 56,
     "metadata": {},
     "output_type": "execute_result"
    }
   ],
   "source": [
    "# Join market_return, top players with portfolio \n",
    "top_portfolio_market_returns = pd.concat([portfolio_returns[\"Portfolio\"], market_returns, top_returns], axis=\"columns\", join=\"inner\")\n",
    "top_portfolio_market_returns.head()"
   ]
  },
  {
   "cell_type": "code",
   "execution_count": 57,
   "id": "6d11053c-339a-45ab-8280-c0e90d5ac93e",
   "metadata": {},
   "outputs": [
    {
     "data": {
      "text/plain": [
       "Portfolio    3.412431\n",
       "SP500        1.739253\n",
       "NDAQ         2.337676\n",
       "Test1        3.526965\n",
       "Amy          1.796389\n",
       "alex_1       3.412431\n",
       "dtype: float64"
      ]
     },
     "execution_count": 57,
     "metadata": {},
     "output_type": "execute_result"
    }
   ],
   "source": [
    "# Calculate sharp ratio - visulaize purposes - Portfolio and the Index\n",
    "top_portfolio_market_sharp_ratio = (top_portfolio_market_returns.mean() * (252)) / (top_portfolio_market_returns.std() * np.sqrt(252))\n",
    "top_portfolio_market_sharp_ratio"
   ]
  },
  {
   "cell_type": "code",
   "execution_count": 59,
   "id": "a5c8c85c-7162-4a00-abf0-7f13a5ff22f0",
   "metadata": {},
   "outputs": [
    {
     "data": {
      "text/html": [
       "<div>\n",
       "<style scoped>\n",
       "    .dataframe tbody tr th:only-of-type {\n",
       "        vertical-align: middle;\n",
       "    }\n",
       "\n",
       "    .dataframe tbody tr th {\n",
       "        vertical-align: top;\n",
       "    }\n",
       "\n",
       "    .dataframe thead th {\n",
       "        text-align: right;\n",
       "    }\n",
       "</style>\n",
       "<table border=\"1\" class=\"dataframe\">\n",
       "  <thead>\n",
       "    <tr style=\"text-align: right;\">\n",
       "      <th></th>\n",
       "      <th>Portfolio</th>\n",
       "      <th>SP500</th>\n",
       "      <th>NDAQ</th>\n",
       "      <th>Test1</th>\n",
       "      <th>Amy</th>\n",
       "      <th>alex_1</th>\n",
       "    </tr>\n",
       "    <tr>\n",
       "      <th>Date</th>\n",
       "      <th></th>\n",
       "      <th></th>\n",
       "      <th></th>\n",
       "      <th></th>\n",
       "      <th></th>\n",
       "      <th></th>\n",
       "    </tr>\n",
       "  </thead>\n",
       "  <tbody>\n",
       "    <tr>\n",
       "      <th>2023-02-02</th>\n",
       "      <td>1.048580</td>\n",
       "      <td>1.014699</td>\n",
       "      <td>1.032540</td>\n",
       "      <td>1.023946</td>\n",
       "      <td>1.017268</td>\n",
       "      <td>1.048580</td>\n",
       "    </tr>\n",
       "    <tr>\n",
       "      <th>2023-02-03</th>\n",
       "      <td>1.019328</td>\n",
       "      <td>1.004193</td>\n",
       "      <td>1.016134</td>\n",
       "      <td>1.016114</td>\n",
       "      <td>1.007644</td>\n",
       "      <td>1.019328</td>\n",
       "    </tr>\n",
       "    <tr>\n",
       "      <th>2023-02-06</th>\n",
       "      <td>1.010085</td>\n",
       "      <td>0.998026</td>\n",
       "      <td>1.006020</td>\n",
       "      <td>1.011764</td>\n",
       "      <td>1.000319</td>\n",
       "      <td>1.010085</td>\n",
       "    </tr>\n",
       "    <tr>\n",
       "      <th>2023-02-07</th>\n",
       "      <td>1.038364</td>\n",
       "      <td>1.010873</td>\n",
       "      <td>1.025175</td>\n",
       "      <td>1.040646</td>\n",
       "      <td>1.025342</td>\n",
       "      <td>1.038364</td>\n",
       "    </tr>\n",
       "    <tr>\n",
       "      <th>2023-02-08</th>\n",
       "      <td>1.028113</td>\n",
       "      <td>0.999672</td>\n",
       "      <td>1.007972</td>\n",
       "      <td>1.031303</td>\n",
       "      <td>1.006437</td>\n",
       "      <td>1.028113</td>\n",
       "    </tr>\n",
       "  </tbody>\n",
       "</table>\n",
       "</div>"
      ],
      "text/plain": [
       "            Portfolio     SP500      NDAQ     Test1       Amy    alex_1\n",
       "Date                                                                   \n",
       "2023-02-02   1.048580  1.014699  1.032540  1.023946  1.017268  1.048580\n",
       "2023-02-03   1.019328  1.004193  1.016134  1.016114  1.007644  1.019328\n",
       "2023-02-06   1.010085  0.998026  1.006020  1.011764  1.000319  1.010085\n",
       "2023-02-07   1.038364  1.010873  1.025175  1.040646  1.025342  1.038364\n",
       "2023-02-08   1.028113  0.999672  1.007972  1.031303  1.006437  1.028113"
      ]
     },
     "execution_count": 59,
     "metadata": {},
     "output_type": "execute_result"
    }
   ],
   "source": [
    "# Calculate cumulative returns to create plot\n",
    "top_portfolio_market_stocks_cum_return = (1 + top_portfolio_market_returns).cumprod()\n",
    "top_portfolio_market_stocks_cum_return.head()"
   ]
  },
  {
   "cell_type": "code",
   "execution_count": null,
   "id": "b1b94afa-4263-4a44-b7ad-807c84488f29",
   "metadata": {},
   "outputs": [],
   "source": []
  },
  {
   "cell_type": "code",
   "execution_count": null,
   "id": "514cc7b6-824e-4f74-83e7-94661022b39f",
   "metadata": {},
   "outputs": [],
   "source": []
  },
  {
   "cell_type": "code",
   "execution_count": null,
   "id": "c2a5f02a-d040-4df1-8973-e11f2d7642e4",
   "metadata": {},
   "outputs": [],
   "source": []
  },
  {
   "cell_type": "markdown",
   "id": "41136f8a",
   "metadata": {},
   "source": [
    "# Visulization "
   ]
  },
  {
   "cell_type": "code",
   "execution_count": null,
   "id": "a93f45a6",
   "metadata": {},
   "outputs": [],
   "source": []
  },
  {
   "cell_type": "code",
   "execution_count": null,
   "id": "c7762283",
   "metadata": {},
   "outputs": [],
   "source": []
  }
 ],
 "metadata": {
  "kernelspec": {
   "display_name": "Python 3 (ipykernel)",
   "language": "python",
   "name": "python3"
  },
  "language_info": {
   "codemirror_mode": {
    "name": "ipython",
    "version": 3
   },
   "file_extension": ".py",
   "mimetype": "text/x-python",
   "name": "python",
   "nbconvert_exporter": "python",
   "pygments_lexer": "ipython3",
   "version": "3.10.11"
  }
 },
 "nbformat": 4,
 "nbformat_minor": 5
}
