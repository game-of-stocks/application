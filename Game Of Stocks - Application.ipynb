{
 "cells": [
  {
   "cell_type": "code",
   "execution_count": 1,
   "id": "76319276",
   "metadata": {},
   "outputs": [],
   "source": [
    "#packages related to dataframes\n",
    "import pandas as pd\n",
    "import numpy as np\n",
    "from pathlib import Path\n",
    "import csv\n",
    "\n",
    "#package to help convert a stringify array back to array\n",
    "import ast\n",
    "\n",
    "#package needed to assign user a unique id \n",
    "import uuid\n",
    "\n",
    "# Importing helper function from utils folder \n",
    "import sys\n",
    "sys.path.append('Resources/utils')\n",
    "from user_form_intake import inital_user_intake, get_user_inital_input, portfolio_user_intake, get_user_portfolio_input"
   ]
  },
  {
   "cell_type": "markdown",
   "id": "665e32d0",
   "metadata": {},
   "source": [
    "# Grabbing the Data Files "
   ]
  },
  {
   "cell_type": "code",
   "execution_count": 2,
   "id": "b8486b97",
   "metadata": {},
   "outputs": [
    {
     "data": {
      "text/html": [
       "<div>\n",
       "<style scoped>\n",
       "    .dataframe tbody tr th:only-of-type {\n",
       "        vertical-align: middle;\n",
       "    }\n",
       "\n",
       "    .dataframe tbody tr th {\n",
       "        vertical-align: top;\n",
       "    }\n",
       "\n",
       "    .dataframe thead th {\n",
       "        text-align: right;\n",
       "    }\n",
       "</style>\n",
       "<table border=\"1\" class=\"dataframe\">\n",
       "  <thead>\n",
       "    <tr style=\"text-align: right;\">\n",
       "      <th></th>\n",
       "      <th>Company</th>\n",
       "      <th>Ticker</th>\n",
       "      <th>Close_Price</th>\n",
       "      <th>Industry</th>\n",
       "      <th>Sector</th>\n",
       "    </tr>\n",
       "    <tr>\n",
       "      <th>Date</th>\n",
       "      <th></th>\n",
       "      <th></th>\n",
       "      <th></th>\n",
       "      <th></th>\n",
       "      <th></th>\n",
       "    </tr>\n",
       "  </thead>\n",
       "  <tbody>\n",
       "    <tr>\n",
       "      <th>2023-02-01</th>\n",
       "      <td>Apple</td>\n",
       "      <td>AAPL</td>\n",
       "      <td>145.43</td>\n",
       "      <td>Computer Manufacturing</td>\n",
       "      <td>Technology</td>\n",
       "    </tr>\n",
       "    <tr>\n",
       "      <th>2023-02-01</th>\n",
       "      <td>Amazon</td>\n",
       "      <td>AMZN</td>\n",
       "      <td>105.15</td>\n",
       "      <td>Catalog/Specialty Distribution</td>\n",
       "      <td>Consumer Discretionary</td>\n",
       "    </tr>\n",
       "    <tr>\n",
       "      <th>2023-02-01</th>\n",
       "      <td>Nvidia</td>\n",
       "      <td>NVDA</td>\n",
       "      <td>209.43</td>\n",
       "      <td>Semiconductors</td>\n",
       "      <td>Technology</td>\n",
       "    </tr>\n",
       "    <tr>\n",
       "      <th>2023-02-01</th>\n",
       "      <td>Alphabet</td>\n",
       "      <td>GOOGL</td>\n",
       "      <td>100.43</td>\n",
       "      <td>Computer Software: Programming, Data Processing</td>\n",
       "      <td>Technology</td>\n",
       "    </tr>\n",
       "    <tr>\n",
       "      <th>2023-02-01</th>\n",
       "      <td>Meta</td>\n",
       "      <td>META</td>\n",
       "      <td>153.12</td>\n",
       "      <td>Computer Software: Programming, Data Processing</td>\n",
       "      <td>Technology</td>\n",
       "    </tr>\n",
       "  </tbody>\n",
       "</table>\n",
       "</div>"
      ],
      "text/plain": [
       "             Company Ticker  Close_Price  \\\n",
       "Date                                       \n",
       "2023-02-01     Apple   AAPL       145.43   \n",
       "2023-02-01    Amazon   AMZN       105.15   \n",
       "2023-02-01    Nvidia   NVDA       209.43   \n",
       "2023-02-01  Alphabet  GOOGL       100.43   \n",
       "2023-02-01      Meta   META       153.12   \n",
       "\n",
       "                                                   Industry  \\\n",
       "Date                                                          \n",
       "2023-02-01                           Computer Manufacturing   \n",
       "2023-02-01                   Catalog/Specialty Distribution   \n",
       "2023-02-01                                   Semiconductors   \n",
       "2023-02-01  Computer Software: Programming, Data Processing   \n",
       "2023-02-01  Computer Software: Programming, Data Processing   \n",
       "\n",
       "                            Sector  \n",
       "Date                                \n",
       "2023-02-01              Technology  \n",
       "2023-02-01  Consumer Discretionary  \n",
       "2023-02-01              Technology  \n",
       "2023-02-01              Technology  \n",
       "2023-02-01              Technology  "
      ]
     },
     "execution_count": 2,
     "metadata": {},
     "output_type": "execute_result"
    }
   ],
   "source": [
    "#Grabing the raw stock data and putting in dataframe\n",
    "raw_stocks_data_to_load =  Path(\"Resources/Data/Stock_Index_Raw_Data.csv\")\n",
    "raw_stocks_data_df = pd.read_csv(raw_stocks_data_to_load, header=0, parse_dates=True, index_col=\"Date\", infer_datetime_format=True)\n",
    "raw_stocks_data_df.sort_index(ascending = True, inplace = True)\n",
    "raw_stocks_data_df.head()"
   ]
  },
  {
   "cell_type": "code",
   "execution_count": 3,
   "id": "43c31df6",
   "metadata": {},
   "outputs": [
    {
     "data": {
      "text/html": [
       "<div>\n",
       "<style scoped>\n",
       "    .dataframe tbody tr th:only-of-type {\n",
       "        vertical-align: middle;\n",
       "    }\n",
       "\n",
       "    .dataframe tbody tr th {\n",
       "        vertical-align: top;\n",
       "    }\n",
       "\n",
       "    .dataframe thead th {\n",
       "        text-align: right;\n",
       "    }\n",
       "</style>\n",
       "<table border=\"1\" class=\"dataframe\">\n",
       "  <thead>\n",
       "    <tr style=\"text-align: right;\">\n",
       "      <th></th>\n",
       "      <th>UUID</th>\n",
       "      <th>User_Name</th>\n",
       "      <th>Sharpe_Ratio</th>\n",
       "      <th>Stocks</th>\n",
       "    </tr>\n",
       "  </thead>\n",
       "  <tbody>\n",
       "    <tr>\n",
       "      <th>0</th>\n",
       "      <td>85c7d8c0-c991-4824-8f4d-37535e5851bc</td>\n",
       "      <td>John</td>\n",
       "      <td>3.540897</td>\n",
       "      <td>['AAPL', 'AVGO', 'UNH', 'NVDA', 'V']</td>\n",
       "    </tr>\n",
       "    <tr>\n",
       "      <th>1</th>\n",
       "      <td>9911f3d6-2a1e-4956-b676-d14ddd12fe0e</td>\n",
       "      <td>alex_1</td>\n",
       "      <td>3.412431</td>\n",
       "      <td>['NVDA', 'AMZN', 'AAPL', 'MSFT']</td>\n",
       "    </tr>\n",
       "    <tr>\n",
       "      <th>2</th>\n",
       "      <td>bc01be19-a9c1-420f-837d-00e2cc6ede4a</td>\n",
       "      <td>Gaby</td>\n",
       "      <td>3.396183</td>\n",
       "      <td>['AVGO', 'TSLA', 'NVDA']</td>\n",
       "    </tr>\n",
       "    <tr>\n",
       "      <th>3</th>\n",
       "      <td>e4711fdc-8d44-4216-8e96-9df557127e8f</td>\n",
       "      <td>Gaby</td>\n",
       "      <td>3.396183</td>\n",
       "      <td>['AVGO', 'TSLA', 'NVDA']</td>\n",
       "    </tr>\n",
       "    <tr>\n",
       "      <th>4</th>\n",
       "      <td>866a252f-1fe7-4a3c-859f-ea1eb81f9348</td>\n",
       "      <td>Amy</td>\n",
       "      <td>3.296707</td>\n",
       "      <td>['BRK.B', 'AAPL', 'XOM', 'MSFT', 'META']</td>\n",
       "    </tr>\n",
       "  </tbody>\n",
       "</table>\n",
       "</div>"
      ],
      "text/plain": [
       "                                   UUID User_Name  Sharpe_Ratio  \\\n",
       "0  85c7d8c0-c991-4824-8f4d-37535e5851bc     John       3.540897   \n",
       "1  9911f3d6-2a1e-4956-b676-d14ddd12fe0e    alex_1      3.412431   \n",
       "2  bc01be19-a9c1-420f-837d-00e2cc6ede4a      Gaby      3.396183   \n",
       "3  e4711fdc-8d44-4216-8e96-9df557127e8f      Gaby      3.396183   \n",
       "4  866a252f-1fe7-4a3c-859f-ea1eb81f9348      Amy       3.296707   \n",
       "\n",
       "                                     Stocks  \n",
       "0      ['AAPL', 'AVGO', 'UNH', 'NVDA', 'V']  \n",
       "1          ['NVDA', 'AMZN', 'AAPL', 'MSFT']  \n",
       "2                  ['AVGO', 'TSLA', 'NVDA']  \n",
       "3                  ['AVGO', 'TSLA', 'NVDA']  \n",
       "4  ['BRK.B', 'AAPL', 'XOM', 'MSFT', 'META']  "
      ]
     },
     "execution_count": 3,
     "metadata": {},
     "output_type": "execute_result"
    }
   ],
   "source": [
    "#Grabing the raw stock data and putting in dataframe\n",
    "user_data_to_load =  Path(\"Resources/Data/User_Portfolio_Data.csv\")\n",
    "user_data_df = pd.read_csv(user_data_to_load, header=0, parse_dates=True)\n",
    "user_data_df.sort_index(ascending = True, inplace = True)\n",
    "user_data_df.head()"
   ]
  },
  {
   "cell_type": "markdown",
   "id": "ebc9d162",
   "metadata": {},
   "source": [
    "# User Input for Game of Stocks"
   ]
  },
  {
   "cell_type": "code",
   "execution_count": 4,
   "id": "a9e4c9d4",
   "metadata": {},
   "outputs": [
    {
     "name": "stdout",
     "output_type": "stream",
     "text": [
      "Welcome to the Game of Stocks! You will be asked a series of questions to get started. \n",
      "    You can choose up to 10 stickes to create portfolio. Remember to diversify your portfolio.   \n"
     ]
    },
    {
     "data": {
      "application/vnd.jupyter.widget-view+json": {
       "model_id": "a64a8752cc3e44c29e2941754575312c",
       "version_major": 2,
       "version_minor": 0
      },
      "text/plain": [
       "Textarea(value='Input your name', description='First Name:', placeholder='Type something')"
      ]
     },
     "metadata": {},
     "output_type": "display_data"
    },
    {
     "data": {
      "application/vnd.jupyter.widget-view+json": {
       "model_id": "4a7cbf4c2d634b8281ba2646e1d03d15",
       "version_major": 2,
       "version_minor": 0
      },
      "text/plain": [
       "Dropdown(description='Amount', index=10, options=(1, 2, 3, 4, 5, 6, 7, 8, 9, 10, 'Choose Stock Amount:'), valu…"
      ]
     },
     "metadata": {},
     "output_type": "display_data"
    },
    {
     "data": {
      "application/vnd.jupyter.widget-view+json": {
       "model_id": "3e236495afee4e07ae688f37d27ecb74",
       "version_major": 2,
       "version_minor": 0
      },
      "text/plain": [
       "Button(description='Submit', style=ButtonStyle())"
      ]
     },
     "metadata": {},
     "output_type": "display_data"
    }
   ],
   "source": [
    "# Invoking the user intake form 1. It will store the information in the following variables so it can be used in notebook later.\n",
    "\n",
    "inital_user_intake()"
   ]
  },
  {
   "cell_type": "code",
   "execution_count": 5,
   "id": "c9bdeb87",
   "metadata": {},
   "outputs": [],
   "source": [
    "# Getting the form values that was store in name, num_of_stocks_choosen \n",
    "name, num_of_stocks_choosen = get_user_inital_input()"
   ]
  },
  {
   "cell_type": "code",
   "execution_count": 6,
   "id": "ce4591c9",
   "metadata": {},
   "outputs": [
    {
     "data": {
      "application/vnd.jupyter.widget-view+json": {
       "model_id": "0a9ae2a8d06748129a4d9e9d0feb8b05",
       "version_major": 2,
       "version_minor": 0
      },
      "text/plain": [
       "Dropdown(description='Stock 1:', options=('', 'Apple (AAPL) - Computer Manufacturing', 'Microsoft (MSFT) - Com…"
      ]
     },
     "metadata": {},
     "output_type": "display_data"
    },
    {
     "data": {
      "application/vnd.jupyter.widget-view+json": {
       "model_id": "77f47274af21424c8426513a33e6505b",
       "version_major": 2,
       "version_minor": 0
      },
      "text/plain": [
       "Dropdown(description='Stock 2:', options=('', 'Apple (AAPL) - Computer Manufacturing', 'Microsoft (MSFT) - Com…"
      ]
     },
     "metadata": {},
     "output_type": "display_data"
    },
    {
     "data": {
      "application/vnd.jupyter.widget-view+json": {
       "model_id": "d6eea7cd9b1d4a27a9eb035b94aad842",
       "version_major": 2,
       "version_minor": 0
      },
      "text/plain": [
       "Dropdown(description='Stock 3:', options=('', 'Apple (AAPL) - Computer Manufacturing', 'Microsoft (MSFT) - Com…"
      ]
     },
     "metadata": {},
     "output_type": "display_data"
    },
    {
     "data": {
      "application/vnd.jupyter.widget-view+json": {
       "model_id": "bdadf8a3b80a4d27b702b0f124541dac",
       "version_major": 2,
       "version_minor": 0
      },
      "text/plain": [
       "Dropdown(description='Stock 4:', options=('', 'Apple (AAPL) - Computer Manufacturing', 'Microsoft (MSFT) - Com…"
      ]
     },
     "metadata": {},
     "output_type": "display_data"
    },
    {
     "data": {
      "application/vnd.jupyter.widget-view+json": {
       "model_id": "797b006fc4764dc4adcdf39751046ac3",
       "version_major": 2,
       "version_minor": 0
      },
      "text/plain": [
       "Button(description='Submit', style=ButtonStyle())"
      ]
     },
     "metadata": {},
     "output_type": "display_data"
    }
   ],
   "source": [
    "# Invoking function to output dropdown for the stock selection for the number of stocks user selected in their intake form\n",
    "\n",
    "portfolio_user_intake(num_of_stocks_choosen)"
   ]
  },
  {
   "cell_type": "code",
   "execution_count": 7,
   "id": "27a42309",
   "metadata": {},
   "outputs": [
    {
     "data": {
      "text/plain": [
       "['TSLA', 'AMZN', 'JNJ', 'NVDA']"
      ]
     },
     "execution_count": 7,
     "metadata": {},
     "output_type": "execute_result"
    }
   ],
   "source": [
    "# getting the user chosen portfolio\n",
    "unique_user_portfolio_array = get_user_portfolio_input()\n",
    "\n",
    "unique_user_portfolio_array"
   ]
  },
  {
   "cell_type": "code",
   "execution_count": 8,
   "id": "7cde4d83",
   "metadata": {},
   "outputs": [
    {
     "data": {
      "text/plain": [
       "0.25"
      ]
     },
     "execution_count": 8,
     "metadata": {},
     "output_type": "execute_result"
    }
   ],
   "source": [
    "#calculating individual weights since we will assume it will be evenly split\n",
    "weight = round((1/len(unique_user_portfolio_array)),5)\n",
    "\n",
    "weight"
   ]
  },
  {
   "cell_type": "code",
   "execution_count": 9,
   "id": "cc8eb57c",
   "metadata": {},
   "outputs": [
    {
     "data": {
      "text/plain": [
       "[0.25, 0.25, 0.25, 0.25]"
      ]
     },
     "execution_count": 9,
     "metadata": {},
     "output_type": "execute_result"
    }
   ],
   "source": [
    "#creating the weight array to apply to stocks\n",
    "weight_array = [weight] * len(unique_user_portfolio_array)\n",
    "weight_array"
   ]
  },
  {
   "cell_type": "markdown",
   "id": "5f190bb3",
   "metadata": {},
   "source": [
    "# User Portfolio Calculations "
   ]
  },
  {
   "cell_type": "code",
   "execution_count": 10,
   "id": "448f099f",
   "metadata": {},
   "outputs": [
    {
     "data": {
      "text/html": [
       "<div>\n",
       "<style scoped>\n",
       "    .dataframe tbody tr th:only-of-type {\n",
       "        vertical-align: middle;\n",
       "    }\n",
       "\n",
       "    .dataframe tbody tr th {\n",
       "        vertical-align: top;\n",
       "    }\n",
       "\n",
       "    .dataframe thead th {\n",
       "        text-align: right;\n",
       "    }\n",
       "</style>\n",
       "<table border=\"1\" class=\"dataframe\">\n",
       "  <thead>\n",
       "    <tr style=\"text-align: right;\">\n",
       "      <th>Ticker</th>\n",
       "      <th>AMZN</th>\n",
       "      <th>JNJ</th>\n",
       "      <th>NVDA</th>\n",
       "      <th>TSLA</th>\n",
       "    </tr>\n",
       "    <tr>\n",
       "      <th>Date</th>\n",
       "      <th></th>\n",
       "      <th></th>\n",
       "      <th></th>\n",
       "      <th></th>\n",
       "    </tr>\n",
       "  </thead>\n",
       "  <tbody>\n",
       "    <tr>\n",
       "      <th>2023-02-02</th>\n",
       "      <td>0.073799</td>\n",
       "      <td>0.003759</td>\n",
       "      <td>0.036575</td>\n",
       "      <td>0.037815</td>\n",
       "    </tr>\n",
       "    <tr>\n",
       "      <th>2023-02-03</th>\n",
       "      <td>-0.084315</td>\n",
       "      <td>-0.005618</td>\n",
       "      <td>-0.028053</td>\n",
       "      <td>0.009083</td>\n",
       "    </tr>\n",
       "    <tr>\n",
       "      <th>2023-02-06</th>\n",
       "      <td>-0.011703</td>\n",
       "      <td>-0.007594</td>\n",
       "      <td>-0.000521</td>\n",
       "      <td>0.025161</td>\n",
       "    </tr>\n",
       "    <tr>\n",
       "      <th>2023-02-07</th>\n",
       "      <td>-0.000685</td>\n",
       "      <td>0.000245</td>\n",
       "      <td>0.051401</td>\n",
       "      <td>0.010526</td>\n",
       "    </tr>\n",
       "    <tr>\n",
       "      <th>2023-02-08</th>\n",
       "      <td>-0.020174</td>\n",
       "      <td>0.001285</td>\n",
       "      <td>0.001443</td>\n",
       "      <td>0.022763</td>\n",
       "    </tr>\n",
       "  </tbody>\n",
       "</table>\n",
       "</div>"
      ],
      "text/plain": [
       "Ticker          AMZN       JNJ      NVDA      TSLA\n",
       "Date                                              \n",
       "2023-02-02  0.073799  0.003759  0.036575  0.037815\n",
       "2023-02-03 -0.084315 -0.005618 -0.028053  0.009083\n",
       "2023-02-06 -0.011703 -0.007594 -0.000521  0.025161\n",
       "2023-02-07 -0.000685  0.000245  0.051401  0.010526\n",
       "2023-02-08 -0.020174  0.001285  0.001443  0.022763"
      ]
     },
     "execution_count": 10,
     "metadata": {},
     "output_type": "execute_result"
    }
   ],
   "source": [
    "# Get data from file for tickers in unique_user_portfolio_array using \".loc\" and \".isin\"\n",
    "portfolio_returns = raw_stocks_data_df.loc[raw_stocks_data_df[\"Ticker\"].isin(unique_user_portfolio_array)]\n",
    "\n",
    "# Filter columns to get only the Ticker and Close Price and drop null values\n",
    "portfolio_returns= portfolio_returns[[\"Ticker\",\"Close_Price\"]].dropna()\n",
    "\n",
    "# Set tickers as columns\n",
    "portfolio_returns= portfolio_returns.pivot_table(\"Close_Price\",\"Date\",\"Ticker\")\n",
    "\n",
    "# Calculate daily returns using \"pct_change\" and drop null values \n",
    "portfolio_returns = portfolio_returns.pct_change().dropna()\n",
    "\n",
    "# Display data\n",
    "portfolio_returns.head()"
   ]
  },
  {
   "cell_type": "code",
   "execution_count": 11,
   "id": "4a6dc3b0",
   "metadata": {},
   "outputs": [
    {
     "data": {
      "text/html": [
       "<div>\n",
       "<style scoped>\n",
       "    .dataframe tbody tr th:only-of-type {\n",
       "        vertical-align: middle;\n",
       "    }\n",
       "\n",
       "    .dataframe tbody tr th {\n",
       "        vertical-align: top;\n",
       "    }\n",
       "\n",
       "    .dataframe thead th {\n",
       "        text-align: right;\n",
       "    }\n",
       "</style>\n",
       "<table border=\"1\" class=\"dataframe\">\n",
       "  <thead>\n",
       "    <tr style=\"text-align: right;\">\n",
       "      <th>Ticker</th>\n",
       "      <th>AMZN</th>\n",
       "      <th>JNJ</th>\n",
       "      <th>NVDA</th>\n",
       "      <th>TSLA</th>\n",
       "      <th>Gabriela's Portfolio</th>\n",
       "    </tr>\n",
       "    <tr>\n",
       "      <th>Date</th>\n",
       "      <th></th>\n",
       "      <th></th>\n",
       "      <th></th>\n",
       "      <th></th>\n",
       "      <th></th>\n",
       "    </tr>\n",
       "  </thead>\n",
       "  <tbody>\n",
       "    <tr>\n",
       "      <th>2023-02-02</th>\n",
       "      <td>0.073799</td>\n",
       "      <td>0.003759</td>\n",
       "      <td>0.036575</td>\n",
       "      <td>0.037815</td>\n",
       "      <td>0.037987</td>\n",
       "    </tr>\n",
       "    <tr>\n",
       "      <th>2023-02-03</th>\n",
       "      <td>-0.084315</td>\n",
       "      <td>-0.005618</td>\n",
       "      <td>-0.028053</td>\n",
       "      <td>0.009083</td>\n",
       "      <td>-0.027226</td>\n",
       "    </tr>\n",
       "    <tr>\n",
       "      <th>2023-02-06</th>\n",
       "      <td>-0.011703</td>\n",
       "      <td>-0.007594</td>\n",
       "      <td>-0.000521</td>\n",
       "      <td>0.025161</td>\n",
       "      <td>0.001336</td>\n",
       "    </tr>\n",
       "    <tr>\n",
       "      <th>2023-02-07</th>\n",
       "      <td>-0.000685</td>\n",
       "      <td>0.000245</td>\n",
       "      <td>0.051401</td>\n",
       "      <td>0.010526</td>\n",
       "      <td>0.015372</td>\n",
       "    </tr>\n",
       "    <tr>\n",
       "      <th>2023-02-08</th>\n",
       "      <td>-0.020174</td>\n",
       "      <td>0.001285</td>\n",
       "      <td>0.001443</td>\n",
       "      <td>0.022763</td>\n",
       "      <td>0.001329</td>\n",
       "    </tr>\n",
       "  </tbody>\n",
       "</table>\n",
       "</div>"
      ],
      "text/plain": [
       "Ticker          AMZN       JNJ      NVDA      TSLA  Gabriela's Portfolio\n",
       "Date                                                                    \n",
       "2023-02-02  0.073799  0.003759  0.036575  0.037815              0.037987\n",
       "2023-02-03 -0.084315 -0.005618 -0.028053  0.009083             -0.027226\n",
       "2023-02-06 -0.011703 -0.007594 -0.000521  0.025161              0.001336\n",
       "2023-02-07 -0.000685  0.000245  0.051401  0.010526              0.015372\n",
       "2023-02-08 -0.020174  0.001285  0.001443  0.022763              0.001329"
      ]
     },
     "execution_count": 11,
     "metadata": {},
     "output_type": "execute_result"
    }
   ],
   "source": [
    "# Create portfolio variable in dataframe with weights using \".dot\" and name column with the users name\n",
    "portfolio_returns[f\"{name}'s Portfolio\"] = portfolio_returns.dot(weight_array)\n",
    "portfolio_returns.head()"
   ]
  },
  {
   "cell_type": "code",
   "execution_count": 12,
   "id": "fadd056c-4286-4596-871e-d0a4848384f7",
   "metadata": {},
   "outputs": [
    {
     "data": {
      "text/plain": [
       "3.1908020106183344"
      ]
     },
     "execution_count": 12,
     "metadata": {},
     "output_type": "execute_result"
    }
   ],
   "source": [
    "# use to store in user portfolio table \n",
    "user_sharpe_ratio= (portfolio_returns[f\"{name}'s Portfolio\"].mean() * (252)) / (portfolio_returns[f\"{name}'s Portfolio\"].std() * np.sqrt(252))\n",
    "user_sharpe_ratio"
   ]
  },
  {
   "cell_type": "markdown",
   "id": "34d5bb8e",
   "metadata": {},
   "source": [
    "# Storing User Info In User Portfolio CSV and Updating The Rank "
   ]
  },
  {
   "cell_type": "code",
   "execution_count": 13,
   "id": "d5e2ed73",
   "metadata": {},
   "outputs": [
    {
     "name": "stdout",
     "output_type": "stream",
     "text": [
      "UUID as string: e246592e-8ae9-4216-8d1c-e0bf8b2f2f1b\n"
     ]
    }
   ],
   "source": [
    "#getting a uuid \n",
    "unique_id = uuid.uuid4()\n",
    "\n",
    "#converting uuid to string so it can store as a string in csv and easier to use loc\n",
    "user_uuid_str = str(unique_id)\n",
    "print(\"UUID as string:\", user_uuid_str)"
   ]
  },
  {
   "cell_type": "code",
   "execution_count": 14,
   "id": "605bf17b",
   "metadata": {},
   "outputs": [],
   "source": [
    "# Create a list of dictionaries (each dictionary represents a row of data)\n",
    "user_data = [{'UUID': user_uuid_str,\n",
    "              'User_Name': name,\n",
    "              'Sharpe_Ratio': user_sharpe_ratio,\n",
    "              'Stocks': f'{unique_user_portfolio_array}'}]\n",
    "\n",
    "# Create the DataFrame from the list of dictionaries\n",
    "user_portfolio_df = pd.DataFrame(user_data)"
   ]
  },
  {
   "cell_type": "code",
   "execution_count": 15,
   "id": "59f91a42",
   "metadata": {},
   "outputs": [
    {
     "name": "stdout",
     "output_type": "stream",
     "text": [
      "New User row added to the User User_Portfolio_Data.csv file. The following was added:\n"
     ]
    },
    {
     "data": {
      "text/html": [
       "<div>\n",
       "<style scoped>\n",
       "    .dataframe tbody tr th:only-of-type {\n",
       "        vertical-align: middle;\n",
       "    }\n",
       "\n",
       "    .dataframe tbody tr th {\n",
       "        vertical-align: top;\n",
       "    }\n",
       "\n",
       "    .dataframe thead th {\n",
       "        text-align: right;\n",
       "    }\n",
       "</style>\n",
       "<table border=\"1\" class=\"dataframe\">\n",
       "  <thead>\n",
       "    <tr style=\"text-align: right;\">\n",
       "      <th></th>\n",
       "      <th>UUID</th>\n",
       "      <th>User_Name</th>\n",
       "      <th>Sharpe_Ratio</th>\n",
       "      <th>Stocks</th>\n",
       "    </tr>\n",
       "  </thead>\n",
       "  <tbody>\n",
       "    <tr>\n",
       "      <th>0</th>\n",
       "      <td>e246592e-8ae9-4216-8d1c-e0bf8b2f2f1b</td>\n",
       "      <td>Gabriela</td>\n",
       "      <td>3.190802</td>\n",
       "      <td>['TSLA', 'AMZN', 'JNJ', 'NVDA']</td>\n",
       "    </tr>\n",
       "  </tbody>\n",
       "</table>\n",
       "</div>"
      ],
      "text/plain": [
       "                                   UUID User_Name  Sharpe_Ratio  \\\n",
       "0  e246592e-8ae9-4216-8d1c-e0bf8b2f2f1b  Gabriela      3.190802   \n",
       "\n",
       "                            Stocks  \n",
       "0  ['TSLA', 'AMZN', 'JNJ', 'NVDA']  "
      ]
     },
     "metadata": {},
     "output_type": "display_data"
    }
   ],
   "source": [
    "# Append the new row to the DataFrame\n",
    "# user_data_df = user_data_df.append(user_data, ignore_index=True)\n",
    "\n",
    "# Concatenate the original DataFrame and the new row DataFrame\n",
    "user_data_df = pd.concat([user_data_df, user_portfolio_df], ignore_index=True)\n",
    "\n",
    "# Write the updated DataFrame back to the CSV file\n",
    "user_data_df.to_csv(user_data_to_load, index=False)\n",
    "\n",
    "#Print so user can see what was added \n",
    "print(\"New User row added to the User User_Portfolio_Data.csv file. The following was added:\")\n",
    "display(user_portfolio_df)"
   ]
  },
  {
   "cell_type": "markdown",
   "id": "2018ae55",
   "metadata": {},
   "source": [
    "# TOP 5 users BEFORE the rank is updated "
   ]
  },
  {
   "cell_type": "code",
   "execution_count": 16,
   "id": "7c2fe3ce",
   "metadata": {},
   "outputs": [
    {
     "data": {
      "text/html": [
       "<div>\n",
       "<style scoped>\n",
       "    .dataframe tbody tr th:only-of-type {\n",
       "        vertical-align: middle;\n",
       "    }\n",
       "\n",
       "    .dataframe tbody tr th {\n",
       "        vertical-align: top;\n",
       "    }\n",
       "\n",
       "    .dataframe thead th {\n",
       "        text-align: right;\n",
       "    }\n",
       "</style>\n",
       "<table border=\"1\" class=\"dataframe\">\n",
       "  <thead>\n",
       "    <tr style=\"text-align: right;\">\n",
       "      <th></th>\n",
       "      <th>UUID</th>\n",
       "      <th>User_Name</th>\n",
       "      <th>Sharpe_Ratio</th>\n",
       "      <th>Stocks</th>\n",
       "    </tr>\n",
       "  </thead>\n",
       "  <tbody>\n",
       "    <tr>\n",
       "      <th>0</th>\n",
       "      <td>85c7d8c0-c991-4824-8f4d-37535e5851bc</td>\n",
       "      <td>John</td>\n",
       "      <td>3.540897</td>\n",
       "      <td>['AAPL', 'AVGO', 'UNH', 'NVDA', 'V']</td>\n",
       "    </tr>\n",
       "    <tr>\n",
       "      <th>1</th>\n",
       "      <td>9911f3d6-2a1e-4956-b676-d14ddd12fe0e</td>\n",
       "      <td>alex_1</td>\n",
       "      <td>3.412431</td>\n",
       "      <td>['NVDA', 'AMZN', 'AAPL', 'MSFT']</td>\n",
       "    </tr>\n",
       "    <tr>\n",
       "      <th>2</th>\n",
       "      <td>bc01be19-a9c1-420f-837d-00e2cc6ede4a</td>\n",
       "      <td>Gaby</td>\n",
       "      <td>3.396183</td>\n",
       "      <td>['AVGO', 'TSLA', 'NVDA']</td>\n",
       "    </tr>\n",
       "    <tr>\n",
       "      <th>3</th>\n",
       "      <td>e4711fdc-8d44-4216-8e96-9df557127e8f</td>\n",
       "      <td>Gaby</td>\n",
       "      <td>3.396183</td>\n",
       "      <td>['AVGO', 'TSLA', 'NVDA']</td>\n",
       "    </tr>\n",
       "    <tr>\n",
       "      <th>4</th>\n",
       "      <td>866a252f-1fe7-4a3c-859f-ea1eb81f9348</td>\n",
       "      <td>Amy</td>\n",
       "      <td>3.296707</td>\n",
       "      <td>['BRK.B', 'AAPL', 'XOM', 'MSFT', 'META']</td>\n",
       "    </tr>\n",
       "  </tbody>\n",
       "</table>\n",
       "</div>"
      ],
      "text/plain": [
       "                                   UUID User_Name  Sharpe_Ratio  \\\n",
       "0  85c7d8c0-c991-4824-8f4d-37535e5851bc     John       3.540897   \n",
       "1  9911f3d6-2a1e-4956-b676-d14ddd12fe0e    alex_1      3.412431   \n",
       "2  bc01be19-a9c1-420f-837d-00e2cc6ede4a      Gaby      3.396183   \n",
       "3  e4711fdc-8d44-4216-8e96-9df557127e8f      Gaby      3.396183   \n",
       "4  866a252f-1fe7-4a3c-859f-ea1eb81f9348      Amy       3.296707   \n",
       "\n",
       "                                     Stocks  \n",
       "0      ['AAPL', 'AVGO', 'UNH', 'NVDA', 'V']  \n",
       "1          ['NVDA', 'AMZN', 'AAPL', 'MSFT']  \n",
       "2                  ['AVGO', 'TSLA', 'NVDA']  \n",
       "3                  ['AVGO', 'TSLA', 'NVDA']  \n",
       "4  ['BRK.B', 'AAPL', 'XOM', 'MSFT', 'META']  "
      ]
     },
     "execution_count": 16,
     "metadata": {},
     "output_type": "execute_result"
    }
   ],
   "source": [
    "user_data_df.head()"
   ]
  },
  {
   "cell_type": "code",
   "execution_count": 17,
   "id": "f82a7886",
   "metadata": {},
   "outputs": [],
   "source": [
    "#Sort user portfolio table to get new ranking. Sort by descending since higher sharpe ratio the better \n",
    "sorted_user_data_df = user_data_df.sort_values(by='Sharpe_Ratio', ascending=False)"
   ]
  },
  {
   "cell_type": "markdown",
   "id": "5c2da0e2",
   "metadata": {},
   "source": [
    "# TOP 5 Players AFTER Rank is Updated"
   ]
  },
  {
   "cell_type": "code",
   "execution_count": 18,
   "id": "98ae0859",
   "metadata": {},
   "outputs": [
    {
     "data": {
      "text/html": [
       "<div>\n",
       "<style scoped>\n",
       "    .dataframe tbody tr th:only-of-type {\n",
       "        vertical-align: middle;\n",
       "    }\n",
       "\n",
       "    .dataframe tbody tr th {\n",
       "        vertical-align: top;\n",
       "    }\n",
       "\n",
       "    .dataframe thead th {\n",
       "        text-align: right;\n",
       "    }\n",
       "</style>\n",
       "<table border=\"1\" class=\"dataframe\">\n",
       "  <thead>\n",
       "    <tr style=\"text-align: right;\">\n",
       "      <th></th>\n",
       "      <th>UUID</th>\n",
       "      <th>User_Name</th>\n",
       "      <th>Sharpe_Ratio</th>\n",
       "      <th>Stocks</th>\n",
       "    </tr>\n",
       "  </thead>\n",
       "  <tbody>\n",
       "    <tr>\n",
       "      <th>0</th>\n",
       "      <td>85c7d8c0-c991-4824-8f4d-37535e5851bc</td>\n",
       "      <td>John</td>\n",
       "      <td>3.540897</td>\n",
       "      <td>['AAPL', 'AVGO', 'UNH', 'NVDA', 'V']</td>\n",
       "    </tr>\n",
       "    <tr>\n",
       "      <th>1</th>\n",
       "      <td>9911f3d6-2a1e-4956-b676-d14ddd12fe0e</td>\n",
       "      <td>alex_1</td>\n",
       "      <td>3.412431</td>\n",
       "      <td>['NVDA', 'AMZN', 'AAPL', 'MSFT']</td>\n",
       "    </tr>\n",
       "    <tr>\n",
       "      <th>2</th>\n",
       "      <td>bc01be19-a9c1-420f-837d-00e2cc6ede4a</td>\n",
       "      <td>Gaby</td>\n",
       "      <td>3.396183</td>\n",
       "      <td>['AVGO', 'TSLA', 'NVDA']</td>\n",
       "    </tr>\n",
       "    <tr>\n",
       "      <th>3</th>\n",
       "      <td>e4711fdc-8d44-4216-8e96-9df557127e8f</td>\n",
       "      <td>Gaby</td>\n",
       "      <td>3.396183</td>\n",
       "      <td>['AVGO', 'TSLA', 'NVDA']</td>\n",
       "    </tr>\n",
       "    <tr>\n",
       "      <th>4</th>\n",
       "      <td>866a252f-1fe7-4a3c-859f-ea1eb81f9348</td>\n",
       "      <td>Amy</td>\n",
       "      <td>3.296707</td>\n",
       "      <td>['BRK.B', 'AAPL', 'XOM', 'MSFT', 'META']</td>\n",
       "    </tr>\n",
       "  </tbody>\n",
       "</table>\n",
       "</div>"
      ],
      "text/plain": [
       "                                   UUID User_Name  Sharpe_Ratio  \\\n",
       "0  85c7d8c0-c991-4824-8f4d-37535e5851bc     John       3.540897   \n",
       "1  9911f3d6-2a1e-4956-b676-d14ddd12fe0e    alex_1      3.412431   \n",
       "2  bc01be19-a9c1-420f-837d-00e2cc6ede4a      Gaby      3.396183   \n",
       "3  e4711fdc-8d44-4216-8e96-9df557127e8f      Gaby      3.396183   \n",
       "4  866a252f-1fe7-4a3c-859f-ea1eb81f9348      Amy       3.296707   \n",
       "\n",
       "                                     Stocks  \n",
       "0      ['AAPL', 'AVGO', 'UNH', 'NVDA', 'V']  \n",
       "1          ['NVDA', 'AMZN', 'AAPL', 'MSFT']  \n",
       "2                  ['AVGO', 'TSLA', 'NVDA']  \n",
       "3                  ['AVGO', 'TSLA', 'NVDA']  \n",
       "4  ['BRK.B', 'AAPL', 'XOM', 'MSFT', 'META']  "
      ]
     },
     "execution_count": 18,
     "metadata": {},
     "output_type": "execute_result"
    }
   ],
   "source": [
    "sorted_user_data_df.head()"
   ]
  },
  {
   "cell_type": "code",
   "execution_count": 19,
   "id": "3a87a2e1",
   "metadata": {},
   "outputs": [],
   "source": [
    "#Save new rank to user User_Portfolio_Data.csv Write the updated DataFrame back to the CSV file\n",
    "\n",
    "sorted_user_data_df.to_csv(user_data_to_load, index=False)\n",
    "\n",
    "#have to re-import the user portfolio data to get updated sorted list \n",
    "user_data_df = pd.read_csv(user_data_to_load, header=0, parse_dates=True)\n",
    "user_data_df.sort_index(ascending = True, inplace = True)"
   ]
  },
  {
   "cell_type": "code",
   "execution_count": 20,
   "id": "d734c7aa",
   "metadata": {},
   "outputs": [
    {
     "data": {
      "text/html": [
       "<div>\n",
       "<style scoped>\n",
       "    .dataframe tbody tr th:only-of-type {\n",
       "        vertical-align: middle;\n",
       "    }\n",
       "\n",
       "    .dataframe tbody tr th {\n",
       "        vertical-align: top;\n",
       "    }\n",
       "\n",
       "    .dataframe thead th {\n",
       "        text-align: right;\n",
       "    }\n",
       "</style>\n",
       "<table border=\"1\" class=\"dataframe\">\n",
       "  <thead>\n",
       "    <tr style=\"text-align: right;\">\n",
       "      <th></th>\n",
       "      <th>UUID</th>\n",
       "      <th>User_Name</th>\n",
       "      <th>Sharpe_Ratio</th>\n",
       "      <th>Stocks</th>\n",
       "    </tr>\n",
       "  </thead>\n",
       "  <tbody>\n",
       "    <tr>\n",
       "      <th>0</th>\n",
       "      <td>85c7d8c0-c991-4824-8f4d-37535e5851bc</td>\n",
       "      <td>John</td>\n",
       "      <td>3.540897</td>\n",
       "      <td>['AAPL', 'AVGO', 'UNH', 'NVDA', 'V']</td>\n",
       "    </tr>\n",
       "    <tr>\n",
       "      <th>1</th>\n",
       "      <td>9911f3d6-2a1e-4956-b676-d14ddd12fe0e</td>\n",
       "      <td>alex_1</td>\n",
       "      <td>3.412431</td>\n",
       "      <td>['NVDA', 'AMZN', 'AAPL', 'MSFT']</td>\n",
       "    </tr>\n",
       "    <tr>\n",
       "      <th>2</th>\n",
       "      <td>bc01be19-a9c1-420f-837d-00e2cc6ede4a</td>\n",
       "      <td>Gaby</td>\n",
       "      <td>3.396183</td>\n",
       "      <td>['AVGO', 'TSLA', 'NVDA']</td>\n",
       "    </tr>\n",
       "    <tr>\n",
       "      <th>3</th>\n",
       "      <td>e4711fdc-8d44-4216-8e96-9df557127e8f</td>\n",
       "      <td>Gaby</td>\n",
       "      <td>3.396183</td>\n",
       "      <td>['AVGO', 'TSLA', 'NVDA']</td>\n",
       "    </tr>\n",
       "    <tr>\n",
       "      <th>4</th>\n",
       "      <td>866a252f-1fe7-4a3c-859f-ea1eb81f9348</td>\n",
       "      <td>Amy</td>\n",
       "      <td>3.296707</td>\n",
       "      <td>['BRK.B', 'AAPL', 'XOM', 'MSFT', 'META']</td>\n",
       "    </tr>\n",
       "  </tbody>\n",
       "</table>\n",
       "</div>"
      ],
      "text/plain": [
       "                                   UUID User_Name  Sharpe_Ratio  \\\n",
       "0  85c7d8c0-c991-4824-8f4d-37535e5851bc     John       3.540897   \n",
       "1  9911f3d6-2a1e-4956-b676-d14ddd12fe0e    alex_1      3.412431   \n",
       "2  bc01be19-a9c1-420f-837d-00e2cc6ede4a      Gaby      3.396183   \n",
       "3  e4711fdc-8d44-4216-8e96-9df557127e8f      Gaby      3.396183   \n",
       "4  866a252f-1fe7-4a3c-859f-ea1eb81f9348      Amy       3.296707   \n",
       "\n",
       "                                     Stocks  \n",
       "0      ['AAPL', 'AVGO', 'UNH', 'NVDA', 'V']  \n",
       "1          ['NVDA', 'AMZN', 'AAPL', 'MSFT']  \n",
       "2                  ['AVGO', 'TSLA', 'NVDA']  \n",
       "3                  ['AVGO', 'TSLA', 'NVDA']  \n",
       "4  ['BRK.B', 'AAPL', 'XOM', 'MSFT', 'META']  "
      ]
     },
     "execution_count": 20,
     "metadata": {},
     "output_type": "execute_result"
    }
   ],
   "source": [
    "#User Ranking of top 5 AFTER rank is updated  \n",
    "user_data_df.head()"
   ]
  },
  {
   "cell_type": "code",
   "execution_count": 21,
   "id": "46570cdb",
   "metadata": {},
   "outputs": [
    {
     "name": "stdout",
     "output_type": "stream",
     "text": [
      "Gabriela, your rank is 7\n"
     ]
    }
   ],
   "source": [
    "# Grab Postition of User Ranking \n",
    "\n",
    "condition = user_data_df['UUID'] == user_uuid_str\n",
    "matching_rows = user_data_df[condition]\n",
    "\n",
    "# Get the index of the first matching row (if any)\n",
    "if not matching_rows.empty:\n",
    "    row_index = matching_rows.index[0]\n",
    "#     print(f\"Index of the row: {row_index}\")\n",
    "    print(f\"{name}, your rank is {row_index + 1}\" )\n",
    "else:\n",
    "    print(\"Error, user info not found\")\n",
    "    \n"
   ]
  },
  {
   "cell_type": "markdown",
   "id": "a5945fc4-5277-416c-bb93-b40bf8290327",
   "metadata": {},
   "source": [
    "# User Performance Compared to Other Players Calulation and Market"
   ]
  },
  {
   "cell_type": "code",
   "execution_count": 22,
   "id": "9625e2a4-1407-48d3-94de-767f5d3b6521",
   "metadata": {},
   "outputs": [
    {
     "data": {
      "text/html": [
       "<div>\n",
       "<style scoped>\n",
       "    .dataframe tbody tr th:only-of-type {\n",
       "        vertical-align: middle;\n",
       "    }\n",
       "\n",
       "    .dataframe tbody tr th {\n",
       "        vertical-align: top;\n",
       "    }\n",
       "\n",
       "    .dataframe thead th {\n",
       "        text-align: right;\n",
       "    }\n",
       "</style>\n",
       "<table border=\"1\" class=\"dataframe\">\n",
       "  <thead>\n",
       "    <tr style=\"text-align: right;\">\n",
       "      <th></th>\n",
       "      <th>SP500</th>\n",
       "      <th>NDAQ</th>\n",
       "    </tr>\n",
       "    <tr>\n",
       "      <th>Date</th>\n",
       "      <th></th>\n",
       "      <th></th>\n",
       "    </tr>\n",
       "  </thead>\n",
       "  <tbody>\n",
       "    <tr>\n",
       "      <th>2023-02-02</th>\n",
       "      <td>0.014699</td>\n",
       "      <td>0.032540</td>\n",
       "    </tr>\n",
       "    <tr>\n",
       "      <th>2023-02-03</th>\n",
       "      <td>-0.010355</td>\n",
       "      <td>-0.015889</td>\n",
       "    </tr>\n",
       "    <tr>\n",
       "      <th>2023-02-06</th>\n",
       "      <td>-0.006140</td>\n",
       "      <td>-0.009953</td>\n",
       "    </tr>\n",
       "    <tr>\n",
       "      <th>2023-02-07</th>\n",
       "      <td>0.012873</td>\n",
       "      <td>0.019040</td>\n",
       "    </tr>\n",
       "    <tr>\n",
       "      <th>2023-02-08</th>\n",
       "      <td>-0.011081</td>\n",
       "      <td>-0.016780</td>\n",
       "    </tr>\n",
       "  </tbody>\n",
       "</table>\n",
       "</div>"
      ],
      "text/plain": [
       "               SP500      NDAQ\n",
       "Date                          \n",
       "2023-02-02  0.014699  0.032540\n",
       "2023-02-03 -0.010355 -0.015889\n",
       "2023-02-06 -0.006140 -0.009953\n",
       "2023-02-07  0.012873  0.019040\n",
       "2023-02-08 -0.011081 -0.016780"
      ]
     },
     "execution_count": 22,
     "metadata": {},
     "output_type": "execute_result"
    }
   ],
   "source": [
    "# Create a dataframe for market indicators and calculate daily returns and drop nulls \n",
    "sp_returns = raw_stocks_data_df.loc[raw_stocks_data_df[\"Ticker\"]==\"SPX\"]\n",
    "sp_returns = sp_returns[[\"Close_Price\"]].pct_change().dropna()\n",
    "\n",
    "ndaq_returns = raw_stocks_data_df.loc[raw_stocks_data_df[\"Ticker\"]==\"NDAQ\"]\n",
    "ndaq_returns = ndaq_returns[[\"Close_Price\"]].pct_change().dropna()\n",
    "\n",
    "# Rename columns to SP500 and NDAQ\n",
    "sp_returns.columns=[\"SP500\"]\n",
    "ndaq_returns.columns=[\"NDAQ\"]\n",
    "\n",
    "# Combine dataframes\n",
    "market_returns = pd.concat([sp_returns, ndaq_returns], axis=\"columns\", join=\"inner\")\n",
    "market_returns.head()"
   ]
  },
  {
   "cell_type": "code",
   "execution_count": 23,
   "id": "f096f0f0-9cc5-40db-b6cd-35ad2b744fa0",
   "metadata": {},
   "outputs": [
    {
     "data": {
      "text/html": [
       "<div>\n",
       "<style scoped>\n",
       "    .dataframe tbody tr th:only-of-type {\n",
       "        vertical-align: middle;\n",
       "    }\n",
       "\n",
       "    .dataframe tbody tr th {\n",
       "        vertical-align: top;\n",
       "    }\n",
       "\n",
       "    .dataframe thead th {\n",
       "        text-align: right;\n",
       "    }\n",
       "</style>\n",
       "<table border=\"1\" class=\"dataframe\">\n",
       "  <thead>\n",
       "    <tr style=\"text-align: right;\">\n",
       "      <th>Ticker</th>\n",
       "      <th>John</th>\n",
       "      <th>alex_1</th>\n",
       "      <th>Gaby</th>\n",
       "    </tr>\n",
       "    <tr>\n",
       "      <th>Date</th>\n",
       "      <th></th>\n",
       "      <th></th>\n",
       "      <th></th>\n",
       "    </tr>\n",
       "  </thead>\n",
       "  <tbody>\n",
       "    <tr>\n",
       "      <th>2023-02-02</th>\n",
       "      <td>0.004038</td>\n",
       "      <td>0.048580</td>\n",
       "      <td>0.026467</td>\n",
       "    </tr>\n",
       "    <tr>\n",
       "      <th>2023-02-03</th>\n",
       "      <td>-0.002419</td>\n",
       "      <td>-0.027897</td>\n",
       "      <td>-0.010808</td>\n",
       "    </tr>\n",
       "    <tr>\n",
       "      <th>2023-02-06</th>\n",
       "      <td>-0.001694</td>\n",
       "      <td>-0.009067</td>\n",
       "      <td>0.010266</td>\n",
       "    </tr>\n",
       "    <tr>\n",
       "      <th>2023-02-07</th>\n",
       "      <td>0.020832</td>\n",
       "      <td>0.027996</td>\n",
       "      <td>0.027932</td>\n",
       "    </tr>\n",
       "    <tr>\n",
       "      <th>2023-02-08</th>\n",
       "      <td>-0.005698</td>\n",
       "      <td>-0.009871</td>\n",
       "      <td>0.001157</td>\n",
       "    </tr>\n",
       "  </tbody>\n",
       "</table>\n",
       "</div>"
      ],
      "text/plain": [
       "Ticker         John     alex_1      Gaby\n",
       "Date                                    \n",
       "2023-02-02  0.004038  0.048580  0.026467\n",
       "2023-02-03 -0.002419 -0.027897 -0.010808\n",
       "2023-02-06 -0.001694 -0.009067  0.010266\n",
       "2023-02-07  0.020832  0.027996  0.027932\n",
       "2023-02-08 -0.005698 -0.009871  0.001157"
      ]
     },
     "execution_count": 23,
     "metadata": {},
     "output_type": "execute_result"
    }
   ],
   "source": [
    "# Create a dataframe for top players and calculate daily returns and drop nulls \n",
    "\n",
    "# Convert top stored user data from csv from stingify array back to a list so it can be used in calculations\n",
    "top_1_str_to_list = ast.literal_eval(user_data_df.loc[0, 'Stocks'])\n",
    "top_2_str_to_list = ast.literal_eval(user_data_df.loc[1, 'Stocks'])\n",
    "top_3_str_to_list = ast.literal_eval(user_data_df.loc[2, 'Stocks'])\n",
    "\n",
    "# Get data from file for tickers in user_data using \".loc\" and \".isin\"\n",
    "top_1_portfolio_returns = raw_stocks_data_df.loc[raw_stocks_data_df[\"Ticker\"].isin(top_1_str_to_list)]\n",
    "top_2_portfolio_returns = raw_stocks_data_df.loc[raw_stocks_data_df[\"Ticker\"].isin(top_2_str_to_list)]\n",
    "top_3_portfolio_returns = raw_stocks_data_df.loc[raw_stocks_data_df[\"Ticker\"].isin(top_3_str_to_list)]\n",
    "\n",
    "# Filter columns to get only the Ticker and Close Price and drop null values\n",
    "top_1_portfolio_returns = top_1_portfolio_returns[[\"Ticker\",\"Close_Price\"]].dropna()\n",
    "top_2_portfolio_returns = top_2_portfolio_returns[[\"Ticker\",\"Close_Price\"]].dropna()\n",
    "top_3_portfolio_returns = top_3_portfolio_returns[[\"Ticker\",\"Close_Price\"]].dropna()\n",
    "\n",
    "# Set tickers as columns\n",
    "top_1_portfolio_returns = top_1_portfolio_returns.pivot_table(\"Close_Price\",\"Date\",\"Ticker\")\n",
    "top_2_portfolio_returns = top_2_portfolio_returns.pivot_table(\"Close_Price\",\"Date\",\"Ticker\")\n",
    "top_3_portfolio_returns = top_3_portfolio_returns.pivot_table(\"Close_Price\",\"Date\",\"Ticker\")\n",
    "\n",
    "# Calculate daily returns using \"pct_change\" and drop null values \n",
    "top_1_portfolio_returns  = top_1_portfolio_returns .pct_change().dropna() \n",
    "top_2_portfolio_returns  = top_2_portfolio_returns .pct_change().dropna() \n",
    "top_3_portfolio_returns  = top_3_portfolio_returns .pct_change().dropna() \n",
    "\n",
    "# Get User name to locate portfolios\n",
    "top_1_user_name = user_data_df.loc[0, 'User_Name']\n",
    "top_2_user_name = user_data_df.loc[1, 'User_Name']\n",
    "top_3_user_name = user_data_df.loc[2, 'User_Name']\n",
    "\n",
    "# Get the porfolio using weights and keep only the porfolio column. Using numpy dot method to multiple the portfolio returns list with the weight list\n",
    "top_1_portfolio_returns[f\"{top_1_user_name}\"] = top_1_portfolio_returns.dot([1/len(top_1_str_to_list)] * len(top_1_str_to_list))\n",
    "top_1_portfolio_returns = top_1_portfolio_returns[[f\"{top_1_user_name}\"]]\n",
    "\n",
    "top_2_portfolio_returns[f\"{top_2_user_name}\"] = top_2_portfolio_returns.dot([1/len(top_2_str_to_list)] * len(top_2_str_to_list))\n",
    "top_2_portfolio_returns = top_2_portfolio_returns[[f\"{top_2_user_name}\"]]\n",
    "\n",
    "top_3_portfolio_returns[f\"{top_3_user_name}\"] = top_3_portfolio_returns.dot([1/len(top_3_str_to_list)] * len(top_3_str_to_list))\n",
    "top_3_portfolio_returns = top_3_portfolio_returns[[f\"{top_3_user_name}\"]]\n",
    "\n",
    "top_returns = pd.concat([top_1_portfolio_returns, top_2_portfolio_returns, top_3_portfolio_returns], axis=\"columns\", join=\"inner\")\n",
    "top_returns.head()\n"
   ]
  },
  {
   "cell_type": "code",
   "execution_count": 24,
   "id": "79c0e589-b6d7-4d37-a8c3-acd66935e39e",
   "metadata": {},
   "outputs": [
    {
     "data": {
      "text/html": [
       "<div>\n",
       "<style scoped>\n",
       "    .dataframe tbody tr th:only-of-type {\n",
       "        vertical-align: middle;\n",
       "    }\n",
       "\n",
       "    .dataframe tbody tr th {\n",
       "        vertical-align: top;\n",
       "    }\n",
       "\n",
       "    .dataframe thead th {\n",
       "        text-align: right;\n",
       "    }\n",
       "</style>\n",
       "<table border=\"1\" class=\"dataframe\">\n",
       "  <thead>\n",
       "    <tr style=\"text-align: right;\">\n",
       "      <th></th>\n",
       "      <th>Gabriela's Portfolio</th>\n",
       "      <th>SP500</th>\n",
       "      <th>NDAQ</th>\n",
       "      <th>John</th>\n",
       "      <th>alex_1</th>\n",
       "      <th>Gaby</th>\n",
       "    </tr>\n",
       "    <tr>\n",
       "      <th>Date</th>\n",
       "      <th></th>\n",
       "      <th></th>\n",
       "      <th></th>\n",
       "      <th></th>\n",
       "      <th></th>\n",
       "      <th></th>\n",
       "    </tr>\n",
       "  </thead>\n",
       "  <tbody>\n",
       "    <tr>\n",
       "      <th>2023-02-02</th>\n",
       "      <td>0.037987</td>\n",
       "      <td>0.014699</td>\n",
       "      <td>0.032540</td>\n",
       "      <td>0.004038</td>\n",
       "      <td>0.048580</td>\n",
       "      <td>0.026467</td>\n",
       "    </tr>\n",
       "    <tr>\n",
       "      <th>2023-02-03</th>\n",
       "      <td>-0.027226</td>\n",
       "      <td>-0.010355</td>\n",
       "      <td>-0.015889</td>\n",
       "      <td>-0.002419</td>\n",
       "      <td>-0.027897</td>\n",
       "      <td>-0.010808</td>\n",
       "    </tr>\n",
       "    <tr>\n",
       "      <th>2023-02-06</th>\n",
       "      <td>0.001336</td>\n",
       "      <td>-0.006140</td>\n",
       "      <td>-0.009953</td>\n",
       "      <td>-0.001694</td>\n",
       "      <td>-0.009067</td>\n",
       "      <td>0.010266</td>\n",
       "    </tr>\n",
       "    <tr>\n",
       "      <th>2023-02-07</th>\n",
       "      <td>0.015372</td>\n",
       "      <td>0.012873</td>\n",
       "      <td>0.019040</td>\n",
       "      <td>0.020832</td>\n",
       "      <td>0.027996</td>\n",
       "      <td>0.027932</td>\n",
       "    </tr>\n",
       "    <tr>\n",
       "      <th>2023-02-08</th>\n",
       "      <td>0.001329</td>\n",
       "      <td>-0.011081</td>\n",
       "      <td>-0.016780</td>\n",
       "      <td>-0.005698</td>\n",
       "      <td>-0.009871</td>\n",
       "      <td>0.001157</td>\n",
       "    </tr>\n",
       "  </tbody>\n",
       "</table>\n",
       "</div>"
      ],
      "text/plain": [
       "            Gabriela's Portfolio     SP500      NDAQ     John     alex_1  \\\n",
       "Date                                                                       \n",
       "2023-02-02              0.037987  0.014699  0.032540  0.004038  0.048580   \n",
       "2023-02-03             -0.027226 -0.010355 -0.015889 -0.002419 -0.027897   \n",
       "2023-02-06              0.001336 -0.006140 -0.009953 -0.001694 -0.009067   \n",
       "2023-02-07              0.015372  0.012873  0.019040  0.020832  0.027996   \n",
       "2023-02-08              0.001329 -0.011081 -0.016780 -0.005698 -0.009871   \n",
       "\n",
       "                Gaby  \n",
       "Date                  \n",
       "2023-02-02  0.026467  \n",
       "2023-02-03 -0.010808  \n",
       "2023-02-06  0.010266  \n",
       "2023-02-07  0.027932  \n",
       "2023-02-08  0.001157  "
      ]
     },
     "execution_count": 24,
     "metadata": {},
     "output_type": "execute_result"
    }
   ],
   "source": [
    "# Get UUID of top 3 players\n",
    "top_1_uuid = user_data_df.loc[0, 'UUID']\n",
    "top_2_uuid = user_data_df.loc[1, 'UUID']\n",
    "top_3_uuid = user_data_df.loc[2, 'UUID']\n",
    "\n",
    "# Create a list with UUID of top 3 players\n",
    "uuids = [top_1_uuid, top_2_uuid, top_3_uuid]\n",
    "\n",
    "# Loop through UUIDs to check of user is in top 3, add the market and top players porfolio and if user's portfolio is not on top 3 add it too\n",
    "for each_element in uuids:\n",
    "    if each_element == user_uuid_str:\n",
    "        top_portfolio_market_returns = pd.concat([market_returns, top_returns], axis=\"columns\", join=\"inner\")\n",
    "        break\n",
    "    else:\n",
    "        top_portfolio_market_returns = pd.concat([portfolio_returns[f\"{name}'s Portfolio\"], market_returns, top_returns], axis=\"columns\", join=\"inner\")\n",
    "\n",
    "top_portfolio_market_returns.head()\n"
   ]
  },
  {
   "cell_type": "code",
   "execution_count": 25,
   "id": "6d11053c-339a-45ab-8280-c0e90d5ac93e",
   "metadata": {},
   "outputs": [
    {
     "data": {
      "text/plain": [
       "Gabriela's Portfolio    3.190802\n",
       "SP500                   1.739253\n",
       "NDAQ                    2.337676\n",
       "John                    3.540897\n",
       "alex_1                  3.412431\n",
       "Gaby                    3.396183\n",
       "dtype: float64"
      ]
     },
     "execution_count": 25,
     "metadata": {},
     "output_type": "execute_result"
    }
   ],
   "source": [
    "# Calculate sharp ratio - visulaize purposes - Portfolio and the Index\n",
    "top_portfolio_market_sharp_ratio = (top_portfolio_market_returns.mean() * (252)) / (top_portfolio_market_returns.std() * np.sqrt(252))\n",
    "top_portfolio_market_sharp_ratio"
   ]
  },
  {
   "cell_type": "code",
   "execution_count": 26,
   "id": "a5c8c85c-7162-4a00-abf0-7f13a5ff22f0",
   "metadata": {},
   "outputs": [
    {
     "data": {
      "text/html": [
       "<div>\n",
       "<style scoped>\n",
       "    .dataframe tbody tr th:only-of-type {\n",
       "        vertical-align: middle;\n",
       "    }\n",
       "\n",
       "    .dataframe tbody tr th {\n",
       "        vertical-align: top;\n",
       "    }\n",
       "\n",
       "    .dataframe thead th {\n",
       "        text-align: right;\n",
       "    }\n",
       "</style>\n",
       "<table border=\"1\" class=\"dataframe\">\n",
       "  <thead>\n",
       "    <tr style=\"text-align: right;\">\n",
       "      <th></th>\n",
       "      <th>Gabriela's Portfolio</th>\n",
       "      <th>SP500</th>\n",
       "      <th>NDAQ</th>\n",
       "      <th>John</th>\n",
       "      <th>alex_1</th>\n",
       "      <th>Gaby</th>\n",
       "    </tr>\n",
       "    <tr>\n",
       "      <th>Date</th>\n",
       "      <th></th>\n",
       "      <th></th>\n",
       "      <th></th>\n",
       "      <th></th>\n",
       "      <th></th>\n",
       "      <th></th>\n",
       "    </tr>\n",
       "  </thead>\n",
       "  <tbody>\n",
       "    <tr>\n",
       "      <th>2023-02-02</th>\n",
       "      <td>1.037987</td>\n",
       "      <td>1.014699</td>\n",
       "      <td>1.032540</td>\n",
       "      <td>1.004038</td>\n",
       "      <td>1.048580</td>\n",
       "      <td>1.026467</td>\n",
       "    </tr>\n",
       "    <tr>\n",
       "      <th>2023-02-03</th>\n",
       "      <td>1.009727</td>\n",
       "      <td>1.004193</td>\n",
       "      <td>1.016134</td>\n",
       "      <td>1.001609</td>\n",
       "      <td>1.019328</td>\n",
       "      <td>1.015373</td>\n",
       "    </tr>\n",
       "    <tr>\n",
       "      <th>2023-02-06</th>\n",
       "      <td>1.011076</td>\n",
       "      <td>0.998026</td>\n",
       "      <td>1.006020</td>\n",
       "      <td>0.999912</td>\n",
       "      <td>1.010085</td>\n",
       "      <td>1.025796</td>\n",
       "    </tr>\n",
       "    <tr>\n",
       "      <th>2023-02-07</th>\n",
       "      <td>1.026618</td>\n",
       "      <td>1.010873</td>\n",
       "      <td>1.025175</td>\n",
       "      <td>1.020742</td>\n",
       "      <td>1.038364</td>\n",
       "      <td>1.054449</td>\n",
       "    </tr>\n",
       "    <tr>\n",
       "      <th>2023-02-08</th>\n",
       "      <td>1.027982</td>\n",
       "      <td>0.999672</td>\n",
       "      <td>1.007972</td>\n",
       "      <td>1.014926</td>\n",
       "      <td>1.028113</td>\n",
       "      <td>1.055669</td>\n",
       "    </tr>\n",
       "  </tbody>\n",
       "</table>\n",
       "</div>"
      ],
      "text/plain": [
       "            Gabriela's Portfolio     SP500      NDAQ     John     alex_1  \\\n",
       "Date                                                                       \n",
       "2023-02-02              1.037987  1.014699  1.032540  1.004038  1.048580   \n",
       "2023-02-03              1.009727  1.004193  1.016134  1.001609  1.019328   \n",
       "2023-02-06              1.011076  0.998026  1.006020  0.999912  1.010085   \n",
       "2023-02-07              1.026618  1.010873  1.025175  1.020742  1.038364   \n",
       "2023-02-08              1.027982  0.999672  1.007972  1.014926  1.028113   \n",
       "\n",
       "                Gaby  \n",
       "Date                  \n",
       "2023-02-02  1.026467  \n",
       "2023-02-03  1.015373  \n",
       "2023-02-06  1.025796  \n",
       "2023-02-07  1.054449  \n",
       "2023-02-08  1.055669  "
      ]
     },
     "execution_count": 26,
     "metadata": {},
     "output_type": "execute_result"
    }
   ],
   "source": [
    "# Calculate cumulative returns to create plot\n",
    "top_portfolio_market_stocks_cum_return = (1 + top_portfolio_market_returns).cumprod()\n",
    "top_portfolio_market_stocks_cum_return.head()"
   ]
  },
  {
   "cell_type": "markdown",
   "id": "41136f8a",
   "metadata": {},
   "source": [
    "# Visulization "
   ]
  },
  {
   "cell_type": "code",
   "execution_count": 27,
   "id": "a93f45a6",
   "metadata": {},
   "outputs": [],
   "source": [
    "#Setting pie chart variables, converting arrays to list\n",
    "unique_user_portfolio_list = list(unique_user_portfolio_array)\n",
    "weight_list = list(weight_array)"
   ]
  },
  {
   "cell_type": "code",
   "execution_count": 28,
   "id": "c7762283",
   "metadata": {},
   "outputs": [],
   "source": [
    "#Visualization Functions\n",
    "\n",
    "#User Portfolio Selections\n",
    "def user_portfolio():\n",
    "    stock_selection = (f'{name} your portfolio stock selections were {unique_user_portfolio_array}. Each of stock you selected was given an equal weight of {weight}. Your Sharpe Ratio is {round(user_sharpe_ratio,2)}. Your player rank is {rank}.')\n",
    "    return stock_selection\n",
    "  \n",
    "    \n",
    "#Line Plot of User Portfolio returns of individual stock and total user portfolio\n",
    "def user_portfolio_daily_returns():\n",
    "    user_daily_returns = portfolio_returns.hvplot(kind='line',\n",
    "                                                  color=['Blue','Orange','Red','Green','Purple','Black','Yellow','Brown','Teal','Navy','Gray','Maroon'],\n",
    "                                                  width=750,\n",
    "                                                  height=500,\n",
    "                                                  legend='top_left'\n",
    "                                                 )\n",
    "    return user_daily_returns\n",
    "\n",
    "# Pie chart of User Portfolio selection and weights\n",
    "def user_portfolio_pie():\n",
    "    labels = unique_user_portfolio_list \n",
    "    sizes = weight_list\n",
    "\n",
    "    user_port_pie, ax = plt.subplots()\n",
    "    ax.pie(sizes, labels=labels, autopct='%1.1f%%')\n",
    "    ax.axis('equal')  # Equal aspect ratio ensures the pie chart is circular.\n",
    "    ax.set_title(f\"{name}'s Portfolio\")\n",
    "    \n",
    "    plt.show()\n",
    "    \n",
    "    return user_port_pie\n",
    "\n",
    "# User Portfolio cumulative returns compared to indices & top players\n",
    "def all_players_and_market_returns():\n",
    "    all_returns = top_portfolio_market_stocks_cum_return.hvplot(kind='line',\n",
    "                                                                color=['Blue','Orange','Red','Green','Purple','Black','Yellow','Brown','Teal','Navy','Gray','Maroon'],\n",
    "                                                                width=750,\n",
    "                                                                height=300,\n",
    "                                                                legend='top_left'\n",
    "                                                               )\n",
    "    return all_returns\n",
    "\n",
    "# User Portfolio Sharpe Ration compared to indices & top players\n",
    "def get_all_sharpe_ratios():\n",
    "    all_sharpe_ratios = top_portfolio_market_sharp_ratio.hvplot(kind='bar'\n",
    "                                                               ).opts(color='Green',\n",
    "                                                                      hover_color='Blue'\n",
    "                                                                     )\n",
    "    return all_sharpe_ratios\n",
    "\n",
    "# Heatmap of User Portfolio Correlation    \n",
    "def get_portfolio_corr():\n",
    "    correlation = portfolio_returns.corr()\n",
    "    portfolio_corr = sns.heatmap(correlation, vmin=-1, vmax=1)\n",
    "    return portfolio_corr.figure"
   ]
  },
  {
   "cell_type": "code",
   "execution_count": null,
   "id": "d1dbae8a-7987-4546-9dac-54d7569bdaef",
   "metadata": {},
   "outputs": [],
   "source": [
    "# Dashboard Panels, Content and Tabs\n",
    "# Structuring panel layout on dashboard\n",
    "intro_column = pn.Column(\n",
    "    \"# GAME OF STOCKS\",\n",
    "    (f\"# Nice looking stock portfolio {name}!\"),\n",
    "    \"Now that you have created your very own stock portfolio, let's see how you match up to the competition. Navigate through the various tabs to see how your results compare to the S&P 500 and NASDAQ Indices as well as the other players.\",\n",
    "    \"## Your Portfolio Information\", user_portfolio(),\n",
    "    \"## Let's take a look at how your portfolio's overall performance compares to the Top 3 Players, S&P 500 and NASDAQ?\",all_players_and_market_returns(),\n",
    ")\n",
    "\n",
    "sharpe_ratio_column = pn.Column(\n",
    "    \"## How does your Sharpe Ratio compare to the other portfolios?\", get_all_sharpe_ratios(),\n",
    "    \"A Sharpe ratio less than 1 is considered bad. From 1 to 1.99 is considered adequate/good, from 2 to 2.99 is considered very good, and greater than 3 is considered excellent. The higher a fund's Sharpe ratio, the better its returns have been relative to the amount of investment risk taken.\"\n",
    ")\n",
    "\n",
    "correlation_column = pn.Column(\n",
    "    \"## Are your Portfolio stocks more or less correlated / aligned with each other?\", get_portfolio_corr(),\n",
    "    \"In investing, correlation describes how investments move relative to each other. Positively correlated assets move in the same direction, while negatively correlated assets move in opposite directions. The more correlated two assets are, the more risk they can potentially bring to your portfolio.\"\n",
    ")\n",
    "    \n",
    "concentration_column = pn.Column(\n",
    "    \"What does the industry make up of your portfolio look like?\", user_portfolio_pie(), \n",
    "    \"## How balanced is your portfolio with the current selection of stocks?\",user_portfolio_daily_returns()\n",
    ")\n",
    "\n",
    "game_of_stock_dashboard = pn.Tabs(\n",
    "    (\"Game of Stock Results\",intro_column),\n",
    "    (\"Sharpe Ratio\", sharpe_ratio_column),\n",
    "    (\"Correlation\", correlation_column),\n",
    "    (\"Portfolio Concentration\",concentration_column)\n",
    ")"
   ]
  },
  {
   "cell_type": "code",
   "execution_count": null,
   "id": "c4388316-3969-4faa-9687-b236e166269d",
   "metadata": {},
   "outputs": [],
   "source": [
    "# Execute Panel dashboard using servable function\n",
    "game_of_stock_dashboard.servable()"
   ]
  }
 ],
 "metadata": {
  "kernelspec": {
   "display_name": "Python 3 (ipykernel)",
   "language": "python",
   "name": "python3"
  },
  "language_info": {
   "codemirror_mode": {
    "name": "ipython",
    "version": 3
   },
   "file_extension": ".py",
   "mimetype": "text/x-python",
   "name": "python",
   "nbconvert_exporter": "python",
   "pygments_lexer": "ipython3",
   "version": "3.10.11"
  },
  "widgets": {
   "application/vnd.jupyter.widget-state+json": {
    "state": {
     "0041c4320ba74e4db2af7e5f00e37192": {
      "model_module": "@jupyter-widgets/controls",
      "model_module_version": "2.0.0",
      "model_name": "DescriptionStyleModel",
      "state": {
       "description_width": ""
      }
     },
     "00fac7dbe5044d909f9cf16728bfa1e9": {
      "model_module": "@jupyter-widgets/controls",
      "model_module_version": "2.0.0",
      "model_name": "DescriptionStyleModel",
      "state": {
       "description_width": ""
      }
     },
     "092bd54912dc4ba7881fce05a4ef475c": {
      "model_module": "@jupyter-widgets/controls",
      "model_module_version": "2.0.0",
      "model_name": "DropdownModel",
      "state": {
       "_options_labels": [
        "",
        "Apple (AAPL) - Computer Manufacturing",
        "Microsoft (MSFT) - Computer Software: Prepackaged Software",
        "Amazon (AMZN) - Catalog/Specialty Distribution",
        "Nvidia (NVDA) - Semiconductors",
        "Alphabet (GOOGL) - Computer Software: Programming, Data Processing",
        "Meta (META) - Computer Software: Programming, Data Processing",
        "Tesla (TSLA) - Auto Manufacturing",
        "Berkshire Hathaway (BRK.B) - Conglomerate",
        "Unitedhealth Group (UNH) - Medical Specialities",
        "Jpmorgan Chase & Co (JPM) - Major Banks",
        "Johnson & Johnson (JNJ) - Biotechnology: Pharmaceutical Preparations",
        "Exxon Mobil (XOM) - Integrated oil Companies",
        "Visa (V) - Business Services",
        "Broadcom (AVGO) - Semiconductors"
       ],
       "description": "Stock 2:",
       "index": 0,
       "layout": "IPY_MODEL_6b26c0d8317742ac8758c87c29fecaa7",
       "style": "IPY_MODEL_259e25434f8841dabbd54b89b94ee645"
      }
     },
     "09b17a1b00bf4c498fdfbff911134d06": {
      "model_module": "@jupyter-widgets/controls",
      "model_module_version": "2.0.0",
      "model_name": "ButtonStyleModel",
      "state": {
       "font_family": null,
       "font_size": null,
       "font_style": null,
       "font_variant": null,
       "font_weight": null,
       "text_color": null,
       "text_decoration": null
      }
     },
     "0a79ec7362bb472ab9c4ab905377f135": {
      "model_module": "@jupyter-widgets/base",
      "model_module_version": "2.0.0",
      "model_name": "LayoutModel",
      "state": {}
     },
     "115813caf83644e2a2ef174b896ec65e": {
      "model_module": "@jupyter-widgets/controls",
      "model_module_version": "2.0.0",
      "model_name": "TextStyleModel",
      "state": {
       "description_width": "",
       "font_size": null,
       "text_color": null
      }
     },
     "13f01e2bd6f644c997c630a7f509baec": {
      "model_module": "@jupyter-widgets/controls",
      "model_module_version": "2.0.0",
      "model_name": "DropdownModel",
      "state": {
       "_options_labels": [
        "",
        "Apple (AAPL) - Computer Manufacturing",
        "Microsoft (MSFT) - Computer Software: Prepackaged Software",
        "Amazon (AMZN) - Catalog/Specialty Distribution",
        "Nvidia (NVDA) - Semiconductors",
        "Alphabet (GOOGL) - Computer Software: Programming, Data Processing",
        "Meta (META) - Computer Software: Programming, Data Processing",
        "Tesla (TSLA) - Auto Manufacturing",
        "Berkshire Hathaway (BRK.B) - Conglomerate",
        "Unitedhealth Group (UNH) - Medical Specialities",
        "Jpmorgan Chase & Co (JPM) - Major Banks",
        "Johnson & Johnson (JNJ) - Biotechnology: Pharmaceutical Preparations",
        "Exxon Mobil (XOM) - Integrated oil Companies",
        "Visa (V) - Business Services",
        "Broadcom (AVGO) - Semiconductors"
       ],
       "description": "Stock 2:",
       "index": 2,
       "layout": "IPY_MODEL_aa96fa3d545a4b38956dd234bf9345a5",
       "style": "IPY_MODEL_7c90ba006a32408b9fa14dd3c6768072"
      }
     },
     "1421817eb4484a9abf86d062ac89a650": {
      "model_module": "@jupyter-widgets/controls",
      "model_module_version": "2.0.0",
      "model_name": "DescriptionStyleModel",
      "state": {
       "description_width": ""
      }
     },
     "15cd1dc007ce43228c9ee435f5c1847b": {
      "model_module": "@jupyter-widgets/controls",
      "model_module_version": "2.0.0",
      "model_name": "DropdownModel",
      "state": {
       "_options_labels": [
        "",
        "Apple (AAPL) - Computer Manufacturing",
        "Microsoft (MSFT) - Computer Software: Prepackaged Software",
        "Amazon (AMZN) - Catalog/Specialty Distribution",
        "Nvidia (NVDA) - Semiconductors",
        "Alphabet (GOOGL) - Computer Software: Programming, Data Processing",
        "Meta (META) - Computer Software: Programming, Data Processing",
        "Tesla (TSLA) - Auto Manufacturing",
        "Berkshire Hathaway (BRK.B) - Conglomerate",
        "Unitedhealth Group (UNH) - Medical Specialities",
        "Jpmorgan Chase & Co (JPM) - Major Banks",
        "Johnson & Johnson (JNJ) - Biotechnology: Pharmaceutical Preparations",
        "Exxon Mobil (XOM) - Integrated oil Companies",
        "Visa (V) - Business Services",
        "Broadcom (AVGO) - Semiconductors"
       ],
       "description": "Stock 5:",
       "index": 8,
       "layout": "IPY_MODEL_d5b2f17362284588bcbaaadc6f1bebad",
       "style": "IPY_MODEL_5a46ea04432f4a458274423758f5c690"
      }
     },
     "1767edea77d348cb87081b3f491b4c91": {
      "model_module": "@jupyter-widgets/controls",
      "model_module_version": "2.0.0",
      "model_name": "ButtonModel",
      "state": {
       "description": "Submit",
       "layout": "IPY_MODEL_1dbcb9ab66c74fbaa63fb26e9e367351",
       "style": "IPY_MODEL_95d492047936491eba6d4f4e9aa4eaec",
       "tooltip": null
      }
     },
     "190dbb3173c94d35b6823c43d38253d5": {
      "model_module": "@jupyter-widgets/controls",
      "model_module_version": "2.0.0",
      "model_name": "DescriptionStyleModel",
      "state": {
       "description_width": ""
      }
     },
     "1dbcb9ab66c74fbaa63fb26e9e367351": {
      "model_module": "@jupyter-widgets/base",
      "model_module_version": "2.0.0",
      "model_name": "LayoutModel",
      "state": {}
     },
     "218e07d6a31d448f88d2cb7ca829e158": {
      "model_module": "@jupyter-widgets/controls",
      "model_module_version": "2.0.0",
      "model_name": "TextStyleModel",
      "state": {
       "description_width": "",
       "font_size": null,
       "text_color": null
      }
     },
     "259e25434f8841dabbd54b89b94ee645": {
      "model_module": "@jupyter-widgets/controls",
      "model_module_version": "2.0.0",
      "model_name": "DescriptionStyleModel",
      "state": {
       "description_width": ""
      }
     },
     "2a956d62dfeb4be98cc6c79b4946490c": {
      "model_module": "@jupyter-widgets/controls",
      "model_module_version": "2.0.0",
      "model_name": "DropdownModel",
      "state": {
       "_options_labels": [
        "1",
        "2",
        "3",
        "4",
        "5",
        "6",
        "7",
        "8",
        "9",
        "10",
        "Choose Stock Amount:"
       ],
       "description": "Amount",
       "index": 10,
       "layout": "IPY_MODEL_d45777abe5e34b15832e047084ed3c4f",
       "style": "IPY_MODEL_572148d4d25d44938772e9f96a23b3cc"
      }
     },
     "3084082c28fc49b6be562809582e9f40": {
      "model_module": "@jupyter-widgets/base",
      "model_module_version": "2.0.0",
      "model_name": "LayoutModel",
      "state": {}
     },
     "318c7f8008d94c8ba5e3ff2a2b019df8": {
      "model_module": "@jupyter-widgets/controls",
      "model_module_version": "2.0.0",
      "model_name": "DescriptionStyleModel",
      "state": {
       "description_width": ""
      }
     },
     "321eb3fde53348e19b8dadb74757e494": {
      "model_module": "@jupyter-widgets/controls",
      "model_module_version": "2.0.0",
      "model_name": "DropdownModel",
      "state": {
       "_options_labels": [
        "",
        "Apple (AAPL) - Computer Manufacturing",
        "Microsoft (MSFT) - Computer Software: Prepackaged Software",
        "Amazon (AMZN) - Catalog/Specialty Distribution",
        "Nvidia (NVDA) - Semiconductors",
        "Alphabet (GOOGL) - Computer Software: Programming, Data Processing",
        "Meta (META) - Computer Software: Programming, Data Processing",
        "Tesla (TSLA) - Auto Manufacturing",
        "Berkshire Hathaway (BRK.B) - Conglomerate",
        "Unitedhealth Group (UNH) - Medical Specialities",
        "Jpmorgan Chase & Co (JPM) - Major Banks",
        "Johnson & Johnson (JNJ) - Biotechnology: Pharmaceutical Preparations",
        "Exxon Mobil (XOM) - Integrated oil Companies",
        "Visa (V) - Business Services",
        "Broadcom (AVGO) - Semiconductors"
       ],
       "description": "Stock 1:",
       "index": 0,
       "layout": "IPY_MODEL_e04577939e5c4233b295d9e2cf10a6b2",
       "style": "IPY_MODEL_190dbb3173c94d35b6823c43d38253d5"
      }
     },
     "46b9d455ddaf432f8cfc0c18a5d25968": {
      "model_module": "@jupyter-widgets/base",
      "model_module_version": "2.0.0",
      "model_name": "LayoutModel",
      "state": {}
     },
     "4d528359b6ea4a34b1c08623bf50e463": {
      "model_module": "@jupyter-widgets/controls",
      "model_module_version": "2.0.0",
      "model_name": "ButtonModel",
      "state": {
       "description": "Submit",
       "layout": "IPY_MODEL_8502b6067ef244ba8f05a77b5c4ebb3f",
       "style": "IPY_MODEL_b8b2c99ba0944f4996be0156b0b818b2",
       "tooltip": null
      }
     },
     "5072057bcdcd478686e16c8a2403b805": {
      "model_module": "@jupyter-widgets/controls",
      "model_module_version": "2.0.0",
      "model_name": "ButtonModel",
      "state": {
       "description": "Submit",
       "layout": "IPY_MODEL_5c0d78cdf1b24271934ac61ba7410760",
       "style": "IPY_MODEL_09b17a1b00bf4c498fdfbff911134d06",
       "tooltip": null
      }
     },
     "5707100b959a43c2abf81f162af4a25d": {
      "model_module": "@jupyter-widgets/controls",
      "model_module_version": "2.0.0",
      "model_name": "DropdownModel",
      "state": {
       "_options_labels": [
        "",
        "Apple (AAPL) - Computer Manufacturing",
        "Microsoft (MSFT) - Computer Software: Prepackaged Software",
        "Amazon (AMZN) - Catalog/Specialty Distribution",
        "Nvidia (NVDA) - Semiconductors",
        "Alphabet (GOOGL) - Computer Software: Programming, Data Processing",
        "Meta (META) - Computer Software: Programming, Data Processing",
        "Tesla (TSLA) - Auto Manufacturing",
        "Berkshire Hathaway (BRK.B) - Conglomerate",
        "Unitedhealth Group (UNH) - Medical Specialities",
        "Jpmorgan Chase & Co (JPM) - Major Banks",
        "Johnson & Johnson (JNJ) - Biotechnology: Pharmaceutical Preparations",
        "Exxon Mobil (XOM) - Integrated oil Companies",
        "Visa (V) - Business Services",
        "Broadcom (AVGO) - Semiconductors"
       ],
       "description": "Stock 5:",
       "index": 0,
       "layout": "IPY_MODEL_cf4cc05ad3154e8bb415d42e3b01d5f6",
       "style": "IPY_MODEL_1421817eb4484a9abf86d062ac89a650"
      }
     },
     "572148d4d25d44938772e9f96a23b3cc": {
      "model_module": "@jupyter-widgets/controls",
      "model_module_version": "2.0.0",
      "model_name": "DescriptionStyleModel",
      "state": {
       "description_width": ""
      }
     },
     "5a46ea04432f4a458274423758f5c690": {
      "model_module": "@jupyter-widgets/controls",
      "model_module_version": "2.0.0",
      "model_name": "DescriptionStyleModel",
      "state": {
       "description_width": ""
      }
     },
     "5b166caa7ce84a4a88298c0ed813075f": {
      "model_module": "@jupyter-widgets/controls",
      "model_module_version": "2.0.0",
      "model_name": "ButtonStyleModel",
      "state": {
       "font_family": null,
       "font_size": null,
       "font_style": null,
       "font_variant": null,
       "font_weight": null,
       "text_color": null,
       "text_decoration": null
      }
     },
     "5c0d78cdf1b24271934ac61ba7410760": {
      "model_module": "@jupyter-widgets/base",
      "model_module_version": "2.0.0",
      "model_name": "LayoutModel",
      "state": {}
     },
     "6b26c0d8317742ac8758c87c29fecaa7": {
      "model_module": "@jupyter-widgets/base",
      "model_module_version": "2.0.0",
      "model_name": "LayoutModel",
      "state": {}
     },
     "7179eddec7ae4b0a819c61623e0bde7b": {
      "model_module": "@jupyter-widgets/controls",
      "model_module_version": "2.0.0",
      "model_name": "DropdownModel",
      "state": {
       "_options_labels": [
        "",
        "Apple (AAPL) - Computer Manufacturing",
        "Microsoft (MSFT) - Computer Software: Prepackaged Software",
        "Amazon (AMZN) - Catalog/Specialty Distribution",
        "Nvidia (NVDA) - Semiconductors",
        "Alphabet (GOOGL) - Computer Software: Programming, Data Processing",
        "Meta (META) - Computer Software: Programming, Data Processing",
        "Tesla (TSLA) - Auto Manufacturing",
        "Berkshire Hathaway (BRK.B) - Conglomerate",
        "Unitedhealth Group (UNH) - Medical Specialities",
        "Jpmorgan Chase & Co (JPM) - Major Banks",
        "Johnson & Johnson (JNJ) - Biotechnology: Pharmaceutical Preparations",
        "Exxon Mobil (XOM) - Integrated oil Companies",
        "Visa (V) - Business Services",
        "Broadcom (AVGO) - Semiconductors"
       ],
       "description": "Stock 4:",
       "index": 0,
       "layout": "IPY_MODEL_b81722a3a48e460baa32697c21f3962a",
       "style": "IPY_MODEL_0041c4320ba74e4db2af7e5f00e37192"
      }
     },
     "75a19543f67f492fb2428b1f6ff8bf0c": {
      "model_module": "@jupyter-widgets/controls",
      "model_module_version": "2.0.0",
      "model_name": "TextareaModel",
      "state": {
       "description": "First Name:",
       "layout": "IPY_MODEL_0a79ec7362bb472ab9c4ab905377f135",
       "placeholder": "Type something",
       "style": "IPY_MODEL_115813caf83644e2a2ef174b896ec65e",
       "value": "George"
      }
     },
     "7c90ba006a32408b9fa14dd3c6768072": {
      "model_module": "@jupyter-widgets/controls",
      "model_module_version": "2.0.0",
      "model_name": "DescriptionStyleModel",
      "state": {
       "description_width": ""
      }
     },
     "7f49ea9f7e2d42d6a3af16a08a3f1a73": {
      "model_module": "@jupyter-widgets/controls",
      "model_module_version": "2.0.0",
      "model_name": "TextareaModel",
      "state": {
       "description": "First Name:",
       "layout": "IPY_MODEL_46b9d455ddaf432f8cfc0c18a5d25968",
       "placeholder": "Type something",
       "style": "IPY_MODEL_218e07d6a31d448f88d2cb7ca829e158",
       "value": "Input your name"
      }
     },
     "81eea891b04342abad718cf1656ad0ad": {
      "model_module": "@jupyter-widgets/base",
      "model_module_version": "2.0.0",
      "model_name": "LayoutModel",
      "state": {}
     },
     "8502b6067ef244ba8f05a77b5c4ebb3f": {
      "model_module": "@jupyter-widgets/base",
      "model_module_version": "2.0.0",
      "model_name": "LayoutModel",
      "state": {}
     },
     "8eec79cdd5524b8983de4133b1f30d78": {
      "model_module": "@jupyter-widgets/base",
      "model_module_version": "2.0.0",
      "model_name": "LayoutModel",
      "state": {}
     },
     "95d492047936491eba6d4f4e9aa4eaec": {
      "model_module": "@jupyter-widgets/controls",
      "model_module_version": "2.0.0",
      "model_name": "ButtonStyleModel",
      "state": {
       "font_family": null,
       "font_size": null,
       "font_style": null,
       "font_variant": null,
       "font_weight": null,
       "text_color": null,
       "text_decoration": null
      }
     },
     "99283606f338485e878ccf24f3a5599c": {
      "model_module": "@jupyter-widgets/controls",
      "model_module_version": "2.0.0",
      "model_name": "DropdownModel",
      "state": {
       "_options_labels": [
        "",
        "Apple (AAPL) - Computer Manufacturing",
        "Microsoft (MSFT) - Computer Software: Prepackaged Software",
        "Amazon (AMZN) - Catalog/Specialty Distribution",
        "Nvidia (NVDA) - Semiconductors",
        "Alphabet (GOOGL) - Computer Software: Programming, Data Processing",
        "Meta (META) - Computer Software: Programming, Data Processing",
        "Tesla (TSLA) - Auto Manufacturing",
        "Berkshire Hathaway (BRK.B) - Conglomerate",
        "Unitedhealth Group (UNH) - Medical Specialities",
        "Jpmorgan Chase & Co (JPM) - Major Banks",
        "Johnson & Johnson (JNJ) - Biotechnology: Pharmaceutical Preparations",
        "Exxon Mobil (XOM) - Integrated oil Companies",
        "Visa (V) - Business Services",
        "Broadcom (AVGO) - Semiconductors"
       ],
       "description": "Stock 3:",
       "index": 0,
       "layout": "IPY_MODEL_b6af94f9ea2c4eb38ddddc1526264fdc",
       "style": "IPY_MODEL_e35d3f0cf0cc4ba08debf197f0adc997"
      }
     },
     "9d35189bf7a142eca1b4b2d22e9d6590": {
      "model_module": "@jupyter-widgets/controls",
      "model_module_version": "2.0.0",
      "model_name": "ButtonModel",
      "state": {
       "description": "Submit",
       "layout": "IPY_MODEL_8eec79cdd5524b8983de4133b1f30d78",
       "style": "IPY_MODEL_5b166caa7ce84a4a88298c0ed813075f",
       "tooltip": null
      }
     },
     "a164e771c30740d188098cd454e51e99": {
      "model_module": "@jupyter-widgets/base",
      "model_module_version": "2.0.0",
      "model_name": "LayoutModel",
      "state": {}
     },
     "a339f255f0a94c158d8dee434870e87e": {
      "model_module": "@jupyter-widgets/controls",
      "model_module_version": "2.0.0",
      "model_name": "DescriptionStyleModel",
      "state": {
       "description_width": ""
      }
     },
     "aa96fa3d545a4b38956dd234bf9345a5": {
      "model_module": "@jupyter-widgets/base",
      "model_module_version": "2.0.0",
      "model_name": "LayoutModel",
      "state": {}
     },
     "ac27f9c1339548f295efc836d0dbd217": {
      "model_module": "@jupyter-widgets/controls",
      "model_module_version": "2.0.0",
      "model_name": "DropdownModel",
      "state": {
       "_options_labels": [
        "",
        "Apple (AAPL) - Computer Manufacturing",
        "Microsoft (MSFT) - Computer Software: Prepackaged Software",
        "Amazon (AMZN) - Catalog/Specialty Distribution",
        "Nvidia (NVDA) - Semiconductors",
        "Alphabet (GOOGL) - Computer Software: Programming, Data Processing",
        "Meta (META) - Computer Software: Programming, Data Processing",
        "Tesla (TSLA) - Auto Manufacturing",
        "Berkshire Hathaway (BRK.B) - Conglomerate",
        "Unitedhealth Group (UNH) - Medical Specialities",
        "Jpmorgan Chase & Co (JPM) - Major Banks",
        "Johnson & Johnson (JNJ) - Biotechnology: Pharmaceutical Preparations",
        "Exxon Mobil (XOM) - Integrated oil Companies",
        "Visa (V) - Business Services",
        "Broadcom (AVGO) - Semiconductors"
       ],
       "description": "Stock 1:",
       "index": 1,
       "layout": "IPY_MODEL_3084082c28fc49b6be562809582e9f40",
       "style": "IPY_MODEL_00fac7dbe5044d909f9cf16728bfa1e9"
      }
     },
     "b6af94f9ea2c4eb38ddddc1526264fdc": {
      "model_module": "@jupyter-widgets/base",
      "model_module_version": "2.0.0",
      "model_name": "LayoutModel",
      "state": {}
     },
     "b81722a3a48e460baa32697c21f3962a": {
      "model_module": "@jupyter-widgets/base",
      "model_module_version": "2.0.0",
      "model_name": "LayoutModel",
      "state": {}
     },
     "b8b2c99ba0944f4996be0156b0b818b2": {
      "model_module": "@jupyter-widgets/controls",
      "model_module_version": "2.0.0",
      "model_name": "ButtonStyleModel",
      "state": {
       "font_family": null,
       "font_size": null,
       "font_style": null,
       "font_variant": null,
       "font_weight": null,
       "text_color": null,
       "text_decoration": null
      }
     },
     "cf4cc05ad3154e8bb415d42e3b01d5f6": {
      "model_module": "@jupyter-widgets/base",
      "model_module_version": "2.0.0",
      "model_name": "LayoutModel",
      "state": {}
     },
     "d45777abe5e34b15832e047084ed3c4f": {
      "model_module": "@jupyter-widgets/base",
      "model_module_version": "2.0.0",
      "model_name": "LayoutModel",
      "state": {}
     },
     "d5b2f17362284588bcbaaadc6f1bebad": {
      "model_module": "@jupyter-widgets/base",
      "model_module_version": "2.0.0",
      "model_name": "LayoutModel",
      "state": {}
     },
     "dc49db2c65794393938e85b517365999": {
      "model_module": "@jupyter-widgets/base",
      "model_module_version": "2.0.0",
      "model_name": "LayoutModel",
      "state": {}
     },
     "dcd2d14c4fa5479fb754080d100e0913": {
      "model_module": "@jupyter-widgets/controls",
      "model_module_version": "2.0.0",
      "model_name": "DropdownModel",
      "state": {
       "_options_labels": [
        "",
        "Apple (AAPL) - Computer Manufacturing",
        "Microsoft (MSFT) - Computer Software: Prepackaged Software",
        "Amazon (AMZN) - Catalog/Specialty Distribution",
        "Nvidia (NVDA) - Semiconductors",
        "Alphabet (GOOGL) - Computer Software: Programming, Data Processing",
        "Meta (META) - Computer Software: Programming, Data Processing",
        "Tesla (TSLA) - Auto Manufacturing",
        "Berkshire Hathaway (BRK.B) - Conglomerate",
        "Unitedhealth Group (UNH) - Medical Specialities",
        "Jpmorgan Chase & Co (JPM) - Major Banks",
        "Johnson & Johnson (JNJ) - Biotechnology: Pharmaceutical Preparations",
        "Exxon Mobil (XOM) - Integrated oil Companies",
        "Visa (V) - Business Services",
        "Broadcom (AVGO) - Semiconductors"
       ],
       "description": "Stock 3:",
       "index": 3,
       "layout": "IPY_MODEL_dc49db2c65794393938e85b517365999",
       "style": "IPY_MODEL_fb0d619c8aed48929966801ceac31fd7"
      }
     },
     "e04577939e5c4233b295d9e2cf10a6b2": {
      "model_module": "@jupyter-widgets/base",
      "model_module_version": "2.0.0",
      "model_name": "LayoutModel",
      "state": {}
     },
     "e35d3f0cf0cc4ba08debf197f0adc997": {
      "model_module": "@jupyter-widgets/controls",
      "model_module_version": "2.0.0",
      "model_name": "DescriptionStyleModel",
      "state": {
       "description_width": ""
      }
     },
     "e393b8211e084324b8ee2a8c6ef9bcd1": {
      "model_module": "@jupyter-widgets/controls",
      "model_module_version": "2.0.0",
      "model_name": "DropdownModel",
      "state": {
       "_options_labels": [
        "1",
        "2",
        "3",
        "4",
        "5",
        "6",
        "7",
        "8",
        "9",
        "10",
        "Choose Stock Amount:"
       ],
       "description": "Amount",
       "index": 4,
       "layout": "IPY_MODEL_a164e771c30740d188098cd454e51e99",
       "style": "IPY_MODEL_318c7f8008d94c8ba5e3ff2a2b019df8"
      }
     },
     "fb0d619c8aed48929966801ceac31fd7": {
      "model_module": "@jupyter-widgets/controls",
      "model_module_version": "2.0.0",
      "model_name": "DescriptionStyleModel",
      "state": {
       "description_width": ""
      }
     },
     "ff320408426e466c994d88abf855c037": {
      "model_module": "@jupyter-widgets/controls",
      "model_module_version": "2.0.0",
      "model_name": "DropdownModel",
      "state": {
       "_options_labels": [
        "",
        "Apple (AAPL) - Computer Manufacturing",
        "Microsoft (MSFT) - Computer Software: Prepackaged Software",
        "Amazon (AMZN) - Catalog/Specialty Distribution",
        "Nvidia (NVDA) - Semiconductors",
        "Alphabet (GOOGL) - Computer Software: Programming, Data Processing",
        "Meta (META) - Computer Software: Programming, Data Processing",
        "Tesla (TSLA) - Auto Manufacturing",
        "Berkshire Hathaway (BRK.B) - Conglomerate",
        "Unitedhealth Group (UNH) - Medical Specialities",
        "Jpmorgan Chase & Co (JPM) - Major Banks",
        "Johnson & Johnson (JNJ) - Biotechnology: Pharmaceutical Preparations",
        "Exxon Mobil (XOM) - Integrated oil Companies",
        "Visa (V) - Business Services",
        "Broadcom (AVGO) - Semiconductors"
       ],
       "description": "Stock 4:",
       "index": 6,
       "layout": "IPY_MODEL_81eea891b04342abad718cf1656ad0ad",
       "style": "IPY_MODEL_a339f255f0a94c158d8dee434870e87e"
      }
     }
    },
    "version_major": 2,
    "version_minor": 0
   }
  }
 },
 "nbformat": 4,
 "nbformat_minor": 5
}
