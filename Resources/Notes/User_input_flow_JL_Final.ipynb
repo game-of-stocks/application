{
 "cells": [
  {
   "cell_type": "code",
   "execution_count": 2,
   "id": "533f9837",
   "metadata": {},
   "outputs": [],
   "source": [
    "#packages needed to create form for user input \n",
    "import ipywidgets as widgets\n",
    "from IPython.display import display\n",
    "\n",
    "#packages related to dataframes\n",
    "import pandas as pd\n",
    "import numpy as np\n",
    "from pathlib import Path\n",
    "\n",
    "#package needed for regx purposes\n",
    "import re\n"
   ]
  },
  {
   "cell_type": "code",
   "execution_count": 3,
   "id": "05f24f73",
   "metadata": {},
   "outputs": [
    {
     "data": {
      "text/html": [
       "<div>\n",
       "<style scoped>\n",
       "    .dataframe tbody tr th:only-of-type {\n",
       "        vertical-align: middle;\n",
       "    }\n",
       "\n",
       "    .dataframe tbody tr th {\n",
       "        vertical-align: top;\n",
       "    }\n",
       "\n",
       "    .dataframe thead th {\n",
       "        text-align: right;\n",
       "    }\n",
       "</style>\n",
       "<table border=\"1\" class=\"dataframe\">\n",
       "  <thead>\n",
       "    <tr style=\"text-align: right;\">\n",
       "      <th></th>\n",
       "      <th>Date</th>\n",
       "      <th>Company</th>\n",
       "      <th>Ticker</th>\n",
       "      <th>Close_Price</th>\n",
       "      <th>Industry</th>\n",
       "      <th>Sector</th>\n",
       "    </tr>\n",
       "  </thead>\n",
       "  <tbody>\n",
       "    <tr>\n",
       "      <th>0</th>\n",
       "      <td>2/1/2023</td>\n",
       "      <td>Apple</td>\n",
       "      <td>AAPL</td>\n",
       "      <td>145.43</td>\n",
       "      <td>Computer Manufacturing</td>\n",
       "      <td>Technology</td>\n",
       "    </tr>\n",
       "    <tr>\n",
       "      <th>1</th>\n",
       "      <td>2/2/2023</td>\n",
       "      <td>Apple</td>\n",
       "      <td>AAPL</td>\n",
       "      <td>150.82</td>\n",
       "      <td>Computer Manufacturing</td>\n",
       "      <td>Technology</td>\n",
       "    </tr>\n",
       "    <tr>\n",
       "      <th>2</th>\n",
       "      <td>2/3/2023</td>\n",
       "      <td>Apple</td>\n",
       "      <td>AAPL</td>\n",
       "      <td>154.50</td>\n",
       "      <td>Computer Manufacturing</td>\n",
       "      <td>Technology</td>\n",
       "    </tr>\n",
       "    <tr>\n",
       "      <th>3</th>\n",
       "      <td>2/6/2023</td>\n",
       "      <td>Apple</td>\n",
       "      <td>AAPL</td>\n",
       "      <td>151.73</td>\n",
       "      <td>Computer Manufacturing</td>\n",
       "      <td>Technology</td>\n",
       "    </tr>\n",
       "    <tr>\n",
       "      <th>4</th>\n",
       "      <td>2/7/2023</td>\n",
       "      <td>Apple</td>\n",
       "      <td>AAPL</td>\n",
       "      <td>154.65</td>\n",
       "      <td>Computer Manufacturing</td>\n",
       "      <td>Technology</td>\n",
       "    </tr>\n",
       "  </tbody>\n",
       "</table>\n",
       "</div>"
      ],
      "text/plain": [
       "       Date Company Ticker  Close_Price                Industry      Sector\n",
       "0  2/1/2023   Apple   AAPL       145.43  Computer Manufacturing  Technology\n",
       "1  2/2/2023   Apple   AAPL       150.82  Computer Manufacturing  Technology\n",
       "2  2/3/2023   Apple   AAPL       154.50  Computer Manufacturing  Technology\n",
       "3  2/6/2023   Apple   AAPL       151.73  Computer Manufacturing  Technology\n",
       "4  2/7/2023   Apple   AAPL       154.65  Computer Manufacturing  Technology"
      ]
     },
     "execution_count": 3,
     "metadata": {},
     "output_type": "execute_result"
    }
   ],
   "source": [
    "#Grabing the raw stock data and putting in dataframe\n",
    "raw_stocks_data_to_load =  Path(\"../Data/Stock_Index_Raw_Data.csv\")\n",
    "raw_stocks_data_df = pd.read_csv(raw_stocks_data_to_load, header=0, parse_dates=True)\n",
    "raw_stocks_data_df.sort_index(ascending = True, inplace = True)\n",
    "raw_stocks_data_df.head()"
   ]
  },
  {
   "cell_type": "markdown",
   "id": "df7ffb5f",
   "metadata": {},
   "source": [
    "## Creating Stock Drop Down Options "
   ]
  },
  {
   "cell_type": "code",
   "execution_count": 4,
   "id": "5e6173c7",
   "metadata": {},
   "outputs": [
    {
     "data": {
      "text/html": [
       "<div>\n",
       "<style scoped>\n",
       "    .dataframe tbody tr th:only-of-type {\n",
       "        vertical-align: middle;\n",
       "    }\n",
       "\n",
       "    .dataframe tbody tr th {\n",
       "        vertical-align: top;\n",
       "    }\n",
       "\n",
       "    .dataframe thead th {\n",
       "        text-align: right;\n",
       "    }\n",
       "</style>\n",
       "<table border=\"1\" class=\"dataframe\">\n",
       "  <thead>\n",
       "    <tr style=\"text-align: right;\">\n",
       "      <th></th>\n",
       "      <th>Company</th>\n",
       "      <th>Ticker</th>\n",
       "      <th>Industry</th>\n",
       "    </tr>\n",
       "  </thead>\n",
       "  <tbody>\n",
       "    <tr>\n",
       "      <th>0</th>\n",
       "      <td>Apple</td>\n",
       "      <td>AAPL</td>\n",
       "      <td>Computer Manufacturing</td>\n",
       "    </tr>\n",
       "    <tr>\n",
       "      <th>1</th>\n",
       "      <td>Microsoft</td>\n",
       "      <td>MSFT</td>\n",
       "      <td>Computer Software: Prepackaged Software</td>\n",
       "    </tr>\n",
       "    <tr>\n",
       "      <th>2</th>\n",
       "      <td>Amazon</td>\n",
       "      <td>AMZN</td>\n",
       "      <td>Catalog/Specialty Distribution</td>\n",
       "    </tr>\n",
       "    <tr>\n",
       "      <th>3</th>\n",
       "      <td>Nvidia</td>\n",
       "      <td>NVDA</td>\n",
       "      <td>Semiconductors</td>\n",
       "    </tr>\n",
       "    <tr>\n",
       "      <th>4</th>\n",
       "      <td>Alphabet</td>\n",
       "      <td>GOOGL</td>\n",
       "      <td>Computer Software: Programming, Data Processing</td>\n",
       "    </tr>\n",
       "    <tr>\n",
       "      <th>5</th>\n",
       "      <td>Meta</td>\n",
       "      <td>META</td>\n",
       "      <td>Computer Software: Programming, Data Processing</td>\n",
       "    </tr>\n",
       "    <tr>\n",
       "      <th>6</th>\n",
       "      <td>Tesla</td>\n",
       "      <td>TSLA</td>\n",
       "      <td>Auto Manufacturing</td>\n",
       "    </tr>\n",
       "    <tr>\n",
       "      <th>7</th>\n",
       "      <td>Berkshire Hathaway</td>\n",
       "      <td>BRK.B</td>\n",
       "      <td>Conglomerate</td>\n",
       "    </tr>\n",
       "    <tr>\n",
       "      <th>8</th>\n",
       "      <td>Unitedhealth Group</td>\n",
       "      <td>UNH</td>\n",
       "      <td>Medical Specialities</td>\n",
       "    </tr>\n",
       "    <tr>\n",
       "      <th>9</th>\n",
       "      <td>Jpmorgan Chase &amp; Co</td>\n",
       "      <td>JPM</td>\n",
       "      <td>Major Banks</td>\n",
       "    </tr>\n",
       "    <tr>\n",
       "      <th>10</th>\n",
       "      <td>Johnson &amp; Johnson</td>\n",
       "      <td>JNJ</td>\n",
       "      <td>Biotechnology: Pharmaceutical Preparations</td>\n",
       "    </tr>\n",
       "    <tr>\n",
       "      <th>11</th>\n",
       "      <td>Exxon Mobil</td>\n",
       "      <td>XOM</td>\n",
       "      <td>Integrated oil Companies</td>\n",
       "    </tr>\n",
       "    <tr>\n",
       "      <th>12</th>\n",
       "      <td>Visa</td>\n",
       "      <td>V</td>\n",
       "      <td>Business Services</td>\n",
       "    </tr>\n",
       "    <tr>\n",
       "      <th>13</th>\n",
       "      <td>Broadcom</td>\n",
       "      <td>AVGO</td>\n",
       "      <td>Semiconductors</td>\n",
       "    </tr>\n",
       "    <tr>\n",
       "      <th>14</th>\n",
       "      <td>S&amp;P 500</td>\n",
       "      <td>SPX</td>\n",
       "      <td>S&amp;P 500</td>\n",
       "    </tr>\n",
       "    <tr>\n",
       "      <th>15</th>\n",
       "      <td>Nasdaq</td>\n",
       "      <td>NDAQ</td>\n",
       "      <td>Investment Bankers/Brokers/Service</td>\n",
       "    </tr>\n",
       "  </tbody>\n",
       "</table>\n",
       "</div>"
      ],
      "text/plain": [
       "                Company Ticker  \\\n",
       "0                 Apple   AAPL   \n",
       "1             Microsoft   MSFT   \n",
       "2                Amazon   AMZN   \n",
       "3                Nvidia   NVDA   \n",
       "4              Alphabet  GOOGL   \n",
       "5                  Meta   META   \n",
       "6                 Tesla   TSLA   \n",
       "7    Berkshire Hathaway  BRK.B   \n",
       "8    Unitedhealth Group    UNH   \n",
       "9   Jpmorgan Chase & Co    JPM   \n",
       "10    Johnson & Johnson    JNJ   \n",
       "11          Exxon Mobil    XOM   \n",
       "12                 Visa      V   \n",
       "13             Broadcom   AVGO   \n",
       "14              S&P 500    SPX   \n",
       "15               Nasdaq   NDAQ   \n",
       "\n",
       "                                           Industry  \n",
       "0                            Computer Manufacturing  \n",
       "1           Computer Software: Prepackaged Software  \n",
       "2                    Catalog/Specialty Distribution  \n",
       "3                                    Semiconductors  \n",
       "4   Computer Software: Programming, Data Processing  \n",
       "5   Computer Software: Programming, Data Processing  \n",
       "6                                Auto Manufacturing  \n",
       "7                                      Conglomerate  \n",
       "8                              Medical Specialities  \n",
       "9                                       Major Banks  \n",
       "10       Biotechnology: Pharmaceutical Preparations  \n",
       "11                         Integrated oil Companies  \n",
       "12                                Business Services  \n",
       "13                                   Semiconductors  \n",
       "14                                          S&P 500  \n",
       "15               Investment Bankers/Brokers/Service  "
      ]
     },
     "execution_count": 4,
     "metadata": {},
     "output_type": "execute_result"
    }
   ],
   "source": [
    "#create new dataframe to only grab the unique values by company and only grabbing the columns needed \n",
    "dropdown_df = raw_stocks_data_df.drop_duplicates('Company').reset_index()\n",
    "dropdown_df = dropdown_df[['Company', 'Ticker', 'Industry']]\n",
    "\n",
    "#display new dataframe\n",
    "dropdown_df"
   ]
  },
  {
   "cell_type": "code",
   "execution_count": 5,
   "id": "ff1a471a",
   "metadata": {},
   "outputs": [
    {
     "data": {
      "text/plain": [
       "['',\n",
       " 'Apple (AAPL) - Computer Manufacturing',\n",
       " 'Microsoft (MSFT) - Computer Software: Prepackaged Software',\n",
       " 'Amazon (AMZN) - Catalog/Specialty Distribution',\n",
       " 'Nvidia (NVDA) - Semiconductors',\n",
       " 'Alphabet (GOOGL) - Computer Software: Programming, Data Processing',\n",
       " 'Meta (META) - Computer Software: Programming, Data Processing',\n",
       " 'Tesla (TSLA) - Auto Manufacturing',\n",
       " 'Berkshire Hathaway (BRK.B) - Conglomerate',\n",
       " 'Unitedhealth Group (UNH) - Medical Specialities',\n",
       " 'Jpmorgan Chase & Co (JPM) - Major Banks',\n",
       " 'Johnson & Johnson (JNJ) - Biotechnology: Pharmaceutical Preparations',\n",
       " 'Exxon Mobil (XOM) - Integrated oil Companies',\n",
       " 'Visa (V) - Business Services',\n",
       " 'Broadcom (AVGO) - Semiconductors']"
      ]
     },
     "metadata": {},
     "output_type": "display_data"
    }
   ],
   "source": [
    "#creating a array to store the values for the dropdown \n",
    "dropdown_options_array = ['']\n",
    "\n",
    "# Loop through the DataFrame and concat the display names of the dropdown options and push into array\n",
    "for index, row in dropdown_df.iterrows():\n",
    "    dropdown_value = row['Company'] + ' ('+ row['Ticker'] + ')' +' - ' + row['Industry']\n",
    "    dropdown_options_array.append(dropdown_value)\n",
    "    \n",
    "# remove the exchange index from list  \n",
    "chars_to_remove = ['(SPX)', '(NDAQ)']\n",
    "dropdown_options_array = [item for item in dropdown_options_array if not any(char in item for char in chars_to_remove)]\n",
    "\n",
    "#display dropdown_options array \n",
    "display(dropdown_options_array)"
   ]
  },
  {
   "cell_type": "markdown",
   "id": "8ca5eb3d",
   "metadata": {},
   "source": [
    "# User Input for Game of Stocks"
   ]
  },
  {
   "cell_type": "code",
   "execution_count": 6,
   "id": "d580eccf",
   "metadata": {},
   "outputs": [
    {
     "name": "stdout",
     "output_type": "stream",
     "text": [
      "Welcome to the Game of Stocks! You will be asked a series of questions to get started. \n",
      "You can choose up to 10 stickes to create portfolio. Remember to diversify your portfolio.   \n"
     ]
    },
    {
     "data": {
      "application/vnd.jupyter.widget-view+json": {
       "model_id": "f934d58542004ee884e25b2737a40957",
       "version_major": 2,
       "version_minor": 0
      },
      "text/plain": [
       "Textarea(value='Input your name', description='First Name:', placeholder='Type something')"
      ]
     },
     "metadata": {},
     "output_type": "display_data"
    },
    {
     "data": {
      "application/vnd.jupyter.widget-view+json": {
       "model_id": "cd3de7bc9e9d4100b3bd469e4a4eac63",
       "version_major": 2,
       "version_minor": 0
      },
      "text/plain": [
       "Dropdown(description='Amount', index=10, options=(1, 2, 3, 4, 5, 6, 7, 8, 9, 10, 'Choose Stock Amount:'), valu…"
      ]
     },
     "metadata": {},
     "output_type": "display_data"
    },
    {
     "data": {
      "application/vnd.jupyter.widget-view+json": {
       "model_id": "a7b78ec2b2ee471ea8400645530d7a2a",
       "version_major": 2,
       "version_minor": 0
      },
      "text/plain": [
       "Button(description='Submit', style=ButtonStyle())"
      ]
     },
     "metadata": {},
     "output_type": "display_data"
    },
    {
     "name": "stdout",
     "output_type": "stream",
     "text": [
      "James, you have choosen stock amount: 4\n"
     ]
    }
   ],
   "source": [
    "#input box for name\n",
    "input_name = widgets.Textarea(\n",
    "    value='Input your name',\n",
    "    placeholder='Type something',\n",
    "    description='First Name:',\n",
    "    disabled=False\n",
    ")\n",
    "\n",
    "\n",
    "#Ask user how many stocks they would like in portfolio \n",
    "\n",
    "dropdown_widget_num_of_stocks = widgets.Dropdown(\n",
    "    options=[1,2,3,4,5,6,7,8,9,10,\"Choose Stock Amount:\"],\n",
    "    description=\"Amount\", \n",
    "    value=\"Choose Stock Amount:\")\n",
    "\n",
    "\n",
    "\n",
    "#display input name, dropdown and instructions\n",
    "print(\"\"\"Welcome to the Game of Stocks! You will be asked a series of questions to get started. \n",
    "You can choose up to 10 stickes to create portfolio. Remember to diversify your portfolio.   \"\"\")\n",
    "\n",
    "display(input_name)\n",
    "# print(f\"Choose number of stocks for your portfolio\")\n",
    "display(dropdown_widget_num_of_stocks)\n",
    "\n",
    "# Create a button to trigger an action\n",
    "button_stock_amount = widgets.Button(description=\"Submit\")\n",
    "\n",
    "# Define a function to be called on button click\n",
    "def on_button_click_stock_amount(b):\n",
    "    #declare and make it a global variable so it can be use in other places\n",
    "    global name, num_of_stocks_choosen\n",
    "    name = input_name.value\n",
    "    num_of_stocks_choosen = dropdown_widget_num_of_stocks.value\n",
    "    print(f\"{name}, you have choosen stock amount: {num_of_stocks_choosen}\")\n",
    "\n",
    "# Attach the function to the button's click event\n",
    "button_stock_amount.on_click(on_button_click_stock_amount)\n",
    "\n",
    "# Display the button\n",
    "display(button_stock_amount)\n"
   ]
  },
  {
   "cell_type": "code",
   "execution_count": 7,
   "id": "4c700f62",
   "metadata": {},
   "outputs": [
    {
     "data": {
      "application/vnd.jupyter.widget-view+json": {
       "model_id": "d998ed7e3bbe4034b92a8252035b04ea",
       "version_major": 2,
       "version_minor": 0
      },
      "text/plain": [
       "Dropdown(description='Stock 1:', options=('', 'Apple (AAPL) - Computer Manufacturing', 'Microsoft (MSFT) - Com…"
      ]
     },
     "metadata": {},
     "output_type": "display_data"
    },
    {
     "data": {
      "application/vnd.jupyter.widget-view+json": {
       "model_id": "021224220e8b47acb41a38033affb748",
       "version_major": 2,
       "version_minor": 0
      },
      "text/plain": [
       "Dropdown(description='Stock 2:', options=('', 'Apple (AAPL) - Computer Manufacturing', 'Microsoft (MSFT) - Com…"
      ]
     },
     "metadata": {},
     "output_type": "display_data"
    },
    {
     "data": {
      "application/vnd.jupyter.widget-view+json": {
       "model_id": "2306fbed730a41a38679084ab7407bc5",
       "version_major": 2,
       "version_minor": 0
      },
      "text/plain": [
       "Dropdown(description='Stock 3:', options=('', 'Apple (AAPL) - Computer Manufacturing', 'Microsoft (MSFT) - Com…"
      ]
     },
     "metadata": {},
     "output_type": "display_data"
    },
    {
     "data": {
      "application/vnd.jupyter.widget-view+json": {
       "model_id": "d967cefe8c5b4710a3deeb7b7e2ab982",
       "version_major": 2,
       "version_minor": 0
      },
      "text/plain": [
       "Dropdown(description='Stock 4:', options=('', 'Apple (AAPL) - Computer Manufacturing', 'Microsoft (MSFT) - Com…"
      ]
     },
     "metadata": {},
     "output_type": "display_data"
    },
    {
     "data": {
      "application/vnd.jupyter.widget-view+json": {
       "model_id": "fb28637d40f545888ab3012c93d02253",
       "version_major": 2,
       "version_minor": 0
      },
      "text/plain": [
       "Button(description='Submit', style=ButtonStyle())"
      ]
     },
     "metadata": {},
     "output_type": "display_data"
    },
    {
     "name": "stdout",
     "output_type": "stream",
     "text": [
      "Selected stocks: ['AAPL', 'NVDA', 'META', 'XOM']\n"
     ]
    }
   ],
   "source": [
    "# Step 1: Create options for dropdown values which was done above\n",
    "\n",
    "# Step 2: Create a for loop to generate the ipywidgets.Dropdown widgets and append them to the dropdown_widgets array\n",
    "dropdown_widgets = []\n",
    "for index in range(num_of_stocks_choosen):  # Passing user choosen number of stocks\n",
    "    dropdown_widget = widgets.Dropdown(options=dropdown_options_array, description=f'Stock {index + 1}:')\n",
    "    dropdown_widgets.append(dropdown_widget)\n",
    "    \n",
    "# Step 3: Create corresponding variables to store the selected values (same as before)\n",
    "user_portfolio_array = [None] * len(dropdown_widgets)\n",
    "\n",
    "\n",
    "# Step 4: Define the function for the submit button's on_click event (same as before)\n",
    "def on_submit_button_click(b):\n",
    "    for i, dropdown in enumerate(dropdown_widgets):\n",
    "        # Use regular expression to find characters between parentheses\n",
    "        pattern = r'\\((.*?)\\)'\n",
    "        ticker_match = re.findall(pattern, dropdown.value) \n",
    "        user_portfolio_array[i]  = ''.join(ticker_match)\n",
    "    print(\"Selected stocks:\", user_portfolio_array)\n",
    "\n",
    "# Create the Submit button (same as before)\n",
    "submit_button = widgets.Button(description=\"Submit\")\n",
    "submit_button.on_click(on_submit_button_click)\n",
    "\n",
    "# Display the dropdown widgets and the Submit button (same as before)\n",
    "display(*dropdown_widgets, submit_button)\n",
    "\n"
   ]
  },
  {
   "cell_type": "code",
   "execution_count": 19,
   "id": "7d1049c0",
   "metadata": {},
   "outputs": [
    {
     "data": {
      "text/plain": [
       "0.25"
      ]
     },
     "execution_count": 19,
     "metadata": {},
     "output_type": "execute_result"
    }
   ],
   "source": [
    "#calculating individual weights since we will assume it will be evenly split\n",
    "weight = round((1/len(user_portfolio_array)),5)\n",
    "weight"
   ]
  },
  {
   "cell_type": "code",
   "execution_count": 20,
   "id": "27bb9f9b",
   "metadata": {},
   "outputs": [],
   "source": [
    "#creating the weight array to apply to \n",
    "weight_array = [weight] * len(user_portfolio_array)"
   ]
  },
  {
   "cell_type": "code",
   "execution_count": 22,
   "id": "0c3d072f",
   "metadata": {},
   "outputs": [
    {
     "data": {
      "text/plain": [
       "[0.25, 0.25, 0.25, 0.25]"
      ]
     },
     "execution_count": 22,
     "metadata": {},
     "output_type": "execute_result"
    }
   ],
   "source": [
    "weight_array"
   ]
  },
  {
   "cell_type": "code",
   "execution_count": null,
   "id": "5c995355",
   "metadata": {},
   "outputs": [],
   "source": []
  }
 ],
 "metadata": {
  "kernelspec": {
   "display_name": "python3_data",
   "language": "python",
   "name": "python3_data"
  },
  "language_info": {
   "codemirror_mode": {
    "name": "ipython",
    "version": 3
   },
   "file_extension": ".py",
   "mimetype": "text/x-python",
   "name": "python",
   "nbconvert_exporter": "python",
   "pygments_lexer": "ipython3",
   "version": "3.9.7"
  }
 },
 "nbformat": 4,
 "nbformat_minor": 5
}
