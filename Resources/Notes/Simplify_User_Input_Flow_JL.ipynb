{
 "cells": [
  {
   "cell_type": "code",
   "execution_count": 34,
   "id": "53c51b79",
   "metadata": {},
   "outputs": [],
   "source": [
    "#packages related to dataframes\n",
    "import pandas as pd\n",
    "import numpy as np\n",
    "from pathlib import Path\n",
    "\n",
    "#package needed to assign user a unique id \n",
    "import uuid\n",
    "\n",
    "#package nee\n",
    "import csv\n",
    "\n",
    "# Importing helper function from utils folder \n",
    "import sys\n",
    "sys.path.append('../utils')\n",
    "from user_form_intake1 import inital_user_intake, get_user_inital_input, portfolio_user_intake, get_user_portfolio_input"
   ]
  },
  {
   "cell_type": "markdown",
   "id": "b8e1cc9b",
   "metadata": {},
   "source": [
    "# User Input for Game of Stocks"
   ]
  },
  {
   "cell_type": "code",
   "execution_count": 35,
   "id": "552d3b51",
   "metadata": {},
   "outputs": [
    {
     "name": "stdout",
     "output_type": "stream",
     "text": [
      "Welcome to the Game of Stocks! You will be asked a series of questions to get started. \n",
      "    You can choose up to 10 stickes to create portfolio. Remember to diversify your portfolio.   \n"
     ]
    },
    {
     "data": {
      "application/vnd.jupyter.widget-view+json": {
       "model_id": "1002e2abb7504f81941db464ffc592c0",
       "version_major": 2,
       "version_minor": 0
      },
      "text/plain": [
       "Textarea(value='Input your name', description='First Name:', placeholder='Type something')"
      ]
     },
     "metadata": {},
     "output_type": "display_data"
    },
    {
     "data": {
      "application/vnd.jupyter.widget-view+json": {
       "model_id": "4e6e891edbd04240b9e2125e54934dc1",
       "version_major": 2,
       "version_minor": 0
      },
      "text/plain": [
       "Dropdown(description='Amount', index=10, options=(1, 2, 3, 4, 5, 6, 7, 8, 9, 10, 'Choose Stock Amount:'), valu…"
      ]
     },
     "metadata": {},
     "output_type": "display_data"
    },
    {
     "data": {
      "application/vnd.jupyter.widget-view+json": {
       "model_id": "119ca30e01b9400facb6c7fa9ae5fbb1",
       "version_major": 2,
       "version_minor": 0
      },
      "text/plain": [
       "Button(description='Submit', style=ButtonStyle())"
      ]
     },
     "metadata": {},
     "output_type": "display_data"
    },
    {
     "name": "stdout",
     "output_type": "stream",
     "text": [
      "JJ, you have choosen stock amount: 4\n"
     ]
    }
   ],
   "source": [
    "# Envoking the user intake form 1. It will store the information in the following variables so it can be used in notebook later.\n",
    "\n",
    "inital_user_intake()"
   ]
  },
  {
   "cell_type": "code",
   "execution_count": 36,
   "id": "6ad6e9e8",
   "metadata": {},
   "outputs": [],
   "source": [
    "# Getting the form values that was store in name, num_of_stocks_choosen \n",
    "name, num_of_stocks_choosen = get_user_inital_input()"
   ]
  },
  {
   "cell_type": "code",
   "execution_count": 37,
   "id": "5ade8f88",
   "metadata": {},
   "outputs": [
    {
     "data": {
      "application/vnd.jupyter.widget-view+json": {
       "model_id": "266af3b2e90f4ae0923ce679ca105449",
       "version_major": 2,
       "version_minor": 0
      },
      "text/plain": [
       "Dropdown(description='Stock 1:', options=('', 'Apple (AAPL) - Computer Manufacturing', 'Microsoft (MSFT) - Com…"
      ]
     },
     "metadata": {},
     "output_type": "display_data"
    },
    {
     "data": {
      "application/vnd.jupyter.widget-view+json": {
       "model_id": "07c70572be674a4a8b090efaa97d9704",
       "version_major": 2,
       "version_minor": 0
      },
      "text/plain": [
       "Dropdown(description='Stock 2:', options=('', 'Apple (AAPL) - Computer Manufacturing', 'Microsoft (MSFT) - Com…"
      ]
     },
     "metadata": {},
     "output_type": "display_data"
    },
    {
     "data": {
      "application/vnd.jupyter.widget-view+json": {
       "model_id": "62e5fad11c2e41a1a1b37036d6952734",
       "version_major": 2,
       "version_minor": 0
      },
      "text/plain": [
       "Dropdown(description='Stock 3:', options=('', 'Apple (AAPL) - Computer Manufacturing', 'Microsoft (MSFT) - Com…"
      ]
     },
     "metadata": {},
     "output_type": "display_data"
    },
    {
     "data": {
      "application/vnd.jupyter.widget-view+json": {
       "model_id": "9658847852e748e29b475acfa5a4029b",
       "version_major": 2,
       "version_minor": 0
      },
      "text/plain": [
       "Dropdown(description='Stock 4:', options=('', 'Apple (AAPL) - Computer Manufacturing', 'Microsoft (MSFT) - Com…"
      ]
     },
     "metadata": {},
     "output_type": "display_data"
    },
    {
     "data": {
      "application/vnd.jupyter.widget-view+json": {
       "model_id": "a5dc62b8b1c848768e0a7a51bff0b789",
       "version_major": 2,
       "version_minor": 0
      },
      "text/plain": [
       "Button(description='Submit', style=ButtonStyle())"
      ]
     },
     "metadata": {},
     "output_type": "display_data"
    },
    {
     "name": "stdout",
     "output_type": "stream",
     "text": [
      "You have selected the following stocks\n",
      "Selected stocks: ['META', 'AMZN', 'NVDA', 'V']\n"
     ]
    }
   ],
   "source": [
    "portfolio_user_intake(num_of_stocks_choosen)"
   ]
  },
  {
   "cell_type": "code",
   "execution_count": 38,
   "id": "3ae3a31e",
   "metadata": {},
   "outputs": [],
   "source": [
    "# getting the user chosen portfolio\n",
    "unique_user_portfolio_array = get_user_portfolio_input()"
   ]
  },
  {
   "cell_type": "code",
   "execution_count": 39,
   "id": "1c88e08f",
   "metadata": {},
   "outputs": [
    {
     "data": {
      "text/plain": [
       "['META', 'AMZN', 'NVDA', 'V']"
      ]
     },
     "execution_count": 39,
     "metadata": {},
     "output_type": "execute_result"
    }
   ],
   "source": [
    "unique_user_portfolio_array"
   ]
  },
  {
   "cell_type": "code",
   "execution_count": 40,
   "id": "e972fc61",
   "metadata": {},
   "outputs": [
    {
     "data": {
      "text/plain": [
       "0.25"
      ]
     },
     "execution_count": 40,
     "metadata": {},
     "output_type": "execute_result"
    }
   ],
   "source": [
    "#calculating individual weights since we will assume it will be evenly split\n",
    "weight = round((1/len(unique_user_portfolio_array)),5)\n",
    "\n",
    "weight"
   ]
  },
  {
   "cell_type": "code",
   "execution_count": 41,
   "id": "c7ba3177",
   "metadata": {},
   "outputs": [
    {
     "data": {
      "text/plain": [
       "[0.25, 0.25, 0.25, 0.25]"
      ]
     },
     "execution_count": 41,
     "metadata": {},
     "output_type": "execute_result"
    }
   ],
   "source": [
    "#creating the weight array to apply to stocks\n",
    "weight_array = [weight] * len(unique_user_portfolio_array)\n",
    "weight_array"
   ]
  },
  {
   "cell_type": "markdown",
   "id": "50bb23e4",
   "metadata": {},
   "source": [
    "# Storing User Info In User Portfolio "
   ]
  },
  {
   "cell_type": "code",
   "execution_count": 42,
   "id": "de642140",
   "metadata": {},
   "outputs": [
    {
     "name": "stdout",
     "output_type": "stream",
     "text": [
      "UUID as string: b7888e3b-d3ff-4d70-8ff1-c78e2f52506a\n"
     ]
    }
   ],
   "source": [
    "#getting a uuid \n",
    "unique_id = uuid.uuid4()\n",
    "\n",
    "#converting uuid to string so it can store as a string in csv and easier to use loc\n",
    "user_uuid_str = str(unique_id)\n",
    "print(\"UUID as string:\", user_uuid_str)"
   ]
  },
  {
   "cell_type": "code",
   "execution_count": 43,
   "id": "20b5589e",
   "metadata": {},
   "outputs": [],
   "source": [
    "# test static values \n",
    "user_sharpe_ratio = 2.11\n",
    "user_cumulative_returns = 100.22\n",
    "user_daily_returns = 134"
   ]
  },
  {
   "cell_type": "code",
   "execution_count": 54,
   "id": "d2da0d2e",
   "metadata": {},
   "outputs": [],
   "source": [
    "# Create a list of dictionaries (each dictionary represents a row of data)\n",
    "user_data = [{'UUID': user_uuid_str,\n",
    "              'User_Name': name,\n",
    "              'Sharpe_Ratio': user_sharpe_ratio,\n",
    "              'Cumulative_Returns': user_cumulative_returns,\n",
    "              'Daily_Returns': user_daily_returns,\n",
    "              'Stocks': f'{unique_user_portfolio_array}'}]\n",
    "\n",
    "# Create the DataFrame from the list of dictionaries\n",
    "user_portfolio_df = pd.DataFrame(user_data)"
   ]
  },
  {
   "cell_type": "code",
   "execution_count": 55,
   "id": "b571fd9e",
   "metadata": {},
   "outputs": [
    {
     "data": {
      "text/html": [
       "<div>\n",
       "<style scoped>\n",
       "    .dataframe tbody tr th:only-of-type {\n",
       "        vertical-align: middle;\n",
       "    }\n",
       "\n",
       "    .dataframe tbody tr th {\n",
       "        vertical-align: top;\n",
       "    }\n",
       "\n",
       "    .dataframe thead th {\n",
       "        text-align: right;\n",
       "    }\n",
       "</style>\n",
       "<table border=\"1\" class=\"dataframe\">\n",
       "  <thead>\n",
       "    <tr style=\"text-align: right;\">\n",
       "      <th></th>\n",
       "      <th>UUID</th>\n",
       "      <th>User_Name</th>\n",
       "      <th>Sharpe_Ratio</th>\n",
       "      <th>Cumulative_Returns</th>\n",
       "      <th>Daily_Returns</th>\n",
       "      <th>Stocks</th>\n",
       "    </tr>\n",
       "  </thead>\n",
       "  <tbody>\n",
       "    <tr>\n",
       "      <th>0</th>\n",
       "      <td>5efe17ca-c96f-4f8b-8084-74f57a7e5724</td>\n",
       "      <td>JJ</td>\n",
       "      <td>2.11</td>\n",
       "      <td>100.22</td>\n",
       "      <td>134</td>\n",
       "      <td>['META', 'AMZN', 'NVDA', 'V']</td>\n",
       "    </tr>\n",
       "  </tbody>\n",
       "</table>\n",
       "</div>"
      ],
      "text/plain": [
       "                                   UUID User_Name  Sharpe_Ratio  \\\n",
       "0  5efe17ca-c96f-4f8b-8084-74f57a7e5724        JJ          2.11   \n",
       "\n",
       "   Cumulative_Returns  Daily_Returns                         Stocks  \n",
       "0              100.22            134  ['META', 'AMZN', 'NVDA', 'V']  "
      ]
     },
     "execution_count": 55,
     "metadata": {},
     "output_type": "execute_result"
    }
   ],
   "source": [
    "user_portfolio_df"
   ]
  }
 ],
 "metadata": {
  "kernelspec": {
   "display_name": "Python 3 (ipykernel)",
   "language": "python",
   "name": "python3"
  },
  "language_info": {
   "codemirror_mode": {
    "name": "ipython",
    "version": 3
   },
   "file_extension": ".py",
   "mimetype": "text/x-python",
   "name": "python",
   "nbconvert_exporter": "python",
   "pygments_lexer": "ipython3",
   "version": "3.10.11"
  },
  "widgets": {
   "application/vnd.jupyter.widget-state+json": {
    "state": {},
    "version_major": 2,
    "version_minor": 0
   }
  }
 },
 "nbformat": 4,
 "nbformat_minor": 5
}
