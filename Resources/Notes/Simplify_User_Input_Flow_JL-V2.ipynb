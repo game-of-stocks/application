{
 "cells": [
  {
   "cell_type": "code",
   "execution_count": 63,
   "id": "76319276",
   "metadata": {},
   "outputs": [],
   "source": [
    "#packages related to dataframes\n",
    "import pandas as pd\n",
    "import numpy as np\n",
    "from pathlib import Path\n",
    "\n",
    "#package needed to assign user a unique id \n",
    "import uuid\n",
    "\n",
    "#package nee\n",
    "import csv\n",
    "\n",
    "# Importing helper function from utils folder \n",
    "import sys\n",
    "sys.path.append('../utils')\n",
    "from user_form_intake1 import inital_user_intake, get_user_inital_input, portfolio_user_intake, get_user_portfolio_input"
   ]
  },
  {
   "cell_type": "markdown",
   "id": "665e32d0",
   "metadata": {},
   "source": [
    "# Grabbing the Data Files "
   ]
  },
  {
   "cell_type": "code",
   "execution_count": 64,
   "id": "b8486b97",
   "metadata": {},
   "outputs": [
    {
     "data": {
      "text/html": [
       "<div>\n",
       "<style scoped>\n",
       "    .dataframe tbody tr th:only-of-type {\n",
       "        vertical-align: middle;\n",
       "    }\n",
       "\n",
       "    .dataframe tbody tr th {\n",
       "        vertical-align: top;\n",
       "    }\n",
       "\n",
       "    .dataframe thead th {\n",
       "        text-align: right;\n",
       "    }\n",
       "</style>\n",
       "<table border=\"1\" class=\"dataframe\">\n",
       "  <thead>\n",
       "    <tr style=\"text-align: right;\">\n",
       "      <th></th>\n",
       "      <th>Date</th>\n",
       "      <th>Company</th>\n",
       "      <th>Ticker</th>\n",
       "      <th>Close_Price</th>\n",
       "      <th>Industry</th>\n",
       "      <th>Sector</th>\n",
       "    </tr>\n",
       "  </thead>\n",
       "  <tbody>\n",
       "    <tr>\n",
       "      <th>0</th>\n",
       "      <td>2/1/2023</td>\n",
       "      <td>Apple</td>\n",
       "      <td>AAPL</td>\n",
       "      <td>145.43</td>\n",
       "      <td>Computer Manufacturing</td>\n",
       "      <td>Technology</td>\n",
       "    </tr>\n",
       "    <tr>\n",
       "      <th>1</th>\n",
       "      <td>2/2/2023</td>\n",
       "      <td>Apple</td>\n",
       "      <td>AAPL</td>\n",
       "      <td>150.82</td>\n",
       "      <td>Computer Manufacturing</td>\n",
       "      <td>Technology</td>\n",
       "    </tr>\n",
       "    <tr>\n",
       "      <th>2</th>\n",
       "      <td>2/3/2023</td>\n",
       "      <td>Apple</td>\n",
       "      <td>AAPL</td>\n",
       "      <td>154.50</td>\n",
       "      <td>Computer Manufacturing</td>\n",
       "      <td>Technology</td>\n",
       "    </tr>\n",
       "    <tr>\n",
       "      <th>3</th>\n",
       "      <td>2/6/2023</td>\n",
       "      <td>Apple</td>\n",
       "      <td>AAPL</td>\n",
       "      <td>151.73</td>\n",
       "      <td>Computer Manufacturing</td>\n",
       "      <td>Technology</td>\n",
       "    </tr>\n",
       "    <tr>\n",
       "      <th>4</th>\n",
       "      <td>2/7/2023</td>\n",
       "      <td>Apple</td>\n",
       "      <td>AAPL</td>\n",
       "      <td>154.65</td>\n",
       "      <td>Computer Manufacturing</td>\n",
       "      <td>Technology</td>\n",
       "    </tr>\n",
       "  </tbody>\n",
       "</table>\n",
       "</div>"
      ],
      "text/plain": [
       "       Date Company Ticker  Close_Price                Industry      Sector\n",
       "0  2/1/2023   Apple   AAPL       145.43  Computer Manufacturing  Technology\n",
       "1  2/2/2023   Apple   AAPL       150.82  Computer Manufacturing  Technology\n",
       "2  2/3/2023   Apple   AAPL       154.50  Computer Manufacturing  Technology\n",
       "3  2/6/2023   Apple   AAPL       151.73  Computer Manufacturing  Technology\n",
       "4  2/7/2023   Apple   AAPL       154.65  Computer Manufacturing  Technology"
      ]
     },
     "execution_count": 64,
     "metadata": {},
     "output_type": "execute_result"
    }
   ],
   "source": [
    "#Grabing the raw stock data and putting in dataframe\n",
    "raw_stocks_data_to_load =  Path(\"../Data/Stock_Index_Raw_Data.csv\")\n",
    "raw_stocks_data_df = pd.read_csv(raw_stocks_data_to_load, header=0, parse_dates=True)\n",
    "raw_stocks_data_df.sort_index(ascending = True, inplace = True)\n",
    "raw_stocks_data_df.head()"
   ]
  },
  {
   "cell_type": "code",
   "execution_count": 65,
   "id": "43c31df6",
   "metadata": {},
   "outputs": [
    {
     "data": {
      "text/html": [
       "<div>\n",
       "<style scoped>\n",
       "    .dataframe tbody tr th:only-of-type {\n",
       "        vertical-align: middle;\n",
       "    }\n",
       "\n",
       "    .dataframe tbody tr th {\n",
       "        vertical-align: top;\n",
       "    }\n",
       "\n",
       "    .dataframe thead th {\n",
       "        text-align: right;\n",
       "    }\n",
       "</style>\n",
       "<table border=\"1\" class=\"dataframe\">\n",
       "  <thead>\n",
       "    <tr style=\"text-align: right;\">\n",
       "      <th></th>\n",
       "      <th>UUID</th>\n",
       "      <th>User_Name</th>\n",
       "      <th>Sharpe_Ratio</th>\n",
       "      <th>Cumulative_Returns</th>\n",
       "      <th>Daily_Returns</th>\n",
       "      <th>Stocks</th>\n",
       "    </tr>\n",
       "  </thead>\n",
       "  <tbody>\n",
       "    <tr>\n",
       "      <th>0</th>\n",
       "      <td>56a3ba9e-7b6d-4376-a6d8-ffd2f42cee9d</td>\n",
       "      <td>Chris</td>\n",
       "      <td>3.11234</td>\n",
       "      <td>23432.22</td>\n",
       "      <td>45454</td>\n",
       "      <td>['AVGO', 'AAPL', 'MSFT', 'XOM']</td>\n",
       "    </tr>\n",
       "    <tr>\n",
       "      <th>1</th>\n",
       "      <td>2526a1f9-0f46-4b73-a0aa-ac9f5920e3d9</td>\n",
       "      <td>JJ</td>\n",
       "      <td>2.11000</td>\n",
       "      <td>100.22</td>\n",
       "      <td>134</td>\n",
       "      <td>['AMZN', 'AAPL', 'MSFT', 'JPM']</td>\n",
       "    </tr>\n",
       "    <tr>\n",
       "      <th>2</th>\n",
       "      <td>56a3ba9e-7b6d-4376-a6d8-ffd2f42cee9d</td>\n",
       "      <td>Chris</td>\n",
       "      <td>1.11234</td>\n",
       "      <td>23432.22</td>\n",
       "      <td>45454</td>\n",
       "      <td>['AVGO', 'AAPL', 'MSFT', 'XOM']</td>\n",
       "    </tr>\n",
       "  </tbody>\n",
       "</table>\n",
       "</div>"
      ],
      "text/plain": [
       "                                   UUID User_Name  Sharpe_Ratio  \\\n",
       "0  56a3ba9e-7b6d-4376-a6d8-ffd2f42cee9d    Chris        3.11234   \n",
       "1  2526a1f9-0f46-4b73-a0aa-ac9f5920e3d9        JJ       2.11000   \n",
       "2  56a3ba9e-7b6d-4376-a6d8-ffd2f42cee9d    Chris        1.11234   \n",
       "\n",
       "   Cumulative_Returns  Daily_Returns                           Stocks  \n",
       "0            23432.22          45454  ['AVGO', 'AAPL', 'MSFT', 'XOM']  \n",
       "1              100.22            134  ['AMZN', 'AAPL', 'MSFT', 'JPM']  \n",
       "2            23432.22          45454  ['AVGO', 'AAPL', 'MSFT', 'XOM']  "
      ]
     },
     "execution_count": 65,
     "metadata": {},
     "output_type": "execute_result"
    }
   ],
   "source": [
    "#Grabing the raw stock data and putting in dataframe\n",
    "user_data_to_load =  Path(\"../Data/User_Portfolio_Data.csv\")\n",
    "user_data_df = pd.read_csv(user_data_to_load, header=0, parse_dates=True)\n",
    "user_data_df.sort_index(ascending = True, inplace = True)\n",
    "user_data_df.head()"
   ]
  },
  {
   "cell_type": "markdown",
   "id": "ebc9d162",
   "metadata": {},
   "source": [
    "# User Input for Game of Stocks"
   ]
  },
  {
   "cell_type": "code",
   "execution_count": 62,
   "id": "a9e4c9d4",
   "metadata": {},
   "outputs": [
    {
     "name": "stdout",
     "output_type": "stream",
     "text": [
      "Welcome to the Game of Stocks! You will be asked a series of questions to get started. \n",
      "    You can choose up to 10 stickes to create portfolio. Remember to diversify your portfolio.   \n"
     ]
    },
    {
     "data": {
      "application/vnd.jupyter.widget-view+json": {
       "model_id": "01cf900a44f04fe282f5efbd1a13eaf4",
       "version_major": 2,
       "version_minor": 0
      },
      "text/plain": [
       "Textarea(value='Input your name', description='First Name:', placeholder='Type something')"
      ]
     },
     "metadata": {},
     "output_type": "display_data"
    },
    {
     "data": {
      "application/vnd.jupyter.widget-view+json": {
       "model_id": "4feab99a7b8d490c96660b2428e2e26f",
       "version_major": 2,
       "version_minor": 0
      },
      "text/plain": [
       "Dropdown(description='Amount', index=10, options=(1, 2, 3, 4, 5, 6, 7, 8, 9, 10, 'Choose Stock Amount:'), valu…"
      ]
     },
     "metadata": {},
     "output_type": "display_data"
    },
    {
     "data": {
      "application/vnd.jupyter.widget-view+json": {
       "model_id": "2976272a9bb14ab891f0ec288f67c9a0",
       "version_major": 2,
       "version_minor": 0
      },
      "text/plain": [
       "Button(description='Submit', style=ButtonStyle())"
      ]
     },
     "metadata": {},
     "output_type": "display_data"
    },
    {
     "name": "stdout",
     "output_type": "stream",
     "text": [
      "Amy, you have choosen stock amount: 6\n"
     ]
    }
   ],
   "source": [
    "# Envoking the user intake form 1. It will store the information in the following variables so it can be used in notebook later.\n",
    "\n",
    "inital_user_intake()"
   ]
  },
  {
   "cell_type": "code",
   "execution_count": 66,
   "id": "c9bdeb87",
   "metadata": {},
   "outputs": [],
   "source": [
    "# Getting the form values that was store in name, num_of_stocks_choosen \n",
    "name, num_of_stocks_choosen = get_user_inital_input()"
   ]
  },
  {
   "cell_type": "code",
   "execution_count": 67,
   "id": "ce4591c9",
   "metadata": {},
   "outputs": [
    {
     "data": {
      "application/vnd.jupyter.widget-view+json": {
       "model_id": "9de1102120f44e94b984f9cf30e1bf14",
       "version_major": 2,
       "version_minor": 0
      },
      "text/plain": [
       "Dropdown(description='Stock 1:', options=('', 'Apple (AAPL) - Computer Manufacturing', 'Microsoft (MSFT) - Com…"
      ]
     },
     "metadata": {},
     "output_type": "display_data"
    },
    {
     "data": {
      "application/vnd.jupyter.widget-view+json": {
       "model_id": "809f38962cbd48079e005452b988ae0e",
       "version_major": 2,
       "version_minor": 0
      },
      "text/plain": [
       "Dropdown(description='Stock 2:', options=('', 'Apple (AAPL) - Computer Manufacturing', 'Microsoft (MSFT) - Com…"
      ]
     },
     "metadata": {},
     "output_type": "display_data"
    },
    {
     "data": {
      "application/vnd.jupyter.widget-view+json": {
       "model_id": "154d46bab77341949e736c5676686331",
       "version_major": 2,
       "version_minor": 0
      },
      "text/plain": [
       "Dropdown(description='Stock 3:', options=('', 'Apple (AAPL) - Computer Manufacturing', 'Microsoft (MSFT) - Com…"
      ]
     },
     "metadata": {},
     "output_type": "display_data"
    },
    {
     "data": {
      "application/vnd.jupyter.widget-view+json": {
       "model_id": "7acfe56c3e9d4435a9db8902cdd68606",
       "version_major": 2,
       "version_minor": 0
      },
      "text/plain": [
       "Dropdown(description='Stock 4:', options=('', 'Apple (AAPL) - Computer Manufacturing', 'Microsoft (MSFT) - Com…"
      ]
     },
     "metadata": {},
     "output_type": "display_data"
    },
    {
     "data": {
      "application/vnd.jupyter.widget-view+json": {
       "model_id": "a29b6df478a346b8a84d73994b6debfb",
       "version_major": 2,
       "version_minor": 0
      },
      "text/plain": [
       "Dropdown(description='Stock 5:', options=('', 'Apple (AAPL) - Computer Manufacturing', 'Microsoft (MSFT) - Com…"
      ]
     },
     "metadata": {},
     "output_type": "display_data"
    },
    {
     "data": {
      "application/vnd.jupyter.widget-view+json": {
       "model_id": "c2ff732f4fdb4cd29e509500eca89453",
       "version_major": 2,
       "version_minor": 0
      },
      "text/plain": [
       "Dropdown(description='Stock 6:', options=('', 'Apple (AAPL) - Computer Manufacturing', 'Microsoft (MSFT) - Com…"
      ]
     },
     "metadata": {},
     "output_type": "display_data"
    },
    {
     "data": {
      "application/vnd.jupyter.widget-view+json": {
       "model_id": "cc7c3e79630548c98a2576cbffe2aeb3",
       "version_major": 2,
       "version_minor": 0
      },
      "text/plain": [
       "Button(description='Submit', style=ButtonStyle())"
      ]
     },
     "metadata": {},
     "output_type": "display_data"
    },
    {
     "name": "stdout",
     "output_type": "stream",
     "text": [
      "You have selected these duplicate stocks MSFT and only one will be included in portfolio\n",
      "Selected stocks: ['V', 'GOOGL', 'JNJ', 'MSFT', 'XOM']\n"
     ]
    }
   ],
   "source": [
    "portfolio_user_intake(num_of_stocks_choosen)"
   ]
  },
  {
   "cell_type": "code",
   "execution_count": 68,
   "id": "27a42309",
   "metadata": {},
   "outputs": [],
   "source": [
    "# getting the user chosen portfolio\n",
    "unique_user_portfolio_array = get_user_portfolio_input()"
   ]
  },
  {
   "cell_type": "code",
   "execution_count": 69,
   "id": "c188efe9",
   "metadata": {},
   "outputs": [
    {
     "data": {
      "text/plain": [
       "['V', 'GOOGL', 'JNJ', 'MSFT', 'XOM']"
      ]
     },
     "execution_count": 69,
     "metadata": {},
     "output_type": "execute_result"
    }
   ],
   "source": [
    "unique_user_portfolio_array"
   ]
  },
  {
   "cell_type": "code",
   "execution_count": 70,
   "id": "7cde4d83",
   "metadata": {},
   "outputs": [
    {
     "data": {
      "text/plain": [
       "0.2"
      ]
     },
     "execution_count": 70,
     "metadata": {},
     "output_type": "execute_result"
    }
   ],
   "source": [
    "#calculating individual weights since we will assume it will be evenly split\n",
    "weight = round((1/len(unique_user_portfolio_array)),5)\n",
    "\n",
    "weight"
   ]
  },
  {
   "cell_type": "code",
   "execution_count": 71,
   "id": "cc8eb57c",
   "metadata": {},
   "outputs": [
    {
     "data": {
      "text/plain": [
       "[0.2, 0.2, 0.2, 0.2, 0.2]"
      ]
     },
     "execution_count": 71,
     "metadata": {},
     "output_type": "execute_result"
    }
   ],
   "source": [
    "#creating the weight array to apply to stocks\n",
    "weight_array = [weight] * len(unique_user_portfolio_array)\n",
    "weight_array"
   ]
  },
  {
   "cell_type": "markdown",
   "id": "5f190bb3",
   "metadata": {},
   "source": [
    "# User Portfolio Calculations "
   ]
  },
  {
   "cell_type": "code",
   "execution_count": null,
   "id": "448f099f",
   "metadata": {},
   "outputs": [],
   "source": []
  },
  {
   "cell_type": "code",
   "execution_count": null,
   "id": "4a6dc3b0",
   "metadata": {},
   "outputs": [],
   "source": []
  },
  {
   "cell_type": "code",
   "execution_count": null,
   "id": "b84d93ea",
   "metadata": {},
   "outputs": [],
   "source": []
  },
  {
   "cell_type": "code",
   "execution_count": null,
   "id": "fb3f7514",
   "metadata": {},
   "outputs": [],
   "source": []
  },
  {
   "cell_type": "code",
   "execution_count": null,
   "id": "92372a9f",
   "metadata": {},
   "outputs": [],
   "source": []
  },
  {
   "cell_type": "code",
   "execution_count": null,
   "id": "bfafc80c",
   "metadata": {},
   "outputs": [],
   "source": []
  },
  {
   "cell_type": "markdown",
   "id": "34d5bb8e",
   "metadata": {},
   "source": [
    "# Storing User Info In User Portfolio CSV and Sorting Thru Rank "
   ]
  },
  {
   "cell_type": "code",
   "execution_count": 72,
   "id": "d5e2ed73",
   "metadata": {},
   "outputs": [
    {
     "name": "stdout",
     "output_type": "stream",
     "text": [
      "UUID as string: 951bb78a-dacb-4047-a255-2eb50314a9fd\n"
     ]
    }
   ],
   "source": [
    "#getting a uuid \n",
    "unique_id = uuid.uuid4()\n",
    "\n",
    "#converting uuid to string so it can store as a string in csv and easier to use loc\n",
    "user_uuid_str = str(unique_id)\n",
    "print(\"UUID as string:\", user_uuid_str)"
   ]
  },
  {
   "cell_type": "code",
   "execution_count": 76,
   "id": "e1f3cdf7",
   "metadata": {},
   "outputs": [],
   "source": [
    "# test static values - NEED TO BE REPLACE \n",
    "user_sharpe_ratio = 4.4343\n",
    "user_cumulative_returns = 23432.22\n",
    "user_daily_returns = 45454"
   ]
  },
  {
   "cell_type": "code",
   "execution_count": 77,
   "id": "605bf17b",
   "metadata": {},
   "outputs": [],
   "source": [
    "# Create a list of dictionaries (each dictionary represents a row of data)\n",
    "user_data = [{'UUID': user_uuid_str,\n",
    "              'User_Name': name,\n",
    "              'Sharpe_Ratio': user_sharpe_ratio,\n",
    "              'Cumulative_Returns': user_cumulative_returns,\n",
    "              'Daily_Returns': user_daily_returns,\n",
    "              'Stocks': f'{unique_user_portfolio_array}'}]\n",
    "\n",
    "# Create the DataFrame from the list of dictionaries\n",
    "user_portfolio_df = pd.DataFrame(user_data)"
   ]
  },
  {
   "cell_type": "code",
   "execution_count": 78,
   "id": "59f91a42",
   "metadata": {},
   "outputs": [
    {
     "name": "stdout",
     "output_type": "stream",
     "text": [
      "New User row added to the User User_Portfolio_Data.csv file. The following was added:\n"
     ]
    },
    {
     "data": {
      "text/html": [
       "<div>\n",
       "<style scoped>\n",
       "    .dataframe tbody tr th:only-of-type {\n",
       "        vertical-align: middle;\n",
       "    }\n",
       "\n",
       "    .dataframe tbody tr th {\n",
       "        vertical-align: top;\n",
       "    }\n",
       "\n",
       "    .dataframe thead th {\n",
       "        text-align: right;\n",
       "    }\n",
       "</style>\n",
       "<table border=\"1\" class=\"dataframe\">\n",
       "  <thead>\n",
       "    <tr style=\"text-align: right;\">\n",
       "      <th></th>\n",
       "      <th>UUID</th>\n",
       "      <th>User_Name</th>\n",
       "      <th>Sharpe_Ratio</th>\n",
       "      <th>Cumulative_Returns</th>\n",
       "      <th>Daily_Returns</th>\n",
       "      <th>Stocks</th>\n",
       "    </tr>\n",
       "  </thead>\n",
       "  <tbody>\n",
       "    <tr>\n",
       "      <th>0</th>\n",
       "      <td>951bb78a-dacb-4047-a255-2eb50314a9fd</td>\n",
       "      <td>Amy</td>\n",
       "      <td>4.4343</td>\n",
       "      <td>23432.22</td>\n",
       "      <td>45454</td>\n",
       "      <td>['V', 'GOOGL', 'JNJ', 'MSFT', 'XOM']</td>\n",
       "    </tr>\n",
       "  </tbody>\n",
       "</table>\n",
       "</div>"
      ],
      "text/plain": [
       "                                   UUID User_Name  Sharpe_Ratio  \\\n",
       "0  951bb78a-dacb-4047-a255-2eb50314a9fd       Amy        4.4343   \n",
       "\n",
       "   Cumulative_Returns  Daily_Returns                                Stocks  \n",
       "0            23432.22          45454  ['V', 'GOOGL', 'JNJ', 'MSFT', 'XOM']  "
      ]
     },
     "metadata": {},
     "output_type": "display_data"
    }
   ],
   "source": [
    "# Append the new row to the DataFrame\n",
    "# user_data_df = user_data_df.append(user_data, ignore_index=True)\n",
    "\n",
    "# Concatenate the original DataFrame and the new row DataFrame\n",
    "user_data_df = pd.concat([user_data_df, user_portfolio_df], ignore_index=True)\n",
    "\n",
    "# Write the updated DataFrame back to the CSV file\n",
    "user_data_df.to_csv(user_data_to_load, index=False)\n",
    "\n",
    "#Print so user can see what was added \n",
    "print(\"New User row added to the User User_Portfolio_Data.csv file. The following was added:\")\n",
    "display(user_portfolio_df)"
   ]
  },
  {
   "cell_type": "code",
   "execution_count": 79,
   "id": "7c2fe3ce",
   "metadata": {},
   "outputs": [
    {
     "data": {
      "text/html": [
       "<div>\n",
       "<style scoped>\n",
       "    .dataframe tbody tr th:only-of-type {\n",
       "        vertical-align: middle;\n",
       "    }\n",
       "\n",
       "    .dataframe tbody tr th {\n",
       "        vertical-align: top;\n",
       "    }\n",
       "\n",
       "    .dataframe thead th {\n",
       "        text-align: right;\n",
       "    }\n",
       "</style>\n",
       "<table border=\"1\" class=\"dataframe\">\n",
       "  <thead>\n",
       "    <tr style=\"text-align: right;\">\n",
       "      <th></th>\n",
       "      <th>UUID</th>\n",
       "      <th>User_Name</th>\n",
       "      <th>Sharpe_Ratio</th>\n",
       "      <th>Cumulative_Returns</th>\n",
       "      <th>Daily_Returns</th>\n",
       "      <th>Stocks</th>\n",
       "    </tr>\n",
       "  </thead>\n",
       "  <tbody>\n",
       "    <tr>\n",
       "      <th>0</th>\n",
       "      <td>56a3ba9e-7b6d-4376-a6d8-ffd2f42cee9d</td>\n",
       "      <td>Chris</td>\n",
       "      <td>3.11234</td>\n",
       "      <td>23432.22</td>\n",
       "      <td>45454</td>\n",
       "      <td>['AVGO', 'AAPL', 'MSFT', 'XOM']</td>\n",
       "    </tr>\n",
       "    <tr>\n",
       "      <th>1</th>\n",
       "      <td>2526a1f9-0f46-4b73-a0aa-ac9f5920e3d9</td>\n",
       "      <td>JJ</td>\n",
       "      <td>2.11000</td>\n",
       "      <td>100.22</td>\n",
       "      <td>134</td>\n",
       "      <td>['AMZN', 'AAPL', 'MSFT', 'JPM']</td>\n",
       "    </tr>\n",
       "    <tr>\n",
       "      <th>2</th>\n",
       "      <td>56a3ba9e-7b6d-4376-a6d8-ffd2f42cee9d</td>\n",
       "      <td>Chris</td>\n",
       "      <td>1.11234</td>\n",
       "      <td>23432.22</td>\n",
       "      <td>45454</td>\n",
       "      <td>['AVGO', 'AAPL', 'MSFT', 'XOM']</td>\n",
       "    </tr>\n",
       "    <tr>\n",
       "      <th>3</th>\n",
       "      <td>951bb78a-dacb-4047-a255-2eb50314a9fd</td>\n",
       "      <td>Amy</td>\n",
       "      <td>3.11234</td>\n",
       "      <td>23432.22</td>\n",
       "      <td>45454</td>\n",
       "      <td>['V', 'GOOGL', 'JNJ', 'MSFT', 'XOM']</td>\n",
       "    </tr>\n",
       "    <tr>\n",
       "      <th>4</th>\n",
       "      <td>951bb78a-dacb-4047-a255-2eb50314a9fd</td>\n",
       "      <td>Amy</td>\n",
       "      <td>4.43430</td>\n",
       "      <td>23432.22</td>\n",
       "      <td>45454</td>\n",
       "      <td>['V', 'GOOGL', 'JNJ', 'MSFT', 'XOM']</td>\n",
       "    </tr>\n",
       "  </tbody>\n",
       "</table>\n",
       "</div>"
      ],
      "text/plain": [
       "                                   UUID User_Name  Sharpe_Ratio  \\\n",
       "0  56a3ba9e-7b6d-4376-a6d8-ffd2f42cee9d    Chris        3.11234   \n",
       "1  2526a1f9-0f46-4b73-a0aa-ac9f5920e3d9        JJ       2.11000   \n",
       "2  56a3ba9e-7b6d-4376-a6d8-ffd2f42cee9d    Chris        1.11234   \n",
       "3  951bb78a-dacb-4047-a255-2eb50314a9fd       Amy       3.11234   \n",
       "4  951bb78a-dacb-4047-a255-2eb50314a9fd       Amy       4.43430   \n",
       "\n",
       "   Cumulative_Returns  Daily_Returns                                Stocks  \n",
       "0            23432.22          45454       ['AVGO', 'AAPL', 'MSFT', 'XOM']  \n",
       "1              100.22            134       ['AMZN', 'AAPL', 'MSFT', 'JPM']  \n",
       "2            23432.22          45454       ['AVGO', 'AAPL', 'MSFT', 'XOM']  \n",
       "3            23432.22          45454  ['V', 'GOOGL', 'JNJ', 'MSFT', 'XOM']  \n",
       "4            23432.22          45454  ['V', 'GOOGL', 'JNJ', 'MSFT', 'XOM']  "
      ]
     },
     "execution_count": 79,
     "metadata": {},
     "output_type": "execute_result"
    }
   ],
   "source": [
    "#preview top 5 users BEFORE the rank is updated \n",
    "user_data_df.head()"
   ]
  },
  {
   "cell_type": "markdown",
   "id": "2225e31c",
   "metadata": {},
   "source": []
  },
  {
   "cell_type": "code",
   "execution_count": 80,
   "id": "f82a7886",
   "metadata": {},
   "outputs": [
    {
     "data": {
      "text/html": [
       "<div>\n",
       "<style scoped>\n",
       "    .dataframe tbody tr th:only-of-type {\n",
       "        vertical-align: middle;\n",
       "    }\n",
       "\n",
       "    .dataframe tbody tr th {\n",
       "        vertical-align: top;\n",
       "    }\n",
       "\n",
       "    .dataframe thead th {\n",
       "        text-align: right;\n",
       "    }\n",
       "</style>\n",
       "<table border=\"1\" class=\"dataframe\">\n",
       "  <thead>\n",
       "    <tr style=\"text-align: right;\">\n",
       "      <th></th>\n",
       "      <th>UUID</th>\n",
       "      <th>User_Name</th>\n",
       "      <th>Sharpe_Ratio</th>\n",
       "      <th>Cumulative_Returns</th>\n",
       "      <th>Daily_Returns</th>\n",
       "      <th>Stocks</th>\n",
       "    </tr>\n",
       "  </thead>\n",
       "  <tbody>\n",
       "    <tr>\n",
       "      <th>4</th>\n",
       "      <td>951bb78a-dacb-4047-a255-2eb50314a9fd</td>\n",
       "      <td>Amy</td>\n",
       "      <td>4.43430</td>\n",
       "      <td>23432.22</td>\n",
       "      <td>45454</td>\n",
       "      <td>['V', 'GOOGL', 'JNJ', 'MSFT', 'XOM']</td>\n",
       "    </tr>\n",
       "    <tr>\n",
       "      <th>0</th>\n",
       "      <td>56a3ba9e-7b6d-4376-a6d8-ffd2f42cee9d</td>\n",
       "      <td>Chris</td>\n",
       "      <td>3.11234</td>\n",
       "      <td>23432.22</td>\n",
       "      <td>45454</td>\n",
       "      <td>['AVGO', 'AAPL', 'MSFT', 'XOM']</td>\n",
       "    </tr>\n",
       "    <tr>\n",
       "      <th>3</th>\n",
       "      <td>951bb78a-dacb-4047-a255-2eb50314a9fd</td>\n",
       "      <td>Amy</td>\n",
       "      <td>3.11234</td>\n",
       "      <td>23432.22</td>\n",
       "      <td>45454</td>\n",
       "      <td>['V', 'GOOGL', 'JNJ', 'MSFT', 'XOM']</td>\n",
       "    </tr>\n",
       "    <tr>\n",
       "      <th>1</th>\n",
       "      <td>2526a1f9-0f46-4b73-a0aa-ac9f5920e3d9</td>\n",
       "      <td>JJ</td>\n",
       "      <td>2.11000</td>\n",
       "      <td>100.22</td>\n",
       "      <td>134</td>\n",
       "      <td>['AMZN', 'AAPL', 'MSFT', 'JPM']</td>\n",
       "    </tr>\n",
       "    <tr>\n",
       "      <th>2</th>\n",
       "      <td>56a3ba9e-7b6d-4376-a6d8-ffd2f42cee9d</td>\n",
       "      <td>Chris</td>\n",
       "      <td>1.11234</td>\n",
       "      <td>23432.22</td>\n",
       "      <td>45454</td>\n",
       "      <td>['AVGO', 'AAPL', 'MSFT', 'XOM']</td>\n",
       "    </tr>\n",
       "  </tbody>\n",
       "</table>\n",
       "</div>"
      ],
      "text/plain": [
       "                                   UUID User_Name  Sharpe_Ratio  \\\n",
       "4  951bb78a-dacb-4047-a255-2eb50314a9fd       Amy       4.43430   \n",
       "0  56a3ba9e-7b6d-4376-a6d8-ffd2f42cee9d    Chris        3.11234   \n",
       "3  951bb78a-dacb-4047-a255-2eb50314a9fd       Amy       3.11234   \n",
       "1  2526a1f9-0f46-4b73-a0aa-ac9f5920e3d9        JJ       2.11000   \n",
       "2  56a3ba9e-7b6d-4376-a6d8-ffd2f42cee9d    Chris        1.11234   \n",
       "\n",
       "   Cumulative_Returns  Daily_Returns                                Stocks  \n",
       "4            23432.22          45454  ['V', 'GOOGL', 'JNJ', 'MSFT', 'XOM']  \n",
       "0            23432.22          45454       ['AVGO', 'AAPL', 'MSFT', 'XOM']  \n",
       "3            23432.22          45454  ['V', 'GOOGL', 'JNJ', 'MSFT', 'XOM']  \n",
       "1              100.22            134       ['AMZN', 'AAPL', 'MSFT', 'JPM']  \n",
       "2            23432.22          45454       ['AVGO', 'AAPL', 'MSFT', 'XOM']  "
      ]
     },
     "execution_count": 80,
     "metadata": {},
     "output_type": "execute_result"
    }
   ],
   "source": [
    "#Sort user portfolio table to get new ranking. Sort by descending since higher sharpe ratio the better \n",
    "sorted_user_data_df = user_data_df.sort_values(by='Sharpe_Ratio', ascending=False)\n",
    "\n",
    "#Rank AFTER rank is updated  \n",
    "sorted_user_data_df.head()\n"
   ]
  },
  {
   "cell_type": "code",
   "execution_count": 82,
   "id": "3a87a2e1",
   "metadata": {},
   "outputs": [],
   "source": [
    "#Save new rank to user User_Portfolio_Data.csv Write the updated DataFrame back to the CSV file\n",
    "\n",
    "sorted_user_data_df.to_csv(user_data_to_load, index=False)\n",
    "\n",
    "#have to re-import the user portfolio data to get updated sorted list \n",
    "user_data_df = pd.read_csv(user_data_to_load, header=0, parse_dates=True)\n",
    "user_data_df.sort_index(ascending = True, inplace = True)"
   ]
  },
  {
   "cell_type": "code",
   "execution_count": 84,
   "id": "d734c7aa",
   "metadata": {},
   "outputs": [
    {
     "data": {
      "text/html": [
       "<div>\n",
       "<style scoped>\n",
       "    .dataframe tbody tr th:only-of-type {\n",
       "        vertical-align: middle;\n",
       "    }\n",
       "\n",
       "    .dataframe tbody tr th {\n",
       "        vertical-align: top;\n",
       "    }\n",
       "\n",
       "    .dataframe thead th {\n",
       "        text-align: right;\n",
       "    }\n",
       "</style>\n",
       "<table border=\"1\" class=\"dataframe\">\n",
       "  <thead>\n",
       "    <tr style=\"text-align: right;\">\n",
       "      <th></th>\n",
       "      <th>UUID</th>\n",
       "      <th>User_Name</th>\n",
       "      <th>Sharpe_Ratio</th>\n",
       "      <th>Cumulative_Returns</th>\n",
       "      <th>Daily_Returns</th>\n",
       "      <th>Stocks</th>\n",
       "    </tr>\n",
       "  </thead>\n",
       "  <tbody>\n",
       "    <tr>\n",
       "      <th>0</th>\n",
       "      <td>951bb78a-dacb-4047-a255-2eb50314a9fd</td>\n",
       "      <td>Amy</td>\n",
       "      <td>4.43430</td>\n",
       "      <td>23432.22</td>\n",
       "      <td>45454</td>\n",
       "      <td>['V', 'GOOGL', 'JNJ', 'MSFT', 'XOM']</td>\n",
       "    </tr>\n",
       "    <tr>\n",
       "      <th>1</th>\n",
       "      <td>56a3ba9e-7b6d-4376-a6d8-ffd2f42cee9d</td>\n",
       "      <td>Chris</td>\n",
       "      <td>3.11234</td>\n",
       "      <td>23432.22</td>\n",
       "      <td>45454</td>\n",
       "      <td>['AVGO', 'AAPL', 'MSFT', 'XOM']</td>\n",
       "    </tr>\n",
       "    <tr>\n",
       "      <th>2</th>\n",
       "      <td>951bb78a-dacb-4047-a255-2eb50314a9fd</td>\n",
       "      <td>Amy</td>\n",
       "      <td>3.11234</td>\n",
       "      <td>23432.22</td>\n",
       "      <td>45454</td>\n",
       "      <td>['V', 'GOOGL', 'JNJ', 'MSFT', 'XOM']</td>\n",
       "    </tr>\n",
       "    <tr>\n",
       "      <th>3</th>\n",
       "      <td>2526a1f9-0f46-4b73-a0aa-ac9f5920e3d9</td>\n",
       "      <td>JJ</td>\n",
       "      <td>2.11000</td>\n",
       "      <td>100.22</td>\n",
       "      <td>134</td>\n",
       "      <td>['AMZN', 'AAPL', 'MSFT', 'JPM']</td>\n",
       "    </tr>\n",
       "    <tr>\n",
       "      <th>4</th>\n",
       "      <td>56a3ba9e-7b6d-4376-a6d8-ffd2f42cee9d</td>\n",
       "      <td>Chris</td>\n",
       "      <td>1.11234</td>\n",
       "      <td>23432.22</td>\n",
       "      <td>45454</td>\n",
       "      <td>['AVGO', 'AAPL', 'MSFT', 'XOM']</td>\n",
       "    </tr>\n",
       "  </tbody>\n",
       "</table>\n",
       "</div>"
      ],
      "text/plain": [
       "                                   UUID User_Name  Sharpe_Ratio  \\\n",
       "0  951bb78a-dacb-4047-a255-2eb50314a9fd       Amy       4.43430   \n",
       "1  56a3ba9e-7b6d-4376-a6d8-ffd2f42cee9d    Chris        3.11234   \n",
       "2  951bb78a-dacb-4047-a255-2eb50314a9fd       Amy       3.11234   \n",
       "3  2526a1f9-0f46-4b73-a0aa-ac9f5920e3d9        JJ       2.11000   \n",
       "4  56a3ba9e-7b6d-4376-a6d8-ffd2f42cee9d    Chris        1.11234   \n",
       "\n",
       "   Cumulative_Returns  Daily_Returns                                Stocks  \n",
       "0            23432.22          45454  ['V', 'GOOGL', 'JNJ', 'MSFT', 'XOM']  \n",
       "1            23432.22          45454       ['AVGO', 'AAPL', 'MSFT', 'XOM']  \n",
       "2            23432.22          45454  ['V', 'GOOGL', 'JNJ', 'MSFT', 'XOM']  \n",
       "3              100.22            134       ['AMZN', 'AAPL', 'MSFT', 'JPM']  \n",
       "4            23432.22          45454       ['AVGO', 'AAPL', 'MSFT', 'XOM']  "
      ]
     },
     "execution_count": 84,
     "metadata": {},
     "output_type": "execute_result"
    }
   ],
   "source": [
    "#User Ranking of top 5 AFTER rank is updated  \n",
    "\n",
    "user_data_df.head()"
   ]
  },
  {
   "cell_type": "code",
   "execution_count": 85,
   "id": "46570cdb",
   "metadata": {},
   "outputs": [
    {
     "name": "stdout",
     "output_type": "stream",
     "text": [
      "Amy, your rank is 1\n"
     ]
    }
   ],
   "source": [
    "# Grab Postition of User Ranking \n",
    "\n",
    "condition = user_data_df['UUID'] == user_uuid_str\n",
    "matching_rows = user_data_df[condition]\n",
    "\n",
    "# Get the index of the first matching row (if any)\n",
    "if not matching_rows.empty:\n",
    "    row_index = matching_rows.index[0]\n",
    "#     print(f\"Index of the row: {row_index}\")\n",
    "    print(f\"{name}, your rank is {row_index + 1}\" )\n",
    "else:\n",
    "    print(\"Error, user info not found\")\n",
    "    \n"
   ]
  },
  {
   "cell_type": "markdown",
   "id": "41136f8a",
   "metadata": {},
   "source": [
    "# Visulization "
   ]
  },
  {
   "cell_type": "code",
   "execution_count": null,
   "id": "a93f45a6",
   "metadata": {},
   "outputs": [],
   "source": []
  },
  {
   "cell_type": "code",
   "execution_count": null,
   "id": "c7762283",
   "metadata": {},
   "outputs": [],
   "source": []
  }
 ],
 "metadata": {
  "kernelspec": {
   "display_name": "python3_data",
   "language": "python",
   "name": "python3_data"
  },
  "language_info": {
   "codemirror_mode": {
    "name": "ipython",
    "version": 3
   },
   "file_extension": ".py",
   "mimetype": "text/x-python",
   "name": "python",
   "nbconvert_exporter": "python",
   "pygments_lexer": "ipython3",
   "version": "3.9.7"
  }
 },
 "nbformat": 4,
 "nbformat_minor": 5
}
